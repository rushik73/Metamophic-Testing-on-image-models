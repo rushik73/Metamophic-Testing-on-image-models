{
 "cells": [
  {
   "cell_type": "code",
   "execution_count": 1,
   "id": "ada89ebf-91c9-4bbd-b23d-22cc0e7720a0",
   "metadata": {},
   "outputs": [],
   "source": [
    "import os\n",
    "import torch\n",
    "import torchvision\n",
    "import torchvision.transforms as transforms\n",
    "import torch.optim as optim\n",
    "import time\n",
    "import torch.nn.functional as F\n",
    "import torch.nn as nn\n",
    "import matplotlib.pyplot as plt\n",
    "from torchvision import models\n",
    "from sklearn.metrics import accuracy_score, precision_score, recall_score, f1_score\n",
    "from torchvision.models import AlexNet_Weights\n",
    "from tqdm import tqdm"
   ]
  },
  {
   "cell_type": "code",
   "execution_count": 2,
   "id": "129c42d6-86d9-40e4-9f2c-6a2742875d23",
   "metadata": {},
   "outputs": [
    {
     "name": "stdout",
     "output_type": "stream",
     "text": [
      "cuda\n",
      "Files already downloaded and verified\n",
      "Files already downloaded and verified\n"
     ]
    }
   ],
   "source": [
    "device = 'cuda' if torch.cuda.is_available() else 'cpu'\n",
    "print(device)\n",
    "\n",
    "\n",
    "transform = transforms.Compose(\n",
    "    [transforms.Resize((224, 224)),\n",
    "     transforms.ToTensor(),\n",
    "     transforms.Normalize((0.4914, 0.4822, 0.447), (0.247, 0.243, 0.262))])\n",
    "trainset = torchvision.datasets.CIFAR10(root='./data', train=True,\n",
    "                                        download=True, transform=transform)\n",
    "trainloader = torch.utils.data.DataLoader(trainset, batch_size=32,\n",
    "                                          shuffle=True)\n",
    "testset = torchvision.datasets.CIFAR10(root='./data', train=False,\n",
    "                                       download=True, transform=transform)\n",
    "testloader = torch.utils.data.DataLoader(testset, batch_size=32,\n",
    "                                         shuffle=False)"
   ]
  },
  {
   "cell_type": "code",
   "execution_count": 3,
   "id": "46c3dce1-62da-41e1-841c-b1e7645cdb2a",
   "metadata": {},
   "outputs": [
    {
     "name": "stdout",
     "output_type": "stream",
     "text": [
      "AlexNet(\n",
      "  (features): Sequential(\n",
      "    (0): Conv2d(3, 64, kernel_size=(11, 11), stride=(4, 4), padding=(2, 2))\n",
      "    (1): ReLU(inplace=True)\n",
      "    (2): MaxPool2d(kernel_size=3, stride=2, padding=0, dilation=1, ceil_mode=False)\n",
      "    (3): Conv2d(64, 192, kernel_size=(5, 5), stride=(1, 1), padding=(2, 2))\n",
      "    (4): ReLU(inplace=True)\n",
      "    (5): MaxPool2d(kernel_size=3, stride=2, padding=0, dilation=1, ceil_mode=False)\n",
      "    (6): Conv2d(192, 384, kernel_size=(3, 3), stride=(1, 1), padding=(1, 1))\n",
      "    (7): ReLU(inplace=True)\n",
      "    (8): Conv2d(384, 256, kernel_size=(3, 3), stride=(1, 1), padding=(1, 1))\n",
      "    (9): ReLU(inplace=True)\n",
      "    (10): Conv2d(256, 256, kernel_size=(3, 3), stride=(1, 1), padding=(1, 1))\n",
      "    (11): ReLU(inplace=True)\n",
      "    (12): MaxPool2d(kernel_size=3, stride=2, padding=0, dilation=1, ceil_mode=False)\n",
      "  )\n",
      "  (avgpool): AdaptiveAvgPool2d(output_size=(6, 6))\n",
      "  (classifier): Sequential(\n",
      "    (0): Dropout(p=0.5, inplace=False)\n",
      "    (1): Linear(in_features=9216, out_features=4096, bias=True)\n",
      "    (2): ReLU(inplace=True)\n",
      "    (3): Dropout(p=0.5, inplace=False)\n",
      "    (4): Linear(in_features=4096, out_features=4096, bias=True)\n",
      "    (5): ReLU(inplace=True)\n",
      "    (6): Linear(in_features=4096, out_features=10, bias=True)\n",
      "  )\n",
      ")\n"
     ]
    }
   ],
   "source": [
    "AlexNet = models.alexnet(weights=AlexNet_Weights.DEFAULT)\n",
    "AlexNet.classifier[6] = nn.Linear(4096, 10)\n",
    "AlexNet.to(device)\n",
    "print(AlexNet)"
   ]
  },
  {
   "cell_type": "code",
   "execution_count": 5,
   "id": "4e225fa3-0334-4329-b719-8581efbeabdb",
   "metadata": {},
   "outputs": [],
   "source": [
    "# optimizer\n",
    "optimizer = optim.SGD(AlexNet.classifier.parameters(), lr=0.001, momentum=0.9)\n",
    "# loss function\n",
    "criterion = nn.CrossEntropyLoss()"
   ]
  },
  {
   "cell_type": "code",
   "execution_count": 6,
   "id": "195d63ec-0385-493b-b796-13e3e7533fc9",
   "metadata": {},
   "outputs": [],
   "source": [
    "#transformations for metamorphic testing\n",
    "transformations = [\n",
    "    transforms.RandomRotation(degrees=10),  # Small rotation\n",
    "    transforms.ColorJitter(brightness=0.2),  # Slight brightness change\n",
    "    transforms.RandomAffine(degrees=0, translate=(0.1, 0.1))  # Small translation\n",
    "]"
   ]
  },
  {
   "cell_type": "code",
   "execution_count": 7,
   "id": "5c113c22-e9d7-426f-99bc-78c2949461dd",
   "metadata": {},
   "outputs": [],
   "source": [
    "# Validation Function\n",
    "def validate(model, test_dataloader):\n",
    "    model.eval()\n",
    "    val_running_loss = 0.0\n",
    "    val_running_correct = 0\n",
    "    all_preds = []\n",
    "    all_targets = []\n",
    "    with torch.no_grad():\n",
    "        for data, target in tqdm(test_dataloader):\n",
    "            data, target = data.to(device), target.to(device)\n",
    "            output = model(data)\n",
    "            loss = criterion(output, target)\n",
    "            val_running_loss += loss.item()\n",
    "            _, preds = torch.max(output.data, 1)\n",
    "            val_running_correct += (preds == target).sum().item()\n",
    "            all_preds.extend(preds.cpu().numpy())\n",
    "            all_targets.extend(target.cpu().numpy())\n",
    "    \n",
    "    val_loss = val_running_loss / len(test_dataloader.dataset)\n",
    "    val_accuracy = 100. * val_running_correct / len(test_dataloader.dataset)\n",
    "    \n",
    "    # Calculate metrics\n",
    "    precision = precision_score(all_targets, all_preds, average='weighted')\n",
    "    recall = recall_score(all_targets, all_preds, average='weighted')\n",
    "    f1 = f1_score(all_targets, all_preds, average='weighted')\n",
    "    \n",
    "    return val_loss, val_accuracy, precision, recall, f1"
   ]
  },
  {
   "cell_type": "code",
   "execution_count": 8,
   "id": "03a1304d-f134-4db5-b3ea-88bd9fa82f19",
   "metadata": {},
   "outputs": [],
   "source": [
    "def fit(model, train_dataloader):\n",
    "    model.train()\n",
    "    train_running_loss = 0.0\n",
    "    train_running_correct = 0\n",
    "    for  data, target in tqdm(train_dataloader):\n",
    "        data, target = data.to(device), target.to(device)\n",
    "        optimizer.zero_grad()\n",
    "        output = model(data)\n",
    "        loss = criterion(output, target)\n",
    "        train_running_loss += loss.item()\n",
    "        _, preds = torch.max(output.data, 1)\n",
    "        train_running_correct += (preds == target).sum().item()\n",
    "        loss.backward()\n",
    "        optimizer.step()\n",
    "    train_loss = train_running_loss/len(train_dataloader.dataset)\n",
    "    train_accuracy = 100. * train_running_correct/len(train_dataloader.dataset)\n",
    "    print(f'Train Loss: {train_loss:.4f}, Train Acc: {train_accuracy:.2f}')\n",
    "    \n",
    "    return train_loss, train_accuracy"
   ]
  },
  {
   "cell_type": "code",
   "execution_count": 9,
   "id": "1d97e7a6-7cca-441c-965b-9889046ad584",
   "metadata": {},
   "outputs": [
    {
     "name": "stderr",
     "output_type": "stream",
     "text": [
      "  1%|▍                                                            | 2/313 [00:00<01:29,  3.47it/s]"
     ]
    },
    {
     "name": "stdout",
     "output_type": "stream",
     "text": [
      "Batch 0 | Reject Differential (mean over batch): 0.0362\n",
      "Batch 0 | Reject Differential (mean over batch): 0.0637\n",
      "Batch 0 | Reject Differential (mean over batch): 0.0422\n",
      "Batch 1 | Reject Differential (mean over batch): 0.0363\n",
      "Batch 1 | Reject Differential (mean over batch): 0.0486\n",
      "Batch 1 | Reject Differential (mean over batch): 0.0410\n"
     ]
    },
    {
     "name": "stderr",
     "output_type": "stream",
     "text": [
      "  1%|▌                                                            | 3/313 [00:00<01:13,  4.21it/s]"
     ]
    },
    {
     "name": "stdout",
     "output_type": "stream",
     "text": [
      "Batch 2 | Reject Differential (mean over batch): 0.0511\n",
      "Batch 2 | Reject Differential (mean over batch): 0.0554\n",
      "Batch 2 | Reject Differential (mean over batch): 0.0576\n",
      "Batch 3 | Reject Differential (mean over batch): 0.0699\n"
     ]
    },
    {
     "name": "stderr",
     "output_type": "stream",
     "text": [
      "  2%|▉                                                            | 5/313 [00:01<00:57,  5.32it/s]"
     ]
    },
    {
     "name": "stdout",
     "output_type": "stream",
     "text": [
      "Batch 3 | Reject Differential (mean over batch): 0.0714\n",
      "Batch 3 | Reject Differential (mean over batch): 0.0658\n",
      "Batch 4 | Reject Differential (mean over batch): 0.0457\n",
      "Batch 4 | Reject Differential (mean over batch): 0.0633\n",
      "Batch 4 | Reject Differential (mean over batch): 0.0466\n"
     ]
    },
    {
     "name": "stderr",
     "output_type": "stream",
     "text": [
      "  2%|█▎                                                           | 7/313 [00:01<00:50,  6.06it/s]"
     ]
    },
    {
     "name": "stdout",
     "output_type": "stream",
     "text": [
      "Batch 5 | Reject Differential (mean over batch): 0.0600\n",
      "Batch 5 | Reject Differential (mean over batch): 0.0602\n",
      "Batch 5 | Reject Differential (mean over batch): 0.0581\n",
      "Batch 6 | Reject Differential (mean over batch): 0.0591\n",
      "Batch 6 | Reject Differential (mean over batch): 0.0560\n",
      "Batch 6 | Reject Differential (mean over batch): 0.0471\n"
     ]
    },
    {
     "name": "stderr",
     "output_type": "stream",
     "text": [
      "  3%|█▊                                                           | 9/313 [00:01<00:45,  6.74it/s]"
     ]
    },
    {
     "name": "stdout",
     "output_type": "stream",
     "text": [
      "Batch 7 | Reject Differential (mean over batch): 0.0536\n",
      "Batch 7 | Reject Differential (mean over batch): 0.0600\n",
      "Batch 7 | Reject Differential (mean over batch): 0.0386\n",
      "Batch 8 | Reject Differential (mean over batch): 0.0697\n",
      "Batch 8 | Reject Differential (mean over batch): 0.0824\n",
      "Batch 8 | Reject Differential (mean over batch): 0.0605\n"
     ]
    },
    {
     "name": "stderr",
     "output_type": "stream",
     "text": [
      "  4%|██                                                          | 11/313 [00:01<00:42,  7.15it/s]"
     ]
    },
    {
     "name": "stdout",
     "output_type": "stream",
     "text": [
      "Batch 9 | Reject Differential (mean over batch): 0.0534\n",
      "Batch 9 | Reject Differential (mean over batch): 0.0671\n",
      "Batch 9 | Reject Differential (mean over batch): 0.0562\n",
      "Batch 10 | Reject Differential (mean over batch): 0.0372\n",
      "Batch 10 | Reject Differential (mean over batch): 0.0559\n",
      "Batch 10 | Reject Differential (mean over batch): 0.0417\n"
     ]
    },
    {
     "name": "stderr",
     "output_type": "stream",
     "text": [
      "  4%|██▍                                                         | 13/313 [00:02<00:39,  7.60it/s]"
     ]
    },
    {
     "name": "stdout",
     "output_type": "stream",
     "text": [
      "Batch 11 | Reject Differential (mean over batch): 0.0521\n",
      "Batch 11 | Reject Differential (mean over batch): 0.0693\n",
      "Batch 11 | Reject Differential (mean over batch): 0.0486\n",
      "Batch 12 | Reject Differential (mean over batch): 0.0599\n",
      "Batch 12 | Reject Differential (mean over batch): 0.0636\n",
      "Batch 12 | Reject Differential (mean over batch): 0.0453\n"
     ]
    },
    {
     "name": "stderr",
     "output_type": "stream",
     "text": [
      "  5%|██▉                                                         | 15/313 [00:02<00:37,  8.03it/s]"
     ]
    },
    {
     "name": "stdout",
     "output_type": "stream",
     "text": [
      "Batch 13 | Reject Differential (mean over batch): 0.0579\n",
      "Batch 13 | Reject Differential (mean over batch): 0.0720\n",
      "Batch 13 | Reject Differential (mean over batch): 0.0552\n",
      "Batch 14 | Reject Differential (mean over batch): 0.0654\n",
      "Batch 14 | Reject Differential (mean over batch): 0.0754\n",
      "Batch 14 | Reject Differential (mean over batch): 0.0421\n"
     ]
    },
    {
     "name": "stderr",
     "output_type": "stream",
     "text": [
      "  5%|███▎                                                        | 17/313 [00:02<00:36,  8.06it/s]"
     ]
    },
    {
     "name": "stdout",
     "output_type": "stream",
     "text": [
      "Batch 15 | Reject Differential (mean over batch): 0.0641\n",
      "Batch 15 | Reject Differential (mean over batch): 0.0710\n",
      "Batch 15 | Reject Differential (mean over batch): 0.0488\n",
      "Batch 16 | Reject Differential (mean over batch): 0.0487\n",
      "Batch 16 | Reject Differential (mean over batch): 0.0699\n",
      "Batch 16 | Reject Differential (mean over batch): 0.0570\n"
     ]
    },
    {
     "name": "stderr",
     "output_type": "stream",
     "text": [
      "  6%|███▋                                                        | 19/313 [00:02<00:35,  8.27it/s]"
     ]
    },
    {
     "name": "stdout",
     "output_type": "stream",
     "text": [
      "Batch 17 | Reject Differential (mean over batch): 0.0638\n",
      "Batch 17 | Reject Differential (mean over batch): 0.0593\n",
      "Batch 17 | Reject Differential (mean over batch): 0.0444\n",
      "Batch 18 | Reject Differential (mean over batch): 0.0578\n",
      "Batch 18 | Reject Differential (mean over batch): 0.0511\n",
      "Batch 18 | Reject Differential (mean over batch): 0.0434\n"
     ]
    },
    {
     "name": "stderr",
     "output_type": "stream",
     "text": [
      "  7%|████                                                        | 21/313 [00:03<00:35,  8.23it/s]"
     ]
    },
    {
     "name": "stdout",
     "output_type": "stream",
     "text": [
      "Batch 19 | Reject Differential (mean over batch): 0.0529\n",
      "Batch 19 | Reject Differential (mean over batch): 0.0755\n",
      "Batch 19 | Reject Differential (mean over batch): 0.0529\n",
      "Batch 20 | Reject Differential (mean over batch): 0.0625\n",
      "Batch 20 | Reject Differential (mean over batch): 0.0630\n",
      "Batch 20 | Reject Differential (mean over batch): 0.0536\n"
     ]
    },
    {
     "name": "stderr",
     "output_type": "stream",
     "text": [
      "  7%|████▍                                                       | 23/313 [00:03<00:34,  8.44it/s]"
     ]
    },
    {
     "name": "stdout",
     "output_type": "stream",
     "text": [
      "Batch 21 | Reject Differential (mean over batch): 0.0367\n",
      "Batch 21 | Reject Differential (mean over batch): 0.0472\n",
      "Batch 21 | Reject Differential (mean over batch): 0.0425\n",
      "Batch 22 | Reject Differential (mean over batch): 0.0490\n",
      "Batch 22 | Reject Differential (mean over batch): 0.0680\n",
      "Batch 22 | Reject Differential (mean over batch): 0.0535\n"
     ]
    },
    {
     "name": "stderr",
     "output_type": "stream",
     "text": [
      "  8%|████▊                                                       | 25/313 [00:03<00:33,  8.50it/s]"
     ]
    },
    {
     "name": "stdout",
     "output_type": "stream",
     "text": [
      "Batch 23 | Reject Differential (mean over batch): 0.0953\n",
      "Batch 23 | Reject Differential (mean over batch): 0.0882\n",
      "Batch 23 | Reject Differential (mean over batch): 0.0719\n",
      "Batch 24 | Reject Differential (mean over batch): 0.0577\n",
      "Batch 24 | Reject Differential (mean over batch): 0.0769\n",
      "Batch 24 | Reject Differential (mean over batch): 0.0506\n"
     ]
    },
    {
     "name": "stderr",
     "output_type": "stream",
     "text": [
      "  9%|█████▏                                                      | 27/313 [00:03<00:33,  8.52it/s]"
     ]
    },
    {
     "name": "stdout",
     "output_type": "stream",
     "text": [
      "Batch 25 | Reject Differential (mean over batch): 0.0441\n",
      "Batch 25 | Reject Differential (mean over batch): 0.0503\n",
      "Batch 25 | Reject Differential (mean over batch): 0.0448\n",
      "Batch 26 | Reject Differential (mean over batch): 0.0627\n",
      "Batch 26 | Reject Differential (mean over batch): 0.0550\n",
      "Batch 26 | Reject Differential (mean over batch): 0.0445\n"
     ]
    },
    {
     "name": "stderr",
     "output_type": "stream",
     "text": [
      "  9%|█████▌                                                      | 29/313 [00:04<00:34,  8.25it/s]"
     ]
    },
    {
     "name": "stdout",
     "output_type": "stream",
     "text": [
      "Batch 27 | Reject Differential (mean over batch): 0.0378\n",
      "Batch 27 | Reject Differential (mean over batch): 0.0531\n",
      "Batch 27 | Reject Differential (mean over batch): 0.0334\n",
      "Batch 28 | Reject Differential (mean over batch): 0.0457\n",
      "Batch 28 | Reject Differential (mean over batch): 0.0484\n",
      "Batch 28 | Reject Differential (mean over batch): 0.0480\n"
     ]
    },
    {
     "name": "stderr",
     "output_type": "stream",
     "text": [
      " 10%|█████▉                                                      | 31/313 [00:04<00:33,  8.36it/s]"
     ]
    },
    {
     "name": "stdout",
     "output_type": "stream",
     "text": [
      "Batch 29 | Reject Differential (mean over batch): 0.0626\n",
      "Batch 29 | Reject Differential (mean over batch): 0.0560\n",
      "Batch 29 | Reject Differential (mean over batch): 0.0461\n",
      "Batch 30 | Reject Differential (mean over batch): 0.0485\n",
      "Batch 30 | Reject Differential (mean over batch): 0.0556\n",
      "Batch 30 | Reject Differential (mean over batch): 0.0525\n"
     ]
    },
    {
     "name": "stderr",
     "output_type": "stream",
     "text": [
      " 11%|██████▎                                                     | 33/313 [00:04<00:33,  8.48it/s]"
     ]
    },
    {
     "name": "stdout",
     "output_type": "stream",
     "text": [
      "Batch 31 | Reject Differential (mean over batch): 0.0538\n",
      "Batch 31 | Reject Differential (mean over batch): 0.0639\n",
      "Batch 31 | Reject Differential (mean over batch): 0.0520\n",
      "Batch 32 | Reject Differential (mean over batch): 0.0590\n",
      "Batch 32 | Reject Differential (mean over batch): 0.0746\n",
      "Batch 32 | Reject Differential (mean over batch): 0.0578\n"
     ]
    },
    {
     "name": "stderr",
     "output_type": "stream",
     "text": [
      " 11%|██████▋                                                     | 35/313 [00:04<00:33,  8.37it/s]"
     ]
    },
    {
     "name": "stdout",
     "output_type": "stream",
     "text": [
      "Batch 33 | Reject Differential (mean over batch): 0.0629\n",
      "Batch 33 | Reject Differential (mean over batch): 0.0665\n",
      "Batch 33 | Reject Differential (mean over batch): 0.0427\n",
      "Batch 34 | Reject Differential (mean over batch): 0.0796\n",
      "Batch 34 | Reject Differential (mean over batch): 0.0944\n",
      "Batch 34 | Reject Differential (mean over batch): 0.0553\n"
     ]
    },
    {
     "name": "stderr",
     "output_type": "stream",
     "text": [
      " 12%|███████                                                     | 37/313 [00:05<00:33,  8.30it/s]"
     ]
    },
    {
     "name": "stdout",
     "output_type": "stream",
     "text": [
      "Batch 35 | Reject Differential (mean over batch): 0.0638\n",
      "Batch 35 | Reject Differential (mean over batch): 0.0740\n",
      "Batch 35 | Reject Differential (mean over batch): 0.0582\n",
      "Batch 36 | Reject Differential (mean over batch): 0.0678\n",
      "Batch 36 | Reject Differential (mean over batch): 0.0683\n",
      "Batch 36 | Reject Differential (mean over batch): 0.0696\n"
     ]
    },
    {
     "name": "stderr",
     "output_type": "stream",
     "text": [
      " 12%|███████▍                                                    | 39/313 [00:05<00:32,  8.35it/s]"
     ]
    },
    {
     "name": "stdout",
     "output_type": "stream",
     "text": [
      "Batch 37 | Reject Differential (mean over batch): 0.0773\n",
      "Batch 37 | Reject Differential (mean over batch): 0.0777\n",
      "Batch 37 | Reject Differential (mean over batch): 0.0548\n",
      "Batch 38 | Reject Differential (mean over batch): 0.0567\n",
      "Batch 38 | Reject Differential (mean over batch): 0.0495\n",
      "Batch 38 | Reject Differential (mean over batch): 0.0428\n"
     ]
    },
    {
     "name": "stderr",
     "output_type": "stream",
     "text": [
      " 13%|███████▊                                                    | 41/313 [00:05<00:32,  8.27it/s]"
     ]
    },
    {
     "name": "stdout",
     "output_type": "stream",
     "text": [
      "Batch 39 | Reject Differential (mean over batch): 0.0591\n",
      "Batch 39 | Reject Differential (mean over batch): 0.0674\n",
      "Batch 39 | Reject Differential (mean over batch): 0.0478\n",
      "Batch 40 | Reject Differential (mean over batch): 0.0434\n",
      "Batch 40 | Reject Differential (mean over batch): 0.0544\n",
      "Batch 40 | Reject Differential (mean over batch): 0.0399\n"
     ]
    },
    {
     "name": "stderr",
     "output_type": "stream",
     "text": [
      " 14%|████████▏                                                   | 43/313 [00:05<00:32,  8.37it/s]"
     ]
    },
    {
     "name": "stdout",
     "output_type": "stream",
     "text": [
      "Batch 41 | Reject Differential (mean over batch): 0.0558\n",
      "Batch 41 | Reject Differential (mean over batch): 0.0627\n",
      "Batch 41 | Reject Differential (mean over batch): 0.0516\n",
      "Batch 42 | Reject Differential (mean over batch): 0.0757\n",
      "Batch 42 | Reject Differential (mean over batch): 0.0753\n",
      "Batch 42 | Reject Differential (mean over batch): 0.0530\n"
     ]
    },
    {
     "name": "stderr",
     "output_type": "stream",
     "text": [
      " 14%|████████▋                                                   | 45/313 [00:06<00:34,  7.73it/s]"
     ]
    },
    {
     "name": "stdout",
     "output_type": "stream",
     "text": [
      "Batch 43 | Reject Differential (mean over batch): 0.0584\n",
      "Batch 43 | Reject Differential (mean over batch): 0.0672\n",
      "Batch 43 | Reject Differential (mean over batch): 0.0602\n",
      "Batch 44 | Reject Differential (mean over batch): 0.0588\n",
      "Batch 44 | Reject Differential (mean over batch): 0.0513\n",
      "Batch 44 | Reject Differential (mean over batch): 0.0465\n"
     ]
    },
    {
     "name": "stderr",
     "output_type": "stream",
     "text": [
      " 15%|█████████                                                   | 47/313 [00:06<00:34,  7.68it/s]"
     ]
    },
    {
     "name": "stdout",
     "output_type": "stream",
     "text": [
      "Batch 45 | Reject Differential (mean over batch): 0.0509\n",
      "Batch 45 | Reject Differential (mean over batch): 0.0495\n",
      "Batch 45 | Reject Differential (mean over batch): 0.0364\n",
      "Batch 46 | Reject Differential (mean over batch): 0.0522\n",
      "Batch 46 | Reject Differential (mean over batch): 0.0732\n",
      "Batch 46 | Reject Differential (mean over batch): 0.0409\n"
     ]
    },
    {
     "name": "stderr",
     "output_type": "stream",
     "text": [
      " 16%|█████████▍                                                  | 49/313 [00:06<00:34,  7.76it/s]"
     ]
    },
    {
     "name": "stdout",
     "output_type": "stream",
     "text": [
      "Batch 47 | Reject Differential (mean over batch): 0.0499\n",
      "Batch 47 | Reject Differential (mean over batch): 0.0600\n",
      "Batch 47 | Reject Differential (mean over batch): 0.0603\n",
      "Batch 48 | Reject Differential (mean over batch): 0.0512\n",
      "Batch 48 | Reject Differential (mean over batch): 0.0651\n",
      "Batch 48 | Reject Differential (mean over batch): 0.0550\n"
     ]
    },
    {
     "name": "stderr",
     "output_type": "stream",
     "text": [
      " 16%|█████████▊                                                  | 51/313 [00:06<00:32,  8.14it/s]"
     ]
    },
    {
     "name": "stdout",
     "output_type": "stream",
     "text": [
      "Batch 49 | Reject Differential (mean over batch): 0.0508\n",
      "Batch 49 | Reject Differential (mean over batch): 0.0563\n",
      "Batch 49 | Reject Differential (mean over batch): 0.0530\n",
      "Batch 50 | Reject Differential (mean over batch): 0.0806\n",
      "Batch 50 | Reject Differential (mean over batch): 0.0853\n",
      "Batch 50 | Reject Differential (mean over batch): 0.0526\n"
     ]
    },
    {
     "name": "stderr",
     "output_type": "stream",
     "text": [
      " 17%|██████████▏                                                 | 53/313 [00:07<00:30,  8.39it/s]"
     ]
    },
    {
     "name": "stdout",
     "output_type": "stream",
     "text": [
      "Batch 51 | Reject Differential (mean over batch): 0.0465\n",
      "Batch 51 | Reject Differential (mean over batch): 0.0624\n",
      "Batch 51 | Reject Differential (mean over batch): 0.0452\n",
      "Batch 52 | Reject Differential (mean over batch): 0.0646\n",
      "Batch 52 | Reject Differential (mean over batch): 0.0688\n",
      "Batch 52 | Reject Differential (mean over batch): 0.0455\n"
     ]
    },
    {
     "name": "stderr",
     "output_type": "stream",
     "text": [
      " 18%|██████████▌                                                 | 55/313 [00:07<00:30,  8.40it/s]"
     ]
    },
    {
     "name": "stdout",
     "output_type": "stream",
     "text": [
      "Batch 53 | Reject Differential (mean over batch): 0.0496\n",
      "Batch 53 | Reject Differential (mean over batch): 0.0863\n",
      "Batch 53 | Reject Differential (mean over batch): 0.0777\n",
      "Batch 54 | Reject Differential (mean over batch): 0.0572\n",
      "Batch 54 | Reject Differential (mean over batch): 0.0668\n",
      "Batch 54 | Reject Differential (mean over batch): 0.0527\n"
     ]
    },
    {
     "name": "stderr",
     "output_type": "stream",
     "text": [
      " 18%|██████████▉                                                 | 57/313 [00:07<00:29,  8.74it/s]"
     ]
    },
    {
     "name": "stdout",
     "output_type": "stream",
     "text": [
      "Batch 55 | Reject Differential (mean over batch): 0.0449\n",
      "Batch 55 | Reject Differential (mean over batch): 0.0529\n",
      "Batch 55 | Reject Differential (mean over batch): 0.0452\n",
      "Batch 56 | Reject Differential (mean over batch): 0.0623\n",
      "Batch 56 | Reject Differential (mean over batch): 0.0539\n",
      "Batch 56 | Reject Differential (mean over batch): 0.0497\n"
     ]
    },
    {
     "name": "stderr",
     "output_type": "stream",
     "text": [
      " 19%|███████████▎                                                | 59/313 [00:07<00:28,  8.94it/s]"
     ]
    },
    {
     "name": "stdout",
     "output_type": "stream",
     "text": [
      "Batch 57 | Reject Differential (mean over batch): 0.0387\n",
      "Batch 57 | Reject Differential (mean over batch): 0.0569\n",
      "Batch 57 | Reject Differential (mean over batch): 0.0494\n",
      "Batch 58 | Reject Differential (mean over batch): 0.0394\n",
      "Batch 58 | Reject Differential (mean over batch): 0.0486\n",
      "Batch 58 | Reject Differential (mean over batch): 0.0392\n"
     ]
    },
    {
     "name": "stderr",
     "output_type": "stream",
     "text": [
      " 19%|███████████▋                                                | 61/313 [00:07<00:28,  8.88it/s]"
     ]
    },
    {
     "name": "stdout",
     "output_type": "stream",
     "text": [
      "Batch 59 | Reject Differential (mean over batch): 0.0451\n",
      "Batch 59 | Reject Differential (mean over batch): 0.0841\n",
      "Batch 59 | Reject Differential (mean over batch): 0.0632\n",
      "Batch 60 | Reject Differential (mean over batch): 0.0380\n",
      "Batch 60 | Reject Differential (mean over batch): 0.0435\n",
      "Batch 60 | Reject Differential (mean over batch): 0.0298\n"
     ]
    },
    {
     "name": "stderr",
     "output_type": "stream",
     "text": [
      " 20%|████████████                                                | 63/313 [00:08<00:27,  9.11it/s]"
     ]
    },
    {
     "name": "stdout",
     "output_type": "stream",
     "text": [
      "Batch 61 | Reject Differential (mean over batch): 0.0666\n",
      "Batch 61 | Reject Differential (mean over batch): 0.0847\n",
      "Batch 61 | Reject Differential (mean over batch): 0.0493\n",
      "Batch 62 | Reject Differential (mean over batch): 0.0398\n",
      "Batch 62 | Reject Differential (mean over batch): 0.0475\n",
      "Batch 62 | Reject Differential (mean over batch): 0.0425\n"
     ]
    },
    {
     "name": "stderr",
     "output_type": "stream",
     "text": [
      " 21%|████████████▍                                               | 65/313 [00:08<00:27,  9.01it/s]"
     ]
    },
    {
     "name": "stdout",
     "output_type": "stream",
     "text": [
      "Batch 63 | Reject Differential (mean over batch): 0.0570\n",
      "Batch 63 | Reject Differential (mean over batch): 0.0879\n",
      "Batch 63 | Reject Differential (mean over batch): 0.0470\n",
      "Batch 64 | Reject Differential (mean over batch): 0.0421\n",
      "Batch 64 | Reject Differential (mean over batch): 0.0367\n",
      "Batch 64 | Reject Differential (mean over batch): 0.0325\n"
     ]
    },
    {
     "name": "stderr",
     "output_type": "stream",
     "text": [
      " 21%|████████████▊                                               | 67/313 [00:08<00:26,  9.15it/s]"
     ]
    },
    {
     "name": "stdout",
     "output_type": "stream",
     "text": [
      "Batch 65 | Reject Differential (mean over batch): 0.0451\n",
      "Batch 65 | Reject Differential (mean over batch): 0.0649\n",
      "Batch 65 | Reject Differential (mean over batch): 0.0478\n",
      "Batch 66 | Reject Differential (mean over batch): 0.0474\n",
      "Batch 66 | Reject Differential (mean over batch): 0.0714\n",
      "Batch 66 | Reject Differential (mean over batch): 0.0584\n"
     ]
    },
    {
     "name": "stderr",
     "output_type": "stream",
     "text": [
      " 22%|█████████████▏                                              | 69/313 [00:08<00:26,  9.24it/s]"
     ]
    },
    {
     "name": "stdout",
     "output_type": "stream",
     "text": [
      "Batch 67 | Reject Differential (mean over batch): 0.0558\n",
      "Batch 67 | Reject Differential (mean over batch): 0.0713\n",
      "Batch 67 | Reject Differential (mean over batch): 0.0504\n",
      "Batch 68 | Reject Differential (mean over batch): 0.0529\n",
      "Batch 68 | Reject Differential (mean over batch): 0.1139\n",
      "Batch 68 | Reject Differential (mean over batch): 0.0806\n"
     ]
    },
    {
     "name": "stderr",
     "output_type": "stream",
     "text": [
      " 23%|█████████████▌                                              | 71/313 [00:09<00:28,  8.64it/s]"
     ]
    },
    {
     "name": "stdout",
     "output_type": "stream",
     "text": [
      "Batch 69 | Reject Differential (mean over batch): 0.0557\n",
      "Batch 69 | Reject Differential (mean over batch): 0.0575\n",
      "Batch 69 | Reject Differential (mean over batch): 0.0476\n",
      "Batch 70 | Reject Differential (mean over batch): 0.0571\n",
      "Batch 70 | Reject Differential (mean over batch): 0.0658\n",
      "Batch 70 | Reject Differential (mean over batch): 0.0548\n"
     ]
    },
    {
     "name": "stderr",
     "output_type": "stream",
     "text": [
      " 23%|█████████████▉                                              | 73/313 [00:09<00:26,  8.97it/s]"
     ]
    },
    {
     "name": "stdout",
     "output_type": "stream",
     "text": [
      "Batch 71 | Reject Differential (mean over batch): 0.0578\n",
      "Batch 71 | Reject Differential (mean over batch): 0.0620\n",
      "Batch 71 | Reject Differential (mean over batch): 0.0405\n",
      "Batch 72 | Reject Differential (mean over batch): 0.0463\n",
      "Batch 72 | Reject Differential (mean over batch): 0.0563\n",
      "Batch 72 | Reject Differential (mean over batch): 0.0403\n"
     ]
    },
    {
     "name": "stderr",
     "output_type": "stream",
     "text": [
      " 24%|██████████████▍                                             | 75/313 [00:09<00:25,  9.16it/s]"
     ]
    },
    {
     "name": "stdout",
     "output_type": "stream",
     "text": [
      "Batch 73 | Reject Differential (mean over batch): 0.0559\n",
      "Batch 73 | Reject Differential (mean over batch): 0.0791\n",
      "Batch 73 | Reject Differential (mean over batch): 0.0544\n",
      "Batch 74 | Reject Differential (mean over batch): 0.0590\n",
      "Batch 74 | Reject Differential (mean over batch): 0.0796\n",
      "Batch 74 | Reject Differential (mean over batch): 0.0458\n"
     ]
    },
    {
     "name": "stderr",
     "output_type": "stream",
     "text": [
      " 25%|██████████████▊                                             | 77/313 [00:09<00:25,  9.22it/s]"
     ]
    },
    {
     "name": "stdout",
     "output_type": "stream",
     "text": [
      "Batch 75 | Reject Differential (mean over batch): 0.0534\n",
      "Batch 75 | Reject Differential (mean over batch): 0.0605\n",
      "Batch 75 | Reject Differential (mean over batch): 0.0462\n",
      "Batch 76 | Reject Differential (mean over batch): 0.0596\n",
      "Batch 76 | Reject Differential (mean over batch): 0.0618\n",
      "Batch 76 | Reject Differential (mean over batch): 0.0528\n"
     ]
    },
    {
     "name": "stderr",
     "output_type": "stream",
     "text": [
      " 25%|███████████████▏                                            | 79/313 [00:09<00:25,  9.34it/s]"
     ]
    },
    {
     "name": "stdout",
     "output_type": "stream",
     "text": [
      "Batch 77 | Reject Differential (mean over batch): 0.0560\n",
      "Batch 77 | Reject Differential (mean over batch): 0.0666\n",
      "Batch 77 | Reject Differential (mean over batch): 0.0428\n",
      "Batch 78 | Reject Differential (mean over batch): 0.0554\n",
      "Batch 78 | Reject Differential (mean over batch): 0.0658\n",
      "Batch 78 | Reject Differential (mean over batch): 0.0416\n"
     ]
    },
    {
     "name": "stderr",
     "output_type": "stream",
     "text": [
      " 26%|███████████████▎                                            | 80/313 [00:10<00:26,  8.64it/s]"
     ]
    },
    {
     "name": "stdout",
     "output_type": "stream",
     "text": [
      "Batch 79 | Reject Differential (mean over batch): 0.0573\n",
      "Batch 79 | Reject Differential (mean over batch): 0.0717\n",
      "Batch 79 | Reject Differential (mean over batch): 0.0565\n",
      "Batch 80 | Reject Differential (mean over batch): 0.0590\n",
      "Batch 80 | Reject Differential (mean over batch): 0.0740\n"
     ]
    },
    {
     "name": "stderr",
     "output_type": "stream",
     "text": [
      " 26%|███████████████▋                                            | 82/313 [00:10<00:27,  8.45it/s]"
     ]
    },
    {
     "name": "stdout",
     "output_type": "stream",
     "text": [
      "Batch 80 | Reject Differential (mean over batch): 0.0542\n",
      "Batch 81 | Reject Differential (mean over batch): 0.0455\n",
      "Batch 81 | Reject Differential (mean over batch): 0.0597\n",
      "Batch 81 | Reject Differential (mean over batch): 0.0540\n",
      "Batch 82 | Reject Differential (mean over batch): 0.0417\n",
      "Batch 82 | Reject Differential (mean over batch): 0.0441\n"
     ]
    },
    {
     "name": "stderr",
     "output_type": "stream",
     "text": [
      " 27%|████████████████                                            | 84/313 [00:10<00:25,  8.84it/s]"
     ]
    },
    {
     "name": "stdout",
     "output_type": "stream",
     "text": [
      "Batch 82 | Reject Differential (mean over batch): 0.0420\n",
      "Batch 83 | Reject Differential (mean over batch): 0.0488\n",
      "Batch 83 | Reject Differential (mean over batch): 0.0647\n",
      "Batch 83 | Reject Differential (mean over batch): 0.0555\n",
      "Batch 84 | Reject Differential (mean over batch): 0.0515\n",
      "Batch 84 | Reject Differential (mean over batch): 0.0516\n"
     ]
    },
    {
     "name": "stderr",
     "output_type": "stream",
     "text": [
      " 27%|████████████████▍                                           | 86/313 [00:10<00:25,  9.04it/s]"
     ]
    },
    {
     "name": "stdout",
     "output_type": "stream",
     "text": [
      "Batch 84 | Reject Differential (mean over batch): 0.0449\n",
      "Batch 85 | Reject Differential (mean over batch): 0.0806\n",
      "Batch 85 | Reject Differential (mean over batch): 0.0710\n",
      "Batch 85 | Reject Differential (mean over batch): 0.0492\n",
      "Batch 86 | Reject Differential (mean over batch): 0.0778\n",
      "Batch 86 | Reject Differential (mean over batch): 0.0832\n"
     ]
    },
    {
     "name": "stderr",
     "output_type": "stream",
     "text": [
      " 28%|████████████████▊                                           | 88/313 [00:10<00:24,  9.12it/s]"
     ]
    },
    {
     "name": "stdout",
     "output_type": "stream",
     "text": [
      "Batch 86 | Reject Differential (mean over batch): 0.0665\n",
      "Batch 87 | Reject Differential (mean over batch): 0.0646\n",
      "Batch 87 | Reject Differential (mean over batch): 0.0713\n",
      "Batch 87 | Reject Differential (mean over batch): 0.0583\n",
      "Batch 88 | Reject Differential (mean over batch): 0.0464\n",
      "Batch 88 | Reject Differential (mean over batch): 0.0598\n"
     ]
    },
    {
     "name": "stderr",
     "output_type": "stream",
     "text": [
      " 29%|█████████████████▎                                          | 90/313 [00:11<00:24,  9.25it/s]"
     ]
    },
    {
     "name": "stdout",
     "output_type": "stream",
     "text": [
      "Batch 88 | Reject Differential (mean over batch): 0.0399\n",
      "Batch 89 | Reject Differential (mean over batch): 0.0448\n",
      "Batch 89 | Reject Differential (mean over batch): 0.0590\n",
      "Batch 89 | Reject Differential (mean over batch): 0.0448\n",
      "Batch 90 | Reject Differential (mean over batch): 0.0521\n",
      "Batch 90 | Reject Differential (mean over batch): 0.0645\n"
     ]
    },
    {
     "name": "stderr",
     "output_type": "stream",
     "text": [
      " 29%|█████████████████▋                                          | 92/313 [00:11<00:23,  9.28it/s]"
     ]
    },
    {
     "name": "stdout",
     "output_type": "stream",
     "text": [
      "Batch 90 | Reject Differential (mean over batch): 0.0404\n",
      "Batch 91 | Reject Differential (mean over batch): 0.0587\n",
      "Batch 91 | Reject Differential (mean over batch): 0.0496\n",
      "Batch 91 | Reject Differential (mean over batch): 0.0467\n",
      "Batch 92 | Reject Differential (mean over batch): 0.0431\n",
      "Batch 92 | Reject Differential (mean over batch): 0.0561\n"
     ]
    },
    {
     "name": "stderr",
     "output_type": "stream",
     "text": [
      " 30%|██████████████████                                          | 94/313 [00:11<00:23,  9.31it/s]"
     ]
    },
    {
     "name": "stdout",
     "output_type": "stream",
     "text": [
      "Batch 92 | Reject Differential (mean over batch): 0.0405\n",
      "Batch 93 | Reject Differential (mean over batch): 0.0406\n",
      "Batch 93 | Reject Differential (mean over batch): 0.0562\n",
      "Batch 93 | Reject Differential (mean over batch): 0.0433\n",
      "Batch 94 | Reject Differential (mean over batch): 0.0615\n",
      "Batch 94 | Reject Differential (mean over batch): 0.0624\n"
     ]
    },
    {
     "name": "stderr",
     "output_type": "stream",
     "text": [
      " 31%|██████████████████▍                                         | 96/313 [00:11<00:23,  9.29it/s]"
     ]
    },
    {
     "name": "stdout",
     "output_type": "stream",
     "text": [
      "Batch 94 | Reject Differential (mean over batch): 0.0547\n",
      "Batch 95 | Reject Differential (mean over batch): 0.0521\n",
      "Batch 95 | Reject Differential (mean over batch): 0.0647\n",
      "Batch 95 | Reject Differential (mean over batch): 0.0565\n",
      "Batch 96 | Reject Differential (mean over batch): 0.0573\n",
      "Batch 96 | Reject Differential (mean over batch): 0.0766\n"
     ]
    },
    {
     "name": "stderr",
     "output_type": "stream",
     "text": [
      " 31%|██████████████████▊                                         | 98/313 [00:12<00:22,  9.38it/s]"
     ]
    },
    {
     "name": "stdout",
     "output_type": "stream",
     "text": [
      "Batch 96 | Reject Differential (mean over batch): 0.0536\n",
      "Batch 97 | Reject Differential (mean over batch): 0.0650\n",
      "Batch 97 | Reject Differential (mean over batch): 0.0721\n",
      "Batch 97 | Reject Differential (mean over batch): 0.0567\n",
      "Batch 98 | Reject Differential (mean over batch): 0.0701\n",
      "Batch 98 | Reject Differential (mean over batch): 0.0837\n"
     ]
    },
    {
     "name": "stderr",
     "output_type": "stream",
     "text": [
      " 32%|██████████████████▊                                        | 100/313 [00:12<00:22,  9.35it/s]"
     ]
    },
    {
     "name": "stdout",
     "output_type": "stream",
     "text": [
      "Batch 98 | Reject Differential (mean over batch): 0.0472\n",
      "Batch 99 | Reject Differential (mean over batch): 0.0632\n",
      "Batch 99 | Reject Differential (mean over batch): 0.0733\n",
      "Batch 99 | Reject Differential (mean over batch): 0.0425\n",
      "Batch 100 | Reject Differential (mean over batch): 0.0629\n",
      "Batch 100 | Reject Differential (mean over batch): 0.0738\n"
     ]
    },
    {
     "name": "stderr",
     "output_type": "stream",
     "text": [
      " 33%|███████████████████▏                                       | 102/313 [00:12<00:22,  9.37it/s]"
     ]
    },
    {
     "name": "stdout",
     "output_type": "stream",
     "text": [
      "Batch 100 | Reject Differential (mean over batch): 0.0554\n",
      "Batch 101 | Reject Differential (mean over batch): 0.0563\n",
      "Batch 101 | Reject Differential (mean over batch): 0.0674\n",
      "Batch 101 | Reject Differential (mean over batch): 0.0441\n",
      "Batch 102 | Reject Differential (mean over batch): 0.0546\n"
     ]
    },
    {
     "name": "stderr",
     "output_type": "stream",
     "text": [
      " 33%|███████████████████▌                                       | 104/313 [00:12<00:22,  9.17it/s]"
     ]
    },
    {
     "name": "stdout",
     "output_type": "stream",
     "text": [
      "Batch 102 | Reject Differential (mean over batch): 0.0559\n",
      "Batch 102 | Reject Differential (mean over batch): 0.0523\n",
      "Batch 103 | Reject Differential (mean over batch): 0.0540\n",
      "Batch 103 | Reject Differential (mean over batch): 0.0516\n",
      "Batch 103 | Reject Differential (mean over batch): 0.0549\n",
      "Batch 104 | Reject Differential (mean over batch): 0.0754\n"
     ]
    },
    {
     "name": "stderr",
     "output_type": "stream",
     "text": [
      " 34%|███████████████████▉                                       | 106/313 [00:12<00:22,  9.11it/s]"
     ]
    },
    {
     "name": "stdout",
     "output_type": "stream",
     "text": [
      "Batch 104 | Reject Differential (mean over batch): 0.0584\n",
      "Batch 104 | Reject Differential (mean over batch): 0.0467\n",
      "Batch 105 | Reject Differential (mean over batch): 0.0524\n",
      "Batch 105 | Reject Differential (mean over batch): 0.0549\n",
      "Batch 105 | Reject Differential (mean over batch): 0.0389\n",
      "Batch 106 | Reject Differential (mean over batch): 0.0462\n"
     ]
    },
    {
     "name": "stderr",
     "output_type": "stream",
     "text": [
      " 35%|████████████████████▎                                      | 108/313 [00:13<00:22,  9.05it/s]"
     ]
    },
    {
     "name": "stdout",
     "output_type": "stream",
     "text": [
      "Batch 106 | Reject Differential (mean over batch): 0.0604\n",
      "Batch 106 | Reject Differential (mean over batch): 0.0480\n",
      "Batch 107 | Reject Differential (mean over batch): 0.0705\n",
      "Batch 107 | Reject Differential (mean over batch): 0.0644\n",
      "Batch 107 | Reject Differential (mean over batch): 0.0658\n",
      "Batch 108 | Reject Differential (mean over batch): 0.0458\n"
     ]
    },
    {
     "name": "stderr",
     "output_type": "stream",
     "text": [
      " 35%|████████████████████▋                                      | 110/313 [00:13<00:23,  8.80it/s]"
     ]
    },
    {
     "name": "stdout",
     "output_type": "stream",
     "text": [
      "Batch 108 | Reject Differential (mean over batch): 0.0517\n",
      "Batch 108 | Reject Differential (mean over batch): 0.0445\n",
      "Batch 109 | Reject Differential (mean over batch): 0.0626\n",
      "Batch 109 | Reject Differential (mean over batch): 0.0724\n",
      "Batch 109 | Reject Differential (mean over batch): 0.0496\n"
     ]
    },
    {
     "name": "stderr",
     "output_type": "stream",
     "text": [
      " 36%|█████████████████████                                      | 112/313 [00:13<00:22,  9.04it/s]"
     ]
    },
    {
     "name": "stdout",
     "output_type": "stream",
     "text": [
      "Batch 110 | Reject Differential (mean over batch): 0.0477\n",
      "Batch 110 | Reject Differential (mean over batch): 0.0561\n",
      "Batch 110 | Reject Differential (mean over batch): 0.0549\n",
      "Batch 111 | Reject Differential (mean over batch): 0.0553\n",
      "Batch 111 | Reject Differential (mean over batch): 0.0795\n",
      "Batch 111 | Reject Differential (mean over batch): 0.0505\n"
     ]
    },
    {
     "name": "stderr",
     "output_type": "stream",
     "text": [
      " 36%|█████████████████████▍                                     | 114/313 [00:13<00:21,  9.30it/s]"
     ]
    },
    {
     "name": "stdout",
     "output_type": "stream",
     "text": [
      "Batch 112 | Reject Differential (mean over batch): 0.0533\n",
      "Batch 112 | Reject Differential (mean over batch): 0.0556\n",
      "Batch 112 | Reject Differential (mean over batch): 0.0407\n",
      "Batch 113 | Reject Differential (mean over batch): 0.0769\n",
      "Batch 113 | Reject Differential (mean over batch): 0.0652\n",
      "Batch 113 | Reject Differential (mean over batch): 0.0668\n"
     ]
    },
    {
     "name": "stderr",
     "output_type": "stream",
     "text": [
      " 37%|█████████████████████▊                                     | 116/313 [00:13<00:20,  9.50it/s]"
     ]
    },
    {
     "name": "stdout",
     "output_type": "stream",
     "text": [
      "Batch 114 | Reject Differential (mean over batch): 0.0583\n",
      "Batch 114 | Reject Differential (mean over batch): 0.0823\n",
      "Batch 114 | Reject Differential (mean over batch): 0.0570\n",
      "Batch 115 | Reject Differential (mean over batch): 0.0405\n",
      "Batch 115 | Reject Differential (mean over batch): 0.0768\n",
      "Batch 115 | Reject Differential (mean over batch): 0.0461\n"
     ]
    },
    {
     "name": "stderr",
     "output_type": "stream",
     "text": [
      " 38%|██████████████████████▏                                    | 118/313 [00:14<00:20,  9.61it/s]"
     ]
    },
    {
     "name": "stdout",
     "output_type": "stream",
     "text": [
      "Batch 116 | Reject Differential (mean over batch): 0.0352\n",
      "Batch 116 | Reject Differential (mean over batch): 0.0459\n",
      "Batch 116 | Reject Differential (mean over batch): 0.0414\n",
      "Batch 117 | Reject Differential (mean over batch): 0.0614\n",
      "Batch 117 | Reject Differential (mean over batch): 0.0621\n",
      "Batch 117 | Reject Differential (mean over batch): 0.0539\n"
     ]
    },
    {
     "name": "stderr",
     "output_type": "stream",
     "text": [
      " 38%|██████████████████████▌                                    | 120/313 [00:14<00:20,  9.41it/s]"
     ]
    },
    {
     "name": "stdout",
     "output_type": "stream",
     "text": [
      "Batch 118 | Reject Differential (mean over batch): 0.0578\n",
      "Batch 118 | Reject Differential (mean over batch): 0.0483\n",
      "Batch 118 | Reject Differential (mean over batch): 0.0402\n",
      "Batch 119 | Reject Differential (mean over batch): 0.0476\n",
      "Batch 119 | Reject Differential (mean over batch): 0.0571\n",
      "Batch 119 | Reject Differential (mean over batch): 0.0550\n"
     ]
    },
    {
     "name": "stderr",
     "output_type": "stream",
     "text": [
      " 39%|██████████████████████▉                                    | 122/313 [00:14<00:20,  9.45it/s]"
     ]
    },
    {
     "name": "stdout",
     "output_type": "stream",
     "text": [
      "Batch 120 | Reject Differential (mean over batch): 0.0745\n",
      "Batch 120 | Reject Differential (mean over batch): 0.0805\n",
      "Batch 120 | Reject Differential (mean over batch): 0.0480\n",
      "Batch 121 | Reject Differential (mean over batch): 0.0576\n",
      "Batch 121 | Reject Differential (mean over batch): 0.0764\n",
      "Batch 121 | Reject Differential (mean over batch): 0.0489\n"
     ]
    },
    {
     "name": "stderr",
     "output_type": "stream",
     "text": [
      " 40%|███████████████████████▎                                   | 124/313 [00:14<00:20,  9.27it/s]"
     ]
    },
    {
     "name": "stdout",
     "output_type": "stream",
     "text": [
      "Batch 122 | Reject Differential (mean over batch): 0.0611\n",
      "Batch 122 | Reject Differential (mean over batch): 0.0613\n",
      "Batch 122 | Reject Differential (mean over batch): 0.0442\n",
      "Batch 123 | Reject Differential (mean over batch): 0.0673\n",
      "Batch 123 | Reject Differential (mean over batch): 0.0648\n",
      "Batch 123 | Reject Differential (mean over batch): 0.0520\n"
     ]
    },
    {
     "name": "stderr",
     "output_type": "stream",
     "text": [
      " 40%|███████████████████████▊                                   | 126/313 [00:15<00:19,  9.41it/s]"
     ]
    },
    {
     "name": "stdout",
     "output_type": "stream",
     "text": [
      "Batch 124 | Reject Differential (mean over batch): 0.0607\n",
      "Batch 124 | Reject Differential (mean over batch): 0.0668\n",
      "Batch 124 | Reject Differential (mean over batch): 0.0523\n",
      "Batch 125 | Reject Differential (mean over batch): 0.0592\n",
      "Batch 125 | Reject Differential (mean over batch): 0.0700\n",
      "Batch 125 | Reject Differential (mean over batch): 0.0409\n"
     ]
    },
    {
     "name": "stderr",
     "output_type": "stream",
     "text": [
      " 41%|████████████████████████▏                                  | 128/313 [00:15<00:21,  8.54it/s]"
     ]
    },
    {
     "name": "stdout",
     "output_type": "stream",
     "text": [
      "Batch 126 | Reject Differential (mean over batch): 0.0517\n",
      "Batch 126 | Reject Differential (mean over batch): 0.0535\n",
      "Batch 126 | Reject Differential (mean over batch): 0.0487\n",
      "Batch 127 | Reject Differential (mean over batch): 0.0364\n",
      "Batch 127 | Reject Differential (mean over batch): 0.0569\n",
      "Batch 127 | Reject Differential (mean over batch): 0.0403\n"
     ]
    },
    {
     "name": "stderr",
     "output_type": "stream",
     "text": [
      " 42%|████████████████████████▌                                  | 130/313 [00:15<00:21,  8.66it/s]"
     ]
    },
    {
     "name": "stdout",
     "output_type": "stream",
     "text": [
      "Batch 128 | Reject Differential (mean over batch): 0.0471\n",
      "Batch 128 | Reject Differential (mean over batch): 0.0590\n",
      "Batch 128 | Reject Differential (mean over batch): 0.0342\n",
      "Batch 129 | Reject Differential (mean over batch): 0.0497\n",
      "Batch 129 | Reject Differential (mean over batch): 0.0535\n",
      "Batch 129 | Reject Differential (mean over batch): 0.0346\n"
     ]
    },
    {
     "name": "stderr",
     "output_type": "stream",
     "text": [
      " 42%|████████████████████████▉                                  | 132/313 [00:15<00:20,  8.99it/s]"
     ]
    },
    {
     "name": "stdout",
     "output_type": "stream",
     "text": [
      "Batch 130 | Reject Differential (mean over batch): 0.0491\n",
      "Batch 130 | Reject Differential (mean over batch): 0.0507\n",
      "Batch 130 | Reject Differential (mean over batch): 0.0351\n",
      "Batch 131 | Reject Differential (mean over batch): 0.0595\n",
      "Batch 131 | Reject Differential (mean over batch): 0.0539\n",
      "Batch 131 | Reject Differential (mean over batch): 0.0511\n"
     ]
    },
    {
     "name": "stderr",
     "output_type": "stream",
     "text": [
      " 43%|█████████████████████████▎                                 | 134/313 [00:15<00:20,  8.68it/s]"
     ]
    },
    {
     "name": "stdout",
     "output_type": "stream",
     "text": [
      "Batch 132 | Reject Differential (mean over batch): 0.0596\n",
      "Batch 132 | Reject Differential (mean over batch): 0.0698\n",
      "Batch 132 | Reject Differential (mean over batch): 0.0534\n",
      "Batch 133 | Reject Differential (mean over batch): 0.0490\n",
      "Batch 133 | Reject Differential (mean over batch): 0.0586\n",
      "Batch 133 | Reject Differential (mean over batch): 0.0444\n"
     ]
    },
    {
     "name": "stderr",
     "output_type": "stream",
     "text": [
      " 43%|█████████████████████████▋                                 | 136/313 [00:16<00:19,  9.01it/s]"
     ]
    },
    {
     "name": "stdout",
     "output_type": "stream",
     "text": [
      "Batch 134 | Reject Differential (mean over batch): 0.0748\n",
      "Batch 134 | Reject Differential (mean over batch): 0.0666\n",
      "Batch 134 | Reject Differential (mean over batch): 0.0551\n",
      "Batch 135 | Reject Differential (mean over batch): 0.0529\n",
      "Batch 135 | Reject Differential (mean over batch): 0.0517\n",
      "Batch 135 | Reject Differential (mean over batch): 0.0397\n"
     ]
    },
    {
     "name": "stderr",
     "output_type": "stream",
     "text": [
      " 44%|██████████████████████████                                 | 138/313 [00:16<00:19,  9.10it/s]"
     ]
    },
    {
     "name": "stdout",
     "output_type": "stream",
     "text": [
      "Batch 136 | Reject Differential (mean over batch): 0.0576\n",
      "Batch 136 | Reject Differential (mean over batch): 0.0687\n",
      "Batch 136 | Reject Differential (mean over batch): 0.0558\n",
      "Batch 137 | Reject Differential (mean over batch): 0.0368\n",
      "Batch 137 | Reject Differential (mean over batch): 0.0592\n",
      "Batch 137 | Reject Differential (mean over batch): 0.0555\n"
     ]
    },
    {
     "name": "stderr",
     "output_type": "stream",
     "text": [
      " 45%|██████████████████████████▍                                | 140/313 [00:16<00:18,  9.32it/s]"
     ]
    },
    {
     "name": "stdout",
     "output_type": "stream",
     "text": [
      "Batch 138 | Reject Differential (mean over batch): 0.0531\n",
      "Batch 138 | Reject Differential (mean over batch): 0.0572\n",
      "Batch 138 | Reject Differential (mean over batch): 0.0448\n",
      "Batch 139 | Reject Differential (mean over batch): 0.0418\n",
      "Batch 139 | Reject Differential (mean over batch): 0.0506\n",
      "Batch 139 | Reject Differential (mean over batch): 0.0579\n"
     ]
    },
    {
     "name": "stderr",
     "output_type": "stream",
     "text": [
      " 45%|██████████████████████████▊                                | 142/313 [00:16<00:18,  9.43it/s]"
     ]
    },
    {
     "name": "stdout",
     "output_type": "stream",
     "text": [
      "Batch 140 | Reject Differential (mean over batch): 0.0495\n",
      "Batch 140 | Reject Differential (mean over batch): 0.0687\n",
      "Batch 140 | Reject Differential (mean over batch): 0.0485\n",
      "Batch 141 | Reject Differential (mean over batch): 0.0547\n",
      "Batch 141 | Reject Differential (mean over batch): 0.0719\n",
      "Batch 141 | Reject Differential (mean over batch): 0.0539\n"
     ]
    },
    {
     "name": "stderr",
     "output_type": "stream",
     "text": [
      " 46%|███████████████████████████▏                               | 144/313 [00:17<00:18,  9.08it/s]"
     ]
    },
    {
     "name": "stdout",
     "output_type": "stream",
     "text": [
      "Batch 142 | Reject Differential (mean over batch): 0.0807\n",
      "Batch 142 | Reject Differential (mean over batch): 0.0847\n",
      "Batch 142 | Reject Differential (mean over batch): 0.0705\n",
      "Batch 143 | Reject Differential (mean over batch): 0.0403\n",
      "Batch 143 | Reject Differential (mean over batch): 0.0484\n",
      "Batch 143 | Reject Differential (mean over batch): 0.0366\n"
     ]
    },
    {
     "name": "stderr",
     "output_type": "stream",
     "text": [
      " 47%|███████████████████████████▌                               | 146/313 [00:17<00:18,  9.25it/s]"
     ]
    },
    {
     "name": "stdout",
     "output_type": "stream",
     "text": [
      "Batch 144 | Reject Differential (mean over batch): 0.0415\n",
      "Batch 144 | Reject Differential (mean over batch): 0.0589\n",
      "Batch 144 | Reject Differential (mean over batch): 0.0570\n",
      "Batch 145 | Reject Differential (mean over batch): 0.0492\n",
      "Batch 145 | Reject Differential (mean over batch): 0.0514\n",
      "Batch 145 | Reject Differential (mean over batch): 0.0532\n"
     ]
    },
    {
     "name": "stderr",
     "output_type": "stream",
     "text": [
      " 47%|███████████████████████████▉                               | 148/313 [00:17<00:18,  9.05it/s]"
     ]
    },
    {
     "name": "stdout",
     "output_type": "stream",
     "text": [
      "Batch 146 | Reject Differential (mean over batch): 0.0427\n",
      "Batch 146 | Reject Differential (mean over batch): 0.0506\n",
      "Batch 146 | Reject Differential (mean over batch): 0.0458\n",
      "Batch 147 | Reject Differential (mean over batch): 0.0722\n",
      "Batch 147 | Reject Differential (mean over batch): 0.1115\n",
      "Batch 147 | Reject Differential (mean over batch): 0.0855\n"
     ]
    },
    {
     "name": "stderr",
     "output_type": "stream",
     "text": [
      " 48%|████████████████████████████▎                              | 150/313 [00:17<00:17,  9.22it/s]"
     ]
    },
    {
     "name": "stdout",
     "output_type": "stream",
     "text": [
      "Batch 148 | Reject Differential (mean over batch): 0.0771\n",
      "Batch 148 | Reject Differential (mean over batch): 0.0781\n",
      "Batch 148 | Reject Differential (mean over batch): 0.0508\n",
      "Batch 149 | Reject Differential (mean over batch): 0.0741\n",
      "Batch 149 | Reject Differential (mean over batch): 0.0812\n",
      "Batch 149 | Reject Differential (mean over batch): 0.0689\n"
     ]
    },
    {
     "name": "stderr",
     "output_type": "stream",
     "text": [
      " 49%|████████████████████████████▋                              | 152/313 [00:17<00:17,  9.28it/s]"
     ]
    },
    {
     "name": "stdout",
     "output_type": "stream",
     "text": [
      "Batch 150 | Reject Differential (mean over batch): 0.0593\n",
      "Batch 150 | Reject Differential (mean over batch): 0.0675\n",
      "Batch 150 | Reject Differential (mean over batch): 0.0687\n",
      "Batch 151 | Reject Differential (mean over batch): 0.0569\n",
      "Batch 151 | Reject Differential (mean over batch): 0.0538\n",
      "Batch 151 | Reject Differential (mean over batch): 0.0578\n"
     ]
    },
    {
     "name": "stderr",
     "output_type": "stream",
     "text": [
      " 49%|█████████████████████████████                              | 154/313 [00:18<00:17,  9.15it/s]"
     ]
    },
    {
     "name": "stdout",
     "output_type": "stream",
     "text": [
      "Batch 152 | Reject Differential (mean over batch): 0.0502\n",
      "Batch 152 | Reject Differential (mean over batch): 0.0688\n",
      "Batch 152 | Reject Differential (mean over batch): 0.0397\n",
      "Batch 153 | Reject Differential (mean over batch): 0.0408\n",
      "Batch 153 | Reject Differential (mean over batch): 0.0358\n",
      "Batch 153 | Reject Differential (mean over batch): 0.0432\n"
     ]
    },
    {
     "name": "stderr",
     "output_type": "stream",
     "text": [
      " 50%|█████████████████████████████▍                             | 156/313 [00:18<00:18,  8.64it/s]"
     ]
    },
    {
     "name": "stdout",
     "output_type": "stream",
     "text": [
      "Batch 154 | Reject Differential (mean over batch): 0.0423\n",
      "Batch 154 | Reject Differential (mean over batch): 0.0518\n",
      "Batch 154 | Reject Differential (mean over batch): 0.0406\n",
      "Batch 155 | Reject Differential (mean over batch): 0.0507\n",
      "Batch 155 | Reject Differential (mean over batch): 0.0848\n",
      "Batch 155 | Reject Differential (mean over batch): 0.0562\n"
     ]
    },
    {
     "name": "stderr",
     "output_type": "stream",
     "text": [
      " 50%|█████████████████████████████▊                             | 158/313 [00:18<00:17,  9.00it/s]"
     ]
    },
    {
     "name": "stdout",
     "output_type": "stream",
     "text": [
      "Batch 156 | Reject Differential (mean over batch): 0.0780\n",
      "Batch 156 | Reject Differential (mean over batch): 0.0702\n",
      "Batch 156 | Reject Differential (mean over batch): 0.0531\n",
      "Batch 157 | Reject Differential (mean over batch): 0.0629\n",
      "Batch 157 | Reject Differential (mean over batch): 0.0678\n",
      "Batch 157 | Reject Differential (mean over batch): 0.0557\n"
     ]
    },
    {
     "name": "stderr",
     "output_type": "stream",
     "text": [
      " 51%|██████████████████████████████▏                            | 160/313 [00:18<00:18,  8.23it/s]"
     ]
    },
    {
     "name": "stdout",
     "output_type": "stream",
     "text": [
      "Batch 158 | Reject Differential (mean over batch): 0.0519\n",
      "Batch 158 | Reject Differential (mean over batch): 0.0452\n",
      "Batch 158 | Reject Differential (mean over batch): 0.0511\n",
      "Batch 159 | Reject Differential (mean over batch): 0.0762\n",
      "Batch 159 | Reject Differential (mean over batch): 0.0877\n",
      "Batch 159 | Reject Differential (mean over batch): 0.0561\n"
     ]
    },
    {
     "name": "stderr",
     "output_type": "stream",
     "text": [
      " 52%|██████████████████████████████▌                            | 162/313 [00:19<00:17,  8.56it/s]"
     ]
    },
    {
     "name": "stdout",
     "output_type": "stream",
     "text": [
      "Batch 160 | Reject Differential (mean over batch): 0.0767\n",
      "Batch 160 | Reject Differential (mean over batch): 0.0763\n",
      "Batch 160 | Reject Differential (mean over batch): 0.0447\n",
      "Batch 161 | Reject Differential (mean over batch): 0.0619\n",
      "Batch 161 | Reject Differential (mean over batch): 0.0541\n",
      "Batch 161 | Reject Differential (mean over batch): 0.0531\n"
     ]
    },
    {
     "name": "stderr",
     "output_type": "stream",
     "text": [
      " 52%|██████████████████████████████▉                            | 164/313 [00:19<00:17,  8.73it/s]"
     ]
    },
    {
     "name": "stdout",
     "output_type": "stream",
     "text": [
      "Batch 162 | Reject Differential (mean over batch): 0.0735\n",
      "Batch 162 | Reject Differential (mean over batch): 0.0783\n",
      "Batch 162 | Reject Differential (mean over batch): 0.0657\n",
      "Batch 163 | Reject Differential (mean over batch): 0.0704\n",
      "Batch 163 | Reject Differential (mean over batch): 0.0856\n",
      "Batch 163 | Reject Differential (mean over batch): 0.0717\n"
     ]
    },
    {
     "name": "stderr",
     "output_type": "stream",
     "text": [
      " 53%|███████████████████████████████▎                           | 166/313 [00:19<00:16,  8.81it/s]"
     ]
    },
    {
     "name": "stdout",
     "output_type": "stream",
     "text": [
      "Batch 164 | Reject Differential (mean over batch): 0.0661\n",
      "Batch 164 | Reject Differential (mean over batch): 0.0630\n",
      "Batch 164 | Reject Differential (mean over batch): 0.0581\n",
      "Batch 165 | Reject Differential (mean over batch): 0.0504\n",
      "Batch 165 | Reject Differential (mean over batch): 0.0741\n",
      "Batch 165 | Reject Differential (mean over batch): 0.0497\n"
     ]
    },
    {
     "name": "stderr",
     "output_type": "stream",
     "text": [
      " 54%|███████████████████████████████▋                           | 168/313 [00:19<00:15,  9.10it/s]"
     ]
    },
    {
     "name": "stdout",
     "output_type": "stream",
     "text": [
      "Batch 166 | Reject Differential (mean over batch): 0.0485\n",
      "Batch 166 | Reject Differential (mean over batch): 0.0582\n",
      "Batch 166 | Reject Differential (mean over batch): 0.0478\n",
      "Batch 167 | Reject Differential (mean over batch): 0.0876\n",
      "Batch 167 | Reject Differential (mean over batch): 0.0753\n",
      "Batch 167 | Reject Differential (mean over batch): 0.0743\n"
     ]
    },
    {
     "name": "stderr",
     "output_type": "stream",
     "text": [
      " 54%|████████████████████████████████                           | 170/313 [00:19<00:15,  9.19it/s]"
     ]
    },
    {
     "name": "stdout",
     "output_type": "stream",
     "text": [
      "Batch 168 | Reject Differential (mean over batch): 0.0674\n",
      "Batch 168 | Reject Differential (mean over batch): 0.0624\n",
      "Batch 168 | Reject Differential (mean over batch): 0.0552\n",
      "Batch 169 | Reject Differential (mean over batch): 0.0601\n",
      "Batch 169 | Reject Differential (mean over batch): 0.0687\n",
      "Batch 169 | Reject Differential (mean over batch): 0.0569\n"
     ]
    },
    {
     "name": "stderr",
     "output_type": "stream",
     "text": [
      " 55%|████████████████████████████████▍                          | 172/313 [00:20<00:15,  9.20it/s]"
     ]
    },
    {
     "name": "stdout",
     "output_type": "stream",
     "text": [
      "Batch 170 | Reject Differential (mean over batch): 0.0485\n",
      "Batch 170 | Reject Differential (mean over batch): 0.0725\n",
      "Batch 170 | Reject Differential (mean over batch): 0.0610\n",
      "Batch 171 | Reject Differential (mean over batch): 0.0687\n",
      "Batch 171 | Reject Differential (mean over batch): 0.0734\n",
      "Batch 171 | Reject Differential (mean over batch): 0.0414\n"
     ]
    },
    {
     "name": "stderr",
     "output_type": "stream",
     "text": [
      " 56%|████████████████████████████████▊                          | 174/313 [00:20<00:14,  9.36it/s]"
     ]
    },
    {
     "name": "stdout",
     "output_type": "stream",
     "text": [
      "Batch 172 | Reject Differential (mean over batch): 0.0450\n",
      "Batch 172 | Reject Differential (mean over batch): 0.0549\n",
      "Batch 172 | Reject Differential (mean over batch): 0.0490\n",
      "Batch 173 | Reject Differential (mean over batch): 0.0450\n",
      "Batch 173 | Reject Differential (mean over batch): 0.0423\n",
      "Batch 173 | Reject Differential (mean over batch): 0.0395\n"
     ]
    },
    {
     "name": "stderr",
     "output_type": "stream",
     "text": [
      " 56%|█████████████████████████████████▏                         | 176/313 [00:20<00:14,  9.50it/s]"
     ]
    },
    {
     "name": "stdout",
     "output_type": "stream",
     "text": [
      "Batch 174 | Reject Differential (mean over batch): 0.0473\n",
      "Batch 174 | Reject Differential (mean over batch): 0.0602\n",
      "Batch 174 | Reject Differential (mean over batch): 0.0537\n",
      "Batch 175 | Reject Differential (mean over batch): 0.0556\n",
      "Batch 175 | Reject Differential (mean over batch): 0.0624\n",
      "Batch 175 | Reject Differential (mean over batch): 0.0537\n"
     ]
    },
    {
     "name": "stderr",
     "output_type": "stream",
     "text": [
      " 57%|█████████████████████████████████▌                         | 178/313 [00:20<00:14,  9.57it/s]"
     ]
    },
    {
     "name": "stdout",
     "output_type": "stream",
     "text": [
      "Batch 176 | Reject Differential (mean over batch): 0.0686\n",
      "Batch 176 | Reject Differential (mean over batch): 0.0696\n",
      "Batch 176 | Reject Differential (mean over batch): 0.0438\n",
      "Batch 177 | Reject Differential (mean over batch): 0.0512\n",
      "Batch 177 | Reject Differential (mean over batch): 0.0561\n",
      "Batch 177 | Reject Differential (mean over batch): 0.0453\n"
     ]
    },
    {
     "name": "stderr",
     "output_type": "stream",
     "text": [
      " 58%|█████████████████████████████████▉                         | 180/313 [00:21<00:13,  9.56it/s]"
     ]
    },
    {
     "name": "stdout",
     "output_type": "stream",
     "text": [
      "Batch 178 | Reject Differential (mean over batch): 0.0562\n",
      "Batch 178 | Reject Differential (mean over batch): 0.0611\n",
      "Batch 178 | Reject Differential (mean over batch): 0.0630\n",
      "Batch 179 | Reject Differential (mean over batch): 0.0737\n",
      "Batch 179 | Reject Differential (mean over batch): 0.0716\n",
      "Batch 179 | Reject Differential (mean over batch): 0.0443\n"
     ]
    },
    {
     "name": "stderr",
     "output_type": "stream",
     "text": [
      " 58%|██████████████████████████████████▎                        | 182/313 [00:21<00:13,  9.63it/s]"
     ]
    },
    {
     "name": "stdout",
     "output_type": "stream",
     "text": [
      "Batch 180 | Reject Differential (mean over batch): 0.0778\n",
      "Batch 180 | Reject Differential (mean over batch): 0.0768\n",
      "Batch 180 | Reject Differential (mean over batch): 0.0570\n",
      "Batch 181 | Reject Differential (mean over batch): 0.0672\n",
      "Batch 181 | Reject Differential (mean over batch): 0.0670\n",
      "Batch 181 | Reject Differential (mean over batch): 0.0551\n"
     ]
    },
    {
     "name": "stderr",
     "output_type": "stream",
     "text": [
      " 59%|██████████████████████████████████▋                        | 184/313 [00:21<00:13,  9.63it/s]"
     ]
    },
    {
     "name": "stdout",
     "output_type": "stream",
     "text": [
      "Batch 182 | Reject Differential (mean over batch): 0.0506\n",
      "Batch 182 | Reject Differential (mean over batch): 0.0527\n",
      "Batch 182 | Reject Differential (mean over batch): 0.0380\n",
      "Batch 183 | Reject Differential (mean over batch): 0.0468\n",
      "Batch 183 | Reject Differential (mean over batch): 0.0524\n",
      "Batch 183 | Reject Differential (mean over batch): 0.0328\n"
     ]
    },
    {
     "name": "stderr",
     "output_type": "stream",
     "text": [
      " 59%|███████████████████████████████████                        | 186/313 [00:21<00:13,  9.56it/s]"
     ]
    },
    {
     "name": "stdout",
     "output_type": "stream",
     "text": [
      "Batch 184 | Reject Differential (mean over batch): 0.0790\n",
      "Batch 184 | Reject Differential (mean over batch): 0.0810\n",
      "Batch 184 | Reject Differential (mean over batch): 0.0682\n",
      "Batch 185 | Reject Differential (mean over batch): 0.0530\n",
      "Batch 185 | Reject Differential (mean over batch): 0.0582\n",
      "Batch 185 | Reject Differential (mean over batch): 0.0486\n"
     ]
    },
    {
     "name": "stderr",
     "output_type": "stream",
     "text": [
      " 60%|███████████████████████████████████▍                       | 188/313 [00:21<00:13,  9.56it/s]"
     ]
    },
    {
     "name": "stdout",
     "output_type": "stream",
     "text": [
      "Batch 186 | Reject Differential (mean over batch): 0.0531\n",
      "Batch 186 | Reject Differential (mean over batch): 0.0630\n",
      "Batch 186 | Reject Differential (mean over batch): 0.0541\n",
      "Batch 187 | Reject Differential (mean over batch): 0.0784\n",
      "Batch 187 | Reject Differential (mean over batch): 0.0739\n",
      "Batch 187 | Reject Differential (mean over batch): 0.0507\n"
     ]
    },
    {
     "name": "stderr",
     "output_type": "stream",
     "text": [
      " 61%|███████████████████████████████████▊                       | 190/313 [00:22<00:13,  9.31it/s]"
     ]
    },
    {
     "name": "stdout",
     "output_type": "stream",
     "text": [
      "Batch 188 | Reject Differential (mean over batch): 0.0669\n",
      "Batch 188 | Reject Differential (mean over batch): 0.0631\n",
      "Batch 188 | Reject Differential (mean over batch): 0.0575\n",
      "Batch 189 | Reject Differential (mean over batch): 0.0809\n",
      "Batch 189 | Reject Differential (mean over batch): 0.0760\n",
      "Batch 189 | Reject Differential (mean over batch): 0.0634\n"
     ]
    },
    {
     "name": "stderr",
     "output_type": "stream",
     "text": [
      " 61%|████████████████████████████████████▏                      | 192/313 [00:22<00:13,  8.78it/s]"
     ]
    },
    {
     "name": "stdout",
     "output_type": "stream",
     "text": [
      "Batch 190 | Reject Differential (mean over batch): 0.0429\n",
      "Batch 190 | Reject Differential (mean over batch): 0.0551\n",
      "Batch 190 | Reject Differential (mean over batch): 0.0414\n",
      "Batch 191 | Reject Differential (mean over batch): 0.0807\n",
      "Batch 191 | Reject Differential (mean over batch): 0.0729\n",
      "Batch 191 | Reject Differential (mean over batch): 0.0528\n"
     ]
    },
    {
     "name": "stderr",
     "output_type": "stream",
     "text": [
      " 62%|████████████████████████████████████▌                      | 194/313 [00:22<00:14,  8.49it/s]"
     ]
    },
    {
     "name": "stdout",
     "output_type": "stream",
     "text": [
      "Batch 192 | Reject Differential (mean over batch): 0.0571\n",
      "Batch 192 | Reject Differential (mean over batch): 0.0571\n",
      "Batch 192 | Reject Differential (mean over batch): 0.0459\n",
      "Batch 193 | Reject Differential (mean over batch): 0.0727\n",
      "Batch 193 | Reject Differential (mean over batch): 0.0705\n",
      "Batch 193 | Reject Differential (mean over batch): 0.0592\n"
     ]
    },
    {
     "name": "stderr",
     "output_type": "stream",
     "text": [
      " 63%|████████████████████████████████████▉                      | 196/313 [00:22<00:13,  8.73it/s]"
     ]
    },
    {
     "name": "stdout",
     "output_type": "stream",
     "text": [
      "Batch 194 | Reject Differential (mean over batch): 0.0453\n",
      "Batch 194 | Reject Differential (mean over batch): 0.0418\n",
      "Batch 194 | Reject Differential (mean over batch): 0.0449\n",
      "Batch 195 | Reject Differential (mean over batch): 0.0411\n",
      "Batch 195 | Reject Differential (mean over batch): 0.0591\n",
      "Batch 195 | Reject Differential (mean over batch): 0.0431\n"
     ]
    },
    {
     "name": "stderr",
     "output_type": "stream",
     "text": [
      " 63%|█████████████████████████████████████▎                     | 198/313 [00:22<00:12,  9.08it/s]"
     ]
    },
    {
     "name": "stdout",
     "output_type": "stream",
     "text": [
      "Batch 196 | Reject Differential (mean over batch): 0.0465\n",
      "Batch 196 | Reject Differential (mean over batch): 0.0762\n",
      "Batch 196 | Reject Differential (mean over batch): 0.0533\n",
      "Batch 197 | Reject Differential (mean over batch): 0.0444\n",
      "Batch 197 | Reject Differential (mean over batch): 0.0449\n",
      "Batch 197 | Reject Differential (mean over batch): 0.0440\n"
     ]
    },
    {
     "name": "stderr",
     "output_type": "stream",
     "text": [
      " 64%|█████████████████████████████████████▋                     | 200/313 [00:23<00:12,  9.09it/s]"
     ]
    },
    {
     "name": "stdout",
     "output_type": "stream",
     "text": [
      "Batch 198 | Reject Differential (mean over batch): 0.0566\n",
      "Batch 198 | Reject Differential (mean over batch): 0.0481\n",
      "Batch 198 | Reject Differential (mean over batch): 0.0414\n",
      "Batch 199 | Reject Differential (mean over batch): 0.0662\n",
      "Batch 199 | Reject Differential (mean over batch): 0.0824\n",
      "Batch 199 | Reject Differential (mean over batch): 0.0680\n"
     ]
    },
    {
     "name": "stderr",
     "output_type": "stream",
     "text": [
      " 65%|██████████████████████████████████████                     | 202/313 [00:23<00:12,  8.65it/s]"
     ]
    },
    {
     "name": "stdout",
     "output_type": "stream",
     "text": [
      "Batch 200 | Reject Differential (mean over batch): 0.0601\n",
      "Batch 200 | Reject Differential (mean over batch): 0.0510\n",
      "Batch 200 | Reject Differential (mean over batch): 0.0559\n",
      "Batch 201 | Reject Differential (mean over batch): 0.0386\n",
      "Batch 201 | Reject Differential (mean over batch): 0.0452\n",
      "Batch 201 | Reject Differential (mean over batch): 0.0342\n"
     ]
    },
    {
     "name": "stderr",
     "output_type": "stream",
     "text": [
      " 65%|██████████████████████████████████████▍                    | 204/313 [00:23<00:12,  8.44it/s]"
     ]
    },
    {
     "name": "stdout",
     "output_type": "stream",
     "text": [
      "Batch 202 | Reject Differential (mean over batch): 0.0497\n",
      "Batch 202 | Reject Differential (mean over batch): 0.0556\n",
      "Batch 202 | Reject Differential (mean over batch): 0.0370\n",
      "Batch 203 | Reject Differential (mean over batch): 0.0506\n",
      "Batch 203 | Reject Differential (mean over batch): 0.0716\n",
      "Batch 203 | Reject Differential (mean over batch): 0.0433\n"
     ]
    },
    {
     "name": "stderr",
     "output_type": "stream",
     "text": [
      " 66%|██████████████████████████████████████▊                    | 206/313 [00:23<00:12,  8.83it/s]"
     ]
    },
    {
     "name": "stdout",
     "output_type": "stream",
     "text": [
      "Batch 204 | Reject Differential (mean over batch): 0.0595\n",
      "Batch 204 | Reject Differential (mean over batch): 0.0637\n",
      "Batch 204 | Reject Differential (mean over batch): 0.0616\n",
      "Batch 205 | Reject Differential (mean over batch): 0.0481\n",
      "Batch 205 | Reject Differential (mean over batch): 0.0634\n",
      "Batch 205 | Reject Differential (mean over batch): 0.0504\n"
     ]
    },
    {
     "name": "stderr",
     "output_type": "stream",
     "text": [
      " 66%|███████████████████████████████████████▏                   | 208/313 [00:24<00:11,  9.21it/s]"
     ]
    },
    {
     "name": "stdout",
     "output_type": "stream",
     "text": [
      "Batch 206 | Reject Differential (mean over batch): 0.0703\n",
      "Batch 206 | Reject Differential (mean over batch): 0.0806\n",
      "Batch 206 | Reject Differential (mean over batch): 0.0593\n",
      "Batch 207 | Reject Differential (mean over batch): 0.0811\n",
      "Batch 207 | Reject Differential (mean over batch): 0.0739\n",
      "Batch 207 | Reject Differential (mean over batch): 0.0490\n"
     ]
    },
    {
     "name": "stderr",
     "output_type": "stream",
     "text": [
      " 67%|███████████████████████████████████████▌                   | 210/313 [00:24<00:11,  9.18it/s]"
     ]
    },
    {
     "name": "stdout",
     "output_type": "stream",
     "text": [
      "Batch 208 | Reject Differential (mean over batch): 0.0375\n",
      "Batch 208 | Reject Differential (mean over batch): 0.0519\n",
      "Batch 208 | Reject Differential (mean over batch): 0.0426\n",
      "Batch 209 | Reject Differential (mean over batch): 0.0706\n",
      "Batch 209 | Reject Differential (mean over batch): 0.0632\n",
      "Batch 209 | Reject Differential (mean over batch): 0.0518\n"
     ]
    },
    {
     "name": "stderr",
     "output_type": "stream",
     "text": [
      " 68%|███████████████████████████████████████▉                   | 212/313 [00:24<00:11,  8.89it/s]"
     ]
    },
    {
     "name": "stdout",
     "output_type": "stream",
     "text": [
      "Batch 210 | Reject Differential (mean over batch): 0.0497\n",
      "Batch 210 | Reject Differential (mean over batch): 0.0551\n",
      "Batch 210 | Reject Differential (mean over batch): 0.0488\n",
      "Batch 211 | Reject Differential (mean over batch): 0.0418\n",
      "Batch 211 | Reject Differential (mean over batch): 0.0454\n",
      "Batch 211 | Reject Differential (mean over batch): 0.0429\n"
     ]
    },
    {
     "name": "stderr",
     "output_type": "stream",
     "text": [
      " 68%|████████████████████████████████████████▎                  | 214/313 [00:24<00:11,  8.61it/s]"
     ]
    },
    {
     "name": "stdout",
     "output_type": "stream",
     "text": [
      "Batch 212 | Reject Differential (mean over batch): 0.0558\n",
      "Batch 212 | Reject Differential (mean over batch): 0.0684\n",
      "Batch 212 | Reject Differential (mean over batch): 0.0476\n",
      "Batch 213 | Reject Differential (mean over batch): 0.0721\n",
      "Batch 213 | Reject Differential (mean over batch): 0.0772\n",
      "Batch 213 | Reject Differential (mean over batch): 0.0590\n"
     ]
    },
    {
     "name": "stderr",
     "output_type": "stream",
     "text": [
      " 69%|████████████████████████████████████████▋                  | 216/313 [00:24<00:10,  8.96it/s]"
     ]
    },
    {
     "name": "stdout",
     "output_type": "stream",
     "text": [
      "Batch 214 | Reject Differential (mean over batch): 0.0359\n",
      "Batch 214 | Reject Differential (mean over batch): 0.0430\n",
      "Batch 214 | Reject Differential (mean over batch): 0.0346\n",
      "Batch 215 | Reject Differential (mean over batch): 0.0488\n",
      "Batch 215 | Reject Differential (mean over batch): 0.0691\n",
      "Batch 215 | Reject Differential (mean over batch): 0.0549\n"
     ]
    },
    {
     "name": "stderr",
     "output_type": "stream",
     "text": [
      " 70%|█████████████████████████████████████████                  | 218/313 [00:25<00:10,  9.12it/s]"
     ]
    },
    {
     "name": "stdout",
     "output_type": "stream",
     "text": [
      "Batch 216 | Reject Differential (mean over batch): 0.0469\n",
      "Batch 216 | Reject Differential (mean over batch): 0.0576\n",
      "Batch 216 | Reject Differential (mean over batch): 0.0481\n",
      "Batch 217 | Reject Differential (mean over batch): 0.0551\n",
      "Batch 217 | Reject Differential (mean over batch): 0.0681\n",
      "Batch 217 | Reject Differential (mean over batch): 0.0509\n"
     ]
    },
    {
     "name": "stderr",
     "output_type": "stream",
     "text": [
      " 70%|█████████████████████████████████████████▍                 | 220/313 [00:25<00:10,  9.10it/s]"
     ]
    },
    {
     "name": "stdout",
     "output_type": "stream",
     "text": [
      "Batch 218 | Reject Differential (mean over batch): 0.0748\n",
      "Batch 218 | Reject Differential (mean over batch): 0.0789\n",
      "Batch 218 | Reject Differential (mean over batch): 0.0372\n",
      "Batch 219 | Reject Differential (mean over batch): 0.0581\n",
      "Batch 219 | Reject Differential (mean over batch): 0.0778\n",
      "Batch 219 | Reject Differential (mean over batch): 0.0522\n"
     ]
    },
    {
     "name": "stderr",
     "output_type": "stream",
     "text": [
      " 71%|█████████████████████████████████████████▊                 | 222/313 [00:25<00:10,  9.05it/s]"
     ]
    },
    {
     "name": "stdout",
     "output_type": "stream",
     "text": [
      "Batch 220 | Reject Differential (mean over batch): 0.0553\n",
      "Batch 220 | Reject Differential (mean over batch): 0.0609\n",
      "Batch 220 | Reject Differential (mean over batch): 0.0505\n",
      "Batch 221 | Reject Differential (mean over batch): 0.0634\n",
      "Batch 221 | Reject Differential (mean over batch): 0.0601\n",
      "Batch 221 | Reject Differential (mean over batch): 0.0438\n"
     ]
    },
    {
     "name": "stderr",
     "output_type": "stream",
     "text": [
      " 72%|██████████████████████████████████████████▏                | 224/313 [00:25<00:09,  9.22it/s]"
     ]
    },
    {
     "name": "stdout",
     "output_type": "stream",
     "text": [
      "Batch 222 | Reject Differential (mean over batch): 0.0490\n",
      "Batch 222 | Reject Differential (mean over batch): 0.0521\n",
      "Batch 222 | Reject Differential (mean over batch): 0.0501\n",
      "Batch 223 | Reject Differential (mean over batch): 0.0569\n",
      "Batch 223 | Reject Differential (mean over batch): 0.0729\n",
      "Batch 223 | Reject Differential (mean over batch): 0.0517\n"
     ]
    },
    {
     "name": "stderr",
     "output_type": "stream",
     "text": [
      " 72%|██████████████████████████████████████████▌                | 226/313 [00:26<00:09,  9.40it/s]"
     ]
    },
    {
     "name": "stdout",
     "output_type": "stream",
     "text": [
      "Batch 224 | Reject Differential (mean over batch): 0.0552\n",
      "Batch 224 | Reject Differential (mean over batch): 0.0636\n",
      "Batch 224 | Reject Differential (mean over batch): 0.0475\n",
      "Batch 225 | Reject Differential (mean over batch): 0.0551\n",
      "Batch 225 | Reject Differential (mean over batch): 0.0673\n",
      "Batch 225 | Reject Differential (mean over batch): 0.0439\n"
     ]
    },
    {
     "name": "stderr",
     "output_type": "stream",
     "text": [
      " 73%|██████████████████████████████████████████▉                | 228/313 [00:26<00:09,  8.97it/s]"
     ]
    },
    {
     "name": "stdout",
     "output_type": "stream",
     "text": [
      "Batch 226 | Reject Differential (mean over batch): 0.0653\n",
      "Batch 226 | Reject Differential (mean over batch): 0.0579\n",
      "Batch 226 | Reject Differential (mean over batch): 0.0464\n",
      "Batch 227 | Reject Differential (mean over batch): 0.0779\n",
      "Batch 227 | Reject Differential (mean over batch): 0.0791\n",
      "Batch 227 | Reject Differential (mean over batch): 0.0686\n"
     ]
    },
    {
     "name": "stderr",
     "output_type": "stream",
     "text": [
      " 73%|███████████████████████████████████████████▎               | 230/313 [00:26<00:08,  9.27it/s]"
     ]
    },
    {
     "name": "stdout",
     "output_type": "stream",
     "text": [
      "Batch 228 | Reject Differential (mean over batch): 0.0535\n",
      "Batch 228 | Reject Differential (mean over batch): 0.0622\n",
      "Batch 228 | Reject Differential (mean over batch): 0.0503\n",
      "Batch 229 | Reject Differential (mean over batch): 0.0506\n",
      "Batch 229 | Reject Differential (mean over batch): 0.0499\n",
      "Batch 229 | Reject Differential (mean over batch): 0.0468\n"
     ]
    },
    {
     "name": "stderr",
     "output_type": "stream",
     "text": [
      " 74%|███████████████████████████████████████████▋               | 232/313 [00:26<00:08,  9.48it/s]"
     ]
    },
    {
     "name": "stdout",
     "output_type": "stream",
     "text": [
      "Batch 230 | Reject Differential (mean over batch): 0.0569\n",
      "Batch 230 | Reject Differential (mean over batch): 0.0674\n",
      "Batch 230 | Reject Differential (mean over batch): 0.0484\n",
      "Batch 231 | Reject Differential (mean over batch): 0.0499\n",
      "Batch 231 | Reject Differential (mean over batch): 0.0669\n",
      "Batch 231 | Reject Differential (mean over batch): 0.0501\n"
     ]
    },
    {
     "name": "stderr",
     "output_type": "stream",
     "text": [
      " 75%|████████████████████████████████████████████               | 234/313 [00:26<00:08,  9.41it/s]"
     ]
    },
    {
     "name": "stdout",
     "output_type": "stream",
     "text": [
      "Batch 232 | Reject Differential (mean over batch): 0.0710\n",
      "Batch 232 | Reject Differential (mean over batch): 0.0850\n",
      "Batch 232 | Reject Differential (mean over batch): 0.0636\n",
      "Batch 233 | Reject Differential (mean over batch): 0.0413\n",
      "Batch 233 | Reject Differential (mean over batch): 0.0488\n",
      "Batch 233 | Reject Differential (mean over batch): 0.0414\n"
     ]
    },
    {
     "name": "stderr",
     "output_type": "stream",
     "text": [
      " 75%|████████████████████████████████████████████▍              | 236/313 [00:27<00:08,  9.57it/s]"
     ]
    },
    {
     "name": "stdout",
     "output_type": "stream",
     "text": [
      "Batch 234 | Reject Differential (mean over batch): 0.0716\n",
      "Batch 234 | Reject Differential (mean over batch): 0.0761\n",
      "Batch 234 | Reject Differential (mean over batch): 0.0538\n",
      "Batch 235 | Reject Differential (mean over batch): 0.0625\n",
      "Batch 235 | Reject Differential (mean over batch): 0.0658\n",
      "Batch 235 | Reject Differential (mean over batch): 0.0486\n"
     ]
    },
    {
     "name": "stderr",
     "output_type": "stream",
     "text": [
      " 76%|████████████████████████████████████████████▊              | 238/313 [00:27<00:07,  9.43it/s]"
     ]
    },
    {
     "name": "stdout",
     "output_type": "stream",
     "text": [
      "Batch 236 | Reject Differential (mean over batch): 0.0453\n",
      "Batch 236 | Reject Differential (mean over batch): 0.0757\n",
      "Batch 236 | Reject Differential (mean over batch): 0.0572\n",
      "Batch 237 | Reject Differential (mean over batch): 0.0767\n",
      "Batch 237 | Reject Differential (mean over batch): 0.0859\n",
      "Batch 237 | Reject Differential (mean over batch): 0.0566\n"
     ]
    },
    {
     "name": "stderr",
     "output_type": "stream",
     "text": [
      " 77%|█████████████████████████████████████████████▏             | 240/313 [00:27<00:07,  9.38it/s]"
     ]
    },
    {
     "name": "stdout",
     "output_type": "stream",
     "text": [
      "Batch 238 | Reject Differential (mean over batch): 0.0832\n",
      "Batch 238 | Reject Differential (mean over batch): 0.0689\n",
      "Batch 238 | Reject Differential (mean over batch): 0.0613\n",
      "Batch 239 | Reject Differential (mean over batch): 0.0513\n",
      "Batch 239 | Reject Differential (mean over batch): 0.0406\n",
      "Batch 239 | Reject Differential (mean over batch): 0.0398\n"
     ]
    },
    {
     "name": "stderr",
     "output_type": "stream",
     "text": [
      " 77%|█████████████████████████████████████████████▌             | 242/313 [00:27<00:08,  8.65it/s]"
     ]
    },
    {
     "name": "stdout",
     "output_type": "stream",
     "text": [
      "Batch 240 | Reject Differential (mean over batch): 0.0670\n",
      "Batch 240 | Reject Differential (mean over batch): 0.0563\n",
      "Batch 240 | Reject Differential (mean over batch): 0.0425\n",
      "Batch 241 | Reject Differential (mean over batch): 0.0471\n",
      "Batch 241 | Reject Differential (mean over batch): 0.0527\n",
      "Batch 241 | Reject Differential (mean over batch): 0.0435\n"
     ]
    },
    {
     "name": "stderr",
     "output_type": "stream",
     "text": [
      " 78%|█████████████████████████████████████████████▉             | 244/313 [00:28<00:07,  9.05it/s]"
     ]
    },
    {
     "name": "stdout",
     "output_type": "stream",
     "text": [
      "Batch 242 | Reject Differential (mean over batch): 0.0805\n",
      "Batch 242 | Reject Differential (mean over batch): 0.0827\n",
      "Batch 242 | Reject Differential (mean over batch): 0.0542\n",
      "Batch 243 | Reject Differential (mean over batch): 0.0561\n",
      "Batch 243 | Reject Differential (mean over batch): 0.0585\n",
      "Batch 243 | Reject Differential (mean over batch): 0.0441\n"
     ]
    },
    {
     "name": "stderr",
     "output_type": "stream",
     "text": [
      " 79%|██████████████████████████████████████████████▎            | 246/313 [00:28<00:07,  8.43it/s]"
     ]
    },
    {
     "name": "stdout",
     "output_type": "stream",
     "text": [
      "Batch 244 | Reject Differential (mean over batch): 0.0675\n",
      "Batch 244 | Reject Differential (mean over batch): 0.0754\n",
      "Batch 244 | Reject Differential (mean over batch): 0.0456\n",
      "Batch 245 | Reject Differential (mean over batch): 0.0545\n",
      "Batch 245 | Reject Differential (mean over batch): 0.0777\n",
      "Batch 245 | Reject Differential (mean over batch): 0.0798\n"
     ]
    },
    {
     "name": "stderr",
     "output_type": "stream",
     "text": [
      " 79%|██████████████████████████████████████████████▋            | 248/313 [00:28<00:07,  8.39it/s]"
     ]
    },
    {
     "name": "stdout",
     "output_type": "stream",
     "text": [
      "Batch 246 | Reject Differential (mean over batch): 0.0501\n",
      "Batch 246 | Reject Differential (mean over batch): 0.0455\n",
      "Batch 246 | Reject Differential (mean over batch): 0.0407\n",
      "Batch 247 | Reject Differential (mean over batch): 0.0551\n",
      "Batch 247 | Reject Differential (mean over batch): 0.0546\n",
      "Batch 247 | Reject Differential (mean over batch): 0.0372\n"
     ]
    },
    {
     "name": "stderr",
     "output_type": "stream",
     "text": [
      " 80%|███████████████████████████████████████████████            | 250/313 [00:28<00:07,  8.67it/s]"
     ]
    },
    {
     "name": "stdout",
     "output_type": "stream",
     "text": [
      "Batch 248 | Reject Differential (mean over batch): 0.0593\n",
      "Batch 248 | Reject Differential (mean over batch): 0.0623\n",
      "Batch 248 | Reject Differential (mean over batch): 0.0435\n",
      "Batch 249 | Reject Differential (mean over batch): 0.0631\n",
      "Batch 249 | Reject Differential (mean over batch): 0.0490\n",
      "Batch 249 | Reject Differential (mean over batch): 0.0492\n"
     ]
    },
    {
     "name": "stderr",
     "output_type": "stream",
     "text": [
      " 81%|███████████████████████████████████████████████▌           | 252/313 [00:28<00:06,  8.92it/s]"
     ]
    },
    {
     "name": "stdout",
     "output_type": "stream",
     "text": [
      "Batch 250 | Reject Differential (mean over batch): 0.0528\n",
      "Batch 250 | Reject Differential (mean over batch): 0.0464\n",
      "Batch 250 | Reject Differential (mean over batch): 0.0572\n",
      "Batch 251 | Reject Differential (mean over batch): 0.0560\n",
      "Batch 251 | Reject Differential (mean over batch): 0.0767\n",
      "Batch 251 | Reject Differential (mean over batch): 0.0621\n"
     ]
    },
    {
     "name": "stderr",
     "output_type": "stream",
     "text": [
      " 81%|███████████████████████████████████████████████▉           | 254/313 [00:29<00:06,  8.79it/s]"
     ]
    },
    {
     "name": "stdout",
     "output_type": "stream",
     "text": [
      "Batch 252 | Reject Differential (mean over batch): 0.0439\n",
      "Batch 252 | Reject Differential (mean over batch): 0.0638\n",
      "Batch 252 | Reject Differential (mean over batch): 0.0401\n",
      "Batch 253 | Reject Differential (mean over batch): 0.0686\n",
      "Batch 253 | Reject Differential (mean over batch): 0.0638\n",
      "Batch 253 | Reject Differential (mean over batch): 0.0593\n"
     ]
    },
    {
     "name": "stderr",
     "output_type": "stream",
     "text": [
      " 82%|████████████████████████████████████████████████▎          | 256/313 [00:29<00:06,  9.10it/s]"
     ]
    },
    {
     "name": "stdout",
     "output_type": "stream",
     "text": [
      "Batch 254 | Reject Differential (mean over batch): 0.0609\n",
      "Batch 254 | Reject Differential (mean over batch): 0.0483\n",
      "Batch 254 | Reject Differential (mean over batch): 0.0438\n",
      "Batch 255 | Reject Differential (mean over batch): 0.0580\n",
      "Batch 255 | Reject Differential (mean over batch): 0.0546\n",
      "Batch 255 | Reject Differential (mean over batch): 0.0468\n"
     ]
    },
    {
     "name": "stderr",
     "output_type": "stream",
     "text": [
      " 82%|████████████████████████████████████████████████▋          | 258/313 [00:29<00:05,  9.28it/s]"
     ]
    },
    {
     "name": "stdout",
     "output_type": "stream",
     "text": [
      "Batch 256 | Reject Differential (mean over batch): 0.0523\n",
      "Batch 256 | Reject Differential (mean over batch): 0.0498\n",
      "Batch 256 | Reject Differential (mean over batch): 0.0466\n",
      "Batch 257 | Reject Differential (mean over batch): 0.0489\n",
      "Batch 257 | Reject Differential (mean over batch): 0.0569\n",
      "Batch 257 | Reject Differential (mean over batch): 0.0377\n"
     ]
    },
    {
     "name": "stderr",
     "output_type": "stream",
     "text": [
      " 83%|█████████████████████████████████████████████████          | 260/313 [00:29<00:05,  9.00it/s]"
     ]
    },
    {
     "name": "stdout",
     "output_type": "stream",
     "text": [
      "Batch 258 | Reject Differential (mean over batch): 0.0689\n",
      "Batch 258 | Reject Differential (mean over batch): 0.0634\n",
      "Batch 258 | Reject Differential (mean over batch): 0.0542\n",
      "Batch 259 | Reject Differential (mean over batch): 0.0546\n",
      "Batch 259 | Reject Differential (mean over batch): 0.0528\n",
      "Batch 259 | Reject Differential (mean over batch): 0.0442\n"
     ]
    },
    {
     "name": "stderr",
     "output_type": "stream",
     "text": [
      " 84%|█████████████████████████████████████████████████▍         | 262/313 [00:30<00:05,  9.20it/s]"
     ]
    },
    {
     "name": "stdout",
     "output_type": "stream",
     "text": [
      "Batch 260 | Reject Differential (mean over batch): 0.0651\n",
      "Batch 260 | Reject Differential (mean over batch): 0.0702\n",
      "Batch 260 | Reject Differential (mean over batch): 0.0488\n",
      "Batch 261 | Reject Differential (mean over batch): 0.0512\n",
      "Batch 261 | Reject Differential (mean over batch): 0.0508\n",
      "Batch 261 | Reject Differential (mean over batch): 0.0489\n"
     ]
    },
    {
     "name": "stderr",
     "output_type": "stream",
     "text": [
      " 84%|█████████████████████████████████████████████████▊         | 264/313 [00:30<00:05,  8.88it/s]"
     ]
    },
    {
     "name": "stdout",
     "output_type": "stream",
     "text": [
      "Batch 262 | Reject Differential (mean over batch): 0.0523\n",
      "Batch 262 | Reject Differential (mean over batch): 0.0603\n",
      "Batch 262 | Reject Differential (mean over batch): 0.0442\n",
      "Batch 263 | Reject Differential (mean over batch): 0.0377\n",
      "Batch 263 | Reject Differential (mean over batch): 0.0512\n",
      "Batch 263 | Reject Differential (mean over batch): 0.0463\n"
     ]
    },
    {
     "name": "stderr",
     "output_type": "stream",
     "text": [
      " 85%|██████████████████████████████████████████████████▏        | 266/313 [00:30<00:05,  8.91it/s]"
     ]
    },
    {
     "name": "stdout",
     "output_type": "stream",
     "text": [
      "Batch 264 | Reject Differential (mean over batch): 0.0564\n",
      "Batch 264 | Reject Differential (mean over batch): 0.0629\n",
      "Batch 264 | Reject Differential (mean over batch): 0.0497\n",
      "Batch 265 | Reject Differential (mean over batch): 0.0641\n",
      "Batch 265 | Reject Differential (mean over batch): 0.0703\n",
      "Batch 265 | Reject Differential (mean over batch): 0.0526\n"
     ]
    },
    {
     "name": "stderr",
     "output_type": "stream",
     "text": [
      " 86%|██████████████████████████████████████████████████▌        | 268/313 [00:30<00:04,  9.20it/s]"
     ]
    },
    {
     "name": "stdout",
     "output_type": "stream",
     "text": [
      "Batch 266 | Reject Differential (mean over batch): 0.0540\n",
      "Batch 266 | Reject Differential (mean over batch): 0.0546\n",
      "Batch 266 | Reject Differential (mean over batch): 0.0545\n",
      "Batch 267 | Reject Differential (mean over batch): 0.0551\n",
      "Batch 267 | Reject Differential (mean over batch): 0.0591\n",
      "Batch 267 | Reject Differential (mean over batch): 0.0436\n"
     ]
    },
    {
     "name": "stderr",
     "output_type": "stream",
     "text": [
      " 86%|██████████████████████████████████████████████████▉        | 270/313 [00:30<00:04,  9.41it/s]"
     ]
    },
    {
     "name": "stdout",
     "output_type": "stream",
     "text": [
      "Batch 268 | Reject Differential (mean over batch): 0.0602\n",
      "Batch 268 | Reject Differential (mean over batch): 0.0596\n",
      "Batch 268 | Reject Differential (mean over batch): 0.0443\n",
      "Batch 269 | Reject Differential (mean over batch): 0.0760\n",
      "Batch 269 | Reject Differential (mean over batch): 0.0835\n",
      "Batch 269 | Reject Differential (mean over batch): 0.0635\n"
     ]
    },
    {
     "name": "stderr",
     "output_type": "stream",
     "text": [
      " 87%|███████████████████████████████████████████████████▎       | 272/313 [00:31<00:04,  9.51it/s]"
     ]
    },
    {
     "name": "stdout",
     "output_type": "stream",
     "text": [
      "Batch 270 | Reject Differential (mean over batch): 0.0387\n",
      "Batch 270 | Reject Differential (mean over batch): 0.0632\n",
      "Batch 270 | Reject Differential (mean over batch): 0.0448\n",
      "Batch 271 | Reject Differential (mean over batch): 0.0935\n",
      "Batch 271 | Reject Differential (mean over batch): 0.0912\n",
      "Batch 271 | Reject Differential (mean over batch): 0.0746\n"
     ]
    },
    {
     "name": "stderr",
     "output_type": "stream",
     "text": [
      " 88%|███████████████████████████████████████████████████▋       | 274/313 [00:31<00:04,  9.42it/s]"
     ]
    },
    {
     "name": "stdout",
     "output_type": "stream",
     "text": [
      "Batch 272 | Reject Differential (mean over batch): 0.0709\n",
      "Batch 272 | Reject Differential (mean over batch): 0.0744\n",
      "Batch 272 | Reject Differential (mean over batch): 0.0620\n",
      "Batch 273 | Reject Differential (mean over batch): 0.0683\n",
      "Batch 273 | Reject Differential (mean over batch): 0.0733\n",
      "Batch 273 | Reject Differential (mean over batch): 0.0507\n"
     ]
    },
    {
     "name": "stderr",
     "output_type": "stream",
     "text": [
      " 88%|████████████████████████████████████████████████████       | 276/313 [00:31<00:04,  8.87it/s]"
     ]
    },
    {
     "name": "stdout",
     "output_type": "stream",
     "text": [
      "Batch 274 | Reject Differential (mean over batch): 0.0642\n",
      "Batch 274 | Reject Differential (mean over batch): 0.0530\n",
      "Batch 274 | Reject Differential (mean over batch): 0.0397\n",
      "Batch 275 | Reject Differential (mean over batch): 0.0552\n",
      "Batch 275 | Reject Differential (mean over batch): 0.0689\n",
      "Batch 275 | Reject Differential (mean over batch): 0.0492\n"
     ]
    },
    {
     "name": "stderr",
     "output_type": "stream",
     "text": [
      " 89%|████████████████████████████████████████████████████▍      | 278/313 [00:31<00:03,  9.24it/s]"
     ]
    },
    {
     "name": "stdout",
     "output_type": "stream",
     "text": [
      "Batch 276 | Reject Differential (mean over batch): 0.0511\n",
      "Batch 276 | Reject Differential (mean over batch): 0.0596\n",
      "Batch 276 | Reject Differential (mean over batch): 0.0554\n",
      "Batch 277 | Reject Differential (mean over batch): 0.0699\n",
      "Batch 277 | Reject Differential (mean over batch): 0.0810\n",
      "Batch 277 | Reject Differential (mean over batch): 0.0554\n"
     ]
    },
    {
     "name": "stderr",
     "output_type": "stream",
     "text": [
      " 89%|████████████████████████████████████████████████████▊      | 280/313 [00:32<00:03,  9.21it/s]"
     ]
    },
    {
     "name": "stdout",
     "output_type": "stream",
     "text": [
      "Batch 278 | Reject Differential (mean over batch): 0.0372\n",
      "Batch 278 | Reject Differential (mean over batch): 0.0503\n",
      "Batch 278 | Reject Differential (mean over batch): 0.0528\n",
      "Batch 279 | Reject Differential (mean over batch): 0.0565\n",
      "Batch 279 | Reject Differential (mean over batch): 0.0659\n",
      "Batch 279 | Reject Differential (mean over batch): 0.0592\n"
     ]
    },
    {
     "name": "stderr",
     "output_type": "stream",
     "text": [
      " 90%|█████████████████████████████████████████████████████▏     | 282/313 [00:32<00:03,  9.22it/s]"
     ]
    },
    {
     "name": "stdout",
     "output_type": "stream",
     "text": [
      "Batch 280 | Reject Differential (mean over batch): 0.0528\n",
      "Batch 280 | Reject Differential (mean over batch): 0.0540\n",
      "Batch 280 | Reject Differential (mean over batch): 0.0550\n",
      "Batch 281 | Reject Differential (mean over batch): 0.0825\n",
      "Batch 281 | Reject Differential (mean over batch): 0.0944\n",
      "Batch 281 | Reject Differential (mean over batch): 0.0625\n"
     ]
    },
    {
     "name": "stderr",
     "output_type": "stream",
     "text": [
      " 91%|█████████████████████████████████████████████████████▌     | 284/313 [00:32<00:03,  9.38it/s]"
     ]
    },
    {
     "name": "stdout",
     "output_type": "stream",
     "text": [
      "Batch 282 | Reject Differential (mean over batch): 0.0630\n",
      "Batch 282 | Reject Differential (mean over batch): 0.0655\n",
      "Batch 282 | Reject Differential (mean over batch): 0.0687\n",
      "Batch 283 | Reject Differential (mean over batch): 0.0403\n",
      "Batch 283 | Reject Differential (mean over batch): 0.0478\n",
      "Batch 283 | Reject Differential (mean over batch): 0.0366\n"
     ]
    },
    {
     "name": "stderr",
     "output_type": "stream",
     "text": [
      " 91%|█████████████████████████████████████████████████████▉     | 286/313 [00:32<00:02,  9.21it/s]"
     ]
    },
    {
     "name": "stdout",
     "output_type": "stream",
     "text": [
      "Batch 284 | Reject Differential (mean over batch): 0.0564\n",
      "Batch 284 | Reject Differential (mean over batch): 0.0663\n",
      "Batch 284 | Reject Differential (mean over batch): 0.0651\n",
      "Batch 285 | Reject Differential (mean over batch): 0.0723\n",
      "Batch 285 | Reject Differential (mean over batch): 0.0784\n",
      "Batch 285 | Reject Differential (mean over batch): 0.0585\n"
     ]
    },
    {
     "name": "stderr",
     "output_type": "stream",
     "text": [
      " 92%|██████████████████████████████████████████████████████▎    | 288/313 [00:32<00:02,  9.42it/s]"
     ]
    },
    {
     "name": "stdout",
     "output_type": "stream",
     "text": [
      "Batch 286 | Reject Differential (mean over batch): 0.0432\n",
      "Batch 286 | Reject Differential (mean over batch): 0.0512\n",
      "Batch 286 | Reject Differential (mean over batch): 0.0465\n",
      "Batch 287 | Reject Differential (mean over batch): 0.0527\n",
      "Batch 287 | Reject Differential (mean over batch): 0.0529\n",
      "Batch 287 | Reject Differential (mean over batch): 0.0490\n"
     ]
    },
    {
     "name": "stderr",
     "output_type": "stream",
     "text": [
      " 93%|██████████████████████████████████████████████████████▋    | 290/313 [00:33<00:02,  9.57it/s]"
     ]
    },
    {
     "name": "stdout",
     "output_type": "stream",
     "text": [
      "Batch 288 | Reject Differential (mean over batch): 0.0600\n",
      "Batch 288 | Reject Differential (mean over batch): 0.0621\n",
      "Batch 288 | Reject Differential (mean over batch): 0.0482\n",
      "Batch 289 | Reject Differential (mean over batch): 0.0812\n",
      "Batch 289 | Reject Differential (mean over batch): 0.0826\n",
      "Batch 289 | Reject Differential (mean over batch): 0.0683\n"
     ]
    },
    {
     "name": "stderr",
     "output_type": "stream",
     "text": [
      " 93%|███████████████████████████████████████████████████████    | 292/313 [00:33<00:02,  9.65it/s]"
     ]
    },
    {
     "name": "stdout",
     "output_type": "stream",
     "text": [
      "Batch 290 | Reject Differential (mean over batch): 0.0653\n",
      "Batch 290 | Reject Differential (mean over batch): 0.0796\n",
      "Batch 290 | Reject Differential (mean over batch): 0.0634\n",
      "Batch 291 | Reject Differential (mean over batch): 0.0704\n",
      "Batch 291 | Reject Differential (mean over batch): 0.0651\n",
      "Batch 291 | Reject Differential (mean over batch): 0.0504\n"
     ]
    },
    {
     "name": "stderr",
     "output_type": "stream",
     "text": [
      " 94%|███████████████████████████████████████████████████████▍   | 294/313 [00:33<00:02,  9.47it/s]"
     ]
    },
    {
     "name": "stdout",
     "output_type": "stream",
     "text": [
      "Batch 292 | Reject Differential (mean over batch): 0.0509\n",
      "Batch 292 | Reject Differential (mean over batch): 0.0560\n",
      "Batch 292 | Reject Differential (mean over batch): 0.0472\n",
      "Batch 293 | Reject Differential (mean over batch): 0.0462\n",
      "Batch 293 | Reject Differential (mean over batch): 0.0779\n",
      "Batch 293 | Reject Differential (mean over batch): 0.0583\n"
     ]
    },
    {
     "name": "stderr",
     "output_type": "stream",
     "text": [
      " 95%|███████████████████████████████████████████████████████▊   | 296/313 [00:33<00:01,  9.47it/s]"
     ]
    },
    {
     "name": "stdout",
     "output_type": "stream",
     "text": [
      "Batch 294 | Reject Differential (mean over batch): 0.0448\n",
      "Batch 294 | Reject Differential (mean over batch): 0.0666\n",
      "Batch 294 | Reject Differential (mean over batch): 0.0476\n",
      "Batch 295 | Reject Differential (mean over batch): 0.0606\n",
      "Batch 295 | Reject Differential (mean over batch): 0.0566\n",
      "Batch 295 | Reject Differential (mean over batch): 0.0529\n"
     ]
    },
    {
     "name": "stderr",
     "output_type": "stream",
     "text": [
      " 95%|████████████████████████████████████████████████████████▏  | 298/313 [00:33<00:01,  9.42it/s]"
     ]
    },
    {
     "name": "stdout",
     "output_type": "stream",
     "text": [
      "Batch 296 | Reject Differential (mean over batch): 0.0476\n",
      "Batch 296 | Reject Differential (mean over batch): 0.0532\n",
      "Batch 296 | Reject Differential (mean over batch): 0.0374\n",
      "Batch 297 | Reject Differential (mean over batch): 0.0617\n",
      "Batch 297 | Reject Differential (mean over batch): 0.0668\n",
      "Batch 297 | Reject Differential (mean over batch): 0.0499\n"
     ]
    },
    {
     "name": "stderr",
     "output_type": "stream",
     "text": [
      " 96%|████████████████████████████████████████████████████████▌  | 300/313 [00:34<00:01,  9.42it/s]"
     ]
    },
    {
     "name": "stdout",
     "output_type": "stream",
     "text": [
      "Batch 298 | Reject Differential (mean over batch): 0.0671\n",
      "Batch 298 | Reject Differential (mean over batch): 0.0667\n",
      "Batch 298 | Reject Differential (mean over batch): 0.0495\n",
      "Batch 299 | Reject Differential (mean over batch): 0.0474\n",
      "Batch 299 | Reject Differential (mean over batch): 0.0692\n",
      "Batch 299 | Reject Differential (mean over batch): 0.0565\n"
     ]
    },
    {
     "name": "stderr",
     "output_type": "stream",
     "text": [
      " 96%|████████████████████████████████████████████████████████▉  | 302/313 [00:34<00:01,  9.53it/s]"
     ]
    },
    {
     "name": "stdout",
     "output_type": "stream",
     "text": [
      "Batch 300 | Reject Differential (mean over batch): 0.0500\n",
      "Batch 300 | Reject Differential (mean over batch): 0.0468\n",
      "Batch 300 | Reject Differential (mean over batch): 0.0466\n",
      "Batch 301 | Reject Differential (mean over batch): 0.0778\n",
      "Batch 301 | Reject Differential (mean over batch): 0.0756\n",
      "Batch 301 | Reject Differential (mean over batch): 0.0596\n"
     ]
    },
    {
     "name": "stderr",
     "output_type": "stream",
     "text": [
      " 97%|█████████████████████████████████████████████████████████▎ | 304/313 [00:34<00:00,  9.24it/s]"
     ]
    },
    {
     "name": "stdout",
     "output_type": "stream",
     "text": [
      "Batch 302 | Reject Differential (mean over batch): 0.0662\n",
      "Batch 302 | Reject Differential (mean over batch): 0.0692\n",
      "Batch 302 | Reject Differential (mean over batch): 0.0533\n",
      "Batch 303 | Reject Differential (mean over batch): 0.0587\n",
      "Batch 303 | Reject Differential (mean over batch): 0.0575\n",
      "Batch 303 | Reject Differential (mean over batch): 0.0546\n"
     ]
    },
    {
     "name": "stderr",
     "output_type": "stream",
     "text": [
      " 98%|█████████████████████████████████████████████████████████▋ | 306/313 [00:34<00:00,  9.44it/s]"
     ]
    },
    {
     "name": "stdout",
     "output_type": "stream",
     "text": [
      "Batch 304 | Reject Differential (mean over batch): 0.0479\n",
      "Batch 304 | Reject Differential (mean over batch): 0.0592\n",
      "Batch 304 | Reject Differential (mean over batch): 0.0396\n",
      "Batch 305 | Reject Differential (mean over batch): 0.0608\n",
      "Batch 305 | Reject Differential (mean over batch): 0.0612\n",
      "Batch 305 | Reject Differential (mean over batch): 0.0447\n"
     ]
    },
    {
     "name": "stderr",
     "output_type": "stream",
     "text": [
      " 98%|██████████████████████████████████████████████████████████ | 308/313 [00:34<00:00,  9.49it/s]"
     ]
    },
    {
     "name": "stdout",
     "output_type": "stream",
     "text": [
      "Batch 306 | Reject Differential (mean over batch): 0.0685\n",
      "Batch 306 | Reject Differential (mean over batch): 0.0668\n",
      "Batch 306 | Reject Differential (mean over batch): 0.0390\n",
      "Batch 307 | Reject Differential (mean over batch): 0.0464\n",
      "Batch 307 | Reject Differential (mean over batch): 0.0431\n",
      "Batch 307 | Reject Differential (mean over batch): 0.0487\n"
     ]
    },
    {
     "name": "stderr",
     "output_type": "stream",
     "text": [
      " 99%|██████████████████████████████████████████████████████████▍| 310/313 [00:35<00:00,  8.86it/s]"
     ]
    },
    {
     "name": "stdout",
     "output_type": "stream",
     "text": [
      "Batch 308 | Reject Differential (mean over batch): 0.0489\n",
      "Batch 308 | Reject Differential (mean over batch): 0.0390\n",
      "Batch 308 | Reject Differential (mean over batch): 0.0353\n",
      "Batch 309 | Reject Differential (mean over batch): 0.0493\n",
      "Batch 309 | Reject Differential (mean over batch): 0.0596\n",
      "Batch 309 | Reject Differential (mean over batch): 0.0535\n"
     ]
    },
    {
     "name": "stderr",
     "output_type": "stream",
     "text": [
      "100%|██████████████████████████████████████████████████████████▊| 312/313 [00:35<00:00,  8.43it/s]"
     ]
    },
    {
     "name": "stdout",
     "output_type": "stream",
     "text": [
      "Batch 310 | Reject Differential (mean over batch): 0.0694\n",
      "Batch 310 | Reject Differential (mean over batch): 0.0623\n",
      "Batch 310 | Reject Differential (mean over batch): 0.0483\n",
      "Batch 311 | Reject Differential (mean over batch): 0.0421\n",
      "Batch 311 | Reject Differential (mean over batch): 0.0657\n",
      "Batch 311 | Reject Differential (mean over batch): 0.0487\n"
     ]
    },
    {
     "name": "stderr",
     "output_type": "stream",
     "text": [
      "100%|███████████████████████████████████████████████████████████| 313/313 [00:35<00:00,  8.81it/s]"
     ]
    },
    {
     "name": "stdout",
     "output_type": "stream",
     "text": [
      "Batch 312 | Reject Differential (mean over batch): 0.0457\n",
      "Batch 312 | Reject Differential (mean over batch): 0.0591\n",
      "Batch 312 | Reject Differential (mean over batch): 0.0379\n"
     ]
    },
    {
     "name": "stderr",
     "output_type": "stream",
     "text": [
      "\n"
     ]
    }
   ],
   "source": [
    "reject_diffs = []\n",
    "\n",
    "# If batch_size > 1, we get multiple images each iteration.\n",
    "for i, (image, label) in enumerate(tqdm(testloader)):\n",
    "   \n",
    "    image = image.to(device)\n",
    "\n",
    "\n",
    "    with torch.no_grad():\n",
    "        original_output = AlexNet(image)\n",
    "        original_prob = F.softmax(original_output, dim=1)\n",
    "        original_confidence, original_pred = torch.max(original_prob, dim=1)  # shape [batch_size]\n",
    "\n",
    "    \n",
    "    for tf in transformations:\n",
    "        transformed_image = tf(image.cpu()).to(device)\n",
    "        \n",
    "        with torch.no_grad():\n",
    "            transformed_output = AlexNet(transformed_image)\n",
    "            transformed_prob = F.softmax(transformed_output, dim=1)\n",
    "            transformed_confidence, transformed_pred = torch.max(transformed_prob, dim=1)\n",
    "        \n",
    "        # Compute absolute difference in confidence for the entire batch\n",
    "        # shape [batch_size]\n",
    "        diff_tensor = torch.abs(original_confidence - transformed_confidence)\n",
    "\n",
    "        \n",
    "        diff_mean = diff_tensor.mean().item()\n",
    "        reject_diffs.append(diff_mean)\n",
    "\n",
    "        \n",
    "        print(f\"Batch {i} | \"\n",
    "              f\"Reject Differential (mean over batch): {diff_mean:.4f}\")"
   ]
  },
  {
   "cell_type": "code",
   "execution_count": 10,
   "id": "27c8abd0-862f-4c35-93ae-7bee7fd6c237",
   "metadata": {},
   "outputs": [
    {
     "name": "stderr",
     "output_type": "stream",
     "text": [
      "100%|█████████████████████████████████████████████████████████| 1563/1563 [01:20<00:00, 19.45it/s]\n"
     ]
    },
    {
     "name": "stdout",
     "output_type": "stream",
     "text": [
      "Train Loss: 0.0211, Train Acc: 76.36\n"
     ]
    },
    {
     "name": "stderr",
     "output_type": "stream",
     "text": [
      "100%|███████████████████████████████████████████████████████████| 313/313 [00:14<00:00, 20.95it/s]\n",
      "100%|█████████████████████████████████████████████████████████| 1563/1563 [01:19<00:00, 19.77it/s]\n"
     ]
    },
    {
     "name": "stdout",
     "output_type": "stream",
     "text": [
      "Train Loss: 0.0160, Train Acc: 82.02\n"
     ]
    },
    {
     "name": "stderr",
     "output_type": "stream",
     "text": [
      "100%|███████████████████████████████████████████████████████████| 313/313 [00:15<00:00, 20.69it/s]\n",
      "100%|█████████████████████████████████████████████████████████| 1563/1563 [01:19<00:00, 19.57it/s]\n"
     ]
    },
    {
     "name": "stdout",
     "output_type": "stream",
     "text": [
      "Train Loss: 0.0138, Train Acc: 84.52\n"
     ]
    },
    {
     "name": "stderr",
     "output_type": "stream",
     "text": [
      "100%|███████████████████████████████████████████████████████████| 313/313 [00:15<00:00, 20.84it/s]\n",
      "100%|█████████████████████████████████████████████████████████| 1563/1563 [01:18<00:00, 19.94it/s]\n"
     ]
    },
    {
     "name": "stdout",
     "output_type": "stream",
     "text": [
      "Train Loss: 0.0123, Train Acc: 86.16\n"
     ]
    },
    {
     "name": "stderr",
     "output_type": "stream",
     "text": [
      "100%|███████████████████████████████████████████████████████████| 313/313 [00:14<00:00, 20.95it/s]\n",
      "100%|█████████████████████████████████████████████████████████| 1563/1563 [01:18<00:00, 19.82it/s]\n"
     ]
    },
    {
     "name": "stdout",
     "output_type": "stream",
     "text": [
      "Train Loss: 0.0113, Train Acc: 87.22\n"
     ]
    },
    {
     "name": "stderr",
     "output_type": "stream",
     "text": [
      "100%|███████████████████████████████████████████████████████████| 313/313 [00:14<00:00, 21.05it/s]\n",
      "100%|█████████████████████████████████████████████████████████| 1563/1563 [01:18<00:00, 19.82it/s]\n"
     ]
    },
    {
     "name": "stdout",
     "output_type": "stream",
     "text": [
      "Train Loss: 0.0102, Train Acc: 88.39\n"
     ]
    },
    {
     "name": "stderr",
     "output_type": "stream",
     "text": [
      "100%|███████████████████████████████████████████████████████████| 313/313 [00:14<00:00, 20.94it/s]\n",
      "100%|█████████████████████████████████████████████████████████| 1563/1563 [01:18<00:00, 19.89it/s]\n"
     ]
    },
    {
     "name": "stdout",
     "output_type": "stream",
     "text": [
      "Train Loss: 0.0093, Train Acc: 89.47\n"
     ]
    },
    {
     "name": "stderr",
     "output_type": "stream",
     "text": [
      "100%|███████████████████████████████████████████████████████████| 313/313 [00:14<00:00, 20.94it/s]\n",
      "100%|█████████████████████████████████████████████████████████| 1563/1563 [01:18<00:00, 19.87it/s]\n"
     ]
    },
    {
     "name": "stdout",
     "output_type": "stream",
     "text": [
      "Train Loss: 0.0085, Train Acc: 90.55\n"
     ]
    },
    {
     "name": "stderr",
     "output_type": "stream",
     "text": [
      "100%|███████████████████████████████████████████████████████████| 313/313 [00:15<00:00, 20.85it/s]\n",
      "100%|█████████████████████████████████████████████████████████| 1563/1563 [01:18<00:00, 19.90it/s]\n"
     ]
    },
    {
     "name": "stdout",
     "output_type": "stream",
     "text": [
      "Train Loss: 0.0078, Train Acc: 91.31\n"
     ]
    },
    {
     "name": "stderr",
     "output_type": "stream",
     "text": [
      "100%|███████████████████████████████████████████████████████████| 313/313 [00:15<00:00, 20.79it/s]\n",
      "100%|█████████████████████████████████████████████████████████| 1563/1563 [01:20<00:00, 19.30it/s]\n"
     ]
    },
    {
     "name": "stdout",
     "output_type": "stream",
     "text": [
      "Train Loss: 0.0071, Train Acc: 91.85\n"
     ]
    },
    {
     "name": "stderr",
     "output_type": "stream",
     "text": [
      "100%|███████████████████████████████████████████████████████████| 313/313 [00:14<00:00, 20.98it/s]\n"
     ]
    },
    {
     "name": "stdout",
     "output_type": "stream",
     "text": [
      "15.70696694056193 minutes\n"
     ]
    }
   ],
   "source": [
    "train_loss , train_accuracy = [], []\n",
    "val_loss , val_accuracy = [], []\n",
    "start = time.time()\n",
    "\n",
    "for epoch in range(10):\n",
    "    train_epoch_loss, train_epoch_accuracy = fit(AlexNet, trainloader)\n",
    "    val_epoch_loss, val_epoch_accuracy, precision, recall, f1 = validate(AlexNet, testloader)\n",
    "    \n",
    "    train_loss.append(train_epoch_loss)\n",
    "    train_accuracy.append(train_epoch_accuracy)\n",
    "    val_loss.append(val_epoch_loss)\n",
    "    val_accuracy.append(val_epoch_accuracy)\n",
    "\n",
    "end = time.time()\n",
    "print((end-start)/60, 'minutes')"
   ]
  },
  {
   "cell_type": "code",
   "execution_count": 11,
   "id": "e6b4323a-571d-4c72-a9a7-63dbcbe81b1f",
   "metadata": {},
   "outputs": [
    {
     "data": {
      "image/png": "[encoded data removed]",
      "text/plain": [
       "<Figure size 640x480 with 1 Axes>"
      ]
     },
     "metadata": {},
     "output_type": "display_data"
    }
   ],
   "source": [
    "# Plotting Loss\n",
    "plt.plot(range(1, 11), train_loss, label='Train Loss')\n",
    "plt.plot(range(1, 11), val_loss, label='Validation Loss')\n",
    "plt.xlabel('Epochs')\n",
    "plt.ylabel('Loss')\n",
    "plt.legend()\n",
    "plt.title('Training and Validation Loss')\n",
    "plt.show()"
   ]
  },
  {
   "cell_type": "code",
   "execution_count": 12,
   "id": "7370652a-116d-4273-97d2-7ef02f0ea501",
   "metadata": {},
   "outputs": [
    {
     "name": "stdout",
     "output_type": "stream",
     "text": [
      "Model saved as AlexNet_cifar10_RejDiff_finetuned.pth\n"
     ]
    }
   ],
   "source": [
    "# Ensure the directory exists\n",
    "model_save_path = './saved_models/AlexNet_cifar10_RejDiff_finetuned.pth'\n",
    "os.makedirs(os.path.dirname(model_save_path), exist_ok=True)\n",
    "\n",
    "# Save the model\n",
    "torch.save(AlexNet.state_dict(), model_save_path)\n",
    "print(\"Model saved as AlexNet_cifar10_RejDiff_finetuned.pth\")"
   ]
  },
  {
   "cell_type": "code",
   "execution_count": 13,
   "id": "a721ff02-c06a-4cb3-bc26-aa92c69699cf",
   "metadata": {},
   "outputs": [],
   "source": [
    "AlexNet.load_state_dict(torch.load(model_save_path, weights_only=True))\n",
    "AlexNet = AlexNet.to(device)"
   ]
  },
  {
   "cell_type": "code",
   "execution_count": 14,
   "id": "31cb8dfe-7b2c-495d-bd22-b8800364b173",
   "metadata": {},
   "outputs": [
    {
     "name": "stderr",
     "output_type": "stream",
     "text": [
      "100%|███████████████████████████████████████████████████████████| 313/313 [00:15<00:00, 20.11it/s]"
     ]
    },
    {
     "name": "stdout",
     "output_type": "stream",
     "text": [
      "\n",
      "Final Test Results - Loss: 0.0112, Accuracy: 87.94%, Precision: 0.88, Recall: 0.88, F1 Score: 0.88\n"
     ]
    },
    {
     "name": "stderr",
     "output_type": "stream",
     "text": [
      "\n"
     ]
    }
   ],
   "source": [
    "final_val_loss, final_val_accuracy, final_precision, final_recall, final_f1 = validate(AlexNet, testloader)\n",
    "print(f'\\nFinal Test Results - Loss: {final_val_loss:.4f}, Accuracy: {final_val_accuracy:.2f}%, Precision: {final_precision:.2f}, Recall: {final_recall:.2f}, F1 Score: {final_f1:.2f}')"
   ]
  },
  {
   "cell_type": "code",
   "execution_count": null,
   "id": "b4221294-cd31-4029-be81-314d07a13bc2",
   "metadata": {},
   "outputs": [],
   "source": []
  }
 ],
 "metadata": {
  "kernelspec": {
   "display_name": "Python 3 (ipykernel)",
   "language": "python",
   "name": "python3"
  },
  "language_info": {
   "codemirror_mode": {
    "name": "ipython",
    "version": 3
   },
   "file_extension": ".py",
   "mimetype": "text/x-python",
   "name": "python",
   "nbconvert_exporter": "python",
   "pygments_lexer": "ipython3",
   "version": "3.8.10"
  }
 },
 "nbformat": 4,
 "nbformat_minor": 5
}
