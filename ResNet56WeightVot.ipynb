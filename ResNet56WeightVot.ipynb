{
 "cells": [
  {
   "cell_type": "code",
   "execution_count": 1,
   "id": "494f6d27-11f2-48e6-9e8d-38f904b550fe",
   "metadata": {
    "editable": true,
    "slideshow": {
     "slide_type": ""
    },
    "tags": []
   },
   "outputs": [
    {
     "name": "stdout",
     "output_type": "stream",
     "text": [
      "Using device: cuda\n"
     ]
    }
   ],
   "source": [
    "import torch\n",
    "import torch.nn as nn\n",
    "import torch.optim as optim\n",
    "import torchvision\n",
    "import torchvision.transforms as transforms\n",
    "import torch\n",
    "import torch.nn.functional as F\n",
    "from tqdm import tqdm\n",
    "from sklearn.metrics import precision_score, recall_score, f1_score\n",
    "\n",
    "device = torch.device('cuda' if torch.cuda.is_available() else 'cpu')\n",
    "print(\"Using device:\", device)"
   ]
  },
  {
   "cell_type": "code",
   "execution_count": 2,
   "id": "94903986-c000-4434-a55c-4ff3cd1d8742",
   "metadata": {},
   "outputs": [
    {
     "name": "stdout",
     "output_type": "stream",
     "text": [
      "Files already downloaded and verified\n",
      "Files already downloaded and verified\n"
     ]
    }
   ],
   "source": [
    "# Normalization values for CIFAR-10\n",
    "mean = (0.4914, 0.4822, 0.4465)\n",
    "std  = (0.2023, 0.1994, 0.2010)\n",
    "\n",
    "transform_train = transforms.Compose([\n",
    "    transforms.RandomCrop(32, padding=4),\n",
    "    transforms.RandomHorizontalFlip(),\n",
    "    transforms.ToTensor(),\n",
    "    transforms.Normalize(mean, std),\n",
    "])\n",
    "\n",
    "transform_test = transforms.Compose([\n",
    "    transforms.ToTensor(),\n",
    "    transforms.Normalize(mean, std),\n",
    "])\n",
    "\n",
    "trainset = torchvision.datasets.CIFAR10(\n",
    "    root='./data', train=True, download=True, transform=transform_train\n",
    ")\n",
    "trainloader = torch.utils.data.DataLoader(\n",
    "    trainset, batch_size=128, shuffle=True, num_workers=2\n",
    ")\n",
    "\n",
    "testset = torchvision.datasets.CIFAR10(\n",
    "    root='./data', train=False, download=True, transform=transform_test\n",
    ")\n",
    "testloader = torch.utils.data.DataLoader(\n",
    "    testset, batch_size=100, shuffle=False, num_workers=2\n",
    ")\n"
   ]
  },
  {
   "cell_type": "code",
   "execution_count": 3,
   "id": "68efce57-50a8-4cbe-8660-ba0221792ffb",
   "metadata": {},
   "outputs": [],
   "source": [
    "class BasicBlock(nn.Module):\n",
    "    def __init__(self, in_channels, out_channels, stride=1):\n",
    "        super(BasicBlock, self).__init__()\n",
    "        self.conv1 = nn.Conv2d(in_channels, out_channels,\n",
    "                               kernel_size=3, stride=stride,\n",
    "                               padding=1, bias=False)\n",
    "        self.bn1 = nn.BatchNorm2d(out_channels)\n",
    "        self.relu = nn.ReLU(inplace=True)\n",
    "\n",
    "        self.conv2 = nn.Conv2d(out_channels, out_channels,\n",
    "                               kernel_size=3, stride=1,\n",
    "                               padding=1, bias=False)\n",
    "        self.bn2 = nn.BatchNorm2d(out_channels)\n",
    "\n",
    "        # Shortcut (projection) if shape changes (stride != 1 or channels differ)\n",
    "        self.shortcut = nn.Sequential()\n",
    "        if stride != 1 or in_channels != out_channels:\n",
    "            self.shortcut = nn.Sequential(\n",
    "                nn.Conv2d(in_channels, out_channels,\n",
    "                          kernel_size=1, stride=stride, bias=False),\n",
    "                nn.BatchNorm2d(out_channels)\n",
    "            )\n",
    "\n",
    "    def forward(self, x):\n",
    "        out = self.relu(self.bn1(self.conv1(x)))\n",
    "        out = self.bn2(self.conv2(out))\n",
    "        out += self.shortcut(x)\n",
    "        out = self.relu(out)\n",
    "        return out\n"
   ]
  },
  {
   "cell_type": "code",
   "execution_count": 4,
   "id": "5a484d90-bef7-41ae-92b8-2c190af2c951",
   "metadata": {},
   "outputs": [],
   "source": [
    "class ResNet56(nn.Module):\n",
    "    def __init__(self, block=BasicBlock, num_classes=10):\n",
    "        super(ResNet56, self).__init__()\n",
    "        self.in_channels = 16\n",
    "\n",
    "        # Initial conv: 3x3, 16 filters\n",
    "        self.conv1 = nn.Conv2d(3, 16, kernel_size=3, stride=1,\n",
    "                               padding=1, bias=False)\n",
    "        self.bn1 = nn.BatchNorm2d(16)\n",
    "        self.relu = nn.ReLU(inplace=True)\n",
    "\n",
    "        # Each layer: 9 blocks\n",
    "        self.layer1 = self._make_layer(block, 16, blocks=9, stride=1)\n",
    "        self.layer2 = self._make_layer(block, 32, blocks=9, stride=2)\n",
    "        self.layer3 = self._make_layer(block, 64, blocks=9, stride=2)\n",
    "\n",
    "        # Global average pool and final classification\n",
    "        self.avgpool = nn.AdaptiveAvgPool2d((1, 1))\n",
    "        self.fc = nn.Linear(64, num_classes)\n",
    "\n",
    "    def _make_layer(self, block, out_channels, blocks, stride):\n",
    "        \"\"\"Create a 'layer' consisting of `blocks` residual blocks.\"\"\"\n",
    "        strides = [stride] + [1]*(blocks - 1)\n",
    "        layers = []\n",
    "        for s in strides:\n",
    "            layers.append(block(self.in_channels, out_channels, s))\n",
    "            self.in_channels = out_channels\n",
    "        return nn.Sequential(*layers)\n",
    "\n",
    "    def forward(self, x):\n",
    "        out = self.relu(self.bn1(self.conv1(x)))\n",
    "        out = self.layer1(out)\n",
    "        out = self.layer2(out)\n",
    "        out = self.layer3(out)\n",
    "        out = self.avgpool(out)\n",
    "        out = torch.flatten(out, 1)\n",
    "        out = self.fc(out)\n",
    "        return out"
   ]
  },
  {
   "cell_type": "code",
   "execution_count": 5,
   "id": "714d684e-e1d1-4b3e-86df-0229ecce0918",
   "metadata": {},
   "outputs": [],
   "source": [
    "def train_one_epoch(model, loader, criterion, optimizer):\n",
    "    model.train()\n",
    "    running_loss = 0.0\n",
    "    correct = 0\n",
    "    total = 0\n",
    "\n",
    "    for images, labels in loader:\n",
    "        images, labels = images.to(device), labels.to(device)\n",
    "\n",
    "        optimizer.zero_grad()\n",
    "        outputs = model(images)\n",
    "        loss = criterion(outputs, labels)\n",
    "        loss.backward()\n",
    "        optimizer.step()\n",
    "\n",
    "        running_loss += loss.item() * images.size(0)\n",
    "        _, predicted = outputs.max(1)\n",
    "        total += labels.size(0)\n",
    "        correct += predicted.eq(labels).sum().item()\n",
    "\n",
    "    epoch_loss = running_loss / total\n",
    "    epoch_acc = 100.0 * correct / total\n",
    "    return epoch_loss, epoch_acc\n",
    "\n",
    "def evaluate(model, loader, criterion):\n",
    "    model.eval()\n",
    "    running_loss = 0.0\n",
    "    correct = 0\n",
    "    total = 0\n",
    "\n",
    "    with torch.no_grad():\n",
    "        for images, labels in loader:\n",
    "            images, labels = images.to(device), labels.to(device)\n",
    "            outputs = model(images)\n",
    "            loss = criterion(outputs, labels)\n",
    "\n",
    "            running_loss += loss.item() * images.size(0)\n",
    "            _, predicted = outputs.max(1)\n",
    "            total += labels.size(0)\n",
    "            correct += predicted.eq(labels).sum().item()\n",
    "\n",
    "    epoch_loss = running_loss / total\n",
    "    epoch_acc = 100.0 * correct / total\n",
    "    return epoch_loss, epoch_acc\n"
   ]
  },
  {
   "cell_type": "code",
   "execution_count": 6,
   "id": "8a2aed50-de4b-4757-b5cd-7c28f4cb7f9b",
   "metadata": {},
   "outputs": [],
   "source": [
    "model = ResNet56().to(device)\n",
    "criterion = nn.CrossEntropyLoss()\n",
    "optimizer = optim.SGD(model.parameters(), lr=0.1, momentum=0.9, weight_decay=1e-4)"
   ]
  },
  {
   "cell_type": "code",
   "execution_count": 7,
   "id": "0c11c6f7-9eea-48c5-8f1a-d1cbdc4b0253",
   "metadata": {},
   "outputs": [],
   "source": [
    "#transformations for metamorphic testing\n",
    "transformations = [\n",
    "    transforms.RandomRotation(degrees=10),  # Small rotation\n",
    "    transforms.ColorJitter(brightness=0.2),  # Slight brightness change\n",
    "    transforms.RandomAffine(degrees=0, translate=(0.1, 0.1))  # Small translation\n",
    "]"
   ]
  },
  {
   "cell_type": "code",
   "execution_count": 8,
   "id": "4953d605-6b93-464d-b6e7-5ebc69b41de0",
   "metadata": {},
   "outputs": [],
   "source": [
    "import torch\n",
    "import torch.nn.functional as F\n",
    "\n",
    "def weighted_vote_prediction(model, images, transformations, weights, device, num_classes=10):\n",
    "    \"\"\"\n",
    "      weighted_preds: Tensor of shape [batch_size] with the weighted vote result.\n",
    "      accepted_mask: Boolean tensor of shape [batch_size] indicating accepted samples.\n",
    "    \"\"\"\n",
    "    model.eval()\n",
    "\n",
    "    # 1) Original predictions\n",
    "    with torch.no_grad():\n",
    "        original_out = model(images)\n",
    "        _, original_preds = torch.max(F.softmax(original_out, dim=1), dim=1)  # shape: [batch_size]\n",
    "\n",
    "    # Initialize weighted vote sum using one-hot encoding of original predictions and its weight.\n",
    "    weighted_sum = F.one_hot(original_preds, num_classes=num_classes).float() * weights[0]\n",
    "\n",
    "    # 2) For each metamorphic transformation, get predictions and add weighted one-hot votes.\n",
    "    for i, tf in enumerate(transformations):\n",
    "        # Apply transformation on CPU and then move to device.\n",
    "        x_tf = tf(images.cpu()).to(device)\n",
    "        with torch.no_grad():\n",
    "            out_tf = model(x_tf)\n",
    "            _, preds_tf = torch.max(F.softmax(out_tf, dim=1), dim=1)\n",
    "        # Convert predictions to one-hot and multiply by weight.\n",
    "        weighted_sum += F.one_hot(preds_tf, num_classes=num_classes).float() * weights[i+1]\n",
    "\n",
    "    # 3) Final weighted vote: for each sample, take the argmax of the weighted sum.\n",
    "    weighted_preds = weighted_sum.argmax(dim=1)  # shape: [batch_size]\n",
    "\n",
    "    # 4) Determine acceptance: accept if weighted vote equals the original prediction.\n",
    "    accepted_mask = (weighted_preds == original_preds)\n",
    "\n",
    "    return weighted_preds, accepted_mask\n"
   ]
  },
  {
   "cell_type": "code",
   "execution_count": 9,
   "id": "f9c361a1-4a85-4c53-937c-220bd0163943",
   "metadata": {},
   "outputs": [],
   "source": [
    "from tqdm import tqdm\n",
    "\n",
    "def test_with_weighted_vote(model, loader, transformations, weights, device):\n",
    "    \"\"\"\n",
    "    Evaluates the model on the test set 'loader' using weighted voting.\n",
    "    For each batch:\n",
    "      - Computes weighted vote predictions (using original + transformed outputs).\n",
    "      - Accepts a sample only if the weighted vote equals the original prediction.\n",
    "    \n",
    "    Prints per-batch information and returns:\n",
    "      - The accuracy among accepted samples.\n",
    "      - The overall acceptance rate.\n",
    "    \"\"\"\n",
    "    model.eval()\n",
    "    total_samples = 0\n",
    "    total_accepted = 0\n",
    "    correct_accepted = 0\n",
    "\n",
    "    for i, (images, labels) in enumerate(tqdm(loader)):\n",
    "        images, labels = images.to(device), labels.to(device)\n",
    "\n",
    "        # Get weighted vote predictions and acceptance mask for the batch.\n",
    "        weighted_preds, accepted_mask = weighted_vote_prediction(model, images, transformations, weights, device)\n",
    "\n",
    "        batch_size = labels.size(0)\n",
    "        total_samples += batch_size\n",
    "        batch_accepted = accepted_mask.sum().item()\n",
    "        total_accepted += batch_accepted\n",
    "\n",
    "        # Compute correct predictions among accepted samples.\n",
    "        if batch_accepted > 0:\n",
    "            batch_correct = (weighted_preds[accepted_mask] == labels[accepted_mask]).sum().item()\n",
    "            correct_accepted += batch_correct\n",
    "\n",
    "        print(f\"Batch {i} | Accepted: {batch_accepted}/{batch_size}\")\n",
    "\n",
    "    overall_acceptance_rate = 100.0 * total_accepted / total_samples\n",
    "    accepted_accuracy = 100.0 * correct_accepted / total_accepted if total_accepted > 0 else 0.0\n",
    "\n",
    "    print(f\"\\nOverall Acceptance Rate: {overall_acceptance_rate:.2f}%\")\n",
    "    print(f\"Accuracy among Accepted Samples: {accepted_accuracy:.2f}%\")\n",
    "    \n",
    "    return accepted_accuracy, overall_acceptance_rate"
   ]
  },
  {
   "cell_type": "code",
   "execution_count": 10,
   "id": "d35dd9cb-5798-4214-9ff0-a98f16717ee6",
   "metadata": {},
   "outputs": [
    {
     "name": "stderr",
     "output_type": "stream",
     "text": [
      "  3%|██▌                                                                                   | 3/100 [00:00<00:24,  3.91it/s]"
     ]
    },
    {
     "name": "stdout",
     "output_type": "stream",
     "text": [
      "Batch 0 | Accepted: 100/100\n",
      "Batch 1 | Accepted: 100/100\n",
      "Batch 2 | Accepted: 100/100\n",
      "Batch 3 | Accepted: 100/100\n"
     ]
    },
    {
     "name": "stderr",
     "output_type": "stream",
     "text": [
      "  7%|██████                                                                                | 7/100 [00:01<00:10,  8.73it/s]"
     ]
    },
    {
     "name": "stdout",
     "output_type": "stream",
     "text": [
      "Batch 4 | Accepted: 100/100\n",
      "Batch 5 | Accepted: 100/100\n",
      "Batch 6 | Accepted: 100/100\n",
      "Batch 7 | Accepted: 100/100\n"
     ]
    },
    {
     "name": "stderr",
     "output_type": "stream",
     "text": [
      " 11%|█████████▎                                                                           | 11/100 [00:01<00:07, 12.35it/s]"
     ]
    },
    {
     "name": "stdout",
     "output_type": "stream",
     "text": [
      "Batch 8 | Accepted: 100/100\n",
      "Batch 9 | Accepted: 100/100\n",
      "Batch 10 | Accepted: 100/100\n",
      "Batch 11 | Accepted: 100/100\n"
     ]
    },
    {
     "name": "stderr",
     "output_type": "stream",
     "text": [
      " 16%|█████████████▌                                                                       | 16/100 [00:01<00:05, 16.07it/s]"
     ]
    },
    {
     "name": "stdout",
     "output_type": "stream",
     "text": [
      "Batch 12 | Accepted: 100/100\n",
      "Batch 13 | Accepted: 100/100\n",
      "Batch 14 | Accepted: 100/100\n",
      "Batch 15 | Accepted: 100/100\n",
      "Batch 16 | Accepted: 100/100\n"
     ]
    },
    {
     "name": "stderr",
     "output_type": "stream",
     "text": [
      " 22%|██████████████████▋                                                                  | 22/100 [00:01<00:04, 18.57it/s]"
     ]
    },
    {
     "name": "stdout",
     "output_type": "stream",
     "text": [
      "Batch 17 | Accepted: 100/100\n",
      "Batch 18 | Accepted: 100/100\n",
      "Batch 19 | Accepted: 100/100\n",
      "Batch 20 | Accepted: 100/100\n",
      "Batch 21 | Accepted: 100/100\n"
     ]
    },
    {
     "name": "stderr",
     "output_type": "stream",
     "text": [
      " 25%|█████████████████████▎                                                               | 25/100 [00:02<00:03, 19.35it/s]"
     ]
    },
    {
     "name": "stdout",
     "output_type": "stream",
     "text": [
      "Batch 22 | Accepted: 100/100\n",
      "Batch 23 | Accepted: 100/100\n",
      "Batch 24 | Accepted: 100/100\n",
      "Batch 25 | Accepted: 100/100\n",
      "Batch 26 | Accepted: 100/100\n"
     ]
    },
    {
     "name": "stderr",
     "output_type": "stream",
     "text": [
      " 31%|██████████████████████████▎                                                          | 31/100 [00:02<00:03, 20.75it/s]"
     ]
    },
    {
     "name": "stdout",
     "output_type": "stream",
     "text": [
      "Batch 27 | Accepted: 100/100\n",
      "Batch 28 | Accepted: 100/100\n",
      "Batch 29 | Accepted: 100/100\n",
      "Batch 30 | Accepted: 100/100\n",
      "Batch 31 | Accepted: 100/100\n"
     ]
    },
    {
     "name": "stderr",
     "output_type": "stream",
     "text": [
      " 37%|███████████████████████████████▍                                                     | 37/100 [00:02<00:02, 21.56it/s]"
     ]
    },
    {
     "name": "stdout",
     "output_type": "stream",
     "text": [
      "Batch 32 | Accepted: 100/100\n",
      "Batch 33 | Accepted: 100/100\n",
      "Batch 34 | Accepted: 100/100\n",
      "Batch 35 | Accepted: 100/100\n",
      "Batch 36 | Accepted: 100/100\n"
     ]
    },
    {
     "name": "stderr",
     "output_type": "stream",
     "text": [
      " 40%|██████████████████████████████████                                                   | 40/100 [00:02<00:02, 21.75it/s]"
     ]
    },
    {
     "name": "stdout",
     "output_type": "stream",
     "text": [
      "Batch 37 | Accepted: 100/100\n",
      "Batch 38 | Accepted: 100/100\n",
      "Batch 39 | Accepted: 99/100\n",
      "Batch 40 | Accepted: 100/100\n",
      "Batch 41 | Accepted: 100/100\n"
     ]
    },
    {
     "name": "stderr",
     "output_type": "stream",
     "text": [
      " 46%|███████████████████████████████████████                                              | 46/100 [00:03<00:02, 22.01it/s]"
     ]
    },
    {
     "name": "stdout",
     "output_type": "stream",
     "text": [
      "Batch 42 | Accepted: 100/100\n",
      "Batch 43 | Accepted: 100/100\n",
      "Batch 44 | Accepted: 100/100\n",
      "Batch 45 | Accepted: 100/100\n",
      "Batch 46 | Accepted: 100/100\n"
     ]
    },
    {
     "name": "stderr",
     "output_type": "stream",
     "text": [
      " 52%|████████████████████████████████████████████▏                                        | 52/100 [00:03<00:02, 22.04it/s]"
     ]
    },
    {
     "name": "stdout",
     "output_type": "stream",
     "text": [
      "Batch 47 | Accepted: 100/100\n",
      "Batch 48 | Accepted: 100/100\n",
      "Batch 49 | Accepted: 100/100\n",
      "Batch 50 | Accepted: 100/100\n",
      "Batch 51 | Accepted: 100/100\n"
     ]
    },
    {
     "name": "stderr",
     "output_type": "stream",
     "text": [
      " 55%|██████████████████████████████████████████████▊                                      | 55/100 [00:03<00:02, 22.12it/s]"
     ]
    },
    {
     "name": "stdout",
     "output_type": "stream",
     "text": [
      "Batch 52 | Accepted: 100/100\n",
      "Batch 53 | Accepted: 100/100\n",
      "Batch 54 | Accepted: 100/100\n",
      "Batch 55 | Accepted: 100/100\n",
      "Batch 56 | Accepted: 100/100\n"
     ]
    },
    {
     "name": "stderr",
     "output_type": "stream",
     "text": [
      " 61%|███████████████████████████████████████████████████▊                                 | 61/100 [00:03<00:01, 22.20it/s]"
     ]
    },
    {
     "name": "stdout",
     "output_type": "stream",
     "text": [
      "Batch 57 | Accepted: 100/100\n",
      "Batch 58 | Accepted: 100/100\n",
      "Batch 59 | Accepted: 100/100\n",
      "Batch 60 | Accepted: 100/100\n",
      "Batch 61 | Accepted: 100/100\n"
     ]
    },
    {
     "name": "stderr",
     "output_type": "stream",
     "text": [
      " 67%|████████████████████████████████████████████████████████▉                            | 67/100 [00:03<00:01, 22.29it/s]"
     ]
    },
    {
     "name": "stdout",
     "output_type": "stream",
     "text": [
      "Batch 62 | Accepted: 100/100\n",
      "Batch 63 | Accepted: 100/100\n",
      "Batch 64 | Accepted: 100/100\n",
      "Batch 65 | Accepted: 100/100\n",
      "Batch 66 | Accepted: 100/100\n"
     ]
    },
    {
     "name": "stderr",
     "output_type": "stream",
     "text": [
      " 70%|███████████████████████████████████████████████████████████▍                         | 70/100 [00:04<00:01, 22.35it/s]"
     ]
    },
    {
     "name": "stdout",
     "output_type": "stream",
     "text": [
      "Batch 67 | Accepted: 100/100\n",
      "Batch 68 | Accepted: 100/100\n",
      "Batch 69 | Accepted: 100/100\n",
      "Batch 70 | Accepted: 100/100\n",
      "Batch 71 | Accepted: 100/100\n"
     ]
    },
    {
     "name": "stderr",
     "output_type": "stream",
     "text": [
      " 76%|████████████████████████████████████████████████████████████████▌                    | 76/100 [00:04<00:01, 22.35it/s]"
     ]
    },
    {
     "name": "stdout",
     "output_type": "stream",
     "text": [
      "Batch 72 | Accepted: 100/100\n",
      "Batch 73 | Accepted: 100/100\n",
      "Batch 74 | Accepted: 100/100\n",
      "Batch 75 | Accepted: 100/100\n",
      "Batch 76 | Accepted: 100/100\n"
     ]
    },
    {
     "name": "stderr",
     "output_type": "stream",
     "text": [
      " 82%|█████████████████████████████████████████████████████████████████████▋               | 82/100 [00:04<00:00, 22.36it/s]"
     ]
    },
    {
     "name": "stdout",
     "output_type": "stream",
     "text": [
      "Batch 77 | Accepted: 100/100\n",
      "Batch 78 | Accepted: 100/100\n",
      "Batch 79 | Accepted: 100/100\n",
      "Batch 80 | Accepted: 100/100\n",
      "Batch 81 | Accepted: 100/100\n"
     ]
    },
    {
     "name": "stderr",
     "output_type": "stream",
     "text": [
      " 85%|████████████████████████████████████████████████████████████████████████▎            | 85/100 [00:04<00:00, 22.30it/s]"
     ]
    },
    {
     "name": "stdout",
     "output_type": "stream",
     "text": [
      "Batch 82 | Accepted: 100/100\n",
      "Batch 83 | Accepted: 100/100\n",
      "Batch 84 | Accepted: 100/100\n",
      "Batch 85 | Accepted: 100/100\n",
      "Batch 86 | Accepted: 100/100\n"
     ]
    },
    {
     "name": "stderr",
     "output_type": "stream",
     "text": [
      " 91%|█████████████████████████████████████████████████████████████████████████████▎       | 91/100 [00:05<00:00, 22.14it/s]"
     ]
    },
    {
     "name": "stdout",
     "output_type": "stream",
     "text": [
      "Batch 87 | Accepted: 100/100\n",
      "Batch 88 | Accepted: 100/100\n",
      "Batch 89 | Accepted: 100/100\n",
      "Batch 90 | Accepted: 100/100\n",
      "Batch 91 | Accepted: 100/100\n"
     ]
    },
    {
     "name": "stderr",
     "output_type": "stream",
     "text": [
      " 97%|██████████████████████████████████████████████████████████████████████████████████▍  | 97/100 [00:05<00:00, 22.17it/s]"
     ]
    },
    {
     "name": "stdout",
     "output_type": "stream",
     "text": [
      "Batch 92 | Accepted: 100/100\n",
      "Batch 93 | Accepted: 100/100\n",
      "Batch 94 | Accepted: 100/100\n",
      "Batch 95 | Accepted: 100/100\n",
      "Batch 96 | Accepted: 100/100\n"
     ]
    },
    {
     "name": "stderr",
     "output_type": "stream",
     "text": [
      "100%|████████████████████████████████████████████████████████████████████████████████████| 100/100 [00:05<00:00, 18.12it/s]"
     ]
    },
    {
     "name": "stdout",
     "output_type": "stream",
     "text": [
      "Batch 97 | Accepted: 100/100\n",
      "Batch 98 | Accepted: 100/100\n",
      "Batch 99 | Accepted: 100/100\n",
      "\n",
      "Overall Acceptance Rate: 99.99%\n",
      "Accuracy among Accepted Samples: 10.00%\n",
      "Weighted Vote Accuracy among accepted samples: 10.00%\n",
      "Overall Acceptance Rate: 99.99%\n"
     ]
    },
    {
     "name": "stderr",
     "output_type": "stream",
     "text": [
      "\n"
     ]
    }
   ],
   "source": [
    "weights = [0.5, 0.25, 0.25, 0.25]\n",
    "\n",
    "acc_weighted, acceptance_rate = test_with_weighted_vote(model, testloader, transformations, weights, device)\n",
    "print(f\"Weighted Vote Accuracy among accepted samples: {acc_weighted:.2f}%\")\n",
    "print(f\"Overall Acceptance Rate: {acceptance_rate:.2f}%\")"
   ]
  },
  {
   "cell_type": "code",
   "execution_count": null,
   "id": "197b263d-e371-4059-8c00-f632e22f7974",
   "metadata": {},
   "outputs": [],
   "source": []
  }
 ],
 "metadata": {
  "kernelspec": {
   "display_name": "Python 3 (ipykernel)",
   "language": "python",
   "name": "python3"
  },
  "language_info": {
   "codemirror_mode": {
    "name": "ipython",
    "version": 3
   },
   "file_extension": ".py",
   "mimetype": "text/x-python",
   "name": "python",
   "nbconvert_exporter": "python",
   "pygments_lexer": "ipython3",
   "version": "3.8.10"
  }
 },
 "nbformat": 4,
 "nbformat_minor": 5
}
