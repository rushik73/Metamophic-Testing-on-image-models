{
 "cells": [
  {
   "cell_type": "code",
   "execution_count": 1,
   "id": "a145ad13-e9d5-4aee-bec5-12f3295795a5",
   "metadata": {},
   "outputs": [
    {
     "name": "stdout",
     "output_type": "stream",
     "text": [
      "Using device: cuda\n"
     ]
    }
   ],
   "source": [
    "import torch\n",
    "import torch.nn as nn\n",
    "import torch.optim as optim\n",
    "import torchvision\n",
    "import torchvision.transforms as transforms\n",
    "import torch\n",
    "import torch.nn.functional as F\n",
    "from tqdm import tqdm\n",
    "from sklearn.metrics import precision_score, recall_score, f1_score\n",
    "\n",
    "device = torch.device('cuda' if torch.cuda.is_available() else 'cpu')\n",
    "print(\"Using device:\", device)"
   ]
  },
  {
   "cell_type": "code",
   "execution_count": 2,
   "id": "850bd7f6-3230-4586-9eb5-15e6a8dca6b2",
   "metadata": {},
   "outputs": [
    {
     "name": "stdout",
     "output_type": "stream",
     "text": [
      "Files already downloaded and verified\n",
      "Files already downloaded and verified\n"
     ]
    }
   ],
   "source": [
    "# Normalization values for CIFAR-10\n",
    "mean = (0.4914, 0.4822, 0.4465)\n",
    "std  = (0.2023, 0.1994, 0.2010)\n",
    "\n",
    "transform_train = transforms.Compose([\n",
    "    transforms.RandomCrop(32, padding=4),\n",
    "    transforms.RandomHorizontalFlip(),\n",
    "    transforms.ToTensor(),\n",
    "    transforms.Normalize(mean, std),\n",
    "])\n",
    "\n",
    "transform_test = transforms.Compose([\n",
    "    transforms.ToTensor(),\n",
    "    transforms.Normalize(mean, std),\n",
    "])\n",
    "\n",
    "trainset = torchvision.datasets.CIFAR10(\n",
    "    root='./data', train=True, download=True, transform=transform_train\n",
    ")\n",
    "trainloader = torch.utils.data.DataLoader(\n",
    "    trainset, batch_size=128, shuffle=True, num_workers=2\n",
    ")\n",
    "\n",
    "testset = torchvision.datasets.CIFAR10(\n",
    "    root='./data', train=False, download=True, transform=transform_test\n",
    ")\n",
    "testloader = torch.utils.data.DataLoader(\n",
    "    testset, batch_size=100, shuffle=False, num_workers=2\n",
    ")\n"
   ]
  },
  {
   "cell_type": "code",
   "execution_count": 4,
   "id": "cf140b51-551d-4e55-a0cb-3ac54c1f3266",
   "metadata": {},
   "outputs": [],
   "source": [
    "class BasicBlock(nn.Module):\n",
    "    def __init__(self, in_channels, out_channels, stride=1):\n",
    "        super(BasicBlock, self).__init__()\n",
    "        self.conv1 = nn.Conv2d(in_channels, out_channels,\n",
    "                               kernel_size=3, stride=stride,\n",
    "                               padding=1, bias=False)\n",
    "        self.bn1 = nn.BatchNorm2d(out_channels)\n",
    "        self.relu = nn.ReLU(inplace=True)\n",
    "\n",
    "        self.conv2 = nn.Conv2d(out_channels, out_channels,\n",
    "                               kernel_size=3, stride=1,\n",
    "                               padding=1, bias=False)\n",
    "        self.bn2 = nn.BatchNorm2d(out_channels)\n",
    "\n",
    "        # Shortcut (projection) if shape changes (stride != 1 or channels differ)\n",
    "        self.shortcut = nn.Sequential()\n",
    "        if stride != 1 or in_channels != out_channels:\n",
    "            self.shortcut = nn.Sequential(\n",
    "                nn.Conv2d(in_channels, out_channels,\n",
    "                          kernel_size=1, stride=stride, bias=False),\n",
    "                nn.BatchNorm2d(out_channels)\n",
    "            )\n",
    "\n",
    "    def forward(self, x):\n",
    "        out = self.relu(self.bn1(self.conv1(x)))\n",
    "        out = self.bn2(self.conv2(out))\n",
    "        out += self.shortcut(x)\n",
    "        out = self.relu(out)\n",
    "        return out\n"
   ]
  },
  {
   "cell_type": "code",
   "execution_count": 5,
   "id": "e9c3ae5b-85b7-4180-b809-c5d4bea70387",
   "metadata": {},
   "outputs": [],
   "source": [
    "class ResNet56(nn.Module):\n",
    "    def __init__(self, block=BasicBlock, num_classes=10):\n",
    "        super(ResNet56, self).__init__()\n",
    "        self.in_channels = 16\n",
    "\n",
    "        # Initial conv: 3x3, 16 filters\n",
    "        self.conv1 = nn.Conv2d(3, 16, kernel_size=3, stride=1,\n",
    "                               padding=1, bias=False)\n",
    "        self.bn1 = nn.BatchNorm2d(16)\n",
    "        self.relu = nn.ReLU(inplace=True)\n",
    "\n",
    "        # Each layer: 9 blocks\n",
    "        self.layer1 = self._make_layer(block, 16, blocks=9, stride=1)\n",
    "        self.layer2 = self._make_layer(block, 32, blocks=9, stride=2)\n",
    "        self.layer3 = self._make_layer(block, 64, blocks=9, stride=2)\n",
    "\n",
    "        # Global average pool and final classification\n",
    "        self.avgpool = nn.AdaptiveAvgPool2d((1, 1))\n",
    "        self.fc = nn.Linear(64, num_classes)\n",
    "\n",
    "    def _make_layer(self, block, out_channels, blocks, stride):\n",
    "        \"\"\"Create a 'layer' consisting of `blocks` residual blocks.\"\"\"\n",
    "        strides = [stride] + [1]*(blocks - 1)\n",
    "        layers = []\n",
    "        for s in strides:\n",
    "            layers.append(block(self.in_channels, out_channels, s))\n",
    "            self.in_channels = out_channels\n",
    "        return nn.Sequential(*layers)\n",
    "\n",
    "    def forward(self, x):\n",
    "        out = self.relu(self.bn1(self.conv1(x)))\n",
    "        out = self.layer1(out)\n",
    "        out = self.layer2(out)\n",
    "        out = self.layer3(out)\n",
    "        out = self.avgpool(out)\n",
    "        out = torch.flatten(out, 1)\n",
    "        out = self.fc(out)\n",
    "        return out"
   ]
  },
  {
   "cell_type": "code",
   "execution_count": 5,
   "id": "416c06e8-e39c-40cf-8624-da91525319d0",
   "metadata": {},
   "outputs": [],
   "source": [
    "def train_one_epoch(model, loader, criterion, optimizer):\n",
    "    model.train()\n",
    "    running_loss = 0.0\n",
    "    correct = 0\n",
    "    total = 0\n",
    "\n",
    "    for images, labels in loader:\n",
    "        images, labels = images.to(device), labels.to(device)\n",
    "\n",
    "        optimizer.zero_grad()\n",
    "        outputs = model(images)\n",
    "        loss = criterion(outputs, labels)\n",
    "        loss.backward()\n",
    "        optimizer.step()\n",
    "\n",
    "        running_loss += loss.item() * images.size(0)\n",
    "        _, predicted = outputs.max(1)\n",
    "        total += labels.size(0)\n",
    "        correct += predicted.eq(labels).sum().item()\n",
    "\n",
    "    epoch_loss = running_loss / total\n",
    "    epoch_acc = 100.0 * correct / total\n",
    "    return epoch_loss, epoch_acc\n",
    "\n",
    "def evaluate(model, loader, criterion):\n",
    "    model.eval()\n",
    "    running_loss = 0.0\n",
    "    correct = 0\n",
    "    total = 0\n",
    "\n",
    "    with torch.no_grad():\n",
    "        for images, labels in loader:\n",
    "            images, labels = images.to(device), labels.to(device)\n",
    "            outputs = model(images)\n",
    "            loss = criterion(outputs, labels)\n",
    "\n",
    "            running_loss += loss.item() * images.size(0)\n",
    "            _, predicted = outputs.max(1)\n",
    "            total += labels.size(0)\n",
    "            correct += predicted.eq(labels).sum().item()\n",
    "\n",
    "    epoch_loss = running_loss / total\n",
    "    epoch_acc = 100.0 * correct / total\n",
    "    return epoch_loss, epoch_acc\n"
   ]
  },
  {
   "cell_type": "code",
   "execution_count": 6,
   "id": "4c8ebe21-1e99-4a42-a710-c16023523e5e",
   "metadata": {},
   "outputs": [],
   "source": [
    "model = ResNet56().to(device)\n",
    "criterion = nn.CrossEntropyLoss()\n",
    "optimizer = optim.SGD(model.parameters(), lr=0.1, momentum=0.9, weight_decay=1e-4)"
   ]
  },
  {
   "cell_type": "code",
   "execution_count": 7,
   "id": "8d32a326-11f2-4c80-b9c6-2ff8721d22fb",
   "metadata": {},
   "outputs": [],
   "source": [
    "#transformations for metamorphic testing\n",
    "transformations = [\n",
    "    transforms.RandomRotation(degrees=10),  # Small rotation\n",
    "    transforms.ColorJitter(brightness=0.2),  # Slight brightness change\n",
    "    transforms.RandomAffine(degrees=0, translate=(0.1, 0.1))  # Small translation\n",
    "]"
   ]
  },
  {
   "cell_type": "code",
   "execution_count": 8,
   "id": "0c86ba9c-7370-40be-8d1c-5511a7139642",
   "metadata": {},
   "outputs": [
    {
     "name": "stderr",
     "output_type": "stream",
     "text": [
      "  1%|█▋                                                                                                                                                                   | 1/100 [00:00<01:11,  1.39it/s]"
     ]
    },
    {
     "name": "stdout",
     "output_type": "stream",
     "text": [
      "Batch 0 | Transform: RandomRotation | Reject Differential (mean): 0.0166\n",
      "Batch 0 | Transform: ColorJitter | Reject Differential (mean): 0.0294\n",
      "Batch 0 | Transform: RandomAffine | Reject Differential (mean): 0.0156\n",
      "Batch 1 | Transform: RandomRotation | Reject Differential (mean): 0.0000\n",
      "Batch 1 | Transform: ColorJitter | Reject Differential (mean): 0.0282\n",
      "Batch 1 | Transform: RandomAffine | Reject Differential (mean): 0.0175\n",
      "Batch 2 | Transform: RandomRotation | Reject Differential (mean): 0.0000\n",
      "Batch 2 | Transform: ColorJitter | Reject Differential (mean): 0.0275\n"
     ]
    },
    {
     "name": "stderr",
     "output_type": "stream",
     "text": [
      "  5%|████████▎                                                                                                                                                            | 5/100 [00:00<00:13,  6.93it/s]"
     ]
    },
    {
     "name": "stdout",
     "output_type": "stream",
     "text": [
      "Batch 2 | Transform: RandomAffine | Reject Differential (mean): 0.0188\n",
      "Batch 3 | Transform: RandomRotation | Reject Differential (mean): 0.0166\n",
      "Batch 3 | Transform: ColorJitter | Reject Differential (mean): 0.0295\n",
      "Batch 3 | Transform: RandomAffine | Reject Differential (mean): 0.0197\n",
      "Batch 4 | Transform: RandomRotation | Reject Differential (mean): 0.0181\n",
      "Batch 4 | Transform: ColorJitter | Reject Differential (mean): 0.0228\n",
      "Batch 4 | Transform: RandomAffine | Reject Differential (mean): 0.0191\n",
      "Batch 5 | Transform: RandomRotation | Reject Differential (mean): 0.0188\n",
      "Batch 5 | Transform: ColorJitter | Reject Differential (mean): 0.0235\n",
      "Batch 5 | Transform: RandomAffine | Reject Differential (mean): 0.0180\n",
      "Batch 6 | Transform: RandomRotation | Reject Differential (mean): 0.0000\n"
     ]
    },
    {
     "name": "stderr",
     "output_type": "stream",
     "text": [
      "  9%|██████████████▊                                                                                                                                                      | 9/100 [00:01<00:08, 11.35it/s]"
     ]
    },
    {
     "name": "stdout",
     "output_type": "stream",
     "text": [
      "Batch 6 | Transform: ColorJitter | Reject Differential (mean): 0.0265\n",
      "Batch 6 | Transform: RandomAffine | Reject Differential (mean): 0.0200\n",
      "Batch 7 | Transform: RandomRotation | Reject Differential (mean): 0.0164\n",
      "Batch 7 | Transform: ColorJitter | Reject Differential (mean): 0.0287\n",
      "Batch 7 | Transform: RandomAffine | Reject Differential (mean): 0.0210\n",
      "Batch 8 | Transform: RandomRotation | Reject Differential (mean): 0.0174\n",
      "Batch 8 | Transform: ColorJitter | Reject Differential (mean): 0.0298\n",
      "Batch 8 | Transform: RandomAffine | Reject Differential (mean): 0.0196\n",
      "Batch 9 | Transform: RandomRotation | Reject Differential (mean): 0.0162\n",
      "Batch 9 | Transform: ColorJitter | Reject Differential (mean): 0.0260\n",
      "Batch 9 | Transform: RandomAffine | Reject Differential (mean): 0.0205\n"
     ]
    },
    {
     "name": "stderr",
     "output_type": "stream",
     "text": [
      " 13%|█████████████████████▎                                                                                                                                              | 13/100 [00:01<00:06, 14.28it/s]"
     ]
    },
    {
     "name": "stdout",
     "output_type": "stream",
     "text": [
      "Batch 10 | Transform: RandomRotation | Reject Differential (mean): 0.0180\n",
      "Batch 10 | Transform: ColorJitter | Reject Differential (mean): 0.0303\n",
      "Batch 10 | Transform: RandomAffine | Reject Differential (mean): 0.0153\n",
      "Batch 11 | Transform: RandomRotation | Reject Differential (mean): 0.0221\n",
      "Batch 11 | Transform: ColorJitter | Reject Differential (mean): 0.0302\n",
      "Batch 11 | Transform: RandomAffine | Reject Differential (mean): 0.0216\n",
      "Batch 12 | Transform: RandomRotation | Reject Differential (mean): 0.0000\n",
      "Batch 12 | Transform: ColorJitter | Reject Differential (mean): 0.0308\n",
      "Batch 12 | Transform: RandomAffine | Reject Differential (mean): 0.0187\n",
      "Batch 13 | Transform: RandomRotation | Reject Differential (mean): 0.0000\n",
      "Batch 13 | Transform: ColorJitter | Reject Differential (mean): 0.0297\n",
      "Batch 13 | Transform: RandomAffine | Reject Differential (mean): 0.0203\n"
     ]
    },
    {
     "name": "stderr",
     "output_type": "stream",
     "text": [
      " 17%|███████████████████████████▉                                                                                                                                        | 17/100 [00:01<00:05, 15.22it/s]"
     ]
    },
    {
     "name": "stdout",
     "output_type": "stream",
     "text": [
      "Batch 14 | Transform: RandomRotation | Reject Differential (mean): 0.0193\n",
      "Batch 14 | Transform: ColorJitter | Reject Differential (mean): 0.0263\n",
      "Batch 14 | Transform: RandomAffine | Reject Differential (mean): 0.0176\n",
      "Batch 15 | Transform: RandomRotation | Reject Differential (mean): 0.0206\n",
      "Batch 15 | Transform: ColorJitter | Reject Differential (mean): 0.0264\n",
      "Batch 15 | Transform: RandomAffine | Reject Differential (mean): 0.0182\n",
      "Batch 16 | Transform: RandomRotation | Reject Differential (mean): 0.0178\n",
      "Batch 16 | Transform: ColorJitter | Reject Differential (mean): 0.0285\n",
      "Batch 16 | Transform: RandomAffine | Reject Differential (mean): 0.0179\n",
      "Batch 17 | Transform: RandomRotation | Reject Differential (mean): 0.0181\n"
     ]
    },
    {
     "name": "stderr",
     "output_type": "stream",
     "text": [
      " 21%|██████████████████████████████████▍                                                                                                                                 | 21/100 [00:01<00:04, 16.43it/s]"
     ]
    },
    {
     "name": "stdout",
     "output_type": "stream",
     "text": [
      "Batch 17 | Transform: ColorJitter | Reject Differential (mean): 0.0268\n",
      "Batch 17 | Transform: RandomAffine | Reject Differential (mean): 0.0196\n",
      "Batch 18 | Transform: RandomRotation | Reject Differential (mean): 0.0189\n",
      "Batch 18 | Transform: ColorJitter | Reject Differential (mean): 0.0281\n",
      "Batch 18 | Transform: RandomAffine | Reject Differential (mean): 0.0187\n",
      "Batch 19 | Transform: RandomRotation | Reject Differential (mean): 0.0000\n",
      "Batch 19 | Transform: ColorJitter | Reject Differential (mean): 0.0258\n",
      "Batch 19 | Transform: RandomAffine | Reject Differential (mean): 0.0177\n",
      "Batch 20 | Transform: RandomRotation | Reject Differential (mean): 0.0165\n",
      "Batch 20 | Transform: ColorJitter | Reject Differential (mean): 0.0311\n",
      "Batch 20 | Transform: RandomAffine | Reject Differential (mean): 0.0164\n"
     ]
    },
    {
     "name": "stderr",
     "output_type": "stream",
     "text": [
      " 25%|█████████████████████████████████████████                                                                                                                           | 25/100 [00:02<00:04, 16.92it/s]"
     ]
    },
    {
     "name": "stdout",
     "output_type": "stream",
     "text": [
      "Batch 21 | Transform: RandomRotation | Reject Differential (mean): 0.0220\n",
      "Batch 21 | Transform: ColorJitter | Reject Differential (mean): 0.0319\n",
      "Batch 21 | Transform: RandomAffine | Reject Differential (mean): 0.0192\n",
      "Batch 22 | Transform: RandomRotation | Reject Differential (mean): 0.0172\n",
      "Batch 22 | Transform: ColorJitter | Reject Differential (mean): 0.0274\n",
      "Batch 22 | Transform: RandomAffine | Reject Differential (mean): 0.0186\n",
      "Batch 23 | Transform: RandomRotation | Reject Differential (mean): 0.0166\n",
      "Batch 23 | Transform: ColorJitter | Reject Differential (mean): 0.0267\n",
      "Batch 23 | Transform: RandomAffine | Reject Differential (mean): 0.0196\n",
      "Batch 24 | Transform: RandomRotation | Reject Differential (mean): 0.0186\n",
      "Batch 24 | Transform: ColorJitter | Reject Differential (mean): 0.0242\n",
      "Batch 24 | Transform: RandomAffine | Reject Differential (mean): 0.0201\n"
     ]
    },
    {
     "name": "stderr",
     "output_type": "stream",
     "text": [
      " 29%|███████████████████████████████████████████████▌                                                                                                                    | 29/100 [00:02<00:04, 17.39it/s]"
     ]
    },
    {
     "name": "stdout",
     "output_type": "stream",
     "text": [
      "Batch 25 | Transform: RandomRotation | Reject Differential (mean): 0.0158\n",
      "Batch 25 | Transform: ColorJitter | Reject Differential (mean): 0.0225\n",
      "Batch 25 | Transform: RandomAffine | Reject Differential (mean): 0.0156\n",
      "Batch 26 | Transform: RandomRotation | Reject Differential (mean): 0.0000\n",
      "Batch 26 | Transform: ColorJitter | Reject Differential (mean): 0.0272\n",
      "Batch 26 | Transform: RandomAffine | Reject Differential (mean): 0.0219\n",
      "Batch 27 | Transform: RandomRotation | Reject Differential (mean): 0.0181\n",
      "Batch 27 | Transform: ColorJitter | Reject Differential (mean): 0.0258\n",
      "Batch 27 | Transform: RandomAffine | Reject Differential (mean): 0.0226\n",
      "Batch 28 | Transform: RandomRotation | Reject Differential (mean): 0.0156\n",
      "Batch 28 | Transform: ColorJitter | Reject Differential (mean): 0.0244\n",
      "Batch 28 | Transform: RandomAffine | Reject Differential (mean): 0.0159\n"
     ]
    },
    {
     "name": "stderr",
     "output_type": "stream",
     "text": [
      " 33%|██████████████████████████████████████████████████████                                                                                                              | 33/100 [00:02<00:03, 17.67it/s]"
     ]
    },
    {
     "name": "stdout",
     "output_type": "stream",
     "text": [
      "Batch 29 | Transform: RandomRotation | Reject Differential (mean): 0.0000\n",
      "Batch 29 | Transform: ColorJitter | Reject Differential (mean): 0.0239\n",
      "Batch 29 | Transform: RandomAffine | Reject Differential (mean): 0.0194\n",
      "Batch 30 | Transform: RandomRotation | Reject Differential (mean): 0.0152\n",
      "Batch 30 | Transform: ColorJitter | Reject Differential (mean): 0.0320\n",
      "Batch 30 | Transform: RandomAffine | Reject Differential (mean): 0.0185\n",
      "Batch 31 | Transform: RandomRotation | Reject Differential (mean): 0.0177\n",
      "Batch 31 | Transform: ColorJitter | Reject Differential (mean): 0.0236\n",
      "Batch 31 | Transform: RandomAffine | Reject Differential (mean): 0.0204\n",
      "Batch 32 | Transform: RandomRotation | Reject Differential (mean): 0.0195\n",
      "Batch 32 | Transform: ColorJitter | Reject Differential (mean): 0.0257\n",
      "Batch 32 | Transform: RandomAffine | Reject Differential (mean): 0.0187\n"
     ]
    },
    {
     "name": "stderr",
     "output_type": "stream",
     "text": [
      " 37%|████████████████████████████████████████████████████████████▋                                                                                                       | 37/100 [00:02<00:03, 17.80it/s]"
     ]
    },
    {
     "name": "stdout",
     "output_type": "stream",
     "text": [
      "Batch 33 | Transform: RandomRotation | Reject Differential (mean): 0.0175\n",
      "Batch 33 | Transform: ColorJitter | Reject Differential (mean): 0.0235\n",
      "Batch 33 | Transform: RandomAffine | Reject Differential (mean): 0.0195\n",
      "Batch 34 | Transform: RandomRotation | Reject Differential (mean): 0.0191\n",
      "Batch 34 | Transform: ColorJitter | Reject Differential (mean): 0.0347\n",
      "Batch 34 | Transform: RandomAffine | Reject Differential (mean): 0.0188\n",
      "Batch 35 | Transform: RandomRotation | Reject Differential (mean): 0.0214\n",
      "Batch 35 | Transform: ColorJitter | Reject Differential (mean): 0.0281\n",
      "Batch 35 | Transform: RandomAffine | Reject Differential (mean): 0.0211\n",
      "Batch 36 | Transform: RandomRotation | Reject Differential (mean): 0.0225\n",
      "Batch 36 | Transform: ColorJitter | Reject Differential (mean): 0.0263\n",
      "Batch 36 | Transform: RandomAffine | Reject Differential (mean): 0.0192\n"
     ]
    },
    {
     "name": "stderr",
     "output_type": "stream",
     "text": [
      " 41%|███████████████████████████████████████████████████████████████████▏                                                                                                | 41/100 [00:03<00:03, 17.87it/s]"
     ]
    },
    {
     "name": "stdout",
     "output_type": "stream",
     "text": [
      "Batch 37 | Transform: RandomRotation | Reject Differential (mean): 0.0186\n",
      "Batch 37 | Transform: ColorJitter | Reject Differential (mean): 0.0228\n",
      "Batch 37 | Transform: RandomAffine | Reject Differential (mean): 0.0184\n",
      "Batch 38 | Transform: RandomRotation | Reject Differential (mean): 0.0138\n",
      "Batch 38 | Transform: ColorJitter | Reject Differential (mean): 0.0296\n",
      "Batch 38 | Transform: RandomAffine | Reject Differential (mean): 0.0145\n",
      "Batch 39 | Transform: RandomRotation | Reject Differential (mean): 0.0175\n",
      "Batch 39 | Transform: ColorJitter | Reject Differential (mean): 0.0202\n",
      "Batch 39 | Transform: RandomAffine | Reject Differential (mean): 0.0190\n",
      "Batch 40 | Transform: RandomRotation | Reject Differential (mean): 0.0000\n",
      "Batch 40 | Transform: ColorJitter | Reject Differential (mean): 0.0263\n",
      "Batch 40 | Transform: RandomAffine | Reject Differential (mean): 0.0199\n"
     ]
    },
    {
     "name": "stderr",
     "output_type": "stream",
     "text": [
      " 45%|█████████████████████████████████████████████████████████████████████████▊                                                                                          | 45/100 [00:03<00:03, 17.88it/s]"
     ]
    },
    {
     "name": "stdout",
     "output_type": "stream",
     "text": [
      "Batch 41 | Transform: RandomRotation | Reject Differential (mean): 0.0000\n",
      "Batch 41 | Transform: ColorJitter | Reject Differential (mean): 0.0290\n",
      "Batch 41 | Transform: RandomAffine | Reject Differential (mean): 0.0210\n",
      "Batch 42 | Transform: RandomRotation | Reject Differential (mean): 0.0000\n",
      "Batch 42 | Transform: ColorJitter | Reject Differential (mean): 0.0281\n",
      "Batch 42 | Transform: RandomAffine | Reject Differential (mean): 0.0180\n",
      "Batch 43 | Transform: RandomRotation | Reject Differential (mean): 0.0076\n",
      "Batch 43 | Transform: ColorJitter | Reject Differential (mean): 0.0318\n",
      "Batch 43 | Transform: RandomAffine | Reject Differential (mean): 0.0181\n",
      "Batch 44 | Transform: RandomRotation | Reject Differential (mean): 0.0171\n",
      "Batch 44 | Transform: ColorJitter | Reject Differential (mean): 0.0294\n",
      "Batch 44 | Transform: RandomAffine | Reject Differential (mean): 0.0195\n"
     ]
    },
    {
     "name": "stderr",
     "output_type": "stream",
     "text": [
      " 49%|████████████████████████████████████████████████████████████████████████████████▎                                                                                   | 49/100 [00:03<00:02, 17.80it/s]"
     ]
    },
    {
     "name": "stdout",
     "output_type": "stream",
     "text": [
      "Batch 45 | Transform: RandomRotation | Reject Differential (mean): 0.0184\n",
      "Batch 45 | Transform: ColorJitter | Reject Differential (mean): 0.0339\n",
      "Batch 45 | Transform: RandomAffine | Reject Differential (mean): 0.0174\n",
      "Batch 46 | Transform: RandomRotation | Reject Differential (mean): 0.0171\n",
      "Batch 46 | Transform: ColorJitter | Reject Differential (mean): 0.0289\n",
      "Batch 46 | Transform: RandomAffine | Reject Differential (mean): 0.0181\n",
      "Batch 47 | Transform: RandomRotation | Reject Differential (mean): 0.0206\n",
      "Batch 47 | Transform: ColorJitter | Reject Differential (mean): 0.0259\n",
      "Batch 47 | Transform: RandomAffine | Reject Differential (mean): 0.0202\n",
      "Batch 48 | Transform: RandomRotation | Reject Differential (mean): 0.0199\n",
      "Batch 48 | Transform: ColorJitter | Reject Differential (mean): 0.0283\n",
      "Batch 48 | Transform: RandomAffine | Reject Differential (mean): 0.0221\n"
     ]
    },
    {
     "name": "stderr",
     "output_type": "stream",
     "text": [
      " 53%|██████████████████████████████████████████████████████████████████████████████████████▉                                                                             | 53/100 [00:03<00:02, 17.74it/s]"
     ]
    },
    {
     "name": "stdout",
     "output_type": "stream",
     "text": [
      "Batch 49 | Transform: RandomRotation | Reject Differential (mean): 0.0185\n",
      "Batch 49 | Transform: ColorJitter | Reject Differential (mean): 0.0285\n",
      "Batch 49 | Transform: RandomAffine | Reject Differential (mean): 0.0000\n",
      "Batch 50 | Transform: RandomRotation | Reject Differential (mean): 0.0213\n",
      "Batch 50 | Transform: ColorJitter | Reject Differential (mean): 0.0271\n",
      "Batch 50 | Transform: RandomAffine | Reject Differential (mean): 0.0218\n",
      "Batch 51 | Transform: RandomRotation | Reject Differential (mean): 0.0192\n",
      "Batch 51 | Transform: ColorJitter | Reject Differential (mean): 0.0302\n",
      "Batch 51 | Transform: RandomAffine | Reject Differential (mean): 0.0178\n",
      "Batch 52 | Transform: RandomRotation | Reject Differential (mean): 0.0196\n",
      "Batch 52 | Transform: ColorJitter | Reject Differential (mean): 0.0277\n",
      "Batch 52 | Transform: RandomAffine | Reject Differential (mean): 0.0187\n"
     ]
    },
    {
     "name": "stderr",
     "output_type": "stream",
     "text": [
      " 57%|█████████████████████████████████████████████████████████████████████████████████████████████▍                                                                      | 57/100 [00:03<00:02, 17.35it/s]"
     ]
    },
    {
     "name": "stdout",
     "output_type": "stream",
     "text": [
      "Batch 53 | Transform: RandomRotation | Reject Differential (mean): 0.0181\n",
      "Batch 53 | Transform: ColorJitter | Reject Differential (mean): 0.0292\n",
      "Batch 53 | Transform: RandomAffine | Reject Differential (mean): 0.0156\n",
      "Batch 54 | Transform: RandomRotation | Reject Differential (mean): 0.0000\n",
      "Batch 54 | Transform: ColorJitter | Reject Differential (mean): 0.0280\n",
      "Batch 54 | Transform: RandomAffine | Reject Differential (mean): 0.0169\n",
      "Batch 55 | Transform: RandomRotation | Reject Differential (mean): 0.0192\n",
      "Batch 55 | Transform: ColorJitter | Reject Differential (mean): 0.0309\n",
      "Batch 55 | Transform: RandomAffine | Reject Differential (mean): 0.0196\n",
      "Batch 56 | Transform: RandomRotation | Reject Differential (mean): 0.0184\n",
      "Batch 56 | Transform: ColorJitter | Reject Differential (mean): 0.0258\n",
      "Batch 56 | Transform: RandomAffine | Reject Differential (mean): 0.0184\n"
     ]
    },
    {
     "name": "stderr",
     "output_type": "stream",
     "text": [
      " 61%|████████████████████████████████████████████████████████████████████████████████████████████████████                                                                | 61/100 [00:04<00:02, 17.85it/s]"
     ]
    },
    {
     "name": "stdout",
     "output_type": "stream",
     "text": [
      "Batch 57 | Transform: RandomRotation | Reject Differential (mean): 0.0157\n",
      "Batch 57 | Transform: ColorJitter | Reject Differential (mean): 0.0271\n",
      "Batch 57 | Transform: RandomAffine | Reject Differential (mean): 0.0196\n",
      "Batch 58 | Transform: RandomRotation | Reject Differential (mean): 0.0134\n",
      "Batch 58 | Transform: ColorJitter | Reject Differential (mean): 0.0231\n",
      "Batch 58 | Transform: RandomAffine | Reject Differential (mean): 0.0162\n",
      "Batch 59 | Transform: RandomRotation | Reject Differential (mean): 0.0219\n",
      "Batch 59 | Transform: ColorJitter | Reject Differential (mean): 0.0293\n",
      "Batch 59 | Transform: RandomAffine | Reject Differential (mean): 0.0213\n",
      "Batch 60 | Transform: RandomRotation | Reject Differential (mean): 0.0174\n",
      "Batch 60 | Transform: ColorJitter | Reject Differential (mean): 0.0315\n",
      "Batch 60 | Transform: RandomAffine | Reject Differential (mean): 0.0182\n"
     ]
    },
    {
     "name": "stderr",
     "output_type": "stream",
     "text": [
      " 63%|███████████████████████████████████████████████████████████████████████████████████████████████████████▎                                                            | 63/100 [00:04<00:02, 17.97it/s]"
     ]
    },
    {
     "name": "stdout",
     "output_type": "stream",
     "text": [
      "Batch 61 | Transform: RandomRotation | Reject Differential (mean): 0.0143\n",
      "Batch 61 | Transform: ColorJitter | Reject Differential (mean): 0.0305\n",
      "Batch 61 | Transform: RandomAffine | Reject Differential (mean): 0.0195\n",
      "Batch 62 | Transform: RandomRotation | Reject Differential (mean): 0.0181\n",
      "Batch 62 | Transform: ColorJitter | Reject Differential (mean): 0.0297\n",
      "Batch 62 | Transform: RandomAffine | Reject Differential (mean): 0.0176\n",
      "Batch 63 | Transform: RandomRotation | Reject Differential (mean): 0.0173\n",
      "Batch 63 | Transform: ColorJitter | Reject Differential (mean): 0.0296\n",
      "Batch 63 | Transform: RandomAffine | Reject Differential (mean): 0.0208\n",
      "Batch 64 | Transform: RandomRotation | Reject Differential (mean): 0.0000\n",
      "Batch 64 | Transform: ColorJitter | Reject Differential (mean): 0.0218\n"
     ]
    },
    {
     "name": "stderr",
     "output_type": "stream",
     "text": [
      " 67%|█████████████████████████████████████████████████████████████████████████████████████████████████████████████▉                                                      | 67/100 [00:04<00:01, 17.51it/s]"
     ]
    },
    {
     "name": "stdout",
     "output_type": "stream",
     "text": [
      "Batch 64 | Transform: RandomAffine | Reject Differential (mean): 0.0188\n",
      "Batch 65 | Transform: RandomRotation | Reject Differential (mean): 0.0000\n",
      "Batch 65 | Transform: ColorJitter | Reject Differential (mean): 0.0285\n",
      "Batch 65 | Transform: RandomAffine | Reject Differential (mean): 0.0200\n",
      "Batch 66 | Transform: RandomRotation | Reject Differential (mean): 0.0172\n",
      "Batch 66 | Transform: ColorJitter | Reject Differential (mean): 0.0326\n",
      "Batch 66 | Transform: RandomAffine | Reject Differential (mean): 0.0184\n",
      "Batch 67 | Transform: RandomRotation | Reject Differential (mean): 0.0145\n",
      "Batch 67 | Transform: ColorJitter | Reject Differential (mean): 0.0244\n",
      "Batch 67 | Transform: RandomAffine | Reject Differential (mean): 0.0180\n"
     ]
    },
    {
     "name": "stderr",
     "output_type": "stream",
     "text": [
      " 71%|████████████████████████████████████████████████████████████████████████████████████████████████████████████████████▍                                               | 71/100 [00:04<00:01, 17.08it/s]"
     ]
    },
    {
     "name": "stdout",
     "output_type": "stream",
     "text": [
      "Batch 68 | Transform: RandomRotation | Reject Differential (mean): 0.0184\n",
      "Batch 68 | Transform: ColorJitter | Reject Differential (mean): 0.0243\n",
      "Batch 68 | Transform: RandomAffine | Reject Differential (mean): 0.0211\n",
      "Batch 69 | Transform: RandomRotation | Reject Differential (mean): 0.0000\n",
      "Batch 69 | Transform: ColorJitter | Reject Differential (mean): 0.0236\n",
      "Batch 69 | Transform: RandomAffine | Reject Differential (mean): 0.0182\n",
      "Batch 70 | Transform: RandomRotation | Reject Differential (mean): 0.0182\n",
      "Batch 70 | Transform: ColorJitter | Reject Differential (mean): 0.0264\n",
      "Batch 70 | Transform: RandomAffine | Reject Differential (mean): 0.0157\n",
      "Batch 71 | Transform: RandomRotation | Reject Differential (mean): 0.0195\n",
      "Batch 71 | Transform: ColorJitter | Reject Differential (mean): 0.0268\n",
      "Batch 71 | Transform: RandomAffine | Reject Differential (mean): 0.0160\n"
     ]
    },
    {
     "name": "stderr",
     "output_type": "stream",
     "text": [
      " 75%|███████████████████████████████████████████████████████████████████████████████████████████████████████████████████████████                                         | 75/100 [00:04<00:01, 17.30it/s]"
     ]
    },
    {
     "name": "stdout",
     "output_type": "stream",
     "text": [
      "Batch 72 | Transform: RandomRotation | Reject Differential (mean): 0.0179\n",
      "Batch 72 | Transform: ColorJitter | Reject Differential (mean): 0.0301\n",
      "Batch 72 | Transform: RandomAffine | Reject Differential (mean): 0.0187\n",
      "Batch 73 | Transform: RandomRotation | Reject Differential (mean): 0.0164\n",
      "Batch 73 | Transform: ColorJitter | Reject Differential (mean): 0.0258\n",
      "Batch 73 | Transform: RandomAffine | Reject Differential (mean): 0.0154\n",
      "Batch 74 | Transform: RandomRotation | Reject Differential (mean): 0.0208\n",
      "Batch 74 | Transform: ColorJitter | Reject Differential (mean): 0.0261\n",
      "Batch 74 | Transform: RandomAffine | Reject Differential (mean): 0.0199\n",
      "Batch 75 | Transform: RandomRotation | Reject Differential (mean): 0.0000\n",
      "Batch 75 | Transform: ColorJitter | Reject Differential (mean): 0.0275\n",
      "Batch 75 | Transform: RandomAffine | Reject Differential (mean): 0.0166\n"
     ]
    },
    {
     "name": "stderr",
     "output_type": "stream",
     "text": [
      " 79%|█████████████████████████████████████████████████████████████████████████████████████████████████████████████████████████████████▌                                  | 79/100 [00:05<00:01, 17.45it/s]"
     ]
    },
    {
     "name": "stdout",
     "output_type": "stream",
     "text": [
      "Batch 76 | Transform: RandomRotation | Reject Differential (mean): 0.0170\n",
      "Batch 76 | Transform: ColorJitter | Reject Differential (mean): 0.0253\n",
      "Batch 76 | Transform: RandomAffine | Reject Differential (mean): 0.0160\n",
      "Batch 77 | Transform: RandomRotation | Reject Differential (mean): 0.0000\n",
      "Batch 77 | Transform: ColorJitter | Reject Differential (mean): 0.0288\n",
      "Batch 77 | Transform: RandomAffine | Reject Differential (mean): 0.0196\n",
      "Batch 78 | Transform: RandomRotation | Reject Differential (mean): 0.0160\n",
      "Batch 78 | Transform: ColorJitter | Reject Differential (mean): 0.0273\n",
      "Batch 78 | Transform: RandomAffine | Reject Differential (mean): 0.0177\n",
      "Batch 79 | Transform: RandomRotation | Reject Differential (mean): 0.0176\n",
      "Batch 79 | Transform: ColorJitter | Reject Differential (mean): 0.0263\n",
      "Batch 79 | Transform: RandomAffine | Reject Differential (mean): 0.0202\n"
     ]
    },
    {
     "name": "stderr",
     "output_type": "stream",
     "text": [
      " 83%|████████████████████████████████████████████████████████████████████████████████████████████████████████████████████████████████████████                            | 83/100 [00:05<00:01, 16.58it/s]"
     ]
    },
    {
     "name": "stdout",
     "output_type": "stream",
     "text": [
      "Batch 80 | Transform: RandomRotation | Reject Differential (mean): 0.0160\n",
      "Batch 80 | Transform: ColorJitter | Reject Differential (mean): 0.0294\n",
      "Batch 80 | Transform: RandomAffine | Reject Differential (mean): 0.0196\n",
      "Batch 81 | Transform: RandomRotation | Reject Differential (mean): 0.0177\n",
      "Batch 81 | Transform: ColorJitter | Reject Differential (mean): 0.0293\n",
      "Batch 81 | Transform: RandomAffine | Reject Differential (mean): 0.0168\n",
      "Batch 82 | Transform: RandomRotation | Reject Differential (mean): 0.0000\n",
      "Batch 82 | Transform: ColorJitter | Reject Differential (mean): 0.0266\n",
      "Batch 82 | Transform: RandomAffine | Reject Differential (mean): 0.0226\n",
      "Batch 83 | Transform: RandomRotation | Reject Differential (mean): 0.0000\n"
     ]
    },
    {
     "name": "stderr",
     "output_type": "stream",
     "text": [
      " 85%|███████████████████████████████████████████████████████████████████████████████████████████████████████████████████████████████████████████▍                        | 85/100 [00:05<00:00, 15.75it/s]"
     ]
    },
    {
     "name": "stdout",
     "output_type": "stream",
     "text": [
      "Batch 83 | Transform: ColorJitter | Reject Differential (mean): 0.0289\n",
      "Batch 83 | Transform: RandomAffine | Reject Differential (mean): 0.0193\n",
      "Batch 84 | Transform: RandomRotation | Reject Differential (mean): 0.0176\n",
      "Batch 84 | Transform: ColorJitter | Reject Differential (mean): 0.0276\n",
      "Batch 84 | Transform: RandomAffine | Reject Differential (mean): 0.0164\n",
      "Batch 85 | Transform: RandomRotation | Reject Differential (mean): 0.0182\n",
      "Batch 85 | Transform: ColorJitter | Reject Differential (mean): 0.0275\n",
      "Batch 85 | Transform: RandomAffine | Reject Differential (mean): 0.0197\n",
      "Batch 86 | Transform: RandomRotation | Reject Differential (mean): 0.0172\n",
      "Batch 86 | Transform: ColorJitter | Reject Differential (mean): 0.0288\n"
     ]
    },
    {
     "name": "stderr",
     "output_type": "stream",
     "text": [
      " 89%|█████████████████████████████████████████████████████████████████████████████████████████████████████████████████████████████████████████████████▉                  | 89/100 [00:05<00:00, 16.58it/s]"
     ]
    },
    {
     "name": "stdout",
     "output_type": "stream",
     "text": [
      "Batch 86 | Transform: RandomAffine | Reject Differential (mean): 0.0174\n",
      "Batch 87 | Transform: RandomRotation | Reject Differential (mean): 0.0200\n",
      "Batch 87 | Transform: ColorJitter | Reject Differential (mean): 0.0290\n",
      "Batch 87 | Transform: RandomAffine | Reject Differential (mean): 0.0201\n",
      "Batch 88 | Transform: RandomRotation | Reject Differential (mean): 0.0198\n",
      "Batch 88 | Transform: ColorJitter | Reject Differential (mean): 0.0301\n",
      "Batch 88 | Transform: RandomAffine | Reject Differential (mean): 0.0188\n",
      "Batch 89 | Transform: RandomRotation | Reject Differential (mean): 0.0000\n",
      "Batch 89 | Transform: ColorJitter | Reject Differential (mean): 0.0267\n",
      "Batch 89 | Transform: RandomAffine | Reject Differential (mean): 0.0224\n",
      "Batch 90 | Transform: RandomRotation | Reject Differential (mean): 0.0000\n"
     ]
    },
    {
     "name": "stderr",
     "output_type": "stream",
     "text": [
      " 93%|████████████████████████████████████████████████████████████████████████████████████████████████████████████████████████████████████████████████████████▌           | 93/100 [00:06<00:00, 17.01it/s]"
     ]
    },
    {
     "name": "stdout",
     "output_type": "stream",
     "text": [
      "Batch 90 | Transform: ColorJitter | Reject Differential (mean): 0.0276\n",
      "Batch 90 | Transform: RandomAffine | Reject Differential (mean): 0.0204\n",
      "Batch 91 | Transform: RandomRotation | Reject Differential (mean): 0.0182\n",
      "Batch 91 | Transform: ColorJitter | Reject Differential (mean): 0.0271\n",
      "Batch 91 | Transform: RandomAffine | Reject Differential (mean): 0.0188\n",
      "Batch 92 | Transform: RandomRotation | Reject Differential (mean): 0.0173\n",
      "Batch 92 | Transform: ColorJitter | Reject Differential (mean): 0.0278\n",
      "Batch 92 | Transform: RandomAffine | Reject Differential (mean): 0.0192\n",
      "Batch 93 | Transform: RandomRotation | Reject Differential (mean): 0.0000\n",
      "Batch 93 | Transform: ColorJitter | Reject Differential (mean): 0.0226\n",
      "Batch 93 | Transform: RandomAffine | Reject Differential (mean): 0.0210\n"
     ]
    },
    {
     "name": "stderr",
     "output_type": "stream",
     "text": [
      " 97%|███████████████████████████████████████████████████████████████████████████████████████████████████████████████████████████████████████████████████████████████     | 97/100 [00:06<00:00, 17.15it/s]"
     ]
    },
    {
     "name": "stdout",
     "output_type": "stream",
     "text": [
      "Batch 94 | Transform: RandomRotation | Reject Differential (mean): 0.0000\n",
      "Batch 94 | Transform: ColorJitter | Reject Differential (mean): 0.0255\n",
      "Batch 94 | Transform: RandomAffine | Reject Differential (mean): 0.0207\n",
      "Batch 95 | Transform: RandomRotation | Reject Differential (mean): 0.0156\n",
      "Batch 95 | Transform: ColorJitter | Reject Differential (mean): 0.0301\n",
      "Batch 95 | Transform: RandomAffine | Reject Differential (mean): 0.0180\n",
      "Batch 96 | Transform: RandomRotation | Reject Differential (mean): 0.0186\n",
      "Batch 96 | Transform: ColorJitter | Reject Differential (mean): 0.0267\n",
      "Batch 96 | Transform: RandomAffine | Reject Differential (mean): 0.0166\n",
      "Batch 97 | Transform: RandomRotation | Reject Differential (mean): 0.0178\n",
      "Batch 97 | Transform: ColorJitter | Reject Differential (mean): 0.0236\n"
     ]
    },
    {
     "name": "stderr",
     "output_type": "stream",
     "text": [
      "100%|███████████████████████████████████████████████████████████████████████████████████████████████████████████████████████████████████████████████████████████████████| 100/100 [00:06<00:00, 15.44it/s]"
     ]
    },
    {
     "name": "stdout",
     "output_type": "stream",
     "text": [
      "Batch 97 | Transform: RandomAffine | Reject Differential (mean): 0.0188\n",
      "Batch 98 | Transform: RandomRotation | Reject Differential (mean): 0.0196\n",
      "Batch 98 | Transform: ColorJitter | Reject Differential (mean): 0.0267\n",
      "Batch 98 | Transform: RandomAffine | Reject Differential (mean): 0.0201\n",
      "Batch 99 | Transform: RandomRotation | Reject Differential (mean): 0.0190\n",
      "Batch 99 | Transform: ColorJitter | Reject Differential (mean): 0.0299\n",
      "Batch 99 | Transform: RandomAffine | Reject Differential (mean): 0.0224\n",
      "Number of recorded reject differentials: 300\n",
      "Example of first few reject_diffs: [0.016567975282669067, 0.029449326917529106, 0.015580164268612862, 0.0, 0.028186988085508347]\n"
     ]
    },
    {
     "name": "stderr",
     "output_type": "stream",
     "text": [
      "\n"
     ]
    }
   ],
   "source": [
    "reject_diffs = []\n",
    "\n",
    "# Evaluate reject differential over the test set\n",
    "for i, (images, labels) in enumerate(tqdm(testloader)):\n",
    "    \n",
    "    images = images.to(device)\n",
    "\n",
    "    # Original prediction\n",
    "    with torch.no_grad():\n",
    "        original_output = model(images)\n",
    "        original_prob = F.softmax(original_output, dim=1)               # shape [batch_size, 10]\n",
    "        original_confidence, original_pred = torch.max(original_prob, 1) # shape [batch_size]\n",
    "\n",
    "    # For metamorphic transform\n",
    "    for tf in transformations:\n",
    "       \n",
    "        transformed_images = tf(images.cpu()).to(device)\n",
    "\n",
    "        with torch.no_grad():\n",
    "            transformed_output = model(transformed_images)\n",
    "            transformed_prob = F.softmax(transformed_output, dim=1)\n",
    "            transformed_confidence, transformed_pred = torch.max(transformed_prob, 1)\n",
    "\n",
    "        # Compute absolute difference in confidence for each sample in the batch\n",
    "    \n",
    "        diff_tensor = torch.abs(original_confidence - transformed_confidence)\n",
    "\n",
    "        # Convert to a single scalar by taking the mean over the batch\n",
    "        diff_mean = diff_tensor.mean().item()\n",
    "\n",
    "       \n",
    "        reject_diffs.append(diff_mean)\n",
    "\n",
    "       \n",
    "        print(f\"Batch {i} | Transform: {tf.__class__.__name__} | \"\n",
    "              f\"Reject Differential (mean): {diff_mean:.4f}\")\n",
    "\n",
    "\n",
    "print(\"Number of recorded reject differentials:\", len(reject_diffs))\n",
    "print(\"Example of first few reject_diffs:\", reject_diffs[:5])\n"
   ]
  },
  {
   "cell_type": "code",
   "execution_count": 11,
   "id": "ac8f9e06-627d-488d-8f63-0add171ab613",
   "metadata": {},
   "outputs": [],
   "source": [
    "def train_one_epoch(model, loader, criterion, optimizer):\n",
    "    model.train()\n",
    "    running_loss = 0.0\n",
    "    correct = 0\n",
    "    total = 0\n",
    "\n",
    "    for images, labels in loader:\n",
    "        images, labels = images.to(device), labels.to(device)\n",
    "\n",
    "        optimizer.zero_grad()\n",
    "        outputs = model(images)\n",
    "        loss = criterion(outputs, labels)\n",
    "        loss.backward()\n",
    "        optimizer.step()\n",
    "\n",
    "        running_loss += loss.item() * images.size(0)\n",
    "        _, predicted = outputs.max(1)\n",
    "        total += labels.size(0)\n",
    "        correct += predicted.eq(labels).sum().item()\n",
    "\n",
    "    epoch_loss = running_loss / total\n",
    "    epoch_acc = 100.0 * correct / total\n",
    "    return epoch_loss, epoch_acc\n",
    "\n",
    "def evaluate(model, loader, criterion):\n",
    "    model.eval()\n",
    "    running_loss = 0.0\n",
    "    correct = 0\n",
    "    total = 0\n",
    "\n",
    "    with torch.no_grad():\n",
    "        for images, labels in loader:\n",
    "            images, labels = images.to(device), labels.to(device)\n",
    "            outputs = model(images)\n",
    "            loss = criterion(outputs, labels)\n",
    "\n",
    "            running_loss += loss.item() * images.size(0)\n",
    "            _, predicted = outputs.max(1)\n",
    "            total += labels.size(0)\n",
    "            correct += predicted.eq(labels).sum().item()\n",
    "\n",
    "    epoch_loss = running_loss / total\n",
    "    epoch_acc = 100.0 * correct / total\n",
    "    return epoch_loss, epoch_acc\n"
   ]
  },
  {
   "cell_type": "code",
   "execution_count": 12,
   "id": "799ba397-953a-4e43-b34f-b759925ab735",
   "metadata": {},
   "outputs": [
    {
     "name": "stdout",
     "output_type": "stream",
     "text": [
      "Epoch [1/10]\n",
      "  Train Loss: 1.9900, Train Acc: 26.17%\n",
      "  Test  Loss: 1.6644, Test  Acc: 38.49%\n",
      "Epoch [2/10]\n",
      "  Train Loss: 1.5954, Train Acc: 40.75%\n",
      "  Test  Loss: 1.5084, Test  Acc: 44.93%\n",
      "Epoch [3/10]\n",
      "  Train Loss: 1.3474, Train Acc: 51.05%\n",
      "  Test  Loss: 1.3064, Test  Acc: 53.22%\n",
      "Epoch [4/10]\n",
      "  Train Loss: 1.0923, Train Acc: 60.93%\n",
      "  Test  Loss: 1.0881, Test  Acc: 63.14%\n",
      "Epoch [5/10]\n",
      "  Train Loss: 0.8739, Train Acc: 69.33%\n",
      "  Test  Loss: 0.8101, Test  Acc: 72.19%\n",
      "Epoch [6/10]\n",
      "  Train Loss: 0.7360, Train Acc: 74.36%\n",
      "  Test  Loss: 0.8194, Test  Acc: 72.40%\n",
      "Epoch [7/10]\n",
      "  Train Loss: 0.6523, Train Acc: 77.52%\n",
      "  Test  Loss: 0.7859, Test  Acc: 74.14%\n",
      "Epoch [8/10]\n",
      "  Train Loss: 0.5937, Train Acc: 79.39%\n",
      "  Test  Loss: 0.6970, Test  Acc: 76.56%\n",
      "Epoch [9/10]\n",
      "  Train Loss: 0.5485, Train Acc: 81.08%\n",
      "  Test  Loss: 0.5401, Test  Acc: 81.47%\n",
      "Epoch [10/10]\n",
      "  Train Loss: 0.5092, Train Acc: 82.56%\n",
      "  Test  Loss: 0.5279, Test  Acc: 82.33%\n"
     ]
    }
   ],
   "source": [
    "train_losses = []\n",
    "test_losses = []\n",
    "\n",
    "num_epochs = 10\n",
    "\n",
    "for epoch in range(num_epochs):\n",
    "    train_loss, train_acc = train_one_epoch(model, trainloader, criterion, optimizer)\n",
    "    test_loss, test_acc = evaluate(model, testloader, criterion)\n",
    "\n",
    "    # Append losses to track\n",
    "    train_losses.append(train_loss)\n",
    "    test_losses.append(test_loss)\n",
    "\n",
    "    print(f\"Epoch [{epoch+1}/{num_epochs}]\")\n",
    "    print(f\"  Train Loss: {train_loss:.4f}, Train Acc: {train_acc:.2f}%\")\n",
    "    print(f\"  Test  Loss: {test_loss:.4f}, Test  Acc: {test_acc:.2f}%\")"
   ]
  },
  {
   "cell_type": "code",
   "execution_count": 13,
   "id": "15336449-4ee0-42b3-91b8-ae0b79ccc3d0",
   "metadata": {},
   "outputs": [],
   "source": [
    "from sklearn.metrics import precision_score, recall_score, f1_score\n",
    "\n",
    "def validate(model, testloader, device, criterion):\n",
    "    model.eval()\n",
    "    val_running_loss = 0.0\n",
    "    val_running_correct = 0\n",
    "    all_preds = []\n",
    "    all_targets = []\n",
    "    \n",
    "    # Switch off gradient tracking for validation\n",
    "    with torch.no_grad():\n",
    "        for data, target in testloader:\n",
    "            data, target = data.to(device), target.to(device)\n",
    "            \n",
    "            # Forward pass\n",
    "            output = model(data)\n",
    "            loss = criterion(output, target)\n",
    "            \n",
    "            # Accumulate loss * batch_size for accurate average\n",
    "            val_running_loss += loss.item() * data.size(0)\n",
    "            \n",
    "            # Predictions\n",
    "            _, preds = torch.max(output, 1)\n",
    "            val_running_correct += (preds == target).sum().item()\n",
    "            \n",
    "            # Store for metrics\n",
    "            all_preds.extend(preds.cpu().numpy())\n",
    "            all_targets.extend(target.cpu().numpy())\n",
    "    \n",
    "    # Calculate average loss\n",
    "    total_samples = len(testloader.dataset)\n",
    "    val_loss = val_running_loss / total_samples\n",
    "    \n",
    "    # Calculate accuracy\n",
    "    val_accuracy = 100.0 * val_running_correct / total_samples\n",
    "    \n",
    "    # Calculate precision, recall, F1 (weighted or macro—your choice)\n",
    "    precision = precision_score(all_targets, all_preds, average='weighted')\n",
    "    recall    = recall_score(all_targets, all_preds, average='weighted')\n",
    "    f1        = f1_score(all_targets, all_preds, average='weighted')\n",
    "    \n",
    "    return val_loss, val_accuracy, precision, recall, f1\n"
   ]
  },
  {
   "cell_type": "code",
   "execution_count": 14,
   "id": "7d81bab4-0a40-453d-bffc-2596e3efca83",
   "metadata": {},
   "outputs": [
    {
     "name": "stdout",
     "output_type": "stream",
     "text": [
      "Model saved to resnet56_RejDiff_cifar10.pth\n"
     ]
    }
   ],
   "source": [
    "model_save_path = 'resnet56_RejDiff_cifar10.pth'\n",
    "torch.save(model.state_dict(), model_save_path)\n",
    "print(f\"Model saved to {model_save_path}\")"
   ]
  },
  {
   "cell_type": "code",
   "execution_count": 15,
   "id": "1b461826-fb5a-47ea-bc15-7172ce48fe51",
   "metadata": {},
   "outputs": [
    {
     "name": "stderr",
     "output_type": "stream",
     "text": [
      "/tmp/ipykernel_327371/1717748095.py:1: FutureWarning: You are using `torch.load` with `weights_only=False` (the current default value), which uses the default pickle module implicitly. It is possible to construct malicious pickle data which will execute arbitrary code during unpickling (See https://github.com/pytorch/pytorch/blob/main/SECURITY.md#untrusted-models for more details). In a future release, the default value for `weights_only` will be flipped to `True`. This limits the functions that could be executed during unpickling. Arbitrary objects will no longer be allowed to be loaded via this mode unless they are explicitly allowlisted by the user via `torch.serialization.add_safe_globals`. We recommend you start setting `weights_only=True` for any use case where you don't have full control of the loaded file. Please open an issue on GitHub for any issues related to this experimental feature.\n",
      "  model.load_state_dict(torch.load(model_save_path))\n"
     ]
    }
   ],
   "source": [
    "model.load_state_dict(torch.load(model_save_path))\n",
    "mode = model.to(device)"
   ]
  },
  {
   "cell_type": "code",
   "execution_count": 16,
   "id": "b8b4d8fe-4b5b-4647-a056-e9021ccf8a3c",
   "metadata": {},
   "outputs": [
    {
     "name": "stdout",
     "output_type": "stream",
     "text": [
      "\n",
      "Final Test Results - Loss: 0.5279, Accuracy: 82.33%, Precision: 0.82, Recall: 0.82, F1 Score: 0.82\n"
     ]
    }
   ],
   "source": [
    "final_val_loss, final_val_accuracy, final_precision, final_recall, final_f1 = validate( model,  testloader, device=device, criterion=criterion)\n",
    "\n",
    "print(f\"\\nFinal Test Results - Loss: {final_val_loss:.4f}, \"f\"Accuracy: {final_val_accuracy:.2f}%, \"f\"Precision: {final_precision:.2f}, \"f\"Recall: {final_recall:.2f}, \"f\"F1 Score: {final_f1:.2f}\")"
   ]
  },
  {
   "cell_type": "code",
   "execution_count": null,
   "id": "34cd8b23-35f1-47dd-93df-184835938162",
   "metadata": {},
   "outputs": [],
   "source": []
  }
 ],
 "metadata": {
  "kernelspec": {
   "display_name": "Python 3 (ipykernel)",
   "language": "python",
   "name": "python3"
  },
  "language_info": {
   "codemirror_mode": {
    "name": "ipython",
    "version": 3
   },
   "file_extension": ".py",
   "mimetype": "text/x-python",
   "name": "python",
   "nbconvert_exporter": "python",
   "pygments_lexer": "ipython3",
   "version": "3.8.10"
  }
 },
 "nbformat": 4,
 "nbformat_minor": 5
}
