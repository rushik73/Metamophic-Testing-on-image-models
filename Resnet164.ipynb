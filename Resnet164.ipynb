{
 "cells": [
  {
   "cell_type": "code",
   "execution_count": 1,
   "id": "9ba0657c-96df-40ea-9f8e-09da28483a02",
   "metadata": {},
   "outputs": [
    {
     "name": "stdout",
     "output_type": "stream",
     "text": [
      "Using device: cuda\n"
     ]
    }
   ],
   "source": [
    "import torch\n",
    "import torchvision\n",
    "import torchvision.transforms as transforms\n",
    "import torch.optim as optim\n",
    "import time\n",
    "import torch.nn.functional as F\n",
    "import torch.nn as nn\n",
    "import matplotlib.pyplot as plt\n",
    "from torchvision import models\n",
    "from sklearn.metrics import precision_score, recall_score, f1_score\n",
    "from tqdm import tqdm\n",
    "\n",
    "from sklearn.metrics import precision_score, recall_score, f1_score\n",
    "\n",
    "device = torch.device('cuda' if torch.cuda.is_available() else 'cpu')\n",
    "print(\"Using device:\", device)"
   ]
  },
  {
   "cell_type": "code",
   "execution_count": 2,
   "id": "f2981855-1bd2-47ca-a4a5-296321a40967",
   "metadata": {},
   "outputs": [
    {
     "name": "stdout",
     "output_type": "stream",
     "text": [
      "Files already downloaded and verified\n",
      "Files already downloaded and verified\n"
     ]
    }
   ],
   "source": [
    "# Normalization values for CIFAR-10\n",
    "mean = (0.4914, 0.4822, 0.4465)\n",
    "std  = (0.2023, 0.1994, 0.2010)\n",
    "\n",
    "transform_train = transforms.Compose([\n",
    "    transforms.RandomCrop(32, padding=4),\n",
    "    transforms.RandomHorizontalFlip(),\n",
    "    transforms.ToTensor(),\n",
    "    transforms.Normalize(mean, std),\n",
    "])\n",
    "\n",
    "transform_test = transforms.Compose([\n",
    "    transforms.ToTensor(),\n",
    "    transforms.Normalize(mean, std),\n",
    "])\n",
    "\n",
    "trainset = torchvision.datasets.CIFAR10(\n",
    "    root='./data', train=True, download=True, transform=transform_train\n",
    ")\n",
    "trainloader = torch.utils.data.DataLoader(\n",
    "    trainset, batch_size=128, shuffle=True, num_workers=2\n",
    ")\n",
    "\n",
    "testset = torchvision.datasets.CIFAR10(\n",
    "    root='./data', train=False, download=True, transform=transform_test\n",
    ")\n",
    "testloader = torch.utils.data.DataLoader(\n",
    "    testset, batch_size=100, shuffle=False, num_workers=2\n",
    ")\n"
   ]
  },
  {
   "cell_type": "code",
   "execution_count": 3,
   "id": "46444bbc-35e9-4c95-b395-707e9f64c8f1",
   "metadata": {},
   "outputs": [],
   "source": [
    "class Bottleneck(nn.Module):\n",
    "    expansion = 4  # Multiplicative factor for output channels in the 3rd conv\n",
    "\n",
    "    def __init__(self, in_planes, planes, stride=1):\n",
    "        super(Bottleneck, self).__init__()\n",
    "\n",
    "        # 1x1 conv to reduce channels\n",
    "        self.conv1 = nn.Conv2d(in_planes, planes, kernel_size=1, bias=False)\n",
    "        self.bn1   = nn.BatchNorm2d(planes)\n",
    "\n",
    "        # 3x3 conv\n",
    "        self.conv2 = nn.Conv2d(planes, planes, kernel_size=3,\n",
    "                               stride=stride, padding=1, bias=False)\n",
    "        self.bn2   = nn.BatchNorm2d(planes)\n",
    "\n",
    "        # 1x1 conv to expand channels back by expansion\n",
    "        self.conv3 = nn.Conv2d(planes, planes * self.expansion, kernel_size=1,\n",
    "                               bias=False)\n",
    "        self.bn3   = nn.BatchNorm2d(planes * self.expansion)\n",
    "\n",
    "       \n",
    "        self.shortcut = nn.Sequential()\n",
    "        if stride != 1 or in_planes != planes * self.expansion:\n",
    "            self.shortcut = nn.Sequential(\n",
    "                nn.Conv2d(in_planes, planes * self.expansion,\n",
    "                          kernel_size=1, stride=stride, bias=False),\n",
    "                nn.BatchNorm2d(planes * self.expansion)\n",
    "            )\n",
    "\n",
    "    def forward(self, x):\n",
    "        out = F.relu(self.bn1(self.conv1(x)), inplace=True)\n",
    "        out = F.relu(self.bn2(self.conv2(out)), inplace=True)\n",
    "        out = self.bn3(self.conv3(out))\n",
    "        out += self.shortcut(x)\n",
    "        out = F.relu(out, inplace=True)\n",
    "        return out\n"
   ]
  },
  {
   "cell_type": "code",
   "execution_count": 4,
   "id": "2732ad1f-e60d-487b-924c-2fef27f4f34e",
   "metadata": {},
   "outputs": [],
   "source": [
    "class ResNet164(nn.Module):\n",
    "    def __init__(self, block=Bottleneck, num_blocks=[18, 18, 18], num_classes=10):\n",
    "        super(ResNet164, self).__init__()\n",
    "        self.in_planes = 16\n",
    "\n",
    "        # Initial 3x3 convolution\n",
    "        self.conv1 = nn.Conv2d(3, 16, kernel_size=3, stride=1,\n",
    "                               padding=1, bias=False)\n",
    "        self.bn1   = nn.BatchNorm2d(16)\n",
    "\n",
    "        \n",
    "        self.layer1 = self._make_layer(block, planes=16,  num_blocks=num_blocks[0], stride=1)\n",
    "        \n",
    "        self.layer2 = self._make_layer(block, planes=32,  num_blocks=num_blocks[1], stride=2)\n",
    "        \n",
    "        self.layer3 = self._make_layer(block, planes=64,  num_blocks=num_blocks[2], stride=2)\n",
    "        \n",
    "        self.linear = nn.Linear(64 * block.expansion, num_classes)\n",
    "\n",
    "    def _make_layer(self, block, planes, num_blocks, stride):\n",
    "        strides = [stride] + [1]*(num_blocks - 1)\n",
    "        layers = []\n",
    "        for s in strides:\n",
    "            layers.append(block(self.in_planes, planes, s))\n",
    "            self.in_planes = planes * block.expansion\n",
    "        return nn.Sequential(*layers)\n",
    "\n",
    "    def forward(self, x):\n",
    "        out = F.relu(self.bn1(self.conv1(x)), inplace=True)\n",
    "        out = self.layer1(out)\n",
    "        out = self.layer2(out)\n",
    "        out = self.layer3(out)\n",
    "\n",
    "       \n",
    "        out = F.avg_pool2d(out, out.size(3))  # or out.shape[2]\n",
    "        out = out.view(out.size(0), -1)\n",
    "        out = self.linear(out)\n",
    "        return out"
   ]
  },
  {
   "cell_type": "code",
   "execution_count": 5,
   "id": "7da9a6e6-ae48-43ef-b012-4a38751d51f9",
   "metadata": {},
   "outputs": [],
   "source": [
    "def train_one_epoch(model, loader, criterion, optimizer):\n",
    "    model.train()\n",
    "    running_loss = 0.0\n",
    "    correct = 0\n",
    "    total = 0\n",
    "\n",
    "    for images, labels in loader:\n",
    "        images, labels = images.to(device), labels.to(device)\n",
    "\n",
    "        optimizer.zero_grad()\n",
    "        outputs = model(images)\n",
    "        loss = criterion(outputs, labels)\n",
    "        loss.backward()\n",
    "        optimizer.step()\n",
    "\n",
    "        running_loss += loss.item() * images.size(0)\n",
    "        _, predicted = outputs.max(1)\n",
    "        total += labels.size(0)\n",
    "        correct += predicted.eq(labels).sum().item()\n",
    "\n",
    "    epoch_loss = running_loss / total\n",
    "    epoch_acc = 100.0 * correct / total\n",
    "    return epoch_loss, epoch_acc\n",
    "\n",
    "def evaluate(model, testloader, criterion):\n",
    "    model.eval()\n",
    "    running_loss = 0.0\n",
    "    correct = 0\n",
    "    total = 0\n",
    "    \n",
    "    with torch.no_grad():\n",
    "        for images, labels in testloader:\n",
    "            images, labels = images.to(device), labels.to(device)\n",
    "            outputs = model(images)\n",
    "            loss = criterion(outputs, labels)\n",
    "            \n",
    "            # Accumulate loss\n",
    "            running_loss += loss.item() * images.size(0)\n",
    "            \n",
    "            # Calculate accuracy\n",
    "            _, predicted = torch.max(outputs, 1)\n",
    "            correct += (predicted == labels).sum().item()\n",
    "            total += labels.size(0)\n",
    "\n",
    "    test_loss = running_loss / total\n",
    "    test_acc = 100.0 * correct / total\n",
    "\n",
    "    return test_loss, test_acc"
   ]
  },
  {
   "cell_type": "code",
   "execution_count": 6,
   "id": "39b18c54-6d3f-4f6a-a201-3eecee009cbd",
   "metadata": {},
   "outputs": [],
   "source": [
    "model = ResNet164().to(device)\n",
    "criterion = nn.CrossEntropyLoss()\n",
    "optimizer = optim.SGD(\n",
    "    model.parameters(),\n",
    "    lr=0.1, momentum=0.9, weight_decay=1e-4\n",
    ")\n"
   ]
  },
  {
   "cell_type": "code",
   "execution_count": 7,
   "id": "0d24a977-5522-41bc-ba9d-05f8c41d9c1a",
   "metadata": {},
   "outputs": [],
   "source": [
    "#transformations for metamorphic testing\n",
    "transformations = [\n",
    "    transforms.RandomRotation(degrees=10),  # Small rotation\n",
    "    transforms.ColorJitter(brightness=0.2),  # Slight brightness change\n",
    "    transforms.RandomAffine(degrees=0, translate=(0.1, 0.1))  # Small translation\n",
    "]"
   ]
  },
  {
   "cell_type": "code",
   "execution_count": 8,
   "id": "5c640f6a-0193-4b02-8cc8-32e6e87b4f65",
   "metadata": {},
   "outputs": [
    {
     "name": "stderr",
     "output_type": "stream",
     "text": [
      "  1%|█▋                                                                                                                                                                   | 1/100 [00:00<01:22,  1.20it/s]"
     ]
    },
    {
     "name": "stdout",
     "output_type": "stream",
     "text": [
      "Batch 0 | Transform: RandomRotation | Reject Differential (mean): 0.0353\n",
      "Batch 0 | Transform: ColorJitter | Reject Differential (mean): 0.0743\n",
      "Batch 0 | Transform: RandomAffine | Reject Differential (mean): 0.0361\n",
      "Batch 1 | Transform: RandomRotation | Reject Differential (mean): 0.0000\n"
     ]
    },
    {
     "name": "stderr",
     "output_type": "stream",
     "text": [
      "  2%|███▎                                                                                                                                                                 | 2/100 [00:01<00:44,  2.21it/s]"
     ]
    },
    {
     "name": "stdout",
     "output_type": "stream",
     "text": [
      "Batch 1 | Transform: ColorJitter | Reject Differential (mean): 0.0701\n",
      "Batch 1 | Transform: RandomAffine | Reject Differential (mean): 0.0484\n",
      "Batch 2 | Transform: RandomRotation | Reject Differential (mean): 0.0376\n",
      "Batch 2 | Transform: ColorJitter | Reject Differential (mean): 0.0928\n"
     ]
    },
    {
     "name": "stderr",
     "output_type": "stream",
     "text": [
      "  4%|██████▌                                                                                                                                                              | 4/100 [00:01<00:25,  3.81it/s]"
     ]
    },
    {
     "name": "stdout",
     "output_type": "stream",
     "text": [
      "Batch 2 | Transform: RandomAffine | Reject Differential (mean): 0.0437\n",
      "Batch 3 | Transform: RandomRotation | Reject Differential (mean): 0.0444\n",
      "Batch 3 | Transform: ColorJitter | Reject Differential (mean): 0.1127\n",
      "Batch 3 | Transform: RandomAffine | Reject Differential (mean): 0.0481\n"
     ]
    },
    {
     "name": "stderr",
     "output_type": "stream",
     "text": [
      "  5%|████████▎                                                                                                                                                            | 5/100 [00:01<00:21,  4.37it/s]"
     ]
    },
    {
     "name": "stdout",
     "output_type": "stream",
     "text": [
      "Batch 4 | Transform: RandomRotation | Reject Differential (mean): 0.0422\n",
      "Batch 4 | Transform: ColorJitter | Reject Differential (mean): 0.0826\n",
      "Batch 4 | Transform: RandomAffine | Reject Differential (mean): 0.0490\n",
      "Batch 5 | Transform: RandomRotation | Reject Differential (mean): 0.0481\n"
     ]
    },
    {
     "name": "stderr",
     "output_type": "stream",
     "text": [
      "  6%|█████████▉                                                                                                                                                           | 6/100 [00:01<00:19,  4.80it/s]"
     ]
    },
    {
     "name": "stdout",
     "output_type": "stream",
     "text": [
      "Batch 5 | Transform: ColorJitter | Reject Differential (mean): 0.0959\n",
      "Batch 5 | Transform: RandomAffine | Reject Differential (mean): 0.0439\n",
      "Batch 6 | Transform: RandomRotation | Reject Differential (mean): 0.0000\n",
      "Batch 6 | Transform: ColorJitter | Reject Differential (mean): 0.0860\n"
     ]
    },
    {
     "name": "stderr",
     "output_type": "stream",
     "text": [
      "  8%|█████████████▏                                                                                                                                                       | 8/100 [00:02<00:17,  5.36it/s]"
     ]
    },
    {
     "name": "stdout",
     "output_type": "stream",
     "text": [
      "Batch 6 | Transform: RandomAffine | Reject Differential (mean): 0.0476\n",
      "Batch 7 | Transform: RandomRotation | Reject Differential (mean): 0.0401\n",
      "Batch 7 | Transform: ColorJitter | Reject Differential (mean): 0.0704\n",
      "Batch 7 | Transform: RandomAffine | Reject Differential (mean): 0.0471\n"
     ]
    },
    {
     "name": "stderr",
     "output_type": "stream",
     "text": [
      "  9%|██████████████▊                                                                                                                                                      | 9/100 [00:02<00:16,  5.50it/s]"
     ]
    },
    {
     "name": "stdout",
     "output_type": "stream",
     "text": [
      "Batch 8 | Transform: RandomRotation | Reject Differential (mean): 0.0266\n",
      "Batch 8 | Transform: ColorJitter | Reject Differential (mean): 0.1078\n",
      "Batch 8 | Transform: RandomAffine | Reject Differential (mean): 0.0374\n",
      "Batch 9 | Transform: RandomRotation | Reject Differential (mean): 0.0456\n"
     ]
    },
    {
     "name": "stderr",
     "output_type": "stream",
     "text": [
      " 10%|████████████████▍                                                                                                                                                   | 10/100 [00:02<00:16,  5.61it/s]"
     ]
    },
    {
     "name": "stdout",
     "output_type": "stream",
     "text": [
      "Batch 9 | Transform: ColorJitter | Reject Differential (mean): 0.0897\n",
      "Batch 9 | Transform: RandomAffine | Reject Differential (mean): 0.0347\n",
      "Batch 10 | Transform: RandomRotation | Reject Differential (mean): 0.0383\n",
      "Batch 10 | Transform: ColorJitter | Reject Differential (mean): 0.0753\n"
     ]
    },
    {
     "name": "stderr",
     "output_type": "stream",
     "text": [
      " 12%|███████████████████▋                                                                                                                                                | 12/100 [00:02<00:15,  5.78it/s]"
     ]
    },
    {
     "name": "stdout",
     "output_type": "stream",
     "text": [
      "Batch 10 | Transform: RandomAffine | Reject Differential (mean): 0.0381\n",
      "Batch 11 | Transform: RandomRotation | Reject Differential (mean): 0.0459\n",
      "Batch 11 | Transform: ColorJitter | Reject Differential (mean): 0.0840\n",
      "Batch 11 | Transform: RandomAffine | Reject Differential (mean): 0.0428\n"
     ]
    },
    {
     "name": "stderr",
     "output_type": "stream",
     "text": [
      " 13%|█████████████████████▎                                                                                                                                              | 13/100 [00:02<00:14,  5.84it/s]"
     ]
    },
    {
     "name": "stdout",
     "output_type": "stream",
     "text": [
      "Batch 12 | Transform: RandomRotation | Reject Differential (mean): 0.0456\n",
      "Batch 12 | Transform: ColorJitter | Reject Differential (mean): 0.0980\n",
      "Batch 12 | Transform: RandomAffine | Reject Differential (mean): 0.0377\n",
      "Batch 13 | Transform: RandomRotation | Reject Differential (mean): 0.0378\n"
     ]
    },
    {
     "name": "stderr",
     "output_type": "stream",
     "text": [
      " 14%|██████████████████████▉                                                                                                                                             | 14/100 [00:03<00:14,  5.91it/s]"
     ]
    },
    {
     "name": "stdout",
     "output_type": "stream",
     "text": [
      "Batch 13 | Transform: ColorJitter | Reject Differential (mean): 0.1131\n",
      "Batch 13 | Transform: RandomAffine | Reject Differential (mean): 0.0422\n",
      "Batch 14 | Transform: RandomRotation | Reject Differential (mean): 0.0375\n",
      "Batch 14 | Transform: ColorJitter | Reject Differential (mean): 0.0879\n"
     ]
    },
    {
     "name": "stderr",
     "output_type": "stream",
     "text": [
      " 16%|██████████████████████████▏                                                                                                                                         | 16/100 [00:03<00:14,  5.95it/s]"
     ]
    },
    {
     "name": "stdout",
     "output_type": "stream",
     "text": [
      "Batch 14 | Transform: RandomAffine | Reject Differential (mean): 0.0458\n",
      "Batch 15 | Transform: RandomRotation | Reject Differential (mean): 0.0359\n",
      "Batch 15 | Transform: ColorJitter | Reject Differential (mean): 0.0886\n",
      "Batch 15 | Transform: RandomAffine | Reject Differential (mean): 0.0370\n"
     ]
    },
    {
     "name": "stderr",
     "output_type": "stream",
     "text": [
      " 17%|███████████████████████████▉                                                                                                                                        | 17/100 [00:03<00:13,  5.97it/s]"
     ]
    },
    {
     "name": "stdout",
     "output_type": "stream",
     "text": [
      "Batch 16 | Transform: RandomRotation | Reject Differential (mean): 0.0475\n",
      "Batch 16 | Transform: ColorJitter | Reject Differential (mean): 0.0976\n",
      "Batch 16 | Transform: RandomAffine | Reject Differential (mean): 0.0412\n",
      "Batch 17 | Transform: RandomRotation | Reject Differential (mean): 0.0401\n"
     ]
    },
    {
     "name": "stderr",
     "output_type": "stream",
     "text": [
      " 18%|█████████████████████████████▌                                                                                                                                      | 18/100 [00:03<00:13,  5.99it/s]"
     ]
    },
    {
     "name": "stdout",
     "output_type": "stream",
     "text": [
      "Batch 17 | Transform: ColorJitter | Reject Differential (mean): 0.0906\n",
      "Batch 17 | Transform: RandomAffine | Reject Differential (mean): 0.0440\n",
      "Batch 18 | Transform: RandomRotation | Reject Differential (mean): 0.0334\n",
      "Batch 18 | Transform: ColorJitter | Reject Differential (mean): 0.1072\n"
     ]
    },
    {
     "name": "stderr",
     "output_type": "stream",
     "text": [
      " 20%|████████████████████████████████▊                                                                                                                                   | 20/100 [00:04<00:13,  6.00it/s]"
     ]
    },
    {
     "name": "stdout",
     "output_type": "stream",
     "text": [
      "Batch 18 | Transform: RandomAffine | Reject Differential (mean): 0.0491\n",
      "Batch 19 | Transform: RandomRotation | Reject Differential (mean): 0.0414\n",
      "Batch 19 | Transform: ColorJitter | Reject Differential (mean): 0.0907\n",
      "Batch 19 | Transform: RandomAffine | Reject Differential (mean): 0.0494\n"
     ]
    },
    {
     "name": "stderr",
     "output_type": "stream",
     "text": [
      " 21%|██████████████████████████████████▍                                                                                                                                 | 21/100 [00:04<00:13,  6.01it/s]"
     ]
    },
    {
     "name": "stdout",
     "output_type": "stream",
     "text": [
      "Batch 20 | Transform: RandomRotation | Reject Differential (mean): 0.0368\n",
      "Batch 20 | Transform: ColorJitter | Reject Differential (mean): 0.0957\n",
      "Batch 20 | Transform: RandomAffine | Reject Differential (mean): 0.0361\n",
      "Batch 21 | Transform: RandomRotation | Reject Differential (mean): 0.0494\n"
     ]
    },
    {
     "name": "stderr",
     "output_type": "stream",
     "text": [
      " 22%|████████████████████████████████████                                                                                                                                | 22/100 [00:04<00:12,  6.02it/s]"
     ]
    },
    {
     "name": "stdout",
     "output_type": "stream",
     "text": [
      "Batch 21 | Transform: ColorJitter | Reject Differential (mean): 0.1107\n",
      "Batch 21 | Transform: RandomAffine | Reject Differential (mean): 0.0494\n",
      "Batch 22 | Transform: RandomRotation | Reject Differential (mean): 0.0450\n",
      "Batch 22 | Transform: ColorJitter | Reject Differential (mean): 0.0998\n"
     ]
    },
    {
     "name": "stderr",
     "output_type": "stream",
     "text": [
      " 24%|███████████████████████████████████████▎                                                                                                                            | 24/100 [00:04<00:12,  6.03it/s]"
     ]
    },
    {
     "name": "stdout",
     "output_type": "stream",
     "text": [
      "Batch 22 | Transform: RandomAffine | Reject Differential (mean): 0.0441\n",
      "Batch 23 | Transform: RandomRotation | Reject Differential (mean): 0.0437\n",
      "Batch 23 | Transform: ColorJitter | Reject Differential (mean): 0.0955\n",
      "Batch 23 | Transform: RandomAffine | Reject Differential (mean): 0.0484\n"
     ]
    },
    {
     "name": "stderr",
     "output_type": "stream",
     "text": [
      " 25%|█████████████████████████████████████████                                                                                                                           | 25/100 [00:04<00:12,  6.04it/s]"
     ]
    },
    {
     "name": "stdout",
     "output_type": "stream",
     "text": [
      "Batch 24 | Transform: RandomRotation | Reject Differential (mean): 0.0368\n",
      "Batch 24 | Transform: ColorJitter | Reject Differential (mean): 0.0703\n",
      "Batch 24 | Transform: RandomAffine | Reject Differential (mean): 0.0337\n",
      "Batch 25 | Transform: RandomRotation | Reject Differential (mean): 0.0000\n"
     ]
    },
    {
     "name": "stderr",
     "output_type": "stream",
     "text": [
      " 26%|██████████████████████████████████████████▋                                                                                                                         | 26/100 [00:05<00:12,  6.04it/s]"
     ]
    },
    {
     "name": "stdout",
     "output_type": "stream",
     "text": [
      "Batch 25 | Transform: ColorJitter | Reject Differential (mean): 0.0844\n",
      "Batch 25 | Transform: RandomAffine | Reject Differential (mean): 0.0495\n",
      "Batch 26 | Transform: RandomRotation | Reject Differential (mean): 0.0335\n",
      "Batch 26 | Transform: ColorJitter | Reject Differential (mean): 0.1014\n"
     ]
    },
    {
     "name": "stderr",
     "output_type": "stream",
     "text": [
      " 28%|█████████████████████████████████████████████▉                                                                                                                      | 28/100 [00:05<00:11,  6.04it/s]"
     ]
    },
    {
     "name": "stdout",
     "output_type": "stream",
     "text": [
      "Batch 26 | Transform: RandomAffine | Reject Differential (mean): 0.0421\n",
      "Batch 27 | Transform: RandomRotation | Reject Differential (mean): 0.0434\n",
      "Batch 27 | Transform: ColorJitter | Reject Differential (mean): 0.0854\n",
      "Batch 27 | Transform: RandomAffine | Reject Differential (mean): 0.0404\n"
     ]
    },
    {
     "name": "stderr",
     "output_type": "stream",
     "text": [
      " 29%|███████████████████████████████████████████████▌                                                                                                                    | 29/100 [00:05<00:11,  6.04it/s]"
     ]
    },
    {
     "name": "stdout",
     "output_type": "stream",
     "text": [
      "Batch 28 | Transform: RandomRotation | Reject Differential (mean): 0.0000\n",
      "Batch 28 | Transform: ColorJitter | Reject Differential (mean): 0.0663\n",
      "Batch 28 | Transform: RandomAffine | Reject Differential (mean): 0.0361\n",
      "Batch 29 | Transform: RandomRotation | Reject Differential (mean): 0.0000\n"
     ]
    },
    {
     "name": "stderr",
     "output_type": "stream",
     "text": [
      " 30%|█████████████████████████████████████████████████▏                                                                                                                  | 30/100 [00:05<00:11,  6.05it/s]"
     ]
    },
    {
     "name": "stdout",
     "output_type": "stream",
     "text": [
      "Batch 29 | Transform: ColorJitter | Reject Differential (mean): 0.0916\n",
      "Batch 29 | Transform: RandomAffine | Reject Differential (mean): 0.0451\n",
      "Batch 30 | Transform: RandomRotation | Reject Differential (mean): 0.0390\n",
      "Batch 30 | Transform: ColorJitter | Reject Differential (mean): 0.0848\n"
     ]
    },
    {
     "name": "stderr",
     "output_type": "stream",
     "text": [
      " 32%|████████████████████████████████████████████████████▍                                                                                                               | 32/100 [00:06<00:11,  6.05it/s]"
     ]
    },
    {
     "name": "stdout",
     "output_type": "stream",
     "text": [
      "Batch 30 | Transform: RandomAffine | Reject Differential (mean): 0.0385\n",
      "Batch 31 | Transform: RandomRotation | Reject Differential (mean): 0.0480\n",
      "Batch 31 | Transform: ColorJitter | Reject Differential (mean): 0.0829\n",
      "Batch 31 | Transform: RandomAffine | Reject Differential (mean): 0.0393\n"
     ]
    },
    {
     "name": "stderr",
     "output_type": "stream",
     "text": [
      " 33%|██████████████████████████████████████████████████████                                                                                                              | 33/100 [00:06<00:11,  6.05it/s]"
     ]
    },
    {
     "name": "stdout",
     "output_type": "stream",
     "text": [
      "Batch 32 | Transform: RandomRotation | Reject Differential (mean): 0.0480\n",
      "Batch 32 | Transform: ColorJitter | Reject Differential (mean): 0.1005\n",
      "Batch 32 | Transform: RandomAffine | Reject Differential (mean): 0.0415\n",
      "Batch 33 | Transform: RandomRotation | Reject Differential (mean): 0.0365\n"
     ]
    },
    {
     "name": "stderr",
     "output_type": "stream",
     "text": [
      " 34%|███████████████████████████████████████████████████████▊                                                                                                            | 34/100 [00:06<00:10,  6.04it/s]"
     ]
    },
    {
     "name": "stdout",
     "output_type": "stream",
     "text": [
      "Batch 33 | Transform: ColorJitter | Reject Differential (mean): 0.1043\n",
      "Batch 33 | Transform: RandomAffine | Reject Differential (mean): 0.0469\n",
      "Batch 34 | Transform: RandomRotation | Reject Differential (mean): 0.0419\n",
      "Batch 34 | Transform: ColorJitter | Reject Differential (mean): 0.0932\n"
     ]
    },
    {
     "name": "stderr",
     "output_type": "stream",
     "text": [
      " 36%|███████████████████████████████████████████████████████████                                                                                                         | 36/100 [00:06<00:10,  6.01it/s]"
     ]
    },
    {
     "name": "stdout",
     "output_type": "stream",
     "text": [
      "Batch 34 | Transform: RandomAffine | Reject Differential (mean): 0.0334\n",
      "Batch 35 | Transform: RandomRotation | Reject Differential (mean): 0.0345\n",
      "Batch 35 | Transform: ColorJitter | Reject Differential (mean): 0.0876\n",
      "Batch 35 | Transform: RandomAffine | Reject Differential (mean): 0.0430\n"
     ]
    },
    {
     "name": "stderr",
     "output_type": "stream",
     "text": [
      " 37%|████████████████████████████████████████████████████████████▋                                                                                                       | 37/100 [00:06<00:10,  6.03it/s]"
     ]
    },
    {
     "name": "stdout",
     "output_type": "stream",
     "text": [
      "Batch 36 | Transform: RandomRotation | Reject Differential (mean): 0.0000\n",
      "Batch 36 | Transform: ColorJitter | Reject Differential (mean): 0.0880\n",
      "Batch 36 | Transform: RandomAffine | Reject Differential (mean): 0.0344\n",
      "Batch 37 | Transform: RandomRotation | Reject Differential (mean): 0.0460\n"
     ]
    },
    {
     "name": "stderr",
     "output_type": "stream",
     "text": [
      " 38%|██████████████████████████████████████████████████████████████▎                                                                                                     | 38/100 [00:07<00:10,  6.03it/s]"
     ]
    },
    {
     "name": "stdout",
     "output_type": "stream",
     "text": [
      "Batch 37 | Transform: ColorJitter | Reject Differential (mean): 0.0753\n",
      "Batch 37 | Transform: RandomAffine | Reject Differential (mean): 0.0409\n",
      "Batch 38 | Transform: RandomRotation | Reject Differential (mean): 0.0486\n",
      "Batch 38 | Transform: ColorJitter | Reject Differential (mean): 0.1281\n"
     ]
    },
    {
     "name": "stderr",
     "output_type": "stream",
     "text": [
      " 40%|█████████████████████████████████████████████████████████████████▌                                                                                                  | 40/100 [00:07<00:09,  6.03it/s]"
     ]
    },
    {
     "name": "stdout",
     "output_type": "stream",
     "text": [
      "Batch 38 | Transform: RandomAffine | Reject Differential (mean): 0.0427\n",
      "Batch 39 | Transform: RandomRotation | Reject Differential (mean): 0.0378\n",
      "Batch 39 | Transform: ColorJitter | Reject Differential (mean): 0.0609\n",
      "Batch 39 | Transform: RandomAffine | Reject Differential (mean): 0.0383\n"
     ]
    },
    {
     "name": "stderr",
     "output_type": "stream",
     "text": [
      " 41%|███████████████████████████████████████████████████████████████████▏                                                                                                | 41/100 [00:07<00:09,  6.04it/s]"
     ]
    },
    {
     "name": "stdout",
     "output_type": "stream",
     "text": [
      "Batch 40 | Transform: RandomRotation | Reject Differential (mean): 0.0459\n",
      "Batch 40 | Transform: ColorJitter | Reject Differential (mean): 0.0990\n",
      "Batch 40 | Transform: RandomAffine | Reject Differential (mean): 0.0449\n",
      "Batch 41 | Transform: RandomRotation | Reject Differential (mean): 0.0327\n"
     ]
    },
    {
     "name": "stderr",
     "output_type": "stream",
     "text": [
      " 42%|████████████████████████████████████████████████████████████████████▉                                                                                               | 42/100 [00:07<00:09,  6.04it/s]"
     ]
    },
    {
     "name": "stdout",
     "output_type": "stream",
     "text": [
      "Batch 41 | Transform: ColorJitter | Reject Differential (mean): 0.0604\n",
      "Batch 41 | Transform: RandomAffine | Reject Differential (mean): 0.0351\n",
      "Batch 42 | Transform: RandomRotation | Reject Differential (mean): 0.0368\n",
      "Batch 42 | Transform: ColorJitter | Reject Differential (mean): 0.0809\n"
     ]
    },
    {
     "name": "stderr",
     "output_type": "stream",
     "text": [
      " 44%|████████████████████████████████████████████████████████████████████████▏                                                                                           | 44/100 [00:08<00:09,  5.97it/s]"
     ]
    },
    {
     "name": "stdout",
     "output_type": "stream",
     "text": [
      "Batch 42 | Transform: RandomAffine | Reject Differential (mean): 0.0435\n",
      "Batch 43 | Transform: RandomRotation | Reject Differential (mean): 0.0379\n",
      "Batch 43 | Transform: ColorJitter | Reject Differential (mean): 0.0950\n",
      "Batch 43 | Transform: RandomAffine | Reject Differential (mean): 0.0413\n"
     ]
    },
    {
     "name": "stderr",
     "output_type": "stream",
     "text": [
      " 45%|█████████████████████████████████████████████████████████████████████████▊                                                                                          | 45/100 [00:08<00:09,  5.99it/s]"
     ]
    },
    {
     "name": "stdout",
     "output_type": "stream",
     "text": [
      "Batch 44 | Transform: RandomRotation | Reject Differential (mean): 0.0335\n",
      "Batch 44 | Transform: ColorJitter | Reject Differential (mean): 0.0663\n",
      "Batch 44 | Transform: RandomAffine | Reject Differential (mean): 0.0000\n",
      "Batch 45 | Transform: RandomRotation | Reject Differential (mean): 0.0449\n"
     ]
    },
    {
     "name": "stderr",
     "output_type": "stream",
     "text": [
      " 46%|███████████████████████████████████████████████████████████████████████████▍                                                                                        | 46/100 [00:08<00:09,  5.97it/s]"
     ]
    },
    {
     "name": "stdout",
     "output_type": "stream",
     "text": [
      "Batch 45 | Transform: ColorJitter | Reject Differential (mean): 0.0883\n",
      "Batch 45 | Transform: RandomAffine | Reject Differential (mean): 0.0497\n",
      "Batch 46 | Transform: RandomRotation | Reject Differential (mean): 0.0466\n",
      "Batch 46 | Transform: ColorJitter | Reject Differential (mean): 0.0981\n"
     ]
    },
    {
     "name": "stderr",
     "output_type": "stream",
     "text": [
      " 48%|██████████████████████████████████████████████████████████████████████████████▋                                                                                     | 48/100 [00:08<00:08,  5.87it/s]"
     ]
    },
    {
     "name": "stdout",
     "output_type": "stream",
     "text": [
      "Batch 46 | Transform: RandomAffine | Reject Differential (mean): 0.0526\n",
      "Batch 47 | Transform: RandomRotation | Reject Differential (mean): 0.0000\n",
      "Batch 47 | Transform: ColorJitter | Reject Differential (mean): 0.0840\n",
      "Batch 47 | Transform: RandomAffine | Reject Differential (mean): 0.0356\n"
     ]
    },
    {
     "name": "stderr",
     "output_type": "stream",
     "text": [
      " 49%|████████████████████████████████████████████████████████████████████████████████▎                                                                                   | 49/100 [00:08<00:08,  5.88it/s]"
     ]
    },
    {
     "name": "stdout",
     "output_type": "stream",
     "text": [
      "Batch 48 | Transform: RandomRotation | Reject Differential (mean): 0.0426\n",
      "Batch 48 | Transform: ColorJitter | Reject Differential (mean): 0.0919\n",
      "Batch 48 | Transform: RandomAffine | Reject Differential (mean): 0.0446\n",
      "Batch 49 | Transform: RandomRotation | Reject Differential (mean): 0.0317\n"
     ]
    },
    {
     "name": "stderr",
     "output_type": "stream",
     "text": [
      " 50%|██████████████████████████████████████████████████████████████████████████████████                                                                                  | 50/100 [00:09<00:08,  5.83it/s]"
     ]
    },
    {
     "name": "stdout",
     "output_type": "stream",
     "text": [
      "Batch 49 | Transform: ColorJitter | Reject Differential (mean): 0.0771\n",
      "Batch 49 | Transform: RandomAffine | Reject Differential (mean): 0.0351\n",
      "Batch 50 | Transform: RandomRotation | Reject Differential (mean): 0.0423\n",
      "Batch 50 | Transform: ColorJitter | Reject Differential (mean): 0.0964\n"
     ]
    },
    {
     "name": "stderr",
     "output_type": "stream",
     "text": [
      " 52%|█████████████████████████████████████████████████████████████████████████████████████▎                                                                              | 52/100 [00:09<00:08,  5.87it/s]"
     ]
    },
    {
     "name": "stdout",
     "output_type": "stream",
     "text": [
      "Batch 50 | Transform: RandomAffine | Reject Differential (mean): 0.0387\n",
      "Batch 51 | Transform: RandomRotation | Reject Differential (mean): 0.0415\n",
      "Batch 51 | Transform: ColorJitter | Reject Differential (mean): 0.1063\n",
      "Batch 51 | Transform: RandomAffine | Reject Differential (mean): 0.0415\n"
     ]
    },
    {
     "name": "stderr",
     "output_type": "stream",
     "text": [
      " 53%|██████████████████████████████████████████████████████████████████████████████████████▉                                                                             | 53/100 [00:09<00:07,  5.90it/s]"
     ]
    },
    {
     "name": "stdout",
     "output_type": "stream",
     "text": [
      "Batch 52 | Transform: RandomRotation | Reject Differential (mean): 0.0000\n",
      "Batch 52 | Transform: ColorJitter | Reject Differential (mean): 0.0626\n",
      "Batch 52 | Transform: RandomAffine | Reject Differential (mean): 0.0402\n",
      "Batch 53 | Transform: RandomRotation | Reject Differential (mean): 0.0345\n"
     ]
    },
    {
     "name": "stderr",
     "output_type": "stream",
     "text": [
      " 54%|████████████████████████████████████████████████████████████████████████████████████████▌                                                                           | 54/100 [00:09<00:07,  5.90it/s]"
     ]
    },
    {
     "name": "stdout",
     "output_type": "stream",
     "text": [
      "Batch 53 | Transform: ColorJitter | Reject Differential (mean): 0.0789\n",
      "Batch 53 | Transform: RandomAffine | Reject Differential (mean): 0.0364\n",
      "Batch 54 | Transform: RandomRotation | Reject Differential (mean): 0.0000\n",
      "Batch 54 | Transform: ColorJitter | Reject Differential (mean): 0.0742\n"
     ]
    },
    {
     "name": "stderr",
     "output_type": "stream",
     "text": [
      " 56%|███████████████████████████████████████████████████████████████████████████████████████████▊                                                                        | 56/100 [00:10<00:07,  5.93it/s]"
     ]
    },
    {
     "name": "stdout",
     "output_type": "stream",
     "text": [
      "Batch 54 | Transform: RandomAffine | Reject Differential (mean): 0.0382\n",
      "Batch 55 | Transform: RandomRotation | Reject Differential (mean): 0.0373\n",
      "Batch 55 | Transform: ColorJitter | Reject Differential (mean): 0.0728\n",
      "Batch 55 | Transform: RandomAffine | Reject Differential (mean): 0.0424\n"
     ]
    },
    {
     "name": "stderr",
     "output_type": "stream",
     "text": [
      " 57%|█████████████████████████████████████████████████████████████████████████████████████████████▍                                                                      | 57/100 [00:10<00:07,  5.95it/s]"
     ]
    },
    {
     "name": "stdout",
     "output_type": "stream",
     "text": [
      "Batch 56 | Transform: RandomRotation | Reject Differential (mean): 0.0000\n",
      "Batch 56 | Transform: ColorJitter | Reject Differential (mean): 0.1178\n",
      "Batch 56 | Transform: RandomAffine | Reject Differential (mean): 0.0000\n",
      "Batch 57 | Transform: RandomRotation | Reject Differential (mean): 0.0378\n"
     ]
    },
    {
     "name": "stderr",
     "output_type": "stream",
     "text": [
      " 58%|███████████████████████████████████████████████████████████████████████████████████████████████                                                                     | 58/100 [00:10<00:07,  5.98it/s]"
     ]
    },
    {
     "name": "stdout",
     "output_type": "stream",
     "text": [
      "Batch 57 | Transform: ColorJitter | Reject Differential (mean): 0.0758\n",
      "Batch 57 | Transform: RandomAffine | Reject Differential (mean): 0.0552\n",
      "Batch 58 | Transform: RandomRotation | Reject Differential (mean): 0.0406\n",
      "Batch 58 | Transform: ColorJitter | Reject Differential (mean): 0.0838\n"
     ]
    },
    {
     "name": "stderr",
     "output_type": "stream",
     "text": [
      " 60%|██████████████████████████████████████████████████████████████████████████████████████████████████▍                                                                 | 60/100 [00:10<00:06,  6.03it/s]"
     ]
    },
    {
     "name": "stdout",
     "output_type": "stream",
     "text": [
      "Batch 58 | Transform: RandomAffine | Reject Differential (mean): 0.0350\n",
      "Batch 59 | Transform: RandomRotation | Reject Differential (mean): 0.0000\n",
      "Batch 59 | Transform: ColorJitter | Reject Differential (mean): 0.1049\n",
      "Batch 59 | Transform: RandomAffine | Reject Differential (mean): 0.0495\n"
     ]
    },
    {
     "name": "stderr",
     "output_type": "stream",
     "text": [
      " 61%|████████████████████████████████████████████████████████████████████████████████████████████████████                                                                | 61/100 [00:10<00:06,  6.03it/s]"
     ]
    },
    {
     "name": "stdout",
     "output_type": "stream",
     "text": [
      "Batch 60 | Transform: RandomRotation | Reject Differential (mean): 0.0407\n",
      "Batch 60 | Transform: ColorJitter | Reject Differential (mean): 0.0890\n",
      "Batch 60 | Transform: RandomAffine | Reject Differential (mean): 0.0432\n",
      "Batch 61 | Transform: RandomRotation | Reject Differential (mean): 0.0412\n"
     ]
    },
    {
     "name": "stderr",
     "output_type": "stream",
     "text": [
      " 62%|█████████████████████████████████████████████████████████████████████████████████████████████████████▋                                                              | 62/100 [00:11<00:06,  6.04it/s]"
     ]
    },
    {
     "name": "stdout",
     "output_type": "stream",
     "text": [
      "Batch 61 | Transform: ColorJitter | Reject Differential (mean): 0.0935\n",
      "Batch 61 | Transform: RandomAffine | Reject Differential (mean): 0.0339\n",
      "Batch 62 | Transform: RandomRotation | Reject Differential (mean): 0.0365\n",
      "Batch 62 | Transform: ColorJitter | Reject Differential (mean): 0.0942\n"
     ]
    },
    {
     "name": "stderr",
     "output_type": "stream",
     "text": [
      " 64%|████████████████████████████████████████████████████████████████████████████████████████████████████████▉                                                           | 64/100 [00:11<00:05,  6.04it/s]"
     ]
    },
    {
     "name": "stdout",
     "output_type": "stream",
     "text": [
      "Batch 62 | Transform: RandomAffine | Reject Differential (mean): 0.0406\n",
      "Batch 63 | Transform: RandomRotation | Reject Differential (mean): 0.0409\n",
      "Batch 63 | Transform: ColorJitter | Reject Differential (mean): 0.0896\n",
      "Batch 63 | Transform: RandomAffine | Reject Differential (mean): 0.0392\n"
     ]
    },
    {
     "name": "stderr",
     "output_type": "stream",
     "text": [
      " 65%|██████████████████████████████████████████████████████████████████████████████████████████████████████████▌                                                         | 65/100 [00:11<00:05,  6.04it/s]"
     ]
    },
    {
     "name": "stdout",
     "output_type": "stream",
     "text": [
      "Batch 64 | Transform: RandomRotation | Reject Differential (mean): 0.0435\n",
      "Batch 64 | Transform: ColorJitter | Reject Differential (mean): 0.1037\n",
      "Batch 64 | Transform: RandomAffine | Reject Differential (mean): 0.0411\n",
      "Batch 65 | Transform: RandomRotation | Reject Differential (mean): 0.0519\n"
     ]
    },
    {
     "name": "stderr",
     "output_type": "stream",
     "text": [
      " 66%|████████████████████████████████████████████████████████████████████████████████████████████████████████████▏                                                       | 66/100 [00:11<00:05,  6.05it/s]"
     ]
    },
    {
     "name": "stdout",
     "output_type": "stream",
     "text": [
      "Batch 65 | Transform: ColorJitter | Reject Differential (mean): 0.1168\n",
      "Batch 65 | Transform: RandomAffine | Reject Differential (mean): 0.0662\n",
      "Batch 66 | Transform: RandomRotation | Reject Differential (mean): 0.0413\n",
      "Batch 66 | Transform: ColorJitter | Reject Differential (mean): 0.0911\n"
     ]
    },
    {
     "name": "stderr",
     "output_type": "stream",
     "text": [
      " 68%|███████████████████████████████████████████████████████████████████████████████████████████████████████████████▌                                                    | 68/100 [00:12<00:05,  6.02it/s]"
     ]
    },
    {
     "name": "stdout",
     "output_type": "stream",
     "text": [
      "Batch 66 | Transform: RandomAffine | Reject Differential (mean): 0.0386\n",
      "Batch 67 | Transform: RandomRotation | Reject Differential (mean): 0.0464\n",
      "Batch 67 | Transform: ColorJitter | Reject Differential (mean): 0.0937\n",
      "Batch 67 | Transform: RandomAffine | Reject Differential (mean): 0.0496\n"
     ]
    },
    {
     "name": "stderr",
     "output_type": "stream",
     "text": [
      " 69%|█████████████████████████████████████████████████████████████████████████████████████████████████████████████████▏                                                  | 69/100 [00:12<00:05,  6.02it/s]"
     ]
    },
    {
     "name": "stdout",
     "output_type": "stream",
     "text": [
      "Batch 68 | Transform: RandomRotation | Reject Differential (mean): 0.0000\n",
      "Batch 68 | Transform: ColorJitter | Reject Differential (mean): 0.0845\n",
      "Batch 68 | Transform: RandomAffine | Reject Differential (mean): 0.0374\n",
      "Batch 69 | Transform: RandomRotation | Reject Differential (mean): 0.0000\n"
     ]
    },
    {
     "name": "stderr",
     "output_type": "stream",
     "text": [
      " 70%|██████████████████████████████████████████████████████████████████████████████████████████████████████████████████▊                                                 | 70/100 [00:12<00:04,  6.03it/s]"
     ]
    },
    {
     "name": "stdout",
     "output_type": "stream",
     "text": [
      "Batch 69 | Transform: ColorJitter | Reject Differential (mean): 0.0904\n",
      "Batch 69 | Transform: RandomAffine | Reject Differential (mean): 0.0363\n",
      "Batch 70 | Transform: RandomRotation | Reject Differential (mean): 0.0000\n",
      "Batch 70 | Transform: ColorJitter | Reject Differential (mean): 0.1049\n"
     ]
    },
    {
     "name": "stderr",
     "output_type": "stream",
     "text": [
      " 72%|██████████████████████████████████████████████████████████████████████████████████████████████████████████████████████                                              | 72/100 [00:12<00:04,  6.04it/s]"
     ]
    },
    {
     "name": "stdout",
     "output_type": "stream",
     "text": [
      "Batch 70 | Transform: RandomAffine | Reject Differential (mean): 0.0463\n",
      "Batch 71 | Transform: RandomRotation | Reject Differential (mean): 0.0416\n",
      "Batch 71 | Transform: ColorJitter | Reject Differential (mean): 0.1071\n",
      "Batch 71 | Transform: RandomAffine | Reject Differential (mean): 0.0443\n"
     ]
    },
    {
     "name": "stderr",
     "output_type": "stream",
     "text": [
      " 73%|███████████████████████████████████████████████████████████████████████████████████████████████████████████████████████▋                                            | 73/100 [00:12<00:04,  6.03it/s]"
     ]
    },
    {
     "name": "stdout",
     "output_type": "stream",
     "text": [
      "Batch 72 | Transform: RandomRotation | Reject Differential (mean): 0.0406\n",
      "Batch 72 | Transform: ColorJitter | Reject Differential (mean): 0.0749\n",
      "Batch 72 | Transform: RandomAffine | Reject Differential (mean): 0.0373\n",
      "Batch 73 | Transform: RandomRotation | Reject Differential (mean): 0.0429\n"
     ]
    },
    {
     "name": "stderr",
     "output_type": "stream",
     "text": [
      " 74%|█████████████████████████████████████████████████████████████████████████████████████████████████████████████████████████▎                                          | 74/100 [00:13<00:04,  6.02it/s]"
     ]
    },
    {
     "name": "stdout",
     "output_type": "stream",
     "text": [
      "Batch 73 | Transform: ColorJitter | Reject Differential (mean): 0.0742\n",
      "Batch 73 | Transform: RandomAffine | Reject Differential (mean): 0.0405\n",
      "Batch 74 | Transform: RandomRotation | Reject Differential (mean): 0.0424\n",
      "Batch 74 | Transform: ColorJitter | Reject Differential (mean): 0.0804\n"
     ]
    },
    {
     "name": "stderr",
     "output_type": "stream",
     "text": [
      " 76%|████████████████████████████████████████████████████████████████████████████████████████████████████████████████████████████▋                                       | 76/100 [00:13<00:03,  6.01it/s]"
     ]
    },
    {
     "name": "stdout",
     "output_type": "stream",
     "text": [
      "Batch 74 | Transform: RandomAffine | Reject Differential (mean): 0.0495\n",
      "Batch 75 | Transform: RandomRotation | Reject Differential (mean): 0.0483\n",
      "Batch 75 | Transform: ColorJitter | Reject Differential (mean): 0.0914\n",
      "Batch 75 | Transform: RandomAffine | Reject Differential (mean): 0.0615\n"
     ]
    },
    {
     "name": "stderr",
     "output_type": "stream",
     "text": [
      " 77%|██████████████████████████████████████████████████████████████████████████████████████████████████████████████████████████████▎                                     | 77/100 [00:13<00:03,  6.01it/s]"
     ]
    },
    {
     "name": "stdout",
     "output_type": "stream",
     "text": [
      "Batch 76 | Transform: RandomRotation | Reject Differential (mean): 0.0363\n",
      "Batch 76 | Transform: ColorJitter | Reject Differential (mean): 0.1026\n",
      "Batch 76 | Transform: RandomAffine | Reject Differential (mean): 0.0365\n",
      "Batch 77 | Transform: RandomRotation | Reject Differential (mean): 0.0322\n"
     ]
    },
    {
     "name": "stderr",
     "output_type": "stream",
     "text": [
      " 78%|███████████████████████████████████████████████████████████████████████████████████████████████████████████████████████████████▉                                    | 78/100 [00:13<00:03,  6.01it/s]"
     ]
    },
    {
     "name": "stdout",
     "output_type": "stream",
     "text": [
      "Batch 77 | Transform: ColorJitter | Reject Differential (mean): 0.0949\n",
      "Batch 77 | Transform: RandomAffine | Reject Differential (mean): 0.0439\n",
      "Batch 78 | Transform: RandomRotation | Reject Differential (mean): 0.0424\n",
      "Batch 78 | Transform: ColorJitter | Reject Differential (mean): 0.0935\n"
     ]
    },
    {
     "name": "stderr",
     "output_type": "stream",
     "text": [
      " 80%|███████████████████████████████████████████████████████████████████████████████████████████████████████████████████████████████████▏                                | 80/100 [00:14<00:03,  6.03it/s]"
     ]
    },
    {
     "name": "stdout",
     "output_type": "stream",
     "text": [
      "Batch 78 | Transform: RandomAffine | Reject Differential (mean): 0.0435\n",
      "Batch 79 | Transform: RandomRotation | Reject Differential (mean): 0.0000\n",
      "Batch 79 | Transform: ColorJitter | Reject Differential (mean): 0.0804\n",
      "Batch 79 | Transform: RandomAffine | Reject Differential (mean): 0.0430\n"
     ]
    },
    {
     "name": "stderr",
     "output_type": "stream",
     "text": [
      " 81%|████████████████████████████████████████████████████████████████████████████████████████████████████████████████████████████████████▊                               | 81/100 [00:14<00:03,  6.03it/s]"
     ]
    },
    {
     "name": "stdout",
     "output_type": "stream",
     "text": [
      "Batch 80 | Transform: RandomRotation | Reject Differential (mean): 0.0433\n",
      "Batch 80 | Transform: ColorJitter | Reject Differential (mean): 0.0907\n",
      "Batch 80 | Transform: RandomAffine | Reject Differential (mean): 0.0424\n",
      "Batch 81 | Transform: RandomRotation | Reject Differential (mean): 0.0000\n"
     ]
    },
    {
     "name": "stderr",
     "output_type": "stream",
     "text": [
      " 82%|██████████████████████████████████████████████████████████████████████████████████████████████████████████████████████████████████████▍                             | 82/100 [00:14<00:02,  6.04it/s]"
     ]
    },
    {
     "name": "stdout",
     "output_type": "stream",
     "text": [
      "Batch 81 | Transform: ColorJitter | Reject Differential (mean): 0.0790\n",
      "Batch 81 | Transform: RandomAffine | Reject Differential (mean): 0.0530\n",
      "Batch 82 | Transform: RandomRotation | Reject Differential (mean): 0.0444\n",
      "Batch 82 | Transform: ColorJitter | Reject Differential (mean): 0.0922\n"
     ]
    },
    {
     "name": "stderr",
     "output_type": "stream",
     "text": [
      " 84%|█████████████████████████████████████████████████████████████████████████████████████████████████████████████████████████████████████████▊                          | 84/100 [00:14<00:02,  6.03it/s]"
     ]
    },
    {
     "name": "stdout",
     "output_type": "stream",
     "text": [
      "Batch 82 | Transform: RandomAffine | Reject Differential (mean): 0.0484\n",
      "Batch 83 | Transform: RandomRotation | Reject Differential (mean): 0.0389\n",
      "Batch 83 | Transform: ColorJitter | Reject Differential (mean): 0.1012\n",
      "Batch 83 | Transform: RandomAffine | Reject Differential (mean): 0.0409\n"
     ]
    },
    {
     "name": "stderr",
     "output_type": "stream",
     "text": [
      " 85%|███████████████████████████████████████████████████████████████████████████████████████████████████████████████████████████████████████████▍                        | 85/100 [00:14<00:02,  6.03it/s]"
     ]
    },
    {
     "name": "stdout",
     "output_type": "stream",
     "text": [
      "Batch 84 | Transform: RandomRotation | Reject Differential (mean): 0.0443\n",
      "Batch 84 | Transform: ColorJitter | Reject Differential (mean): 0.0861\n",
      "Batch 84 | Transform: RandomAffine | Reject Differential (mean): 0.0476\n",
      "Batch 85 | Transform: RandomRotation | Reject Differential (mean): 0.0364\n"
     ]
    },
    {
     "name": "stderr",
     "output_type": "stream",
     "text": [
      " 86%|█████████████████████████████████████████████████████████████████████████████████████████████████████████████████████████████████████████████                       | 86/100 [00:15<00:02,  6.03it/s]"
     ]
    },
    {
     "name": "stdout",
     "output_type": "stream",
     "text": [
      "Batch 85 | Transform: ColorJitter | Reject Differential (mean): 0.0894\n",
      "Batch 85 | Transform: RandomAffine | Reject Differential (mean): 0.0402\n",
      "Batch 86 | Transform: RandomRotation | Reject Differential (mean): 0.0467\n",
      "Batch 86 | Transform: ColorJitter | Reject Differential (mean): 0.1239\n"
     ]
    },
    {
     "name": "stderr",
     "output_type": "stream",
     "text": [
      " 88%|████████████████████████████████████████████████████████████████████████████████████████████████████████████████████████████████████████████████▎                   | 88/100 [00:15<00:01,  6.03it/s]"
     ]
    },
    {
     "name": "stdout",
     "output_type": "stream",
     "text": [
      "Batch 86 | Transform: RandomAffine | Reject Differential (mean): 0.0420\n",
      "Batch 87 | Transform: RandomRotation | Reject Differential (mean): 0.0357\n",
      "Batch 87 | Transform: ColorJitter | Reject Differential (mean): 0.0927\n",
      "Batch 87 | Transform: RandomAffine | Reject Differential (mean): 0.0371\n"
     ]
    },
    {
     "name": "stderr",
     "output_type": "stream",
     "text": [
      " 89%|█████████████████████████████████████████████████████████████████████████████████████████████████████████████████████████████████████████████████▉                  | 89/100 [00:15<00:01,  6.03it/s]"
     ]
    },
    {
     "name": "stdout",
     "output_type": "stream",
     "text": [
      "Batch 88 | Transform: RandomRotation | Reject Differential (mean): 0.0441\n",
      "Batch 88 | Transform: ColorJitter | Reject Differential (mean): 0.1162\n",
      "Batch 88 | Transform: RandomAffine | Reject Differential (mean): 0.0399\n",
      "Batch 89 | Transform: RandomRotation | Reject Differential (mean): 0.0000\n"
     ]
    },
    {
     "name": "stderr",
     "output_type": "stream",
     "text": [
      " 90%|███████████████████████████████████████████████████████████████████████████████████████████████████████████████████████████████████████████████████▌                | 90/100 [00:15<00:01,  6.04it/s]"
     ]
    },
    {
     "name": "stdout",
     "output_type": "stream",
     "text": [
      "Batch 89 | Transform: ColorJitter | Reject Differential (mean): 0.0950\n",
      "Batch 89 | Transform: RandomAffine | Reject Differential (mean): 0.0508\n",
      "Batch 90 | Transform: RandomRotation | Reject Differential (mean): 0.0355\n",
      "Batch 90 | Transform: ColorJitter | Reject Differential (mean): 0.0982\n"
     ]
    },
    {
     "name": "stderr",
     "output_type": "stream",
     "text": [
      " 92%|██████████████████████████████████████████████████████████████████████████████████████████████████████████████████████████████████████████████████████▉             | 92/100 [00:16<00:01,  6.04it/s]"
     ]
    },
    {
     "name": "stdout",
     "output_type": "stream",
     "text": [
      "Batch 90 | Transform: RandomAffine | Reject Differential (mean): 0.0482\n",
      "Batch 91 | Transform: RandomRotation | Reject Differential (mean): 0.0000\n",
      "Batch 91 | Transform: ColorJitter | Reject Differential (mean): 0.0890\n",
      "Batch 91 | Transform: RandomAffine | Reject Differential (mean): 0.0441\n"
     ]
    },
    {
     "name": "stderr",
     "output_type": "stream",
     "text": [
      " 93%|████████████████████████████████████████████████████████████████████████████████████████████████████████████████████████████████████████████████████████▌           | 93/100 [00:16<00:01,  6.05it/s]"
     ]
    },
    {
     "name": "stdout",
     "output_type": "stream",
     "text": [
      "Batch 92 | Transform: RandomRotation | Reject Differential (mean): 0.0000\n",
      "Batch 92 | Transform: ColorJitter | Reject Differential (mean): 0.0954\n",
      "Batch 92 | Transform: RandomAffine | Reject Differential (mean): 0.0447\n",
      "Batch 93 | Transform: RandomRotation | Reject Differential (mean): 0.0000\n"
     ]
    },
    {
     "name": "stderr",
     "output_type": "stream",
     "text": [
      " 94%|██████████████████████████████████████████████████████████████████████████████████████████████████████████████████████████████████████████████████████████▏         | 94/100 [00:16<00:00,  6.04it/s]"
     ]
    },
    {
     "name": "stdout",
     "output_type": "stream",
     "text": [
      "Batch 93 | Transform: ColorJitter | Reject Differential (mean): 0.0738\n",
      "Batch 93 | Transform: RandomAffine | Reject Differential (mean): 0.0000\n",
      "Batch 94 | Transform: RandomRotation | Reject Differential (mean): 0.0419\n",
      "Batch 94 | Transform: ColorJitter | Reject Differential (mean): 0.0894\n"
     ]
    },
    {
     "name": "stderr",
     "output_type": "stream",
     "text": [
      " 96%|█████████████████████████████████████████████████████████████████████████████████████████████████████████████████████████████████████████████████████████████▍      | 96/100 [00:16<00:00,  6.03it/s]"
     ]
    },
    {
     "name": "stdout",
     "output_type": "stream",
     "text": [
      "Batch 94 | Transform: RandomAffine | Reject Differential (mean): 0.0465\n",
      "Batch 95 | Transform: RandomRotation | Reject Differential (mean): 0.0426\n",
      "Batch 95 | Transform: ColorJitter | Reject Differential (mean): 0.0902\n",
      "Batch 95 | Transform: RandomAffine | Reject Differential (mean): 0.0423\n"
     ]
    },
    {
     "name": "stderr",
     "output_type": "stream",
     "text": [
      " 97%|███████████████████████████████████████████████████████████████████████████████████████████████████████████████████████████████████████████████████████████████     | 97/100 [00:16<00:00,  6.03it/s]"
     ]
    },
    {
     "name": "stdout",
     "output_type": "stream",
     "text": [
      "Batch 96 | Transform: RandomRotation | Reject Differential (mean): 0.0344\n",
      "Batch 96 | Transform: ColorJitter | Reject Differential (mean): 0.0911\n",
      "Batch 96 | Transform: RandomAffine | Reject Differential (mean): 0.0354\n",
      "Batch 97 | Transform: RandomRotation | Reject Differential (mean): 0.0444\n"
     ]
    },
    {
     "name": "stderr",
     "output_type": "stream",
     "text": [
      " 98%|████████████████████████████████████████████████████████████████████████████████████████████████████████████████████████████████████████████████████████████████▋   | 98/100 [00:17<00:00,  6.03it/s]"
     ]
    },
    {
     "name": "stdout",
     "output_type": "stream",
     "text": [
      "Batch 97 | Transform: ColorJitter | Reject Differential (mean): 0.0774\n",
      "Batch 97 | Transform: RandomAffine | Reject Differential (mean): 0.0453\n",
      "Batch 98 | Transform: RandomRotation | Reject Differential (mean): 0.0395\n",
      "Batch 98 | Transform: ColorJitter | Reject Differential (mean): 0.0959\n"
     ]
    },
    {
     "name": "stderr",
     "output_type": "stream",
     "text": [
      "100%|███████████████████████████████████████████████████████████████████████████████████████████████████████████████████████████████████████████████████████████████████| 100/100 [00:17<00:00,  6.03it/s]"
     ]
    },
    {
     "name": "stdout",
     "output_type": "stream",
     "text": [
      "Batch 98 | Transform: RandomAffine | Reject Differential (mean): 0.0419\n",
      "Batch 99 | Transform: RandomRotation | Reject Differential (mean): 0.0397\n",
      "Batch 99 | Transform: ColorJitter | Reject Differential (mean): 0.1217\n",
      "Batch 99 | Transform: RandomAffine | Reject Differential (mean): 0.0490\n"
     ]
    },
    {
     "name": "stderr",
     "output_type": "stream",
     "text": [
      "100%|███████████████████████████████████████████████████████████████████████████████████████████████████████████████████████████████████████████████████████████████████| 100/100 [00:17<00:00,  5.75it/s]"
     ]
    },
    {
     "name": "stdout",
     "output_type": "stream",
     "text": [
      "Number of recorded reject differentials: 300\n",
      "Example of first few reject_diffs: [0.03526679426431656, 0.07425025850534439, 0.036133166402578354, 0.0, 0.07010944187641144]\n"
     ]
    },
    {
     "name": "stderr",
     "output_type": "stream",
     "text": [
      "\n"
     ]
    }
   ],
   "source": [
    "reject_diffs = []\n",
    "\n",
    "# Evaluate reject differential over the test set\n",
    "for i, (images, labels) in enumerate(tqdm(testloader)):\n",
    "    \n",
    "    images = images.to(device)\n",
    "\n",
    "    # Original prediction\n",
    "    with torch.no_grad():\n",
    "        original_output = model(images)\n",
    "        original_prob = F.softmax(original_output, dim=1)               # shape [batch_size, 10]\n",
    "        original_confidence, original_pred = torch.max(original_prob, 1) # shape [batch_size]\n",
    "\n",
    "    # For metamorphic transform\n",
    "    for tf in transformations:\n",
    "       \n",
    "        transformed_images = tf(images.cpu()).to(device)\n",
    "\n",
    "        with torch.no_grad():\n",
    "            transformed_output = model(transformed_images)\n",
    "            transformed_prob = F.softmax(transformed_output, dim=1)\n",
    "            transformed_confidence, transformed_pred = torch.max(transformed_prob, 1)\n",
    "\n",
    "        # Compute absolute difference in confidence for each sample in the batch\n",
    "    \n",
    "        diff_tensor = torch.abs(original_confidence - transformed_confidence)\n",
    "\n",
    "        # Convert to a single scalar by taking the mean over the batch\n",
    "        diff_mean = diff_tensor.mean().item()\n",
    "\n",
    "       \n",
    "        reject_diffs.append(diff_mean)\n",
    "\n",
    "       \n",
    "        print(f\"Batch {i} | Transform: {tf.__class__.__name__} | \"\n",
    "              f\"Reject Differential (mean): {diff_mean:.4f}\")\n",
    "\n",
    "\n",
    "print(\"Number of recorded reject differentials:\", len(reject_diffs))\n",
    "print(\"Example of first few reject_diffs:\", reject_diffs[:5])\n"
   ]
  },
  {
   "cell_type": "code",
   "execution_count": 9,
   "id": "ac7927eb-9c19-4796-810f-d8fb4247dc72",
   "metadata": {},
   "outputs": [
    {
     "name": "stdout",
     "output_type": "stream",
     "text": [
      "[Epoch 1/20] Train Loss: 2.4945, Train Acc: 10.00% | Test Loss: 2.3040,  Test Acc: 10.00%\n",
      "[Epoch 2/20] Train Loss: 2.2999, Train Acc: 10.42% | Test Loss: 2.2674,  Test Acc: 13.13%\n",
      "[Epoch 3/20] Train Loss: 2.0387, Train Acc: 20.93% | Test Loss: 1.9176,  Test Acc: 27.33%\n",
      "[Epoch 4/20] Train Loss: 1.8531, Train Acc: 28.21% | Test Loss: 1.8314,  Test Acc: 28.91%\n",
      "[Epoch 5/20] Train Loss: 1.7456, Train Acc: 33.49% | Test Loss: 1.7104,  Test Acc: 36.44%\n",
      "[Epoch 6/20] Train Loss: 1.5997, Train Acc: 40.63% | Test Loss: 1.6092,  Test Acc: 40.95%\n",
      "[Epoch 7/20] Train Loss: 1.4489, Train Acc: 47.18% | Test Loss: 1.3487,  Test Acc: 50.94%\n",
      "[Epoch 8/20] Train Loss: 1.3036, Train Acc: 52.75% | Test Loss: 1.2456,  Test Acc: 55.68%\n",
      "[Epoch 9/20] Train Loss: 1.1702, Train Acc: 58.08% | Test Loss: 1.2348,  Test Acc: 56.13%\n",
      "[Epoch 10/20] Train Loss: 1.0686, Train Acc: 61.71% | Test Loss: 1.0648,  Test Acc: 62.06%\n",
      "[Epoch 11/20] Train Loss: 0.9904, Train Acc: 64.56% | Test Loss: 1.0648,  Test Acc: 63.73%\n",
      "[Epoch 12/20] Train Loss: 0.9148, Train Acc: 67.66% | Test Loss: 1.0451,  Test Acc: 64.02%\n",
      "[Epoch 13/20] Train Loss: 0.8585, Train Acc: 69.91% | Test Loss: 0.8354,  Test Acc: 71.53%\n",
      "[Epoch 14/20] Train Loss: 0.7842, Train Acc: 72.41% | Test Loss: 0.9024,  Test Acc: 70.69%\n",
      "[Epoch 15/20] Train Loss: 0.7236, Train Acc: 74.58% | Test Loss: 0.8326,  Test Acc: 72.22%\n",
      "[Epoch 16/20] Train Loss: 0.6718, Train Acc: 76.63% | Test Loss: 0.6864,  Test Acc: 76.50%\n",
      "[Epoch 17/20] Train Loss: 0.6199, Train Acc: 78.49% | Test Loss: 0.7669,  Test Acc: 75.87%\n",
      "[Epoch 18/20] Train Loss: 0.5909, Train Acc: 79.49% | Test Loss: 0.7008,  Test Acc: 76.71%\n",
      "[Epoch 19/20] Train Loss: 0.5599, Train Acc: 80.65% | Test Loss: 0.6534,  Test Acc: 78.10%\n",
      "[Epoch 20/20] Train Loss: 0.5334, Train Acc: 81.56% | Test Loss: 0.6977,  Test Acc: 76.82%\n"
     ]
    }
   ],
   "source": [
    "\n",
    "num_epochs = 20  \n",
    "for epoch in range(num_epochs):\n",
    "    train_loss, train_acc = train_one_epoch(model, trainloader, criterion, optimizer)\n",
    "    val_loss, val_acc     = evaluate(model, testloader, criterion)\n",
    "\n",
    "    print(f\"[Epoch {epoch+1}/{num_epochs}] \"f\"Train Loss: {train_loss:.4f}, Train Acc: {train_acc:.2f}% | \"f\"Test Loss: {val_loss:.4f},  Test Acc: {val_acc:.2f}%\")\n"
   ]
  },
  {
   "cell_type": "code",
   "execution_count": 10,
   "id": "dc25da75-57e5-43db-9875-1474d8c66894",
   "metadata": {},
   "outputs": [],
   "source": [
    "from sklearn.metrics import precision_score, recall_score, f1_score\n",
    "\n",
    "def validate(model, testloader, device, criterion):\n",
    "    model.eval()\n",
    "    val_running_loss = 0.0\n",
    "    val_running_correct = 0\n",
    "    all_preds = []\n",
    "    all_targets = []\n",
    "    \n",
    "    # Switch off gradient tracking for validation\n",
    "    with torch.no_grad():\n",
    "        for data, target in testloader:\n",
    "            data, target = data.to(device), target.to(device)\n",
    "            \n",
    "            # Forward pass\n",
    "            output = model(data)\n",
    "            loss = criterion(output, target)\n",
    "            \n",
    "            # Accumulate loss * batch_size for accurate average\n",
    "            val_running_loss += loss.item() * data.size(0)\n",
    "            \n",
    "            # Predictions\n",
    "            _, preds = torch.max(output, 1)\n",
    "            val_running_correct += (preds == target).sum().item()\n",
    "            \n",
    "            # Store for metrics\n",
    "            all_preds.extend(preds.cpu().numpy())\n",
    "            all_targets.extend(target.cpu().numpy())\n",
    "    \n",
    "    # Calculate average loss\n",
    "    total_samples = len(testloader.dataset)\n",
    "    val_loss = val_running_loss / total_samples\n",
    "    \n",
    "    # Calculate accuracy\n",
    "    val_accuracy = 100.0 * val_running_correct / total_samples\n",
    "    \n",
    "    # Calculate precision, recall, F1 (weighted or macro—your choice)\n",
    "    precision = precision_score(all_targets, all_preds, average='weighted')\n",
    "    recall    = recall_score(all_targets, all_preds, average='weighted')\n",
    "    f1        = f1_score(all_targets, all_preds, average='weighted')\n",
    "    \n",
    "    return val_loss, val_accuracy, precision, recall, f1\n"
   ]
  },
  {
   "cell_type": "code",
   "execution_count": 11,
   "id": "0d4d69c4-a286-43a1-99f3-f74b23706ff9",
   "metadata": {},
   "outputs": [
    {
     "name": "stdout",
     "output_type": "stream",
     "text": [
      "Model saved to resnet164_RejDiff_cifar10.pth\n"
     ]
    }
   ],
   "source": [
    "model_save_path = 'resnet164_RejDiff_cifar10.pth'\n",
    "torch.save(model.state_dict(), model_save_path)\n",
    "print(f\"Model saved to {model_save_path}\")"
   ]
  },
  {
   "cell_type": "code",
   "execution_count": 12,
   "id": "84cee7cb-fb1c-439f-b14d-51cb4fad77bf",
   "metadata": {},
   "outputs": [
    {
     "name": "stderr",
     "output_type": "stream",
     "text": [
      "/tmp/ipykernel_330611/1717748095.py:1: FutureWarning: You are using `torch.load` with `weights_only=False` (the current default value), which uses the default pickle module implicitly. It is possible to construct malicious pickle data which will execute arbitrary code during unpickling (See https://github.com/pytorch/pytorch/blob/main/SECURITY.md#untrusted-models for more details). In a future release, the default value for `weights_only` will be flipped to `True`. This limits the functions that could be executed during unpickling. Arbitrary objects will no longer be allowed to be loaded via this mode unless they are explicitly allowlisted by the user via `torch.serialization.add_safe_globals`. We recommend you start setting `weights_only=True` for any use case where you don't have full control of the loaded file. Please open an issue on GitHub for any issues related to this experimental feature.\n",
      "  model.load_state_dict(torch.load(model_save_path))\n"
     ]
    }
   ],
   "source": [
    "model.load_state_dict(torch.load(model_save_path))\n",
    "mode = model.to(device)"
   ]
  },
  {
   "cell_type": "code",
   "execution_count": 13,
   "id": "5bb5ea6c-6ea5-434e-876c-58e47824eff5",
   "metadata": {},
   "outputs": [
    {
     "name": "stdout",
     "output_type": "stream",
     "text": [
      "\n",
      "Final Test Results - Loss: 0.6977, Accuracy: 76.82%, Precision: 0.79, Recall: 0.77, F1 Score: 0.76\n"
     ]
    }
   ],
   "source": [
    "final_val_loss, final_val_accuracy, final_precision, final_recall, final_f1 = validate( model,  testloader, device=device, criterion=criterion)\n",
    "\n",
    "print(f\"\\nFinal Test Results - Loss: {final_val_loss:.4f}, \"f\"Accuracy: {final_val_accuracy:.2f}%, \"f\"Precision: {final_precision:.2f}, \"f\"Recall: {final_recall:.2f}, \"f\"F1 Score: {final_f1:.2f}\")"
   ]
  },
  {
   "cell_type": "code",
   "execution_count": null,
   "id": "5a694d98-8e88-4956-9ba2-aa46cb868e8f",
   "metadata": {},
   "outputs": [],
   "source": []
  }
 ],
 "metadata": {
  "kernelspec": {
   "display_name": "Python 3 (ipykernel)",
   "language": "python",
   "name": "python3"
  },
  "language_info": {
   "codemirror_mode": {
    "name": "ipython",
    "version": 3
   },
   "file_extension": ".py",
   "mimetype": "text/x-python",
   "name": "python",
   "nbconvert_exporter": "python",
   "pygments_lexer": "ipython3",
   "version": "3.8.10"
  }
 },
 "nbformat": 4,
 "nbformat_minor": 5
}
