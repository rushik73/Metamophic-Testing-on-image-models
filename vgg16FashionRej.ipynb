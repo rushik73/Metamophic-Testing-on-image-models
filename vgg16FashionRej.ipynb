{
 "cells": [
  {
   "cell_type": "code",
   "execution_count": 11,
   "id": "039b0e6c-a86e-4b32-9514-3f93bcad53e8",
   "metadata": {},
   "outputs": [],
   "source": [
    "import torch\n",
    "import torchvision\n",
    "import torchvision.transforms as transforms\n",
    "import torch.optim as optim\n",
    "import time\n",
    "import torch.nn.functional as F\n",
    "import torch.nn as nn\n",
    "import matplotlib.pyplot as plt\n",
    "from torchvision import models\n",
    "from sklearn.metrics import accuracy_score, precision_score, recall_score, f1_score\n",
    "from tqdm import tqdm"
   ]
  },
  {
   "cell_type": "code",
   "execution_count": 12,
   "id": "06c7560f-2efd-46ee-bac1-1df1abf982b9",
   "metadata": {},
   "outputs": [
    {
     "name": "stdout",
     "output_type": "stream",
     "text": [
      "cuda\n"
     ]
    }
   ],
   "source": [
    "device = 'cuda' if torch.cuda.is_available() else 'cpu'\n",
    "print(device)\n",
    "\n",
    "#VGG 16 and Resnet use 3 channel rgb inputs\n",
    "transform = transforms.Compose(\n",
    "    [transforms.Resize((224, 224)),\n",
    "     transforms.ToTensor(),\n",
    "     transforms.Lambda(lambda x: x.repeat(3, 1, 1)),  # Convert 1 channel to 3 channels\n",
    "     transforms.Normalize((0.5, 0.5, 0.5), (0.5, 0.5, 0.5))])  # Normalize for RGB\n",
    "\n",
    "trainset = torchvision.datasets.FashionMNIST(root='./data', train=True,\n",
    "                                             download=True, transform=transform)\n",
    "trainloader = torch.utils.data.DataLoader(trainset, batch_size=32,\n",
    "                                           shuffle=True)\n",
    "\n",
    "testset = torchvision.datasets.FashionMNIST(root='./data', train=False,\n",
    "                                            download=True, transform=transform)\n",
    "testloader = torch.utils.data.DataLoader(testset, batch_size=32,\n",
    "                                          shuffle=False)"
   ]
  },
  {
   "cell_type": "code",
   "execution_count": 13,
   "id": "5b06aca5-01e4-4161-8ffd-96555c3755df",
   "metadata": {},
   "outputs": [
    {
     "name": "stdout",
     "output_type": "stream",
     "text": [
      "VGG(\n",
      "  (features): Sequential(\n",
      "    (0): Conv2d(3, 64, kernel_size=(3, 3), stride=(1, 1), padding=(1, 1))\n",
      "    (1): ReLU(inplace=True)\n",
      "    (2): Conv2d(64, 64, kernel_size=(3, 3), stride=(1, 1), padding=(1, 1))\n",
      "    (3): ReLU(inplace=True)\n",
      "    (4): MaxPool2d(kernel_size=2, stride=2, padding=0, dilation=1, ceil_mode=False)\n",
      "    (5): Conv2d(64, 128, kernel_size=(3, 3), stride=(1, 1), padding=(1, 1))\n",
      "    (6): ReLU(inplace=True)\n",
      "    (7): Conv2d(128, 128, kernel_size=(3, 3), stride=(1, 1), padding=(1, 1))\n",
      "    (8): ReLU(inplace=True)\n",
      "    (9): MaxPool2d(kernel_size=2, stride=2, padding=0, dilation=1, ceil_mode=False)\n",
      "    (10): Conv2d(128, 256, kernel_size=(3, 3), stride=(1, 1), padding=(1, 1))\n",
      "    (11): ReLU(inplace=True)\n",
      "    (12): Conv2d(256, 256, kernel_size=(3, 3), stride=(1, 1), padding=(1, 1))\n",
      "    (13): ReLU(inplace=True)\n",
      "    (14): Conv2d(256, 256, kernel_size=(3, 3), stride=(1, 1), padding=(1, 1))\n",
      "    (15): ReLU(inplace=True)\n",
      "    (16): MaxPool2d(kernel_size=2, stride=2, padding=0, dilation=1, ceil_mode=False)\n",
      "    (17): Conv2d(256, 512, kernel_size=(3, 3), stride=(1, 1), padding=(1, 1))\n",
      "    (18): ReLU(inplace=True)\n",
      "    (19): Conv2d(512, 512, kernel_size=(3, 3), stride=(1, 1), padding=(1, 1))\n",
      "    (20): ReLU(inplace=True)\n",
      "    (21): Conv2d(512, 512, kernel_size=(3, 3), stride=(1, 1), padding=(1, 1))\n",
      "    (22): ReLU(inplace=True)\n",
      "    (23): MaxPool2d(kernel_size=2, stride=2, padding=0, dilation=1, ceil_mode=False)\n",
      "    (24): Conv2d(512, 512, kernel_size=(3, 3), stride=(1, 1), padding=(1, 1))\n",
      "    (25): ReLU(inplace=True)\n",
      "    (26): Conv2d(512, 512, kernel_size=(3, 3), stride=(1, 1), padding=(1, 1))\n",
      "    (27): ReLU(inplace=True)\n",
      "    (28): Conv2d(512, 512, kernel_size=(3, 3), stride=(1, 1), padding=(1, 1))\n",
      "    (29): ReLU(inplace=True)\n",
      "    (30): MaxPool2d(kernel_size=2, stride=2, padding=0, dilation=1, ceil_mode=False)\n",
      "  )\n",
      "  (avgpool): AdaptiveAvgPool2d(output_size=(7, 7))\n",
      "  (classifier): Sequential(\n",
      "    (0): Linear(in_features=25088, out_features=4096, bias=True)\n",
      "    (1): ReLU(inplace=True)\n",
      "    (2): Dropout(p=0.5, inplace=False)\n",
      "    (3): Linear(in_features=4096, out_features=4096, bias=True)\n",
      "    (4): ReLU(inplace=True)\n",
      "    (5): Dropout(p=0.5, inplace=False)\n",
      "    (6): Linear(in_features=4096, out_features=10, bias=True)\n",
      "  )\n",
      ")\n"
     ]
    }
   ],
   "source": [
    "vgg16Fashion = models.vgg16(pretrained=True)\n",
    "vgg16Fashion.classifier[6] = nn.Linear(4096, 10)\n",
    "vgg16Fashion.to(device)\n",
    "print(vgg16Fashion)\n"
   ]
  },
  {
   "cell_type": "code",
   "execution_count": 14,
   "id": "47a63fd3-68ab-4a46-9686-7680af018546",
   "metadata": {},
   "outputs": [],
   "source": [
    "# optimizer\n",
    "optimizer = optim.SGD(vgg16Fashion.classifier.parameters(), lr=0.001, momentum=0.9)\n",
    "# loss function\n",
    "criterion = nn.CrossEntropyLoss()"
   ]
  },
  {
   "cell_type": "code",
   "execution_count": 15,
   "id": "9fce80de-9420-458d-a51c-aff2aaba98b6",
   "metadata": {},
   "outputs": [],
   "source": [
    "#transformations for metamorphic testing\n",
    "transformations = [\n",
    "    transforms.RandomRotation(degrees=10),  # Small rotation\n",
    "    transforms.ColorJitter(brightness=0.2),  # Slight brightness change\n",
    "    transforms.RandomAffine(degrees=0, translate=(0.1, 0.1))  # Small translation\n",
    "]"
   ]
  },
  {
   "cell_type": "code",
   "execution_count": 16,
   "id": "fb0d74f0-0992-4db0-a44a-263558b1660d",
   "metadata": {},
   "outputs": [],
   "source": [
    "# Validation Function\n",
    "def validate(model, test_dataloader):\n",
    "    model.eval()\n",
    "    val_running_loss = 0.0\n",
    "    val_running_correct = 0\n",
    "    all_preds = []\n",
    "    all_targets = []\n",
    "    with torch.no_grad():\n",
    "        for data, target in tqdm(test_dataloader):\n",
    "            data, target = data.to(device), target.to(device)\n",
    "            output = model(data)\n",
    "            loss = criterion(output, target)\n",
    "            val_running_loss += loss.item()\n",
    "            _, preds = torch.max(output.data, 1)\n",
    "            val_running_correct += (preds == target).sum().item()\n",
    "            all_preds.extend(preds.cpu().numpy())\n",
    "            all_targets.extend(target.cpu().numpy())\n",
    "    \n",
    "    val_loss = val_running_loss / len(test_dataloader.dataset)\n",
    "    val_accuracy = 100. * val_running_correct / len(test_dataloader.dataset)\n",
    "    \n",
    "    # Calculate metrics\n",
    "    precision = precision_score(all_targets, all_preds, average='weighted')\n",
    "    recall = recall_score(all_targets, all_preds, average='weighted')\n",
    "    f1 = f1_score(all_targets, all_preds, average='weighted')\n",
    "    \n",
    "    return val_loss, val_accuracy, precision, recall, f1"
   ]
  },
  {
   "cell_type": "code",
   "execution_count": 17,
   "id": "ce8feed1-4ed1-4beb-be8d-7fa81956ab0d",
   "metadata": {},
   "outputs": [],
   "source": [
    "def fit(model, train_dataloader):\n",
    "    model.train()\n",
    "    train_running_loss = 0.0\n",
    "    train_running_correct = 0\n",
    "    for  data, target in tqdm(train_dataloader):\n",
    "        data, target = data.to(device), target.to(device)\n",
    "        optimizer.zero_grad()\n",
    "        output = model(data)\n",
    "        loss = criterion(output, target)\n",
    "        train_running_loss += loss.item()\n",
    "        _, preds = torch.max(output.data, 1)\n",
    "        train_running_correct += (preds == target).sum().item()\n",
    "        loss.backward()\n",
    "        optimizer.step()\n",
    "    train_loss = train_running_loss/len(train_dataloader.dataset)\n",
    "    train_accuracy = 100. * train_running_correct/len(train_dataloader.dataset)\n",
    "    print(f'Train Loss: {train_loss:.4f}, Train Acc: {train_accuracy:.2f}')\n",
    "    \n",
    "    return train_loss, train_accuracy"
   ]
  },
  {
   "cell_type": "code",
   "execution_count": 18,
   "id": "4c23cdf7-e493-4274-950f-b34df4f1bee5",
   "metadata": {},
   "outputs": [
    {
     "name": "stderr",
     "output_type": "stream",
     "text": [
      "  0%|                                                                                              | 0/313 [00:00<?, ?it/s]"
     ]
    },
    {
     "name": "stdout",
     "output_type": "stream",
     "text": [
      "Batch 0 | Reject Differential (mean over batch): 0.0491\n",
      "Batch 0 | Reject Differential (mean over batch): 0.0374\n"
     ]
    },
    {
     "name": "stderr",
     "output_type": "stream",
     "text": [
      "  0%|▎                                                                                     | 1/313 [00:00<02:42,  1.91it/s]"
     ]
    },
    {
     "name": "stdout",
     "output_type": "stream",
     "text": [
      "Batch 0 | Reject Differential (mean over batch): 0.0282\n",
      "Batch 1 | Reject Differential (mean over batch): 0.0332\n",
      "Batch 1 | Reject Differential (mean over batch): 0.0453\n"
     ]
    },
    {
     "name": "stderr",
     "output_type": "stream",
     "text": [
      "  1%|▌                                                                                     | 2/313 [00:00<02:29,  2.08it/s]"
     ]
    },
    {
     "name": "stdout",
     "output_type": "stream",
     "text": [
      "Batch 1 | Reject Differential (mean over batch): 0.0341\n",
      "Batch 2 | Reject Differential (mean over batch): 0.0303\n",
      "Batch 2 | Reject Differential (mean over batch): 0.0457\n"
     ]
    },
    {
     "name": "stderr",
     "output_type": "stream",
     "text": [
      "  1%|▊                                                                                     | 3/313 [00:01<02:31,  2.04it/s]"
     ]
    },
    {
     "name": "stdout",
     "output_type": "stream",
     "text": [
      "Batch 2 | Reject Differential (mean over batch): 0.0462\n",
      "Batch 3 | Reject Differential (mean over batch): 0.0442\n",
      "Batch 3 | Reject Differential (mean over batch): 0.0537\n"
     ]
    },
    {
     "name": "stderr",
     "output_type": "stream",
     "text": [
      "  1%|█                                                                                     | 4/313 [00:01<02:27,  2.10it/s]"
     ]
    },
    {
     "name": "stdout",
     "output_type": "stream",
     "text": [
      "Batch 3 | Reject Differential (mean over batch): 0.0444\n",
      "Batch 4 | Reject Differential (mean over batch): 0.0337\n",
      "Batch 4 | Reject Differential (mean over batch): 0.0352\n"
     ]
    },
    {
     "name": "stderr",
     "output_type": "stream",
     "text": [
      "  2%|█▎                                                                                    | 5/313 [00:02<02:20,  2.20it/s]"
     ]
    },
    {
     "name": "stdout",
     "output_type": "stream",
     "text": [
      "Batch 4 | Reject Differential (mean over batch): 0.0319\n"
     ]
    },
    {
     "name": "stderr",
     "output_type": "stream",
     "text": [
      "  2%|█▋                                                                                    | 6/313 [00:02<02:15,  2.27it/s]"
     ]
    },
    {
     "name": "stdout",
     "output_type": "stream",
     "text": [
      "Batch 5 | Reject Differential (mean over batch): 0.0569\n",
      "Batch 5 | Reject Differential (mean over batch): 0.0479\n",
      "Batch 5 | Reject Differential (mean over batch): 0.0415\n",
      "Batch 6 | Reject Differential (mean over batch): 0.0313\n",
      "Batch 6 | Reject Differential (mean over batch): 0.0348\n"
     ]
    },
    {
     "name": "stderr",
     "output_type": "stream",
     "text": [
      "  2%|█▉                                                                                    | 7/313 [00:03<02:15,  2.27it/s]"
     ]
    },
    {
     "name": "stdout",
     "output_type": "stream",
     "text": [
      "Batch 6 | Reject Differential (mean over batch): 0.0353\n",
      "Batch 7 | Reject Differential (mean over batch): 0.0446\n",
      "Batch 7 | Reject Differential (mean over batch): 0.0528\n"
     ]
    },
    {
     "name": "stderr",
     "output_type": "stream",
     "text": [
      "  3%|██▏                                                                                   | 8/313 [00:03<02:14,  2.26it/s]"
     ]
    },
    {
     "name": "stdout",
     "output_type": "stream",
     "text": [
      "Batch 7 | Reject Differential (mean over batch): 0.0313\n"
     ]
    },
    {
     "name": "stderr",
     "output_type": "stream",
     "text": [
      "  3%|██▍                                                                                   | 9/313 [00:04<02:10,  2.33it/s]"
     ]
    },
    {
     "name": "stdout",
     "output_type": "stream",
     "text": [
      "Batch 8 | Reject Differential (mean over batch): 0.0479\n",
      "Batch 8 | Reject Differential (mean over batch): 0.0459\n",
      "Batch 8 | Reject Differential (mean over batch): 0.0462\n",
      "Batch 9 | Reject Differential (mean over batch): 0.0509\n",
      "Batch 9 | Reject Differential (mean over batch): 0.0472\n"
     ]
    },
    {
     "name": "stderr",
     "output_type": "stream",
     "text": [
      "  3%|██▋                                                                                  | 10/313 [00:04<02:10,  2.32it/s]"
     ]
    },
    {
     "name": "stdout",
     "output_type": "stream",
     "text": [
      "Batch 9 | Reject Differential (mean over batch): 0.0474\n"
     ]
    },
    {
     "name": "stderr",
     "output_type": "stream",
     "text": [
      "  4%|██▉                                                                                  | 11/313 [00:04<02:07,  2.36it/s]"
     ]
    },
    {
     "name": "stdout",
     "output_type": "stream",
     "text": [
      "Batch 10 | Reject Differential (mean over batch): 0.0378\n",
      "Batch 10 | Reject Differential (mean over batch): 0.0454\n",
      "Batch 10 | Reject Differential (mean over batch): 0.0455\n"
     ]
    },
    {
     "name": "stderr",
     "output_type": "stream",
     "text": [
      "  4%|███▎                                                                                 | 12/313 [00:05<02:05,  2.39it/s]"
     ]
    },
    {
     "name": "stdout",
     "output_type": "stream",
     "text": [
      "Batch 11 | Reject Differential (mean over batch): 0.0483\n",
      "Batch 11 | Reject Differential (mean over batch): 0.0399\n",
      "Batch 11 | Reject Differential (mean over batch): 0.0367\n"
     ]
    },
    {
     "name": "stderr",
     "output_type": "stream",
     "text": [
      "  4%|███▌                                                                                 | 13/313 [00:05<02:04,  2.41it/s]"
     ]
    },
    {
     "name": "stdout",
     "output_type": "stream",
     "text": [
      "Batch 12 | Reject Differential (mean over batch): 0.0348\n",
      "Batch 12 | Reject Differential (mean over batch): 0.0393\n",
      "Batch 12 | Reject Differential (mean over batch): 0.0408\n",
      "Batch 13 | Reject Differential (mean over batch): 0.0368\n",
      "Batch 13 | Reject Differential (mean over batch): 0.0380\n"
     ]
    },
    {
     "name": "stderr",
     "output_type": "stream",
     "text": [
      "  4%|███▊                                                                                 | 14/313 [00:06<02:04,  2.40it/s]"
     ]
    },
    {
     "name": "stdout",
     "output_type": "stream",
     "text": [
      "Batch 13 | Reject Differential (mean over batch): 0.0394\n"
     ]
    },
    {
     "name": "stderr",
     "output_type": "stream",
     "text": [
      "  5%|████                                                                                 | 15/313 [00:06<02:04,  2.40it/s]"
     ]
    },
    {
     "name": "stdout",
     "output_type": "stream",
     "text": [
      "Batch 14 | Reject Differential (mean over batch): 0.0537\n",
      "Batch 14 | Reject Differential (mean over batch): 0.0599\n",
      "Batch 14 | Reject Differential (mean over batch): 0.0456\n",
      "Batch 15 | Reject Differential (mean over batch): 0.0353\n",
      "Batch 15 | Reject Differential (mean over batch): 0.0421\n"
     ]
    },
    {
     "name": "stderr",
     "output_type": "stream",
     "text": [
      "  5%|████▎                                                                                | 16/313 [00:07<02:08,  2.30it/s]"
     ]
    },
    {
     "name": "stdout",
     "output_type": "stream",
     "text": [
      "Batch 15 | Reject Differential (mean over batch): 0.0366\n",
      "Batch 16 | Reject Differential (mean over batch): 0.0502\n",
      "Batch 16 | Reject Differential (mean over batch): 0.0534\n"
     ]
    },
    {
     "name": "stderr",
     "output_type": "stream",
     "text": [
      "  5%|████▌                                                                                | 17/313 [00:07<02:11,  2.25it/s]"
     ]
    },
    {
     "name": "stdout",
     "output_type": "stream",
     "text": [
      "Batch 16 | Reject Differential (mean over batch): 0.0471\n",
      "Batch 17 | Reject Differential (mean over batch): 0.0484\n",
      "Batch 17 | Reject Differential (mean over batch): 0.0588\n"
     ]
    },
    {
     "name": "stderr",
     "output_type": "stream",
     "text": [
      "  6%|████▉                                                                                | 18/313 [00:07<02:12,  2.23it/s]"
     ]
    },
    {
     "name": "stdout",
     "output_type": "stream",
     "text": [
      "Batch 17 | Reject Differential (mean over batch): 0.0393\n",
      "Batch 18 | Reject Differential (mean over batch): 0.0366\n",
      "Batch 18 | Reject Differential (mean over batch): 0.0386\n"
     ]
    },
    {
     "name": "stderr",
     "output_type": "stream",
     "text": [
      "  6%|█████▏                                                                               | 19/313 [00:08<02:12,  2.22it/s]"
     ]
    },
    {
     "name": "stdout",
     "output_type": "stream",
     "text": [
      "Batch 18 | Reject Differential (mean over batch): 0.0291\n",
      "Batch 19 | Reject Differential (mean over batch): 0.0470\n",
      "Batch 19 | Reject Differential (mean over batch): 0.0457\n"
     ]
    },
    {
     "name": "stderr",
     "output_type": "stream",
     "text": [
      "  6%|█████▍                                                                               | 20/313 [00:08<02:13,  2.20it/s]"
     ]
    },
    {
     "name": "stdout",
     "output_type": "stream",
     "text": [
      "Batch 19 | Reject Differential (mean over batch): 0.0423\n"
     ]
    },
    {
     "name": "stderr",
     "output_type": "stream",
     "text": [
      "  7%|█████▋                                                                               | 21/313 [00:09<02:10,  2.24it/s]"
     ]
    },
    {
     "name": "stdout",
     "output_type": "stream",
     "text": [
      "Batch 20 | Reject Differential (mean over batch): 0.0370\n",
      "Batch 20 | Reject Differential (mean over batch): 0.0495\n",
      "Batch 20 | Reject Differential (mean over batch): 0.0470\n",
      "Batch 21 | Reject Differential (mean over batch): 0.0295\n",
      "Batch 21 | Reject Differential (mean over batch): 0.0442\n"
     ]
    },
    {
     "name": "stderr",
     "output_type": "stream",
     "text": [
      "  7%|█████▉                                                                               | 22/313 [00:09<02:11,  2.21it/s]"
     ]
    },
    {
     "name": "stdout",
     "output_type": "stream",
     "text": [
      "Batch 21 | Reject Differential (mean over batch): 0.0397\n"
     ]
    },
    {
     "name": "stderr",
     "output_type": "stream",
     "text": [
      "  7%|██████▏                                                                              | 23/313 [00:10<02:08,  2.26it/s]"
     ]
    },
    {
     "name": "stdout",
     "output_type": "stream",
     "text": [
      "Batch 22 | Reject Differential (mean over batch): 0.0499\n",
      "Batch 22 | Reject Differential (mean over batch): 0.0510\n",
      "Batch 22 | Reject Differential (mean over batch): 0.0365\n"
     ]
    },
    {
     "name": "stderr",
     "output_type": "stream",
     "text": [
      "  8%|██████▌                                                                              | 24/313 [00:10<02:05,  2.30it/s]"
     ]
    },
    {
     "name": "stdout",
     "output_type": "stream",
     "text": [
      "Batch 23 | Reject Differential (mean over batch): 0.0396\n",
      "Batch 23 | Reject Differential (mean over batch): 0.0368\n",
      "Batch 23 | Reject Differential (mean over batch): 0.0343\n"
     ]
    },
    {
     "name": "stderr",
     "output_type": "stream",
     "text": [
      "  8%|██████▊                                                                              | 25/313 [00:11<02:03,  2.33it/s]"
     ]
    },
    {
     "name": "stdout",
     "output_type": "stream",
     "text": [
      "Batch 24 | Reject Differential (mean over batch): 0.0398\n",
      "Batch 24 | Reject Differential (mean over batch): 0.0454\n",
      "Batch 24 | Reject Differential (mean over batch): 0.0467\n",
      "Batch 25 | Reject Differential (mean over batch): 0.0423\n",
      "Batch 25 | Reject Differential (mean over batch): 0.0469\n"
     ]
    },
    {
     "name": "stderr",
     "output_type": "stream",
     "text": [
      "  8%|███████                                                                              | 26/313 [00:11<02:03,  2.32it/s]"
     ]
    },
    {
     "name": "stdout",
     "output_type": "stream",
     "text": [
      "Batch 25 | Reject Differential (mean over batch): 0.0411\n"
     ]
    },
    {
     "name": "stderr",
     "output_type": "stream",
     "text": [
      "  9%|███████▎                                                                             | 27/313 [00:11<02:02,  2.34it/s]"
     ]
    },
    {
     "name": "stdout",
     "output_type": "stream",
     "text": [
      "Batch 26 | Reject Differential (mean over batch): 0.0499\n",
      "Batch 26 | Reject Differential (mean over batch): 0.0508\n",
      "Batch 26 | Reject Differential (mean over batch): 0.0452\n"
     ]
    },
    {
     "name": "stderr",
     "output_type": "stream",
     "text": [
      "  9%|███████▌                                                                             | 28/313 [00:12<02:00,  2.36it/s]"
     ]
    },
    {
     "name": "stdout",
     "output_type": "stream",
     "text": [
      "Batch 27 | Reject Differential (mean over batch): 0.0372\n",
      "Batch 27 | Reject Differential (mean over batch): 0.0354\n",
      "Batch 27 | Reject Differential (mean over batch): 0.0360\n"
     ]
    },
    {
     "name": "stderr",
     "output_type": "stream",
     "text": [
      "  9%|███████▉                                                                             | 29/313 [00:12<01:59,  2.37it/s]"
     ]
    },
    {
     "name": "stdout",
     "output_type": "stream",
     "text": [
      "Batch 28 | Reject Differential (mean over batch): 0.0599\n",
      "Batch 28 | Reject Differential (mean over batch): 0.0653\n",
      "Batch 28 | Reject Differential (mean over batch): 0.0585\n"
     ]
    },
    {
     "name": "stderr",
     "output_type": "stream",
     "text": [
      " 10%|████████▏                                                                            | 30/313 [00:13<01:59,  2.38it/s]"
     ]
    },
    {
     "name": "stdout",
     "output_type": "stream",
     "text": [
      "Batch 29 | Reject Differential (mean over batch): 0.0326\n",
      "Batch 29 | Reject Differential (mean over batch): 0.0391\n",
      "Batch 29 | Reject Differential (mean over batch): 0.0440\n"
     ]
    },
    {
     "name": "stderr",
     "output_type": "stream",
     "text": [
      " 10%|████████▍                                                                            | 31/313 [00:13<01:58,  2.39it/s]"
     ]
    },
    {
     "name": "stdout",
     "output_type": "stream",
     "text": [
      "Batch 30 | Reject Differential (mean over batch): 0.0512\n",
      "Batch 30 | Reject Differential (mean over batch): 0.0413\n",
      "Batch 30 | Reject Differential (mean over batch): 0.0463\n",
      "Batch 31 | Reject Differential (mean over batch): 0.0498\n",
      "Batch 31 | Reject Differential (mean over batch): 0.0629\n"
     ]
    },
    {
     "name": "stderr",
     "output_type": "stream",
     "text": [
      " 10%|████████▋                                                                            | 32/313 [00:13<01:57,  2.39it/s]"
     ]
    },
    {
     "name": "stdout",
     "output_type": "stream",
     "text": [
      "Batch 31 | Reject Differential (mean over batch): 0.0499\n"
     ]
    },
    {
     "name": "stderr",
     "output_type": "stream",
     "text": [
      " 11%|████████▉                                                                            | 33/313 [00:14<01:56,  2.41it/s]"
     ]
    },
    {
     "name": "stdout",
     "output_type": "stream",
     "text": [
      "Batch 32 | Reject Differential (mean over batch): 0.0391\n",
      "Batch 32 | Reject Differential (mean over batch): 0.0435\n",
      "Batch 32 | Reject Differential (mean over batch): 0.0337\n"
     ]
    },
    {
     "name": "stderr",
     "output_type": "stream",
     "text": [
      " 11%|█████████▏                                                                           | 34/313 [00:14<01:54,  2.43it/s]"
     ]
    },
    {
     "name": "stdout",
     "output_type": "stream",
     "text": [
      "Batch 33 | Reject Differential (mean over batch): 0.0430\n",
      "Batch 33 | Reject Differential (mean over batch): 0.0429\n",
      "Batch 33 | Reject Differential (mean over batch): 0.0403\n"
     ]
    },
    {
     "name": "stderr",
     "output_type": "stream",
     "text": [
      " 11%|█████████▌                                                                           | 35/313 [00:15<01:54,  2.43it/s]"
     ]
    },
    {
     "name": "stdout",
     "output_type": "stream",
     "text": [
      "Batch 34 | Reject Differential (mean over batch): 0.0401\n",
      "Batch 34 | Reject Differential (mean over batch): 0.0514\n",
      "Batch 34 | Reject Differential (mean over batch): 0.0369\n",
      "Batch 35 | Reject Differential (mean over batch): 0.0448\n",
      "Batch 35 | Reject Differential (mean over batch): 0.0492\n"
     ]
    },
    {
     "name": "stderr",
     "output_type": "stream",
     "text": [
      " 12%|█████████▊                                                                           | 36/313 [00:15<01:55,  2.40it/s]"
     ]
    },
    {
     "name": "stdout",
     "output_type": "stream",
     "text": [
      "Batch 35 | Reject Differential (mean over batch): 0.0452\n",
      "Batch 36 | Reject Differential (mean over batch): 0.0438\n",
      "Batch 36 | Reject Differential (mean over batch): 0.0511\n"
     ]
    },
    {
     "name": "stderr",
     "output_type": "stream",
     "text": [
      " 12%|██████████                                                                           | 37/313 [00:16<01:58,  2.33it/s]"
     ]
    },
    {
     "name": "stdout",
     "output_type": "stream",
     "text": [
      "Batch 36 | Reject Differential (mean over batch): 0.0401\n",
      "Batch 37 | Reject Differential (mean over batch): 0.0482\n",
      "Batch 37 | Reject Differential (mean over batch): 0.0479\n"
     ]
    },
    {
     "name": "stderr",
     "output_type": "stream",
     "text": [
      " 12%|██████████▎                                                                          | 38/313 [00:16<01:57,  2.34it/s]"
     ]
    },
    {
     "name": "stdout",
     "output_type": "stream",
     "text": [
      "Batch 37 | Reject Differential (mean over batch): 0.0380\n",
      "Batch 38 | Reject Differential (mean over batch): 0.0481\n",
      "Batch 38 | Reject Differential (mean over batch): 0.0549\n"
     ]
    },
    {
     "name": "stderr",
     "output_type": "stream",
     "text": [
      " 12%|██████████▌                                                                          | 39/313 [00:16<01:56,  2.36it/s]"
     ]
    },
    {
     "name": "stdout",
     "output_type": "stream",
     "text": [
      "Batch 38 | Reject Differential (mean over batch): 0.0429\n",
      "Batch 39 | Reject Differential (mean over batch): 0.0456\n",
      "Batch 39 | Reject Differential (mean over batch): 0.0448\n"
     ]
    },
    {
     "name": "stderr",
     "output_type": "stream",
     "text": [
      " 13%|██████████▊                                                                          | 40/313 [00:17<01:56,  2.35it/s]"
     ]
    },
    {
     "name": "stdout",
     "output_type": "stream",
     "text": [
      "Batch 39 | Reject Differential (mean over batch): 0.0436\n"
     ]
    },
    {
     "name": "stderr",
     "output_type": "stream",
     "text": [
      " 13%|███████████▏                                                                         | 41/313 [00:17<01:54,  2.38it/s]"
     ]
    },
    {
     "name": "stdout",
     "output_type": "stream",
     "text": [
      "Batch 40 | Reject Differential (mean over batch): 0.0468\n",
      "Batch 40 | Reject Differential (mean over batch): 0.0508\n",
      "Batch 40 | Reject Differential (mean over batch): 0.0408\n"
     ]
    },
    {
     "name": "stderr",
     "output_type": "stream",
     "text": [
      " 13%|███████████▍                                                                         | 42/313 [00:18<01:52,  2.40it/s]"
     ]
    },
    {
     "name": "stdout",
     "output_type": "stream",
     "text": [
      "Batch 41 | Reject Differential (mean over batch): 0.0468\n",
      "Batch 41 | Reject Differential (mean over batch): 0.0475\n",
      "Batch 41 | Reject Differential (mean over batch): 0.0398\n",
      "Batch 42 | Reject Differential (mean over batch): 0.0516\n",
      "Batch 42 | Reject Differential (mean over batch): 0.0376\n"
     ]
    },
    {
     "name": "stderr",
     "output_type": "stream",
     "text": [
      " 14%|███████████▋                                                                         | 43/313 [00:18<01:54,  2.36it/s]"
     ]
    },
    {
     "name": "stdout",
     "output_type": "stream",
     "text": [
      "Batch 42 | Reject Differential (mean over batch): 0.0470\n",
      "Batch 43 | Reject Differential (mean over batch): 0.0378\n",
      "Batch 43 | Reject Differential (mean over batch): 0.0437\n"
     ]
    },
    {
     "name": "stderr",
     "output_type": "stream",
     "text": [
      " 14%|███████████▉                                                                         | 44/313 [00:19<01:55,  2.32it/s]"
     ]
    },
    {
     "name": "stdout",
     "output_type": "stream",
     "text": [
      "Batch 43 | Reject Differential (mean over batch): 0.0363\n"
     ]
    },
    {
     "name": "stderr",
     "output_type": "stream",
     "text": [
      " 14%|████████████▏                                                                        | 45/313 [00:19<01:53,  2.35it/s]"
     ]
    },
    {
     "name": "stdout",
     "output_type": "stream",
     "text": [
      "Batch 44 | Reject Differential (mean over batch): 0.0398\n",
      "Batch 44 | Reject Differential (mean over batch): 0.0548\n",
      "Batch 44 | Reject Differential (mean over batch): 0.0378\n",
      "Batch 45 | Reject Differential (mean over batch): 0.0428\n",
      "Batch 45 | Reject Differential (mean over batch): 0.0414\n"
     ]
    },
    {
     "name": "stderr",
     "output_type": "stream",
     "text": [
      " 15%|████████████▍                                                                        | 46/313 [00:19<01:53,  2.34it/s]"
     ]
    },
    {
     "name": "stdout",
     "output_type": "stream",
     "text": [
      "Batch 45 | Reject Differential (mean over batch): 0.0412\n",
      "Batch 46 | Reject Differential (mean over batch): 0.0389\n",
      "Batch 46 | Reject Differential (mean over batch): 0.0408\n"
     ]
    },
    {
     "name": "stderr",
     "output_type": "stream",
     "text": [
      " 15%|████████████▊                                                                        | 47/313 [00:20<01:52,  2.36it/s]"
     ]
    },
    {
     "name": "stdout",
     "output_type": "stream",
     "text": [
      "Batch 46 | Reject Differential (mean over batch): 0.0358\n",
      "Batch 47 | Reject Differential (mean over batch): 0.0485\n",
      "Batch 47 | Reject Differential (mean over batch): 0.0522\n"
     ]
    },
    {
     "name": "stderr",
     "output_type": "stream",
     "text": [
      " 15%|█████████████                                                                        | 48/313 [00:20<01:51,  2.38it/s]"
     ]
    },
    {
     "name": "stdout",
     "output_type": "stream",
     "text": [
      "Batch 47 | Reject Differential (mean over batch): 0.0514\n"
     ]
    },
    {
     "name": "stderr",
     "output_type": "stream",
     "text": [
      " 16%|█████████████▎                                                                       | 49/313 [00:21<01:49,  2.40it/s]"
     ]
    },
    {
     "name": "stdout",
     "output_type": "stream",
     "text": [
      "Batch 48 | Reject Differential (mean over batch): 0.0410\n",
      "Batch 48 | Reject Differential (mean over batch): 0.0407\n",
      "Batch 48 | Reject Differential (mean over batch): 0.0363\n"
     ]
    },
    {
     "name": "stderr",
     "output_type": "stream",
     "text": [
      " 16%|█████████████▌                                                                       | 50/313 [00:21<01:48,  2.43it/s]"
     ]
    },
    {
     "name": "stdout",
     "output_type": "stream",
     "text": [
      "Batch 49 | Reject Differential (mean over batch): 0.0438\n",
      "Batch 49 | Reject Differential (mean over batch): 0.0447\n",
      "Batch 49 | Reject Differential (mean over batch): 0.0464\n"
     ]
    },
    {
     "name": "stderr",
     "output_type": "stream",
     "text": [
      " 16%|█████████████▊                                                                       | 51/313 [00:21<01:47,  2.45it/s]"
     ]
    },
    {
     "name": "stdout",
     "output_type": "stream",
     "text": [
      "Batch 50 | Reject Differential (mean over batch): 0.0270\n",
      "Batch 50 | Reject Differential (mean over batch): 0.0345\n",
      "Batch 50 | Reject Differential (mean over batch): 0.0382\n",
      "Batch 51 | Reject Differential (mean over batch): 0.0421\n",
      "Batch 51 | Reject Differential (mean over batch): 0.0430\n"
     ]
    },
    {
     "name": "stderr",
     "output_type": "stream",
     "text": [
      " 17%|██████████████                                                                       | 52/313 [00:22<01:48,  2.40it/s]"
     ]
    },
    {
     "name": "stdout",
     "output_type": "stream",
     "text": [
      "Batch 51 | Reject Differential (mean over batch): 0.0387\n"
     ]
    },
    {
     "name": "stderr",
     "output_type": "stream",
     "text": [
      " 17%|██████████████▍                                                                      | 53/313 [00:22<01:47,  2.42it/s]"
     ]
    },
    {
     "name": "stdout",
     "output_type": "stream",
     "text": [
      "Batch 52 | Reject Differential (mean over batch): 0.0400\n",
      "Batch 52 | Reject Differential (mean over batch): 0.0471\n",
      "Batch 52 | Reject Differential (mean over batch): 0.0518\n"
     ]
    },
    {
     "name": "stderr",
     "output_type": "stream",
     "text": [
      " 17%|██████████████▋                                                                      | 54/313 [00:23<01:47,  2.41it/s]"
     ]
    },
    {
     "name": "stdout",
     "output_type": "stream",
     "text": [
      "Batch 53 | Reject Differential (mean over batch): 0.0510\n",
      "Batch 53 | Reject Differential (mean over batch): 0.0492\n",
      "Batch 53 | Reject Differential (mean over batch): 0.0440\n",
      "Batch 54 | Reject Differential (mean over batch): 0.0345\n",
      "Batch 54 | Reject Differential (mean over batch): 0.0388\n"
     ]
    },
    {
     "name": "stderr",
     "output_type": "stream",
     "text": [
      " 18%|██████████████▉                                                                      | 55/313 [00:23<01:48,  2.38it/s]"
     ]
    },
    {
     "name": "stdout",
     "output_type": "stream",
     "text": [
      "Batch 54 | Reject Differential (mean over batch): 0.0391\n",
      "Batch 55 | Reject Differential (mean over batch): 0.0501\n",
      "Batch 55 | Reject Differential (mean over batch): 0.0480\n"
     ]
    },
    {
     "name": "stderr",
     "output_type": "stream",
     "text": [
      " 18%|███████████████▏                                                                     | 56/313 [00:24<01:48,  2.37it/s]"
     ]
    },
    {
     "name": "stdout",
     "output_type": "stream",
     "text": [
      "Batch 55 | Reject Differential (mean over batch): 0.0469\n"
     ]
    },
    {
     "name": "stderr",
     "output_type": "stream",
     "text": [
      " 18%|███████████████▍                                                                     | 57/313 [00:24<01:46,  2.40it/s]"
     ]
    },
    {
     "name": "stdout",
     "output_type": "stream",
     "text": [
      "Batch 56 | Reject Differential (mean over batch): 0.0312\n",
      "Batch 56 | Reject Differential (mean over batch): 0.0456\n",
      "Batch 56 | Reject Differential (mean over batch): 0.0377\n",
      "Batch 57 | Reject Differential (mean over batch): 0.0338\n",
      "Batch 57 | Reject Differential (mean over batch): 0.0383\n"
     ]
    },
    {
     "name": "stderr",
     "output_type": "stream",
     "text": [
      " 19%|███████████████▊                                                                     | 58/313 [00:24<01:49,  2.33it/s]"
     ]
    },
    {
     "name": "stdout",
     "output_type": "stream",
     "text": [
      "Batch 57 | Reject Differential (mean over batch): 0.0317\n"
     ]
    },
    {
     "name": "stderr",
     "output_type": "stream",
     "text": [
      " 19%|████████████████                                                                     | 59/313 [00:25<01:47,  2.37it/s]"
     ]
    },
    {
     "name": "stdout",
     "output_type": "stream",
     "text": [
      "Batch 58 | Reject Differential (mean over batch): 0.0471\n",
      "Batch 58 | Reject Differential (mean over batch): 0.0452\n",
      "Batch 58 | Reject Differential (mean over batch): 0.0449\n"
     ]
    },
    {
     "name": "stderr",
     "output_type": "stream",
     "text": [
      " 19%|████████████████▎                                                                    | 60/313 [00:25<01:45,  2.40it/s]"
     ]
    },
    {
     "name": "stdout",
     "output_type": "stream",
     "text": [
      "Batch 59 | Reject Differential (mean over batch): 0.0466\n",
      "Batch 59 | Reject Differential (mean over batch): 0.0467\n",
      "Batch 59 | Reject Differential (mean over batch): 0.0389\n"
     ]
    },
    {
     "name": "stderr",
     "output_type": "stream",
     "text": [
      " 19%|████████████████▌                                                                    | 61/313 [00:26<01:44,  2.42it/s]"
     ]
    },
    {
     "name": "stdout",
     "output_type": "stream",
     "text": [
      "Batch 60 | Reject Differential (mean over batch): 0.0459\n",
      "Batch 60 | Reject Differential (mean over batch): 0.0499\n",
      "Batch 60 | Reject Differential (mean over batch): 0.0530\n",
      "Batch 61 | Reject Differential (mean over batch): 0.0441\n",
      "Batch 61 | Reject Differential (mean over batch): 0.0399\n"
     ]
    },
    {
     "name": "stderr",
     "output_type": "stream",
     "text": [
      " 20%|████████████████▊                                                                    | 62/313 [00:26<01:44,  2.41it/s]"
     ]
    },
    {
     "name": "stdout",
     "output_type": "stream",
     "text": [
      "Batch 61 | Reject Differential (mean over batch): 0.0466\n"
     ]
    },
    {
     "name": "stderr",
     "output_type": "stream",
     "text": [
      " 20%|█████████████████                                                                    | 63/313 [00:26<01:43,  2.42it/s]"
     ]
    },
    {
     "name": "stdout",
     "output_type": "stream",
     "text": [
      "Batch 62 | Reject Differential (mean over batch): 0.0337\n",
      "Batch 62 | Reject Differential (mean over batch): 0.0345\n",
      "Batch 62 | Reject Differential (mean over batch): 0.0349\n",
      "Batch 63 | Reject Differential (mean over batch): 0.0419\n",
      "Batch 63 | Reject Differential (mean over batch): 0.0404\n"
     ]
    },
    {
     "name": "stderr",
     "output_type": "stream",
     "text": [
      " 20%|█████████████████▍                                                                   | 64/313 [00:27<01:43,  2.40it/s]"
     ]
    },
    {
     "name": "stdout",
     "output_type": "stream",
     "text": [
      "Batch 63 | Reject Differential (mean over batch): 0.0430\n",
      "Batch 64 | Reject Differential (mean over batch): 0.0606\n",
      "Batch 64 | Reject Differential (mean over batch): 0.0482\n"
     ]
    },
    {
     "name": "stderr",
     "output_type": "stream",
     "text": [
      " 21%|█████████████████▋                                                                   | 65/313 [00:27<01:44,  2.38it/s]"
     ]
    },
    {
     "name": "stdout",
     "output_type": "stream",
     "text": [
      "Batch 64 | Reject Differential (mean over batch): 0.0488\n",
      "Batch 65 | Reject Differential (mean over batch): 0.0593\n",
      "Batch 65 | Reject Differential (mean over batch): 0.0757\n"
     ]
    },
    {
     "name": "stderr",
     "output_type": "stream",
     "text": [
      " 21%|█████████████████▉                                                                   | 66/313 [00:28<01:43,  2.38it/s]"
     ]
    },
    {
     "name": "stdout",
     "output_type": "stream",
     "text": [
      "Batch 65 | Reject Differential (mean over batch): 0.0536\n"
     ]
    },
    {
     "name": "stderr",
     "output_type": "stream",
     "text": [
      " 21%|██████████████████▏                                                                  | 67/313 [00:28<01:42,  2.40it/s]"
     ]
    },
    {
     "name": "stdout",
     "output_type": "stream",
     "text": [
      "Batch 66 | Reject Differential (mean over batch): 0.0379\n",
      "Batch 66 | Reject Differential (mean over batch): 0.0378\n",
      "Batch 66 | Reject Differential (mean over batch): 0.0400\n"
     ]
    },
    {
     "name": "stderr",
     "output_type": "stream",
     "text": [
      " 22%|██████████████████▍                                                                  | 68/313 [00:29<01:41,  2.42it/s]"
     ]
    },
    {
     "name": "stdout",
     "output_type": "stream",
     "text": [
      "Batch 67 | Reject Differential (mean over batch): 0.0578\n",
      "Batch 67 | Reject Differential (mean over batch): 0.0497\n",
      "Batch 67 | Reject Differential (mean over batch): 0.0484\n"
     ]
    },
    {
     "name": "stderr",
     "output_type": "stream",
     "text": [
      " 22%|██████████████████▋                                                                  | 69/313 [00:29<01:40,  2.43it/s]"
     ]
    },
    {
     "name": "stdout",
     "output_type": "stream",
     "text": [
      "Batch 68 | Reject Differential (mean over batch): 0.0466\n",
      "Batch 68 | Reject Differential (mean over batch): 0.0429\n",
      "Batch 68 | Reject Differential (mean over batch): 0.0412\n",
      "Batch 69 | Reject Differential (mean over batch): 0.0335\n",
      "Batch 69 | Reject Differential (mean over batch): 0.0419\n"
     ]
    },
    {
     "name": "stderr",
     "output_type": "stream",
     "text": [
      " 22%|███████████████████                                                                  | 70/313 [00:29<01:41,  2.40it/s]"
     ]
    },
    {
     "name": "stdout",
     "output_type": "stream",
     "text": [
      "Batch 69 | Reject Differential (mean over batch): 0.0435\n"
     ]
    },
    {
     "name": "stderr",
     "output_type": "stream",
     "text": [
      " 23%|███████████████████▎                                                                 | 71/313 [00:30<01:40,  2.41it/s]"
     ]
    },
    {
     "name": "stdout",
     "output_type": "stream",
     "text": [
      "Batch 70 | Reject Differential (mean over batch): 0.0437\n",
      "Batch 70 | Reject Differential (mean over batch): 0.0444\n",
      "Batch 70 | Reject Differential (mean over batch): 0.0417\n",
      "Batch 71 | Reject Differential (mean over batch): 0.0366\n",
      "Batch 71 | Reject Differential (mean over batch): 0.0319\n"
     ]
    },
    {
     "name": "stderr",
     "output_type": "stream",
     "text": [
      " 23%|███████████████████▌                                                                 | 72/313 [00:30<01:40,  2.40it/s]"
     ]
    },
    {
     "name": "stdout",
     "output_type": "stream",
     "text": [
      "Batch 71 | Reject Differential (mean over batch): 0.0293\n",
      "Batch 72 | Reject Differential (mean over batch): 0.0435\n",
      "Batch 72 | Reject Differential (mean over batch): 0.0501\n"
     ]
    },
    {
     "name": "stderr",
     "output_type": "stream",
     "text": [
      " 23%|███████████████████▊                                                                 | 73/313 [00:31<01:40,  2.40it/s]"
     ]
    },
    {
     "name": "stdout",
     "output_type": "stream",
     "text": [
      "Batch 72 | Reject Differential (mean over batch): 0.0359\n",
      "Batch 73 | Reject Differential (mean over batch): 0.0387\n",
      "Batch 73 | Reject Differential (mean over batch): 0.0585\n"
     ]
    },
    {
     "name": "stderr",
     "output_type": "stream",
     "text": [
      " 24%|████████████████████                                                                 | 74/313 [00:31<01:40,  2.38it/s]"
     ]
    },
    {
     "name": "stdout",
     "output_type": "stream",
     "text": [
      "Batch 73 | Reject Differential (mean over batch): 0.0447\n"
     ]
    },
    {
     "name": "stderr",
     "output_type": "stream",
     "text": [
      " 24%|████████████████████▎                                                                | 75/313 [00:31<01:39,  2.40it/s]"
     ]
    },
    {
     "name": "stdout",
     "output_type": "stream",
     "text": [
      "Batch 74 | Reject Differential (mean over batch): 0.0409\n",
      "Batch 74 | Reject Differential (mean over batch): 0.0529\n",
      "Batch 74 | Reject Differential (mean over batch): 0.0486\n"
     ]
    },
    {
     "name": "stderr",
     "output_type": "stream",
     "text": [
      " 24%|████████████████████▋                                                                | 76/313 [00:32<01:39,  2.39it/s]"
     ]
    },
    {
     "name": "stdout",
     "output_type": "stream",
     "text": [
      "Batch 75 | Reject Differential (mean over batch): 0.0476\n",
      "Batch 75 | Reject Differential (mean over batch): 0.0501\n",
      "Batch 75 | Reject Differential (mean over batch): 0.0487\n"
     ]
    },
    {
     "name": "stderr",
     "output_type": "stream",
     "text": [
      " 25%|████████████████████▉                                                                | 77/313 [00:32<01:37,  2.41it/s]"
     ]
    },
    {
     "name": "stdout",
     "output_type": "stream",
     "text": [
      "Batch 76 | Reject Differential (mean over batch): 0.0448\n",
      "Batch 76 | Reject Differential (mean over batch): 0.0513\n",
      "Batch 76 | Reject Differential (mean over batch): 0.0457\n"
     ]
    },
    {
     "name": "stderr",
     "output_type": "stream",
     "text": [
      " 25%|█████████████████████▏                                                               | 78/313 [00:33<01:37,  2.40it/s]"
     ]
    },
    {
     "name": "stdout",
     "output_type": "stream",
     "text": [
      "Batch 77 | Reject Differential (mean over batch): 0.0412\n",
      "Batch 77 | Reject Differential (mean over batch): 0.0385\n",
      "Batch 77 | Reject Differential (mean over batch): 0.0396\n"
     ]
    },
    {
     "name": "stderr",
     "output_type": "stream",
     "text": [
      " 25%|█████████████████████▍                                                               | 79/313 [00:33<01:36,  2.43it/s]"
     ]
    },
    {
     "name": "stdout",
     "output_type": "stream",
     "text": [
      "Batch 78 | Reject Differential (mean over batch): 0.0456\n",
      "Batch 78 | Reject Differential (mean over batch): 0.0588\n",
      "Batch 78 | Reject Differential (mean over batch): 0.0473\n"
     ]
    },
    {
     "name": "stderr",
     "output_type": "stream",
     "text": [
      " 26%|█████████████████████▋                                                               | 80/313 [00:33<01:35,  2.45it/s]"
     ]
    },
    {
     "name": "stdout",
     "output_type": "stream",
     "text": [
      "Batch 79 | Reject Differential (mean over batch): 0.0403\n",
      "Batch 79 | Reject Differential (mean over batch): 0.0421\n",
      "Batch 79 | Reject Differential (mean over batch): 0.0377\n"
     ]
    },
    {
     "name": "stderr",
     "output_type": "stream",
     "text": [
      " 26%|█████████████████████▉                                                               | 81/313 [00:34<01:34,  2.47it/s]"
     ]
    },
    {
     "name": "stdout",
     "output_type": "stream",
     "text": [
      "Batch 80 | Reject Differential (mean over batch): 0.0315\n",
      "Batch 80 | Reject Differential (mean over batch): 0.0416\n",
      "Batch 80 | Reject Differential (mean over batch): 0.0422\n"
     ]
    },
    {
     "name": "stderr",
     "output_type": "stream",
     "text": [
      " 26%|██████████████████████▎                                                              | 82/313 [00:34<01:33,  2.47it/s]"
     ]
    },
    {
     "name": "stdout",
     "output_type": "stream",
     "text": [
      "Batch 81 | Reject Differential (mean over batch): 0.0535\n",
      "Batch 81 | Reject Differential (mean over batch): 0.0508\n",
      "Batch 81 | Reject Differential (mean over batch): 0.0510\n"
     ]
    },
    {
     "name": "stderr",
     "output_type": "stream",
     "text": [
      " 27%|██████████████████████▌                                                              | 83/313 [00:35<01:32,  2.47it/s]"
     ]
    },
    {
     "name": "stdout",
     "output_type": "stream",
     "text": [
      "Batch 82 | Reject Differential (mean over batch): 0.0464\n",
      "Batch 82 | Reject Differential (mean over batch): 0.0575\n",
      "Batch 82 | Reject Differential (mean over batch): 0.0463\n"
     ]
    },
    {
     "name": "stderr",
     "output_type": "stream",
     "text": [
      " 27%|██████████████████████▊                                                              | 84/313 [00:35<01:32,  2.49it/s]"
     ]
    },
    {
     "name": "stdout",
     "output_type": "stream",
     "text": [
      "Batch 83 | Reject Differential (mean over batch): 0.0433\n",
      "Batch 83 | Reject Differential (mean over batch): 0.0433\n",
      "Batch 83 | Reject Differential (mean over batch): 0.0345\n",
      "Batch 84 | Reject Differential (mean over batch): 0.0440\n",
      "Batch 84 | Reject Differential (mean over batch): 0.0484\n"
     ]
    },
    {
     "name": "stderr",
     "output_type": "stream",
     "text": [
      " 27%|███████████████████████                                                              | 85/313 [00:36<01:34,  2.41it/s]"
     ]
    },
    {
     "name": "stdout",
     "output_type": "stream",
     "text": [
      "Batch 84 | Reject Differential (mean over batch): 0.0457\n",
      "Batch 85 | Reject Differential (mean over batch): 0.0451\n",
      "Batch 85 | Reject Differential (mean over batch): 0.0458\n"
     ]
    },
    {
     "name": "stderr",
     "output_type": "stream",
     "text": [
      " 27%|███████████████████████▎                                                             | 86/313 [00:36<01:34,  2.41it/s]"
     ]
    },
    {
     "name": "stdout",
     "output_type": "stream",
     "text": [
      "Batch 85 | Reject Differential (mean over batch): 0.0505\n"
     ]
    },
    {
     "name": "stderr",
     "output_type": "stream",
     "text": [
      " 28%|███████████████████████▋                                                             | 87/313 [00:36<01:33,  2.41it/s]"
     ]
    },
    {
     "name": "stdout",
     "output_type": "stream",
     "text": [
      "Batch 86 | Reject Differential (mean over batch): 0.0518\n",
      "Batch 86 | Reject Differential (mean over batch): 0.0466\n",
      "Batch 86 | Reject Differential (mean over batch): 0.0428\n",
      "Batch 87 | Reject Differential (mean over batch): 0.0450\n",
      "Batch 87 | Reject Differential (mean over batch): 0.0490\n"
     ]
    },
    {
     "name": "stderr",
     "output_type": "stream",
     "text": [
      " 28%|███████████████████████▉                                                             | 88/313 [00:37<01:34,  2.38it/s]"
     ]
    },
    {
     "name": "stdout",
     "output_type": "stream",
     "text": [
      "Batch 87 | Reject Differential (mean over batch): 0.0443\n",
      "Batch 88 | Reject Differential (mean over batch): 0.0624\n",
      "Batch 88 | Reject Differential (mean over batch): 0.0581\n"
     ]
    },
    {
     "name": "stderr",
     "output_type": "stream",
     "text": [
      " 28%|████████████████████████▏                                                            | 89/313 [00:37<01:35,  2.35it/s]"
     ]
    },
    {
     "name": "stdout",
     "output_type": "stream",
     "text": [
      "Batch 88 | Reject Differential (mean over batch): 0.0465\n",
      "Batch 89 | Reject Differential (mean over batch): 0.0488\n",
      "Batch 89 | Reject Differential (mean over batch): 0.0478\n"
     ]
    },
    {
     "name": "stderr",
     "output_type": "stream",
     "text": [
      " 29%|████████████████████████▍                                                            | 90/313 [00:38<01:35,  2.34it/s]"
     ]
    },
    {
     "name": "stdout",
     "output_type": "stream",
     "text": [
      "Batch 89 | Reject Differential (mean over batch): 0.0569\n",
      "Batch 90 | Reject Differential (mean over batch): 0.0464\n",
      "Batch 90 | Reject Differential (mean over batch): 0.0478\n"
     ]
    },
    {
     "name": "stderr",
     "output_type": "stream",
     "text": [
      " 29%|████████████████████████▋                                                            | 91/313 [00:38<01:34,  2.34it/s]"
     ]
    },
    {
     "name": "stdout",
     "output_type": "stream",
     "text": [
      "Batch 90 | Reject Differential (mean over batch): 0.0507\n",
      "Batch 91 | Reject Differential (mean over batch): 0.0509\n",
      "Batch 91 | Reject Differential (mean over batch): 0.0500\n"
     ]
    },
    {
     "name": "stderr",
     "output_type": "stream",
     "text": [
      " 29%|████████████████████████▉                                                            | 92/313 [00:39<01:34,  2.34it/s]"
     ]
    },
    {
     "name": "stdout",
     "output_type": "stream",
     "text": [
      "Batch 91 | Reject Differential (mean over batch): 0.0410\n",
      "Batch 92 | Reject Differential (mean over batch): 0.0372\n",
      "Batch 92 | Reject Differential (mean over batch): 0.0483\n"
     ]
    },
    {
     "name": "stderr",
     "output_type": "stream",
     "text": [
      " 30%|█████████████████████████▎                                                           | 93/313 [00:39<01:33,  2.36it/s]"
     ]
    },
    {
     "name": "stdout",
     "output_type": "stream",
     "text": [
      "Batch 92 | Reject Differential (mean over batch): 0.0440\n",
      "Batch 93 | Reject Differential (mean over batch): 0.0427\n",
      "Batch 93 | Reject Differential (mean over batch): 0.0487\n"
     ]
    },
    {
     "name": "stderr",
     "output_type": "stream",
     "text": [
      " 30%|█████████████████████████▌                                                           | 94/313 [00:39<01:33,  2.35it/s]"
     ]
    },
    {
     "name": "stdout",
     "output_type": "stream",
     "text": [
      "Batch 93 | Reject Differential (mean over batch): 0.0469\n",
      "Batch 94 | Reject Differential (mean over batch): 0.0443\n",
      "Batch 94 | Reject Differential (mean over batch): 0.0439\n"
     ]
    },
    {
     "name": "stderr",
     "output_type": "stream",
     "text": [
      " 30%|█████████████████████████▊                                                           | 95/313 [00:40<01:33,  2.34it/s]"
     ]
    },
    {
     "name": "stdout",
     "output_type": "stream",
     "text": [
      "Batch 94 | Reject Differential (mean over batch): 0.0330\n"
     ]
    },
    {
     "name": "stderr",
     "output_type": "stream",
     "text": [
      " 31%|██████████████████████████                                                           | 96/313 [00:40<01:31,  2.37it/s]"
     ]
    },
    {
     "name": "stdout",
     "output_type": "stream",
     "text": [
      "Batch 95 | Reject Differential (mean over batch): 0.0461\n",
      "Batch 95 | Reject Differential (mean over batch): 0.0453\n",
      "Batch 95 | Reject Differential (mean over batch): 0.0487\n"
     ]
    },
    {
     "name": "stderr",
     "output_type": "stream",
     "text": [
      " 31%|██████████████████████████▎                                                          | 97/313 [00:41<01:31,  2.37it/s]"
     ]
    },
    {
     "name": "stdout",
     "output_type": "stream",
     "text": [
      "Batch 96 | Reject Differential (mean over batch): 0.0400\n",
      "Batch 96 | Reject Differential (mean over batch): 0.0469\n",
      "Batch 96 | Reject Differential (mean over batch): 0.0443\n"
     ]
    },
    {
     "name": "stderr",
     "output_type": "stream",
     "text": [
      " 31%|██████████████████████████▌                                                          | 98/313 [00:41<01:29,  2.39it/s]"
     ]
    },
    {
     "name": "stdout",
     "output_type": "stream",
     "text": [
      "Batch 97 | Reject Differential (mean over batch): 0.0534\n",
      "Batch 97 | Reject Differential (mean over batch): 0.0637\n",
      "Batch 97 | Reject Differential (mean over batch): 0.0547\n",
      "Batch 98 | Reject Differential (mean over batch): 0.0313\n",
      "Batch 98 | Reject Differential (mean over batch): 0.0414\n"
     ]
    },
    {
     "name": "stderr",
     "output_type": "stream",
     "text": [
      " 32%|██████████████████████████▉                                                          | 99/313 [00:41<01:29,  2.39it/s]"
     ]
    },
    {
     "name": "stdout",
     "output_type": "stream",
     "text": [
      "Batch 98 | Reject Differential (mean over batch): 0.0372\n",
      "Batch 99 | Reject Differential (mean over batch): 0.0543\n",
      "Batch 99 | Reject Differential (mean over batch): 0.0545\n"
     ]
    },
    {
     "name": "stderr",
     "output_type": "stream",
     "text": [
      " 32%|██████████████████████████▊                                                         | 100/313 [00:42<01:30,  2.35it/s]"
     ]
    },
    {
     "name": "stdout",
     "output_type": "stream",
     "text": [
      "Batch 99 | Reject Differential (mean over batch): 0.0454\n"
     ]
    },
    {
     "name": "stderr",
     "output_type": "stream",
     "text": [
      " 32%|███████████████████████████                                                         | 101/313 [00:42<01:28,  2.38it/s]"
     ]
    },
    {
     "name": "stdout",
     "output_type": "stream",
     "text": [
      "Batch 100 | Reject Differential (mean over batch): 0.0527\n",
      "Batch 100 | Reject Differential (mean over batch): 0.0525\n",
      "Batch 100 | Reject Differential (mean over batch): 0.0418\n"
     ]
    },
    {
     "name": "stderr",
     "output_type": "stream",
     "text": [
      " 33%|███████████████████████████▎                                                        | 102/313 [00:43<01:29,  2.36it/s]"
     ]
    },
    {
     "name": "stdout",
     "output_type": "stream",
     "text": [
      "Batch 101 | Reject Differential (mean over batch): 0.0404\n",
      "Batch 101 | Reject Differential (mean over batch): 0.0528\n",
      "Batch 101 | Reject Differential (mean over batch): 0.0377\n"
     ]
    },
    {
     "name": "stderr",
     "output_type": "stream",
     "text": [
      " 33%|███████████████████████████▋                                                        | 103/313 [00:43<01:27,  2.39it/s]"
     ]
    },
    {
     "name": "stdout",
     "output_type": "stream",
     "text": [
      "Batch 102 | Reject Differential (mean over batch): 0.0453\n",
      "Batch 102 | Reject Differential (mean over batch): 0.0441\n",
      "Batch 102 | Reject Differential (mean over batch): 0.0341\n"
     ]
    },
    {
     "name": "stderr",
     "output_type": "stream",
     "text": [
      " 33%|███████████████████████████▉                                                        | 104/313 [00:44<01:26,  2.42it/s]"
     ]
    },
    {
     "name": "stdout",
     "output_type": "stream",
     "text": [
      "Batch 103 | Reject Differential (mean over batch): 0.0464\n",
      "Batch 103 | Reject Differential (mean over batch): 0.0400\n",
      "Batch 103 | Reject Differential (mean over batch): 0.0441\n"
     ]
    },
    {
     "name": "stderr",
     "output_type": "stream",
     "text": [
      " 34%|████████████████████████████▏                                                       | 105/313 [00:44<01:26,  2.42it/s]"
     ]
    },
    {
     "name": "stdout",
     "output_type": "stream",
     "text": [
      "Batch 104 | Reject Differential (mean over batch): 0.0654\n",
      "Batch 104 | Reject Differential (mean over batch): 0.0634\n",
      "Batch 104 | Reject Differential (mean over batch): 0.0534\n",
      "Batch 105 | Reject Differential (mean over batch): 0.0497\n",
      "Batch 105 | Reject Differential (mean over batch): 0.0478\n"
     ]
    },
    {
     "name": "stderr",
     "output_type": "stream",
     "text": [
      " 34%|████████████████████████████▍                                                       | 106/313 [00:44<01:25,  2.41it/s]"
     ]
    },
    {
     "name": "stdout",
     "output_type": "stream",
     "text": [
      "Batch 105 | Reject Differential (mean over batch): 0.0439\n",
      "Batch 106 | Reject Differential (mean over batch): 0.0385\n",
      "Batch 106 | Reject Differential (mean over batch): 0.0406\n"
     ]
    },
    {
     "name": "stderr",
     "output_type": "stream",
     "text": [
      " 34%|████████████████████████████▋                                                       | 107/313 [00:45<01:25,  2.40it/s]"
     ]
    },
    {
     "name": "stdout",
     "output_type": "stream",
     "text": [
      "Batch 106 | Reject Differential (mean over batch): 0.0359\n",
      "Batch 107 | Reject Differential (mean over batch): 0.0395\n",
      "Batch 107 | Reject Differential (mean over batch): 0.0523\n"
     ]
    },
    {
     "name": "stderr",
     "output_type": "stream",
     "text": [
      " 35%|████████████████████████████▉                                                       | 108/313 [00:45<01:27,  2.35it/s]"
     ]
    },
    {
     "name": "stdout",
     "output_type": "stream",
     "text": [
      "Batch 107 | Reject Differential (mean over batch): 0.0374\n"
     ]
    },
    {
     "name": "stderr",
     "output_type": "stream",
     "text": [
      " 35%|█████████████████████████████▎                                                      | 109/313 [00:46<01:25,  2.39it/s]"
     ]
    },
    {
     "name": "stdout",
     "output_type": "stream",
     "text": [
      "Batch 108 | Reject Differential (mean over batch): 0.0418\n",
      "Batch 108 | Reject Differential (mean over batch): 0.0436\n",
      "Batch 108 | Reject Differential (mean over batch): 0.0437\n"
     ]
    },
    {
     "name": "stderr",
     "output_type": "stream",
     "text": [
      " 35%|█████████████████████████████▌                                                      | 110/313 [00:46<01:23,  2.42it/s]"
     ]
    },
    {
     "name": "stdout",
     "output_type": "stream",
     "text": [
      "Batch 109 | Reject Differential (mean over batch): 0.0441\n",
      "Batch 109 | Reject Differential (mean over batch): 0.0446\n",
      "Batch 109 | Reject Differential (mean over batch): 0.0405\n"
     ]
    },
    {
     "name": "stderr",
     "output_type": "stream",
     "text": [
      " 35%|█████████████████████████████▊                                                      | 111/313 [00:46<01:22,  2.44it/s]"
     ]
    },
    {
     "name": "stdout",
     "output_type": "stream",
     "text": [
      "Batch 110 | Reject Differential (mean over batch): 0.0490\n",
      "Batch 110 | Reject Differential (mean over batch): 0.0509\n",
      "Batch 110 | Reject Differential (mean over batch): 0.0579\n",
      "Batch 111 | Reject Differential (mean over batch): 0.0471\n",
      "Batch 111 | Reject Differential (mean over batch): 0.0437\n"
     ]
    },
    {
     "name": "stderr",
     "output_type": "stream",
     "text": [
      " 36%|██████████████████████████████                                                      | 112/313 [00:47<01:22,  2.44it/s]"
     ]
    },
    {
     "name": "stdout",
     "output_type": "stream",
     "text": [
      "Batch 111 | Reject Differential (mean over batch): 0.0389\n"
     ]
    },
    {
     "name": "stderr",
     "output_type": "stream",
     "text": [
      " 36%|██████████████████████████████▎                                                     | 113/313 [00:47<01:23,  2.40it/s]"
     ]
    },
    {
     "name": "stdout",
     "output_type": "stream",
     "text": [
      "Batch 112 | Reject Differential (mean over batch): 0.0368\n",
      "Batch 112 | Reject Differential (mean over batch): 0.0478\n",
      "Batch 112 | Reject Differential (mean over batch): 0.0448\n",
      "Batch 113 | Reject Differential (mean over batch): 0.0377\n",
      "Batch 113 | Reject Differential (mean over batch): 0.0467\n"
     ]
    },
    {
     "name": "stderr",
     "output_type": "stream",
     "text": [
      " 36%|██████████████████████████████▌                                                     | 114/313 [00:48<01:24,  2.36it/s]"
     ]
    },
    {
     "name": "stdout",
     "output_type": "stream",
     "text": [
      "Batch 113 | Reject Differential (mean over batch): 0.0383\n",
      "Batch 114 | Reject Differential (mean over batch): 0.0551\n",
      "Batch 114 | Reject Differential (mean over batch): 0.0578\n"
     ]
    },
    {
     "name": "stderr",
     "output_type": "stream",
     "text": [
      " 37%|██████████████████████████████▊                                                     | 115/313 [00:48<01:24,  2.35it/s]"
     ]
    },
    {
     "name": "stdout",
     "output_type": "stream",
     "text": [
      "Batch 114 | Reject Differential (mean over batch): 0.0419\n"
     ]
    },
    {
     "name": "stderr",
     "output_type": "stream",
     "text": [
      " 37%|███████████████████████████████▏                                                    | 116/313 [00:49<01:23,  2.36it/s]"
     ]
    },
    {
     "name": "stdout",
     "output_type": "stream",
     "text": [
      "Batch 115 | Reject Differential (mean over batch): 0.0371\n",
      "Batch 115 | Reject Differential (mean over batch): 0.0424\n",
      "Batch 115 | Reject Differential (mean over batch): 0.0390\n"
     ]
    },
    {
     "name": "stderr",
     "output_type": "stream",
     "text": [
      " 37%|███████████████████████████████▍                                                    | 117/313 [00:49<01:22,  2.38it/s]"
     ]
    },
    {
     "name": "stdout",
     "output_type": "stream",
     "text": [
      "Batch 116 | Reject Differential (mean over batch): 0.0495\n",
      "Batch 116 | Reject Differential (mean over batch): 0.0373\n",
      "Batch 116 | Reject Differential (mean over batch): 0.0383\n",
      "Batch 117 | Reject Differential (mean over batch): 0.0431\n",
      "Batch 117 | Reject Differential (mean over batch): 0.0370\n"
     ]
    },
    {
     "name": "stderr",
     "output_type": "stream",
     "text": [
      " 38%|███████████████████████████████▋                                                    | 118/313 [00:49<01:23,  2.33it/s]"
     ]
    },
    {
     "name": "stdout",
     "output_type": "stream",
     "text": [
      "Batch 117 | Reject Differential (mean over batch): 0.0372\n",
      "Batch 118 | Reject Differential (mean over batch): 0.0304\n",
      "Batch 118 | Reject Differential (mean over batch): 0.0290\n"
     ]
    },
    {
     "name": "stderr",
     "output_type": "stream",
     "text": [
      " 38%|███████████████████████████████▉                                                    | 119/313 [00:50<01:25,  2.28it/s]"
     ]
    },
    {
     "name": "stdout",
     "output_type": "stream",
     "text": [
      "Batch 118 | Reject Differential (mean over batch): 0.0387\n",
      "Batch 119 | Reject Differential (mean over batch): 0.0335\n",
      "Batch 119 | Reject Differential (mean over batch): 0.0338\n"
     ]
    },
    {
     "name": "stderr",
     "output_type": "stream",
     "text": [
      " 38%|████████████████████████████████▏                                                   | 120/313 [00:50<01:24,  2.28it/s]"
     ]
    },
    {
     "name": "stdout",
     "output_type": "stream",
     "text": [
      "Batch 119 | Reject Differential (mean over batch): 0.0403\n"
     ]
    },
    {
     "name": "stderr",
     "output_type": "stream",
     "text": [
      " 39%|████████████████████████████████▍                                                   | 121/313 [00:51<01:22,  2.32it/s]"
     ]
    },
    {
     "name": "stdout",
     "output_type": "stream",
     "text": [
      "Batch 120 | Reject Differential (mean over batch): 0.0421\n",
      "Batch 120 | Reject Differential (mean over batch): 0.0491\n",
      "Batch 120 | Reject Differential (mean over batch): 0.0464\n"
     ]
    },
    {
     "name": "stderr",
     "output_type": "stream",
     "text": [
      " 39%|████████████████████████████████▋                                                   | 122/313 [00:51<01:20,  2.37it/s]"
     ]
    },
    {
     "name": "stdout",
     "output_type": "stream",
     "text": [
      "Batch 121 | Reject Differential (mean over batch): 0.0412\n",
      "Batch 121 | Reject Differential (mean over batch): 0.0428\n",
      "Batch 121 | Reject Differential (mean over batch): 0.0358\n"
     ]
    },
    {
     "name": "stderr",
     "output_type": "stream",
     "text": [
      " 39%|█████████████████████████████████                                                   | 123/313 [00:52<01:19,  2.40it/s]"
     ]
    },
    {
     "name": "stdout",
     "output_type": "stream",
     "text": [
      "Batch 122 | Reject Differential (mean over batch): 0.0448\n",
      "Batch 122 | Reject Differential (mean over batch): 0.0513\n",
      "Batch 122 | Reject Differential (mean over batch): 0.0404\n",
      "Batch 123 | Reject Differential (mean over batch): 0.0517\n",
      "Batch 123 | Reject Differential (mean over batch): 0.0504\n"
     ]
    },
    {
     "name": "stderr",
     "output_type": "stream",
     "text": [
      " 40%|█████████████████████████████████▎                                                  | 124/313 [00:52<01:19,  2.38it/s]"
     ]
    },
    {
     "name": "stdout",
     "output_type": "stream",
     "text": [
      "Batch 123 | Reject Differential (mean over batch): 0.0491\n"
     ]
    },
    {
     "name": "stderr",
     "output_type": "stream",
     "text": [
      " 40%|█████████████████████████████████▌                                                  | 125/313 [00:52<01:17,  2.41it/s]"
     ]
    },
    {
     "name": "stdout",
     "output_type": "stream",
     "text": [
      "Batch 124 | Reject Differential (mean over batch): 0.0380\n",
      "Batch 124 | Reject Differential (mean over batch): 0.0413\n",
      "Batch 124 | Reject Differential (mean over batch): 0.0403\n"
     ]
    },
    {
     "name": "stderr",
     "output_type": "stream",
     "text": [
      " 40%|█████████████████████████████████▊                                                  | 126/313 [00:53<01:17,  2.43it/s]"
     ]
    },
    {
     "name": "stdout",
     "output_type": "stream",
     "text": [
      "Batch 125 | Reject Differential (mean over batch): 0.0341\n",
      "Batch 125 | Reject Differential (mean over batch): 0.0420\n",
      "Batch 125 | Reject Differential (mean over batch): 0.0406\n",
      "Batch 126 | Reject Differential (mean over batch): 0.0379\n",
      "Batch 126 | Reject Differential (mean over batch): 0.0464\n"
     ]
    },
    {
     "name": "stderr",
     "output_type": "stream",
     "text": [
      " 41%|██████████████████████████████████                                                  | 127/313 [00:53<01:18,  2.37it/s]"
     ]
    },
    {
     "name": "stdout",
     "output_type": "stream",
     "text": [
      "Batch 126 | Reject Differential (mean over batch): 0.0405\n",
      "Batch 127 | Reject Differential (mean over batch): 0.0273\n",
      "Batch 127 | Reject Differential (mean over batch): 0.0368\n"
     ]
    },
    {
     "name": "stderr",
     "output_type": "stream",
     "text": [
      " 41%|██████████████████████████████████▎                                                 | 128/313 [00:54<01:19,  2.33it/s]"
     ]
    },
    {
     "name": "stdout",
     "output_type": "stream",
     "text": [
      "Batch 127 | Reject Differential (mean over batch): 0.0334\n"
     ]
    },
    {
     "name": "stderr",
     "output_type": "stream",
     "text": [
      " 41%|██████████████████████████████████▌                                                 | 129/313 [00:54<01:17,  2.36it/s]"
     ]
    },
    {
     "name": "stdout",
     "output_type": "stream",
     "text": [
      "Batch 128 | Reject Differential (mean over batch): 0.0357\n",
      "Batch 128 | Reject Differential (mean over batch): 0.0377\n",
      "Batch 128 | Reject Differential (mean over batch): 0.0360\n",
      "Batch 129 | Reject Differential (mean over batch): 0.0432\n",
      "Batch 129 | Reject Differential (mean over batch): 0.0495\n"
     ]
    },
    {
     "name": "stderr",
     "output_type": "stream",
     "text": [
      " 42%|██████████████████████████████████▉                                                 | 130/313 [00:55<01:17,  2.35it/s]"
     ]
    },
    {
     "name": "stdout",
     "output_type": "stream",
     "text": [
      "Batch 129 | Reject Differential (mean over batch): 0.0381\n"
     ]
    },
    {
     "name": "stderr",
     "output_type": "stream",
     "text": [
      " 42%|███████████████████████████████████▏                                                | 131/313 [00:55<01:17,  2.36it/s]"
     ]
    },
    {
     "name": "stdout",
     "output_type": "stream",
     "text": [
      "Batch 130 | Reject Differential (mean over batch): 0.0382\n",
      "Batch 130 | Reject Differential (mean over batch): 0.0432\n",
      "Batch 130 | Reject Differential (mean over batch): 0.0428\n",
      "Batch 131 | Reject Differential (mean over batch): 0.0389\n",
      "Batch 131 | Reject Differential (mean over batch): 0.0366\n"
     ]
    },
    {
     "name": "stderr",
     "output_type": "stream",
     "text": [
      " 42%|███████████████████████████████████▍                                                | 132/313 [00:55<01:16,  2.36it/s]"
     ]
    },
    {
     "name": "stdout",
     "output_type": "stream",
     "text": [
      "Batch 131 | Reject Differential (mean over batch): 0.0406\n"
     ]
    },
    {
     "name": "stderr",
     "output_type": "stream",
     "text": [
      " 42%|███████████████████████████████████▋                                                | 133/313 [00:56<01:15,  2.39it/s]"
     ]
    },
    {
     "name": "stdout",
     "output_type": "stream",
     "text": [
      "Batch 132 | Reject Differential (mean over batch): 0.0387\n",
      "Batch 132 | Reject Differential (mean over batch): 0.0390\n",
      "Batch 132 | Reject Differential (mean over batch): 0.0400\n"
     ]
    },
    {
     "name": "stderr",
     "output_type": "stream",
     "text": [
      " 43%|███████████████████████████████████▉                                                | 134/313 [00:56<01:14,  2.40it/s]"
     ]
    },
    {
     "name": "stdout",
     "output_type": "stream",
     "text": [
      "Batch 133 | Reject Differential (mean over batch): 0.0433\n",
      "Batch 133 | Reject Differential (mean over batch): 0.0427\n",
      "Batch 133 | Reject Differential (mean over batch): 0.0475\n"
     ]
    },
    {
     "name": "stderr",
     "output_type": "stream",
     "text": [
      " 43%|████████████████████████████████████▏                                               | 135/313 [00:57<01:13,  2.43it/s]"
     ]
    },
    {
     "name": "stdout",
     "output_type": "stream",
     "text": [
      "Batch 134 | Reject Differential (mean over batch): 0.0415\n",
      "Batch 134 | Reject Differential (mean over batch): 0.0419\n",
      "Batch 134 | Reject Differential (mean over batch): 0.0499\n",
      "Batch 135 | Reject Differential (mean over batch): 0.0320\n",
      "Batch 135 | Reject Differential (mean over batch): 0.0522\n"
     ]
    },
    {
     "name": "stderr",
     "output_type": "stream",
     "text": [
      " 43%|████████████████████████████████████▍                                               | 136/313 [00:57<01:13,  2.40it/s]"
     ]
    },
    {
     "name": "stdout",
     "output_type": "stream",
     "text": [
      "Batch 135 | Reject Differential (mean over batch): 0.0467\n"
     ]
    },
    {
     "name": "stderr",
     "output_type": "stream",
     "text": [
      " 44%|████████████████████████████████████▊                                               | 137/313 [00:57<01:12,  2.41it/s]"
     ]
    },
    {
     "name": "stdout",
     "output_type": "stream",
     "text": [
      "Batch 136 | Reject Differential (mean over batch): 0.0539\n",
      "Batch 136 | Reject Differential (mean over batch): 0.0573\n",
      "Batch 136 | Reject Differential (mean over batch): 0.0547\n",
      "Batch 137 | Reject Differential (mean over batch): 0.0469\n",
      "Batch 137 | Reject Differential (mean over batch): 0.0443\n"
     ]
    },
    {
     "name": "stderr",
     "output_type": "stream",
     "text": [
      " 44%|█████████████████████████████████████                                               | 138/313 [00:58<01:14,  2.36it/s]"
     ]
    },
    {
     "name": "stdout",
     "output_type": "stream",
     "text": [
      "Batch 137 | Reject Differential (mean over batch): 0.0400\n"
     ]
    },
    {
     "name": "stderr",
     "output_type": "stream",
     "text": [
      " 44%|█████████████████████████████████████▎                                              | 139/313 [00:58<01:13,  2.37it/s]"
     ]
    },
    {
     "name": "stdout",
     "output_type": "stream",
     "text": [
      "Batch 138 | Reject Differential (mean over batch): 0.0469\n",
      "Batch 138 | Reject Differential (mean over batch): 0.0468\n",
      "Batch 138 | Reject Differential (mean over batch): 0.0451\n",
      "Batch 139 | Reject Differential (mean over batch): 0.0369\n",
      "Batch 139 | Reject Differential (mean over batch): 0.0391\n"
     ]
    },
    {
     "name": "stderr",
     "output_type": "stream",
     "text": [
      " 45%|█████████████████████████████████████▌                                              | 140/313 [00:59<01:13,  2.35it/s]"
     ]
    },
    {
     "name": "stdout",
     "output_type": "stream",
     "text": [
      "Batch 139 | Reject Differential (mean over batch): 0.0316\n"
     ]
    },
    {
     "name": "stderr",
     "output_type": "stream",
     "text": [
      " 45%|█████████████████████████████████████▊                                              | 141/313 [00:59<01:12,  2.37it/s]"
     ]
    },
    {
     "name": "stdout",
     "output_type": "stream",
     "text": [
      "Batch 140 | Reject Differential (mean over batch): 0.0398\n",
      "Batch 140 | Reject Differential (mean over batch): 0.0462\n",
      "Batch 140 | Reject Differential (mean over batch): 0.0418\n",
      "Batch 141 | Reject Differential (mean over batch): 0.0462\n",
      "Batch 141 | Reject Differential (mean over batch): 0.0398\n"
     ]
    },
    {
     "name": "stderr",
     "output_type": "stream",
     "text": [
      " 45%|██████████████████████████████████████                                              | 142/313 [01:00<01:11,  2.38it/s]"
     ]
    },
    {
     "name": "stdout",
     "output_type": "stream",
     "text": [
      "Batch 141 | Reject Differential (mean over batch): 0.0418\n",
      "Batch 142 | Reject Differential (mean over batch): 0.0489\n",
      "Batch 142 | Reject Differential (mean over batch): 0.0390\n"
     ]
    },
    {
     "name": "stderr",
     "output_type": "stream",
     "text": [
      " 46%|██████████████████████████████████████▍                                             | 143/313 [01:00<01:12,  2.36it/s]"
     ]
    },
    {
     "name": "stdout",
     "output_type": "stream",
     "text": [
      "Batch 142 | Reject Differential (mean over batch): 0.0468\n",
      "Batch 143 | Reject Differential (mean over batch): 0.0424\n",
      "Batch 143 | Reject Differential (mean over batch): 0.0424\n"
     ]
    },
    {
     "name": "stderr",
     "output_type": "stream",
     "text": [
      " 46%|██████████████████████████████████████▋                                             | 144/313 [01:00<01:11,  2.37it/s]"
     ]
    },
    {
     "name": "stdout",
     "output_type": "stream",
     "text": [
      "Batch 143 | Reject Differential (mean over batch): 0.0476\n",
      "Batch 144 | Reject Differential (mean over batch): 0.0428\n",
      "Batch 144 | Reject Differential (mean over batch): 0.0499\n"
     ]
    },
    {
     "name": "stderr",
     "output_type": "stream",
     "text": [
      " 46%|██████████████████████████████████████▉                                             | 145/313 [01:01<01:12,  2.33it/s]"
     ]
    },
    {
     "name": "stdout",
     "output_type": "stream",
     "text": [
      "Batch 144 | Reject Differential (mean over batch): 0.0402\n"
     ]
    },
    {
     "name": "stderr",
     "output_type": "stream",
     "text": [
      " 47%|███████████████████████████████████████▏                                            | 146/313 [01:01<01:10,  2.35it/s]"
     ]
    },
    {
     "name": "stdout",
     "output_type": "stream",
     "text": [
      "Batch 145 | Reject Differential (mean over batch): 0.0422\n",
      "Batch 145 | Reject Differential (mean over batch): 0.0539\n",
      "Batch 145 | Reject Differential (mean over batch): 0.0485\n"
     ]
    },
    {
     "name": "stderr",
     "output_type": "stream",
     "text": [
      " 47%|███████████████████████████████████████▍                                            | 147/313 [01:02<01:09,  2.39it/s]"
     ]
    },
    {
     "name": "stdout",
     "output_type": "stream",
     "text": [
      "Batch 146 | Reject Differential (mean over batch): 0.0390\n",
      "Batch 146 | Reject Differential (mean over batch): 0.0498\n",
      "Batch 146 | Reject Differential (mean over batch): 0.0405\n"
     ]
    },
    {
     "name": "stderr",
     "output_type": "stream",
     "text": [
      " 47%|███████████████████████████████████████▋                                            | 148/313 [01:02<01:08,  2.41it/s]"
     ]
    },
    {
     "name": "stdout",
     "output_type": "stream",
     "text": [
      "Batch 147 | Reject Differential (mean over batch): 0.0366\n",
      "Batch 147 | Reject Differential (mean over batch): 0.0427\n",
      "Batch 147 | Reject Differential (mean over batch): 0.0367\n"
     ]
    },
    {
     "name": "stderr",
     "output_type": "stream",
     "text": [
      " 48%|███████████████████████████████████████▉                                            | 149/313 [01:02<01:07,  2.43it/s]"
     ]
    },
    {
     "name": "stdout",
     "output_type": "stream",
     "text": [
      "Batch 148 | Reject Differential (mean over batch): 0.0408\n",
      "Batch 148 | Reject Differential (mean over batch): 0.0492\n",
      "Batch 148 | Reject Differential (mean over batch): 0.0368\n"
     ]
    },
    {
     "name": "stderr",
     "output_type": "stream",
     "text": [
      " 48%|████████████████████████████████████████▎                                           | 150/313 [01:03<01:07,  2.42it/s]"
     ]
    },
    {
     "name": "stdout",
     "output_type": "stream",
     "text": [
      "Batch 149 | Reject Differential (mean over batch): 0.0355\n",
      "Batch 149 | Reject Differential (mean over batch): 0.0371\n",
      "Batch 149 | Reject Differential (mean over batch): 0.0359\n"
     ]
    },
    {
     "name": "stderr",
     "output_type": "stream",
     "text": [
      " 48%|████████████████████████████████████████▌                                           | 151/313 [01:03<01:06,  2.43it/s]"
     ]
    },
    {
     "name": "stdout",
     "output_type": "stream",
     "text": [
      "Batch 150 | Reject Differential (mean over batch): 0.0473\n",
      "Batch 150 | Reject Differential (mean over batch): 0.0411\n",
      "Batch 150 | Reject Differential (mean over batch): 0.0460\n"
     ]
    },
    {
     "name": "stderr",
     "output_type": "stream",
     "text": [
      " 49%|████████████████████████████████████████▊                                           | 152/313 [01:04<01:06,  2.43it/s]"
     ]
    },
    {
     "name": "stdout",
     "output_type": "stream",
     "text": [
      "Batch 151 | Reject Differential (mean over batch): 0.0462\n",
      "Batch 151 | Reject Differential (mean over batch): 0.0550\n",
      "Batch 151 | Reject Differential (mean over batch): 0.0383\n"
     ]
    },
    {
     "name": "stderr",
     "output_type": "stream",
     "text": [
      " 49%|█████████████████████████████████████████                                           | 153/313 [01:04<01:06,  2.42it/s]"
     ]
    },
    {
     "name": "stdout",
     "output_type": "stream",
     "text": [
      "Batch 152 | Reject Differential (mean over batch): 0.0453\n",
      "Batch 152 | Reject Differential (mean over batch): 0.0433\n",
      "Batch 152 | Reject Differential (mean over batch): 0.0469\n"
     ]
    },
    {
     "name": "stderr",
     "output_type": "stream",
     "text": [
      " 49%|█████████████████████████████████████████▎                                          | 154/313 [01:05<01:05,  2.43it/s]"
     ]
    },
    {
     "name": "stdout",
     "output_type": "stream",
     "text": [
      "Batch 153 | Reject Differential (mean over batch): 0.0376\n",
      "Batch 153 | Reject Differential (mean over batch): 0.0487\n",
      "Batch 153 | Reject Differential (mean over batch): 0.0433\n"
     ]
    },
    {
     "name": "stderr",
     "output_type": "stream",
     "text": [
      " 50%|█████████████████████████████████████████▌                                          | 155/313 [01:05<01:05,  2.42it/s]"
     ]
    },
    {
     "name": "stdout",
     "output_type": "stream",
     "text": [
      "Batch 154 | Reject Differential (mean over batch): 0.0375\n",
      "Batch 154 | Reject Differential (mean over batch): 0.0576\n",
      "Batch 154 | Reject Differential (mean over batch): 0.0449\n"
     ]
    },
    {
     "name": "stderr",
     "output_type": "stream",
     "text": [
      " 50%|█████████████████████████████████████████▊                                          | 156/313 [01:05<01:04,  2.42it/s]"
     ]
    },
    {
     "name": "stdout",
     "output_type": "stream",
     "text": [
      "Batch 155 | Reject Differential (mean over batch): 0.0472\n",
      "Batch 155 | Reject Differential (mean over batch): 0.0429\n",
      "Batch 155 | Reject Differential (mean over batch): 0.0450\n"
     ]
    },
    {
     "name": "stderr",
     "output_type": "stream",
     "text": [
      " 50%|██████████████████████████████████████████▏                                         | 157/313 [01:06<01:04,  2.43it/s]"
     ]
    },
    {
     "name": "stdout",
     "output_type": "stream",
     "text": [
      "Batch 156 | Reject Differential (mean over batch): 0.0390\n",
      "Batch 156 | Reject Differential (mean over batch): 0.0405\n",
      "Batch 156 | Reject Differential (mean over batch): 0.0380\n"
     ]
    },
    {
     "name": "stderr",
     "output_type": "stream",
     "text": [
      " 50%|██████████████████████████████████████████▍                                         | 158/313 [01:06<01:03,  2.43it/s]"
     ]
    },
    {
     "name": "stdout",
     "output_type": "stream",
     "text": [
      "Batch 157 | Reject Differential (mean over batch): 0.0429\n",
      "Batch 157 | Reject Differential (mean over batch): 0.0401\n",
      "Batch 157 | Reject Differential (mean over batch): 0.0375\n"
     ]
    },
    {
     "name": "stderr",
     "output_type": "stream",
     "text": [
      " 51%|██████████████████████████████████████████▋                                         | 159/313 [01:07<01:03,  2.42it/s]"
     ]
    },
    {
     "name": "stdout",
     "output_type": "stream",
     "text": [
      "Batch 158 | Reject Differential (mean over batch): 0.0334\n",
      "Batch 158 | Reject Differential (mean over batch): 0.0498\n",
      "Batch 158 | Reject Differential (mean over batch): 0.0391\n",
      "Batch 159 | Reject Differential (mean over batch): 0.0406\n",
      "Batch 159 | Reject Differential (mean over batch): 0.0488\n"
     ]
    },
    {
     "name": "stderr",
     "output_type": "stream",
     "text": [
      " 51%|██████████████████████████████████████████▉                                         | 160/313 [01:07<01:03,  2.40it/s]"
     ]
    },
    {
     "name": "stdout",
     "output_type": "stream",
     "text": [
      "Batch 159 | Reject Differential (mean over batch): 0.0242\n"
     ]
    },
    {
     "name": "stderr",
     "output_type": "stream",
     "text": [
      " 51%|███████████████████████████████████████████▏                                        | 161/313 [01:07<01:03,  2.41it/s]"
     ]
    },
    {
     "name": "stdout",
     "output_type": "stream",
     "text": [
      "Batch 160 | Reject Differential (mean over batch): 0.0393\n",
      "Batch 160 | Reject Differential (mean over batch): 0.0359\n",
      "Batch 160 | Reject Differential (mean over batch): 0.0407\n",
      "Batch 161 | Reject Differential (mean over batch): 0.0412\n",
      "Batch 161 | Reject Differential (mean over batch): 0.0515\n"
     ]
    },
    {
     "name": "stderr",
     "output_type": "stream",
     "text": [
      " 52%|███████████████████████████████████████████▍                                        | 162/313 [01:08<01:03,  2.38it/s]"
     ]
    },
    {
     "name": "stdout",
     "output_type": "stream",
     "text": [
      "Batch 161 | Reject Differential (mean over batch): 0.0329\n",
      "Batch 162 | Reject Differential (mean over batch): 0.0365\n",
      "Batch 162 | Reject Differential (mean over batch): 0.0409\n"
     ]
    },
    {
     "name": "stderr",
     "output_type": "stream",
     "text": [
      " 52%|███████████████████████████████████████████▋                                        | 163/313 [01:08<01:03,  2.36it/s]"
     ]
    },
    {
     "name": "stdout",
     "output_type": "stream",
     "text": [
      "Batch 162 | Reject Differential (mean over batch): 0.0366\n",
      "Batch 163 | Reject Differential (mean over batch): 0.0347\n",
      "Batch 163 | Reject Differential (mean over batch): 0.0462\n"
     ]
    },
    {
     "name": "stderr",
     "output_type": "stream",
     "text": [
      " 52%|████████████████████████████████████████████                                        | 164/313 [01:09<01:03,  2.36it/s]"
     ]
    },
    {
     "name": "stdout",
     "output_type": "stream",
     "text": [
      "Batch 163 | Reject Differential (mean over batch): 0.0414\n"
     ]
    },
    {
     "name": "stderr",
     "output_type": "stream",
     "text": [
      " 53%|████████████████████████████████████████████▎                                       | 165/313 [01:09<01:01,  2.40it/s]"
     ]
    },
    {
     "name": "stdout",
     "output_type": "stream",
     "text": [
      "Batch 164 | Reject Differential (mean over batch): 0.0415\n",
      "Batch 164 | Reject Differential (mean over batch): 0.0499\n",
      "Batch 164 | Reject Differential (mean over batch): 0.0406\n",
      "Batch 165 | Reject Differential (mean over batch): 0.0473\n",
      "Batch 165 | Reject Differential (mean over batch): 0.0440\n"
     ]
    },
    {
     "name": "stderr",
     "output_type": "stream",
     "text": [
      " 53%|████████████████████████████████████████████▌                                       | 166/313 [01:10<01:01,  2.38it/s]"
     ]
    },
    {
     "name": "stdout",
     "output_type": "stream",
     "text": [
      "Batch 165 | Reject Differential (mean over batch): 0.0441\n"
     ]
    },
    {
     "name": "stderr",
     "output_type": "stream",
     "text": [
      " 53%|████████████████████████████████████████████▊                                       | 167/313 [01:10<01:00,  2.41it/s]"
     ]
    },
    {
     "name": "stdout",
     "output_type": "stream",
     "text": [
      "Batch 166 | Reject Differential (mean over batch): 0.0440\n",
      "Batch 166 | Reject Differential (mean over batch): 0.0447\n",
      "Batch 166 | Reject Differential (mean over batch): 0.0411\n",
      "Batch 167 | Reject Differential (mean over batch): 0.0465\n",
      "Batch 167 | Reject Differential (mean over batch): 0.0515\n"
     ]
    },
    {
     "name": "stderr",
     "output_type": "stream",
     "text": [
      " 54%|█████████████████████████████████████████████                                       | 168/313 [01:10<01:00,  2.40it/s]"
     ]
    },
    {
     "name": "stdout",
     "output_type": "stream",
     "text": [
      "Batch 167 | Reject Differential (mean over batch): 0.0438\n"
     ]
    },
    {
     "name": "stderr",
     "output_type": "stream",
     "text": [
      " 54%|█████████████████████████████████████████████▎                                      | 169/313 [01:11<00:59,  2.40it/s]"
     ]
    },
    {
     "name": "stdout",
     "output_type": "stream",
     "text": [
      "Batch 168 | Reject Differential (mean over batch): 0.0498\n",
      "Batch 168 | Reject Differential (mean over batch): 0.0423\n",
      "Batch 168 | Reject Differential (mean over batch): 0.0408\n",
      "Batch 169 | Reject Differential (mean over batch): 0.0400\n",
      "Batch 169 | Reject Differential (mean over batch): 0.0405\n"
     ]
    },
    {
     "name": "stderr",
     "output_type": "stream",
     "text": [
      " 54%|█████████████████████████████████████████████▌                                      | 170/313 [01:11<00:59,  2.39it/s]"
     ]
    },
    {
     "name": "stdout",
     "output_type": "stream",
     "text": [
      "Batch 169 | Reject Differential (mean over batch): 0.0371\n"
     ]
    },
    {
     "name": "stderr",
     "output_type": "stream",
     "text": [
      " 55%|█████████████████████████████████████████████▉                                      | 171/313 [01:12<00:58,  2.41it/s]"
     ]
    },
    {
     "name": "stdout",
     "output_type": "stream",
     "text": [
      "Batch 170 | Reject Differential (mean over batch): 0.0378\n",
      "Batch 170 | Reject Differential (mean over batch): 0.0469\n",
      "Batch 170 | Reject Differential (mean over batch): 0.0439\n",
      "Batch 171 | Reject Differential (mean over batch): 0.0499\n",
      "Batch 171 | Reject Differential (mean over batch): 0.0405\n"
     ]
    },
    {
     "name": "stderr",
     "output_type": "stream",
     "text": [
      " 55%|██████████████████████████████████████████████▏                                     | 172/313 [01:12<00:59,  2.37it/s]"
     ]
    },
    {
     "name": "stdout",
     "output_type": "stream",
     "text": [
      "Batch 171 | Reject Differential (mean over batch): 0.0365\n",
      "Batch 172 | Reject Differential (mean over batch): 0.0492\n",
      "Batch 172 | Reject Differential (mean over batch): 0.0470\n"
     ]
    },
    {
     "name": "stderr",
     "output_type": "stream",
     "text": [
      " 55%|██████████████████████████████████████████████▍                                     | 173/313 [01:12<00:59,  2.35it/s]"
     ]
    },
    {
     "name": "stdout",
     "output_type": "stream",
     "text": [
      "Batch 172 | Reject Differential (mean over batch): 0.0454\n",
      "Batch 173 | Reject Differential (mean over batch): 0.0487\n",
      "Batch 173 | Reject Differential (mean over batch): 0.0448\n"
     ]
    },
    {
     "name": "stderr",
     "output_type": "stream",
     "text": [
      " 56%|██████████████████████████████████████████████▋                                     | 174/313 [01:13<00:59,  2.33it/s]"
     ]
    },
    {
     "name": "stdout",
     "output_type": "stream",
     "text": [
      "Batch 173 | Reject Differential (mean over batch): 0.0600\n",
      "Batch 174 | Reject Differential (mean over batch): 0.0541\n",
      "Batch 174 | Reject Differential (mean over batch): 0.0536\n"
     ]
    },
    {
     "name": "stderr",
     "output_type": "stream",
     "text": [
      " 56%|██████████████████████████████████████████████▉                                     | 175/313 [01:13<00:58,  2.35it/s]"
     ]
    },
    {
     "name": "stdout",
     "output_type": "stream",
     "text": [
      "Batch 174 | Reject Differential (mean over batch): 0.0527\n",
      "Batch 175 | Reject Differential (mean over batch): 0.0364\n",
      "Batch 175 | Reject Differential (mean over batch): 0.0392\n"
     ]
    },
    {
     "name": "stderr",
     "output_type": "stream",
     "text": [
      " 56%|███████████████████████████████████████████████▏                                    | 176/313 [01:14<01:00,  2.28it/s]"
     ]
    },
    {
     "name": "stdout",
     "output_type": "stream",
     "text": [
      "Batch 175 | Reject Differential (mean over batch): 0.0361\n"
     ]
    },
    {
     "name": "stderr",
     "output_type": "stream",
     "text": [
      " 57%|███████████████████████████████████████████████▌                                    | 177/313 [01:14<00:58,  2.33it/s]"
     ]
    },
    {
     "name": "stdout",
     "output_type": "stream",
     "text": [
      "Batch 176 | Reject Differential (mean over batch): 0.0465\n",
      "Batch 176 | Reject Differential (mean over batch): 0.0553\n",
      "Batch 176 | Reject Differential (mean over batch): 0.0479\n",
      "Batch 177 | Reject Differential (mean over batch): 0.0447\n",
      "Batch 177 | Reject Differential (mean over batch): 0.0411\n"
     ]
    },
    {
     "name": "stderr",
     "output_type": "stream",
     "text": [
      " 57%|███████████████████████████████████████████████▊                                    | 178/313 [01:15<00:58,  2.33it/s]"
     ]
    },
    {
     "name": "stdout",
     "output_type": "stream",
     "text": [
      "Batch 177 | Reject Differential (mean over batch): 0.0407\n"
     ]
    },
    {
     "name": "stderr",
     "output_type": "stream",
     "text": [
      " 57%|████████████████████████████████████████████████                                    | 179/313 [01:15<00:56,  2.36it/s]"
     ]
    },
    {
     "name": "stdout",
     "output_type": "stream",
     "text": [
      "Batch 178 | Reject Differential (mean over batch): 0.0402\n",
      "Batch 178 | Reject Differential (mean over batch): 0.0458\n",
      "Batch 178 | Reject Differential (mean over batch): 0.0304\n"
     ]
    },
    {
     "name": "stderr",
     "output_type": "stream",
     "text": [
      " 58%|████████████████████████████████████████████████▎                                   | 180/313 [01:15<00:55,  2.39it/s]"
     ]
    },
    {
     "name": "stdout",
     "output_type": "stream",
     "text": [
      "Batch 179 | Reject Differential (mean over batch): 0.0550\n",
      "Batch 179 | Reject Differential (mean over batch): 0.0588\n",
      "Batch 179 | Reject Differential (mean over batch): 0.0443\n"
     ]
    },
    {
     "name": "stderr",
     "output_type": "stream",
     "text": [
      " 58%|████████████████████████████████████████████████▌                                   | 181/313 [01:16<00:54,  2.41it/s]"
     ]
    },
    {
     "name": "stdout",
     "output_type": "stream",
     "text": [
      "Batch 180 | Reject Differential (mean over batch): 0.0407\n",
      "Batch 180 | Reject Differential (mean over batch): 0.0508\n",
      "Batch 180 | Reject Differential (mean over batch): 0.0376\n"
     ]
    },
    {
     "name": "stderr",
     "output_type": "stream",
     "text": [
      " 58%|████████████████████████████████████████████████▊                                   | 182/313 [01:16<00:53,  2.43it/s]"
     ]
    },
    {
     "name": "stdout",
     "output_type": "stream",
     "text": [
      "Batch 181 | Reject Differential (mean over batch): 0.0475\n",
      "Batch 181 | Reject Differential (mean over batch): 0.0492\n",
      "Batch 181 | Reject Differential (mean over batch): 0.0426\n"
     ]
    },
    {
     "name": "stderr",
     "output_type": "stream",
     "text": [
      " 58%|█████████████████████████████████████████████████                                   | 183/313 [01:17<00:53,  2.45it/s]"
     ]
    },
    {
     "name": "stdout",
     "output_type": "stream",
     "text": [
      "Batch 182 | Reject Differential (mean over batch): 0.0371\n",
      "Batch 182 | Reject Differential (mean over batch): 0.0468\n",
      "Batch 182 | Reject Differential (mean over batch): 0.0388\n"
     ]
    },
    {
     "name": "stderr",
     "output_type": "stream",
     "text": [
      " 59%|█████████████████████████████████████████████████▍                                  | 184/313 [01:17<00:52,  2.46it/s]"
     ]
    },
    {
     "name": "stdout",
     "output_type": "stream",
     "text": [
      "Batch 183 | Reject Differential (mean over batch): 0.0422\n",
      "Batch 183 | Reject Differential (mean over batch): 0.0470\n",
      "Batch 183 | Reject Differential (mean over batch): 0.0427\n"
     ]
    },
    {
     "name": "stderr",
     "output_type": "stream",
     "text": [
      " 59%|█████████████████████████████████████████████████▋                                  | 185/313 [01:17<00:51,  2.47it/s]"
     ]
    },
    {
     "name": "stdout",
     "output_type": "stream",
     "text": [
      "Batch 184 | Reject Differential (mean over batch): 0.0557\n",
      "Batch 184 | Reject Differential (mean over batch): 0.0473\n",
      "Batch 184 | Reject Differential (mean over batch): 0.0528\n"
     ]
    },
    {
     "name": "stderr",
     "output_type": "stream",
     "text": [
      " 59%|█████████████████████████████████████████████████▉                                  | 186/313 [01:18<00:51,  2.47it/s]"
     ]
    },
    {
     "name": "stdout",
     "output_type": "stream",
     "text": [
      "Batch 185 | Reject Differential (mean over batch): 0.0305\n",
      "Batch 185 | Reject Differential (mean over batch): 0.0419\n",
      "Batch 185 | Reject Differential (mean over batch): 0.0350\n"
     ]
    },
    {
     "name": "stderr",
     "output_type": "stream",
     "text": [
      " 60%|██████████████████████████████████████████████████▏                                 | 187/313 [01:18<00:50,  2.48it/s]"
     ]
    },
    {
     "name": "stdout",
     "output_type": "stream",
     "text": [
      "Batch 186 | Reject Differential (mean over batch): 0.0453\n",
      "Batch 186 | Reject Differential (mean over batch): 0.0461\n",
      "Batch 186 | Reject Differential (mean over batch): 0.0303\n",
      "Batch 187 | Reject Differential (mean over batch): 0.0428\n",
      "Batch 187 | Reject Differential (mean over batch): 0.0441\n"
     ]
    },
    {
     "name": "stderr",
     "output_type": "stream",
     "text": [
      " 60%|██████████████████████████████████████████████████▍                                 | 188/313 [01:19<00:51,  2.43it/s]"
     ]
    },
    {
     "name": "stdout",
     "output_type": "stream",
     "text": [
      "Batch 187 | Reject Differential (mean over batch): 0.0515\n"
     ]
    },
    {
     "name": "stderr",
     "output_type": "stream",
     "text": [
      " 60%|██████████████████████████████████████████████████▋                                 | 189/313 [01:19<00:50,  2.43it/s]"
     ]
    },
    {
     "name": "stdout",
     "output_type": "stream",
     "text": [
      "Batch 188 | Reject Differential (mean over batch): 0.0545\n",
      "Batch 188 | Reject Differential (mean over batch): 0.0590\n",
      "Batch 188 | Reject Differential (mean over batch): 0.0462\n"
     ]
    },
    {
     "name": "stderr",
     "output_type": "stream",
     "text": [
      " 61%|██████████████████████████████████████████████████▉                                 | 190/313 [01:20<00:50,  2.43it/s]"
     ]
    },
    {
     "name": "stdout",
     "output_type": "stream",
     "text": [
      "Batch 189 | Reject Differential (mean over batch): 0.0412\n",
      "Batch 189 | Reject Differential (mean over batch): 0.0456\n",
      "Batch 189 | Reject Differential (mean over batch): 0.0387\n"
     ]
    },
    {
     "name": "stderr",
     "output_type": "stream",
     "text": [
      " 61%|███████████████████████████████████████████████████▎                                | 191/313 [01:20<00:49,  2.44it/s]"
     ]
    },
    {
     "name": "stdout",
     "output_type": "stream",
     "text": [
      "Batch 190 | Reject Differential (mean over batch): 0.0404\n",
      "Batch 190 | Reject Differential (mean over batch): 0.0520\n",
      "Batch 190 | Reject Differential (mean over batch): 0.0518\n"
     ]
    },
    {
     "name": "stderr",
     "output_type": "stream",
     "text": [
      " 61%|███████████████████████████████████████████████████▌                                | 192/313 [01:20<00:49,  2.44it/s]"
     ]
    },
    {
     "name": "stdout",
     "output_type": "stream",
     "text": [
      "Batch 191 | Reject Differential (mean over batch): 0.0328\n",
      "Batch 191 | Reject Differential (mean over batch): 0.0388\n",
      "Batch 191 | Reject Differential (mean over batch): 0.0295\n"
     ]
    },
    {
     "name": "stderr",
     "output_type": "stream",
     "text": [
      " 62%|███████████████████████████████████████████████████▊                                | 193/313 [01:21<00:48,  2.45it/s]"
     ]
    },
    {
     "name": "stdout",
     "output_type": "stream",
     "text": [
      "Batch 192 | Reject Differential (mean over batch): 0.0375\n",
      "Batch 192 | Reject Differential (mean over batch): 0.0477\n",
      "Batch 192 | Reject Differential (mean over batch): 0.0525\n"
     ]
    },
    {
     "name": "stderr",
     "output_type": "stream",
     "text": [
      " 62%|████████████████████████████████████████████████████                                | 194/313 [01:21<00:48,  2.45it/s]"
     ]
    },
    {
     "name": "stdout",
     "output_type": "stream",
     "text": [
      "Batch 193 | Reject Differential (mean over batch): 0.0545\n",
      "Batch 193 | Reject Differential (mean over batch): 0.0536\n",
      "Batch 193 | Reject Differential (mean over batch): 0.0542\n"
     ]
    },
    {
     "name": "stderr",
     "output_type": "stream",
     "text": [
      " 62%|████████████████████████████████████████████████████▎                               | 195/313 [01:22<00:48,  2.45it/s]"
     ]
    },
    {
     "name": "stdout",
     "output_type": "stream",
     "text": [
      "Batch 194 | Reject Differential (mean over batch): 0.0402\n",
      "Batch 194 | Reject Differential (mean over batch): 0.0327\n",
      "Batch 194 | Reject Differential (mean over batch): 0.0383\n",
      "Batch 195 | Reject Differential (mean over batch): 0.0385\n",
      "Batch 195 | Reject Differential (mean over batch): 0.0433\n"
     ]
    },
    {
     "name": "stderr",
     "output_type": "stream",
     "text": [
      " 63%|████████████████████████████████████████████████████▌                               | 196/313 [01:22<00:49,  2.37it/s]"
     ]
    },
    {
     "name": "stdout",
     "output_type": "stream",
     "text": [
      "Batch 195 | Reject Differential (mean over batch): 0.0362\n",
      "Batch 196 | Reject Differential (mean over batch): 0.0353\n",
      "Batch 196 | Reject Differential (mean over batch): 0.0381\n"
     ]
    },
    {
     "name": "stderr",
     "output_type": "stream",
     "text": [
      " 63%|████████████████████████████████████████████████████▊                               | 197/313 [01:22<00:48,  2.37it/s]"
     ]
    },
    {
     "name": "stdout",
     "output_type": "stream",
     "text": [
      "Batch 196 | Reject Differential (mean over batch): 0.0460\n"
     ]
    },
    {
     "name": "stderr",
     "output_type": "stream",
     "text": [
      " 63%|█████████████████████████████████████████████████████▏                              | 198/313 [01:23<00:49,  2.34it/s]"
     ]
    },
    {
     "name": "stdout",
     "output_type": "stream",
     "text": [
      "Batch 197 | Reject Differential (mean over batch): 0.0461\n",
      "Batch 197 | Reject Differential (mean over batch): 0.0431\n",
      "Batch 197 | Reject Differential (mean over batch): 0.0360\n",
      "Batch 198 | Reject Differential (mean over batch): 0.0491\n",
      "Batch 198 | Reject Differential (mean over batch): 0.0581\n"
     ]
    },
    {
     "name": "stderr",
     "output_type": "stream",
     "text": [
      " 64%|█████████████████████████████████████████████████████▍                              | 199/313 [01:23<00:48,  2.34it/s]"
     ]
    },
    {
     "name": "stdout",
     "output_type": "stream",
     "text": [
      "Batch 198 | Reject Differential (mean over batch): 0.0564\n"
     ]
    },
    {
     "name": "stderr",
     "output_type": "stream",
     "text": [
      " 64%|█████████████████████████████████████████████████████▋                              | 200/313 [01:24<00:47,  2.36it/s]"
     ]
    },
    {
     "name": "stdout",
     "output_type": "stream",
     "text": [
      "Batch 199 | Reject Differential (mean over batch): 0.0463\n",
      "Batch 199 | Reject Differential (mean over batch): 0.0552\n",
      "Batch 199 | Reject Differential (mean over batch): 0.0440\n"
     ]
    },
    {
     "name": "stderr",
     "output_type": "stream",
     "text": [
      " 64%|█████████████████████████████████████████████████████▉                              | 201/313 [01:24<00:46,  2.38it/s]"
     ]
    },
    {
     "name": "stdout",
     "output_type": "stream",
     "text": [
      "Batch 200 | Reject Differential (mean over batch): 0.0317\n",
      "Batch 200 | Reject Differential (mean over batch): 0.0348\n",
      "Batch 200 | Reject Differential (mean over batch): 0.0426\n"
     ]
    },
    {
     "name": "stderr",
     "output_type": "stream",
     "text": [
      " 65%|██████████████████████████████████████████████████████▏                             | 202/313 [01:25<00:46,  2.41it/s]"
     ]
    },
    {
     "name": "stdout",
     "output_type": "stream",
     "text": [
      "Batch 201 | Reject Differential (mean over batch): 0.0441\n",
      "Batch 201 | Reject Differential (mean over batch): 0.0474\n",
      "Batch 201 | Reject Differential (mean over batch): 0.0470\n"
     ]
    },
    {
     "name": "stderr",
     "output_type": "stream",
     "text": [
      " 65%|██████████████████████████████████████████████████████▍                             | 203/313 [01:25<00:45,  2.43it/s]"
     ]
    },
    {
     "name": "stdout",
     "output_type": "stream",
     "text": [
      "Batch 202 | Reject Differential (mean over batch): 0.0386\n",
      "Batch 202 | Reject Differential (mean over batch): 0.0404\n",
      "Batch 202 | Reject Differential (mean over batch): 0.0379\n"
     ]
    },
    {
     "name": "stderr",
     "output_type": "stream",
     "text": [
      " 65%|██████████████████████████████████████████████████████▋                             | 204/313 [01:25<00:44,  2.43it/s]"
     ]
    },
    {
     "name": "stdout",
     "output_type": "stream",
     "text": [
      "Batch 203 | Reject Differential (mean over batch): 0.0551\n",
      "Batch 203 | Reject Differential (mean over batch): 0.0485\n",
      "Batch 203 | Reject Differential (mean over batch): 0.0398\n"
     ]
    },
    {
     "name": "stderr",
     "output_type": "stream",
     "text": [
      " 65%|███████████████████████████████████████████████████████                             | 205/313 [01:26<00:44,  2.45it/s]"
     ]
    },
    {
     "name": "stdout",
     "output_type": "stream",
     "text": [
      "Batch 204 | Reject Differential (mean over batch): 0.0454\n",
      "Batch 204 | Reject Differential (mean over batch): 0.0432\n",
      "Batch 204 | Reject Differential (mean over batch): 0.0386\n"
     ]
    },
    {
     "name": "stderr",
     "output_type": "stream",
     "text": [
      " 66%|███████████████████████████████████████████████████████▎                            | 206/313 [01:26<00:43,  2.45it/s]"
     ]
    },
    {
     "name": "stdout",
     "output_type": "stream",
     "text": [
      "Batch 205 | Reject Differential (mean over batch): 0.0469\n",
      "Batch 205 | Reject Differential (mean over batch): 0.0454\n",
      "Batch 205 | Reject Differential (mean over batch): 0.0445\n"
     ]
    },
    {
     "name": "stderr",
     "output_type": "stream",
     "text": [
      " 66%|███████████████████████████████████████████████████████▌                            | 207/313 [01:27<00:43,  2.45it/s]"
     ]
    },
    {
     "name": "stdout",
     "output_type": "stream",
     "text": [
      "Batch 206 | Reject Differential (mean over batch): 0.0347\n",
      "Batch 206 | Reject Differential (mean over batch): 0.0500\n",
      "Batch 206 | Reject Differential (mean over batch): 0.0455\n",
      "Batch 207 | Reject Differential (mean over batch): 0.0419\n",
      "Batch 207 | Reject Differential (mean over batch): 0.0397\n"
     ]
    },
    {
     "name": "stderr",
     "output_type": "stream",
     "text": [
      " 66%|███████████████████████████████████████████████████████▊                            | 208/313 [01:27<00:43,  2.40it/s]"
     ]
    },
    {
     "name": "stdout",
     "output_type": "stream",
     "text": [
      "Batch 207 | Reject Differential (mean over batch): 0.0479\n"
     ]
    },
    {
     "name": "stderr",
     "output_type": "stream",
     "text": [
      " 67%|████████████████████████████████████████████████████████                            | 209/313 [01:27<00:43,  2.40it/s]"
     ]
    },
    {
     "name": "stdout",
     "output_type": "stream",
     "text": [
      "Batch 208 | Reject Differential (mean over batch): 0.0496\n",
      "Batch 208 | Reject Differential (mean over batch): 0.0498\n",
      "Batch 208 | Reject Differential (mean over batch): 0.0431\n",
      "Batch 209 | Reject Differential (mean over batch): 0.0418\n",
      "Batch 209 | Reject Differential (mean over batch): 0.0510\n"
     ]
    },
    {
     "name": "stderr",
     "output_type": "stream",
     "text": [
      " 67%|████████████████████████████████████████████████████████▎                           | 210/313 [01:28<00:43,  2.38it/s]"
     ]
    },
    {
     "name": "stdout",
     "output_type": "stream",
     "text": [
      "Batch 209 | Reject Differential (mean over batch): 0.0473\n"
     ]
    },
    {
     "name": "stderr",
     "output_type": "stream",
     "text": [
      " 67%|████████████████████████████████████████████████████████▋                           | 211/313 [01:28<00:42,  2.39it/s]"
     ]
    },
    {
     "name": "stdout",
     "output_type": "stream",
     "text": [
      "Batch 210 | Reject Differential (mean over batch): 0.0595\n",
      "Batch 210 | Reject Differential (mean over batch): 0.0567\n",
      "Batch 210 | Reject Differential (mean over batch): 0.0532\n",
      "Batch 211 | Reject Differential (mean over batch): 0.0370\n",
      "Batch 211 | Reject Differential (mean over batch): 0.0601\n"
     ]
    },
    {
     "name": "stderr",
     "output_type": "stream",
     "text": [
      " 68%|████████████████████████████████████████████████████████▉                           | 212/313 [01:29<00:42,  2.37it/s]"
     ]
    },
    {
     "name": "stdout",
     "output_type": "stream",
     "text": [
      "Batch 211 | Reject Differential (mean over batch): 0.0382\n"
     ]
    },
    {
     "name": "stderr",
     "output_type": "stream",
     "text": [
      " 68%|█████████████████████████████████████████████████████████▏                          | 213/313 [01:29<00:42,  2.38it/s]"
     ]
    },
    {
     "name": "stdout",
     "output_type": "stream",
     "text": [
      "Batch 212 | Reject Differential (mean over batch): 0.0514\n",
      "Batch 212 | Reject Differential (mean over batch): 0.0543\n",
      "Batch 212 | Reject Differential (mean over batch): 0.0372\n"
     ]
    },
    {
     "name": "stderr",
     "output_type": "stream",
     "text": [
      " 68%|█████████████████████████████████████████████████████████▍                          | 214/313 [01:30<00:41,  2.40it/s]"
     ]
    },
    {
     "name": "stdout",
     "output_type": "stream",
     "text": [
      "Batch 213 | Reject Differential (mean over batch): 0.0410\n",
      "Batch 213 | Reject Differential (mean over batch): 0.0421\n",
      "Batch 213 | Reject Differential (mean over batch): 0.0364\n"
     ]
    },
    {
     "name": "stderr",
     "output_type": "stream",
     "text": [
      " 69%|█████████████████████████████████████████████████████████▋                          | 215/313 [01:30<00:40,  2.42it/s]"
     ]
    },
    {
     "name": "stdout",
     "output_type": "stream",
     "text": [
      "Batch 214 | Reject Differential (mean over batch): 0.0397\n",
      "Batch 214 | Reject Differential (mean over batch): 0.0548\n",
      "Batch 214 | Reject Differential (mean over batch): 0.0473\n"
     ]
    },
    {
     "name": "stderr",
     "output_type": "stream",
     "text": [
      " 69%|█████████████████████████████████████████████████████████▉                          | 216/313 [01:30<00:39,  2.44it/s]"
     ]
    },
    {
     "name": "stdout",
     "output_type": "stream",
     "text": [
      "Batch 215 | Reject Differential (mean over batch): 0.0389\n",
      "Batch 215 | Reject Differential (mean over batch): 0.0402\n",
      "Batch 215 | Reject Differential (mean over batch): 0.0415\n"
     ]
    },
    {
     "name": "stderr",
     "output_type": "stream",
     "text": [
      " 69%|██████████████████████████████████████████████████████████▏                         | 217/313 [01:31<00:39,  2.44it/s]"
     ]
    },
    {
     "name": "stdout",
     "output_type": "stream",
     "text": [
      "Batch 216 | Reject Differential (mean over batch): 0.0328\n",
      "Batch 216 | Reject Differential (mean over batch): 0.0450\n",
      "Batch 216 | Reject Differential (mean over batch): 0.0353\n"
     ]
    },
    {
     "name": "stderr",
     "output_type": "stream",
     "text": [
      " 70%|██████████████████████████████████████████████████████████▌                         | 218/313 [01:31<00:38,  2.44it/s]"
     ]
    },
    {
     "name": "stdout",
     "output_type": "stream",
     "text": [
      "Batch 217 | Reject Differential (mean over batch): 0.0334\n",
      "Batch 217 | Reject Differential (mean over batch): 0.0421\n",
      "Batch 217 | Reject Differential (mean over batch): 0.0403\n",
      "Batch 218 | Reject Differential (mean over batch): 0.0387\n",
      "Batch 218 | Reject Differential (mean over batch): 0.0445\n"
     ]
    },
    {
     "name": "stderr",
     "output_type": "stream",
     "text": [
      " 70%|██████████████████████████████████████████████████████████▊                         | 219/313 [01:32<00:39,  2.38it/s]"
     ]
    },
    {
     "name": "stdout",
     "output_type": "stream",
     "text": [
      "Batch 218 | Reject Differential (mean over batch): 0.0379\n",
      "Batch 219 | Reject Differential (mean over batch): 0.0456\n",
      "Batch 219 | Reject Differential (mean over batch): 0.0546\n"
     ]
    },
    {
     "name": "stderr",
     "output_type": "stream",
     "text": [
      " 70%|███████████████████████████████████████████████████████████                         | 220/313 [01:32<00:39,  2.37it/s]"
     ]
    },
    {
     "name": "stdout",
     "output_type": "stream",
     "text": [
      "Batch 219 | Reject Differential (mean over batch): 0.0433\n"
     ]
    },
    {
     "name": "stderr",
     "output_type": "stream",
     "text": [
      " 71%|███████████████████████████████████████████████████████████▎                        | 221/313 [01:32<00:38,  2.38it/s]"
     ]
    },
    {
     "name": "stdout",
     "output_type": "stream",
     "text": [
      "Batch 220 | Reject Differential (mean over batch): 0.0376\n",
      "Batch 220 | Reject Differential (mean over batch): 0.0382\n",
      "Batch 220 | Reject Differential (mean over batch): 0.0384\n",
      "Batch 221 | Reject Differential (mean over batch): 0.0388\n",
      "Batch 221 | Reject Differential (mean over batch): 0.0314\n"
     ]
    },
    {
     "name": "stderr",
     "output_type": "stream",
     "text": [
      " 71%|███████████████████████████████████████████████████████████▌                        | 222/313 [01:33<00:38,  2.37it/s]"
     ]
    },
    {
     "name": "stdout",
     "output_type": "stream",
     "text": [
      "Batch 221 | Reject Differential (mean over batch): 0.0374\n",
      "Batch 222 | Reject Differential (mean over batch): 0.0396\n",
      "Batch 222 | Reject Differential (mean over batch): 0.0443\n"
     ]
    },
    {
     "name": "stderr",
     "output_type": "stream",
     "text": [
      " 71%|███████████████████████████████████████████████████████████▊                        | 223/313 [01:33<00:37,  2.38it/s]"
     ]
    },
    {
     "name": "stdout",
     "output_type": "stream",
     "text": [
      "Batch 222 | Reject Differential (mean over batch): 0.0385\n",
      "Batch 223 | Reject Differential (mean over batch): 0.0582\n",
      "Batch 223 | Reject Differential (mean over batch): 0.0590\n"
     ]
    },
    {
     "name": "stderr",
     "output_type": "stream",
     "text": [
      " 72%|████████████████████████████████████████████████████████████                        | 224/313 [01:34<00:37,  2.38it/s]"
     ]
    },
    {
     "name": "stdout",
     "output_type": "stream",
     "text": [
      "Batch 223 | Reject Differential (mean over batch): 0.0565\n"
     ]
    },
    {
     "name": "stderr",
     "output_type": "stream",
     "text": [
      " 72%|████████████████████████████████████████████████████████████▍                       | 225/313 [01:34<00:36,  2.40it/s]"
     ]
    },
    {
     "name": "stdout",
     "output_type": "stream",
     "text": [
      "Batch 224 | Reject Differential (mean over batch): 0.0451\n",
      "Batch 224 | Reject Differential (mean over batch): 0.0448\n",
      "Batch 224 | Reject Differential (mean over batch): 0.0456\n",
      "Batch 225 | Reject Differential (mean over batch): 0.0474\n",
      "Batch 225 | Reject Differential (mean over batch): 0.0467\n"
     ]
    },
    {
     "name": "stderr",
     "output_type": "stream",
     "text": [
      " 72%|████████████████████████████████████████████████████████████▋                       | 226/313 [01:35<00:36,  2.40it/s]"
     ]
    },
    {
     "name": "stdout",
     "output_type": "stream",
     "text": [
      "Batch 225 | Reject Differential (mean over batch): 0.0366\n",
      "Batch 226 | Reject Differential (mean over batch): 0.0403\n",
      "Batch 226 | Reject Differential (mean over batch): 0.0448\n"
     ]
    },
    {
     "name": "stderr",
     "output_type": "stream",
     "text": [
      " 73%|████████████████████████████████████████████████████████████▉                       | 227/313 [01:35<00:36,  2.37it/s]"
     ]
    },
    {
     "name": "stdout",
     "output_type": "stream",
     "text": [
      "Batch 226 | Reject Differential (mean over batch): 0.0404\n",
      "Batch 227 | Reject Differential (mean over batch): 0.0469\n",
      "Batch 227 | Reject Differential (mean over batch): 0.0570\n"
     ]
    },
    {
     "name": "stderr",
     "output_type": "stream",
     "text": [
      " 73%|█████████████████████████████████████████████████████████████▏                      | 228/313 [01:35<00:36,  2.35it/s]"
     ]
    },
    {
     "name": "stdout",
     "output_type": "stream",
     "text": [
      "Batch 227 | Reject Differential (mean over batch): 0.0436\n",
      "Batch 228 | Reject Differential (mean over batch): 0.0401\n",
      "Batch 228 | Reject Differential (mean over batch): 0.0418\n"
     ]
    },
    {
     "name": "stderr",
     "output_type": "stream",
     "text": [
      " 73%|█████████████████████████████████████████████████████████████▍                      | 229/313 [01:36<00:35,  2.36it/s]"
     ]
    },
    {
     "name": "stdout",
     "output_type": "stream",
     "text": [
      "Batch 228 | Reject Differential (mean over batch): 0.0411\n",
      "Batch 229 | Reject Differential (mean over batch): 0.0505\n",
      "Batch 229 | Reject Differential (mean over batch): 0.0482\n"
     ]
    },
    {
     "name": "stderr",
     "output_type": "stream",
     "text": [
      " 73%|█████████████████████████████████████████████████████████████▋                      | 230/313 [01:36<00:34,  2.37it/s]"
     ]
    },
    {
     "name": "stdout",
     "output_type": "stream",
     "text": [
      "Batch 229 | Reject Differential (mean over batch): 0.0522\n"
     ]
    },
    {
     "name": "stderr",
     "output_type": "stream",
     "text": [
      " 74%|█████████████████████████████████████████████████████████████▉                      | 231/313 [01:37<00:34,  2.39it/s]"
     ]
    },
    {
     "name": "stdout",
     "output_type": "stream",
     "text": [
      "Batch 230 | Reject Differential (mean over batch): 0.0404\n",
      "Batch 230 | Reject Differential (mean over batch): 0.0447\n",
      "Batch 230 | Reject Differential (mean over batch): 0.0349\n"
     ]
    },
    {
     "name": "stderr",
     "output_type": "stream",
     "text": [
      " 74%|██████████████████████████████████████████████████████████████▎                     | 232/313 [01:37<00:33,  2.40it/s]"
     ]
    },
    {
     "name": "stdout",
     "output_type": "stream",
     "text": [
      "Batch 231 | Reject Differential (mean over batch): 0.0354\n",
      "Batch 231 | Reject Differential (mean over batch): 0.0507\n",
      "Batch 231 | Reject Differential (mean over batch): 0.0422\n",
      "Batch 232 | Reject Differential (mean over batch): 0.0415\n",
      "Batch 232 | Reject Differential (mean over batch): 0.0400\n"
     ]
    },
    {
     "name": "stderr",
     "output_type": "stream",
     "text": [
      " 74%|██████████████████████████████████████████████████████████████▌                     | 233/313 [01:37<00:33,  2.40it/s]"
     ]
    },
    {
     "name": "stdout",
     "output_type": "stream",
     "text": [
      "Batch 232 | Reject Differential (mean over batch): 0.0508\n"
     ]
    },
    {
     "name": "stderr",
     "output_type": "stream",
     "text": [
      " 75%|██████████████████████████████████████████████████████████████▊                     | 234/313 [01:38<00:32,  2.41it/s]"
     ]
    },
    {
     "name": "stdout",
     "output_type": "stream",
     "text": [
      "Batch 233 | Reject Differential (mean over batch): 0.0380\n",
      "Batch 233 | Reject Differential (mean over batch): 0.0347\n",
      "Batch 233 | Reject Differential (mean over batch): 0.0346\n"
     ]
    },
    {
     "name": "stderr",
     "output_type": "stream",
     "text": [
      " 75%|███████████████████████████████████████████████████████████████                     | 235/313 [01:38<00:32,  2.43it/s]"
     ]
    },
    {
     "name": "stdout",
     "output_type": "stream",
     "text": [
      "Batch 234 | Reject Differential (mean over batch): 0.0395\n",
      "Batch 234 | Reject Differential (mean over batch): 0.0429\n",
      "Batch 234 | Reject Differential (mean over batch): 0.0370\n"
     ]
    },
    {
     "name": "stderr",
     "output_type": "stream",
     "text": [
      " 75%|███████████████████████████████████████████████████████████████▎                    | 236/313 [01:39<00:31,  2.44it/s]"
     ]
    },
    {
     "name": "stdout",
     "output_type": "stream",
     "text": [
      "Batch 235 | Reject Differential (mean over batch): 0.0482\n",
      "Batch 235 | Reject Differential (mean over batch): 0.0490\n",
      "Batch 235 | Reject Differential (mean over batch): 0.0492\n"
     ]
    },
    {
     "name": "stderr",
     "output_type": "stream",
     "text": [
      " 76%|███████████████████████████████████████████████████████████████▌                    | 237/313 [01:39<00:30,  2.46it/s]"
     ]
    },
    {
     "name": "stdout",
     "output_type": "stream",
     "text": [
      "Batch 236 | Reject Differential (mean over batch): 0.0504\n",
      "Batch 236 | Reject Differential (mean over batch): 0.0472\n",
      "Batch 236 | Reject Differential (mean over batch): 0.0469\n"
     ]
    },
    {
     "name": "stderr",
     "output_type": "stream",
     "text": [
      " 76%|███████████████████████████████████████████████████████████████▊                    | 238/313 [01:40<00:30,  2.45it/s]"
     ]
    },
    {
     "name": "stdout",
     "output_type": "stream",
     "text": [
      "Batch 237 | Reject Differential (mean over batch): 0.0339\n",
      "Batch 237 | Reject Differential (mean over batch): 0.0458\n",
      "Batch 237 | Reject Differential (mean over batch): 0.0403\n"
     ]
    },
    {
     "name": "stderr",
     "output_type": "stream",
     "text": [
      " 76%|████████████████████████████████████████████████████████████████▏                   | 239/313 [01:40<00:30,  2.45it/s]"
     ]
    },
    {
     "name": "stdout",
     "output_type": "stream",
     "text": [
      "Batch 238 | Reject Differential (mean over batch): 0.0343\n",
      "Batch 238 | Reject Differential (mean over batch): 0.0381\n",
      "Batch 238 | Reject Differential (mean over batch): 0.0361\n"
     ]
    },
    {
     "name": "stderr",
     "output_type": "stream",
     "text": [
      " 77%|████████████████████████████████████████████████████████████████▍                   | 240/313 [01:40<00:29,  2.44it/s]"
     ]
    },
    {
     "name": "stdout",
     "output_type": "stream",
     "text": [
      "Batch 239 | Reject Differential (mean over batch): 0.0366\n",
      "Batch 239 | Reject Differential (mean over batch): 0.0486\n",
      "Batch 239 | Reject Differential (mean over batch): 0.0422\n"
     ]
    },
    {
     "name": "stderr",
     "output_type": "stream",
     "text": [
      " 77%|████████████████████████████████████████████████████████████████▋                   | 241/313 [01:41<00:29,  2.42it/s]"
     ]
    },
    {
     "name": "stdout",
     "output_type": "stream",
     "text": [
      "Batch 240 | Reject Differential (mean over batch): 0.0493\n",
      "Batch 240 | Reject Differential (mean over batch): 0.0597\n",
      "Batch 240 | Reject Differential (mean over batch): 0.0529\n"
     ]
    },
    {
     "name": "stderr",
     "output_type": "stream",
     "text": [
      " 77%|████████████████████████████████████████████████████████████████▉                   | 242/313 [01:41<00:29,  2.43it/s]"
     ]
    },
    {
     "name": "stdout",
     "output_type": "stream",
     "text": [
      "Batch 241 | Reject Differential (mean over batch): 0.0286\n",
      "Batch 241 | Reject Differential (mean over batch): 0.0337\n",
      "Batch 241 | Reject Differential (mean over batch): 0.0308\n"
     ]
    },
    {
     "name": "stderr",
     "output_type": "stream",
     "text": [
      " 78%|█████████████████████████████████████████████████████████████████▏                  | 243/313 [01:42<00:28,  2.44it/s]"
     ]
    },
    {
     "name": "stdout",
     "output_type": "stream",
     "text": [
      "Batch 242 | Reject Differential (mean over batch): 0.0293\n",
      "Batch 242 | Reject Differential (mean over batch): 0.0452\n",
      "Batch 242 | Reject Differential (mean over batch): 0.0407\n"
     ]
    },
    {
     "name": "stderr",
     "output_type": "stream",
     "text": [
      " 78%|█████████████████████████████████████████████████████████████████▍                  | 244/313 [01:42<00:28,  2.45it/s]"
     ]
    },
    {
     "name": "stdout",
     "output_type": "stream",
     "text": [
      "Batch 243 | Reject Differential (mean over batch): 0.0556\n",
      "Batch 243 | Reject Differential (mean over batch): 0.0428\n",
      "Batch 243 | Reject Differential (mean over batch): 0.0328\n"
     ]
    },
    {
     "name": "stderr",
     "output_type": "stream",
     "text": [
      " 78%|█████████████████████████████████████████████████████████████████▊                  | 245/313 [01:42<00:27,  2.46it/s]"
     ]
    },
    {
     "name": "stdout",
     "output_type": "stream",
     "text": [
      "Batch 244 | Reject Differential (mean over batch): 0.0450\n",
      "Batch 244 | Reject Differential (mean over batch): 0.0480\n",
      "Batch 244 | Reject Differential (mean over batch): 0.0532\n",
      "Batch 245 | Reject Differential (mean over batch): 0.0510\n",
      "Batch 245 | Reject Differential (mean over batch): 0.0449\n"
     ]
    },
    {
     "name": "stderr",
     "output_type": "stream",
     "text": [
      " 79%|██████████████████████████████████████████████████████████████████                  | 246/313 [01:43<00:27,  2.45it/s]"
     ]
    },
    {
     "name": "stdout",
     "output_type": "stream",
     "text": [
      "Batch 245 | Reject Differential (mean over batch): 0.0344\n",
      "Batch 246 | Reject Differential (mean over batch): 0.0376\n",
      "Batch 246 | Reject Differential (mean over batch): 0.0417\n"
     ]
    },
    {
     "name": "stderr",
     "output_type": "stream",
     "text": [
      " 79%|██████████████████████████████████████████████████████████████████▎                 | 247/313 [01:43<00:27,  2.43it/s]"
     ]
    },
    {
     "name": "stdout",
     "output_type": "stream",
     "text": [
      "Batch 246 | Reject Differential (mean over batch): 0.0485\n",
      "Batch 247 | Reject Differential (mean over batch): 0.0448\n",
      "Batch 247 | Reject Differential (mean over batch): 0.0525\n"
     ]
    },
    {
     "name": "stderr",
     "output_type": "stream",
     "text": [
      " 79%|██████████████████████████████████████████████████████████████████▌                 | 248/313 [01:44<00:27,  2.39it/s]"
     ]
    },
    {
     "name": "stdout",
     "output_type": "stream",
     "text": [
      "Batch 247 | Reject Differential (mean over batch): 0.0427\n"
     ]
    },
    {
     "name": "stderr",
     "output_type": "stream",
     "text": [
      " 80%|██████████████████████████████████████████████████████████████████▊                 | 249/313 [01:44<00:26,  2.41it/s]"
     ]
    },
    {
     "name": "stdout",
     "output_type": "stream",
     "text": [
      "Batch 248 | Reject Differential (mean over batch): 0.0526\n",
      "Batch 248 | Reject Differential (mean over batch): 0.0631\n",
      "Batch 248 | Reject Differential (mean over batch): 0.0450\n"
     ]
    },
    {
     "name": "stderr",
     "output_type": "stream",
     "text": [
      " 80%|███████████████████████████████████████████████████████████████████                 | 250/313 [01:44<00:26,  2.39it/s]"
     ]
    },
    {
     "name": "stdout",
     "output_type": "stream",
     "text": [
      "Batch 249 | Reject Differential (mean over batch): 0.0341\n",
      "Batch 249 | Reject Differential (mean over batch): 0.0389\n",
      "Batch 249 | Reject Differential (mean over batch): 0.0320\n"
     ]
    },
    {
     "name": "stderr",
     "output_type": "stream",
     "text": [
      " 80%|███████████████████████████████████████████████████████████████████▎                | 251/313 [01:45<00:25,  2.41it/s]"
     ]
    },
    {
     "name": "stdout",
     "output_type": "stream",
     "text": [
      "Batch 250 | Reject Differential (mean over batch): 0.0300\n",
      "Batch 250 | Reject Differential (mean over batch): 0.0365\n",
      "Batch 250 | Reject Differential (mean over batch): 0.0347\n",
      "Batch 251 | Reject Differential (mean over batch): 0.0390\n",
      "Batch 251 | Reject Differential (mean over batch): 0.0381\n"
     ]
    },
    {
     "name": "stderr",
     "output_type": "stream",
     "text": [
      " 81%|███████████████████████████████████████████████████████████████████▋                | 252/313 [01:45<00:25,  2.39it/s]"
     ]
    },
    {
     "name": "stdout",
     "output_type": "stream",
     "text": [
      "Batch 251 | Reject Differential (mean over batch): 0.0436\n",
      "Batch 252 | Reject Differential (mean over batch): 0.0464\n",
      "Batch 252 | Reject Differential (mean over batch): 0.0461\n"
     ]
    },
    {
     "name": "stderr",
     "output_type": "stream",
     "text": [
      " 81%|███████████████████████████████████████████████████████████████████▉                | 253/313 [01:46<00:25,  2.40it/s]"
     ]
    },
    {
     "name": "stdout",
     "output_type": "stream",
     "text": [
      "Batch 252 | Reject Differential (mean over batch): 0.0335\n",
      "Batch 253 | Reject Differential (mean over batch): 0.0451\n",
      "Batch 253 | Reject Differential (mean over batch): 0.0486\n"
     ]
    },
    {
     "name": "stderr",
     "output_type": "stream",
     "text": [
      " 81%|████████████████████████████████████████████████████████████████████▏               | 254/313 [01:46<00:24,  2.37it/s]"
     ]
    },
    {
     "name": "stdout",
     "output_type": "stream",
     "text": [
      "Batch 253 | Reject Differential (mean over batch): 0.0468\n"
     ]
    },
    {
     "name": "stderr",
     "output_type": "stream",
     "text": [
      " 81%|████████████████████████████████████████████████████████████████████▍               | 255/313 [01:47<00:24,  2.40it/s]"
     ]
    },
    {
     "name": "stdout",
     "output_type": "stream",
     "text": [
      "Batch 254 | Reject Differential (mean over batch): 0.0420\n",
      "Batch 254 | Reject Differential (mean over batch): 0.0595\n",
      "Batch 254 | Reject Differential (mean over batch): 0.0440\n",
      "Batch 255 | Reject Differential (mean over batch): 0.0361\n",
      "Batch 255 | Reject Differential (mean over batch): 0.0491\n"
     ]
    },
    {
     "name": "stderr",
     "output_type": "stream",
     "text": [
      " 82%|████████████████████████████████████████████████████████████████████▋               | 256/313 [01:47<00:23,  2.40it/s]"
     ]
    },
    {
     "name": "stdout",
     "output_type": "stream",
     "text": [
      "Batch 255 | Reject Differential (mean over batch): 0.0502\n"
     ]
    },
    {
     "name": "stderr",
     "output_type": "stream",
     "text": [
      " 82%|████████████████████████████████████████████████████████████████████▉               | 257/313 [01:47<00:23,  2.43it/s]"
     ]
    },
    {
     "name": "stdout",
     "output_type": "stream",
     "text": [
      "Batch 256 | Reject Differential (mean over batch): 0.0536\n",
      "Batch 256 | Reject Differential (mean over batch): 0.0480\n",
      "Batch 256 | Reject Differential (mean over batch): 0.0501\n",
      "Batch 257 | Reject Differential (mean over batch): 0.0461\n",
      "Batch 257 | Reject Differential (mean over batch): 0.0501\n"
     ]
    },
    {
     "name": "stderr",
     "output_type": "stream",
     "text": [
      " 82%|█████████████████████████████████████████████████████████████████████▏              | 258/313 [01:48<00:22,  2.42it/s]"
     ]
    },
    {
     "name": "stdout",
     "output_type": "stream",
     "text": [
      "Batch 257 | Reject Differential (mean over batch): 0.0408\n",
      "Batch 258 | Reject Differential (mean over batch): 0.0555\n",
      "Batch 258 | Reject Differential (mean over batch): 0.0447\n"
     ]
    },
    {
     "name": "stderr",
     "output_type": "stream",
     "text": [
      " 83%|█████████████████████████████████████████████████████████████████████▌              | 259/313 [01:48<00:22,  2.39it/s]"
     ]
    },
    {
     "name": "stdout",
     "output_type": "stream",
     "text": [
      "Batch 258 | Reject Differential (mean over batch): 0.0479\n",
      "Batch 259 | Reject Differential (mean over batch): 0.0492\n",
      "Batch 259 | Reject Differential (mean over batch): 0.0562\n"
     ]
    },
    {
     "name": "stderr",
     "output_type": "stream",
     "text": [
      " 83%|█████████████████████████████████████████████████████████████████████▊              | 260/313 [01:49<00:22,  2.38it/s]"
     ]
    },
    {
     "name": "stdout",
     "output_type": "stream",
     "text": [
      "Batch 259 | Reject Differential (mean over batch): 0.0614\n"
     ]
    },
    {
     "name": "stderr",
     "output_type": "stream",
     "text": [
      " 83%|██████████████████████████████████████████████████████████████████████              | 261/313 [01:49<00:21,  2.41it/s]"
     ]
    },
    {
     "name": "stdout",
     "output_type": "stream",
     "text": [
      "Batch 260 | Reject Differential (mean over batch): 0.0477\n",
      "Batch 260 | Reject Differential (mean over batch): 0.0417\n",
      "Batch 260 | Reject Differential (mean over batch): 0.0388\n"
     ]
    },
    {
     "name": "stderr",
     "output_type": "stream",
     "text": [
      " 84%|██████████████████████████████████████████████████████████████████████▎             | 262/313 [01:49<00:21,  2.43it/s]"
     ]
    },
    {
     "name": "stdout",
     "output_type": "stream",
     "text": [
      "Batch 261 | Reject Differential (mean over batch): 0.0587\n",
      "Batch 261 | Reject Differential (mean over batch): 0.0516\n",
      "Batch 261 | Reject Differential (mean over batch): 0.0508\n"
     ]
    },
    {
     "name": "stderr",
     "output_type": "stream",
     "text": [
      " 84%|██████████████████████████████████████████████████████████████████████▌             | 263/313 [01:50<00:20,  2.44it/s]"
     ]
    },
    {
     "name": "stdout",
     "output_type": "stream",
     "text": [
      "Batch 262 | Reject Differential (mean over batch): 0.0457\n",
      "Batch 262 | Reject Differential (mean over batch): 0.0539\n",
      "Batch 262 | Reject Differential (mean over batch): 0.0523\n"
     ]
    },
    {
     "name": "stderr",
     "output_type": "stream",
     "text": [
      " 84%|██████████████████████████████████████████████████████████████████████▊             | 264/313 [01:50<00:19,  2.45it/s]"
     ]
    },
    {
     "name": "stdout",
     "output_type": "stream",
     "text": [
      "Batch 263 | Reject Differential (mean over batch): 0.0414\n",
      "Batch 263 | Reject Differential (mean over batch): 0.0465\n",
      "Batch 263 | Reject Differential (mean over batch): 0.0520\n"
     ]
    },
    {
     "name": "stderr",
     "output_type": "stream",
     "text": [
      " 85%|███████████████████████████████████████████████████████████████████████             | 265/313 [01:51<00:19,  2.46it/s]"
     ]
    },
    {
     "name": "stdout",
     "output_type": "stream",
     "text": [
      "Batch 264 | Reject Differential (mean over batch): 0.0474\n",
      "Batch 264 | Reject Differential (mean over batch): 0.0437\n",
      "Batch 264 | Reject Differential (mean over batch): 0.0563\n"
     ]
    },
    {
     "name": "stderr",
     "output_type": "stream",
     "text": [
      " 85%|███████████████████████████████████████████████████████████████████████▍            | 266/313 [01:51<00:19,  2.46it/s]"
     ]
    },
    {
     "name": "stdout",
     "output_type": "stream",
     "text": [
      "Batch 265 | Reject Differential (mean over batch): 0.0473\n",
      "Batch 265 | Reject Differential (mean over batch): 0.0536\n",
      "Batch 265 | Reject Differential (mean over batch): 0.0486\n"
     ]
    },
    {
     "name": "stderr",
     "output_type": "stream",
     "text": [
      " 85%|███████████████████████████████████████████████████████████████████████▋            | 267/313 [01:51<00:18,  2.45it/s]"
     ]
    },
    {
     "name": "stdout",
     "output_type": "stream",
     "text": [
      "Batch 266 | Reject Differential (mean over batch): 0.0396\n",
      "Batch 266 | Reject Differential (mean over batch): 0.0367\n",
      "Batch 266 | Reject Differential (mean over batch): 0.0314\n"
     ]
    },
    {
     "name": "stderr",
     "output_type": "stream",
     "text": [
      " 86%|███████████████████████████████████████████████████████████████████████▉            | 268/313 [01:52<00:18,  2.46it/s]"
     ]
    },
    {
     "name": "stdout",
     "output_type": "stream",
     "text": [
      "Batch 267 | Reject Differential (mean over batch): 0.0432\n",
      "Batch 267 | Reject Differential (mean over batch): 0.0483\n",
      "Batch 267 | Reject Differential (mean over batch): 0.0487\n"
     ]
    },
    {
     "name": "stderr",
     "output_type": "stream",
     "text": [
      " 86%|████████████████████████████████████████████████████████████████████████▏           | 269/313 [01:52<00:17,  2.46it/s]"
     ]
    },
    {
     "name": "stdout",
     "output_type": "stream",
     "text": [
      "Batch 268 | Reject Differential (mean over batch): 0.0508\n",
      "Batch 268 | Reject Differential (mean over batch): 0.0531\n",
      "Batch 268 | Reject Differential (mean over batch): 0.0432\n"
     ]
    },
    {
     "name": "stderr",
     "output_type": "stream",
     "text": [
      " 86%|████████████████████████████████████████████████████████████████████████▍           | 270/313 [01:53<00:17,  2.46it/s]"
     ]
    },
    {
     "name": "stdout",
     "output_type": "stream",
     "text": [
      "Batch 269 | Reject Differential (mean over batch): 0.0402\n",
      "Batch 269 | Reject Differential (mean over batch): 0.0449\n",
      "Batch 269 | Reject Differential (mean over batch): 0.0428\n"
     ]
    },
    {
     "name": "stderr",
     "output_type": "stream",
     "text": [
      " 87%|████████████████████████████████████████████████████████████████████████▋           | 271/313 [01:53<00:17,  2.45it/s]"
     ]
    },
    {
     "name": "stdout",
     "output_type": "stream",
     "text": [
      "Batch 270 | Reject Differential (mean over batch): 0.0343\n",
      "Batch 270 | Reject Differential (mean over batch): 0.0433\n",
      "Batch 270 | Reject Differential (mean over batch): 0.0360\n"
     ]
    },
    {
     "name": "stderr",
     "output_type": "stream",
     "text": [
      " 87%|████████████████████████████████████████████████████████████████████████▉           | 272/313 [01:54<00:16,  2.46it/s]"
     ]
    },
    {
     "name": "stdout",
     "output_type": "stream",
     "text": [
      "Batch 271 | Reject Differential (mean over batch): 0.0428\n",
      "Batch 271 | Reject Differential (mean over batch): 0.0486\n",
      "Batch 271 | Reject Differential (mean over batch): 0.0324\n"
     ]
    },
    {
     "name": "stderr",
     "output_type": "stream",
     "text": [
      " 87%|█████████████████████████████████████████████████████████████████████████▎          | 273/313 [01:54<00:16,  2.46it/s]"
     ]
    },
    {
     "name": "stdout",
     "output_type": "stream",
     "text": [
      "Batch 272 | Reject Differential (mean over batch): 0.0382\n",
      "Batch 272 | Reject Differential (mean over batch): 0.0483\n",
      "Batch 272 | Reject Differential (mean over batch): 0.0442\n"
     ]
    },
    {
     "name": "stderr",
     "output_type": "stream",
     "text": [
      " 88%|█████████████████████████████████████████████████████████████████████████▌          | 274/313 [01:54<00:15,  2.45it/s]"
     ]
    },
    {
     "name": "stdout",
     "output_type": "stream",
     "text": [
      "Batch 273 | Reject Differential (mean over batch): 0.0537\n",
      "Batch 273 | Reject Differential (mean over batch): 0.0409\n",
      "Batch 273 | Reject Differential (mean over batch): 0.0527\n"
     ]
    },
    {
     "name": "stderr",
     "output_type": "stream",
     "text": [
      " 88%|█████████████████████████████████████████████████████████████████████████▊          | 275/313 [01:55<00:15,  2.44it/s]"
     ]
    },
    {
     "name": "stdout",
     "output_type": "stream",
     "text": [
      "Batch 274 | Reject Differential (mean over batch): 0.0539\n",
      "Batch 274 | Reject Differential (mean over batch): 0.0580\n",
      "Batch 274 | Reject Differential (mean over batch): 0.0547\n"
     ]
    },
    {
     "name": "stderr",
     "output_type": "stream",
     "text": [
      " 88%|██████████████████████████████████████████████████████████████████████████          | 276/313 [01:55<00:15,  2.45it/s]"
     ]
    },
    {
     "name": "stdout",
     "output_type": "stream",
     "text": [
      "Batch 275 | Reject Differential (mean over batch): 0.0464\n",
      "Batch 275 | Reject Differential (mean over batch): 0.0460\n",
      "Batch 275 | Reject Differential (mean over batch): 0.0401\n"
     ]
    },
    {
     "name": "stderr",
     "output_type": "stream",
     "text": [
      " 88%|██████████████████████████████████████████████████████████████████████████▎         | 277/313 [01:56<00:14,  2.46it/s]"
     ]
    },
    {
     "name": "stdout",
     "output_type": "stream",
     "text": [
      "Batch 276 | Reject Differential (mean over batch): 0.0355\n",
      "Batch 276 | Reject Differential (mean over batch): 0.0420\n",
      "Batch 276 | Reject Differential (mean over batch): 0.0487\n",
      "Batch 277 | Reject Differential (mean over batch): 0.0605\n",
      "Batch 277 | Reject Differential (mean over batch): 0.0508\n"
     ]
    },
    {
     "name": "stderr",
     "output_type": "stream",
     "text": [
      " 89%|██████████████████████████████████████████████████████████████████████████▌         | 278/313 [01:56<00:14,  2.41it/s]"
     ]
    },
    {
     "name": "stdout",
     "output_type": "stream",
     "text": [
      "Batch 277 | Reject Differential (mean over batch): 0.0412\n"
     ]
    },
    {
     "name": "stderr",
     "output_type": "stream",
     "text": [
      " 89%|██████████████████████████████████████████████████████████████████████████▉         | 279/313 [01:56<00:13,  2.43it/s]"
     ]
    },
    {
     "name": "stdout",
     "output_type": "stream",
     "text": [
      "Batch 278 | Reject Differential (mean over batch): 0.0571\n",
      "Batch 278 | Reject Differential (mean over batch): 0.0461\n",
      "Batch 278 | Reject Differential (mean over batch): 0.0478\n",
      "Batch 279 | Reject Differential (mean over batch): 0.0506\n",
      "Batch 279 | Reject Differential (mean over batch): 0.0431\n"
     ]
    },
    {
     "name": "stderr",
     "output_type": "stream",
     "text": [
      " 89%|███████████████████████████████████████████████████████████████████████████▏        | 280/313 [01:57<00:13,  2.40it/s]"
     ]
    },
    {
     "name": "stdout",
     "output_type": "stream",
     "text": [
      "Batch 279 | Reject Differential (mean over batch): 0.0367\n"
     ]
    },
    {
     "name": "stderr",
     "output_type": "stream",
     "text": [
      " 90%|███████████████████████████████████████████████████████████████████████████▍        | 281/313 [01:57<00:13,  2.41it/s]"
     ]
    },
    {
     "name": "stdout",
     "output_type": "stream",
     "text": [
      "Batch 280 | Reject Differential (mean over batch): 0.0477\n",
      "Batch 280 | Reject Differential (mean over batch): 0.0513\n",
      "Batch 280 | Reject Differential (mean over batch): 0.0439\n",
      "Batch 281 | Reject Differential (mean over batch): 0.0524\n",
      "Batch 281 | Reject Differential (mean over batch): 0.0499\n"
     ]
    },
    {
     "name": "stderr",
     "output_type": "stream",
     "text": [
      " 90%|███████████████████████████████████████████████████████████████████████████▋        | 282/313 [01:58<00:13,  2.37it/s]"
     ]
    },
    {
     "name": "stdout",
     "output_type": "stream",
     "text": [
      "Batch 281 | Reject Differential (mean over batch): 0.0497\n"
     ]
    },
    {
     "name": "stderr",
     "output_type": "stream",
     "text": [
      " 90%|███████████████████████████████████████████████████████████████████████████▉        | 283/313 [01:58<00:12,  2.39it/s]"
     ]
    },
    {
     "name": "stdout",
     "output_type": "stream",
     "text": [
      "Batch 282 | Reject Differential (mean over batch): 0.0485\n",
      "Batch 282 | Reject Differential (mean over batch): 0.0555\n",
      "Batch 282 | Reject Differential (mean over batch): 0.0548\n"
     ]
    },
    {
     "name": "stderr",
     "output_type": "stream",
     "text": [
      " 91%|████████████████████████████████████████████████████████████████████████████▏       | 284/313 [01:59<00:12,  2.36it/s]"
     ]
    },
    {
     "name": "stdout",
     "output_type": "stream",
     "text": [
      "Batch 283 | Reject Differential (mean over batch): 0.0567\n",
      "Batch 283 | Reject Differential (mean over batch): 0.0572\n",
      "Batch 283 | Reject Differential (mean over batch): 0.0408\n"
     ]
    },
    {
     "name": "stderr",
     "output_type": "stream",
     "text": [
      " 91%|████████████████████████████████████████████████████████████████████████████▍       | 285/313 [01:59<00:11,  2.38it/s]"
     ]
    },
    {
     "name": "stdout",
     "output_type": "stream",
     "text": [
      "Batch 284 | Reject Differential (mean over batch): 0.0341\n",
      "Batch 284 | Reject Differential (mean over batch): 0.0455\n",
      "Batch 284 | Reject Differential (mean over batch): 0.0453\n"
     ]
    },
    {
     "name": "stderr",
     "output_type": "stream",
     "text": [
      " 91%|████████████████████████████████████████████████████████████████████████████▊       | 286/313 [01:59<00:11,  2.40it/s]"
     ]
    },
    {
     "name": "stdout",
     "output_type": "stream",
     "text": [
      "Batch 285 | Reject Differential (mean over batch): 0.0562\n",
      "Batch 285 | Reject Differential (mean over batch): 0.0449\n",
      "Batch 285 | Reject Differential (mean over batch): 0.0500\n"
     ]
    },
    {
     "name": "stderr",
     "output_type": "stream",
     "text": [
      " 92%|█████████████████████████████████████████████████████████████████████████████       | 287/313 [02:00<00:10,  2.42it/s]"
     ]
    },
    {
     "name": "stdout",
     "output_type": "stream",
     "text": [
      "Batch 286 | Reject Differential (mean over batch): 0.0450\n",
      "Batch 286 | Reject Differential (mean over batch): 0.0458\n",
      "Batch 286 | Reject Differential (mean over batch): 0.0367\n"
     ]
    },
    {
     "name": "stderr",
     "output_type": "stream",
     "text": [
      " 92%|█████████████████████████████████████████████████████████████████████████████▎      | 288/313 [02:00<00:10,  2.43it/s]"
     ]
    },
    {
     "name": "stdout",
     "output_type": "stream",
     "text": [
      "Batch 287 | Reject Differential (mean over batch): 0.0305\n",
      "Batch 287 | Reject Differential (mean over batch): 0.0348\n",
      "Batch 287 | Reject Differential (mean over batch): 0.0370\n"
     ]
    },
    {
     "name": "stderr",
     "output_type": "stream",
     "text": [
      " 92%|█████████████████████████████████████████████████████████████████████████████▌      | 289/313 [02:01<00:09,  2.45it/s]"
     ]
    },
    {
     "name": "stdout",
     "output_type": "stream",
     "text": [
      "Batch 288 | Reject Differential (mean over batch): 0.0414\n",
      "Batch 288 | Reject Differential (mean over batch): 0.0454\n",
      "Batch 288 | Reject Differential (mean over batch): 0.0400\n"
     ]
    },
    {
     "name": "stderr",
     "output_type": "stream",
     "text": [
      " 93%|█████████████████████████████████████████████████████████████████████████████▊      | 290/313 [02:01<00:09,  2.46it/s]"
     ]
    },
    {
     "name": "stdout",
     "output_type": "stream",
     "text": [
      "Batch 289 | Reject Differential (mean over batch): 0.0470\n",
      "Batch 289 | Reject Differential (mean over batch): 0.0496\n",
      "Batch 289 | Reject Differential (mean over batch): 0.0547\n"
     ]
    },
    {
     "name": "stderr",
     "output_type": "stream",
     "text": [
      " 93%|██████████████████████████████████████████████████████████████████████████████      | 291/313 [02:01<00:08,  2.47it/s]"
     ]
    },
    {
     "name": "stdout",
     "output_type": "stream",
     "text": [
      "Batch 290 | Reject Differential (mean over batch): 0.0516\n",
      "Batch 290 | Reject Differential (mean over batch): 0.0446\n",
      "Batch 290 | Reject Differential (mean over batch): 0.0356\n"
     ]
    },
    {
     "name": "stderr",
     "output_type": "stream",
     "text": [
      " 93%|██████████████████████████████████████████████████████████████████████████████▎     | 292/313 [02:02<00:08,  2.47it/s]"
     ]
    },
    {
     "name": "stdout",
     "output_type": "stream",
     "text": [
      "Batch 291 | Reject Differential (mean over batch): 0.0338\n",
      "Batch 291 | Reject Differential (mean over batch): 0.0394\n",
      "Batch 291 | Reject Differential (mean over batch): 0.0393\n"
     ]
    },
    {
     "name": "stderr",
     "output_type": "stream",
     "text": [
      " 94%|██████████████████████████████████████████████████████████████████████████████▋     | 293/313 [02:02<00:08,  2.48it/s]"
     ]
    },
    {
     "name": "stdout",
     "output_type": "stream",
     "text": [
      "Batch 292 | Reject Differential (mean over batch): 0.0453\n",
      "Batch 292 | Reject Differential (mean over batch): 0.0470\n",
      "Batch 292 | Reject Differential (mean over batch): 0.0469\n"
     ]
    },
    {
     "name": "stderr",
     "output_type": "stream",
     "text": [
      " 94%|██████████████████████████████████████████████████████████████████████████████▉     | 294/313 [02:03<00:07,  2.48it/s]"
     ]
    },
    {
     "name": "stdout",
     "output_type": "stream",
     "text": [
      "Batch 293 | Reject Differential (mean over batch): 0.0421\n",
      "Batch 293 | Reject Differential (mean over batch): 0.0497\n",
      "Batch 293 | Reject Differential (mean over batch): 0.0423\n"
     ]
    },
    {
     "name": "stderr",
     "output_type": "stream",
     "text": [
      " 94%|███████████████████████████████████████████████████████████████████████████████▏    | 295/313 [02:03<00:07,  2.48it/s]"
     ]
    },
    {
     "name": "stdout",
     "output_type": "stream",
     "text": [
      "Batch 294 | Reject Differential (mean over batch): 0.0526\n",
      "Batch 294 | Reject Differential (mean over batch): 0.0473\n",
      "Batch 294 | Reject Differential (mean over batch): 0.0419\n"
     ]
    },
    {
     "name": "stderr",
     "output_type": "stream",
     "text": [
      " 95%|███████████████████████████████████████████████████████████████████████████████▍    | 296/313 [02:03<00:06,  2.47it/s]"
     ]
    },
    {
     "name": "stdout",
     "output_type": "stream",
     "text": [
      "Batch 295 | Reject Differential (mean over batch): 0.0489\n",
      "Batch 295 | Reject Differential (mean over batch): 0.0496\n",
      "Batch 295 | Reject Differential (mean over batch): 0.0468\n"
     ]
    },
    {
     "name": "stderr",
     "output_type": "stream",
     "text": [
      " 95%|███████████████████████████████████████████████████████████████████████████████▋    | 297/313 [02:04<00:06,  2.47it/s]"
     ]
    },
    {
     "name": "stdout",
     "output_type": "stream",
     "text": [
      "Batch 296 | Reject Differential (mean over batch): 0.0592\n",
      "Batch 296 | Reject Differential (mean over batch): 0.0504\n",
      "Batch 296 | Reject Differential (mean over batch): 0.0492\n"
     ]
    },
    {
     "name": "stderr",
     "output_type": "stream",
     "text": [
      " 95%|███████████████████████████████████████████████████████████████████████████████▉    | 298/313 [02:04<00:06,  2.47it/s]"
     ]
    },
    {
     "name": "stdout",
     "output_type": "stream",
     "text": [
      "Batch 297 | Reject Differential (mean over batch): 0.0473\n",
      "Batch 297 | Reject Differential (mean over batch): 0.0360\n",
      "Batch 297 | Reject Differential (mean over batch): 0.0404\n"
     ]
    },
    {
     "name": "stderr",
     "output_type": "stream",
     "text": [
      " 96%|████████████████████████████████████████████████████████████████████████████████▏   | 299/313 [02:05<00:05,  2.47it/s]"
     ]
    },
    {
     "name": "stdout",
     "output_type": "stream",
     "text": [
      "Batch 298 | Reject Differential (mean over batch): 0.0321\n",
      "Batch 298 | Reject Differential (mean over batch): 0.0491\n",
      "Batch 298 | Reject Differential (mean over batch): 0.0426\n"
     ]
    },
    {
     "name": "stderr",
     "output_type": "stream",
     "text": [
      " 96%|████████████████████████████████████████████████████████████████████████████████▌   | 300/313 [02:05<00:05,  2.47it/s]"
     ]
    },
    {
     "name": "stdout",
     "output_type": "stream",
     "text": [
      "Batch 299 | Reject Differential (mean over batch): 0.0338\n",
      "Batch 299 | Reject Differential (mean over batch): 0.0422\n",
      "Batch 299 | Reject Differential (mean over batch): 0.0444\n"
     ]
    },
    {
     "name": "stderr",
     "output_type": "stream",
     "text": [
      " 96%|████████████████████████████████████████████████████████████████████████████████▊   | 301/313 [02:05<00:04,  2.48it/s]"
     ]
    },
    {
     "name": "stdout",
     "output_type": "stream",
     "text": [
      "Batch 300 | Reject Differential (mean over batch): 0.0361\n",
      "Batch 300 | Reject Differential (mean over batch): 0.0468\n",
      "Batch 300 | Reject Differential (mean over batch): 0.0387\n"
     ]
    },
    {
     "name": "stderr",
     "output_type": "stream",
     "text": [
      " 96%|█████████████████████████████████████████████████████████████████████████████████   | 302/313 [02:06<00:04,  2.48it/s]"
     ]
    },
    {
     "name": "stdout",
     "output_type": "stream",
     "text": [
      "Batch 301 | Reject Differential (mean over batch): 0.0427\n",
      "Batch 301 | Reject Differential (mean over batch): 0.0502\n",
      "Batch 301 | Reject Differential (mean over batch): 0.0411\n"
     ]
    },
    {
     "name": "stderr",
     "output_type": "stream",
     "text": [
      " 97%|█████████████████████████████████████████████████████████████████████████████████▎  | 303/313 [02:06<00:04,  2.48it/s]"
     ]
    },
    {
     "name": "stdout",
     "output_type": "stream",
     "text": [
      "Batch 302 | Reject Differential (mean over batch): 0.0479\n",
      "Batch 302 | Reject Differential (mean over batch): 0.0353\n",
      "Batch 302 | Reject Differential (mean over batch): 0.0411\n"
     ]
    },
    {
     "name": "stderr",
     "output_type": "stream",
     "text": [
      " 97%|█████████████████████████████████████████████████████████████████████████████████▌  | 304/313 [02:07<00:03,  2.47it/s]"
     ]
    },
    {
     "name": "stdout",
     "output_type": "stream",
     "text": [
      "Batch 303 | Reject Differential (mean over batch): 0.0413\n",
      "Batch 303 | Reject Differential (mean over batch): 0.0363\n",
      "Batch 303 | Reject Differential (mean over batch): 0.0393\n"
     ]
    },
    {
     "name": "stderr",
     "output_type": "stream",
     "text": [
      " 97%|█████████████████████████████████████████████████████████████████████████████████▊  | 305/313 [02:07<00:03,  2.43it/s]"
     ]
    },
    {
     "name": "stdout",
     "output_type": "stream",
     "text": [
      "Batch 304 | Reject Differential (mean over batch): 0.0441\n",
      "Batch 304 | Reject Differential (mean over batch): 0.0480\n",
      "Batch 304 | Reject Differential (mean over batch): 0.0421\n"
     ]
    },
    {
     "name": "stderr",
     "output_type": "stream",
     "text": [
      " 98%|██████████████████████████████████████████████████████████████████████████████████  | 306/313 [02:07<00:02,  2.44it/s]"
     ]
    },
    {
     "name": "stdout",
     "output_type": "stream",
     "text": [
      "Batch 305 | Reject Differential (mean over batch): 0.0422\n",
      "Batch 305 | Reject Differential (mean over batch): 0.0528\n",
      "Batch 305 | Reject Differential (mean over batch): 0.0475\n"
     ]
    },
    {
     "name": "stderr",
     "output_type": "stream",
     "text": [
      " 98%|██████████████████████████████████████████████████████████████████████████████████▍ | 307/313 [02:08<00:02,  2.43it/s]"
     ]
    },
    {
     "name": "stdout",
     "output_type": "stream",
     "text": [
      "Batch 306 | Reject Differential (mean over batch): 0.0516\n",
      "Batch 306 | Reject Differential (mean over batch): 0.0421\n",
      "Batch 306 | Reject Differential (mean over batch): 0.0420\n",
      "Batch 307 | Reject Differential (mean over batch): 0.0514\n",
      "Batch 307 | Reject Differential (mean over batch): 0.0456\n"
     ]
    },
    {
     "name": "stderr",
     "output_type": "stream",
     "text": [
      " 98%|██████████████████████████████████████████████████████████████████████████████████▋ | 308/313 [02:08<00:02,  2.42it/s]"
     ]
    },
    {
     "name": "stdout",
     "output_type": "stream",
     "text": [
      "Batch 307 | Reject Differential (mean over batch): 0.0440\n"
     ]
    },
    {
     "name": "stderr",
     "output_type": "stream",
     "text": [
      " 99%|██████████████████████████████████████████████████████████████████████████████████▉ | 309/313 [02:09<00:01,  2.44it/s]"
     ]
    },
    {
     "name": "stdout",
     "output_type": "stream",
     "text": [
      "Batch 308 | Reject Differential (mean over batch): 0.0475\n",
      "Batch 308 | Reject Differential (mean over batch): 0.0596\n",
      "Batch 308 | Reject Differential (mean over batch): 0.0476\n",
      "Batch 309 | Reject Differential (mean over batch): 0.0390\n",
      "Batch 309 | Reject Differential (mean over batch): 0.0440\n"
     ]
    },
    {
     "name": "stderr",
     "output_type": "stream",
     "text": [
      " 99%|███████████████████████████████████████████████████████████████████████████████████▏| 310/313 [02:09<00:01,  2.41it/s]"
     ]
    },
    {
     "name": "stdout",
     "output_type": "stream",
     "text": [
      "Batch 309 | Reject Differential (mean over batch): 0.0449\n"
     ]
    },
    {
     "name": "stderr",
     "output_type": "stream",
     "text": [
      " 99%|███████████████████████████████████████████████████████████████████████████████████▍| 311/313 [02:10<00:00,  2.43it/s]"
     ]
    },
    {
     "name": "stdout",
     "output_type": "stream",
     "text": [
      "Batch 310 | Reject Differential (mean over batch): 0.0450\n",
      "Batch 310 | Reject Differential (mean over batch): 0.0465\n",
      "Batch 310 | Reject Differential (mean over batch): 0.0409\n",
      "Batch 311 | Reject Differential (mean over batch): 0.0406\n",
      "Batch 311 | Reject Differential (mean over batch): 0.0405\n"
     ]
    },
    {
     "name": "stderr",
     "output_type": "stream",
     "text": [
      "100%|███████████████████████████████████████████████████████████████████████████████████▋| 312/313 [02:10<00:00,  2.41it/s]"
     ]
    },
    {
     "name": "stdout",
     "output_type": "stream",
     "text": [
      "Batch 311 | Reject Differential (mean over batch): 0.0380\n",
      "Batch 312 | Reject Differential (mean over batch): 0.0345\n",
      "Batch 312 | Reject Differential (mean over batch): 0.0527\n"
     ]
    },
    {
     "name": "stderr",
     "output_type": "stream",
     "text": [
      "100%|████████████████████████████████████████████████████████████████████████████████████| 313/313 [02:10<00:00,  2.40it/s]"
     ]
    },
    {
     "name": "stdout",
     "output_type": "stream",
     "text": [
      "Batch 312 | Reject Differential (mean over batch): 0.0425\n"
     ]
    },
    {
     "name": "stderr",
     "output_type": "stream",
     "text": [
      "\n"
     ]
    }
   ],
   "source": [
    "reject_diffs = []\n",
    "\n",
    "# If batch_size > 1, we get multiple images each iteration.\n",
    "for i, (image, label) in enumerate(tqdm(testloader)):\n",
    "   \n",
    "    image = image.to(device)\n",
    "\n",
    "\n",
    "    with torch.no_grad():\n",
    "        original_output = vgg16Fashion(image)\n",
    "        original_prob = F.softmax(original_output, dim=1)\n",
    "        original_confidence, original_pred = torch.max(original_prob, dim=1)  # shape [batch_size]\n",
    "\n",
    "    \n",
    "    for tf in transformations:\n",
    "        transformed_image = tf(image.cpu()).to(device)\n",
    "        \n",
    "        with torch.no_grad():\n",
    "            transformed_output = vgg16Fashion(transformed_image)\n",
    "            transformed_prob = F.softmax(transformed_output, dim=1)\n",
    "            transformed_confidence, transformed_pred = torch.max(transformed_prob, dim=1)\n",
    "        \n",
    "        # Compute absolute difference in confidence for the entire batch\n",
    "        # shape [batch_size]\n",
    "        diff_tensor = torch.abs(original_confidence - transformed_confidence)\n",
    "\n",
    "        \n",
    "        diff_mean = diff_tensor.mean().item()\n",
    "        reject_diffs.append(diff_mean)\n",
    "\n",
    "        \n",
    "        print(f\"Batch {i} | \"\n",
    "              f\"Reject Differential (mean over batch): {diff_mean:.4f}\")"
   ]
  },
  {
   "cell_type": "code",
   "execution_count": 37,
   "id": "62180a34-01cf-47d2-8349-662c905e59d2",
   "metadata": {},
   "outputs": [
    {
     "name": "stdout",
     "output_type": "stream",
     "text": [
      "Model saved as vgg16Fashion_Fashion-MNIST_finetuned.pth\n"
     ]
    }
   ],
   "source": [
    "model_save_path = './saved_models/vgg16Fashion_Fashion-MNIST_finetuned.pth'\n",
    "# Save the model\n",
    "torch.save(vgg16Fashion.state_dict(), model_save_path)\n",
    "print(\"Model saved as vgg16Fashion_Fashion-MNIST_finetuned.pth\")"
   ]
  },
  {
   "cell_type": "code",
   "execution_count": 38,
   "id": "680fedad-1123-458c-93d4-581ad9bb3340",
   "metadata": {},
   "outputs": [],
   "source": [
    "vgg16Fashion.load_state_dict(torch.load(model_save_path, weights_only=True))\n",
    "vgg16Fashion = vgg16Fashion.to(device)"
   ]
  },
  {
   "cell_type": "code",
   "execution_count": 39,
   "id": "e2c89796-bb76-4b7f-9fe8-33fc61aface9",
   "metadata": {},
   "outputs": [
    {
     "name": "stderr",
     "output_type": "stream",
     "text": [
      "100%|███████████████████████████████████████████████████████████████████████████████████████████████████████████████████████████████████████████████████████████████████████████████████████████████████████████████████████████████████████| 313/313 [00:36<00:00,  8.53it/s]\n"
     ]
    },
    {
     "name": "stdout",
     "output_type": "stream",
     "text": [
      "\n",
      "Final Test Results - Loss: 0.0065, Accuracy: 92.76%, Precision: 0.93, Recall: 0.93, F1 Score: 0.93\n"
     ]
    }
   ],
   "source": [
    "# Test the final metrics on the test set\n",
    "final_val_loss, final_val_accuracy, final_precision, final_recall, final_f1 = validate(vgg16Fashion, testloader)\n",
    "print(f'\\nFinal Test Results - Loss: {final_val_loss:.4f}, Accuracy: {final_val_accuracy:.2f}%, Precision: {final_precision:.2f}, Recall: {final_recall:.2f}, F1 Score: {final_f1:.2f}')"
   ]
  },
  {
   "cell_type": "code",
   "execution_count": null,
   "id": "915858f1-00f0-47a3-88c1-1a00f4014893",
   "metadata": {},
   "outputs": [],
   "source": []
  }
 ],
 "metadata": {
  "kernelspec": {
   "display_name": "Python 3 (ipykernel)",
   "language": "python",
   "name": "python3"
  },
  "language_info": {
   "codemirror_mode": {
    "name": "ipython",
    "version": 3
   },
   "file_extension": ".py",
   "mimetype": "text/x-python",
   "name": "python",
   "nbconvert_exporter": "python",
   "pygments_lexer": "ipython3",
   "version": "3.8.10"
  }
 },
 "nbformat": 4,
 "nbformat_minor": 5
}
