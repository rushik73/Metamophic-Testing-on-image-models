{
 "cells": [
  {
   "cell_type": "code",
   "execution_count": 1,
   "id": "002a7d89-dfac-4dfb-8a55-ea5242b4cbea",
   "metadata": {},
   "outputs": [],
   "source": [
    "import torch\n",
    "import torchvision\n",
    "import torchvision.transforms as transforms\n",
    "import torch.optim as optim\n",
    "import time\n",
    "import torch.nn.functional as F\n",
    "import torch.nn as nn\n",
    "import matplotlib.pyplot as plt\n",
    "from torchvision import models\n",
    "from sklearn.metrics import accuracy_score, precision_score, recall_score, f1_score\n",
    "from tqdm import tqdm"
   ]
  },
  {
   "cell_type": "code",
   "execution_count": 2,
   "id": "315e6cab-3490-41a0-af17-52839eaeca5b",
   "metadata": {},
   "outputs": [
    {
     "name": "stdout",
     "output_type": "stream",
     "text": [
      "cuda\n"
     ]
    }
   ],
   "source": [
    "device = 'cuda' if torch.cuda.is_available() else 'cpu'\n",
    "print(device)"
   ]
  },
  {
   "cell_type": "code",
   "execution_count": 3,
   "id": "5828d828-2b51-4642-9a70-169b539a6bdf",
   "metadata": {},
   "outputs": [],
   "source": [
    "transform = transforms.Compose(\n",
    "    [transforms.Resize((224, 224)),\n",
    "     transforms.ToTensor(),\n",
    "     transforms.Normalize((0.4914, 0.4822, 0.447), (0.247, 0.243, 0.262))])\n",
    "trainset = torchvision.datasets.FashionMNIST(root='./data', train=True,\n",
    "                                        download=True, transform=transform)\n",
    "trainloader = torch.utils.data.DataLoader(trainset, batch_size=16,\n",
    "                                          shuffle=True)\n",
    "testset = torchvision.datasets.FashionMNIST(root='./data', train=False,\n",
    "                                       download=True, transform=transform)\n",
    "testloader = torch.utils.data.DataLoader(testset, batch_size=16,\n",
    "                                         shuffle=False)\n"
   ]
  },
  {
   "cell_type": "code",
   "execution_count": 4,
   "id": "8f086a91-adc8-4c17-a4a7-ddf683301ea1",
   "metadata": {},
   "outputs": [
    {
     "name": "stderr",
     "output_type": "stream",
     "text": [
      "/home/rushik/.local/lib/python3.8/site-packages/torchvision/models/_utils.py:208: UserWarning: The parameter 'pretrained' is deprecated since 0.13 and may be removed in the future, please use 'weights' instead.\n",
      "  warnings.warn(\n",
      "/home/rushik/.local/lib/python3.8/site-packages/torchvision/models/_utils.py:223: UserWarning: Arguments other than a weight enum or `None` for 'weights' are deprecated since 0.13 and may be removed in the future. The current behavior is equivalent to passing `weights=DenseNet121_Weights.IMAGENET1K_V1`. You can also use `weights=DenseNet121_Weights.DEFAULT` to get the most up-to-date weights.\n",
      "  warnings.warn(msg)\n"
     ]
    },
    {
     "name": "stdout",
     "output_type": "stream",
     "text": [
      "Unexpected exception formatting exception. Falling back to standard exception\n"
     ]
    },
    {
     "name": "stderr",
     "output_type": "stream",
     "text": [
      "Traceback (most recent call last):\n",
      "  File \"/home/rushik/.local/lib/python3.8/site-packages/IPython/core/interactiveshell.py\", line 3508, in run_code\n",
      "    exec(code_obj, self.user_global_ns, self.user_ns)\n",
      "  File \"/tmp/ipykernel_390646/1444421727.py\", line 3, in <module>\n",
      "    DenseNet.to(device)\n",
      "  File \"/home/rushik/.local/lib/python3.8/site-packages/torch/nn/modules/module.py\", line 1174, in to\n",
      "    return self._apply(convert)\n",
      "  File \"/home/rushik/.local/lib/python3.8/site-packages/torch/nn/modules/module.py\", line 780, in _apply\n",
      "    module._apply(fn)\n",
      "  File \"/home/rushik/.local/lib/python3.8/site-packages/torch/nn/modules/module.py\", line 780, in _apply\n",
      "    module._apply(fn)\n",
      "  File \"/home/rushik/.local/lib/python3.8/site-packages/torch/nn/modules/module.py\", line 805, in _apply\n",
      "    param_applied = fn(param)\n",
      "  File \"/home/rushik/.local/lib/python3.8/site-packages/torch/nn/modules/module.py\", line 1160, in convert\n",
      "    return t.to(\n",
      "RuntimeError: CUDA error: out of memory\n",
      "CUDA kernel errors might be asynchronously reported at some other API call, so the stacktrace below might be incorrect.\n",
      "For debugging consider passing CUDA_LAUNCH_BLOCKING=1\n",
      "Compile with `TORCH_USE_CUDA_DSA` to enable device-side assertions.\n",
      "\n",
      "\n",
      "During handling of the above exception, another exception occurred:\n",
      "\n",
      "Traceback (most recent call last):\n",
      "  File \"/home/rushik/.local/lib/python3.8/site-packages/IPython/core/interactiveshell.py\", line 2105, in showtraceback\n",
      "    stb = self.InteractiveTB.structured_traceback(\n",
      "  File \"/home/rushik/.local/lib/python3.8/site-packages/IPython/core/ultratb.py\", line 1396, in structured_traceback\n",
      "    return FormattedTB.structured_traceback(\n",
      "  File \"/home/rushik/.local/lib/python3.8/site-packages/IPython/core/ultratb.py\", line 1287, in structured_traceback\n",
      "    return VerboseTB.structured_traceback(\n",
      "  File \"/home/rushik/.local/lib/python3.8/site-packages/IPython/core/ultratb.py\", line 1140, in structured_traceback\n",
      "    formatted_exception = self.format_exception_as_a_whole(etype, evalue, etb, number_of_lines_of_context,\n",
      "  File \"/home/rushik/.local/lib/python3.8/site-packages/IPython/core/ultratb.py\", line 1030, in format_exception_as_a_whole\n",
      "    self.get_records(etb, number_of_lines_of_context, tb_offset) if etb else []\n",
      "  File \"/home/rushik/.local/lib/python3.8/site-packages/IPython/core/ultratb.py\", line 1082, in get_records\n",
      "    style = stack_data.style_with_executing_node(style, self._tb_highlight)\n",
      "  File \"/home/rushik/.local/lib/python3.8/site-packages/stack_data/core.py\", line 455, in style_with_executing_node\n",
      "    class NewStyle(style):\n",
      "  File \"/usr/lib/python3/dist-packages/pygments/style.py\", line 91, in __new__\n",
      "    ndef[4] = colorformat(styledef[3:])\n",
      "  File \"/usr/lib/python3/dist-packages/pygments/style.py\", line 58, in colorformat\n",
      "    assert False, \"wrong color format %r\" % text\n",
      "AssertionError: wrong color format 'ansiyellow'\n"
     ]
    }
   ],
   "source": [
    "DenseNet = models.densenet121(pretrained = True)\n",
    "DenseNet.classifier = nn.Linear(1024, 10)\n",
    "DenseNet.to(device)\n",
    "print(DenseNet)"
   ]
  },
  {
   "cell_type": "code",
   "execution_count": 6,
   "id": "70555573-9e54-4ac2-b5d4-fb0a61fd3f4c",
   "metadata": {},
   "outputs": [],
   "source": [
    "# optimizer\n",
    "optimizer = optim.SGD(DenseNet.classifier.parameters(), lr=0.001, momentum=0.9)\n",
    "# loss function\n",
    "criterion = nn.CrossEntropyLoss()"
   ]
  },
  {
   "cell_type": "code",
   "execution_count": 7,
   "id": "e619171d-941b-4c0b-ad5e-1278604c6301",
   "metadata": {},
   "outputs": [],
   "source": [
    "#transformations for metamorphic testing\n",
    "transformations = [\n",
    "    transforms.RandomRotation(degrees=10),  # Small rotation\n",
    "    transforms.ColorJitter(brightness=0.2),  # Slight brightness change\n",
    "    transforms.RandomAffine(degrees=0, translate=(0.1, 0.1))  # Small translation\n",
    "]"
   ]
  },
  {
   "cell_type": "code",
   "execution_count": 8,
   "id": "93e45a48-911b-4508-9f2b-ab28d02d0097",
   "metadata": {},
   "outputs": [],
   "source": [
    "# Validation Function\n",
    "def validate(model, test_dataloader):\n",
    "    model.eval()\n",
    "    val_running_loss = 0.0\n",
    "    val_running_correct = 0\n",
    "    all_preds = []\n",
    "    all_targets = []\n",
    "    with torch.no_grad():\n",
    "        for data, target in tqdm(test_dataloader):\n",
    "            data, target = data.to(device), target.to(device)\n",
    "            output = model(data)\n",
    "            loss = criterion(output, target)\n",
    "            val_running_loss += loss.item()\n",
    "            _, preds = torch.max(output.data, 1)\n",
    "            val_running_correct += (preds == target).sum().item()\n",
    "            all_preds.extend(preds.cpu().numpy())\n",
    "            all_targets.extend(target.cpu().numpy())\n",
    "    \n",
    "    val_loss = val_running_loss / len(test_dataloader.dataset)\n",
    "    val_accuracy = 100. * val_running_correct / len(test_dataloader.dataset)\n",
    "    \n",
    "    # Calculate metrics\n",
    "    precision = precision_score(all_targets, all_preds, average='weighted')\n",
    "    recall = recall_score(all_targets, all_preds, average='weighted')\n",
    "    f1 = f1_score(all_targets, all_preds, average='weighted')\n",
    "    \n",
    "    return val_loss, val_accuracy, precision, recall, f1"
   ]
  },
  {
   "cell_type": "code",
   "execution_count": 9,
   "id": "4ec4e9c0-b6dd-405b-bd7e-e4b3360c73c7",
   "metadata": {},
   "outputs": [],
   "source": [
    "def fit(model, train_dataloader):\n",
    "    model.train()\n",
    "    train_running_loss = 0.0\n",
    "    train_running_correct = 0\n",
    "    for  data, target in tqdm(train_dataloader):\n",
    "        data, target = data.to(device), target.to(device)\n",
    "        optimizer.zero_grad()\n",
    "        output = model(data)\n",
    "        loss = criterion(output, target)\n",
    "        train_running_loss += loss.item()\n",
    "        _, preds = torch.max(output.data, 1)\n",
    "        train_running_correct += (preds == target).sum().item()\n",
    "        loss.backward()\n",
    "        optimizer.step()\n",
    "    train_loss = train_running_loss/len(train_dataloader.dataset)\n",
    "    train_accuracy = 100. * train_running_correct/len(train_dataloader.dataset)\n",
    "    print(f'Train Loss: {train_loss:.4f}, Train Acc: {train_accuracy:.2f}')\n",
    "    \n",
    "    return train_loss, train_accuracy"
   ]
  },
  {
   "cell_type": "code",
   "execution_count": 10,
   "id": "b50507b4-f380-4359-bd47-dbaddb610516",
   "metadata": {},
   "outputs": [
    {
     "name": "stderr",
     "output_type": "stream",
     "text": [
      "  0%|▎                                                                                                                                                                    | 1/625 [00:00<06:39,  1.56it/s]"
     ]
    },
    {
     "name": "stdout",
     "output_type": "stream",
     "text": [
      "Batch 0 | Reject Differential (mean over batch): 0.0401\n",
      "Batch 0 | Reject Differential (mean over batch): 0.0358\n",
      "Batch 0 | Reject Differential (mean over batch): 0.0401\n"
     ]
    },
    {
     "name": "stderr",
     "output_type": "stream",
     "text": [
      "  0%|▌                                                                                                                                                                    | 2/625 [00:00<03:58,  2.61it/s]"
     ]
    },
    {
     "name": "stdout",
     "output_type": "stream",
     "text": [
      "Batch 1 | Reject Differential (mean over batch): 0.0356\n",
      "Batch 1 | Reject Differential (mean over batch): 0.0426\n",
      "Batch 1 | Reject Differential (mean over batch): 0.0261\n"
     ]
    },
    {
     "name": "stderr",
     "output_type": "stream",
     "text": [
      "  0%|▊                                                                                                                                                                    | 3/625 [00:01<03:06,  3.34it/s]"
     ]
    },
    {
     "name": "stdout",
     "output_type": "stream",
     "text": [
      "Batch 2 | Reject Differential (mean over batch): 0.0292\n",
      "Batch 2 | Reject Differential (mean over batch): 0.0298\n",
      "Batch 2 | Reject Differential (mean over batch): 0.0198\n",
      "Batch 3 | Reject Differential (mean over batch): 0.0233\n"
     ]
    },
    {
     "name": "stderr",
     "output_type": "stream",
     "text": [
      "  1%|█                                                                                                                                                                    | 4/625 [00:01<02:41,  3.84it/s]"
     ]
    },
    {
     "name": "stdout",
     "output_type": "stream",
     "text": [
      "Batch 3 | Reject Differential (mean over batch): 0.0359\n",
      "Batch 3 | Reject Differential (mean over batch): 0.0285\n",
      "Batch 4 | Reject Differential (mean over batch): 0.0340\n"
     ]
    },
    {
     "name": "stderr",
     "output_type": "stream",
     "text": [
      "  1%|█▎                                                                                                                                                                   | 5/625 [00:01<02:29,  4.15it/s]"
     ]
    },
    {
     "name": "stdout",
     "output_type": "stream",
     "text": [
      "Batch 4 | Reject Differential (mean over batch): 0.0351\n",
      "Batch 4 | Reject Differential (mean over batch): 0.0275\n",
      "Batch 5 | Reject Differential (mean over batch): 0.0315\n"
     ]
    },
    {
     "name": "stderr",
     "output_type": "stream",
     "text": [
      "  1%|█▌                                                                                                                                                                   | 6/625 [00:01<02:21,  4.38it/s]"
     ]
    },
    {
     "name": "stdout",
     "output_type": "stream",
     "text": [
      "Batch 5 | Reject Differential (mean over batch): 0.0381\n",
      "Batch 5 | Reject Differential (mean over batch): 0.0302\n",
      "Batch 6 | Reject Differential (mean over batch): 0.0296\n"
     ]
    },
    {
     "name": "stderr",
     "output_type": "stream",
     "text": [
      "  1%|█▊                                                                                                                                                                   | 7/625 [00:01<02:16,  4.54it/s]"
     ]
    },
    {
     "name": "stdout",
     "output_type": "stream",
     "text": [
      "Batch 6 | Reject Differential (mean over batch): 0.0499\n",
      "Batch 6 | Reject Differential (mean over batch): 0.0225\n",
      "Batch 7 | Reject Differential (mean over batch): 0.0258\n"
     ]
    },
    {
     "name": "stderr",
     "output_type": "stream",
     "text": [
      "  1%|██                                                                                                                                                                   | 8/625 [00:02<02:11,  4.69it/s]"
     ]
    },
    {
     "name": "stdout",
     "output_type": "stream",
     "text": [
      "Batch 7 | Reject Differential (mean over batch): 0.0435\n",
      "Batch 7 | Reject Differential (mean over batch): 0.0190\n",
      "Batch 8 | Reject Differential (mean over batch): 0.0268\n",
      "Batch 8 | Reject Differential (mean over batch): 0.0430\n"
     ]
    },
    {
     "name": "stderr",
     "output_type": "stream",
     "text": [
      "  2%|██▌                                                                                                                                                                 | 10/625 [00:02<02:02,  5.04it/s]"
     ]
    },
    {
     "name": "stdout",
     "output_type": "stream",
     "text": [
      "Batch 8 | Reject Differential (mean over batch): 0.0339\n",
      "Batch 9 | Reject Differential (mean over batch): 0.0290\n",
      "Batch 9 | Reject Differential (mean over batch): 0.0219\n",
      "Batch 9 | Reject Differential (mean over batch): 0.0379\n"
     ]
    },
    {
     "name": "stderr",
     "output_type": "stream",
     "text": [
      "  2%|██▉                                                                                                                                                                 | 11/625 [00:02<01:59,  5.14it/s]"
     ]
    },
    {
     "name": "stdout",
     "output_type": "stream",
     "text": [
      "Batch 10 | Reject Differential (mean over batch): 0.0265\n",
      "Batch 10 | Reject Differential (mean over batch): 0.0405\n",
      "Batch 10 | Reject Differential (mean over batch): 0.0317\n",
      "Batch 11 | Reject Differential (mean over batch): 0.0259\n"
     ]
    },
    {
     "name": "stderr",
     "output_type": "stream",
     "text": [
      "  2%|███▏                                                                                                                                                                | 12/625 [00:02<01:57,  5.21it/s]"
     ]
    },
    {
     "name": "stdout",
     "output_type": "stream",
     "text": [
      "Batch 11 | Reject Differential (mean over batch): 0.0237\n",
      "Batch 11 | Reject Differential (mean over batch): 0.0149\n",
      "Batch 12 | Reject Differential (mean over batch): 0.0246\n",
      "Batch 12 | Reject Differential (mean over batch): 0.0347\n"
     ]
    },
    {
     "name": "stderr",
     "output_type": "stream",
     "text": [
      "  2%|███▋                                                                                                                                                                | 14/625 [00:03<01:54,  5.33it/s]"
     ]
    },
    {
     "name": "stdout",
     "output_type": "stream",
     "text": [
      "Batch 12 | Reject Differential (mean over batch): 0.0230\n",
      "Batch 13 | Reject Differential (mean over batch): 0.0325\n",
      "Batch 13 | Reject Differential (mean over batch): 0.0337\n",
      "Batch 13 | Reject Differential (mean over batch): 0.0257\n"
     ]
    },
    {
     "name": "stderr",
     "output_type": "stream",
     "text": [
      "  2%|███▉                                                                                                                                                                | 15/625 [00:03<01:54,  5.34it/s]"
     ]
    },
    {
     "name": "stdout",
     "output_type": "stream",
     "text": [
      "Batch 14 | Reject Differential (mean over batch): 0.0189\n",
      "Batch 14 | Reject Differential (mean over batch): 0.0315\n",
      "Batch 14 | Reject Differential (mean over batch): 0.0243\n",
      "Batch 15 | Reject Differential (mean over batch): 0.0333\n"
     ]
    },
    {
     "name": "stderr",
     "output_type": "stream",
     "text": [
      "  3%|████▏                                                                                                                                                               | 16/625 [00:03<01:54,  5.34it/s]"
     ]
    },
    {
     "name": "stdout",
     "output_type": "stream",
     "text": [
      "Batch 15 | Reject Differential (mean over batch): 0.0310\n",
      "Batch 15 | Reject Differential (mean over batch): 0.0236\n",
      "Batch 16 | Reject Differential (mean over batch): 0.0389\n",
      "Batch 16 | Reject Differential (mean over batch): 0.0363\n"
     ]
    },
    {
     "name": "stderr",
     "output_type": "stream",
     "text": [
      "  3%|████▋                                                                                                                                                               | 18/625 [00:03<01:55,  5.25it/s]"
     ]
    },
    {
     "name": "stdout",
     "output_type": "stream",
     "text": [
      "Batch 16 | Reject Differential (mean over batch): 0.0167\n",
      "Batch 17 | Reject Differential (mean over batch): 0.0262\n",
      "Batch 17 | Reject Differential (mean over batch): 0.0389\n",
      "Batch 17 | Reject Differential (mean over batch): 0.0337\n"
     ]
    },
    {
     "name": "stderr",
     "output_type": "stream",
     "text": [
      "  3%|████▉                                                                                                                                                               | 19/625 [00:04<01:54,  5.29it/s]"
     ]
    },
    {
     "name": "stdout",
     "output_type": "stream",
     "text": [
      "Batch 18 | Reject Differential (mean over batch): 0.0299\n",
      "Batch 18 | Reject Differential (mean over batch): 0.0314\n",
      "Batch 18 | Reject Differential (mean over batch): 0.0401\n",
      "Batch 19 | Reject Differential (mean over batch): 0.0359\n"
     ]
    },
    {
     "name": "stderr",
     "output_type": "stream",
     "text": [
      "  3%|█████▏                                                                                                                                                              | 20/625 [00:04<01:53,  5.33it/s]"
     ]
    },
    {
     "name": "stdout",
     "output_type": "stream",
     "text": [
      "Batch 19 | Reject Differential (mean over batch): 0.0370\n",
      "Batch 19 | Reject Differential (mean over batch): 0.0346\n",
      "Batch 20 | Reject Differential (mean over batch): 0.0287\n",
      "Batch 20 | Reject Differential (mean over batch): 0.0380\n"
     ]
    },
    {
     "name": "stderr",
     "output_type": "stream",
     "text": [
      "  4%|█████▊                                                                                                                                                              | 22/625 [00:04<01:52,  5.36it/s]"
     ]
    },
    {
     "name": "stdout",
     "output_type": "stream",
     "text": [
      "Batch 20 | Reject Differential (mean over batch): 0.0250\n",
      "Batch 21 | Reject Differential (mean over batch): 0.0293\n",
      "Batch 21 | Reject Differential (mean over batch): 0.0393\n",
      "Batch 21 | Reject Differential (mean over batch): 0.0309\n"
     ]
    },
    {
     "name": "stderr",
     "output_type": "stream",
     "text": [
      "  4%|██████                                                                                                                                                              | 23/625 [00:04<01:52,  5.35it/s]"
     ]
    },
    {
     "name": "stdout",
     "output_type": "stream",
     "text": [
      "Batch 22 | Reject Differential (mean over batch): 0.0272\n",
      "Batch 22 | Reject Differential (mean over batch): 0.0236\n",
      "Batch 22 | Reject Differential (mean over batch): 0.0251\n",
      "Batch 23 | Reject Differential (mean over batch): 0.0260\n"
     ]
    },
    {
     "name": "stderr",
     "output_type": "stream",
     "text": [
      "  4%|██████▎                                                                                                                                                             | 24/625 [00:05<01:54,  5.25it/s]"
     ]
    },
    {
     "name": "stdout",
     "output_type": "stream",
     "text": [
      "Batch 23 | Reject Differential (mean over batch): 0.0374\n",
      "Batch 23 | Reject Differential (mean over batch): 0.0272\n",
      "Batch 24 | Reject Differential (mean over batch): 0.0181\n",
      "Batch 24 | Reject Differential (mean over batch): 0.0352\n"
     ]
    },
    {
     "name": "stderr",
     "output_type": "stream",
     "text": [
      "  4%|██████▊                                                                                                                                                             | 26/625 [00:05<01:53,  5.26it/s]"
     ]
    },
    {
     "name": "stdout",
     "output_type": "stream",
     "text": [
      "Batch 24 | Reject Differential (mean over batch): 0.0303\n",
      "Batch 25 | Reject Differential (mean over batch): 0.0343\n",
      "Batch 25 | Reject Differential (mean over batch): 0.0312\n",
      "Batch 25 | Reject Differential (mean over batch): 0.0305\n"
     ]
    },
    {
     "name": "stderr",
     "output_type": "stream",
     "text": [
      "  4%|███████                                                                                                                                                             | 27/625 [00:05<01:52,  5.29it/s]"
     ]
    },
    {
     "name": "stdout",
     "output_type": "stream",
     "text": [
      "Batch 26 | Reject Differential (mean over batch): 0.0319\n",
      "Batch 26 | Reject Differential (mean over batch): 0.0410\n",
      "Batch 26 | Reject Differential (mean over batch): 0.0240\n",
      "Batch 27 | Reject Differential (mean over batch): 0.0295\n"
     ]
    },
    {
     "name": "stderr",
     "output_type": "stream",
     "text": [
      "  4%|███████▎                                                                                                                                                            | 28/625 [00:05<01:52,  5.30it/s]"
     ]
    },
    {
     "name": "stdout",
     "output_type": "stream",
     "text": [
      "Batch 27 | Reject Differential (mean over batch): 0.0337\n",
      "Batch 27 | Reject Differential (mean over batch): 0.0220\n",
      "Batch 28 | Reject Differential (mean over batch): 0.0372\n",
      "Batch 28 | Reject Differential (mean over batch): 0.0618\n"
     ]
    },
    {
     "name": "stderr",
     "output_type": "stream",
     "text": [
      "  5%|███████▊                                                                                                                                                            | 30/625 [00:06<01:50,  5.36it/s]"
     ]
    },
    {
     "name": "stdout",
     "output_type": "stream",
     "text": [
      "Batch 28 | Reject Differential (mean over batch): 0.0353\n",
      "Batch 29 | Reject Differential (mean over batch): 0.0202\n",
      "Batch 29 | Reject Differential (mean over batch): 0.0419\n",
      "Batch 29 | Reject Differential (mean over batch): 0.0369\n"
     ]
    },
    {
     "name": "stderr",
     "output_type": "stream",
     "text": [
      "  5%|████████▏                                                                                                                                                           | 31/625 [00:06<01:50,  5.36it/s]"
     ]
    },
    {
     "name": "stdout",
     "output_type": "stream",
     "text": [
      "Batch 30 | Reject Differential (mean over batch): 0.0350\n",
      "Batch 30 | Reject Differential (mean over batch): 0.0427\n",
      "Batch 30 | Reject Differential (mean over batch): 0.0239\n",
      "Batch 31 | Reject Differential (mean over batch): 0.0309\n"
     ]
    },
    {
     "name": "stderr",
     "output_type": "stream",
     "text": [
      "  5%|████████▍                                                                                                                                                           | 32/625 [00:06<01:50,  5.34it/s]"
     ]
    },
    {
     "name": "stdout",
     "output_type": "stream",
     "text": [
      "Batch 31 | Reject Differential (mean over batch): 0.0321\n",
      "Batch 31 | Reject Differential (mean over batch): 0.0286\n",
      "Batch 32 | Reject Differential (mean over batch): 0.0329\n",
      "Batch 32 | Reject Differential (mean over batch): 0.0293\n"
     ]
    },
    {
     "name": "stderr",
     "output_type": "stream",
     "text": [
      "  5%|████████▉                                                                                                                                                           | 34/625 [00:06<01:52,  5.26it/s]"
     ]
    },
    {
     "name": "stdout",
     "output_type": "stream",
     "text": [
      "Batch 32 | Reject Differential (mean over batch): 0.0242\n",
      "Batch 33 | Reject Differential (mean over batch): 0.0266\n",
      "Batch 33 | Reject Differential (mean over batch): 0.0231\n",
      "Batch 33 | Reject Differential (mean over batch): 0.0186\n"
     ]
    },
    {
     "name": "stderr",
     "output_type": "stream",
     "text": [
      "  6%|█████████▏                                                                                                                                                          | 35/625 [00:07<01:51,  5.29it/s]"
     ]
    },
    {
     "name": "stdout",
     "output_type": "stream",
     "text": [
      "Batch 34 | Reject Differential (mean over batch): 0.0330\n",
      "Batch 34 | Reject Differential (mean over batch): 0.0301\n",
      "Batch 34 | Reject Differential (mean over batch): 0.0237\n",
      "Batch 35 | Reject Differential (mean over batch): 0.0300\n"
     ]
    },
    {
     "name": "stderr",
     "output_type": "stream",
     "text": [
      "  6%|█████████▍                                                                                                                                                          | 36/625 [00:07<01:50,  5.33it/s]"
     ]
    },
    {
     "name": "stdout",
     "output_type": "stream",
     "text": [
      "Batch 35 | Reject Differential (mean over batch): 0.0325\n",
      "Batch 35 | Reject Differential (mean over batch): 0.0214\n",
      "Batch 36 | Reject Differential (mean over batch): 0.0359\n",
      "Batch 36 | Reject Differential (mean over batch): 0.0284\n"
     ]
    },
    {
     "name": "stderr",
     "output_type": "stream",
     "text": [
      "  6%|█████████▉                                                                                                                                                          | 38/625 [00:07<01:49,  5.37it/s]"
     ]
    },
    {
     "name": "stdout",
     "output_type": "stream",
     "text": [
      "Batch 36 | Reject Differential (mean over batch): 0.0242\n",
      "Batch 37 | Reject Differential (mean over batch): 0.0254\n",
      "Batch 37 | Reject Differential (mean over batch): 0.0320\n",
      "Batch 37 | Reject Differential (mean over batch): 0.0227\n"
     ]
    },
    {
     "name": "stderr",
     "output_type": "stream",
     "text": [
      "  6%|██████████▏                                                                                                                                                         | 39/625 [00:07<01:49,  5.37it/s]"
     ]
    },
    {
     "name": "stdout",
     "output_type": "stream",
     "text": [
      "Batch 38 | Reject Differential (mean over batch): 0.0386\n",
      "Batch 38 | Reject Differential (mean over batch): 0.0387\n",
      "Batch 38 | Reject Differential (mean over batch): 0.0374\n",
      "Batch 39 | Reject Differential (mean over batch): 0.0361\n"
     ]
    },
    {
     "name": "stderr",
     "output_type": "stream",
     "text": [
      "  6%|██████████▍                                                                                                                                                         | 40/625 [00:08<01:48,  5.38it/s]"
     ]
    },
    {
     "name": "stdout",
     "output_type": "stream",
     "text": [
      "Batch 39 | Reject Differential (mean over batch): 0.0410\n",
      "Batch 39 | Reject Differential (mean over batch): 0.0256\n",
      "Batch 40 | Reject Differential (mean over batch): 0.0307\n",
      "Batch 40 | Reject Differential (mean over batch): 0.0378\n"
     ]
    },
    {
     "name": "stderr",
     "output_type": "stream",
     "text": [
      "  7%|███████████                                                                                                                                                         | 42/625 [00:08<01:48,  5.39it/s]"
     ]
    },
    {
     "name": "stdout",
     "output_type": "stream",
     "text": [
      "Batch 40 | Reject Differential (mean over batch): 0.0268\n",
      "Batch 41 | Reject Differential (mean over batch): 0.0288\n",
      "Batch 41 | Reject Differential (mean over batch): 0.0321\n",
      "Batch 41 | Reject Differential (mean over batch): 0.0289\n"
     ]
    },
    {
     "name": "stderr",
     "output_type": "stream",
     "text": [
      "  7%|███████████▎                                                                                                                                                        | 43/625 [00:08<01:48,  5.38it/s]"
     ]
    },
    {
     "name": "stdout",
     "output_type": "stream",
     "text": [
      "Batch 42 | Reject Differential (mean over batch): 0.0229\n",
      "Batch 42 | Reject Differential (mean over batch): 0.0263\n",
      "Batch 42 | Reject Differential (mean over batch): 0.0252\n",
      "Batch 43 | Reject Differential (mean over batch): 0.0214\n"
     ]
    },
    {
     "name": "stderr",
     "output_type": "stream",
     "text": [
      "  7%|███████████▌                                                                                                                                                        | 44/625 [00:08<01:48,  5.36it/s]"
     ]
    },
    {
     "name": "stdout",
     "output_type": "stream",
     "text": [
      "Batch 43 | Reject Differential (mean over batch): 0.0352\n",
      "Batch 43 | Reject Differential (mean over batch): 0.0302\n",
      "Batch 44 | Reject Differential (mean over batch): 0.0392\n",
      "Batch 44 | Reject Differential (mean over batch): 0.0375\n"
     ]
    },
    {
     "name": "stderr",
     "output_type": "stream",
     "text": [
      "  7%|████████████                                                                                                                                                        | 46/625 [00:09<01:48,  5.36it/s]"
     ]
    },
    {
     "name": "stdout",
     "output_type": "stream",
     "text": [
      "Batch 44 | Reject Differential (mean over batch): 0.0361\n",
      "Batch 45 | Reject Differential (mean over batch): 0.0218\n",
      "Batch 45 | Reject Differential (mean over batch): 0.0312\n",
      "Batch 45 | Reject Differential (mean over batch): 0.0304\n"
     ]
    },
    {
     "name": "stderr",
     "output_type": "stream",
     "text": [
      "  8%|████████████▎                                                                                                                                                       | 47/625 [00:09<01:49,  5.30it/s]"
     ]
    },
    {
     "name": "stdout",
     "output_type": "stream",
     "text": [
      "Batch 46 | Reject Differential (mean over batch): 0.0328\n",
      "Batch 46 | Reject Differential (mean over batch): 0.0263\n",
      "Batch 46 | Reject Differential (mean over batch): 0.0343\n"
     ]
    },
    {
     "name": "stderr",
     "output_type": "stream",
     "text": [
      "  8%|████████████▌                                                                                                                                                       | 48/625 [00:09<01:49,  5.26it/s]"
     ]
    },
    {
     "name": "stdout",
     "output_type": "stream",
     "text": [
      "Batch 47 | Reject Differential (mean over batch): 0.0301\n",
      "Batch 47 | Reject Differential (mean over batch): 0.0354\n",
      "Batch 47 | Reject Differential (mean over batch): 0.0327\n",
      "Batch 48 | Reject Differential (mean over batch): 0.0225\n"
     ]
    },
    {
     "name": "stderr",
     "output_type": "stream",
     "text": [
      "  8%|████████████▊                                                                                                                                                       | 49/625 [00:09<01:48,  5.29it/s]"
     ]
    },
    {
     "name": "stdout",
     "output_type": "stream",
     "text": [
      "Batch 48 | Reject Differential (mean over batch): 0.0303\n",
      "Batch 48 | Reject Differential (mean over batch): 0.0176\n",
      "Batch 49 | Reject Differential (mean over batch): 0.0318\n",
      "Batch 49 | Reject Differential (mean over batch): 0.0227\n"
     ]
    },
    {
     "name": "stderr",
     "output_type": "stream",
     "text": [
      "  8%|█████████████                                                                                                                                                       | 50/625 [00:09<01:48,  5.32it/s]"
     ]
    },
    {
     "name": "stdout",
     "output_type": "stream",
     "text": [
      "Batch 49 | Reject Differential (mean over batch): 0.0288\n",
      "Batch 50 | Reject Differential (mean over batch): 0.0342\n",
      "Batch 50 | Reject Differential (mean over batch): 0.0322\n",
      "Batch 50 | Reject Differential (mean over batch): 0.0272\n"
     ]
    },
    {
     "name": "stderr",
     "output_type": "stream",
     "text": [
      "  8%|█████████████▋                                                                                                                                                      | 52/625 [00:10<01:48,  5.26it/s]"
     ]
    },
    {
     "name": "stdout",
     "output_type": "stream",
     "text": [
      "Batch 51 | Reject Differential (mean over batch): 0.0403\n",
      "Batch 51 | Reject Differential (mean over batch): 0.0375\n",
      "Batch 51 | Reject Differential (mean over batch): 0.0340\n",
      "Batch 52 | Reject Differential (mean over batch): 0.0252\n"
     ]
    },
    {
     "name": "stderr",
     "output_type": "stream",
     "text": [
      "  8%|█████████████▉                                                                                                                                                      | 53/625 [00:10<01:47,  5.30it/s]"
     ]
    },
    {
     "name": "stdout",
     "output_type": "stream",
     "text": [
      "Batch 52 | Reject Differential (mean over batch): 0.0192\n",
      "Batch 52 | Reject Differential (mean over batch): 0.0218\n",
      "Batch 53 | Reject Differential (mean over batch): 0.0247\n",
      "Batch 53 | Reject Differential (mean over batch): 0.0350\n"
     ]
    },
    {
     "name": "stderr",
     "output_type": "stream",
     "text": [
      "  9%|██████████████▍                                                                                                                                                     | 55/625 [00:10<01:46,  5.34it/s]"
     ]
    },
    {
     "name": "stdout",
     "output_type": "stream",
     "text": [
      "Batch 53 | Reject Differential (mean over batch): 0.0251\n",
      "Batch 54 | Reject Differential (mean over batch): 0.0385\n",
      "Batch 54 | Reject Differential (mean over batch): 0.0468\n",
      "Batch 54 | Reject Differential (mean over batch): 0.0283\n"
     ]
    },
    {
     "name": "stderr",
     "output_type": "stream",
     "text": [
      "  9%|██████████████▋                                                                                                                                                     | 56/625 [00:11<01:46,  5.35it/s]"
     ]
    },
    {
     "name": "stdout",
     "output_type": "stream",
     "text": [
      "Batch 55 | Reject Differential (mean over batch): 0.0351\n",
      "Batch 55 | Reject Differential (mean over batch): 0.0337\n",
      "Batch 55 | Reject Differential (mean over batch): 0.0268\n",
      "Batch 56 | Reject Differential (mean over batch): 0.0340\n"
     ]
    },
    {
     "name": "stderr",
     "output_type": "stream",
     "text": [
      "  9%|██████████████▉                                                                                                                                                     | 57/625 [00:11<01:46,  5.35it/s]"
     ]
    },
    {
     "name": "stdout",
     "output_type": "stream",
     "text": [
      "Batch 56 | Reject Differential (mean over batch): 0.0371\n",
      "Batch 56 | Reject Differential (mean over batch): 0.0249\n",
      "Batch 57 | Reject Differential (mean over batch): 0.0196\n",
      "Batch 57 | Reject Differential (mean over batch): 0.0301\n"
     ]
    },
    {
     "name": "stderr",
     "output_type": "stream",
     "text": [
      "  9%|███████████████▍                                                                                                                                                    | 59/625 [00:11<01:45,  5.38it/s]"
     ]
    },
    {
     "name": "stdout",
     "output_type": "stream",
     "text": [
      "Batch 57 | Reject Differential (mean over batch): 0.0198\n",
      "Batch 58 | Reject Differential (mean over batch): 0.0333\n",
      "Batch 58 | Reject Differential (mean over batch): 0.0428\n",
      "Batch 58 | Reject Differential (mean over batch): 0.0277\n"
     ]
    },
    {
     "name": "stderr",
     "output_type": "stream",
     "text": [
      " 10%|███████████████▋                                                                                                                                                    | 60/625 [00:11<01:45,  5.37it/s]"
     ]
    },
    {
     "name": "stdout",
     "output_type": "stream",
     "text": [
      "Batch 59 | Reject Differential (mean over batch): 0.0309\n",
      "Batch 59 | Reject Differential (mean over batch): 0.0386\n",
      "Batch 59 | Reject Differential (mean over batch): 0.0345\n",
      "Batch 60 | Reject Differential (mean over batch): 0.0345\n"
     ]
    },
    {
     "name": "stderr",
     "output_type": "stream",
     "text": [
      " 10%|████████████████                                                                                                                                                    | 61/625 [00:11<01:44,  5.38it/s]"
     ]
    },
    {
     "name": "stdout",
     "output_type": "stream",
     "text": [
      "Batch 60 | Reject Differential (mean over batch): 0.0248\n",
      "Batch 60 | Reject Differential (mean over batch): 0.0254\n",
      "Batch 61 | Reject Differential (mean over batch): 0.0349\n",
      "Batch 61 | Reject Differential (mean over batch): 0.0441\n"
     ]
    },
    {
     "name": "stderr",
     "output_type": "stream",
     "text": [
      " 10%|████████████████▌                                                                                                                                                   | 63/625 [00:12<01:44,  5.39it/s]"
     ]
    },
    {
     "name": "stdout",
     "output_type": "stream",
     "text": [
      "Batch 61 | Reject Differential (mean over batch): 0.0237\n",
      "Batch 62 | Reject Differential (mean over batch): 0.0225\n",
      "Batch 62 | Reject Differential (mean over batch): 0.0384\n",
      "Batch 62 | Reject Differential (mean over batch): 0.0283\n"
     ]
    },
    {
     "name": "stderr",
     "output_type": "stream",
     "text": [
      " 10%|████████████████▊                                                                                                                                                   | 64/625 [00:12<01:44,  5.38it/s]"
     ]
    },
    {
     "name": "stdout",
     "output_type": "stream",
     "text": [
      "Batch 63 | Reject Differential (mean over batch): 0.0324\n",
      "Batch 63 | Reject Differential (mean over batch): 0.0336\n",
      "Batch 63 | Reject Differential (mean over batch): 0.0324\n",
      "Batch 64 | Reject Differential (mean over batch): 0.0274\n"
     ]
    },
    {
     "name": "stderr",
     "output_type": "stream",
     "text": [
      " 10%|█████████████████                                                                                                                                                   | 65/625 [00:12<01:44,  5.37it/s]"
     ]
    },
    {
     "name": "stdout",
     "output_type": "stream",
     "text": [
      "Batch 64 | Reject Differential (mean over batch): 0.0407\n",
      "Batch 64 | Reject Differential (mean over batch): 0.0295\n",
      "Batch 65 | Reject Differential (mean over batch): 0.0250\n",
      "Batch 65 | Reject Differential (mean over batch): 0.0224\n"
     ]
    },
    {
     "name": "stderr",
     "output_type": "stream",
     "text": [
      " 11%|█████████████████▌                                                                                                                                                  | 67/625 [00:13<01:43,  5.38it/s]"
     ]
    },
    {
     "name": "stdout",
     "output_type": "stream",
     "text": [
      "Batch 65 | Reject Differential (mean over batch): 0.0179\n",
      "Batch 66 | Reject Differential (mean over batch): 0.0380\n",
      "Batch 66 | Reject Differential (mean over batch): 0.0385\n",
      "Batch 66 | Reject Differential (mean over batch): 0.0330\n"
     ]
    },
    {
     "name": "stderr",
     "output_type": "stream",
     "text": [
      " 11%|█████████████████▊                                                                                                                                                  | 68/625 [00:13<01:43,  5.37it/s]"
     ]
    },
    {
     "name": "stdout",
     "output_type": "stream",
     "text": [
      "Batch 67 | Reject Differential (mean over batch): 0.0382\n",
      "Batch 67 | Reject Differential (mean over batch): 0.0315\n",
      "Batch 67 | Reject Differential (mean over batch): 0.0251\n",
      "Batch 68 | Reject Differential (mean over batch): 0.0144\n"
     ]
    },
    {
     "name": "stderr",
     "output_type": "stream",
     "text": [
      " 11%|██████████████████                                                                                                                                                  | 69/625 [00:13<01:43,  5.39it/s]"
     ]
    },
    {
     "name": "stdout",
     "output_type": "stream",
     "text": [
      "Batch 68 | Reject Differential (mean over batch): 0.0422\n",
      "Batch 68 | Reject Differential (mean over batch): 0.0236\n",
      "Batch 69 | Reject Differential (mean over batch): 0.0347\n",
      "Batch 69 | Reject Differential (mean over batch): 0.0319\n"
     ]
    },
    {
     "name": "stderr",
     "output_type": "stream",
     "text": [
      " 11%|██████████████████▋                                                                                                                                                 | 71/625 [00:13<01:42,  5.39it/s]"
     ]
    },
    {
     "name": "stdout",
     "output_type": "stream",
     "text": [
      "Batch 69 | Reject Differential (mean over batch): 0.0206\n",
      "Batch 70 | Reject Differential (mean over batch): 0.0272\n",
      "Batch 70 | Reject Differential (mean over batch): 0.0218\n",
      "Batch 70 | Reject Differential (mean over batch): 0.0270\n"
     ]
    },
    {
     "name": "stderr",
     "output_type": "stream",
     "text": [
      " 12%|██████████████████▉                                                                                                                                                 | 72/625 [00:14<01:42,  5.39it/s]"
     ]
    },
    {
     "name": "stdout",
     "output_type": "stream",
     "text": [
      "Batch 71 | Reject Differential (mean over batch): 0.0216\n",
      "Batch 71 | Reject Differential (mean over batch): 0.0379\n",
      "Batch 71 | Reject Differential (mean over batch): 0.0294\n",
      "Batch 72 | Reject Differential (mean over batch): 0.0263\n"
     ]
    },
    {
     "name": "stderr",
     "output_type": "stream",
     "text": [
      " 12%|███████████████████▏                                                                                                                                                | 73/625 [00:14<01:42,  5.40it/s]"
     ]
    },
    {
     "name": "stdout",
     "output_type": "stream",
     "text": [
      "Batch 72 | Reject Differential (mean over batch): 0.0460\n",
      "Batch 72 | Reject Differential (mean over batch): 0.0238\n",
      "Batch 73 | Reject Differential (mean over batch): 0.0252\n",
      "Batch 73 | Reject Differential (mean over batch): 0.0375\n"
     ]
    },
    {
     "name": "stderr",
     "output_type": "stream",
     "text": [
      " 12%|███████████████████▋                                                                                                                                                | 75/625 [00:14<01:42,  5.38it/s]"
     ]
    },
    {
     "name": "stdout",
     "output_type": "stream",
     "text": [
      "Batch 73 | Reject Differential (mean over batch): 0.0267\n",
      "Batch 74 | Reject Differential (mean over batch): 0.0220\n",
      "Batch 74 | Reject Differential (mean over batch): 0.0371\n",
      "Batch 74 | Reject Differential (mean over batch): 0.0262\n"
     ]
    },
    {
     "name": "stderr",
     "output_type": "stream",
     "text": [
      " 12%|███████████████████▉                                                                                                                                                | 76/625 [00:14<01:42,  5.35it/s]"
     ]
    },
    {
     "name": "stdout",
     "output_type": "stream",
     "text": [
      "Batch 75 | Reject Differential (mean over batch): 0.0312\n",
      "Batch 75 | Reject Differential (mean over batch): 0.0404\n",
      "Batch 75 | Reject Differential (mean over batch): 0.0235\n",
      "Batch 76 | Reject Differential (mean over batch): 0.0254\n"
     ]
    },
    {
     "name": "stderr",
     "output_type": "stream",
     "text": [
      " 12%|████████████████████▏                                                                                                                                               | 77/625 [00:14<01:41,  5.37it/s]"
     ]
    },
    {
     "name": "stdout",
     "output_type": "stream",
     "text": [
      "Batch 76 | Reject Differential (mean over batch): 0.0391\n",
      "Batch 76 | Reject Differential (mean over batch): 0.0247\n",
      "Batch 77 | Reject Differential (mean over batch): 0.0240\n",
      "Batch 77 | Reject Differential (mean over batch): 0.0397\n"
     ]
    },
    {
     "name": "stderr",
     "output_type": "stream",
     "text": [
      " 12%|████████████████████▍                                                                                                                                               | 78/625 [00:15<01:41,  5.38it/s]"
     ]
    },
    {
     "name": "stdout",
     "output_type": "stream",
     "text": [
      "Batch 77 | Reject Differential (mean over batch): 0.0294\n",
      "Batch 78 | Reject Differential (mean over batch): 0.0291\n",
      "Batch 78 | Reject Differential (mean over batch): 0.0437\n"
     ]
    },
    {
     "name": "stderr",
     "output_type": "stream",
     "text": [
      " 13%|████████████████████▉                                                                                                                                               | 80/625 [00:15<01:44,  5.22it/s]"
     ]
    },
    {
     "name": "stdout",
     "output_type": "stream",
     "text": [
      "Batch 78 | Reject Differential (mean over batch): 0.0259\n",
      "Batch 79 | Reject Differential (mean over batch): 0.0286\n",
      "Batch 79 | Reject Differential (mean over batch): 0.0258\n",
      "Batch 79 | Reject Differential (mean over batch): 0.0282\n"
     ]
    },
    {
     "name": "stderr",
     "output_type": "stream",
     "text": [
      " 13%|█████████████████████▎                                                                                                                                              | 81/625 [00:15<01:43,  5.27it/s]"
     ]
    },
    {
     "name": "stdout",
     "output_type": "stream",
     "text": [
      "Batch 80 | Reject Differential (mean over batch): 0.0339\n",
      "Batch 80 | Reject Differential (mean over batch): 0.0352\n",
      "Batch 80 | Reject Differential (mean over batch): 0.0286\n",
      "Batch 81 | Reject Differential (mean over batch): 0.0249\n"
     ]
    },
    {
     "name": "stderr",
     "output_type": "stream",
     "text": [
      " 13%|█████████████████████▌                                                                                                                                              | 82/625 [00:15<01:42,  5.30it/s]"
     ]
    },
    {
     "name": "stdout",
     "output_type": "stream",
     "text": [
      "Batch 81 | Reject Differential (mean over batch): 0.0372\n",
      "Batch 81 | Reject Differential (mean over batch): 0.0294\n",
      "Batch 82 | Reject Differential (mean over batch): 0.0212\n",
      "Batch 82 | Reject Differential (mean over batch): 0.0382\n"
     ]
    },
    {
     "name": "stderr",
     "output_type": "stream",
     "text": [
      " 13%|██████████████████████                                                                                                                                              | 84/625 [00:16<01:40,  5.37it/s]"
     ]
    },
    {
     "name": "stdout",
     "output_type": "stream",
     "text": [
      "Batch 82 | Reject Differential (mean over batch): 0.0200\n",
      "Batch 83 | Reject Differential (mean over batch): 0.0363\n",
      "Batch 83 | Reject Differential (mean over batch): 0.0472\n",
      "Batch 83 | Reject Differential (mean over batch): 0.0355\n"
     ]
    },
    {
     "name": "stderr",
     "output_type": "stream",
     "text": [
      " 14%|██████████████████████▎                                                                                                                                             | 85/625 [00:16<01:40,  5.39it/s]"
     ]
    },
    {
     "name": "stdout",
     "output_type": "stream",
     "text": [
      "Batch 84 | Reject Differential (mean over batch): 0.0324\n",
      "Batch 84 | Reject Differential (mean over batch): 0.0368\n",
      "Batch 84 | Reject Differential (mean over batch): 0.0143\n",
      "Batch 85 | Reject Differential (mean over batch): 0.0343\n"
     ]
    },
    {
     "name": "stderr",
     "output_type": "stream",
     "text": [
      " 14%|██████████████████████▌                                                                                                                                             | 86/625 [00:16<01:40,  5.39it/s]"
     ]
    },
    {
     "name": "stdout",
     "output_type": "stream",
     "text": [
      "Batch 85 | Reject Differential (mean over batch): 0.0269\n",
      "Batch 85 | Reject Differential (mean over batch): 0.0252\n",
      "Batch 86 | Reject Differential (mean over batch): 0.0363\n",
      "Batch 86 | Reject Differential (mean over batch): 0.0340\n"
     ]
    },
    {
     "name": "stderr",
     "output_type": "stream",
     "text": [
      " 14%|███████████████████████                                                                                                                                             | 88/625 [00:17<01:39,  5.41it/s]"
     ]
    },
    {
     "name": "stdout",
     "output_type": "stream",
     "text": [
      "Batch 86 | Reject Differential (mean over batch): 0.0321\n",
      "Batch 87 | Reject Differential (mean over batch): 0.0376\n",
      "Batch 87 | Reject Differential (mean over batch): 0.0340\n",
      "Batch 87 | Reject Differential (mean over batch): 0.0251\n"
     ]
    },
    {
     "name": "stderr",
     "output_type": "stream",
     "text": [
      " 14%|███████████████████████▎                                                                                                                                            | 89/625 [00:17<01:39,  5.41it/s]"
     ]
    },
    {
     "name": "stdout",
     "output_type": "stream",
     "text": [
      "Batch 88 | Reject Differential (mean over batch): 0.0303\n",
      "Batch 88 | Reject Differential (mean over batch): 0.0337\n",
      "Batch 88 | Reject Differential (mean over batch): 0.0361\n",
      "Batch 89 | Reject Differential (mean over batch): 0.0309\n"
     ]
    },
    {
     "name": "stderr",
     "output_type": "stream",
     "text": [
      " 14%|███████████████████████▌                                                                                                                                            | 90/625 [00:17<01:39,  5.39it/s]"
     ]
    },
    {
     "name": "stdout",
     "output_type": "stream",
     "text": [
      "Batch 89 | Reject Differential (mean over batch): 0.0549\n",
      "Batch 89 | Reject Differential (mean over batch): 0.0297\n",
      "Batch 90 | Reject Differential (mean over batch): 0.0259\n",
      "Batch 90 | Reject Differential (mean over batch): 0.0575\n"
     ]
    },
    {
     "name": "stderr",
     "output_type": "stream",
     "text": [
      " 15%|████████████████████████▏                                                                                                                                           | 92/625 [00:17<01:39,  5.35it/s]"
     ]
    },
    {
     "name": "stdout",
     "output_type": "stream",
     "text": [
      "Batch 90 | Reject Differential (mean over batch): 0.0291\n",
      "Batch 91 | Reject Differential (mean over batch): 0.0000\n",
      "Batch 91 | Reject Differential (mean over batch): 0.0423\n",
      "Batch 91 | Reject Differential (mean over batch): 0.0314\n"
     ]
    },
    {
     "name": "stderr",
     "output_type": "stream",
     "text": [
      " 15%|████████████████████████▍                                                                                                                                           | 93/625 [00:17<01:39,  5.34it/s]"
     ]
    },
    {
     "name": "stdout",
     "output_type": "stream",
     "text": [
      "Batch 92 | Reject Differential (mean over batch): 0.0276\n",
      "Batch 92 | Reject Differential (mean over batch): 0.0448\n",
      "Batch 92 | Reject Differential (mean over batch): 0.0373\n",
      "Batch 93 | Reject Differential (mean over batch): 0.0341\n"
     ]
    },
    {
     "name": "stderr",
     "output_type": "stream",
     "text": [
      " 15%|████████████████████████▋                                                                                                                                           | 94/625 [00:18<01:38,  5.37it/s]"
     ]
    },
    {
     "name": "stdout",
     "output_type": "stream",
     "text": [
      "Batch 93 | Reject Differential (mean over batch): 0.0392\n",
      "Batch 93 | Reject Differential (mean over batch): 0.0185\n",
      "Batch 94 | Reject Differential (mean over batch): 0.0308\n",
      "Batch 94 | Reject Differential (mean over batch): 0.0245\n"
     ]
    },
    {
     "name": "stderr",
     "output_type": "stream",
     "text": [
      " 15%|█████████████████████████▏                                                                                                                                          | 96/625 [00:18<01:40,  5.28it/s]"
     ]
    },
    {
     "name": "stdout",
     "output_type": "stream",
     "text": [
      "Batch 94 | Reject Differential (mean over batch): 0.0188\n",
      "Batch 95 | Reject Differential (mean over batch): 0.0300\n",
      "Batch 95 | Reject Differential (mean over batch): 0.0257\n",
      "Batch 95 | Reject Differential (mean over batch): 0.0268\n"
     ]
    },
    {
     "name": "stderr",
     "output_type": "stream",
     "text": [
      " 16%|█████████████████████████▍                                                                                                                                          | 97/625 [00:18<01:39,  5.32it/s]"
     ]
    },
    {
     "name": "stdout",
     "output_type": "stream",
     "text": [
      "Batch 96 | Reject Differential (mean over batch): 0.0279\n",
      "Batch 96 | Reject Differential (mean over batch): 0.0307\n",
      "Batch 96 | Reject Differential (mean over batch): 0.0347\n",
      "Batch 97 | Reject Differential (mean over batch): 0.0226\n"
     ]
    },
    {
     "name": "stderr",
     "output_type": "stream",
     "text": [
      " 16%|█████████████████████████▋                                                                                                                                          | 98/625 [00:18<01:38,  5.35it/s]"
     ]
    },
    {
     "name": "stdout",
     "output_type": "stream",
     "text": [
      "Batch 97 | Reject Differential (mean over batch): 0.0296\n",
      "Batch 97 | Reject Differential (mean over batch): 0.0252\n",
      "Batch 98 | Reject Differential (mean over batch): 0.0350\n",
      "Batch 98 | Reject Differential (mean over batch): 0.0373\n"
     ]
    },
    {
     "name": "stderr",
     "output_type": "stream",
     "text": [
      " 16%|██████████████████████████                                                                                                                                         | 100/625 [00:19<01:37,  5.37it/s]"
     ]
    },
    {
     "name": "stdout",
     "output_type": "stream",
     "text": [
      "Batch 98 | Reject Differential (mean over batch): 0.0262\n",
      "Batch 99 | Reject Differential (mean over batch): 0.0290\n",
      "Batch 99 | Reject Differential (mean over batch): 0.0204\n",
      "Batch 99 | Reject Differential (mean over batch): 0.0362\n"
     ]
    },
    {
     "name": "stderr",
     "output_type": "stream",
     "text": [
      " 16%|██████████████████████████▎                                                                                                                                        | 101/625 [00:19<01:37,  5.37it/s]"
     ]
    },
    {
     "name": "stdout",
     "output_type": "stream",
     "text": [
      "Batch 100 | Reject Differential (mean over batch): 0.0276\n",
      "Batch 100 | Reject Differential (mean over batch): 0.0326\n",
      "Batch 100 | Reject Differential (mean over batch): 0.0211\n",
      "Batch 101 | Reject Differential (mean over batch): 0.0324\n"
     ]
    },
    {
     "name": "stderr",
     "output_type": "stream",
     "text": [
      " 16%|██████████████████████████▌                                                                                                                                        | 102/625 [00:19<01:37,  5.38it/s]"
     ]
    },
    {
     "name": "stdout",
     "output_type": "stream",
     "text": [
      "Batch 101 | Reject Differential (mean over batch): 0.0367\n",
      "Batch 101 | Reject Differential (mean over batch): 0.0325\n",
      "Batch 102 | Reject Differential (mean over batch): 0.0205\n",
      "Batch 102 | Reject Differential (mean over batch): 0.0398\n"
     ]
    },
    {
     "name": "stderr",
     "output_type": "stream",
     "text": [
      " 17%|███████████████████████████                                                                                                                                        | 104/625 [00:20<01:36,  5.41it/s]"
     ]
    },
    {
     "name": "stdout",
     "output_type": "stream",
     "text": [
      "Batch 102 | Reject Differential (mean over batch): 0.0297\n",
      "Batch 103 | Reject Differential (mean over batch): 0.0194\n",
      "Batch 103 | Reject Differential (mean over batch): 0.0286\n",
      "Batch 103 | Reject Differential (mean over batch): 0.0313\n"
     ]
    },
    {
     "name": "stderr",
     "output_type": "stream",
     "text": [
      " 17%|███████████████████████████▍                                                                                                                                       | 105/625 [00:20<01:36,  5.40it/s]"
     ]
    },
    {
     "name": "stdout",
     "output_type": "stream",
     "text": [
      "Batch 104 | Reject Differential (mean over batch): 0.0312\n",
      "Batch 104 | Reject Differential (mean over batch): 0.0339\n",
      "Batch 104 | Reject Differential (mean over batch): 0.0261\n",
      "Batch 105 | Reject Differential (mean over batch): 0.0000\n"
     ]
    },
    {
     "name": "stderr",
     "output_type": "stream",
     "text": [
      " 17%|███████████████████████████▋                                                                                                                                       | 106/625 [00:20<01:35,  5.41it/s]"
     ]
    },
    {
     "name": "stdout",
     "output_type": "stream",
     "text": [
      "Batch 105 | Reject Differential (mean over batch): 0.0357\n",
      "Batch 105 | Reject Differential (mean over batch): 0.0285\n",
      "Batch 106 | Reject Differential (mean over batch): 0.0407\n",
      "Batch 106 | Reject Differential (mean over batch): 0.0330\n"
     ]
    },
    {
     "name": "stderr",
     "output_type": "stream",
     "text": [
      " 17%|████████████████████████████▏                                                                                                                                      | 108/625 [00:20<01:35,  5.39it/s]"
     ]
    },
    {
     "name": "stdout",
     "output_type": "stream",
     "text": [
      "Batch 106 | Reject Differential (mean over batch): 0.0303\n",
      "Batch 107 | Reject Differential (mean over batch): 0.0352\n",
      "Batch 107 | Reject Differential (mean over batch): 0.0421\n",
      "Batch 107 | Reject Differential (mean over batch): 0.0276\n"
     ]
    },
    {
     "name": "stderr",
     "output_type": "stream",
     "text": [
      " 17%|████████████████████████████▍                                                                                                                                      | 109/625 [00:20<01:36,  5.37it/s]"
     ]
    },
    {
     "name": "stdout",
     "output_type": "stream",
     "text": [
      "Batch 108 | Reject Differential (mean over batch): 0.0420\n",
      "Batch 108 | Reject Differential (mean over batch): 0.0368\n",
      "Batch 108 | Reject Differential (mean over batch): 0.0325\n",
      "Batch 109 | Reject Differential (mean over batch): 0.0306\n"
     ]
    },
    {
     "name": "stderr",
     "output_type": "stream",
     "text": [
      " 18%|████████████████████████████▋                                                                                                                                      | 110/625 [00:21<01:35,  5.38it/s]"
     ]
    },
    {
     "name": "stdout",
     "output_type": "stream",
     "text": [
      "Batch 109 | Reject Differential (mean over batch): 0.0238\n",
      "Batch 109 | Reject Differential (mean over batch): 0.0320\n",
      "Batch 110 | Reject Differential (mean over batch): 0.0269\n",
      "Batch 110 | Reject Differential (mean over batch): 0.0375\n"
     ]
    },
    {
     "name": "stderr",
     "output_type": "stream",
     "text": [
      " 18%|█████████████████████████████▏                                                                                                                                     | 112/625 [00:21<01:35,  5.39it/s]"
     ]
    },
    {
     "name": "stdout",
     "output_type": "stream",
     "text": [
      "Batch 110 | Reject Differential (mean over batch): 0.0242\n",
      "Batch 111 | Reject Differential (mean over batch): 0.0333\n",
      "Batch 111 | Reject Differential (mean over batch): 0.0309\n",
      "Batch 111 | Reject Differential (mean over batch): 0.0282\n"
     ]
    },
    {
     "name": "stderr",
     "output_type": "stream",
     "text": [
      " 18%|█████████████████████████████▍                                                                                                                                     | 113/625 [00:21<01:35,  5.39it/s]"
     ]
    },
    {
     "name": "stdout",
     "output_type": "stream",
     "text": [
      "Batch 112 | Reject Differential (mean over batch): 0.0224\n",
      "Batch 112 | Reject Differential (mean over batch): 0.0315\n",
      "Batch 112 | Reject Differential (mean over batch): 0.0257\n",
      "Batch 113 | Reject Differential (mean over batch): 0.0320\n"
     ]
    },
    {
     "name": "stderr",
     "output_type": "stream",
     "text": [
      " 18%|█████████████████████████████▋                                                                                                                                     | 114/625 [00:21<01:34,  5.39it/s]"
     ]
    },
    {
     "name": "stdout",
     "output_type": "stream",
     "text": [
      "Batch 113 | Reject Differential (mean over batch): 0.0310\n",
      "Batch 113 | Reject Differential (mean over batch): 0.0214\n",
      "Batch 114 | Reject Differential (mean over batch): 0.0206\n",
      "Batch 114 | Reject Differential (mean over batch): 0.0333\n"
     ]
    },
    {
     "name": "stderr",
     "output_type": "stream",
     "text": [
      " 19%|██████████████████████████████▎                                                                                                                                    | 116/625 [00:22<01:34,  5.38it/s]"
     ]
    },
    {
     "name": "stdout",
     "output_type": "stream",
     "text": [
      "Batch 114 | Reject Differential (mean over batch): 0.0333\n",
      "Batch 115 | Reject Differential (mean over batch): 0.0299\n",
      "Batch 115 | Reject Differential (mean over batch): 0.0320\n",
      "Batch 115 | Reject Differential (mean over batch): 0.0323\n"
     ]
    },
    {
     "name": "stderr",
     "output_type": "stream",
     "text": [
      " 19%|██████████████████████████████▌                                                                                                                                    | 117/625 [00:22<01:34,  5.39it/s]"
     ]
    },
    {
     "name": "stdout",
     "output_type": "stream",
     "text": [
      "Batch 116 | Reject Differential (mean over batch): 0.0372\n",
      "Batch 116 | Reject Differential (mean over batch): 0.0199\n",
      "Batch 116 | Reject Differential (mean over batch): 0.0248\n",
      "Batch 117 | Reject Differential (mean over batch): 0.0360\n"
     ]
    },
    {
     "name": "stderr",
     "output_type": "stream",
     "text": [
      " 19%|██████████████████████████████▊                                                                                                                                    | 118/625 [00:22<01:34,  5.37it/s]"
     ]
    },
    {
     "name": "stdout",
     "output_type": "stream",
     "text": [
      "Batch 117 | Reject Differential (mean over batch): 0.0340\n",
      "Batch 117 | Reject Differential (mean over batch): 0.0349\n",
      "Batch 118 | Reject Differential (mean over batch): 0.0303\n",
      "Batch 118 | Reject Differential (mean over batch): 0.0338\n"
     ]
    },
    {
     "name": "stderr",
     "output_type": "stream",
     "text": [
      " 19%|███████████████████████████████▎                                                                                                                                   | 120/625 [00:22<01:33,  5.39it/s]"
     ]
    },
    {
     "name": "stdout",
     "output_type": "stream",
     "text": [
      "Batch 118 | Reject Differential (mean over batch): 0.0232\n",
      "Batch 119 | Reject Differential (mean over batch): 0.0332\n",
      "Batch 119 | Reject Differential (mean over batch): 0.0263\n",
      "Batch 119 | Reject Differential (mean over batch): 0.0291\n"
     ]
    },
    {
     "name": "stderr",
     "output_type": "stream",
     "text": [
      " 19%|███████████████████████████████▌                                                                                                                                   | 121/625 [00:23<01:33,  5.38it/s]"
     ]
    },
    {
     "name": "stdout",
     "output_type": "stream",
     "text": [
      "Batch 120 | Reject Differential (mean over batch): 0.0287\n",
      "Batch 120 | Reject Differential (mean over batch): 0.0309\n",
      "Batch 120 | Reject Differential (mean over batch): 0.0383\n",
      "Batch 121 | Reject Differential (mean over batch): 0.0373\n"
     ]
    },
    {
     "name": "stderr",
     "output_type": "stream",
     "text": [
      " 20%|███████████████████████████████▊                                                                                                                                   | 122/625 [00:23<01:33,  5.37it/s]"
     ]
    },
    {
     "name": "stdout",
     "output_type": "stream",
     "text": [
      "Batch 121 | Reject Differential (mean over batch): 0.0323\n",
      "Batch 121 | Reject Differential (mean over batch): 0.0300\n",
      "Batch 122 | Reject Differential (mean over batch): 0.0265\n",
      "Batch 122 | Reject Differential (mean over batch): 0.0421\n"
     ]
    },
    {
     "name": "stderr",
     "output_type": "stream",
     "text": [
      " 20%|████████████████████████████████▎                                                                                                                                  | 124/625 [00:23<01:33,  5.37it/s]"
     ]
    },
    {
     "name": "stdout",
     "output_type": "stream",
     "text": [
      "Batch 122 | Reject Differential (mean over batch): 0.0238\n",
      "Batch 123 | Reject Differential (mean over batch): 0.0270\n",
      "Batch 123 | Reject Differential (mean over batch): 0.0391\n",
      "Batch 123 | Reject Differential (mean over batch): 0.0255\n"
     ]
    },
    {
     "name": "stderr",
     "output_type": "stream",
     "text": [
      " 20%|████████████████████████████████▌                                                                                                                                  | 125/625 [00:23<01:33,  5.37it/s]"
     ]
    },
    {
     "name": "stdout",
     "output_type": "stream",
     "text": [
      "Batch 124 | Reject Differential (mean over batch): 0.0349\n",
      "Batch 124 | Reject Differential (mean over batch): 0.0328\n",
      "Batch 124 | Reject Differential (mean over batch): 0.0396\n",
      "Batch 125 | Reject Differential (mean over batch): 0.0241\n"
     ]
    },
    {
     "name": "stderr",
     "output_type": "stream",
     "text": [
      " 20%|████████████████████████████████▊                                                                                                                                  | 126/625 [00:24<01:32,  5.37it/s]"
     ]
    },
    {
     "name": "stdout",
     "output_type": "stream",
     "text": [
      "Batch 125 | Reject Differential (mean over batch): 0.0263\n",
      "Batch 125 | Reject Differential (mean over batch): 0.0292\n",
      "Batch 126 | Reject Differential (mean over batch): 0.0368\n",
      "Batch 126 | Reject Differential (mean over batch): 0.0360\n"
     ]
    },
    {
     "name": "stderr",
     "output_type": "stream",
     "text": [
      " 20%|█████████████████████████████████▍                                                                                                                                 | 128/625 [00:24<01:32,  5.37it/s]"
     ]
    },
    {
     "name": "stdout",
     "output_type": "stream",
     "text": [
      "Batch 126 | Reject Differential (mean over batch): 0.0183\n",
      "Batch 127 | Reject Differential (mean over batch): 0.0250\n",
      "Batch 127 | Reject Differential (mean over batch): 0.0359\n",
      "Batch 127 | Reject Differential (mean over batch): 0.0263\n"
     ]
    },
    {
     "name": "stderr",
     "output_type": "stream",
     "text": [
      " 21%|█████████████████████████████████▋                                                                                                                                 | 129/625 [00:24<01:32,  5.36it/s]"
     ]
    },
    {
     "name": "stdout",
     "output_type": "stream",
     "text": [
      "Batch 128 | Reject Differential (mean over batch): 0.0293\n",
      "Batch 128 | Reject Differential (mean over batch): 0.0372\n",
      "Batch 128 | Reject Differential (mean over batch): 0.0305\n",
      "Batch 129 | Reject Differential (mean over batch): 0.0250\n"
     ]
    },
    {
     "name": "stderr",
     "output_type": "stream",
     "text": [
      " 21%|█████████████████████████████████▉                                                                                                                                 | 130/625 [00:24<01:32,  5.37it/s]"
     ]
    },
    {
     "name": "stdout",
     "output_type": "stream",
     "text": [
      "Batch 129 | Reject Differential (mean over batch): 0.0301\n",
      "Batch 129 | Reject Differential (mean over batch): 0.0295\n",
      "Batch 130 | Reject Differential (mean over batch): 0.0322\n",
      "Batch 130 | Reject Differential (mean over batch): 0.0292\n"
     ]
    },
    {
     "name": "stderr",
     "output_type": "stream",
     "text": [
      " 21%|██████████████████████████████████▍                                                                                                                                | 132/625 [00:25<01:31,  5.37it/s]"
     ]
    },
    {
     "name": "stdout",
     "output_type": "stream",
     "text": [
      "Batch 130 | Reject Differential (mean over batch): 0.0178\n",
      "Batch 131 | Reject Differential (mean over batch): 0.0247\n",
      "Batch 131 | Reject Differential (mean over batch): 0.0450\n",
      "Batch 131 | Reject Differential (mean over batch): 0.0258\n"
     ]
    },
    {
     "name": "stderr",
     "output_type": "stream",
     "text": [
      " 21%|██████████████████████████████████▋                                                                                                                                | 133/625 [00:25<01:31,  5.37it/s]"
     ]
    },
    {
     "name": "stdout",
     "output_type": "stream",
     "text": [
      "Batch 132 | Reject Differential (mean over batch): 0.0241\n",
      "Batch 132 | Reject Differential (mean over batch): 0.0317\n",
      "Batch 132 | Reject Differential (mean over batch): 0.0220\n",
      "Batch 133 | Reject Differential (mean over batch): 0.0193\n"
     ]
    },
    {
     "name": "stderr",
     "output_type": "stream",
     "text": [
      " 21%|██████████████████████████████████▉                                                                                                                                | 134/625 [00:25<01:31,  5.38it/s]"
     ]
    },
    {
     "name": "stdout",
     "output_type": "stream",
     "text": [
      "Batch 133 | Reject Differential (mean over batch): 0.0454\n",
      "Batch 133 | Reject Differential (mean over batch): 0.0232\n",
      "Batch 134 | Reject Differential (mean over batch): 0.0320\n",
      "Batch 134 | Reject Differential (mean over batch): 0.0334\n"
     ]
    },
    {
     "name": "stderr",
     "output_type": "stream",
     "text": [
      " 22%|███████████████████████████████████▍                                                                                                                               | 136/625 [00:25<01:30,  5.40it/s]"
     ]
    },
    {
     "name": "stdout",
     "output_type": "stream",
     "text": [
      "Batch 134 | Reject Differential (mean over batch): 0.0292\n",
      "Batch 135 | Reject Differential (mean over batch): 0.0218\n",
      "Batch 135 | Reject Differential (mean over batch): 0.0223\n",
      "Batch 135 | Reject Differential (mean over batch): 0.0347\n"
     ]
    },
    {
     "name": "stderr",
     "output_type": "stream",
     "text": [
      " 22%|███████████████████████████████████▋                                                                                                                               | 137/625 [00:26<01:30,  5.40it/s]"
     ]
    },
    {
     "name": "stdout",
     "output_type": "stream",
     "text": [
      "Batch 136 | Reject Differential (mean over batch): 0.0351\n",
      "Batch 136 | Reject Differential (mean over batch): 0.0301\n",
      "Batch 136 | Reject Differential (mean over batch): 0.0327\n",
      "Batch 137 | Reject Differential (mean over batch): 0.0192\n"
     ]
    },
    {
     "name": "stderr",
     "output_type": "stream",
     "text": [
      " 22%|███████████████████████████████████▉                                                                                                                               | 138/625 [00:26<01:32,  5.28it/s]"
     ]
    },
    {
     "name": "stdout",
     "output_type": "stream",
     "text": [
      "Batch 137 | Reject Differential (mean over batch): 0.0293\n",
      "Batch 137 | Reject Differential (mean over batch): 0.0285\n",
      "Batch 138 | Reject Differential (mean over batch): 0.0247\n",
      "Batch 138 | Reject Differential (mean over batch): 0.0356\n"
     ]
    },
    {
     "name": "stderr",
     "output_type": "stream",
     "text": [
      " 22%|████████████████████████████████████▎                                                                                                                              | 139/625 [00:26<01:32,  5.28it/s]"
     ]
    },
    {
     "name": "stdout",
     "output_type": "stream",
     "text": [
      "Batch 138 | Reject Differential (mean over batch): 0.0226\n",
      "Batch 139 | Reject Differential (mean over batch): 0.0298\n",
      "Batch 139 | Reject Differential (mean over batch): 0.0388\n"
     ]
    },
    {
     "name": "stderr",
     "output_type": "stream",
     "text": [
      " 23%|████████████████████████████████████▊                                                                                                                              | 141/625 [00:26<01:32,  5.23it/s]"
     ]
    },
    {
     "name": "stdout",
     "output_type": "stream",
     "text": [
      "Batch 139 | Reject Differential (mean over batch): 0.0247\n",
      "Batch 140 | Reject Differential (mean over batch): 0.0266\n",
      "Batch 140 | Reject Differential (mean over batch): 0.0443\n",
      "Batch 140 | Reject Differential (mean over batch): 0.0301\n"
     ]
    },
    {
     "name": "stderr",
     "output_type": "stream",
     "text": [
      " 23%|█████████████████████████████████████                                                                                                                              | 142/625 [00:27<01:31,  5.27it/s]"
     ]
    },
    {
     "name": "stdout",
     "output_type": "stream",
     "text": [
      "Batch 141 | Reject Differential (mean over batch): 0.0333\n",
      "Batch 141 | Reject Differential (mean over batch): 0.0391\n",
      "Batch 141 | Reject Differential (mean over batch): 0.0369\n",
      "Batch 142 | Reject Differential (mean over batch): 0.0339\n"
     ]
    },
    {
     "name": "stderr",
     "output_type": "stream",
     "text": [
      " 23%|█████████████████████████████████████▎                                                                                                                             | 143/625 [00:27<01:30,  5.30it/s]"
     ]
    },
    {
     "name": "stdout",
     "output_type": "stream",
     "text": [
      "Batch 142 | Reject Differential (mean over batch): 0.0385\n",
      "Batch 142 | Reject Differential (mean over batch): 0.0245\n",
      "Batch 143 | Reject Differential (mean over batch): 0.0281\n",
      "Batch 143 | Reject Differential (mean over batch): 0.0562\n"
     ]
    },
    {
     "name": "stderr",
     "output_type": "stream",
     "text": [
      " 23%|█████████████████████████████████████▊                                                                                                                             | 145/625 [00:27<01:29,  5.35it/s]"
     ]
    },
    {
     "name": "stdout",
     "output_type": "stream",
     "text": [
      "Batch 143 | Reject Differential (mean over batch): 0.0312\n",
      "Batch 144 | Reject Differential (mean over batch): 0.0365\n",
      "Batch 144 | Reject Differential (mean over batch): 0.0286\n",
      "Batch 144 | Reject Differential (mean over batch): 0.0273\n"
     ]
    },
    {
     "name": "stderr",
     "output_type": "stream",
     "text": [
      " 23%|██████████████████████████████████████                                                                                                                             | 146/625 [00:27<01:29,  5.36it/s]"
     ]
    },
    {
     "name": "stdout",
     "output_type": "stream",
     "text": [
      "Batch 145 | Reject Differential (mean over batch): 0.0298\n",
      "Batch 145 | Reject Differential (mean over batch): 0.0343\n",
      "Batch 145 | Reject Differential (mean over batch): 0.0306\n",
      "Batch 146 | Reject Differential (mean over batch): 0.0326\n"
     ]
    },
    {
     "name": "stderr",
     "output_type": "stream",
     "text": [
      " 24%|██████████████████████████████████████▎                                                                                                                            | 147/625 [00:28<01:29,  5.37it/s]"
     ]
    },
    {
     "name": "stdout",
     "output_type": "stream",
     "text": [
      "Batch 146 | Reject Differential (mean over batch): 0.0346\n",
      "Batch 146 | Reject Differential (mean over batch): 0.0319\n",
      "Batch 147 | Reject Differential (mean over batch): 0.0341\n",
      "Batch 147 | Reject Differential (mean over batch): 0.0491\n"
     ]
    },
    {
     "name": "stderr",
     "output_type": "stream",
     "text": [
      " 24%|██████████████████████████████████████▊                                                                                                                            | 149/625 [00:28<01:28,  5.39it/s]"
     ]
    },
    {
     "name": "stdout",
     "output_type": "stream",
     "text": [
      "Batch 147 | Reject Differential (mean over batch): 0.0313\n",
      "Batch 148 | Reject Differential (mean over batch): 0.0386\n",
      "Batch 148 | Reject Differential (mean over batch): 0.0531\n",
      "Batch 148 | Reject Differential (mean over batch): 0.0375\n"
     ]
    },
    {
     "name": "stderr",
     "output_type": "stream",
     "text": [
      " 24%|███████████████████████████████████████                                                                                                                            | 150/625 [00:28<01:27,  5.41it/s]"
     ]
    },
    {
     "name": "stdout",
     "output_type": "stream",
     "text": [
      "Batch 149 | Reject Differential (mean over batch): 0.0194\n",
      "Batch 149 | Reject Differential (mean over batch): 0.0331\n",
      "Batch 149 | Reject Differential (mean over batch): 0.0294\n",
      "Batch 150 | Reject Differential (mean over batch): 0.0276\n"
     ]
    },
    {
     "name": "stderr",
     "output_type": "stream",
     "text": [
      " 24%|███████████████████████████████████████▍                                                                                                                           | 151/625 [00:28<01:27,  5.43it/s]"
     ]
    },
    {
     "name": "stdout",
     "output_type": "stream",
     "text": [
      "Batch 150 | Reject Differential (mean over batch): 0.0462\n",
      "Batch 150 | Reject Differential (mean over batch): 0.0220\n",
      "Batch 151 | Reject Differential (mean over batch): 0.0361\n",
      "Batch 151 | Reject Differential (mean over batch): 0.0390\n"
     ]
    },
    {
     "name": "stderr",
     "output_type": "stream",
     "text": [
      " 24%|███████████████████████████████████████▉                                                                                                                           | 153/625 [00:29<01:26,  5.45it/s]"
     ]
    },
    {
     "name": "stdout",
     "output_type": "stream",
     "text": [
      "Batch 151 | Reject Differential (mean over batch): 0.0284\n",
      "Batch 152 | Reject Differential (mean over batch): 0.0254\n",
      "Batch 152 | Reject Differential (mean over batch): 0.0546\n",
      "Batch 152 | Reject Differential (mean over batch): 0.0213\n"
     ]
    },
    {
     "name": "stderr",
     "output_type": "stream",
     "text": [
      " 25%|████████████████████████████████████████▏                                                                                                                          | 154/625 [00:29<01:26,  5.44it/s]"
     ]
    },
    {
     "name": "stdout",
     "output_type": "stream",
     "text": [
      "Batch 153 | Reject Differential (mean over batch): 0.0349\n",
      "Batch 153 | Reject Differential (mean over batch): 0.0524\n",
      "Batch 153 | Reject Differential (mean over batch): 0.0356\n",
      "Batch 154 | Reject Differential (mean over batch): 0.0268\n"
     ]
    },
    {
     "name": "stderr",
     "output_type": "stream",
     "text": [
      " 25%|████████████████████████████████████████▍                                                                                                                          | 155/625 [00:29<01:26,  5.45it/s]"
     ]
    },
    {
     "name": "stdout",
     "output_type": "stream",
     "text": [
      "Batch 154 | Reject Differential (mean over batch): 0.0360\n",
      "Batch 154 | Reject Differential (mean over batch): 0.0201\n",
      "Batch 155 | Reject Differential (mean over batch): 0.0333\n",
      "Batch 155 | Reject Differential (mean over batch): 0.0384\n"
     ]
    },
    {
     "name": "stderr",
     "output_type": "stream",
     "text": [
      " 25%|████████████████████████████████████████▉                                                                                                                          | 157/625 [00:29<01:25,  5.46it/s]"
     ]
    },
    {
     "name": "stdout",
     "output_type": "stream",
     "text": [
      "Batch 155 | Reject Differential (mean over batch): 0.0249\n",
      "Batch 156 | Reject Differential (mean over batch): 0.0241\n",
      "Batch 156 | Reject Differential (mean over batch): 0.0374\n",
      "Batch 156 | Reject Differential (mean over batch): 0.0276\n"
     ]
    },
    {
     "name": "stderr",
     "output_type": "stream",
     "text": [
      " 25%|█████████████████████████████████████████▏                                                                                                                         | 158/625 [00:30<01:25,  5.46it/s]"
     ]
    },
    {
     "name": "stdout",
     "output_type": "stream",
     "text": [
      "Batch 157 | Reject Differential (mean over batch): 0.0279\n",
      "Batch 157 | Reject Differential (mean over batch): 0.0401\n",
      "Batch 157 | Reject Differential (mean over batch): 0.0311\n",
      "Batch 158 | Reject Differential (mean over batch): 0.0390\n"
     ]
    },
    {
     "name": "stderr",
     "output_type": "stream",
     "text": [
      " 25%|█████████████████████████████████████████▍                                                                                                                         | 159/625 [00:30<01:25,  5.45it/s]"
     ]
    },
    {
     "name": "stdout",
     "output_type": "stream",
     "text": [
      "Batch 158 | Reject Differential (mean over batch): 0.0384\n",
      "Batch 158 | Reject Differential (mean over batch): 0.0215\n",
      "Batch 159 | Reject Differential (mean over batch): 0.0384\n",
      "Batch 159 | Reject Differential (mean over batch): 0.0354\n"
     ]
    },
    {
     "name": "stderr",
     "output_type": "stream",
     "text": [
      " 26%|█████████████████████████████████████████▉                                                                                                                         | 161/625 [00:30<01:25,  5.43it/s]"
     ]
    },
    {
     "name": "stdout",
     "output_type": "stream",
     "text": [
      "Batch 159 | Reject Differential (mean over batch): 0.0276\n",
      "Batch 160 | Reject Differential (mean over batch): 0.0338\n",
      "Batch 160 | Reject Differential (mean over batch): 0.0440\n",
      "Batch 160 | Reject Differential (mean over batch): 0.0263\n"
     ]
    },
    {
     "name": "stderr",
     "output_type": "stream",
     "text": [
      " 26%|██████████████████████████████████████████▏                                                                                                                        | 162/625 [00:30<01:25,  5.42it/s]"
     ]
    },
    {
     "name": "stdout",
     "output_type": "stream",
     "text": [
      "Batch 161 | Reject Differential (mean over batch): 0.0204\n",
      "Batch 161 | Reject Differential (mean over batch): 0.0284\n",
      "Batch 161 | Reject Differential (mean over batch): 0.0239\n",
      "Batch 162 | Reject Differential (mean over batch): 0.0318\n"
     ]
    },
    {
     "name": "stderr",
     "output_type": "stream",
     "text": [
      " 26%|██████████████████████████████████████████▌                                                                                                                        | 163/625 [00:30<01:25,  5.41it/s]"
     ]
    },
    {
     "name": "stdout",
     "output_type": "stream",
     "text": [
      "Batch 162 | Reject Differential (mean over batch): 0.0335\n",
      "Batch 162 | Reject Differential (mean over batch): 0.0277\n",
      "Batch 163 | Reject Differential (mean over batch): 0.0279\n",
      "Batch 163 | Reject Differential (mean over batch): 0.0418\n"
     ]
    },
    {
     "name": "stderr",
     "output_type": "stream",
     "text": [
      " 26%|███████████████████████████████████████████                                                                                                                        | 165/625 [00:31<01:26,  5.34it/s]"
     ]
    },
    {
     "name": "stdout",
     "output_type": "stream",
     "text": [
      "Batch 163 | Reject Differential (mean over batch): 0.0229\n",
      "Batch 164 | Reject Differential (mean over batch): 0.0273\n",
      "Batch 164 | Reject Differential (mean over batch): 0.0468\n",
      "Batch 164 | Reject Differential (mean over batch): 0.0336\n"
     ]
    },
    {
     "name": "stderr",
     "output_type": "stream",
     "text": [
      " 27%|███████████████████████████████████████████▎                                                                                                                       | 166/625 [00:31<01:25,  5.35it/s]"
     ]
    },
    {
     "name": "stdout",
     "output_type": "stream",
     "text": [
      "Batch 165 | Reject Differential (mean over batch): 0.0264\n",
      "Batch 165 | Reject Differential (mean over batch): 0.0372\n",
      "Batch 165 | Reject Differential (mean over batch): 0.0382\n",
      "Batch 166 | Reject Differential (mean over batch): 0.0259\n"
     ]
    },
    {
     "name": "stderr",
     "output_type": "stream",
     "text": [
      " 27%|███████████████████████████████████████████▌                                                                                                                       | 167/625 [00:31<01:25,  5.37it/s]"
     ]
    },
    {
     "name": "stdout",
     "output_type": "stream",
     "text": [
      "Batch 166 | Reject Differential (mean over batch): 0.0300\n",
      "Batch 166 | Reject Differential (mean over batch): 0.0320\n",
      "Batch 167 | Reject Differential (mean over batch): 0.0256\n",
      "Batch 167 | Reject Differential (mean over batch): 0.0375\n"
     ]
    },
    {
     "name": "stderr",
     "output_type": "stream",
     "text": [
      " 27%|████████████████████████████████████████████                                                                                                                       | 169/625 [00:32<01:24,  5.41it/s]"
     ]
    },
    {
     "name": "stdout",
     "output_type": "stream",
     "text": [
      "Batch 167 | Reject Differential (mean over batch): 0.0304\n",
      "Batch 168 | Reject Differential (mean over batch): 0.0257\n",
      "Batch 168 | Reject Differential (mean over batch): 0.0482\n",
      "Batch 168 | Reject Differential (mean over batch): 0.0276\n"
     ]
    },
    {
     "name": "stderr",
     "output_type": "stream",
     "text": [
      " 27%|████████████████████████████████████████████▎                                                                                                                      | 170/625 [00:32<01:24,  5.40it/s]"
     ]
    },
    {
     "name": "stdout",
     "output_type": "stream",
     "text": [
      "Batch 169 | Reject Differential (mean over batch): 0.0415\n",
      "Batch 169 | Reject Differential (mean over batch): 0.0430\n",
      "Batch 169 | Reject Differential (mean over batch): 0.0255\n",
      "Batch 170 | Reject Differential (mean over batch): 0.0277\n"
     ]
    },
    {
     "name": "stderr",
     "output_type": "stream",
     "text": [
      " 27%|████████████████████████████████████████████▌                                                                                                                      | 171/625 [00:32<01:23,  5.41it/s]"
     ]
    },
    {
     "name": "stdout",
     "output_type": "stream",
     "text": [
      "Batch 170 | Reject Differential (mean over batch): 0.0276\n",
      "Batch 170 | Reject Differential (mean over batch): 0.0236\n",
      "Batch 171 | Reject Differential (mean over batch): 0.0327\n",
      "Batch 171 | Reject Differential (mean over batch): 0.0332\n"
     ]
    },
    {
     "name": "stderr",
     "output_type": "stream",
     "text": [
      " 28%|█████████████████████████████████████████████                                                                                                                      | 173/625 [00:32<01:23,  5.42it/s]"
     ]
    },
    {
     "name": "stdout",
     "output_type": "stream",
     "text": [
      "Batch 171 | Reject Differential (mean over batch): 0.0313\n",
      "Batch 172 | Reject Differential (mean over batch): 0.0340\n",
      "Batch 172 | Reject Differential (mean over batch): 0.0385\n",
      "Batch 172 | Reject Differential (mean over batch): 0.0338\n"
     ]
    },
    {
     "name": "stderr",
     "output_type": "stream",
     "text": [
      " 28%|█████████████████████████████████████████████▍                                                                                                                     | 174/625 [00:33<01:23,  5.41it/s]"
     ]
    },
    {
     "name": "stdout",
     "output_type": "stream",
     "text": [
      "Batch 173 | Reject Differential (mean over batch): 0.0293\n",
      "Batch 173 | Reject Differential (mean over batch): 0.0349\n",
      "Batch 173 | Reject Differential (mean over batch): 0.0310\n",
      "Batch 174 | Reject Differential (mean over batch): 0.0197\n"
     ]
    },
    {
     "name": "stderr",
     "output_type": "stream",
     "text": [
      " 28%|█████████████████████████████████████████████▋                                                                                                                     | 175/625 [00:33<01:23,  5.41it/s]"
     ]
    },
    {
     "name": "stdout",
     "output_type": "stream",
     "text": [
      "Batch 174 | Reject Differential (mean over batch): 0.0335\n",
      "Batch 174 | Reject Differential (mean over batch): 0.0272\n",
      "Batch 175 | Reject Differential (mean over batch): 0.0394\n",
      "Batch 175 | Reject Differential (mean over batch): 0.0320\n"
     ]
    },
    {
     "name": "stderr",
     "output_type": "stream",
     "text": [
      " 28%|██████████████████████████████████████████████▏                                                                                                                    | 177/625 [00:33<01:22,  5.42it/s]"
     ]
    },
    {
     "name": "stdout",
     "output_type": "stream",
     "text": [
      "Batch 175 | Reject Differential (mean over batch): 0.0244\n",
      "Batch 176 | Reject Differential (mean over batch): 0.0284\n",
      "Batch 176 | Reject Differential (mean over batch): 0.0415\n",
      "Batch 176 | Reject Differential (mean over batch): 0.0325\n"
     ]
    },
    {
     "name": "stderr",
     "output_type": "stream",
     "text": [
      " 28%|██████████████████████████████████████████████▍                                                                                                                    | 178/625 [00:33<01:22,  5.42it/s]"
     ]
    },
    {
     "name": "stdout",
     "output_type": "stream",
     "text": [
      "Batch 177 | Reject Differential (mean over batch): 0.0339\n",
      "Batch 177 | Reject Differential (mean over batch): 0.0316\n",
      "Batch 177 | Reject Differential (mean over batch): 0.0227\n",
      "Batch 178 | Reject Differential (mean over batch): 0.0245\n"
     ]
    },
    {
     "name": "stderr",
     "output_type": "stream",
     "text": [
      " 29%|██████████████████████████████████████████████▋                                                                                                                    | 179/625 [00:33<01:22,  5.41it/s]"
     ]
    },
    {
     "name": "stdout",
     "output_type": "stream",
     "text": [
      "Batch 178 | Reject Differential (mean over batch): 0.0403\n",
      "Batch 178 | Reject Differential (mean over batch): 0.0337\n",
      "Batch 179 | Reject Differential (mean over batch): 0.0285\n",
      "Batch 179 | Reject Differential (mean over batch): 0.0383\n"
     ]
    },
    {
     "name": "stderr",
     "output_type": "stream",
     "text": [
      " 29%|███████████████████████████████████████████████▏                                                                                                                   | 181/625 [00:34<01:21,  5.44it/s]"
     ]
    },
    {
     "name": "stdout",
     "output_type": "stream",
     "text": [
      "Batch 179 | Reject Differential (mean over batch): 0.0211\n",
      "Batch 180 | Reject Differential (mean over batch): 0.0280\n",
      "Batch 180 | Reject Differential (mean over batch): 0.0367\n",
      "Batch 180 | Reject Differential (mean over batch): 0.0308\n"
     ]
    },
    {
     "name": "stderr",
     "output_type": "stream",
     "text": [
      " 29%|███████████████████████████████████████████████▍                                                                                                                   | 182/625 [00:34<01:22,  5.36it/s]"
     ]
    },
    {
     "name": "stdout",
     "output_type": "stream",
     "text": [
      "Batch 181 | Reject Differential (mean over batch): 0.0362\n",
      "Batch 181 | Reject Differential (mean over batch): 0.0435\n",
      "Batch 181 | Reject Differential (mean over batch): 0.0323\n",
      "Batch 182 | Reject Differential (mean over batch): 0.0319\n"
     ]
    },
    {
     "name": "stderr",
     "output_type": "stream",
     "text": [
      " 29%|███████████████████████████████████████████████▋                                                                                                                   | 183/625 [00:34<01:22,  5.36it/s]"
     ]
    },
    {
     "name": "stdout",
     "output_type": "stream",
     "text": [
      "Batch 182 | Reject Differential (mean over batch): 0.0373\n",
      "Batch 182 | Reject Differential (mean over batch): 0.0316\n",
      "Batch 183 | Reject Differential (mean over batch): 0.0342\n",
      "Batch 183 | Reject Differential (mean over batch): 0.0355\n"
     ]
    },
    {
     "name": "stderr",
     "output_type": "stream",
     "text": [
      " 30%|████████████████████████████████████████████████▏                                                                                                                  | 185/625 [00:35<01:21,  5.42it/s]"
     ]
    },
    {
     "name": "stdout",
     "output_type": "stream",
     "text": [
      "Batch 183 | Reject Differential (mean over batch): 0.0274\n",
      "Batch 184 | Reject Differential (mean over batch): 0.0369\n",
      "Batch 184 | Reject Differential (mean over batch): 0.0308\n",
      "Batch 184 | Reject Differential (mean over batch): 0.0297\n"
     ]
    },
    {
     "name": "stderr",
     "output_type": "stream",
     "text": [
      " 30%|████████████████████████████████████████████████▌                                                                                                                  | 186/625 [00:35<01:20,  5.43it/s]"
     ]
    },
    {
     "name": "stdout",
     "output_type": "stream",
     "text": [
      "Batch 185 | Reject Differential (mean over batch): 0.0227\n",
      "Batch 185 | Reject Differential (mean over batch): 0.0359\n",
      "Batch 185 | Reject Differential (mean over batch): 0.0254\n",
      "Batch 186 | Reject Differential (mean over batch): 0.0330\n"
     ]
    },
    {
     "name": "stderr",
     "output_type": "stream",
     "text": [
      " 30%|████████████████████████████████████████████████▊                                                                                                                  | 187/625 [00:35<01:22,  5.29it/s]"
     ]
    },
    {
     "name": "stdout",
     "output_type": "stream",
     "text": [
      "Batch 186 | Reject Differential (mean over batch): 0.0380\n",
      "Batch 186 | Reject Differential (mean over batch): 0.0282\n",
      "Batch 187 | Reject Differential (mean over batch): 0.0394\n",
      "Batch 187 | Reject Differential (mean over batch): 0.0368\n"
     ]
    },
    {
     "name": "stderr",
     "output_type": "stream",
     "text": [
      " 30%|█████████████████████████████████████████████████▎                                                                                                                 | 189/625 [00:35<01:20,  5.39it/s]"
     ]
    },
    {
     "name": "stdout",
     "output_type": "stream",
     "text": [
      "Batch 187 | Reject Differential (mean over batch): 0.0285\n",
      "Batch 188 | Reject Differential (mean over batch): 0.0361\n",
      "Batch 188 | Reject Differential (mean over batch): 0.0466\n",
      "Batch 188 | Reject Differential (mean over batch): 0.0335\n"
     ]
    },
    {
     "name": "stderr",
     "output_type": "stream",
     "text": [
      " 30%|█████████████████████████████████████████████████▌                                                                                                                 | 190/625 [00:35<01:20,  5.41it/s]"
     ]
    },
    {
     "name": "stdout",
     "output_type": "stream",
     "text": [
      "Batch 189 | Reject Differential (mean over batch): 0.0358\n",
      "Batch 189 | Reject Differential (mean over batch): 0.0460\n",
      "Batch 189 | Reject Differential (mean over batch): 0.0230\n",
      "Batch 190 | Reject Differential (mean over batch): 0.0328\n"
     ]
    },
    {
     "name": "stderr",
     "output_type": "stream",
     "text": [
      " 31%|█████████████████████████████████████████████████▊                                                                                                                 | 191/625 [00:36<01:20,  5.42it/s]"
     ]
    },
    {
     "name": "stdout",
     "output_type": "stream",
     "text": [
      "Batch 190 | Reject Differential (mean over batch): 0.0441\n",
      "Batch 190 | Reject Differential (mean over batch): 0.0432\n",
      "Batch 191 | Reject Differential (mean over batch): 0.0465\n",
      "Batch 191 | Reject Differential (mean over batch): 0.0256\n"
     ]
    },
    {
     "name": "stderr",
     "output_type": "stream",
     "text": [
      " 31%|██████████████████████████████████████████████████▎                                                                                                                | 193/625 [00:36<01:19,  5.46it/s]"
     ]
    },
    {
     "name": "stdout",
     "output_type": "stream",
     "text": [
      "Batch 191 | Reject Differential (mean over batch): 0.0328\n",
      "Batch 192 | Reject Differential (mean over batch): 0.0353\n",
      "Batch 192 | Reject Differential (mean over batch): 0.0425\n",
      "Batch 192 | Reject Differential (mean over batch): 0.0242\n"
     ]
    },
    {
     "name": "stderr",
     "output_type": "stream",
     "text": [
      " 31%|██████████████████████████████████████████████████▌                                                                                                                | 194/625 [00:36<01:20,  5.38it/s]"
     ]
    },
    {
     "name": "stdout",
     "output_type": "stream",
     "text": [
      "Batch 193 | Reject Differential (mean over batch): 0.0382\n",
      "Batch 193 | Reject Differential (mean over batch): 0.0333\n",
      "Batch 193 | Reject Differential (mean over batch): 0.0217\n",
      "Batch 194 | Reject Differential (mean over batch): 0.0397\n"
     ]
    },
    {
     "name": "stderr",
     "output_type": "stream",
     "text": [
      " 31%|██████████████████████████████████████████████████▊                                                                                                                | 195/625 [00:36<01:19,  5.43it/s]"
     ]
    },
    {
     "name": "stdout",
     "output_type": "stream",
     "text": [
      "Batch 194 | Reject Differential (mean over batch): 0.0359\n",
      "Batch 194 | Reject Differential (mean over batch): 0.0334\n",
      "Batch 195 | Reject Differential (mean over batch): 0.0351\n",
      "Batch 195 | Reject Differential (mean over batch): 0.0466\n"
     ]
    },
    {
     "name": "stderr",
     "output_type": "stream",
     "text": [
      " 32%|███████████████████████████████████████████████████▍                                                                                                               | 197/625 [00:37<01:18,  5.48it/s]"
     ]
    },
    {
     "name": "stdout",
     "output_type": "stream",
     "text": [
      "Batch 195 | Reject Differential (mean over batch): 0.0294\n",
      "Batch 196 | Reject Differential (mean over batch): 0.0303\n",
      "Batch 196 | Reject Differential (mean over batch): 0.0462\n",
      "Batch 196 | Reject Differential (mean over batch): 0.0309\n"
     ]
    },
    {
     "name": "stderr",
     "output_type": "stream",
     "text": [
      " 32%|███████████████████████████████████████████████████▋                                                                                                               | 198/625 [00:37<01:17,  5.49it/s]"
     ]
    },
    {
     "name": "stdout",
     "output_type": "stream",
     "text": [
      "Batch 197 | Reject Differential (mean over batch): 0.0268\n",
      "Batch 197 | Reject Differential (mean over batch): 0.0420\n",
      "Batch 197 | Reject Differential (mean over batch): 0.0189\n",
      "Batch 198 | Reject Differential (mean over batch): 0.0293\n"
     ]
    },
    {
     "name": "stderr",
     "output_type": "stream",
     "text": [
      " 32%|███████████████████████████████████████████████████▉                                                                                                               | 199/625 [00:37<01:17,  5.50it/s]"
     ]
    },
    {
     "name": "stdout",
     "output_type": "stream",
     "text": [
      "Batch 198 | Reject Differential (mean over batch): 0.0273\n",
      "Batch 198 | Reject Differential (mean over batch): 0.0330\n",
      "Batch 199 | Reject Differential (mean over batch): 0.0355\n",
      "Batch 199 | Reject Differential (mean over batch): 0.0445\n"
     ]
    },
    {
     "name": "stderr",
     "output_type": "stream",
     "text": [
      " 32%|████████████████████████████████████████████████████▍                                                                                                              | 201/625 [00:37<01:16,  5.52it/s]"
     ]
    },
    {
     "name": "stdout",
     "output_type": "stream",
     "text": [
      "Batch 199 | Reject Differential (mean over batch): 0.0189\n",
      "Batch 200 | Reject Differential (mean over batch): 0.0331\n",
      "Batch 200 | Reject Differential (mean over batch): 0.0308\n",
      "Batch 200 | Reject Differential (mean over batch): 0.0284\n"
     ]
    },
    {
     "name": "stderr",
     "output_type": "stream",
     "text": [
      " 32%|████████████████████████████████████████████████████▋                                                                                                              | 202/625 [00:38<01:16,  5.54it/s]"
     ]
    },
    {
     "name": "stdout",
     "output_type": "stream",
     "text": [
      "Batch 201 | Reject Differential (mean over batch): 0.0282\n",
      "Batch 201 | Reject Differential (mean over batch): 0.0249\n",
      "Batch 201 | Reject Differential (mean over batch): 0.0213\n",
      "Batch 202 | Reject Differential (mean over batch): 0.0371\n"
     ]
    },
    {
     "name": "stderr",
     "output_type": "stream",
     "text": [
      " 32%|████████████████████████████████████████████████████▉                                                                                                              | 203/625 [00:38<01:16,  5.55it/s]"
     ]
    },
    {
     "name": "stdout",
     "output_type": "stream",
     "text": [
      "Batch 202 | Reject Differential (mean over batch): 0.0444\n",
      "Batch 202 | Reject Differential (mean over batch): 0.0315\n",
      "Batch 203 | Reject Differential (mean over batch): 0.0205\n",
      "Batch 203 | Reject Differential (mean over batch): 0.0383\n"
     ]
    },
    {
     "name": "stderr",
     "output_type": "stream",
     "text": [
      " 33%|█████████████████████████████████████████████████████▍                                                                                                             | 205/625 [00:38<01:15,  5.56it/s]"
     ]
    },
    {
     "name": "stdout",
     "output_type": "stream",
     "text": [
      "Batch 203 | Reject Differential (mean over batch): 0.0216\n",
      "Batch 204 | Reject Differential (mean over batch): 0.0248\n",
      "Batch 204 | Reject Differential (mean over batch): 0.0424\n",
      "Batch 204 | Reject Differential (mean over batch): 0.0260\n"
     ]
    },
    {
     "name": "stderr",
     "output_type": "stream",
     "text": [
      " 33%|█████████████████████████████████████████████████████▋                                                                                                             | 206/625 [00:38<01:15,  5.56it/s]"
     ]
    },
    {
     "name": "stdout",
     "output_type": "stream",
     "text": [
      "Batch 205 | Reject Differential (mean over batch): 0.0342\n",
      "Batch 205 | Reject Differential (mean over batch): 0.0354\n",
      "Batch 205 | Reject Differential (mean over batch): 0.0221\n",
      "Batch 206 | Reject Differential (mean over batch): 0.0182\n"
     ]
    },
    {
     "name": "stderr",
     "output_type": "stream",
     "text": [
      " 33%|█████████████████████████████████████████████████████▉                                                                                                             | 207/625 [00:39<01:15,  5.54it/s]"
     ]
    },
    {
     "name": "stdout",
     "output_type": "stream",
     "text": [
      "Batch 206 | Reject Differential (mean over batch): 0.0289\n",
      "Batch 206 | Reject Differential (mean over batch): 0.0275\n",
      "Batch 207 | Reject Differential (mean over batch): 0.0280\n"
     ]
    },
    {
     "name": "stderr",
     "output_type": "stream",
     "text": [
      " 33%|██████████████████████████████████████████████████████▏                                                                                                            | 208/625 [00:39<01:17,  5.36it/s]"
     ]
    },
    {
     "name": "stdout",
     "output_type": "stream",
     "text": [
      "Batch 207 | Reject Differential (mean over batch): 0.0284\n",
      "Batch 207 | Reject Differential (mean over batch): 0.0246\n",
      "Batch 208 | Reject Differential (mean over batch): 0.0211\n",
      "Batch 208 | Reject Differential (mean over batch): 0.0302\n"
     ]
    },
    {
     "name": "stderr",
     "output_type": "stream",
     "text": [
      " 34%|██████████████████████████████████████████████████████▊                                                                                                            | 210/625 [00:39<01:16,  5.46it/s]"
     ]
    },
    {
     "name": "stdout",
     "output_type": "stream",
     "text": [
      "Batch 208 | Reject Differential (mean over batch): 0.0346\n",
      "Batch 209 | Reject Differential (mean over batch): 0.0302\n",
      "Batch 209 | Reject Differential (mean over batch): 0.0315\n",
      "Batch 209 | Reject Differential (mean over batch): 0.0239\n"
     ]
    },
    {
     "name": "stderr",
     "output_type": "stream",
     "text": [
      " 34%|███████████████████████████████████████████████████████                                                                                                            | 211/625 [00:39<01:15,  5.49it/s]"
     ]
    },
    {
     "name": "stdout",
     "output_type": "stream",
     "text": [
      "Batch 210 | Reject Differential (mean over batch): 0.0238\n",
      "Batch 210 | Reject Differential (mean over batch): 0.0386\n",
      "Batch 210 | Reject Differential (mean over batch): 0.0259\n",
      "Batch 211 | Reject Differential (mean over batch): 0.0297\n"
     ]
    },
    {
     "name": "stderr",
     "output_type": "stream",
     "text": [
      " 34%|███████████████████████████████████████████████████████▎                                                                                                           | 212/625 [00:39<01:14,  5.51it/s]"
     ]
    },
    {
     "name": "stdout",
     "output_type": "stream",
     "text": [
      "Batch 211 | Reject Differential (mean over batch): 0.0247\n",
      "Batch 211 | Reject Differential (mean over batch): 0.0247\n",
      "Batch 212 | Reject Differential (mean over batch): 0.0350\n",
      "Batch 212 | Reject Differential (mean over batch): 0.0181\n"
     ]
    },
    {
     "name": "stderr",
     "output_type": "stream",
     "text": [
      " 34%|███████████████████████████████████████████████████████▊                                                                                                           | 214/625 [00:40<01:14,  5.52it/s]"
     ]
    },
    {
     "name": "stdout",
     "output_type": "stream",
     "text": [
      "Batch 212 | Reject Differential (mean over batch): 0.0276\n",
      "Batch 213 | Reject Differential (mean over batch): 0.0288\n",
      "Batch 213 | Reject Differential (mean over batch): 0.0381\n",
      "Batch 213 | Reject Differential (mean over batch): 0.0265\n"
     ]
    },
    {
     "name": "stderr",
     "output_type": "stream",
     "text": [
      " 34%|████████████████████████████████████████████████████████                                                                                                           | 215/625 [00:40<01:14,  5.53it/s]"
     ]
    },
    {
     "name": "stdout",
     "output_type": "stream",
     "text": [
      "Batch 214 | Reject Differential (mean over batch): 0.0150\n",
      "Batch 214 | Reject Differential (mean over batch): 0.0259\n",
      "Batch 214 | Reject Differential (mean over batch): 0.0266\n",
      "Batch 215 | Reject Differential (mean over batch): 0.0321\n"
     ]
    },
    {
     "name": "stderr",
     "output_type": "stream",
     "text": [
      " 35%|████████████████████████████████████████████████████████▎                                                                                                          | 216/625 [00:40<01:13,  5.54it/s]"
     ]
    },
    {
     "name": "stdout",
     "output_type": "stream",
     "text": [
      "Batch 215 | Reject Differential (mean over batch): 0.0411\n",
      "Batch 215 | Reject Differential (mean over batch): 0.0240\n",
      "Batch 216 | Reject Differential (mean over batch): 0.0297\n",
      "Batch 216 | Reject Differential (mean over batch): 0.0486\n"
     ]
    },
    {
     "name": "stderr",
     "output_type": "stream",
     "text": [
      " 35%|████████████████████████████████████████████████████████▊                                                                                                          | 218/625 [00:41<01:13,  5.52it/s]"
     ]
    },
    {
     "name": "stdout",
     "output_type": "stream",
     "text": [
      "Batch 216 | Reject Differential (mean over batch): 0.0319\n",
      "Batch 217 | Reject Differential (mean over batch): 0.0278\n",
      "Batch 217 | Reject Differential (mean over batch): 0.0224\n",
      "Batch 217 | Reject Differential (mean over batch): 0.0288\n"
     ]
    },
    {
     "name": "stderr",
     "output_type": "stream",
     "text": [
      " 35%|█████████████████████████████████████████████████████████                                                                                                          | 219/625 [00:41<01:13,  5.51it/s]"
     ]
    },
    {
     "name": "stdout",
     "output_type": "stream",
     "text": [
      "Batch 218 | Reject Differential (mean over batch): 0.0425\n",
      "Batch 218 | Reject Differential (mean over batch): 0.0375\n",
      "Batch 218 | Reject Differential (mean over batch): 0.0268\n",
      "Batch 219 | Reject Differential (mean over batch): 0.0309\n"
     ]
    },
    {
     "name": "stderr",
     "output_type": "stream",
     "text": [
      " 35%|█████████████████████████████████████████████████████████▍                                                                                                         | 220/625 [00:41<01:13,  5.51it/s]"
     ]
    },
    {
     "name": "stdout",
     "output_type": "stream",
     "text": [
      "Batch 219 | Reject Differential (mean over batch): 0.0348\n",
      "Batch 219 | Reject Differential (mean over batch): 0.0232\n",
      "Batch 220 | Reject Differential (mean over batch): 0.0221\n",
      "Batch 220 | Reject Differential (mean over batch): 0.0357\n"
     ]
    },
    {
     "name": "stderr",
     "output_type": "stream",
     "text": [
      " 36%|█████████████████████████████████████████████████████████▉                                                                                                         | 222/625 [00:41<01:14,  5.40it/s]"
     ]
    },
    {
     "name": "stdout",
     "output_type": "stream",
     "text": [
      "Batch 220 | Reject Differential (mean over batch): 0.0313\n",
      "Batch 221 | Reject Differential (mean over batch): 0.0231\n",
      "Batch 221 | Reject Differential (mean over batch): 0.0427\n",
      "Batch 221 | Reject Differential (mean over batch): 0.0351\n"
     ]
    },
    {
     "name": "stderr",
     "output_type": "stream",
     "text": [
      " 36%|██████████████████████████████████████████████████████████▏                                                                                                        | 223/625 [00:42<01:13,  5.44it/s]"
     ]
    },
    {
     "name": "stdout",
     "output_type": "stream",
     "text": [
      "Batch 222 | Reject Differential (mean over batch): 0.0220\n",
      "Batch 222 | Reject Differential (mean over batch): 0.0374\n",
      "Batch 222 | Reject Differential (mean over batch): 0.0313\n",
      "Batch 223 | Reject Differential (mean over batch): 0.0272\n"
     ]
    },
    {
     "name": "stderr",
     "output_type": "stream",
     "text": [
      " 36%|██████████████████████████████████████████████████████████▍                                                                                                        | 224/625 [00:42<01:13,  5.48it/s]"
     ]
    },
    {
     "name": "stdout",
     "output_type": "stream",
     "text": [
      "Batch 223 | Reject Differential (mean over batch): 0.0331\n",
      "Batch 223 | Reject Differential (mean over batch): 0.0329\n",
      "Batch 224 | Reject Differential (mean over batch): 0.0262\n",
      "Batch 224 | Reject Differential (mean over batch): 0.0359\n"
     ]
    },
    {
     "name": "stderr",
     "output_type": "stream",
     "text": [
      " 36%|██████████████████████████████████████████████████████████▉                                                                                                        | 226/625 [00:42<01:14,  5.37it/s]"
     ]
    },
    {
     "name": "stdout",
     "output_type": "stream",
     "text": [
      "Batch 224 | Reject Differential (mean over batch): 0.0295\n",
      "Batch 225 | Reject Differential (mean over batch): 0.0225\n",
      "Batch 225 | Reject Differential (mean over batch): 0.0255\n",
      "Batch 225 | Reject Differential (mean over batch): 0.0177\n"
     ]
    },
    {
     "name": "stderr",
     "output_type": "stream",
     "text": [
      " 36%|███████████████████████████████████████████████████████████▏                                                                                                       | 227/625 [00:42<01:13,  5.41it/s]"
     ]
    },
    {
     "name": "stdout",
     "output_type": "stream",
     "text": [
      "Batch 226 | Reject Differential (mean over batch): 0.0318\n",
      "Batch 226 | Reject Differential (mean over batch): 0.0394\n",
      "Batch 226 | Reject Differential (mean over batch): 0.0295\n",
      "Batch 227 | Reject Differential (mean over batch): 0.0215\n"
     ]
    },
    {
     "name": "stderr",
     "output_type": "stream",
     "text": [
      " 36%|███████████████████████████████████████████████████████████▍                                                                                                       | 228/625 [00:42<01:12,  5.45it/s]"
     ]
    },
    {
     "name": "stdout",
     "output_type": "stream",
     "text": [
      "Batch 227 | Reject Differential (mean over batch): 0.0259\n",
      "Batch 227 | Reject Differential (mean over batch): 0.0265\n",
      "Batch 228 | Reject Differential (mean over batch): 0.0336\n",
      "Batch 228 | Reject Differential (mean over batch): 0.0466\n"
     ]
    },
    {
     "name": "stderr",
     "output_type": "stream",
     "text": [
      " 37%|███████████████████████████████████████████████████████████▉                                                                                                       | 230/625 [00:43<01:12,  5.48it/s]"
     ]
    },
    {
     "name": "stdout",
     "output_type": "stream",
     "text": [
      "Batch 228 | Reject Differential (mean over batch): 0.0332\n",
      "Batch 229 | Reject Differential (mean over batch): 0.0245\n",
      "Batch 229 | Reject Differential (mean over batch): 0.0359\n",
      "Batch 229 | Reject Differential (mean over batch): 0.0272\n"
     ]
    },
    {
     "name": "stderr",
     "output_type": "stream",
     "text": [
      " 37%|████████████████████████████████████████████████████████████▏                                                                                                      | 231/625 [00:43<01:11,  5.49it/s]"
     ]
    },
    {
     "name": "stdout",
     "output_type": "stream",
     "text": [
      "Batch 230 | Reject Differential (mean over batch): 0.0237\n",
      "Batch 230 | Reject Differential (mean over batch): 0.0507\n",
      "Batch 230 | Reject Differential (mean over batch): 0.0279\n",
      "Batch 231 | Reject Differential (mean over batch): 0.0279\n"
     ]
    },
    {
     "name": "stderr",
     "output_type": "stream",
     "text": [
      " 37%|████████████████████████████████████████████████████████████▌                                                                                                      | 232/625 [00:43<01:11,  5.49it/s]"
     ]
    },
    {
     "name": "stdout",
     "output_type": "stream",
     "text": [
      "Batch 231 | Reject Differential (mean over batch): 0.0379\n",
      "Batch 231 | Reject Differential (mean over batch): 0.0256\n",
      "Batch 232 | Reject Differential (mean over batch): 0.0331\n",
      "Batch 232 | Reject Differential (mean over batch): 0.0379\n"
     ]
    },
    {
     "name": "stderr",
     "output_type": "stream",
     "text": [
      " 37%|█████████████████████████████████████████████████████████████                                                                                                      | 234/625 [00:44<01:11,  5.50it/s]"
     ]
    },
    {
     "name": "stdout",
     "output_type": "stream",
     "text": [
      "Batch 232 | Reject Differential (mean over batch): 0.0291\n",
      "Batch 233 | Reject Differential (mean over batch): 0.0447\n",
      "Batch 233 | Reject Differential (mean over batch): 0.0551\n",
      "Batch 233 | Reject Differential (mean over batch): 0.0294\n"
     ]
    },
    {
     "name": "stderr",
     "output_type": "stream",
     "text": [
      " 38%|█████████████████████████████████████████████████████████████▎                                                                                                     | 235/625 [00:44<01:10,  5.51it/s]"
     ]
    },
    {
     "name": "stdout",
     "output_type": "stream",
     "text": [
      "Batch 234 | Reject Differential (mean over batch): 0.0279\n",
      "Batch 234 | Reject Differential (mean over batch): 0.0374\n",
      "Batch 234 | Reject Differential (mean over batch): 0.0234\n",
      "Batch 235 | Reject Differential (mean over batch): 0.0302\n"
     ]
    },
    {
     "name": "stderr",
     "output_type": "stream",
     "text": [
      " 38%|█████████████████████████████████████████████████████████████▌                                                                                                     | 236/625 [00:44<01:10,  5.51it/s]"
     ]
    },
    {
     "name": "stdout",
     "output_type": "stream",
     "text": [
      "Batch 235 | Reject Differential (mean over batch): 0.0414\n",
      "Batch 235 | Reject Differential (mean over batch): 0.0302\n",
      "Batch 236 | Reject Differential (mean over batch): 0.0224\n",
      "Batch 236 | Reject Differential (mean over batch): 0.0444\n"
     ]
    },
    {
     "name": "stderr",
     "output_type": "stream",
     "text": [
      " 38%|██████████████████████████████████████████████████████████████                                                                                                     | 238/625 [00:44<01:10,  5.52it/s]"
     ]
    },
    {
     "name": "stdout",
     "output_type": "stream",
     "text": [
      "Batch 236 | Reject Differential (mean over batch): 0.0232\n",
      "Batch 237 | Reject Differential (mean over batch): 0.0266\n",
      "Batch 237 | Reject Differential (mean over batch): 0.0439\n",
      "Batch 237 | Reject Differential (mean over batch): 0.0250\n"
     ]
    },
    {
     "name": "stderr",
     "output_type": "stream",
     "text": [
      " 38%|██████████████████████████████████████████████████████████████▎                                                                                                    | 239/625 [00:44<01:09,  5.52it/s]"
     ]
    },
    {
     "name": "stdout",
     "output_type": "stream",
     "text": [
      "Batch 238 | Reject Differential (mean over batch): 0.0270\n",
      "Batch 238 | Reject Differential (mean over batch): 0.0301\n",
      "Batch 238 | Reject Differential (mean over batch): 0.0225\n",
      "Batch 239 | Reject Differential (mean over batch): 0.0296\n"
     ]
    },
    {
     "name": "stderr",
     "output_type": "stream",
     "text": [
      " 38%|██████████████████████████████████████████████████████████████▌                                                                                                    | 240/625 [00:45<01:09,  5.52it/s]"
     ]
    },
    {
     "name": "stdout",
     "output_type": "stream",
     "text": [
      "Batch 239 | Reject Differential (mean over batch): 0.0357\n",
      "Batch 239 | Reject Differential (mean over batch): 0.0269\n",
      "Batch 240 | Reject Differential (mean over batch): 0.0244\n",
      "Batch 240 | Reject Differential (mean over batch): 0.0424\n"
     ]
    },
    {
     "name": "stderr",
     "output_type": "stream",
     "text": [
      " 39%|███████████████████████████████████████████████████████████████                                                                                                    | 242/625 [00:45<01:09,  5.53it/s]"
     ]
    },
    {
     "name": "stdout",
     "output_type": "stream",
     "text": [
      "Batch 240 | Reject Differential (mean over batch): 0.0191\n",
      "Batch 241 | Reject Differential (mean over batch): 0.0387\n",
      "Batch 241 | Reject Differential (mean over batch): 0.0211\n",
      "Batch 241 | Reject Differential (mean over batch): 0.0232\n"
     ]
    },
    {
     "name": "stderr",
     "output_type": "stream",
     "text": [
      " 39%|███████████████████████████████████████████████████████████████▎                                                                                                   | 243/625 [00:45<01:09,  5.53it/s]"
     ]
    },
    {
     "name": "stdout",
     "output_type": "stream",
     "text": [
      "Batch 242 | Reject Differential (mean over batch): 0.0292\n",
      "Batch 242 | Reject Differential (mean over batch): 0.0405\n",
      "Batch 242 | Reject Differential (mean over batch): 0.0257\n",
      "Batch 243 | Reject Differential (mean over batch): 0.0210\n"
     ]
    },
    {
     "name": "stderr",
     "output_type": "stream",
     "text": [
      " 39%|███████████████████████████████████████████████████████████████▋                                                                                                   | 244/625 [00:45<01:10,  5.37it/s]"
     ]
    },
    {
     "name": "stdout",
     "output_type": "stream",
     "text": [
      "Batch 243 | Reject Differential (mean over batch): 0.0248\n",
      "Batch 243 | Reject Differential (mean over batch): 0.0222\n",
      "Batch 244 | Reject Differential (mean over batch): 0.0273\n",
      "Batch 244 | Reject Differential (mean over batch): 0.0369\n"
     ]
    },
    {
     "name": "stderr",
     "output_type": "stream",
     "text": [
      " 39%|████████████████████████████████████████████████████████████████▏                                                                                                  | 246/625 [00:46<01:09,  5.45it/s]"
     ]
    },
    {
     "name": "stdout",
     "output_type": "stream",
     "text": [
      "Batch 244 | Reject Differential (mean over batch): 0.0159\n",
      "Batch 245 | Reject Differential (mean over batch): 0.0330\n",
      "Batch 245 | Reject Differential (mean over batch): 0.0253\n",
      "Batch 245 | Reject Differential (mean over batch): 0.0333\n"
     ]
    },
    {
     "name": "stderr",
     "output_type": "stream",
     "text": [
      " 40%|████████████████████████████████████████████████████████████████▍                                                                                                  | 247/625 [00:46<01:09,  5.47it/s]"
     ]
    },
    {
     "name": "stdout",
     "output_type": "stream",
     "text": [
      "Batch 246 | Reject Differential (mean over batch): 0.0385\n",
      "Batch 246 | Reject Differential (mean over batch): 0.0445\n",
      "Batch 246 | Reject Differential (mean over batch): 0.0371\n",
      "Batch 247 | Reject Differential (mean over batch): 0.0272\n"
     ]
    },
    {
     "name": "stderr",
     "output_type": "stream",
     "text": [
      " 40%|████████████████████████████████████████████████████████████████▋                                                                                                  | 248/625 [00:46<01:08,  5.47it/s]"
     ]
    },
    {
     "name": "stdout",
     "output_type": "stream",
     "text": [
      "Batch 247 | Reject Differential (mean over batch): 0.0252\n",
      "Batch 247 | Reject Differential (mean over batch): 0.0360\n",
      "Batch 248 | Reject Differential (mean over batch): 0.0221\n",
      "Batch 248 | Reject Differential (mean over batch): 0.0380\n"
     ]
    },
    {
     "name": "stderr",
     "output_type": "stream",
     "text": [
      " 40%|█████████████████████████████████████████████████████████████████▏                                                                                                 | 250/625 [00:46<01:09,  5.38it/s]"
     ]
    },
    {
     "name": "stdout",
     "output_type": "stream",
     "text": [
      "Batch 248 | Reject Differential (mean over batch): 0.0356\n",
      "Batch 249 | Reject Differential (mean over batch): 0.0262\n",
      "Batch 249 | Reject Differential (mean over batch): 0.0323\n",
      "Batch 249 | Reject Differential (mean over batch): 0.0206\n"
     ]
    },
    {
     "name": "stderr",
     "output_type": "stream",
     "text": [
      " 40%|█████████████████████████████████████████████████████████████████▍                                                                                                 | 251/625 [00:47<01:09,  5.39it/s]"
     ]
    },
    {
     "name": "stdout",
     "output_type": "stream",
     "text": [
      "Batch 250 | Reject Differential (mean over batch): 0.0307\n",
      "Batch 250 | Reject Differential (mean over batch): 0.0443\n",
      "Batch 250 | Reject Differential (mean over batch): 0.0349\n",
      "Batch 251 | Reject Differential (mean over batch): 0.0178\n"
     ]
    },
    {
     "name": "stderr",
     "output_type": "stream",
     "text": [
      " 40%|█████████████████████████████████████████████████████████████████▋                                                                                                 | 252/625 [00:47<01:09,  5.40it/s]"
     ]
    },
    {
     "name": "stdout",
     "output_type": "stream",
     "text": [
      "Batch 251 | Reject Differential (mean over batch): 0.0366\n",
      "Batch 251 | Reject Differential (mean over batch): 0.0247\n",
      "Batch 252 | Reject Differential (mean over batch): 0.0243\n",
      "Batch 252 | Reject Differential (mean over batch): 0.0226\n"
     ]
    },
    {
     "name": "stderr",
     "output_type": "stream",
     "text": [
      " 41%|██████████████████████████████████████████████████████████████████▏                                                                                                | 254/625 [00:47<01:08,  5.44it/s]"
     ]
    },
    {
     "name": "stdout",
     "output_type": "stream",
     "text": [
      "Batch 252 | Reject Differential (mean over batch): 0.0234\n",
      "Batch 253 | Reject Differential (mean over batch): 0.0275\n",
      "Batch 253 | Reject Differential (mean over batch): 0.0412\n",
      "Batch 253 | Reject Differential (mean over batch): 0.0316\n"
     ]
    },
    {
     "name": "stderr",
     "output_type": "stream",
     "text": [
      " 41%|██████████████████████████████████████████████████████████████████▌                                                                                                | 255/625 [00:47<01:08,  5.41it/s]"
     ]
    },
    {
     "name": "stdout",
     "output_type": "stream",
     "text": [
      "Batch 254 | Reject Differential (mean over batch): 0.0274\n",
      "Batch 254 | Reject Differential (mean over batch): 0.0413\n",
      "Batch 254 | Reject Differential (mean over batch): 0.0267\n",
      "Batch 255 | Reject Differential (mean over batch): 0.0313\n"
     ]
    },
    {
     "name": "stderr",
     "output_type": "stream",
     "text": [
      " 41%|██████████████████████████████████████████████████████████████████▊                                                                                                | 256/625 [00:48<01:07,  5.45it/s]"
     ]
    },
    {
     "name": "stdout",
     "output_type": "stream",
     "text": [
      "Batch 255 | Reject Differential (mean over batch): 0.0443\n",
      "Batch 255 | Reject Differential (mean over batch): 0.0304\n",
      "Batch 256 | Reject Differential (mean over batch): 0.0278\n",
      "Batch 256 | Reject Differential (mean over batch): 0.0339\n"
     ]
    },
    {
     "name": "stderr",
     "output_type": "stream",
     "text": [
      " 41%|███████████████████████████████████████████████████████████████████▎                                                                                               | 258/625 [00:48<01:06,  5.48it/s]"
     ]
    },
    {
     "name": "stdout",
     "output_type": "stream",
     "text": [
      "Batch 256 | Reject Differential (mean over batch): 0.0240\n",
      "Batch 257 | Reject Differential (mean over batch): 0.0362\n",
      "Batch 257 | Reject Differential (mean over batch): 0.0537\n",
      "Batch 257 | Reject Differential (mean over batch): 0.0270\n"
     ]
    },
    {
     "name": "stderr",
     "output_type": "stream",
     "text": [
      " 41%|███████████████████████████████████████████████████████████████████▌                                                                                               | 259/625 [00:48<01:06,  5.49it/s]"
     ]
    },
    {
     "name": "stdout",
     "output_type": "stream",
     "text": [
      "Batch 258 | Reject Differential (mean over batch): 0.0326\n",
      "Batch 258 | Reject Differential (mean over batch): 0.0440\n",
      "Batch 258 | Reject Differential (mean over batch): 0.0266\n",
      "Batch 259 | Reject Differential (mean over batch): 0.0287\n"
     ]
    },
    {
     "name": "stderr",
     "output_type": "stream",
     "text": [
      " 42%|███████████████████████████████████████████████████████████████████▊                                                                                               | 260/625 [00:48<01:06,  5.50it/s]"
     ]
    },
    {
     "name": "stdout",
     "output_type": "stream",
     "text": [
      "Batch 259 | Reject Differential (mean over batch): 0.0494\n",
      "Batch 259 | Reject Differential (mean over batch): 0.0166\n",
      "Batch 260 | Reject Differential (mean over batch): 0.0317\n",
      "Batch 260 | Reject Differential (mean over batch): 0.0291\n"
     ]
    },
    {
     "name": "stderr",
     "output_type": "stream",
     "text": [
      " 42%|████████████████████████████████████████████████████████████████████▎                                                                                              | 262/625 [00:49<01:05,  5.51it/s]"
     ]
    },
    {
     "name": "stdout",
     "output_type": "stream",
     "text": [
      "Batch 260 | Reject Differential (mean over batch): 0.0312\n",
      "Batch 261 | Reject Differential (mean over batch): 0.0299\n",
      "Batch 261 | Reject Differential (mean over batch): 0.0432\n",
      "Batch 261 | Reject Differential (mean over batch): 0.0226\n"
     ]
    },
    {
     "name": "stderr",
     "output_type": "stream",
     "text": [
      " 42%|████████████████████████████████████████████████████████████████████▌                                                                                              | 263/625 [00:49<01:06,  5.47it/s]"
     ]
    },
    {
     "name": "stdout",
     "output_type": "stream",
     "text": [
      "Batch 262 | Reject Differential (mean over batch): 0.0287\n",
      "Batch 262 | Reject Differential (mean over batch): 0.0267\n",
      "Batch 262 | Reject Differential (mean over batch): 0.0325\n",
      "Batch 263 | Reject Differential (mean over batch): 0.0490\n"
     ]
    },
    {
     "name": "stderr",
     "output_type": "stream",
     "text": [
      " 42%|████████████████████████████████████████████████████████████████████▊                                                                                              | 264/625 [00:49<01:06,  5.44it/s]"
     ]
    },
    {
     "name": "stdout",
     "output_type": "stream",
     "text": [
      "Batch 263 | Reject Differential (mean over batch): 0.0464\n",
      "Batch 263 | Reject Differential (mean over batch): 0.0284\n",
      "Batch 264 | Reject Differential (mean over batch): 0.0302\n",
      "Batch 264 | Reject Differential (mean over batch): 0.0383\n"
     ]
    },
    {
     "name": "stderr",
     "output_type": "stream",
     "text": [
      " 43%|█████████████████████████████████████████████████████████████████████▎                                                                                             | 266/625 [00:49<01:05,  5.45it/s]"
     ]
    },
    {
     "name": "stdout",
     "output_type": "stream",
     "text": [
      "Batch 264 | Reject Differential (mean over batch): 0.0265\n",
      "Batch 265 | Reject Differential (mean over batch): 0.0331\n",
      "Batch 265 | Reject Differential (mean over batch): 0.0405\n",
      "Batch 265 | Reject Differential (mean over batch): 0.0210\n"
     ]
    },
    {
     "name": "stderr",
     "output_type": "stream",
     "text": [
      " 43%|█████████████████████████████████████████████████████████████████████▋                                                                                             | 267/625 [00:50<01:05,  5.44it/s]"
     ]
    },
    {
     "name": "stdout",
     "output_type": "stream",
     "text": [
      "Batch 266 | Reject Differential (mean over batch): 0.0215\n",
      "Batch 266 | Reject Differential (mean over batch): 0.0378\n",
      "Batch 266 | Reject Differential (mean over batch): 0.0178\n",
      "Batch 267 | Reject Differential (mean over batch): 0.0305\n"
     ]
    },
    {
     "name": "stderr",
     "output_type": "stream",
     "text": [
      " 43%|█████████████████████████████████████████████████████████████████████▉                                                                                             | 268/625 [00:50<01:05,  5.43it/s]"
     ]
    },
    {
     "name": "stdout",
     "output_type": "stream",
     "text": [
      "Batch 267 | Reject Differential (mean over batch): 0.0315\n",
      "Batch 267 | Reject Differential (mean over batch): 0.0342\n",
      "Batch 268 | Reject Differential (mean over batch): 0.0339\n",
      "Batch 268 | Reject Differential (mean over batch): 0.0332\n"
     ]
    },
    {
     "name": "stderr",
     "output_type": "stream",
     "text": [
      " 43%|██████████████████████████████████████████████████████████████████████▍                                                                                            | 270/625 [00:50<01:05,  5.44it/s]"
     ]
    },
    {
     "name": "stdout",
     "output_type": "stream",
     "text": [
      "Batch 268 | Reject Differential (mean over batch): 0.0213\n",
      "Batch 269 | Reject Differential (mean over batch): 0.0215\n",
      "Batch 269 | Reject Differential (mean over batch): 0.0350\n",
      "Batch 269 | Reject Differential (mean over batch): 0.0361\n"
     ]
    },
    {
     "name": "stderr",
     "output_type": "stream",
     "text": [
      " 43%|██████████████████████████████████████████████████████████████████████▋                                                                                            | 271/625 [00:50<01:05,  5.43it/s]"
     ]
    },
    {
     "name": "stdout",
     "output_type": "stream",
     "text": [
      "Batch 270 | Reject Differential (mean over batch): 0.0229\n",
      "Batch 270 | Reject Differential (mean over batch): 0.0301\n",
      "Batch 270 | Reject Differential (mean over batch): 0.0209\n",
      "Batch 271 | Reject Differential (mean over batch): 0.0358\n"
     ]
    },
    {
     "name": "stderr",
     "output_type": "stream",
     "text": [
      " 44%|██████████████████████████████████████████████████████████████████████▉                                                                                            | 272/625 [00:50<01:05,  5.42it/s]"
     ]
    },
    {
     "name": "stdout",
     "output_type": "stream",
     "text": [
      "Batch 271 | Reject Differential (mean over batch): 0.0298\n",
      "Batch 271 | Reject Differential (mean over batch): 0.0370\n",
      "Batch 272 | Reject Differential (mean over batch): 0.0243\n",
      "Batch 272 | Reject Differential (mean over batch): 0.0392\n"
     ]
    },
    {
     "name": "stderr",
     "output_type": "stream",
     "text": [
      " 44%|███████████████████████████████████████████████████████████████████████▍                                                                                           | 274/625 [00:51<01:04,  5.40it/s]"
     ]
    },
    {
     "name": "stdout",
     "output_type": "stream",
     "text": [
      "Batch 272 | Reject Differential (mean over batch): 0.0171\n",
      "Batch 273 | Reject Differential (mean over batch): 0.0345\n",
      "Batch 273 | Reject Differential (mean over batch): 0.0341\n",
      "Batch 273 | Reject Differential (mean over batch): 0.0219\n"
     ]
    },
    {
     "name": "stderr",
     "output_type": "stream",
     "text": [
      " 44%|███████████████████████████████████████████████████████████████████████▋                                                                                           | 275/625 [00:51<01:05,  5.37it/s]"
     ]
    },
    {
     "name": "stdout",
     "output_type": "stream",
     "text": [
      "Batch 274 | Reject Differential (mean over batch): 0.0313\n",
      "Batch 274 | Reject Differential (mean over batch): 0.0473\n",
      "Batch 274 | Reject Differential (mean over batch): 0.0423\n",
      "Batch 275 | Reject Differential (mean over batch): 0.0342\n"
     ]
    },
    {
     "name": "stderr",
     "output_type": "stream",
     "text": [
      " 44%|███████████████████████████████████████████████████████████████████████▉                                                                                           | 276/625 [00:51<01:04,  5.39it/s]"
     ]
    },
    {
     "name": "stdout",
     "output_type": "stream",
     "text": [
      "Batch 275 | Reject Differential (mean over batch): 0.0502\n",
      "Batch 275 | Reject Differential (mean over batch): 0.0413\n",
      "Batch 276 | Reject Differential (mean over batch): 0.0000\n",
      "Batch 276 | Reject Differential (mean over batch): 0.0556\n"
     ]
    },
    {
     "name": "stderr",
     "output_type": "stream",
     "text": [
      " 44%|████████████████████████████████████████████████████████████████████████▌                                                                                          | 278/625 [00:52<01:04,  5.39it/s]"
     ]
    },
    {
     "name": "stdout",
     "output_type": "stream",
     "text": [
      "Batch 276 | Reject Differential (mean over batch): 0.0286\n",
      "Batch 277 | Reject Differential (mean over batch): 0.0434\n",
      "Batch 277 | Reject Differential (mean over batch): 0.0356\n",
      "Batch 277 | Reject Differential (mean over batch): 0.0285\n"
     ]
    },
    {
     "name": "stderr",
     "output_type": "stream",
     "text": [
      " 45%|████████████████████████████████████████████████████████████████████████▊                                                                                          | 279/625 [00:52<01:04,  5.39it/s]"
     ]
    },
    {
     "name": "stdout",
     "output_type": "stream",
     "text": [
      "Batch 278 | Reject Differential (mean over batch): 0.0246\n",
      "Batch 278 | Reject Differential (mean over batch): 0.0205\n",
      "Batch 278 | Reject Differential (mean over batch): 0.0280\n",
      "Batch 279 | Reject Differential (mean over batch): 0.0308\n"
     ]
    },
    {
     "name": "stderr",
     "output_type": "stream",
     "text": [
      " 45%|█████████████████████████████████████████████████████████████████████████                                                                                          | 280/625 [00:52<01:03,  5.40it/s]"
     ]
    },
    {
     "name": "stdout",
     "output_type": "stream",
     "text": [
      "Batch 279 | Reject Differential (mean over batch): 0.0379\n",
      "Batch 279 | Reject Differential (mean over batch): 0.0249\n",
      "Batch 280 | Reject Differential (mean over batch): 0.0000\n",
      "Batch 280 | Reject Differential (mean over batch): 0.0389\n"
     ]
    },
    {
     "name": "stderr",
     "output_type": "stream",
     "text": [
      " 45%|█████████████████████████████████████████████████████████████████████████▌                                                                                         | 282/625 [00:52<01:03,  5.41it/s]"
     ]
    },
    {
     "name": "stdout",
     "output_type": "stream",
     "text": [
      "Batch 280 | Reject Differential (mean over batch): 0.0298\n",
      "Batch 281 | Reject Differential (mean over batch): 0.0260\n",
      "Batch 281 | Reject Differential (mean over batch): 0.0421\n",
      "Batch 281 | Reject Differential (mean over batch): 0.0244\n"
     ]
    },
    {
     "name": "stderr",
     "output_type": "stream",
     "text": [
      " 45%|█████████████████████████████████████████████████████████████████████████▊                                                                                         | 283/625 [00:53<01:03,  5.42it/s]"
     ]
    },
    {
     "name": "stdout",
     "output_type": "stream",
     "text": [
      "Batch 282 | Reject Differential (mean over batch): 0.0350\n",
      "Batch 282 | Reject Differential (mean over batch): 0.0276\n",
      "Batch 282 | Reject Differential (mean over batch): 0.0182\n",
      "Batch 283 | Reject Differential (mean over batch): 0.0000\n"
     ]
    },
    {
     "name": "stderr",
     "output_type": "stream",
     "text": [
      " 45%|██████████████████████████████████████████████████████████████████████████                                                                                         | 284/625 [00:53<01:02,  5.43it/s]"
     ]
    },
    {
     "name": "stdout",
     "output_type": "stream",
     "text": [
      "Batch 283 | Reject Differential (mean over batch): 0.0272\n",
      "Batch 283 | Reject Differential (mean over batch): 0.0315\n",
      "Batch 284 | Reject Differential (mean over batch): 0.0339\n",
      "Batch 284 | Reject Differential (mean over batch): 0.0447\n"
     ]
    },
    {
     "name": "stderr",
     "output_type": "stream",
     "text": [
      " 46%|██████████████████████████████████████████████████████████████████████████▌                                                                                        | 286/625 [00:53<01:02,  5.41it/s]"
     ]
    },
    {
     "name": "stdout",
     "output_type": "stream",
     "text": [
      "Batch 284 | Reject Differential (mean over batch): 0.0283\n",
      "Batch 285 | Reject Differential (mean over batch): 0.0233\n",
      "Batch 285 | Reject Differential (mean over batch): 0.0358\n",
      "Batch 285 | Reject Differential (mean over batch): 0.0303\n"
     ]
    },
    {
     "name": "stderr",
     "output_type": "stream",
     "text": [
      " 46%|██████████████████████████████████████████████████████████████████████████▊                                                                                        | 287/625 [00:53<01:02,  5.40it/s]"
     ]
    },
    {
     "name": "stdout",
     "output_type": "stream",
     "text": [
      "Batch 286 | Reject Differential (mean over batch): 0.0292\n",
      "Batch 286 | Reject Differential (mean over batch): 0.0356\n",
      "Batch 286 | Reject Differential (mean over batch): 0.0320\n",
      "Batch 287 | Reject Differential (mean over batch): 0.0123\n"
     ]
    },
    {
     "name": "stderr",
     "output_type": "stream",
     "text": [
      " 46%|███████████████████████████████████████████████████████████████████████████                                                                                        | 288/625 [00:53<01:02,  5.41it/s]"
     ]
    },
    {
     "name": "stdout",
     "output_type": "stream",
     "text": [
      "Batch 287 | Reject Differential (mean over batch): 0.0248\n",
      "Batch 287 | Reject Differential (mean over batch): 0.0209\n",
      "Batch 288 | Reject Differential (mean over batch): 0.0234\n",
      "Batch 288 | Reject Differential (mean over batch): 0.0244\n"
     ]
    },
    {
     "name": "stderr",
     "output_type": "stream",
     "text": [
      " 46%|███████████████████████████████████████████████████████████████████████████▋                                                                                       | 290/625 [00:54<01:02,  5.40it/s]"
     ]
    },
    {
     "name": "stdout",
     "output_type": "stream",
     "text": [
      "Batch 288 | Reject Differential (mean over batch): 0.0229\n",
      "Batch 289 | Reject Differential (mean over batch): 0.0407\n",
      "Batch 289 | Reject Differential (mean over batch): 0.0450\n",
      "Batch 289 | Reject Differential (mean over batch): 0.0240\n"
     ]
    },
    {
     "name": "stderr",
     "output_type": "stream",
     "text": [
      " 47%|███████████████████████████████████████████████████████████████████████████▉                                                                                       | 291/625 [00:54<01:02,  5.37it/s]"
     ]
    },
    {
     "name": "stdout",
     "output_type": "stream",
     "text": [
      "Batch 290 | Reject Differential (mean over batch): 0.0236\n",
      "Batch 290 | Reject Differential (mean over batch): 0.0314\n",
      "Batch 290 | Reject Differential (mean over batch): 0.0293\n",
      "Batch 291 | Reject Differential (mean over batch): 0.0288\n"
     ]
    },
    {
     "name": "stderr",
     "output_type": "stream",
     "text": [
      " 47%|████████████████████████████████████████████████████████████████████████████▏                                                                                      | 292/625 [00:54<01:01,  5.39it/s]"
     ]
    },
    {
     "name": "stdout",
     "output_type": "stream",
     "text": [
      "Batch 291 | Reject Differential (mean over batch): 0.0351\n",
      "Batch 291 | Reject Differential (mean over batch): 0.0286\n",
      "Batch 292 | Reject Differential (mean over batch): 0.0236\n",
      "Batch 292 | Reject Differential (mean over batch): 0.0369\n"
     ]
    },
    {
     "name": "stderr",
     "output_type": "stream",
     "text": [
      " 47%|████████████████████████████████████████████████████████████████████████████▋                                                                                      | 294/625 [00:55<01:01,  5.41it/s]"
     ]
    },
    {
     "name": "stdout",
     "output_type": "stream",
     "text": [
      "Batch 292 | Reject Differential (mean over batch): 0.0270\n",
      "Batch 293 | Reject Differential (mean over batch): 0.0304\n",
      "Batch 293 | Reject Differential (mean over batch): 0.0462\n",
      "Batch 293 | Reject Differential (mean over batch): 0.0347\n"
     ]
    },
    {
     "name": "stderr",
     "output_type": "stream",
     "text": [
      " 47%|████████████████████████████████████████████████████████████████████████████▉                                                                                      | 295/625 [00:55<01:01,  5.41it/s]"
     ]
    },
    {
     "name": "stdout",
     "output_type": "stream",
     "text": [
      "Batch 294 | Reject Differential (mean over batch): 0.0272\n",
      "Batch 294 | Reject Differential (mean over batch): 0.0410\n",
      "Batch 294 | Reject Differential (mean over batch): 0.0296\n",
      "Batch 295 | Reject Differential (mean over batch): 0.0128\n"
     ]
    },
    {
     "name": "stderr",
     "output_type": "stream",
     "text": [
      " 47%|█████████████████████████████████████████████████████████████████████████████▏                                                                                     | 296/625 [00:55<01:00,  5.42it/s]"
     ]
    },
    {
     "name": "stdout",
     "output_type": "stream",
     "text": [
      "Batch 295 | Reject Differential (mean over batch): 0.0391\n",
      "Batch 295 | Reject Differential (mean over batch): 0.0183\n",
      "Batch 296 | Reject Differential (mean over batch): 0.0000\n",
      "Batch 296 | Reject Differential (mean over batch): 0.0448\n"
     ]
    },
    {
     "name": "stderr",
     "output_type": "stream",
     "text": [
      " 48%|█████████████████████████████████████████████████████████████████████████████▋                                                                                     | 298/625 [00:55<01:00,  5.41it/s]"
     ]
    },
    {
     "name": "stdout",
     "output_type": "stream",
     "text": [
      "Batch 296 | Reject Differential (mean over batch): 0.0338\n",
      "Batch 297 | Reject Differential (mean over batch): 0.0000\n",
      "Batch 297 | Reject Differential (mean over batch): 0.0290\n",
      "Batch 297 | Reject Differential (mean over batch): 0.0251\n"
     ]
    },
    {
     "name": "stderr",
     "output_type": "stream",
     "text": [
      " 48%|█████████████████████████████████████████████████████████████████████████████▉                                                                                     | 299/625 [00:55<01:00,  5.41it/s]"
     ]
    },
    {
     "name": "stdout",
     "output_type": "stream",
     "text": [
      "Batch 298 | Reject Differential (mean over batch): 0.0283\n",
      "Batch 298 | Reject Differential (mean over batch): 0.0272\n",
      "Batch 298 | Reject Differential (mean over batch): 0.0315\n",
      "Batch 299 | Reject Differential (mean over batch): 0.0388\n"
     ]
    },
    {
     "name": "stderr",
     "output_type": "stream",
     "text": [
      " 48%|██████████████████████████████████████████████████████████████████████████████▏                                                                                    | 300/625 [00:56<01:00,  5.40it/s]"
     ]
    },
    {
     "name": "stdout",
     "output_type": "stream",
     "text": [
      "Batch 299 | Reject Differential (mean over batch): 0.0443\n",
      "Batch 299 | Reject Differential (mean over batch): 0.0358\n",
      "Batch 300 | Reject Differential (mean over batch): 0.0362\n",
      "Batch 300 | Reject Differential (mean over batch): 0.0424\n"
     ]
    },
    {
     "name": "stderr",
     "output_type": "stream",
     "text": [
      " 48%|██████████████████████████████████████████████████████████████████████████████▊                                                                                    | 302/625 [00:56<00:59,  5.39it/s]"
     ]
    },
    {
     "name": "stdout",
     "output_type": "stream",
     "text": [
      "Batch 300 | Reject Differential (mean over batch): 0.0325\n",
      "Batch 301 | Reject Differential (mean over batch): 0.0285\n",
      "Batch 301 | Reject Differential (mean over batch): 0.0265\n",
      "Batch 301 | Reject Differential (mean over batch): 0.0273\n"
     ]
    },
    {
     "name": "stderr",
     "output_type": "stream",
     "text": [
      " 48%|███████████████████████████████████████████████████████████████████████████████                                                                                    | 303/625 [00:56<00:59,  5.38it/s]"
     ]
    },
    {
     "name": "stdout",
     "output_type": "stream",
     "text": [
      "Batch 302 | Reject Differential (mean over batch): 0.0226\n",
      "Batch 302 | Reject Differential (mean over batch): 0.0376\n",
      "Batch 302 | Reject Differential (mean over batch): 0.0274\n",
      "Batch 303 | Reject Differential (mean over batch): 0.0444\n"
     ]
    },
    {
     "name": "stderr",
     "output_type": "stream",
     "text": [
      " 49%|███████████████████████████████████████████████████████████████████████████████▎                                                                                   | 304/625 [00:56<00:59,  5.37it/s]"
     ]
    },
    {
     "name": "stdout",
     "output_type": "stream",
     "text": [
      "Batch 303 | Reject Differential (mean over batch): 0.0434\n",
      "Batch 303 | Reject Differential (mean over batch): 0.0288\n",
      "Batch 304 | Reject Differential (mean over batch): 0.0232\n",
      "Batch 304 | Reject Differential (mean over batch): 0.0292\n"
     ]
    },
    {
     "name": "stderr",
     "output_type": "stream",
     "text": [
      " 49%|███████████████████████████████████████████████████████████████████████████████▊                                                                                   | 306/625 [00:57<01:00,  5.31it/s]"
     ]
    },
    {
     "name": "stdout",
     "output_type": "stream",
     "text": [
      "Batch 304 | Reject Differential (mean over batch): 0.0314\n",
      "Batch 305 | Reject Differential (mean over batch): 0.0260\n",
      "Batch 305 | Reject Differential (mean over batch): 0.0511\n",
      "Batch 305 | Reject Differential (mean over batch): 0.0238\n"
     ]
    },
    {
     "name": "stderr",
     "output_type": "stream",
     "text": [
      " 49%|████████████████████████████████████████████████████████████████████████████████                                                                                   | 307/625 [00:57<01:01,  5.19it/s]"
     ]
    },
    {
     "name": "stdout",
     "output_type": "stream",
     "text": [
      "Batch 306 | Reject Differential (mean over batch): 0.0192\n",
      "Batch 306 | Reject Differential (mean over batch): 0.0315\n",
      "Batch 306 | Reject Differential (mean over batch): 0.0248\n"
     ]
    },
    {
     "name": "stderr",
     "output_type": "stream",
     "text": [
      " 49%|████████████████████████████████████████████████████████████████████████████████▎                                                                                  | 308/625 [00:57<01:00,  5.23it/s]"
     ]
    },
    {
     "name": "stdout",
     "output_type": "stream",
     "text": [
      "Batch 307 | Reject Differential (mean over batch): 0.0331\n",
      "Batch 307 | Reject Differential (mean over batch): 0.0416\n",
      "Batch 307 | Reject Differential (mean over batch): 0.0223\n",
      "Batch 308 | Reject Differential (mean over batch): 0.0259\n"
     ]
    },
    {
     "name": "stderr",
     "output_type": "stream",
     "text": [
      " 49%|████████████████████████████████████████████████████████████████████████████████▌                                                                                  | 309/625 [00:57<00:59,  5.28it/s]"
     ]
    },
    {
     "name": "stdout",
     "output_type": "stream",
     "text": [
      "Batch 308 | Reject Differential (mean over batch): 0.0341\n",
      "Batch 308 | Reject Differential (mean over batch): 0.0279\n",
      "Batch 309 | Reject Differential (mean over batch): 0.0305\n",
      "Batch 309 | Reject Differential (mean over batch): 0.0333\n"
     ]
    },
    {
     "name": "stderr",
     "output_type": "stream",
     "text": [
      " 50%|█████████████████████████████████████████████████████████████████████████████████                                                                                  | 311/625 [00:58<00:58,  5.34it/s]"
     ]
    },
    {
     "name": "stdout",
     "output_type": "stream",
     "text": [
      "Batch 309 | Reject Differential (mean over batch): 0.0259\n",
      "Batch 310 | Reject Differential (mean over batch): 0.0320\n",
      "Batch 310 | Reject Differential (mean over batch): 0.0522\n",
      "Batch 310 | Reject Differential (mean over batch): 0.0294\n"
     ]
    },
    {
     "name": "stderr",
     "output_type": "stream",
     "text": [
      " 50%|█████████████████████████████████████████████████████████████████████████████████▎                                                                                 | 312/625 [00:58<00:58,  5.35it/s]"
     ]
    },
    {
     "name": "stdout",
     "output_type": "stream",
     "text": [
      "Batch 311 | Reject Differential (mean over batch): 0.0352\n",
      "Batch 311 | Reject Differential (mean over batch): 0.0302\n",
      "Batch 311 | Reject Differential (mean over batch): 0.0252\n",
      "Batch 312 | Reject Differential (mean over batch): 0.0226\n"
     ]
    },
    {
     "name": "stderr",
     "output_type": "stream",
     "text": [
      " 50%|█████████████████████████████████████████████████████████████████████████████████▋                                                                                 | 313/625 [00:58<00:58,  5.36it/s]"
     ]
    },
    {
     "name": "stdout",
     "output_type": "stream",
     "text": [
      "Batch 312 | Reject Differential (mean over batch): 0.0328\n",
      "Batch 312 | Reject Differential (mean over batch): 0.0184\n",
      "Batch 313 | Reject Differential (mean over batch): 0.0271\n",
      "Batch 313 | Reject Differential (mean over batch): 0.0433\n"
     ]
    },
    {
     "name": "stderr",
     "output_type": "stream",
     "text": [
      " 50%|██████████████████████████████████████████████████████████████████████████████████▏                                                                                | 315/625 [00:58<00:57,  5.38it/s]"
     ]
    },
    {
     "name": "stdout",
     "output_type": "stream",
     "text": [
      "Batch 313 | Reject Differential (mean over batch): 0.0210\n",
      "Batch 314 | Reject Differential (mean over batch): 0.0236\n",
      "Batch 314 | Reject Differential (mean over batch): 0.0402\n",
      "Batch 314 | Reject Differential (mean over batch): 0.0307\n"
     ]
    },
    {
     "name": "stderr",
     "output_type": "stream",
     "text": [
      " 51%|██████████████████████████████████████████████████████████████████████████████████▍                                                                                | 316/625 [00:59<00:57,  5.38it/s]"
     ]
    },
    {
     "name": "stdout",
     "output_type": "stream",
     "text": [
      "Batch 315 | Reject Differential (mean over batch): 0.0227\n",
      "Batch 315 | Reject Differential (mean over batch): 0.0513\n",
      "Batch 315 | Reject Differential (mean over batch): 0.0290\n",
      "Batch 316 | Reject Differential (mean over batch): 0.0286\n"
     ]
    },
    {
     "name": "stderr",
     "output_type": "stream",
     "text": [
      " 51%|██████████████████████████████████████████████████████████████████████████████████▋                                                                                | 317/625 [00:59<00:57,  5.35it/s]"
     ]
    },
    {
     "name": "stdout",
     "output_type": "stream",
     "text": [
      "Batch 316 | Reject Differential (mean over batch): 0.0443\n",
      "Batch 316 | Reject Differential (mean over batch): 0.0209\n",
      "Batch 317 | Reject Differential (mean over batch): 0.0349\n",
      "Batch 317 | Reject Differential (mean over batch): 0.0361\n"
     ]
    },
    {
     "name": "stderr",
     "output_type": "stream",
     "text": [
      " 51%|███████████████████████████████████████████████████████████████████████████████████▏                                                                               | 319/625 [00:59<00:56,  5.37it/s]"
     ]
    },
    {
     "name": "stdout",
     "output_type": "stream",
     "text": [
      "Batch 317 | Reject Differential (mean over batch): 0.0407\n",
      "Batch 318 | Reject Differential (mean over batch): 0.0352\n",
      "Batch 318 | Reject Differential (mean over batch): 0.0452\n",
      "Batch 318 | Reject Differential (mean over batch): 0.0237\n"
     ]
    },
    {
     "name": "stderr",
     "output_type": "stream",
     "text": [
      " 51%|███████████████████████████████████████████████████████████████████████████████████▍                                                                               | 320/625 [00:59<00:56,  5.39it/s]"
     ]
    },
    {
     "name": "stdout",
     "output_type": "stream",
     "text": [
      "Batch 319 | Reject Differential (mean over batch): 0.0309\n",
      "Batch 319 | Reject Differential (mean over batch): 0.0455\n",
      "Batch 319 | Reject Differential (mean over batch): 0.0360\n",
      "Batch 320 | Reject Differential (mean over batch): 0.0307\n"
     ]
    },
    {
     "name": "stderr",
     "output_type": "stream",
     "text": [
      " 51%|███████████████████████████████████████████████████████████████████████████████████▋                                                                               | 321/625 [01:00<00:56,  5.38it/s]"
     ]
    },
    {
     "name": "stdout",
     "output_type": "stream",
     "text": [
      "Batch 320 | Reject Differential (mean over batch): 0.0316\n",
      "Batch 320 | Reject Differential (mean over batch): 0.0321\n",
      "Batch 321 | Reject Differential (mean over batch): 0.0231\n",
      "Batch 321 | Reject Differential (mean over batch): 0.0397\n"
     ]
    },
    {
     "name": "stderr",
     "output_type": "stream",
     "text": [
      " 52%|████████████████████████████████████████████████████████████████████████████████████▏                                                                              | 323/625 [01:00<00:55,  5.40it/s]"
     ]
    },
    {
     "name": "stdout",
     "output_type": "stream",
     "text": [
      "Batch 321 | Reject Differential (mean over batch): 0.0361\n",
      "Batch 322 | Reject Differential (mean over batch): 0.0263\n",
      "Batch 322 | Reject Differential (mean over batch): 0.0409\n",
      "Batch 322 | Reject Differential (mean over batch): 0.0166\n"
     ]
    },
    {
     "name": "stderr",
     "output_type": "stream",
     "text": [
      " 52%|████████████████████████████████████████████████████████████████████████████████████▍                                                                              | 324/625 [01:00<00:55,  5.38it/s]"
     ]
    },
    {
     "name": "stdout",
     "output_type": "stream",
     "text": [
      "Batch 323 | Reject Differential (mean over batch): 0.0276\n",
      "Batch 323 | Reject Differential (mean over batch): 0.0352\n",
      "Batch 323 | Reject Differential (mean over batch): 0.0274\n",
      "Batch 324 | Reject Differential (mean over batch): 0.0275\n"
     ]
    },
    {
     "name": "stderr",
     "output_type": "stream",
     "text": [
      " 52%|████████████████████████████████████████████████████████████████████████████████████▊                                                                              | 325/625 [01:00<00:55,  5.39it/s]"
     ]
    },
    {
     "name": "stdout",
     "output_type": "stream",
     "text": [
      "Batch 324 | Reject Differential (mean over batch): 0.0478\n",
      "Batch 324 | Reject Differential (mean over batch): 0.0258\n",
      "Batch 325 | Reject Differential (mean over batch): 0.0244\n",
      "Batch 325 | Reject Differential (mean over batch): 0.0176\n"
     ]
    },
    {
     "name": "stderr",
     "output_type": "stream",
     "text": [
      " 52%|█████████████████████████████████████████████████████████████████████████████████████▎                                                                             | 327/625 [01:01<00:55,  5.38it/s]"
     ]
    },
    {
     "name": "stdout",
     "output_type": "stream",
     "text": [
      "Batch 325 | Reject Differential (mean over batch): 0.0295\n",
      "Batch 326 | Reject Differential (mean over batch): 0.0260\n",
      "Batch 326 | Reject Differential (mean over batch): 0.0337\n",
      "Batch 326 | Reject Differential (mean over batch): 0.0294\n"
     ]
    },
    {
     "name": "stderr",
     "output_type": "stream",
     "text": [
      " 52%|█████████████████████████████████████████████████████████████████████████████████████▌                                                                             | 328/625 [01:01<00:55,  5.38it/s]"
     ]
    },
    {
     "name": "stdout",
     "output_type": "stream",
     "text": [
      "Batch 327 | Reject Differential (mean over batch): 0.0224\n",
      "Batch 327 | Reject Differential (mean over batch): 0.0392\n",
      "Batch 327 | Reject Differential (mean over batch): 0.0209\n",
      "Batch 328 | Reject Differential (mean over batch): 0.0253\n"
     ]
    },
    {
     "name": "stderr",
     "output_type": "stream",
     "text": [
      " 53%|█████████████████████████████████████████████████████████████████████████████████████▊                                                                             | 329/625 [01:01<00:55,  5.37it/s]"
     ]
    },
    {
     "name": "stdout",
     "output_type": "stream",
     "text": [
      "Batch 328 | Reject Differential (mean over batch): 0.0355\n",
      "Batch 328 | Reject Differential (mean over batch): 0.0194\n",
      "Batch 329 | Reject Differential (mean over batch): 0.0402\n",
      "Batch 329 | Reject Differential (mean over batch): 0.0456\n"
     ]
    },
    {
     "name": "stderr",
     "output_type": "stream",
     "text": [
      " 53%|██████████████████████████████████████████████████████████████████████████████████████▎                                                                            | 331/625 [01:01<00:54,  5.39it/s]"
     ]
    },
    {
     "name": "stdout",
     "output_type": "stream",
     "text": [
      "Batch 329 | Reject Differential (mean over batch): 0.0256\n",
      "Batch 330 | Reject Differential (mean over batch): 0.0242\n",
      "Batch 330 | Reject Differential (mean over batch): 0.0355\n",
      "Batch 330 | Reject Differential (mean over batch): 0.0334\n"
     ]
    },
    {
     "name": "stderr",
     "output_type": "stream",
     "text": [
      " 53%|██████████████████████████████████████████████████████████████████████████████████████▌                                                                            | 332/625 [01:02<00:54,  5.33it/s]"
     ]
    },
    {
     "name": "stdout",
     "output_type": "stream",
     "text": [
      "Batch 331 | Reject Differential (mean over batch): 0.0000\n",
      "Batch 331 | Reject Differential (mean over batch): 0.0344\n",
      "Batch 331 | Reject Differential (mean over batch): 0.0296\n",
      "Batch 332 | Reject Differential (mean over batch): 0.0254\n"
     ]
    },
    {
     "name": "stderr",
     "output_type": "stream",
     "text": [
      " 53%|██████████████████████████████████████████████████████████████████████████████████████▊                                                                            | 333/625 [01:02<00:55,  5.26it/s]"
     ]
    },
    {
     "name": "stdout",
     "output_type": "stream",
     "text": [
      "Batch 332 | Reject Differential (mean over batch): 0.0361\n",
      "Batch 332 | Reject Differential (mean over batch): 0.0413\n",
      "Batch 333 | Reject Differential (mean over batch): 0.0230\n",
      "Batch 333 | Reject Differential (mean over batch): 0.0359\n"
     ]
    },
    {
     "name": "stderr",
     "output_type": "stream",
     "text": [
      " 54%|███████████████████████████████████████████████████████████████████████████████████████▎                                                                           | 335/625 [01:02<00:55,  5.23it/s]"
     ]
    },
    {
     "name": "stdout",
     "output_type": "stream",
     "text": [
      "Batch 333 | Reject Differential (mean over batch): 0.0244\n",
      "Batch 334 | Reject Differential (mean over batch): 0.0317\n",
      "Batch 334 | Reject Differential (mean over batch): 0.0374\n",
      "Batch 334 | Reject Differential (mean over batch): 0.0311\n"
     ]
    },
    {
     "name": "stderr",
     "output_type": "stream",
     "text": [
      " 54%|███████████████████████████████████████████████████████████████████████████████████████▋                                                                           | 336/625 [01:02<00:54,  5.26it/s]"
     ]
    },
    {
     "name": "stdout",
     "output_type": "stream",
     "text": [
      "Batch 335 | Reject Differential (mean over batch): 0.0367\n",
      "Batch 335 | Reject Differential (mean over batch): 0.0368\n",
      "Batch 335 | Reject Differential (mean over batch): 0.0406\n",
      "Batch 336 | Reject Differential (mean over batch): 0.0246\n"
     ]
    },
    {
     "name": "stderr",
     "output_type": "stream",
     "text": [
      " 54%|███████████████████████████████████████████████████████████████████████████████████████▉                                                                           | 337/625 [01:03<00:54,  5.32it/s]"
     ]
    },
    {
     "name": "stdout",
     "output_type": "stream",
     "text": [
      "Batch 336 | Reject Differential (mean over batch): 0.0266\n",
      "Batch 336 | Reject Differential (mean over batch): 0.0159\n",
      "Batch 337 | Reject Differential (mean over batch): 0.0291\n",
      "Batch 337 | Reject Differential (mean over batch): 0.0382\n"
     ]
    },
    {
     "name": "stderr",
     "output_type": "stream",
     "text": [
      " 54%|████████████████████████████████████████████████████████████████████████████████████████▍                                                                          | 339/625 [01:03<00:53,  5.37it/s]"
     ]
    },
    {
     "name": "stdout",
     "output_type": "stream",
     "text": [
      "Batch 337 | Reject Differential (mean over batch): 0.0185\n",
      "Batch 338 | Reject Differential (mean over batch): 0.0342\n",
      "Batch 338 | Reject Differential (mean over batch): 0.0330\n",
      "Batch 338 | Reject Differential (mean over batch): 0.0366\n"
     ]
    },
    {
     "name": "stderr",
     "output_type": "stream",
     "text": [
      " 54%|████████████████████████████████████████████████████████████████████████████████████████▋                                                                          | 340/625 [01:03<00:52,  5.38it/s]"
     ]
    },
    {
     "name": "stdout",
     "output_type": "stream",
     "text": [
      "Batch 339 | Reject Differential (mean over batch): 0.0327\n",
      "Batch 339 | Reject Differential (mean over batch): 0.0505\n",
      "Batch 339 | Reject Differential (mean over batch): 0.0382\n"
     ]
    },
    {
     "name": "stderr",
     "output_type": "stream",
     "text": [
      " 55%|████████████████████████████████████████████████████████████████████████████████████████▉                                                                          | 341/625 [01:03<00:54,  5.22it/s]"
     ]
    },
    {
     "name": "stdout",
     "output_type": "stream",
     "text": [
      "Batch 340 | Reject Differential (mean over batch): 0.0324\n",
      "Batch 340 | Reject Differential (mean over batch): 0.0380\n",
      "Batch 340 | Reject Differential (mean over batch): 0.0271\n",
      "Batch 341 | Reject Differential (mean over batch): 0.0323\n"
     ]
    },
    {
     "name": "stderr",
     "output_type": "stream",
     "text": [
      " 55%|█████████████████████████████████████████████████████████████████████████████████████████▏                                                                         | 342/625 [01:04<00:53,  5.28it/s]"
     ]
    },
    {
     "name": "stdout",
     "output_type": "stream",
     "text": [
      "Batch 341 | Reject Differential (mean over batch): 0.0287\n",
      "Batch 341 | Reject Differential (mean over batch): 0.0205\n",
      "Batch 342 | Reject Differential (mean over batch): 0.0364\n",
      "Batch 342 | Reject Differential (mean over batch): 0.0449\n"
     ]
    },
    {
     "name": "stderr",
     "output_type": "stream",
     "text": [
      " 55%|█████████████████████████████████████████████████████████████████████████████████████████▋                                                                         | 344/625 [01:04<00:52,  5.35it/s]"
     ]
    },
    {
     "name": "stdout",
     "output_type": "stream",
     "text": [
      "Batch 342 | Reject Differential (mean over batch): 0.0341\n",
      "Batch 343 | Reject Differential (mean over batch): 0.0295\n",
      "Batch 343 | Reject Differential (mean over batch): 0.0313\n",
      "Batch 343 | Reject Differential (mean over batch): 0.0346\n"
     ]
    },
    {
     "name": "stderr",
     "output_type": "stream",
     "text": [
      " 55%|█████████████████████████████████████████████████████████████████████████████████████████▉                                                                         | 345/625 [01:04<00:52,  5.35it/s]"
     ]
    },
    {
     "name": "stdout",
     "output_type": "stream",
     "text": [
      "Batch 344 | Reject Differential (mean over batch): 0.0410\n",
      "Batch 344 | Reject Differential (mean over batch): 0.0361\n",
      "Batch 344 | Reject Differential (mean over batch): 0.0378\n",
      "Batch 345 | Reject Differential (mean over batch): 0.0306\n"
     ]
    },
    {
     "name": "stderr",
     "output_type": "stream",
     "text": [
      " 55%|██████████████████████████████████████████████████████████████████████████████████████████▏                                                                        | 346/625 [01:04<00:52,  5.35it/s]"
     ]
    },
    {
     "name": "stdout",
     "output_type": "stream",
     "text": [
      "Batch 345 | Reject Differential (mean over batch): 0.0437\n",
      "Batch 345 | Reject Differential (mean over batch): 0.0215\n",
      "Batch 346 | Reject Differential (mean over batch): 0.0431\n",
      "Batch 346 | Reject Differential (mean over batch): 0.0371\n"
     ]
    },
    {
     "name": "stderr",
     "output_type": "stream",
     "text": [
      " 56%|██████████████████████████████████████████████████████████████████████████████████████████▊                                                                        | 348/625 [01:05<00:51,  5.36it/s]"
     ]
    },
    {
     "name": "stdout",
     "output_type": "stream",
     "text": [
      "Batch 346 | Reject Differential (mean over batch): 0.0399\n",
      "Batch 347 | Reject Differential (mean over batch): 0.0192\n",
      "Batch 347 | Reject Differential (mean over batch): 0.0404\n",
      "Batch 347 | Reject Differential (mean over batch): 0.0248\n"
     ]
    },
    {
     "name": "stderr",
     "output_type": "stream",
     "text": [
      " 56%|███████████████████████████████████████████████████████████████████████████████████████████                                                                        | 349/625 [01:05<00:51,  5.38it/s]"
     ]
    },
    {
     "name": "stdout",
     "output_type": "stream",
     "text": [
      "Batch 348 | Reject Differential (mean over batch): 0.0278\n",
      "Batch 348 | Reject Differential (mean over batch): 0.0263\n",
      "Batch 348 | Reject Differential (mean over batch): 0.0207\n",
      "Batch 349 | Reject Differential (mean over batch): 0.0196\n"
     ]
    },
    {
     "name": "stderr",
     "output_type": "stream",
     "text": [
      " 56%|███████████████████████████████████████████████████████████████████████████████████████████▎                                                                       | 350/625 [01:05<00:51,  5.39it/s]"
     ]
    },
    {
     "name": "stdout",
     "output_type": "stream",
     "text": [
      "Batch 349 | Reject Differential (mean over batch): 0.0402\n",
      "Batch 349 | Reject Differential (mean over batch): 0.0213\n",
      "Batch 350 | Reject Differential (mean over batch): 0.0279\n",
      "Batch 350 | Reject Differential (mean over batch): 0.0472\n"
     ]
    },
    {
     "name": "stderr",
     "output_type": "stream",
     "text": [
      " 56%|███████████████████████████████████████████████████████████████████████████████████████████▊                                                                       | 352/625 [01:05<00:50,  5.41it/s]"
     ]
    },
    {
     "name": "stdout",
     "output_type": "stream",
     "text": [
      "Batch 350 | Reject Differential (mean over batch): 0.0289\n",
      "Batch 351 | Reject Differential (mean over batch): 0.0204\n",
      "Batch 351 | Reject Differential (mean over batch): 0.0366\n",
      "Batch 351 | Reject Differential (mean over batch): 0.0267\n"
     ]
    },
    {
     "name": "stderr",
     "output_type": "stream",
     "text": [
      " 56%|████████████████████████████████████████████████████████████████████████████████████████████                                                                       | 353/625 [01:06<00:50,  5.40it/s]"
     ]
    },
    {
     "name": "stdout",
     "output_type": "stream",
     "text": [
      "Batch 352 | Reject Differential (mean over batch): 0.0253\n",
      "Batch 352 | Reject Differential (mean over batch): 0.0375\n",
      "Batch 352 | Reject Differential (mean over batch): 0.0229\n",
      "Batch 353 | Reject Differential (mean over batch): 0.0364\n"
     ]
    },
    {
     "name": "stderr",
     "output_type": "stream",
     "text": [
      " 57%|████████████████████████████████████████████████████████████████████████████████████████████▎                                                                      | 354/625 [01:06<00:50,  5.40it/s]"
     ]
    },
    {
     "name": "stdout",
     "output_type": "stream",
     "text": [
      "Batch 353 | Reject Differential (mean over batch): 0.0415\n",
      "Batch 353 | Reject Differential (mean over batch): 0.0328\n",
      "Batch 354 | Reject Differential (mean over batch): 0.0261\n",
      "Batch 354 | Reject Differential (mean over batch): 0.0443\n"
     ]
    },
    {
     "name": "stderr",
     "output_type": "stream",
     "text": [
      " 57%|████████████████████████████████████████████████████████████████████████████████████████████▊                                                                      | 356/625 [01:06<00:51,  5.24it/s]"
     ]
    },
    {
     "name": "stdout",
     "output_type": "stream",
     "text": [
      "Batch 354 | Reject Differential (mean over batch): 0.0200\n",
      "Batch 355 | Reject Differential (mean over batch): 0.0225\n",
      "Batch 355 | Reject Differential (mean over batch): 0.0335\n",
      "Batch 355 | Reject Differential (mean over batch): 0.0230\n"
     ]
    },
    {
     "name": "stderr",
     "output_type": "stream",
     "text": [
      " 57%|█████████████████████████████████████████████████████████████████████████████████████████████                                                                      | 357/625 [01:06<00:51,  5.22it/s]"
     ]
    },
    {
     "name": "stdout",
     "output_type": "stream",
     "text": [
      "Batch 356 | Reject Differential (mean over batch): 0.0336\n",
      "Batch 356 | Reject Differential (mean over batch): 0.0601\n",
      "Batch 356 | Reject Differential (mean over batch): 0.0506\n",
      "Batch 357 | Reject Differential (mean over batch): 0.0201\n"
     ]
    },
    {
     "name": "stderr",
     "output_type": "stream",
     "text": [
      " 57%|█████████████████████████████████████████████████████████████████████████████████████████████▎                                                                     | 358/625 [01:07<00:50,  5.31it/s]"
     ]
    },
    {
     "name": "stdout",
     "output_type": "stream",
     "text": [
      "Batch 357 | Reject Differential (mean over batch): 0.0304\n",
      "Batch 357 | Reject Differential (mean over batch): 0.0298\n",
      "Batch 358 | Reject Differential (mean over batch): 0.0187\n",
      "Batch 358 | Reject Differential (mean over batch): 0.0430\n"
     ]
    },
    {
     "name": "stderr",
     "output_type": "stream",
     "text": [
      " 58%|█████████████████████████████████████████████████████████████████████████████████████████████▉                                                                     | 360/625 [01:07<00:50,  5.29it/s]"
     ]
    },
    {
     "name": "stdout",
     "output_type": "stream",
     "text": [
      "Batch 358 | Reject Differential (mean over batch): 0.0183\n",
      "Batch 359 | Reject Differential (mean over batch): 0.0358\n",
      "Batch 359 | Reject Differential (mean over batch): 0.0284\n",
      "Batch 359 | Reject Differential (mean over batch): 0.0236\n"
     ]
    },
    {
     "name": "stderr",
     "output_type": "stream",
     "text": [
      " 58%|██████████████████████████████████████████████████████████████████████████████████████████████▏                                                                    | 361/625 [01:07<00:49,  5.32it/s]"
     ]
    },
    {
     "name": "stdout",
     "output_type": "stream",
     "text": [
      "Batch 360 | Reject Differential (mean over batch): 0.0303\n",
      "Batch 360 | Reject Differential (mean over batch): 0.0386\n",
      "Batch 360 | Reject Differential (mean over batch): 0.0390\n",
      "Batch 361 | Reject Differential (mean over batch): 0.0217\n"
     ]
    },
    {
     "name": "stderr",
     "output_type": "stream",
     "text": [
      " 58%|██████████████████████████████████████████████████████████████████████████████████████████████▍                                                                    | 362/625 [01:07<00:48,  5.37it/s]"
     ]
    },
    {
     "name": "stdout",
     "output_type": "stream",
     "text": [
      "Batch 361 | Reject Differential (mean over batch): 0.0416\n",
      "Batch 361 | Reject Differential (mean over batch): 0.0238\n",
      "Batch 362 | Reject Differential (mean over batch): 0.0237\n",
      "Batch 362 | Reject Differential (mean over batch): 0.0385\n"
     ]
    },
    {
     "name": "stderr",
     "output_type": "stream",
     "text": [
      " 58%|██████████████████████████████████████████████████████████████████████████████████████████████▉                                                                    | 364/625 [01:08<00:48,  5.41it/s]"
     ]
    },
    {
     "name": "stdout",
     "output_type": "stream",
     "text": [
      "Batch 362 | Reject Differential (mean over batch): 0.0234\n",
      "Batch 363 | Reject Differential (mean over batch): 0.0212\n",
      "Batch 363 | Reject Differential (mean over batch): 0.0243\n",
      "Batch 363 | Reject Differential (mean over batch): 0.0250\n"
     ]
    },
    {
     "name": "stderr",
     "output_type": "stream",
     "text": [
      " 58%|███████████████████████████████████████████████████████████████████████████████████████████████▏                                                                   | 365/625 [01:08<00:47,  5.42it/s]"
     ]
    },
    {
     "name": "stdout",
     "output_type": "stream",
     "text": [
      "Batch 364 | Reject Differential (mean over batch): 0.0000\n",
      "Batch 364 | Reject Differential (mean over batch): 0.0390\n",
      "Batch 364 | Reject Differential (mean over batch): 0.0259\n",
      "Batch 365 | Reject Differential (mean over batch): 0.0270\n"
     ]
    },
    {
     "name": "stderr",
     "output_type": "stream",
     "text": [
      " 59%|███████████████████████████████████████████████████████████████████████████████████████████████▍                                                                   | 366/625 [01:08<00:47,  5.45it/s]"
     ]
    },
    {
     "name": "stdout",
     "output_type": "stream",
     "text": [
      "Batch 365 | Reject Differential (mean over batch): 0.0330\n",
      "Batch 365 | Reject Differential (mean over batch): 0.0260\n",
      "Batch 366 | Reject Differential (mean over batch): 0.0260\n",
      "Batch 366 | Reject Differential (mean over batch): 0.0443\n"
     ]
    },
    {
     "name": "stderr",
     "output_type": "stream",
     "text": [
      " 59%|███████████████████████████████████████████████████████████████████████████████████████████████▉                                                                   | 368/625 [01:08<00:47,  5.45it/s]"
     ]
    },
    {
     "name": "stdout",
     "output_type": "stream",
     "text": [
      "Batch 366 | Reject Differential (mean over batch): 0.0276\n",
      "Batch 367 | Reject Differential (mean over batch): 0.0208\n",
      "Batch 367 | Reject Differential (mean over batch): 0.0383\n",
      "Batch 367 | Reject Differential (mean over batch): 0.0414\n"
     ]
    },
    {
     "name": "stderr",
     "output_type": "stream",
     "text": [
      " 59%|████████████████████████████████████████████████████████████████████████████████████████████████▏                                                                  | 369/625 [01:09<00:47,  5.43it/s]"
     ]
    },
    {
     "name": "stdout",
     "output_type": "stream",
     "text": [
      "Batch 368 | Reject Differential (mean over batch): 0.0291\n",
      "Batch 368 | Reject Differential (mean over batch): 0.0329\n",
      "Batch 368 | Reject Differential (mean over batch): 0.0322\n",
      "Batch 369 | Reject Differential (mean over batch): 0.0343\n"
     ]
    },
    {
     "name": "stderr",
     "output_type": "stream",
     "text": [
      " 59%|████████████████████████████████████████████████████████████████████████████████████████████████▍                                                                  | 370/625 [01:09<00:47,  5.40it/s]"
     ]
    },
    {
     "name": "stdout",
     "output_type": "stream",
     "text": [
      "Batch 369 | Reject Differential (mean over batch): 0.0461\n",
      "Batch 369 | Reject Differential (mean over batch): 0.0345\n",
      "Batch 370 | Reject Differential (mean over batch): 0.0289\n",
      "Batch 370 | Reject Differential (mean over batch): 0.0329\n"
     ]
    },
    {
     "name": "stderr",
     "output_type": "stream",
     "text": [
      " 60%|█████████████████████████████████████████████████████████████████████████████████████████████████                                                                  | 372/625 [01:09<00:46,  5.45it/s]"
     ]
    },
    {
     "name": "stdout",
     "output_type": "stream",
     "text": [
      "Batch 370 | Reject Differential (mean over batch): 0.0208\n",
      "Batch 371 | Reject Differential (mean over batch): 0.0204\n",
      "Batch 371 | Reject Differential (mean over batch): 0.0435\n",
      "Batch 371 | Reject Differential (mean over batch): 0.0228\n"
     ]
    },
    {
     "name": "stderr",
     "output_type": "stream",
     "text": [
      " 60%|█████████████████████████████████████████████████████████████████████████████████████████████████▎                                                                 | 373/625 [01:09<00:46,  5.46it/s]"
     ]
    },
    {
     "name": "stdout",
     "output_type": "stream",
     "text": [
      "Batch 372 | Reject Differential (mean over batch): 0.0000\n",
      "Batch 372 | Reject Differential (mean over batch): 0.0387\n",
      "Batch 372 | Reject Differential (mean over batch): 0.0227\n",
      "Batch 373 | Reject Differential (mean over batch): 0.0349\n"
     ]
    },
    {
     "name": "stderr",
     "output_type": "stream",
     "text": [
      " 60%|█████████████████████████████████████████████████████████████████████████████████████████████████▌                                                                 | 374/625 [01:09<00:45,  5.47it/s]"
     ]
    },
    {
     "name": "stdout",
     "output_type": "stream",
     "text": [
      "Batch 373 | Reject Differential (mean over batch): 0.0369\n",
      "Batch 373 | Reject Differential (mean over batch): 0.0210\n",
      "Batch 374 | Reject Differential (mean over batch): 0.0326\n",
      "Batch 374 | Reject Differential (mean over batch): 0.0281\n"
     ]
    },
    {
     "name": "stderr",
     "output_type": "stream",
     "text": [
      " 60%|██████████████████████████████████████████████████████████████████████████████████████████████████                                                                 | 376/625 [01:10<00:45,  5.45it/s]"
     ]
    },
    {
     "name": "stdout",
     "output_type": "stream",
     "text": [
      "Batch 374 | Reject Differential (mean over batch): 0.0352\n",
      "Batch 375 | Reject Differential (mean over batch): 0.0440\n",
      "Batch 375 | Reject Differential (mean over batch): 0.0388\n",
      "Batch 375 | Reject Differential (mean over batch): 0.0321\n"
     ]
    },
    {
     "name": "stderr",
     "output_type": "stream",
     "text": [
      " 60%|██████████████████████████████████████████████████████████████████████████████████████████████████▎                                                                | 377/625 [01:10<00:45,  5.42it/s]"
     ]
    },
    {
     "name": "stdout",
     "output_type": "stream",
     "text": [
      "Batch 376 | Reject Differential (mean over batch): 0.0287\n",
      "Batch 376 | Reject Differential (mean over batch): 0.0311\n",
      "Batch 376 | Reject Differential (mean over batch): 0.0188\n",
      "Batch 377 | Reject Differential (mean over batch): 0.0321\n"
     ]
    },
    {
     "name": "stderr",
     "output_type": "stream",
     "text": [
      " 60%|██████████████████████████████████████████████████████████████████████████████████████████████████▌                                                                | 378/625 [01:10<00:45,  5.44it/s]"
     ]
    },
    {
     "name": "stdout",
     "output_type": "stream",
     "text": [
      "Batch 377 | Reject Differential (mean over batch): 0.0301\n",
      "Batch 377 | Reject Differential (mean over batch): 0.0197\n",
      "Batch 378 | Reject Differential (mean over batch): 0.0243\n",
      "Batch 378 | Reject Differential (mean over batch): 0.0313\n"
     ]
    },
    {
     "name": "stderr",
     "output_type": "stream",
     "text": [
      " 61%|███████████████████████████████████████████████████████████████████████████████████████████████████                                                                | 380/625 [01:11<00:45,  5.37it/s]"
     ]
    },
    {
     "name": "stdout",
     "output_type": "stream",
     "text": [
      "Batch 378 | Reject Differential (mean over batch): 0.0276\n",
      "Batch 379 | Reject Differential (mean over batch): 0.0329\n",
      "Batch 379 | Reject Differential (mean over batch): 0.0422\n",
      "Batch 379 | Reject Differential (mean over batch): 0.0200\n"
     ]
    },
    {
     "name": "stderr",
     "output_type": "stream",
     "text": [
      " 61%|███████████████████████████████████████████████████████████████████████████████████████████████████▎                                                               | 381/625 [01:11<00:45,  5.40it/s]"
     ]
    },
    {
     "name": "stdout",
     "output_type": "stream",
     "text": [
      "Batch 380 | Reject Differential (mean over batch): 0.0201\n",
      "Batch 380 | Reject Differential (mean over batch): 0.0324\n",
      "Batch 380 | Reject Differential (mean over batch): 0.0233\n",
      "Batch 381 | Reject Differential (mean over batch): 0.0241\n"
     ]
    },
    {
     "name": "stderr",
     "output_type": "stream",
     "text": [
      " 61%|███████████████████████████████████████████████████████████████████████████████████████████████████▋                                                               | 382/625 [01:11<00:44,  5.43it/s]"
     ]
    },
    {
     "name": "stdout",
     "output_type": "stream",
     "text": [
      "Batch 381 | Reject Differential (mean over batch): 0.0218\n",
      "Batch 381 | Reject Differential (mean over batch): 0.0292\n",
      "Batch 382 | Reject Differential (mean over batch): 0.0416\n",
      "Batch 382 | Reject Differential (mean over batch): 0.0303\n"
     ]
    },
    {
     "name": "stderr",
     "output_type": "stream",
     "text": [
      " 61%|████████████████████████████████████████████████████████████████████████████████████████████████████▏                                                              | 384/625 [01:11<00:44,  5.46it/s]"
     ]
    },
    {
     "name": "stdout",
     "output_type": "stream",
     "text": [
      "Batch 382 | Reject Differential (mean over batch): 0.0252\n",
      "Batch 383 | Reject Differential (mean over batch): 0.0287\n",
      "Batch 383 | Reject Differential (mean over batch): 0.0244\n",
      "Batch 383 | Reject Differential (mean over batch): 0.0330\n"
     ]
    },
    {
     "name": "stderr",
     "output_type": "stream",
     "text": [
      " 62%|████████████████████████████████████████████████████████████████████████████████████████████████████▍                                                              | 385/625 [01:12<00:43,  5.46it/s]"
     ]
    },
    {
     "name": "stdout",
     "output_type": "stream",
     "text": [
      "Batch 384 | Reject Differential (mean over batch): 0.0194\n",
      "Batch 384 | Reject Differential (mean over batch): 0.0274\n",
      "Batch 384 | Reject Differential (mean over batch): 0.0259\n",
      "Batch 385 | Reject Differential (mean over batch): 0.0465\n"
     ]
    },
    {
     "name": "stderr",
     "output_type": "stream",
     "text": [
      " 62%|████████████████████████████████████████████████████████████████████████████████████████████████████▋                                                              | 386/625 [01:12<00:43,  5.48it/s]"
     ]
    },
    {
     "name": "stdout",
     "output_type": "stream",
     "text": [
      "Batch 385 | Reject Differential (mean over batch): 0.0651\n",
      "Batch 385 | Reject Differential (mean over batch): 0.0324\n",
      "Batch 386 | Reject Differential (mean over batch): 0.0000\n",
      "Batch 386 | Reject Differential (mean over batch): 0.0316\n"
     ]
    },
    {
     "name": "stderr",
     "output_type": "stream",
     "text": [
      " 62%|█████████████████████████████████████████████████████████████████████████████████████████████████████▏                                                             | 388/625 [01:12<00:42,  5.52it/s]"
     ]
    },
    {
     "name": "stdout",
     "output_type": "stream",
     "text": [
      "Batch 386 | Reject Differential (mean over batch): 0.0228\n",
      "Batch 387 | Reject Differential (mean over batch): 0.0000\n",
      "Batch 387 | Reject Differential (mean over batch): 0.0367\n",
      "Batch 387 | Reject Differential (mean over batch): 0.0218\n"
     ]
    },
    {
     "name": "stderr",
     "output_type": "stream",
     "text": [
      " 62%|█████████████████████████████████████████████████████████████████████████████████████████████████████▍                                                             | 389/625 [01:12<00:42,  5.49it/s]"
     ]
    },
    {
     "name": "stdout",
     "output_type": "stream",
     "text": [
      "Batch 388 | Reject Differential (mean over batch): 0.0323\n",
      "Batch 388 | Reject Differential (mean over batch): 0.0595\n",
      "Batch 388 | Reject Differential (mean over batch): 0.0194\n",
      "Batch 389 | Reject Differential (mean over batch): 0.0233\n"
     ]
    },
    {
     "name": "stderr",
     "output_type": "stream",
     "text": [
      " 62%|█████████████████████████████████████████████████████████████████████████████████████████████████████▋                                                             | 390/625 [01:12<00:42,  5.50it/s]"
     ]
    },
    {
     "name": "stdout",
     "output_type": "stream",
     "text": [
      "Batch 389 | Reject Differential (mean over batch): 0.0303\n",
      "Batch 389 | Reject Differential (mean over batch): 0.0268\n",
      "Batch 390 | Reject Differential (mean over batch): 0.0314\n",
      "Batch 390 | Reject Differential (mean over batch): 0.0458\n"
     ]
    },
    {
     "name": "stderr",
     "output_type": "stream",
     "text": [
      " 63%|██████████████████████████████████████████████████████████████████████████████████████████████████████▏                                                            | 392/625 [01:13<00:42,  5.52it/s]"
     ]
    },
    {
     "name": "stdout",
     "output_type": "stream",
     "text": [
      "Batch 390 | Reject Differential (mean over batch): 0.0409\n",
      "Batch 391 | Reject Differential (mean over batch): 0.0249\n",
      "Batch 391 | Reject Differential (mean over batch): 0.0307\n",
      "Batch 391 | Reject Differential (mean over batch): 0.0208\n"
     ]
    },
    {
     "name": "stderr",
     "output_type": "stream",
     "text": [
      " 63%|██████████████████████████████████████████████████████████████████████████████████████████████████████▍                                                            | 393/625 [01:13<00:42,  5.52it/s]"
     ]
    },
    {
     "name": "stdout",
     "output_type": "stream",
     "text": [
      "Batch 392 | Reject Differential (mean over batch): 0.0311\n",
      "Batch 392 | Reject Differential (mean over batch): 0.0345\n",
      "Batch 392 | Reject Differential (mean over batch): 0.0318\n",
      "Batch 393 | Reject Differential (mean over batch): 0.0278\n"
     ]
    },
    {
     "name": "stderr",
     "output_type": "stream",
     "text": [
      " 63%|██████████████████████████████████████████████████████████████████████████████████████████████████████▊                                                            | 394/625 [01:13<00:41,  5.53it/s]"
     ]
    },
    {
     "name": "stdout",
     "output_type": "stream",
     "text": [
      "Batch 393 | Reject Differential (mean over batch): 0.0431\n",
      "Batch 393 | Reject Differential (mean over batch): 0.0324\n",
      "Batch 394 | Reject Differential (mean over batch): 0.0278\n",
      "Batch 394 | Reject Differential (mean over batch): 0.0369\n"
     ]
    },
    {
     "name": "stderr",
     "output_type": "stream",
     "text": [
      " 63%|███████████████████████████████████████████████████████████████████████████████████████████████████████▎                                                           | 396/625 [01:14<00:41,  5.51it/s]"
     ]
    },
    {
     "name": "stdout",
     "output_type": "stream",
     "text": [
      "Batch 394 | Reject Differential (mean over batch): 0.0234\n",
      "Batch 395 | Reject Differential (mean over batch): 0.0405\n",
      "Batch 395 | Reject Differential (mean over batch): 0.0336\n",
      "Batch 395 | Reject Differential (mean over batch): 0.0332\n"
     ]
    },
    {
     "name": "stderr",
     "output_type": "stream",
     "text": [
      " 64%|███████████████████████████████████████████████████████████████████████████████████████████████████████▌                                                           | 397/625 [01:14<00:42,  5.34it/s]"
     ]
    },
    {
     "name": "stdout",
     "output_type": "stream",
     "text": [
      "Batch 396 | Reject Differential (mean over batch): 0.0366\n",
      "Batch 396 | Reject Differential (mean over batch): 0.0413\n",
      "Batch 396 | Reject Differential (mean over batch): 0.0167\n",
      "Batch 397 | Reject Differential (mean over batch): 0.0309\n"
     ]
    },
    {
     "name": "stderr",
     "output_type": "stream",
     "text": [
      " 64%|███████████████████████████████████████████████████████████████████████████████████████████████████████▊                                                           | 398/625 [01:14<00:42,  5.40it/s]"
     ]
    },
    {
     "name": "stdout",
     "output_type": "stream",
     "text": [
      "Batch 397 | Reject Differential (mean over batch): 0.0328\n",
      "Batch 397 | Reject Differential (mean over batch): 0.0302\n",
      "Batch 398 | Reject Differential (mean over batch): 0.0254\n",
      "Batch 398 | Reject Differential (mean over batch): 0.0283\n"
     ]
    },
    {
     "name": "stderr",
     "output_type": "stream",
     "text": [
      " 64%|████████████████████████████████████████████████████████████████████████████████████████████████████████▎                                                          | 400/625 [01:14<00:41,  5.43it/s]"
     ]
    },
    {
     "name": "stdout",
     "output_type": "stream",
     "text": [
      "Batch 398 | Reject Differential (mean over batch): 0.0212\n",
      "Batch 399 | Reject Differential (mean over batch): 0.0211\n",
      "Batch 399 | Reject Differential (mean over batch): 0.0354\n",
      "Batch 399 | Reject Differential (mean over batch): 0.0272\n"
     ]
    },
    {
     "name": "stderr",
     "output_type": "stream",
     "text": [
      " 64%|████████████████████████████████████████████████████████████████████████████████████████████████████████▌                                                          | 401/625 [01:14<00:41,  5.42it/s]"
     ]
    },
    {
     "name": "stdout",
     "output_type": "stream",
     "text": [
      "Batch 400 | Reject Differential (mean over batch): 0.0351\n",
      "Batch 400 | Reject Differential (mean over batch): 0.0460\n",
      "Batch 400 | Reject Differential (mean over batch): 0.0341\n",
      "Batch 401 | Reject Differential (mean over batch): 0.0282\n"
     ]
    },
    {
     "name": "stderr",
     "output_type": "stream",
     "text": [
      " 64%|████████████████████████████████████████████████████████████████████████████████████████████████████████▊                                                          | 402/625 [01:15<00:41,  5.42it/s]"
     ]
    },
    {
     "name": "stdout",
     "output_type": "stream",
     "text": [
      "Batch 401 | Reject Differential (mean over batch): 0.0379\n",
      "Batch 401 | Reject Differential (mean over batch): 0.0287\n",
      "Batch 402 | Reject Differential (mean over batch): 0.0280\n",
      "Batch 402 | Reject Differential (mean over batch): 0.0329\n"
     ]
    },
    {
     "name": "stderr",
     "output_type": "stream",
     "text": [
      " 65%|█████████████████████████████████████████████████████████████████████████████████████████████████████████▎                                                         | 404/625 [01:15<00:40,  5.42it/s]"
     ]
    },
    {
     "name": "stdout",
     "output_type": "stream",
     "text": [
      "Batch 402 | Reject Differential (mean over batch): 0.0210\n",
      "Batch 403 | Reject Differential (mean over batch): 0.0237\n",
      "Batch 403 | Reject Differential (mean over batch): 0.0434\n",
      "Batch 403 | Reject Differential (mean over batch): 0.0204\n"
     ]
    },
    {
     "name": "stderr",
     "output_type": "stream",
     "text": [
      " 65%|█████████████████████████████████████████████████████████████████████████████████████████████████████████▌                                                         | 405/625 [01:15<00:40,  5.40it/s]"
     ]
    },
    {
     "name": "stdout",
     "output_type": "stream",
     "text": [
      "Batch 404 | Reject Differential (mean over batch): 0.0196\n",
      "Batch 404 | Reject Differential (mean over batch): 0.0222\n",
      "Batch 404 | Reject Differential (mean over batch): 0.0143\n"
     ]
    },
    {
     "name": "stderr",
     "output_type": "stream",
     "text": [
      " 65%|█████████████████████████████████████████████████████████████████████████████████████████████████████████▉                                                         | 406/625 [01:15<00:41,  5.24it/s]"
     ]
    },
    {
     "name": "stdout",
     "output_type": "stream",
     "text": [
      "Batch 405 | Reject Differential (mean over batch): 0.0397\n",
      "Batch 405 | Reject Differential (mean over batch): 0.0399\n",
      "Batch 405 | Reject Differential (mean over batch): 0.0320\n",
      "Batch 406 | Reject Differential (mean over batch): 0.0172\n"
     ]
    },
    {
     "name": "stderr",
     "output_type": "stream",
     "text": [
      " 65%|██████████████████████████████████████████████████████████████████████████████████████████████████████████▏                                                        | 407/625 [01:16<00:41,  5.29it/s]"
     ]
    },
    {
     "name": "stdout",
     "output_type": "stream",
     "text": [
      "Batch 406 | Reject Differential (mean over batch): 0.0366\n",
      "Batch 406 | Reject Differential (mean over batch): 0.0242\n",
      "Batch 407 | Reject Differential (mean over batch): 0.0267\n",
      "Batch 407 | Reject Differential (mean over batch): 0.0316\n"
     ]
    },
    {
     "name": "stderr",
     "output_type": "stream",
     "text": [
      " 65%|██████████████████████████████████████████████████████████████████████████████████████████████████████████▋                                                        | 409/625 [01:16<00:40,  5.35it/s]"
     ]
    },
    {
     "name": "stdout",
     "output_type": "stream",
     "text": [
      "Batch 407 | Reject Differential (mean over batch): 0.0205\n",
      "Batch 408 | Reject Differential (mean over batch): 0.0344\n",
      "Batch 408 | Reject Differential (mean over batch): 0.0378\n",
      "Batch 408 | Reject Differential (mean over batch): 0.0354\n"
     ]
    },
    {
     "name": "stderr",
     "output_type": "stream",
     "text": [
      " 66%|██████████████████████████████████████████████████████████████████████████████████████████████████████████▉                                                        | 410/625 [01:16<00:40,  5.35it/s]"
     ]
    },
    {
     "name": "stdout",
     "output_type": "stream",
     "text": [
      "Batch 409 | Reject Differential (mean over batch): 0.0424\n",
      "Batch 409 | Reject Differential (mean over batch): 0.0417\n",
      "Batch 409 | Reject Differential (mean over batch): 0.0300\n",
      "Batch 410 | Reject Differential (mean over batch): 0.0265\n"
     ]
    },
    {
     "name": "stderr",
     "output_type": "stream",
     "text": [
      " 66%|███████████████████████████████████████████████████████████████████████████████████████████████████████████▏                                                       | 411/625 [01:16<00:39,  5.38it/s]"
     ]
    },
    {
     "name": "stdout",
     "output_type": "stream",
     "text": [
      "Batch 410 | Reject Differential (mean over batch): 0.0295\n",
      "Batch 410 | Reject Differential (mean over batch): 0.0355\n",
      "Batch 411 | Reject Differential (mean over batch): 0.0347\n",
      "Batch 411 | Reject Differential (mean over batch): 0.0298\n"
     ]
    },
    {
     "name": "stderr",
     "output_type": "stream",
     "text": [
      " 66%|███████████████████████████████████████████████████████████████████████████████████████████████████████████▋                                                       | 413/625 [01:17<00:39,  5.40it/s]"
     ]
    },
    {
     "name": "stdout",
     "output_type": "stream",
     "text": [
      "Batch 411 | Reject Differential (mean over batch): 0.0215\n",
      "Batch 412 | Reject Differential (mean over batch): 0.0395\n",
      "Batch 412 | Reject Differential (mean over batch): 0.0240\n",
      "Batch 412 | Reject Differential (mean over batch): 0.0319\n"
     ]
    },
    {
     "name": "stderr",
     "output_type": "stream",
     "text": [
      " 66%|███████████████████████████████████████████████████████████████████████████████████████████████████████████▉                                                       | 414/625 [01:17<00:39,  5.40it/s]"
     ]
    },
    {
     "name": "stdout",
     "output_type": "stream",
     "text": [
      "Batch 413 | Reject Differential (mean over batch): 0.0185\n",
      "Batch 413 | Reject Differential (mean over batch): 0.0335\n",
      "Batch 413 | Reject Differential (mean over batch): 0.0219\n",
      "Batch 414 | Reject Differential (mean over batch): 0.0260\n"
     ]
    },
    {
     "name": "stderr",
     "output_type": "stream",
     "text": [
      " 66%|████████████████████████████████████████████████████████████████████████████████████████████████████████████▏                                                      | 415/625 [01:17<00:38,  5.43it/s]"
     ]
    },
    {
     "name": "stdout",
     "output_type": "stream",
     "text": [
      "Batch 414 | Reject Differential (mean over batch): 0.0377\n",
      "Batch 414 | Reject Differential (mean over batch): 0.0307\n",
      "Batch 415 | Reject Differential (mean over batch): 0.0247\n",
      "Batch 415 | Reject Differential (mean over batch): 0.0431\n"
     ]
    },
    {
     "name": "stderr",
     "output_type": "stream",
     "text": [
      " 67%|████████████████████████████████████████████████████████████████████████████████████████████████████████████▊                                                      | 417/625 [01:17<00:38,  5.45it/s]"
     ]
    },
    {
     "name": "stdout",
     "output_type": "stream",
     "text": [
      "Batch 415 | Reject Differential (mean over batch): 0.0233\n",
      "Batch 416 | Reject Differential (mean over batch): 0.0302\n",
      "Batch 416 | Reject Differential (mean over batch): 0.0364\n",
      "Batch 416 | Reject Differential (mean over batch): 0.0312\n"
     ]
    },
    {
     "name": "stderr",
     "output_type": "stream",
     "text": [
      " 67%|█████████████████████████████████████████████████████████████████████████████████████████████████████████████                                                      | 418/625 [01:18<00:38,  5.43it/s]"
     ]
    },
    {
     "name": "stdout",
     "output_type": "stream",
     "text": [
      "Batch 417 | Reject Differential (mean over batch): 0.0311\n",
      "Batch 417 | Reject Differential (mean over batch): 0.0410\n",
      "Batch 417 | Reject Differential (mean over batch): 0.0227\n",
      "Batch 418 | Reject Differential (mean over batch): 0.0209\n"
     ]
    },
    {
     "name": "stderr",
     "output_type": "stream",
     "text": [
      " 67%|█████████████████████████████████████████████████████████████████████████████████████████████████████████████▎                                                     | 419/625 [01:18<00:37,  5.45it/s]"
     ]
    },
    {
     "name": "stdout",
     "output_type": "stream",
     "text": [
      "Batch 418 | Reject Differential (mean over batch): 0.0400\n",
      "Batch 418 | Reject Differential (mean over batch): 0.0294\n",
      "Batch 419 | Reject Differential (mean over batch): 0.0272\n",
      "Batch 419 | Reject Differential (mean over batch): 0.0444\n"
     ]
    },
    {
     "name": "stderr",
     "output_type": "stream",
     "text": [
      " 67%|█████████████████████████████████████████████████████████████████████████████████████████████████████████████▊                                                     | 421/625 [01:18<00:38,  5.34it/s]"
     ]
    },
    {
     "name": "stdout",
     "output_type": "stream",
     "text": [
      "Batch 419 | Reject Differential (mean over batch): 0.0286\n",
      "Batch 420 | Reject Differential (mean over batch): 0.0326\n",
      "Batch 420 | Reject Differential (mean over batch): 0.0395\n",
      "Batch 420 | Reject Differential (mean over batch): 0.0264\n"
     ]
    },
    {
     "name": "stderr",
     "output_type": "stream",
     "text": [
      " 68%|██████████████████████████████████████████████████████████████████████████████████████████████████████████████                                                     | 422/625 [01:18<00:37,  5.36it/s]"
     ]
    },
    {
     "name": "stdout",
     "output_type": "stream",
     "text": [
      "Batch 421 | Reject Differential (mean over batch): 0.0222\n",
      "Batch 421 | Reject Differential (mean over batch): 0.0299\n",
      "Batch 421 | Reject Differential (mean over batch): 0.0298\n",
      "Batch 422 | Reject Differential (mean over batch): 0.0250\n"
     ]
    },
    {
     "name": "stderr",
     "output_type": "stream",
     "text": [
      " 68%|██████████████████████████████████████████████████████████████████████████████████████████████████████████████▎                                                    | 423/625 [01:19<00:37,  5.40it/s]"
     ]
    },
    {
     "name": "stdout",
     "output_type": "stream",
     "text": [
      "Batch 422 | Reject Differential (mean over batch): 0.0341\n",
      "Batch 422 | Reject Differential (mean over batch): 0.0314\n",
      "Batch 423 | Reject Differential (mean over batch): 0.0191\n",
      "Batch 423 | Reject Differential (mean over batch): 0.0340\n"
     ]
    },
    {
     "name": "stderr",
     "output_type": "stream",
     "text": [
      " 68%|██████████████████████████████████████████████████████████████████████████████████████████████████████████████▊                                                    | 425/625 [01:19<00:36,  5.46it/s]"
     ]
    },
    {
     "name": "stdout",
     "output_type": "stream",
     "text": [
      "Batch 423 | Reject Differential (mean over batch): 0.0261\n",
      "Batch 424 | Reject Differential (mean over batch): 0.0000\n",
      "Batch 424 | Reject Differential (mean over batch): 0.0347\n",
      "Batch 424 | Reject Differential (mean over batch): 0.0210\n"
     ]
    },
    {
     "name": "stderr",
     "output_type": "stream",
     "text": [
      " 68%|███████████████████████████████████████████████████████████████████████████████████████████████████████████████                                                    | 426/625 [01:19<00:36,  5.45it/s]"
     ]
    },
    {
     "name": "stdout",
     "output_type": "stream",
     "text": [
      "Batch 425 | Reject Differential (mean over batch): 0.0328\n",
      "Batch 425 | Reject Differential (mean over batch): 0.0380\n",
      "Batch 425 | Reject Differential (mean over batch): 0.0335\n",
      "Batch 426 | Reject Differential (mean over batch): 0.0324\n"
     ]
    },
    {
     "name": "stderr",
     "output_type": "stream",
     "text": [
      " 68%|███████████████████████████████████████████████████████████████████████████████████████████████████████████████▎                                                   | 427/625 [01:19<00:36,  5.47it/s]"
     ]
    },
    {
     "name": "stdout",
     "output_type": "stream",
     "text": [
      "Batch 426 | Reject Differential (mean over batch): 0.0378\n",
      "Batch 426 | Reject Differential (mean over batch): 0.0302\n",
      "Batch 427 | Reject Differential (mean over batch): 0.0365\n",
      "Batch 427 | Reject Differential (mean over batch): 0.0368\n"
     ]
    },
    {
     "name": "stderr",
     "output_type": "stream",
     "text": [
      " 69%|███████████████████████████████████████████████████████████████████████████████████████████████████████████████▉                                                   | 429/625 [01:20<00:35,  5.47it/s]"
     ]
    },
    {
     "name": "stdout",
     "output_type": "stream",
     "text": [
      "Batch 427 | Reject Differential (mean over batch): 0.0331\n",
      "Batch 428 | Reject Differential (mean over batch): 0.0224\n",
      "Batch 428 | Reject Differential (mean over batch): 0.0290\n",
      "Batch 428 | Reject Differential (mean over batch): 0.0221\n"
     ]
    },
    {
     "name": "stderr",
     "output_type": "stream",
     "text": [
      " 69%|████████████████████████████████████████████████████████████████████████████████████████████████████████████████▏                                                  | 430/625 [01:20<00:35,  5.46it/s]"
     ]
    },
    {
     "name": "stdout",
     "output_type": "stream",
     "text": [
      "Batch 429 | Reject Differential (mean over batch): 0.0331\n",
      "Batch 429 | Reject Differential (mean over batch): 0.0521\n",
      "Batch 429 | Reject Differential (mean over batch): 0.0334\n",
      "Batch 430 | Reject Differential (mean over batch): 0.0331\n"
     ]
    },
    {
     "name": "stderr",
     "output_type": "stream",
     "text": [
      " 69%|████████████████████████████████████████████████████████████████████████████████████████████████████████████████▍                                                  | 431/625 [01:20<00:35,  5.46it/s]"
     ]
    },
    {
     "name": "stdout",
     "output_type": "stream",
     "text": [
      "Batch 430 | Reject Differential (mean over batch): 0.0380\n",
      "Batch 430 | Reject Differential (mean over batch): 0.0225\n",
      "Batch 431 | Reject Differential (mean over batch): 0.0319\n",
      "Batch 431 | Reject Differential (mean over batch): 0.0393\n"
     ]
    },
    {
     "name": "stderr",
     "output_type": "stream",
     "text": [
      " 69%|████████████████████████████████████████████████████████████████████████████████████████████████████████████████▉                                                  | 433/625 [01:20<00:35,  5.45it/s]"
     ]
    },
    {
     "name": "stdout",
     "output_type": "stream",
     "text": [
      "Batch 431 | Reject Differential (mean over batch): 0.0356\n",
      "Batch 432 | Reject Differential (mean over batch): 0.0267\n",
      "Batch 432 | Reject Differential (mean over batch): 0.0284\n",
      "Batch 432 | Reject Differential (mean over batch): 0.0239\n"
     ]
    },
    {
     "name": "stderr",
     "output_type": "stream",
     "text": [
      " 69%|█████████████████████████████████████████████████████████████████████████████████████████████████████████████████▏                                                 | 434/625 [01:21<00:34,  5.46it/s]"
     ]
    },
    {
     "name": "stdout",
     "output_type": "stream",
     "text": [
      "Batch 433 | Reject Differential (mean over batch): 0.0296\n",
      "Batch 433 | Reject Differential (mean over batch): 0.0342\n",
      "Batch 433 | Reject Differential (mean over batch): 0.0231\n",
      "Batch 434 | Reject Differential (mean over batch): 0.0272\n"
     ]
    },
    {
     "name": "stderr",
     "output_type": "stream",
     "text": [
      " 70%|█████████████████████████████████████████████████████████████████████████████████████████████████████████████████▍                                                 | 435/625 [01:21<00:35,  5.30it/s]"
     ]
    },
    {
     "name": "stdout",
     "output_type": "stream",
     "text": [
      "Batch 434 | Reject Differential (mean over batch): 0.0395\n",
      "Batch 434 | Reject Differential (mean over batch): 0.0355\n",
      "Batch 435 | Reject Differential (mean over batch): 0.0417\n",
      "Batch 435 | Reject Differential (mean over batch): 0.0549\n"
     ]
    },
    {
     "name": "stderr",
     "output_type": "stream",
     "text": [
      " 70%|█████████████████████████████████████████████████████████████████████████████████████████████████████████████████▉                                                 | 437/625 [01:21<00:34,  5.38it/s]"
     ]
    },
    {
     "name": "stdout",
     "output_type": "stream",
     "text": [
      "Batch 435 | Reject Differential (mean over batch): 0.0512\n",
      "Batch 436 | Reject Differential (mean over batch): 0.0299\n",
      "Batch 436 | Reject Differential (mean over batch): 0.0346\n",
      "Batch 436 | Reject Differential (mean over batch): 0.0289\n"
     ]
    },
    {
     "name": "stderr",
     "output_type": "stream",
     "text": [
      " 70%|██████████████████████████████████████████████████████████████████████████████████████████████████████████████████▏                                                | 438/625 [01:21<00:34,  5.40it/s]"
     ]
    },
    {
     "name": "stdout",
     "output_type": "stream",
     "text": [
      "Batch 437 | Reject Differential (mean over batch): 0.0388\n",
      "Batch 437 | Reject Differential (mean over batch): 0.0333\n",
      "Batch 437 | Reject Differential (mean over batch): 0.0274\n",
      "Batch 438 | Reject Differential (mean over batch): 0.0346\n"
     ]
    },
    {
     "name": "stderr",
     "output_type": "stream",
     "text": [
      " 70%|██████████████████████████████████████████████████████████████████████████████████████████████████████████████████▍                                                | 439/625 [01:21<00:34,  5.40it/s]"
     ]
    },
    {
     "name": "stdout",
     "output_type": "stream",
     "text": [
      "Batch 438 | Reject Differential (mean over batch): 0.0307\n",
      "Batch 438 | Reject Differential (mean over batch): 0.0300\n",
      "Batch 439 | Reject Differential (mean over batch): 0.0364\n",
      "Batch 439 | Reject Differential (mean over batch): 0.0412\n"
     ]
    },
    {
     "name": "stderr",
     "output_type": "stream",
     "text": [
      " 71%|███████████████████████████████████████████████████████████████████████████████████████████████████████████████████                                                | 441/625 [01:22<00:34,  5.40it/s]"
     ]
    },
    {
     "name": "stdout",
     "output_type": "stream",
     "text": [
      "Batch 439 | Reject Differential (mean over batch): 0.0392\n",
      "Batch 440 | Reject Differential (mean over batch): 0.0290\n",
      "Batch 440 | Reject Differential (mean over batch): 0.0519\n",
      "Batch 440 | Reject Differential (mean over batch): 0.0290\n"
     ]
    },
    {
     "name": "stderr",
     "output_type": "stream",
     "text": [
      " 71%|███████████████████████████████████████████████████████████████████████████████████████████████████████████████████▎                                               | 442/625 [01:22<00:34,  5.27it/s]"
     ]
    },
    {
     "name": "stdout",
     "output_type": "stream",
     "text": [
      "Batch 441 | Reject Differential (mean over batch): 0.0276\n",
      "Batch 441 | Reject Differential (mean over batch): 0.0478\n",
      "Batch 441 | Reject Differential (mean over batch): 0.0427\n",
      "Batch 442 | Reject Differential (mean over batch): 0.0193\n"
     ]
    },
    {
     "name": "stderr",
     "output_type": "stream",
     "text": [
      " 71%|███████████████████████████████████████████████████████████████████████████████████████████████████████████████████▌                                               | 443/625 [01:22<00:34,  5.34it/s]"
     ]
    },
    {
     "name": "stdout",
     "output_type": "stream",
     "text": [
      "Batch 442 | Reject Differential (mean over batch): 0.0544\n",
      "Batch 442 | Reject Differential (mean over batch): 0.0228\n",
      "Batch 443 | Reject Differential (mean over batch): 0.0260\n",
      "Batch 443 | Reject Differential (mean over batch): 0.0299\n"
     ]
    },
    {
     "name": "stderr",
     "output_type": "stream",
     "text": [
      " 71%|████████████████████████████████████████████████████████████████████████████████████████████████████████████████████                                               | 445/625 [01:23<00:33,  5.40it/s]"
     ]
    },
    {
     "name": "stdout",
     "output_type": "stream",
     "text": [
      "Batch 443 | Reject Differential (mean over batch): 0.0306\n",
      "Batch 444 | Reject Differential (mean over batch): 0.0286\n",
      "Batch 444 | Reject Differential (mean over batch): 0.0291\n",
      "Batch 444 | Reject Differential (mean over batch): 0.0282\n"
     ]
    },
    {
     "name": "stderr",
     "output_type": "stream",
     "text": [
      " 71%|████████████████████████████████████████████████████████████████████████████████████████████████████████████████████▎                                              | 446/625 [01:23<00:33,  5.27it/s]"
     ]
    },
    {
     "name": "stdout",
     "output_type": "stream",
     "text": [
      "Batch 445 | Reject Differential (mean over batch): 0.0372\n",
      "Batch 445 | Reject Differential (mean over batch): 0.0461\n",
      "Batch 445 | Reject Differential (mean over batch): 0.0382\n",
      "Batch 446 | Reject Differential (mean over batch): 0.0350\n"
     ]
    },
    {
     "name": "stderr",
     "output_type": "stream",
     "text": [
      " 72%|████████████████████████████████████████████████████████████████████████████████████████████████████████████████████▌                                              | 447/625 [01:23<00:33,  5.33it/s]"
     ]
    },
    {
     "name": "stdout",
     "output_type": "stream",
     "text": [
      "Batch 446 | Reject Differential (mean over batch): 0.0342\n",
      "Batch 446 | Reject Differential (mean over batch): 0.0324\n",
      "Batch 447 | Reject Differential (mean over batch): 0.0275\n",
      "Batch 447 | Reject Differential (mean over batch): 0.0326\n"
     ]
    },
    {
     "name": "stderr",
     "output_type": "stream",
     "text": [
      " 72%|█████████████████████████████████████████████████████████████████████████████████████████████████████████████████████                                              | 449/625 [01:23<00:32,  5.41it/s]"
     ]
    },
    {
     "name": "stdout",
     "output_type": "stream",
     "text": [
      "Batch 447 | Reject Differential (mean over batch): 0.0250\n",
      "Batch 448 | Reject Differential (mean over batch): 0.0327\n",
      "Batch 448 | Reject Differential (mean over batch): 0.0348\n",
      "Batch 448 | Reject Differential (mean over batch): 0.0231\n"
     ]
    },
    {
     "name": "stderr",
     "output_type": "stream",
     "text": [
      " 72%|█████████████████████████████████████████████████████████████████████████████████████████████████████████████████████▎                                             | 450/625 [01:24<00:32,  5.41it/s]"
     ]
    },
    {
     "name": "stdout",
     "output_type": "stream",
     "text": [
      "Batch 449 | Reject Differential (mean over batch): 0.0301\n",
      "Batch 449 | Reject Differential (mean over batch): 0.0484\n",
      "Batch 449 | Reject Differential (mean over batch): 0.0255\n",
      "Batch 450 | Reject Differential (mean over batch): 0.0241\n"
     ]
    },
    {
     "name": "stderr",
     "output_type": "stream",
     "text": [
      " 72%|█████████████████████████████████████████████████████████████████████████████████████████████████████████████████████▌                                             | 451/625 [01:24<00:32,  5.42it/s]"
     ]
    },
    {
     "name": "stdout",
     "output_type": "stream",
     "text": [
      "Batch 450 | Reject Differential (mean over batch): 0.0235\n",
      "Batch 450 | Reject Differential (mean over batch): 0.0231\n",
      "Batch 451 | Reject Differential (mean over batch): 0.0299\n",
      "Batch 451 | Reject Differential (mean over batch): 0.0424\n"
     ]
    },
    {
     "name": "stderr",
     "output_type": "stream",
     "text": [
      " 72%|██████████████████████████████████████████████████████████████████████████████████████████████████████████████████████▏                                            | 453/625 [01:24<00:31,  5.43it/s]"
     ]
    },
    {
     "name": "stdout",
     "output_type": "stream",
     "text": [
      "Batch 451 | Reject Differential (mean over batch): 0.0239\n",
      "Batch 452 | Reject Differential (mean over batch): 0.0295\n",
      "Batch 452 | Reject Differential (mean over batch): 0.0368\n",
      "Batch 452 | Reject Differential (mean over batch): 0.0282\n"
     ]
    },
    {
     "name": "stderr",
     "output_type": "stream",
     "text": [
      " 73%|██████████████████████████████████████████████████████████████████████████████████████████████████████████████████████▍                                            | 454/625 [01:24<00:31,  5.40it/s]"
     ]
    },
    {
     "name": "stdout",
     "output_type": "stream",
     "text": [
      "Batch 453 | Reject Differential (mean over batch): 0.0293\n",
      "Batch 453 | Reject Differential (mean over batch): 0.0334\n",
      "Batch 453 | Reject Differential (mean over batch): 0.0329\n",
      "Batch 454 | Reject Differential (mean over batch): 0.0268\n"
     ]
    },
    {
     "name": "stderr",
     "output_type": "stream",
     "text": [
      " 73%|██████████████████████████████████████████████████████████████████████████████████████████████████████████████████████▋                                            | 455/625 [01:24<00:31,  5.41it/s]"
     ]
    },
    {
     "name": "stdout",
     "output_type": "stream",
     "text": [
      "Batch 454 | Reject Differential (mean over batch): 0.0397\n",
      "Batch 454 | Reject Differential (mean over batch): 0.0196\n",
      "Batch 455 | Reject Differential (mean over batch): 0.0236\n",
      "Batch 455 | Reject Differential (mean over batch): 0.0410\n"
     ]
    },
    {
     "name": "stderr",
     "output_type": "stream",
     "text": [
      " 73%|███████████████████████████████████████████████████████████████████████████████████████████████████████████████████████▏                                           | 457/625 [01:25<00:31,  5.41it/s]"
     ]
    },
    {
     "name": "stdout",
     "output_type": "stream",
     "text": [
      "Batch 455 | Reject Differential (mean over batch): 0.0269\n",
      "Batch 456 | Reject Differential (mean over batch): 0.0366\n",
      "Batch 456 | Reject Differential (mean over batch): 0.0263\n",
      "Batch 456 | Reject Differential (mean over batch): 0.0220\n"
     ]
    },
    {
     "name": "stderr",
     "output_type": "stream",
     "text": [
      " 73%|███████████████████████████████████████████████████████████████████████████████████████████████████████████████████████▍                                           | 458/625 [01:25<00:30,  5.41it/s]"
     ]
    },
    {
     "name": "stdout",
     "output_type": "stream",
     "text": [
      "Batch 457 | Reject Differential (mean over batch): 0.0277\n",
      "Batch 457 | Reject Differential (mean over batch): 0.0355\n",
      "Batch 457 | Reject Differential (mean over batch): 0.0256\n",
      "Batch 458 | Reject Differential (mean over batch): 0.0295\n"
     ]
    },
    {
     "name": "stderr",
     "output_type": "stream",
     "text": [
      " 73%|███████████████████████████████████████████████████████████████████████████████████████████████████████████████████████▋                                           | 459/625 [01:25<00:30,  5.43it/s]"
     ]
    },
    {
     "name": "stdout",
     "output_type": "stream",
     "text": [
      "Batch 458 | Reject Differential (mean over batch): 0.0227\n",
      "Batch 458 | Reject Differential (mean over batch): 0.0234\n",
      "Batch 459 | Reject Differential (mean over batch): 0.0352\n",
      "Batch 459 | Reject Differential (mean over batch): 0.0358\n"
     ]
    },
    {
     "name": "stderr",
     "output_type": "stream",
     "text": [
      " 74%|████████████████████████████████████████████████████████████████████████████████████████████████████████████████████████▏                                          | 461/625 [01:26<00:30,  5.45it/s]"
     ]
    },
    {
     "name": "stdout",
     "output_type": "stream",
     "text": [
      "Batch 459 | Reject Differential (mean over batch): 0.0322\n",
      "Batch 460 | Reject Differential (mean over batch): 0.0412\n",
      "Batch 460 | Reject Differential (mean over batch): 0.0470\n",
      "Batch 460 | Reject Differential (mean over batch): 0.0299\n"
     ]
    },
    {
     "name": "stderr",
     "output_type": "stream",
     "text": [
      " 74%|████████████████████████████████████████████████████████████████████████████████████████████████████████████████████████▍                                          | 462/625 [01:26<00:30,  5.42it/s]"
     ]
    },
    {
     "name": "stdout",
     "output_type": "stream",
     "text": [
      "Batch 461 | Reject Differential (mean over batch): 0.0317\n",
      "Batch 461 | Reject Differential (mean over batch): 0.0406\n",
      "Batch 461 | Reject Differential (mean over batch): 0.0352\n",
      "Batch 462 | Reject Differential (mean over batch): 0.0349\n"
     ]
    },
    {
     "name": "stderr",
     "output_type": "stream",
     "text": [
      " 74%|████████████████████████████████████████████████████████████████████████████████████████████████████████████████████████▊                                          | 463/625 [01:26<00:29,  5.43it/s]"
     ]
    },
    {
     "name": "stdout",
     "output_type": "stream",
     "text": [
      "Batch 462 | Reject Differential (mean over batch): 0.0384\n",
      "Batch 462 | Reject Differential (mean over batch): 0.0278\n",
      "Batch 463 | Reject Differential (mean over batch): 0.0294\n",
      "Batch 463 | Reject Differential (mean over batch): 0.0212\n"
     ]
    },
    {
     "name": "stderr",
     "output_type": "stream",
     "text": [
      " 74%|█████████████████████████████████████████████████████████████████████████████████████████████████████████████████████████▎                                         | 465/625 [01:26<00:29,  5.44it/s]"
     ]
    },
    {
     "name": "stdout",
     "output_type": "stream",
     "text": [
      "Batch 463 | Reject Differential (mean over batch): 0.0332\n",
      "Batch 464 | Reject Differential (mean over batch): 0.0230\n",
      "Batch 464 | Reject Differential (mean over batch): 0.0447\n",
      "Batch 464 | Reject Differential (mean over batch): 0.0283\n"
     ]
    },
    {
     "name": "stderr",
     "output_type": "stream",
     "text": [
      " 75%|█████████████████████████████████████████████████████████████████████████████████████████████████████████████████████████▌                                         | 466/625 [01:26<00:29,  5.42it/s]"
     ]
    },
    {
     "name": "stdout",
     "output_type": "stream",
     "text": [
      "Batch 465 | Reject Differential (mean over batch): 0.0256\n",
      "Batch 465 | Reject Differential (mean over batch): 0.0478\n",
      "Batch 465 | Reject Differential (mean over batch): 0.0275\n",
      "Batch 466 | Reject Differential (mean over batch): 0.0281\n"
     ]
    },
    {
     "name": "stderr",
     "output_type": "stream",
     "text": [
      " 75%|█████████████████████████████████████████████████████████████████████████████████████████████████████████████████████████▊                                         | 467/625 [01:27<00:29,  5.32it/s]"
     ]
    },
    {
     "name": "stdout",
     "output_type": "stream",
     "text": [
      "Batch 466 | Reject Differential (mean over batch): 0.0308\n",
      "Batch 466 | Reject Differential (mean over batch): 0.0348\n",
      "Batch 467 | Reject Differential (mean over batch): 0.0328\n",
      "Batch 467 | Reject Differential (mean over batch): 0.0399\n"
     ]
    },
    {
     "name": "stderr",
     "output_type": "stream",
     "text": [
      " 75%|██████████████████████████████████████████████████████████████████████████████████████████████████████████████████████████▎                                        | 469/625 [01:27<00:29,  5.31it/s]"
     ]
    },
    {
     "name": "stdout",
     "output_type": "stream",
     "text": [
      "Batch 467 | Reject Differential (mean over batch): 0.0402\n",
      "Batch 468 | Reject Differential (mean over batch): 0.0357\n",
      "Batch 468 | Reject Differential (mean over batch): 0.0358\n",
      "Batch 468 | Reject Differential (mean over batch): 0.0389\n"
     ]
    },
    {
     "name": "stderr",
     "output_type": "stream",
     "text": [
      " 75%|██████████████████████████████████████████████████████████████████████████████████████████████████████████████████████████▌                                        | 470/625 [01:27<00:29,  5.32it/s]"
     ]
    },
    {
     "name": "stdout",
     "output_type": "stream",
     "text": [
      "Batch 469 | Reject Differential (mean over batch): 0.0354\n",
      "Batch 469 | Reject Differential (mean over batch): 0.0375\n",
      "Batch 469 | Reject Differential (mean over batch): 0.0254\n",
      "Batch 470 | Reject Differential (mean over batch): 0.0391\n"
     ]
    },
    {
     "name": "stderr",
     "output_type": "stream",
     "text": [
      " 75%|██████████████████████████████████████████████████████████████████████████████████████████████████████████████████████████▊                                        | 471/625 [01:27<00:28,  5.34it/s]"
     ]
    },
    {
     "name": "stdout",
     "output_type": "stream",
     "text": [
      "Batch 470 | Reject Differential (mean over batch): 0.0433\n",
      "Batch 470 | Reject Differential (mean over batch): 0.0337\n",
      "Batch 471 | Reject Differential (mean over batch): 0.0196\n",
      "Batch 471 | Reject Differential (mean over batch): 0.0363\n"
     ]
    },
    {
     "name": "stderr",
     "output_type": "stream",
     "text": [
      " 76%|███████████████████████████████████████████████████████████████████████████████████████████████████████████████████████████▎                                       | 473/625 [01:28<00:28,  5.37it/s]"
     ]
    },
    {
     "name": "stdout",
     "output_type": "stream",
     "text": [
      "Batch 471 | Reject Differential (mean over batch): 0.0259\n",
      "Batch 472 | Reject Differential (mean over batch): 0.0397\n",
      "Batch 472 | Reject Differential (mean over batch): 0.0382\n",
      "Batch 472 | Reject Differential (mean over batch): 0.0241\n"
     ]
    },
    {
     "name": "stderr",
     "output_type": "stream",
     "text": [
      " 76%|███████████████████████████████████████████████████████████████████████████████████████████████████████████████████████████▌                                       | 474/625 [01:28<00:28,  5.39it/s]"
     ]
    },
    {
     "name": "stdout",
     "output_type": "stream",
     "text": [
      "Batch 473 | Reject Differential (mean over batch): 0.0272\n",
      "Batch 473 | Reject Differential (mean over batch): 0.0373\n",
      "Batch 473 | Reject Differential (mean over batch): 0.0314\n",
      "Batch 474 | Reject Differential (mean over batch): 0.0328\n"
     ]
    },
    {
     "name": "stderr",
     "output_type": "stream",
     "text": [
      " 76%|███████████████████████████████████████████████████████████████████████████████████████████████████████████████████████████▉                                       | 475/625 [01:28<00:27,  5.40it/s]"
     ]
    },
    {
     "name": "stdout",
     "output_type": "stream",
     "text": [
      "Batch 474 | Reject Differential (mean over batch): 0.0300\n",
      "Batch 474 | Reject Differential (mean over batch): 0.0310\n",
      "Batch 475 | Reject Differential (mean over batch): 0.0227\n"
     ]
    },
    {
     "name": "stderr",
     "output_type": "stream",
     "text": [
      " 76%|████████████████████████████████████████████████████████████████████████████████████████████████████████████████████████████▏                                      | 476/625 [01:28<00:28,  5.26it/s]"
     ]
    },
    {
     "name": "stdout",
     "output_type": "stream",
     "text": [
      "Batch 475 | Reject Differential (mean over batch): 0.0280\n",
      "Batch 475 | Reject Differential (mean over batch): 0.0257\n",
      "Batch 476 | Reject Differential (mean over batch): 0.0354\n",
      "Batch 476 | Reject Differential (mean over batch): 0.0383\n"
     ]
    },
    {
     "name": "stderr",
     "output_type": "stream",
     "text": [
      " 76%|████████████████████████████████████████████████████████████████████████████████████████████████████████████████████████████▋                                      | 478/625 [01:29<00:27,  5.35it/s]"
     ]
    },
    {
     "name": "stdout",
     "output_type": "stream",
     "text": [
      "Batch 476 | Reject Differential (mean over batch): 0.0297\n",
      "Batch 477 | Reject Differential (mean over batch): 0.0398\n",
      "Batch 477 | Reject Differential (mean over batch): 0.0336\n",
      "Batch 477 | Reject Differential (mean over batch): 0.0308\n"
     ]
    },
    {
     "name": "stderr",
     "output_type": "stream",
     "text": [
      " 77%|████████████████████████████████████████████████████████████████████████████████████████████████████████████████████████████▉                                      | 479/625 [01:29<00:27,  5.38it/s]"
     ]
    },
    {
     "name": "stdout",
     "output_type": "stream",
     "text": [
      "Batch 478 | Reject Differential (mean over batch): 0.0291\n",
      "Batch 478 | Reject Differential (mean over batch): 0.0266\n",
      "Batch 478 | Reject Differential (mean over batch): 0.0185\n",
      "Batch 479 | Reject Differential (mean over batch): 0.0308\n"
     ]
    },
    {
     "name": "stderr",
     "output_type": "stream",
     "text": [
      " 77%|█████████████████████████████████████████████████████████████████████████████████████████████████████████████████████████████▏                                     | 480/625 [01:29<00:26,  5.39it/s]"
     ]
    },
    {
     "name": "stdout",
     "output_type": "stream",
     "text": [
      "Batch 479 | Reject Differential (mean over batch): 0.0433\n",
      "Batch 479 | Reject Differential (mean over batch): 0.0212\n",
      "Batch 480 | Reject Differential (mean over batch): 0.0251\n",
      "Batch 480 | Reject Differential (mean over batch): 0.0317\n"
     ]
    },
    {
     "name": "stderr",
     "output_type": "stream",
     "text": [
      " 77%|█████████████████████████████████████████████████████████████████████████████████████████████████████████████████████████████▋                                     | 482/625 [01:29<00:26,  5.39it/s]"
     ]
    },
    {
     "name": "stdout",
     "output_type": "stream",
     "text": [
      "Batch 480 | Reject Differential (mean over batch): 0.0167\n",
      "Batch 481 | Reject Differential (mean over batch): 0.0235\n",
      "Batch 481 | Reject Differential (mean over batch): 0.0365\n",
      "Batch 481 | Reject Differential (mean over batch): 0.0315\n"
     ]
    },
    {
     "name": "stderr",
     "output_type": "stream",
     "text": [
      " 77%|█████████████████████████████████████████████████████████████████████████████████████████████████████████████████████████████▉                                     | 483/625 [01:30<00:26,  5.36it/s]"
     ]
    },
    {
     "name": "stdout",
     "output_type": "stream",
     "text": [
      "Batch 482 | Reject Differential (mean over batch): 0.0191\n",
      "Batch 482 | Reject Differential (mean over batch): 0.0253\n",
      "Batch 482 | Reject Differential (mean over batch): 0.0213\n",
      "Batch 483 | Reject Differential (mean over batch): 0.0345\n"
     ]
    },
    {
     "name": "stderr",
     "output_type": "stream",
     "text": [
      " 77%|██████████████████████████████████████████████████████████████████████████████████████████████████████████████████████████████▏                                    | 484/625 [01:30<00:26,  5.37it/s]"
     ]
    },
    {
     "name": "stdout",
     "output_type": "stream",
     "text": [
      "Batch 483 | Reject Differential (mean over batch): 0.0330\n",
      "Batch 483 | Reject Differential (mean over batch): 0.0318\n",
      "Batch 484 | Reject Differential (mean over batch): 0.0254\n",
      "Batch 484 | Reject Differential (mean over batch): 0.0445\n"
     ]
    },
    {
     "name": "stderr",
     "output_type": "stream",
     "text": [
      " 78%|██████████████████████████████████████████████████████████████████████████████████████████████████████████████████████████████▋                                    | 486/625 [01:30<00:26,  5.25it/s]"
     ]
    },
    {
     "name": "stdout",
     "output_type": "stream",
     "text": [
      "Batch 484 | Reject Differential (mean over batch): 0.0377\n",
      "Batch 485 | Reject Differential (mean over batch): 0.0436\n",
      "Batch 485 | Reject Differential (mean over batch): 0.0423\n",
      "Batch 485 | Reject Differential (mean over batch): 0.0341\n"
     ]
    },
    {
     "name": "stderr",
     "output_type": "stream",
     "text": [
      " 78%|███████████████████████████████████████████████████████████████████████████████████████████████████████████████████████████████                                    | 487/625 [01:30<00:25,  5.31it/s]"
     ]
    },
    {
     "name": "stdout",
     "output_type": "stream",
     "text": [
      "Batch 486 | Reject Differential (mean over batch): 0.0295\n",
      "Batch 486 | Reject Differential (mean over batch): 0.0325\n",
      "Batch 486 | Reject Differential (mean over batch): 0.0305\n",
      "Batch 487 | Reject Differential (mean over batch): 0.0328\n"
     ]
    },
    {
     "name": "stderr",
     "output_type": "stream",
     "text": [
      " 78%|███████████████████████████████████████████████████████████████████████████████████████████████████████████████████████████████▎                                   | 488/625 [01:31<00:25,  5.35it/s]"
     ]
    },
    {
     "name": "stdout",
     "output_type": "stream",
     "text": [
      "Batch 487 | Reject Differential (mean over batch): 0.0326\n",
      "Batch 487 | Reject Differential (mean over batch): 0.0221\n",
      "Batch 488 | Reject Differential (mean over batch): 0.0407\n",
      "Batch 488 | Reject Differential (mean over batch): 0.0319\n"
     ]
    },
    {
     "name": "stderr",
     "output_type": "stream",
     "text": [
      " 78%|███████████████████████████████████████████████████████████████████████████████████████████████████████████████████████████████▊                                   | 490/625 [01:31<00:25,  5.37it/s]"
     ]
    },
    {
     "name": "stdout",
     "output_type": "stream",
     "text": [
      "Batch 488 | Reject Differential (mean over batch): 0.0380\n",
      "Batch 489 | Reject Differential (mean over batch): 0.0358\n",
      "Batch 489 | Reject Differential (mean over batch): 0.0424\n",
      "Batch 489 | Reject Differential (mean over batch): 0.0397\n"
     ]
    },
    {
     "name": "stderr",
     "output_type": "stream",
     "text": [
      " 79%|████████████████████████████████████████████████████████████████████████████████████████████████████████████████████████████████                                   | 491/625 [01:31<00:24,  5.39it/s]"
     ]
    },
    {
     "name": "stdout",
     "output_type": "stream",
     "text": [
      "Batch 490 | Reject Differential (mean over batch): 0.0238\n",
      "Batch 490 | Reject Differential (mean over batch): 0.0251\n",
      "Batch 490 | Reject Differential (mean over batch): 0.0242\n",
      "Batch 491 | Reject Differential (mean over batch): 0.0310\n"
     ]
    },
    {
     "name": "stderr",
     "output_type": "stream",
     "text": [
      " 79%|████████████████████████████████████████████████████████████████████████████████████████████████████████████████████████████████▎                                  | 492/625 [01:31<00:24,  5.41it/s]"
     ]
    },
    {
     "name": "stdout",
     "output_type": "stream",
     "text": [
      "Batch 491 | Reject Differential (mean over batch): 0.0391\n",
      "Batch 491 | Reject Differential (mean over batch): 0.0326\n",
      "Batch 492 | Reject Differential (mean over batch): 0.0211\n",
      "Batch 492 | Reject Differential (mean over batch): 0.0285\n"
     ]
    },
    {
     "name": "stderr",
     "output_type": "stream",
     "text": [
      " 79%|████████████████████████████████████████████████████████████████████████████████████████████████████████████████████████████████▊                                  | 494/625 [01:32<00:24,  5.41it/s]"
     ]
    },
    {
     "name": "stdout",
     "output_type": "stream",
     "text": [
      "Batch 492 | Reject Differential (mean over batch): 0.0279\n",
      "Batch 493 | Reject Differential (mean over batch): 0.0357\n",
      "Batch 493 | Reject Differential (mean over batch): 0.0364\n",
      "Batch 493 | Reject Differential (mean over batch): 0.0312\n"
     ]
    },
    {
     "name": "stderr",
     "output_type": "stream",
     "text": [
      " 79%|█████████████████████████████████████████████████████████████████████████████████████████████████████████████████████████████████                                  | 495/625 [01:32<00:24,  5.40it/s]"
     ]
    },
    {
     "name": "stdout",
     "output_type": "stream",
     "text": [
      "Batch 494 | Reject Differential (mean over batch): 0.0308\n",
      "Batch 494 | Reject Differential (mean over batch): 0.0368\n",
      "Batch 494 | Reject Differential (mean over batch): 0.0203\n",
      "Batch 495 | Reject Differential (mean over batch): 0.0378\n"
     ]
    },
    {
     "name": "stderr",
     "output_type": "stream",
     "text": [
      " 79%|█████████████████████████████████████████████████████████████████████████████████████████████████████████████████████████████████▎                                 | 496/625 [01:32<00:23,  5.41it/s]"
     ]
    },
    {
     "name": "stdout",
     "output_type": "stream",
     "text": [
      "Batch 495 | Reject Differential (mean over batch): 0.0460\n",
      "Batch 495 | Reject Differential (mean over batch): 0.0249\n",
      "Batch 496 | Reject Differential (mean over batch): 0.0335\n",
      "Batch 496 | Reject Differential (mean over batch): 0.0437\n"
     ]
    },
    {
     "name": "stderr",
     "output_type": "stream",
     "text": [
      " 80%|█████████████████████████████████████████████████████████████████████████████████████████████████████████████████████████████████▉                                 | 498/625 [01:32<00:23,  5.43it/s]"
     ]
    },
    {
     "name": "stdout",
     "output_type": "stream",
     "text": [
      "Batch 496 | Reject Differential (mean over batch): 0.0265\n",
      "Batch 497 | Reject Differential (mean over batch): 0.0252\n",
      "Batch 497 | Reject Differential (mean over batch): 0.0412\n",
      "Batch 497 | Reject Differential (mean over batch): 0.0235\n"
     ]
    },
    {
     "name": "stderr",
     "output_type": "stream",
     "text": [
      " 80%|██████████████████████████████████████████████████████████████████████████████████████████████████████████████████████████████████▏                                | 499/625 [01:33<00:23,  5.41it/s]"
     ]
    },
    {
     "name": "stdout",
     "output_type": "stream",
     "text": [
      "Batch 498 | Reject Differential (mean over batch): 0.0400\n",
      "Batch 498 | Reject Differential (mean over batch): 0.0420\n",
      "Batch 498 | Reject Differential (mean over batch): 0.0269\n",
      "Batch 499 | Reject Differential (mean over batch): 0.0329\n"
     ]
    },
    {
     "name": "stderr",
     "output_type": "stream",
     "text": [
      " 80%|██████████████████████████████████████████████████████████████████████████████████████████████████████████████████████████████████▍                                | 500/625 [01:33<00:23,  5.41it/s]"
     ]
    },
    {
     "name": "stdout",
     "output_type": "stream",
     "text": [
      "Batch 499 | Reject Differential (mean over batch): 0.0372\n",
      "Batch 499 | Reject Differential (mean over batch): 0.0298\n",
      "Batch 500 | Reject Differential (mean over batch): 0.0330\n",
      "Batch 500 | Reject Differential (mean over batch): 0.0386\n"
     ]
    },
    {
     "name": "stderr",
     "output_type": "stream",
     "text": [
      " 80%|██████████████████████████████████████████████████████████████████████████████████████████████████████████████████████████████████▉                                | 502/625 [01:33<00:22,  5.41it/s]"
     ]
    },
    {
     "name": "stdout",
     "output_type": "stream",
     "text": [
      "Batch 500 | Reject Differential (mean over batch): 0.0334\n",
      "Batch 501 | Reject Differential (mean over batch): 0.0363\n",
      "Batch 501 | Reject Differential (mean over batch): 0.0378\n",
      "Batch 501 | Reject Differential (mean over batch): 0.0322\n"
     ]
    },
    {
     "name": "stderr",
     "output_type": "stream",
     "text": [
      " 80%|███████████████████████████████████████████████████████████████████████████████████████████████████████████████████████████████████▏                               | 503/625 [01:33<00:22,  5.40it/s]"
     ]
    },
    {
     "name": "stdout",
     "output_type": "stream",
     "text": [
      "Batch 502 | Reject Differential (mean over batch): 0.0319\n",
      "Batch 502 | Reject Differential (mean over batch): 0.0403\n",
      "Batch 502 | Reject Differential (mean over batch): 0.0282\n",
      "Batch 503 | Reject Differential (mean over batch): 0.0306\n"
     ]
    },
    {
     "name": "stderr",
     "output_type": "stream",
     "text": [
      " 81%|███████████████████████████████████████████████████████████████████████████████████████████████████████████████████████████████████▍                               | 504/625 [01:34<00:22,  5.40it/s]"
     ]
    },
    {
     "name": "stdout",
     "output_type": "stream",
     "text": [
      "Batch 503 | Reject Differential (mean over batch): 0.0342\n",
      "Batch 503 | Reject Differential (mean over batch): 0.0270\n",
      "Batch 504 | Reject Differential (mean over batch): 0.0257\n",
      "Batch 504 | Reject Differential (mean over batch): 0.0360\n"
     ]
    },
    {
     "name": "stderr",
     "output_type": "stream",
     "text": [
      " 81%|███████████████████████████████████████████████████████████████████████████████████████████████████████████████████████████████████▉                               | 506/625 [01:34<00:22,  5.40it/s]"
     ]
    },
    {
     "name": "stdout",
     "output_type": "stream",
     "text": [
      "Batch 504 | Reject Differential (mean over batch): 0.0227\n",
      "Batch 505 | Reject Differential (mean over batch): 0.0242\n",
      "Batch 505 | Reject Differential (mean over batch): 0.0305\n",
      "Batch 505 | Reject Differential (mean over batch): 0.0280\n"
     ]
    },
    {
     "name": "stderr",
     "output_type": "stream",
     "text": [
      " 81%|████████████████████████████████████████████████████████████████████████████████████████████████████████████████████████████████████▏                              | 507/625 [01:34<00:21,  5.42it/s]"
     ]
    },
    {
     "name": "stdout",
     "output_type": "stream",
     "text": [
      "Batch 506 | Reject Differential (mean over batch): 0.0197\n",
      "Batch 506 | Reject Differential (mean over batch): 0.0324\n",
      "Batch 506 | Reject Differential (mean over batch): 0.0400\n",
      "Batch 507 | Reject Differential (mean over batch): 0.0239\n"
     ]
    },
    {
     "name": "stderr",
     "output_type": "stream",
     "text": [
      " 81%|████████████████████████████████████████████████████████████████████████████████████████████████████████████████████████████████████▍                              | 508/625 [01:34<00:21,  5.42it/s]"
     ]
    },
    {
     "name": "stdout",
     "output_type": "stream",
     "text": [
      "Batch 507 | Reject Differential (mean over batch): 0.0370\n",
      "Batch 507 | Reject Differential (mean over batch): 0.0247\n",
      "Batch 508 | Reject Differential (mean over batch): 0.0355\n"
     ]
    },
    {
     "name": "stderr",
     "output_type": "stream",
     "text": [
      " 81%|████████████████████████████████████████████████████████████████████████████████████████████████████████████████████████████████████▋                              | 509/625 [01:34<00:21,  5.28it/s]"
     ]
    },
    {
     "name": "stdout",
     "output_type": "stream",
     "text": [
      "Batch 508 | Reject Differential (mean over batch): 0.0386\n",
      "Batch 508 | Reject Differential (mean over batch): 0.0330\n",
      "Batch 509 | Reject Differential (mean over batch): 0.0327\n",
      "Batch 509 | Reject Differential (mean over batch): 0.0439\n"
     ]
    },
    {
     "name": "stderr",
     "output_type": "stream",
     "text": [
      " 82%|█████████████████████████████████████████████████████████████████████████████████████████████████████████████████████████████████████▎                             | 511/625 [01:35<00:21,  5.36it/s]"
     ]
    },
    {
     "name": "stdout",
     "output_type": "stream",
     "text": [
      "Batch 509 | Reject Differential (mean over batch): 0.0404\n",
      "Batch 510 | Reject Differential (mean over batch): 0.0000\n",
      "Batch 510 | Reject Differential (mean over batch): 0.0379\n",
      "Batch 510 | Reject Differential (mean over batch): 0.0270\n"
     ]
    },
    {
     "name": "stderr",
     "output_type": "stream",
     "text": [
      " 82%|█████████████████████████████████████████████████████████████████████████████████████████████████████████████████████████████████████▌                             | 512/625 [01:35<00:21,  5.37it/s]"
     ]
    },
    {
     "name": "stdout",
     "output_type": "stream",
     "text": [
      "Batch 511 | Reject Differential (mean over batch): 0.0234\n",
      "Batch 511 | Reject Differential (mean over batch): 0.0384\n",
      "Batch 511 | Reject Differential (mean over batch): 0.0343\n",
      "Batch 512 | Reject Differential (mean over batch): 0.0251\n"
     ]
    },
    {
     "name": "stderr",
     "output_type": "stream",
     "text": [
      " 82%|█████████████████████████████████████████████████████████████████████████████████████████████████████████████████████████████████████▊                             | 513/625 [01:35<00:20,  5.40it/s]"
     ]
    },
    {
     "name": "stdout",
     "output_type": "stream",
     "text": [
      "Batch 512 | Reject Differential (mean over batch): 0.0412\n",
      "Batch 512 | Reject Differential (mean over batch): 0.0261\n",
      "Batch 513 | Reject Differential (mean over batch): 0.0325\n",
      "Batch 513 | Reject Differential (mean over batch): 0.0431\n"
     ]
    },
    {
     "name": "stderr",
     "output_type": "stream",
     "text": [
      " 82%|██████████████████████████████████████████████████████████████████████████████████████████████████████████████████████████████████████▎                            | 515/625 [01:36<00:20,  5.41it/s]"
     ]
    },
    {
     "name": "stdout",
     "output_type": "stream",
     "text": [
      "Batch 513 | Reject Differential (mean over batch): 0.0291\n",
      "Batch 514 | Reject Differential (mean over batch): 0.0290\n",
      "Batch 514 | Reject Differential (mean over batch): 0.0451\n",
      "Batch 514 | Reject Differential (mean over batch): 0.0290\n"
     ]
    },
    {
     "name": "stderr",
     "output_type": "stream",
     "text": [
      " 83%|██████████████████████████████████████████████████████████████████████████████████████████████████████████████████████████████████████▌                            | 516/625 [01:36<00:20,  5.39it/s]"
     ]
    },
    {
     "name": "stdout",
     "output_type": "stream",
     "text": [
      "Batch 515 | Reject Differential (mean over batch): 0.0348\n",
      "Batch 515 | Reject Differential (mean over batch): 0.0285\n",
      "Batch 515 | Reject Differential (mean over batch): 0.0323\n",
      "Batch 516 | Reject Differential (mean over batch): 0.0000\n"
     ]
    },
    {
     "name": "stderr",
     "output_type": "stream",
     "text": [
      " 83%|██████████████████████████████████████████████████████████████████████████████████████████████████████████████████████████████████████▊                            | 517/625 [01:36<00:20,  5.39it/s]"
     ]
    },
    {
     "name": "stdout",
     "output_type": "stream",
     "text": [
      "Batch 516 | Reject Differential (mean over batch): 0.0237\n",
      "Batch 516 | Reject Differential (mean over batch): 0.0210\n",
      "Batch 517 | Reject Differential (mean over batch): 0.0316\n",
      "Batch 517 | Reject Differential (mean over batch): 0.0288\n"
     ]
    },
    {
     "name": "stderr",
     "output_type": "stream",
     "text": [
      " 83%|███████████████████████████████████████████████████████████████████████████████████████████████████████████████████████████████████████▎                           | 519/625 [01:36<00:20,  5.29it/s]"
     ]
    },
    {
     "name": "stdout",
     "output_type": "stream",
     "text": [
      "Batch 517 | Reject Differential (mean over batch): 0.0189\n",
      "Batch 518 | Reject Differential (mean over batch): 0.0325\n",
      "Batch 518 | Reject Differential (mean over batch): 0.0349\n",
      "Batch 518 | Reject Differential (mean over batch): 0.0216\n"
     ]
    },
    {
     "name": "stderr",
     "output_type": "stream",
     "text": [
      " 83%|███████████████████████████████████████████████████████████████████████████████████████████████████████████████████████████████████████▌                           | 520/625 [01:37<00:19,  5.31it/s]"
     ]
    },
    {
     "name": "stdout",
     "output_type": "stream",
     "text": [
      "Batch 519 | Reject Differential (mean over batch): 0.0321\n",
      "Batch 519 | Reject Differential (mean over batch): 0.0373\n",
      "Batch 519 | Reject Differential (mean over batch): 0.0330\n",
      "Batch 520 | Reject Differential (mean over batch): 0.0212\n"
     ]
    },
    {
     "name": "stderr",
     "output_type": "stream",
     "text": [
      " 83%|███████████████████████████████████████████████████████████████████████████████████████████████████████████████████████████████████████▉                           | 521/625 [01:37<00:19,  5.35it/s]"
     ]
    },
    {
     "name": "stdout",
     "output_type": "stream",
     "text": [
      "Batch 520 | Reject Differential (mean over batch): 0.0289\n",
      "Batch 520 | Reject Differential (mean over batch): 0.0167\n",
      "Batch 521 | Reject Differential (mean over batch): 0.0341\n",
      "Batch 521 | Reject Differential (mean over batch): 0.0394\n"
     ]
    },
    {
     "name": "stderr",
     "output_type": "stream",
     "text": [
      " 84%|████████████████████████████████████████████████████████████████████████████████████████████████████████████████████████████████████████▍                          | 523/625 [01:37<00:18,  5.38it/s]"
     ]
    },
    {
     "name": "stdout",
     "output_type": "stream",
     "text": [
      "Batch 521 | Reject Differential (mean over batch): 0.0373\n",
      "Batch 522 | Reject Differential (mean over batch): 0.0327\n",
      "Batch 522 | Reject Differential (mean over batch): 0.0378\n",
      "Batch 522 | Reject Differential (mean over batch): 0.0265\n"
     ]
    },
    {
     "name": "stderr",
     "output_type": "stream",
     "text": [
      " 84%|████████████████████████████████████████████████████████████████████████████████████████████████████████████████████████████████████████▋                          | 524/625 [01:37<00:18,  5.39it/s]"
     ]
    },
    {
     "name": "stdout",
     "output_type": "stream",
     "text": [
      "Batch 523 | Reject Differential (mean over batch): 0.0405\n",
      "Batch 523 | Reject Differential (mean over batch): 0.0537\n",
      "Batch 523 | Reject Differential (mean over batch): 0.0398\n",
      "Batch 524 | Reject Differential (mean over batch): 0.0304\n"
     ]
    },
    {
     "name": "stderr",
     "output_type": "stream",
     "text": [
      " 84%|████████████████████████████████████████████████████████████████████████████████████████████████████████████████████████████████████████▉                          | 525/625 [01:37<00:18,  5.39it/s]"
     ]
    },
    {
     "name": "stdout",
     "output_type": "stream",
     "text": [
      "Batch 524 | Reject Differential (mean over batch): 0.0314\n",
      "Batch 524 | Reject Differential (mean over batch): 0.0334\n",
      "Batch 525 | Reject Differential (mean over batch): 0.0344\n",
      "Batch 525 | Reject Differential (mean over batch): 0.0321\n"
     ]
    },
    {
     "name": "stderr",
     "output_type": "stream",
     "text": [
      " 84%|█████████████████████████████████████████████████████████████████████████████████████████████████████████████████████████████████████████▍                         | 527/625 [01:38<00:18,  5.43it/s]"
     ]
    },
    {
     "name": "stdout",
     "output_type": "stream",
     "text": [
      "Batch 525 | Reject Differential (mean over batch): 0.0366\n",
      "Batch 526 | Reject Differential (mean over batch): 0.0257\n",
      "Batch 526 | Reject Differential (mean over batch): 0.0449\n",
      "Batch 526 | Reject Differential (mean over batch): 0.0288\n"
     ]
    },
    {
     "name": "stderr",
     "output_type": "stream",
     "text": [
      " 84%|█████████████████████████████████████████████████████████████████████████████████████████████████████████████████████████████████████████▋                         | 528/625 [01:38<00:17,  5.43it/s]"
     ]
    },
    {
     "name": "stdout",
     "output_type": "stream",
     "text": [
      "Batch 527 | Reject Differential (mean over batch): 0.0287\n",
      "Batch 527 | Reject Differential (mean over batch): 0.0452\n",
      "Batch 527 | Reject Differential (mean over batch): 0.0389\n",
      "Batch 528 | Reject Differential (mean over batch): 0.0286\n"
     ]
    },
    {
     "name": "stderr",
     "output_type": "stream",
     "text": [
      " 85%|█████████████████████████████████████████████████████████████████████████████████████████████████████████████████████████████████████████▉                         | 529/625 [01:38<00:17,  5.44it/s]"
     ]
    },
    {
     "name": "stdout",
     "output_type": "stream",
     "text": [
      "Batch 528 | Reject Differential (mean over batch): 0.0349\n",
      "Batch 528 | Reject Differential (mean over batch): 0.0275\n",
      "Batch 529 | Reject Differential (mean over batch): 0.0213\n",
      "Batch 529 | Reject Differential (mean over batch): 0.0418\n"
     ]
    },
    {
     "name": "stderr",
     "output_type": "stream",
     "text": [
      " 85%|██████████████████████████████████████████████████████████████████████████████████████████████████████████████████████████████████████████▍                        | 531/625 [01:39<00:17,  5.45it/s]"
     ]
    },
    {
     "name": "stdout",
     "output_type": "stream",
     "text": [
      "Batch 529 | Reject Differential (mean over batch): 0.0274\n",
      "Batch 530 | Reject Differential (mean over batch): 0.0384\n",
      "Batch 530 | Reject Differential (mean over batch): 0.0325\n",
      "Batch 530 | Reject Differential (mean over batch): 0.0221\n"
     ]
    },
    {
     "name": "stderr",
     "output_type": "stream",
     "text": [
      " 85%|██████████████████████████████████████████████████████████████████████████████████████████████████████████████████████████████████████████▋                        | 532/625 [01:39<00:17,  5.44it/s]"
     ]
    },
    {
     "name": "stdout",
     "output_type": "stream",
     "text": [
      "Batch 531 | Reject Differential (mean over batch): 0.0188\n",
      "Batch 531 | Reject Differential (mean over batch): 0.0460\n",
      "Batch 531 | Reject Differential (mean over batch): 0.0237\n",
      "Batch 532 | Reject Differential (mean over batch): 0.0372\n"
     ]
    },
    {
     "name": "stderr",
     "output_type": "stream",
     "text": [
      " 85%|███████████████████████████████████████████████████████████████████████████████████████████████████████████████████████████████████████████                        | 533/625 [01:39<00:16,  5.43it/s]"
     ]
    },
    {
     "name": "stdout",
     "output_type": "stream",
     "text": [
      "Batch 532 | Reject Differential (mean over batch): 0.0264\n",
      "Batch 532 | Reject Differential (mean over batch): 0.0314\n",
      "Batch 533 | Reject Differential (mean over batch): 0.0310\n",
      "Batch 533 | Reject Differential (mean over batch): 0.0453\n"
     ]
    },
    {
     "name": "stderr",
     "output_type": "stream",
     "text": [
      " 86%|███████████████████████████████████████████████████████████████████████████████████████████████████████████████████████████████████████████▌                       | 535/625 [01:39<00:16,  5.46it/s]"
     ]
    },
    {
     "name": "stdout",
     "output_type": "stream",
     "text": [
      "Batch 533 | Reject Differential (mean over batch): 0.0318\n",
      "Batch 534 | Reject Differential (mean over batch): 0.0309\n",
      "Batch 534 | Reject Differential (mean over batch): 0.0435\n",
      "Batch 534 | Reject Differential (mean over batch): 0.0370\n"
     ]
    },
    {
     "name": "stderr",
     "output_type": "stream",
     "text": [
      " 86%|███████████████████████████████████████████████████████████████████████████████████████████████████████████████████████████████████████████▊                       | 536/625 [01:39<00:16,  5.44it/s]"
     ]
    },
    {
     "name": "stdout",
     "output_type": "stream",
     "text": [
      "Batch 535 | Reject Differential (mean over batch): 0.0305\n",
      "Batch 535 | Reject Differential (mean over batch): 0.0394\n",
      "Batch 535 | Reject Differential (mean over batch): 0.0261\n",
      "Batch 536 | Reject Differential (mean over batch): 0.0386\n"
     ]
    },
    {
     "name": "stderr",
     "output_type": "stream",
     "text": [
      " 86%|████████████████████████████████████████████████████████████████████████████████████████████████████████████████████████████████████████████                       | 537/625 [01:40<00:16,  5.42it/s]"
     ]
    },
    {
     "name": "stdout",
     "output_type": "stream",
     "text": [
      "Batch 536 | Reject Differential (mean over batch): 0.0304\n",
      "Batch 536 | Reject Differential (mean over batch): 0.0199\n",
      "Batch 537 | Reject Differential (mean over batch): 0.0309\n",
      "Batch 537 | Reject Differential (mean over batch): 0.0345\n"
     ]
    },
    {
     "name": "stderr",
     "output_type": "stream",
     "text": [
      " 86%|████████████████████████████████████████████████████████████████████████████████████████████████████████████████████████████████████████████▌                      | 539/625 [01:40<00:15,  5.43it/s]"
     ]
    },
    {
     "name": "stdout",
     "output_type": "stream",
     "text": [
      "Batch 537 | Reject Differential (mean over batch): 0.0232\n",
      "Batch 538 | Reject Differential (mean over batch): 0.0276\n",
      "Batch 538 | Reject Differential (mean over batch): 0.0266\n",
      "Batch 538 | Reject Differential (mean over batch): 0.0231\n"
     ]
    },
    {
     "name": "stderr",
     "output_type": "stream",
     "text": [
      " 86%|████████████████████████████████████████████████████████████████████████████████████████████████████████████████████████████████████████████▊                      | 540/625 [01:40<00:15,  5.41it/s]"
     ]
    },
    {
     "name": "stdout",
     "output_type": "stream",
     "text": [
      "Batch 539 | Reject Differential (mean over batch): 0.0368\n",
      "Batch 539 | Reject Differential (mean over batch): 0.0423\n",
      "Batch 539 | Reject Differential (mean over batch): 0.0351\n",
      "Batch 540 | Reject Differential (mean over batch): 0.0304\n"
     ]
    },
    {
     "name": "stderr",
     "output_type": "stream",
     "text": [
      " 87%|█████████████████████████████████████████████████████████████████████████████████████████████████████████████████████████████████████████████                      | 541/625 [01:40<00:15,  5.42it/s]"
     ]
    },
    {
     "name": "stdout",
     "output_type": "stream",
     "text": [
      "Batch 540 | Reject Differential (mean over batch): 0.0258\n",
      "Batch 540 | Reject Differential (mean over batch): 0.0273\n",
      "Batch 541 | Reject Differential (mean over batch): 0.0249\n",
      "Batch 541 | Reject Differential (mean over batch): 0.0254\n"
     ]
    },
    {
     "name": "stderr",
     "output_type": "stream",
     "text": [
      " 87%|█████████████████████████████████████████████████████████████████████████████████████████████████████████████████████████████████████████████▌                     | 543/625 [01:41<00:15,  5.41it/s]"
     ]
    },
    {
     "name": "stdout",
     "output_type": "stream",
     "text": [
      "Batch 541 | Reject Differential (mean over batch): 0.0296\n",
      "Batch 542 | Reject Differential (mean over batch): 0.0278\n",
      "Batch 542 | Reject Differential (mean over batch): 0.0178\n",
      "Batch 542 | Reject Differential (mean over batch): 0.0211\n"
     ]
    },
    {
     "name": "stderr",
     "output_type": "stream",
     "text": [
      " 87%|█████████████████████████████████████████████████████████████████████████████████████████████████████████████████████████████████████████████▉                     | 544/625 [01:41<00:15,  5.40it/s]"
     ]
    },
    {
     "name": "stdout",
     "output_type": "stream",
     "text": [
      "Batch 543 | Reject Differential (mean over batch): 0.0213\n",
      "Batch 543 | Reject Differential (mean over batch): 0.0303\n",
      "Batch 543 | Reject Differential (mean over batch): 0.0264\n",
      "Batch 544 | Reject Differential (mean over batch): 0.0241\n"
     ]
    },
    {
     "name": "stderr",
     "output_type": "stream",
     "text": [
      " 87%|██████████████████████████████████████████████████████████████████████████████████████████████████████████████████████████████████████████████▏                    | 545/625 [01:41<00:14,  5.40it/s]"
     ]
    },
    {
     "name": "stdout",
     "output_type": "stream",
     "text": [
      "Batch 544 | Reject Differential (mean over batch): 0.0305\n",
      "Batch 544 | Reject Differential (mean over batch): 0.0238\n",
      "Batch 545 | Reject Differential (mean over batch): 0.0000\n",
      "Batch 545 | Reject Differential (mean over batch): 0.0394\n"
     ]
    },
    {
     "name": "stderr",
     "output_type": "stream",
     "text": [
      " 88%|██████████████████████████████████████████████████████████████████████████████████████████████████████████████████████████████████████████████▋                    | 547/625 [01:42<00:14,  5.41it/s]"
     ]
    },
    {
     "name": "stdout",
     "output_type": "stream",
     "text": [
      "Batch 545 | Reject Differential (mean over batch): 0.0211\n",
      "Batch 546 | Reject Differential (mean over batch): 0.0273\n",
      "Batch 546 | Reject Differential (mean over batch): 0.0400\n",
      "Batch 546 | Reject Differential (mean over batch): 0.0267\n"
     ]
    },
    {
     "name": "stderr",
     "output_type": "stream",
     "text": [
      " 88%|██████████████████████████████████████████████████████████████████████████████████████████████████████████████████████████████████████████████▉                    | 548/625 [01:42<00:14,  5.42it/s]"
     ]
    },
    {
     "name": "stdout",
     "output_type": "stream",
     "text": [
      "Batch 547 | Reject Differential (mean over batch): 0.0367\n",
      "Batch 547 | Reject Differential (mean over batch): 0.0490\n",
      "Batch 547 | Reject Differential (mean over batch): 0.0240\n",
      "Batch 548 | Reject Differential (mean over batch): 0.0246\n"
     ]
    },
    {
     "name": "stderr",
     "output_type": "stream",
     "text": [
      " 88%|███████████████████████████████████████████████████████████████████████████████████████████████████████████████████████████████████████████████▏                   | 549/625 [01:42<00:13,  5.44it/s]"
     ]
    },
    {
     "name": "stdout",
     "output_type": "stream",
     "text": [
      "Batch 548 | Reject Differential (mean over batch): 0.0414\n",
      "Batch 548 | Reject Differential (mean over batch): 0.0320\n",
      "Batch 549 | Reject Differential (mean over batch): 0.0000\n",
      "Batch 549 | Reject Differential (mean over batch): 0.0469\n"
     ]
    },
    {
     "name": "stderr",
     "output_type": "stream",
     "text": [
      " 88%|███████████████████████████████████████████████████████████████████████████████████████████████████████████████████████████████████████████████▋                   | 551/625 [01:42<00:13,  5.44it/s]"
     ]
    },
    {
     "name": "stdout",
     "output_type": "stream",
     "text": [
      "Batch 549 | Reject Differential (mean over batch): 0.0322\n",
      "Batch 550 | Reject Differential (mean over batch): 0.0354\n",
      "Batch 550 | Reject Differential (mean over batch): 0.0421\n",
      "Batch 550 | Reject Differential (mean over batch): 0.0291\n"
     ]
    },
    {
     "name": "stderr",
     "output_type": "stream",
     "text": [
      " 88%|███████████████████████████████████████████████████████████████████████████████████████████████████████████████████████████████████████████████▉                   | 552/625 [01:42<00:13,  5.42it/s]"
     ]
    },
    {
     "name": "stdout",
     "output_type": "stream",
     "text": [
      "Batch 551 | Reject Differential (mean over batch): 0.0245\n",
      "Batch 551 | Reject Differential (mean over batch): 0.0352\n",
      "Batch 551 | Reject Differential (mean over batch): 0.0296\n",
      "Batch 552 | Reject Differential (mean over batch): 0.0349\n"
     ]
    },
    {
     "name": "stderr",
     "output_type": "stream",
     "text": [
      " 88%|████████████████████████████████████████████████████████████████████████████████████████████████████████████████████████████████████████████████▏                  | 553/625 [01:43<00:13,  5.32it/s]"
     ]
    },
    {
     "name": "stdout",
     "output_type": "stream",
     "text": [
      "Batch 552 | Reject Differential (mean over batch): 0.0531\n",
      "Batch 552 | Reject Differential (mean over batch): 0.0324\n",
      "Batch 553 | Reject Differential (mean over batch): 0.0393\n",
      "Batch 553 | Reject Differential (mean over batch): 0.0413\n"
     ]
    },
    {
     "name": "stderr",
     "output_type": "stream",
     "text": [
      " 89%|████████████████████████████████████████████████████████████████████████████████████████████████████████████████████████████████████████████████▋                  | 555/625 [01:43<00:13,  5.36it/s]"
     ]
    },
    {
     "name": "stdout",
     "output_type": "stream",
     "text": [
      "Batch 553 | Reject Differential (mean over batch): 0.0288\n",
      "Batch 554 | Reject Differential (mean over batch): 0.0425\n",
      "Batch 554 | Reject Differential (mean over batch): 0.0524\n",
      "Batch 554 | Reject Differential (mean over batch): 0.0262\n"
     ]
    },
    {
     "name": "stderr",
     "output_type": "stream",
     "text": [
      " 89%|█████████████████████████████████████████████████████████████████████████████████████████████████████████████████████████████████████████████████                  | 556/625 [01:43<00:12,  5.38it/s]"
     ]
    },
    {
     "name": "stdout",
     "output_type": "stream",
     "text": [
      "Batch 555 | Reject Differential (mean over batch): 0.0191\n",
      "Batch 555 | Reject Differential (mean over batch): 0.0465\n",
      "Batch 555 | Reject Differential (mean over batch): 0.0288\n",
      "Batch 556 | Reject Differential (mean over batch): 0.0262\n"
     ]
    },
    {
     "name": "stderr",
     "output_type": "stream",
     "text": [
      " 89%|█████████████████████████████████████████████████████████████████████████████████████████████████████████████████████████████████████████████████▎                 | 557/625 [01:43<00:12,  5.37it/s]"
     ]
    },
    {
     "name": "stdout",
     "output_type": "stream",
     "text": [
      "Batch 556 | Reject Differential (mean over batch): 0.0268\n",
      "Batch 556 | Reject Differential (mean over batch): 0.0254\n",
      "Batch 557 | Reject Differential (mean over batch): 0.0284\n",
      "Batch 557 | Reject Differential (mean over batch): 0.0399\n"
     ]
    },
    {
     "name": "stderr",
     "output_type": "stream",
     "text": [
      " 89%|█████████████████████████████████████████████████████████████████████████████████████████████████████████████████████████████████████████████████▊                 | 559/625 [01:44<00:12,  5.37it/s]"
     ]
    },
    {
     "name": "stdout",
     "output_type": "stream",
     "text": [
      "Batch 557 | Reject Differential (mean over batch): 0.0260\n",
      "Batch 558 | Reject Differential (mean over batch): 0.0231\n",
      "Batch 558 | Reject Differential (mean over batch): 0.0324\n",
      "Batch 558 | Reject Differential (mean over batch): 0.0253\n"
     ]
    },
    {
     "name": "stderr",
     "output_type": "stream",
     "text": [
      " 90%|██████████████████████████████████████████████████████████████████████████████████████████████████████████████████████████████████████████████████                 | 560/625 [01:44<00:12,  5.36it/s]"
     ]
    },
    {
     "name": "stdout",
     "output_type": "stream",
     "text": [
      "Batch 559 | Reject Differential (mean over batch): 0.0364\n",
      "Batch 559 | Reject Differential (mean over batch): 0.0355\n",
      "Batch 559 | Reject Differential (mean over batch): 0.0356\n",
      "Batch 560 | Reject Differential (mean over batch): 0.0213\n"
     ]
    },
    {
     "name": "stderr",
     "output_type": "stream",
     "text": [
      " 90%|██████████████████████████████████████████████████████████████████████████████████████████████████████████████████████████████████████████████████▎                | 561/625 [01:44<00:11,  5.36it/s]"
     ]
    },
    {
     "name": "stdout",
     "output_type": "stream",
     "text": [
      "Batch 560 | Reject Differential (mean over batch): 0.0286\n",
      "Batch 560 | Reject Differential (mean over batch): 0.0213\n",
      "Batch 561 | Reject Differential (mean over batch): 0.0344\n",
      "Batch 561 | Reject Differential (mean over batch): 0.0279\n"
     ]
    },
    {
     "name": "stderr",
     "output_type": "stream",
     "text": [
      " 90%|██████████████████████████████████████████████████████████████████████████████████████████████████████████████████████████████████████████████████▊                | 563/625 [01:45<00:11,  5.18it/s]"
     ]
    },
    {
     "name": "stdout",
     "output_type": "stream",
     "text": [
      "Batch 561 | Reject Differential (mean over batch): 0.0318\n",
      "Batch 562 | Reject Differential (mean over batch): 0.0334\n",
      "Batch 562 | Reject Differential (mean over batch): 0.0348\n",
      "Batch 562 | Reject Differential (mean over batch): 0.0363\n"
     ]
    },
    {
     "name": "stderr",
     "output_type": "stream",
     "text": [
      " 90%|███████████████████████████████████████████████████████████████████████████████████████████████████████████████████████████████████████████████████                | 564/625 [01:45<00:11,  5.20it/s]"
     ]
    },
    {
     "name": "stdout",
     "output_type": "stream",
     "text": [
      "Batch 563 | Reject Differential (mean over batch): 0.0302\n",
      "Batch 563 | Reject Differential (mean over batch): 0.0317\n",
      "Batch 563 | Reject Differential (mean over batch): 0.0144\n",
      "Batch 564 | Reject Differential (mean over batch): 0.0211\n"
     ]
    },
    {
     "name": "stderr",
     "output_type": "stream",
     "text": [
      " 90%|███████████████████████████████████████████████████████████████████████████████████████████████████████████████████████████████████████████████████▎               | 565/625 [01:45<00:11,  5.21it/s]"
     ]
    },
    {
     "name": "stdout",
     "output_type": "stream",
     "text": [
      "Batch 564 | Reject Differential (mean over batch): 0.0383\n",
      "Batch 564 | Reject Differential (mean over batch): 0.0295\n",
      "Batch 565 | Reject Differential (mean over batch): 0.0140\n",
      "Batch 565 | Reject Differential (mean over batch): 0.0416\n"
     ]
    },
    {
     "name": "stderr",
     "output_type": "stream",
     "text": [
      " 91%|███████████████████████████████████████████████████████████████████████████████████████████████████████████████████████████████████████████████████▊               | 567/625 [01:45<00:11,  5.26it/s]"
     ]
    },
    {
     "name": "stdout",
     "output_type": "stream",
     "text": [
      "Batch 565 | Reject Differential (mean over batch): 0.0310\n",
      "Batch 566 | Reject Differential (mean over batch): 0.0206\n",
      "Batch 566 | Reject Differential (mean over batch): 0.0397\n",
      "Batch 566 | Reject Differential (mean over batch): 0.0258\n"
     ]
    },
    {
     "name": "stderr",
     "output_type": "stream",
     "text": [
      " 91%|████████████████████████████████████████████████████████████████████████████████████████████████████████████████████████████████████████████████████▏              | 568/625 [01:45<00:10,  5.27it/s]"
     ]
    },
    {
     "name": "stdout",
     "output_type": "stream",
     "text": [
      "Batch 567 | Reject Differential (mean over batch): 0.0188\n",
      "Batch 567 | Reject Differential (mean over batch): 0.0359\n",
      "Batch 567 | Reject Differential (mean over batch): 0.0336\n",
      "Batch 568 | Reject Differential (mean over batch): 0.0326\n"
     ]
    },
    {
     "name": "stderr",
     "output_type": "stream",
     "text": [
      " 91%|████████████████████████████████████████████████████████████████████████████████████████████████████████████████████████████████████████████████████▍              | 569/625 [01:46<00:10,  5.34it/s]"
     ]
    },
    {
     "name": "stdout",
     "output_type": "stream",
     "text": [
      "Batch 568 | Reject Differential (mean over batch): 0.0501\n",
      "Batch 568 | Reject Differential (mean over batch): 0.0295\n",
      "Batch 569 | Reject Differential (mean over batch): 0.0293\n",
      "Batch 569 | Reject Differential (mean over batch): 0.0418\n"
     ]
    },
    {
     "name": "stderr",
     "output_type": "stream",
     "text": [
      " 91%|████████████████████████████████████████████████████████████████████████████████████████████████████████████████████████████████████████████████████▉              | 571/625 [01:46<00:09,  5.41it/s]"
     ]
    },
    {
     "name": "stdout",
     "output_type": "stream",
     "text": [
      "Batch 569 | Reject Differential (mean over batch): 0.0316\n",
      "Batch 570 | Reject Differential (mean over batch): 0.0319\n",
      "Batch 570 | Reject Differential (mean over batch): 0.0307\n",
      "Batch 570 | Reject Differential (mean over batch): 0.0234\n"
     ]
    },
    {
     "name": "stderr",
     "output_type": "stream",
     "text": [
      " 92%|█████████████████████████████████████████████████████████████████████████████████████████████████████████████████████████████████████████████████████▏             | 572/625 [01:46<00:09,  5.45it/s]"
     ]
    },
    {
     "name": "stdout",
     "output_type": "stream",
     "text": [
      "Batch 571 | Reject Differential (mean over batch): 0.0333\n",
      "Batch 571 | Reject Differential (mean over batch): 0.0382\n",
      "Batch 571 | Reject Differential (mean over batch): 0.0323\n",
      "Batch 572 | Reject Differential (mean over batch): 0.0381\n"
     ]
    },
    {
     "name": "stderr",
     "output_type": "stream",
     "text": [
      " 92%|█████████████████████████████████████████████████████████████████████████████████████████████████████████████████████████████████████████████████████▍             | 573/625 [01:46<00:09,  5.48it/s]"
     ]
    },
    {
     "name": "stdout",
     "output_type": "stream",
     "text": [
      "Batch 572 | Reject Differential (mean over batch): 0.0420\n",
      "Batch 572 | Reject Differential (mean over batch): 0.0363\n",
      "Batch 573 | Reject Differential (mean over batch): 0.0232\n",
      "Batch 573 | Reject Differential (mean over batch): 0.0282\n"
     ]
    },
    {
     "name": "stderr",
     "output_type": "stream",
     "text": [
      " 92%|█████████████████████████████████████████████████████████████████████████████████████████████████████████████████████████████████████████████████████▉             | 575/625 [01:47<00:09,  5.49it/s]"
     ]
    },
    {
     "name": "stdout",
     "output_type": "stream",
     "text": [
      "Batch 573 | Reject Differential (mean over batch): 0.0324\n",
      "Batch 574 | Reject Differential (mean over batch): 0.0238\n",
      "Batch 574 | Reject Differential (mean over batch): 0.0343\n",
      "Batch 574 | Reject Differential (mean over batch): 0.0273\n"
     ]
    },
    {
     "name": "stderr",
     "output_type": "stream",
     "text": [
      " 92%|██████████████████████████████████████████████████████████████████████████████████████████████████████████████████████████████████████████████████████▏            | 576/625 [01:47<00:08,  5.51it/s]"
     ]
    },
    {
     "name": "stdout",
     "output_type": "stream",
     "text": [
      "Batch 575 | Reject Differential (mean over batch): 0.0433\n",
      "Batch 575 | Reject Differential (mean over batch): 0.0417\n",
      "Batch 575 | Reject Differential (mean over batch): 0.0332\n",
      "Batch 576 | Reject Differential (mean over batch): 0.0239\n"
     ]
    },
    {
     "name": "stderr",
     "output_type": "stream",
     "text": [
      " 92%|██████████████████████████████████████████████████████████████████████████████████████████████████████████████████████████████████████████████████████▍            | 577/625 [01:47<00:08,  5.52it/s]"
     ]
    },
    {
     "name": "stdout",
     "output_type": "stream",
     "text": [
      "Batch 576 | Reject Differential (mean over batch): 0.0395\n",
      "Batch 576 | Reject Differential (mean over batch): 0.0251\n",
      "Batch 577 | Reject Differential (mean over batch): 0.0314\n",
      "Batch 577 | Reject Differential (mean over batch): 0.0417\n"
     ]
    },
    {
     "name": "stderr",
     "output_type": "stream",
     "text": [
      " 93%|███████████████████████████████████████████████████████████████████████████████████████████████████████████████████████████████████████████████████████            | 579/625 [01:47<00:08,  5.42it/s]"
     ]
    },
    {
     "name": "stdout",
     "output_type": "stream",
     "text": [
      "Batch 577 | Reject Differential (mean over batch): 0.0318\n",
      "Batch 578 | Reject Differential (mean over batch): 0.0409\n",
      "Batch 578 | Reject Differential (mean over batch): 0.0410\n",
      "Batch 578 | Reject Differential (mean over batch): 0.0320\n"
     ]
    },
    {
     "name": "stderr",
     "output_type": "stream",
     "text": [
      " 93%|███████████████████████████████████████████████████████████████████████████████████████████████████████████████████████████████████████████████████████▎           | 580/625 [01:48<00:08,  5.45it/s]"
     ]
    },
    {
     "name": "stdout",
     "output_type": "stream",
     "text": [
      "Batch 579 | Reject Differential (mean over batch): 0.0338\n",
      "Batch 579 | Reject Differential (mean over batch): 0.0478\n",
      "Batch 579 | Reject Differential (mean over batch): 0.0283\n",
      "Batch 580 | Reject Differential (mean over batch): 0.0267\n"
     ]
    },
    {
     "name": "stderr",
     "output_type": "stream",
     "text": [
      " 93%|███████████████████████████████████████████████████████████████████████████████████████████████████████████████████████████████████████████████████████▌           | 581/625 [01:48<00:08,  5.45it/s]"
     ]
    },
    {
     "name": "stdout",
     "output_type": "stream",
     "text": [
      "Batch 580 | Reject Differential (mean over batch): 0.0334\n",
      "Batch 580 | Reject Differential (mean over batch): 0.0273\n",
      "Batch 581 | Reject Differential (mean over batch): 0.0268\n",
      "Batch 581 | Reject Differential (mean over batch): 0.0301\n"
     ]
    },
    {
     "name": "stderr",
     "output_type": "stream",
     "text": [
      " 93%|████████████████████████████████████████████████████████████████████████████████████████████████████████████████████████████████████████████████████████           | 583/625 [01:48<00:07,  5.51it/s]"
     ]
    },
    {
     "name": "stdout",
     "output_type": "stream",
     "text": [
      "Batch 581 | Reject Differential (mean over batch): 0.0289\n",
      "Batch 582 | Reject Differential (mean over batch): 0.0000\n",
      "Batch 582 | Reject Differential (mean over batch): 0.0405\n",
      "Batch 582 | Reject Differential (mean over batch): 0.0369\n"
     ]
    },
    {
     "name": "stderr",
     "output_type": "stream",
     "text": [
      " 93%|████████████████████████████████████████████████████████████████████████████████████████████████████████████████████████████████████████████████████████▎          | 584/625 [01:48<00:07,  5.51it/s]"
     ]
    },
    {
     "name": "stdout",
     "output_type": "stream",
     "text": [
      "Batch 583 | Reject Differential (mean over batch): 0.0265\n",
      "Batch 583 | Reject Differential (mean over batch): 0.0518\n",
      "Batch 583 | Reject Differential (mean over batch): 0.0217\n",
      "Batch 584 | Reject Differential (mean over batch): 0.0337\n"
     ]
    },
    {
     "name": "stderr",
     "output_type": "stream",
     "text": [
      " 94%|████████████████████████████████████████████████████████████████████████████████████████████████████████████████████████████████████████████████████████▌          | 585/625 [01:49<00:07,  5.35it/s]"
     ]
    },
    {
     "name": "stdout",
     "output_type": "stream",
     "text": [
      "Batch 584 | Reject Differential (mean over batch): 0.0257\n",
      "Batch 584 | Reject Differential (mean over batch): 0.0293\n",
      "Batch 585 | Reject Differential (mean over batch): 0.0253\n",
      "Batch 585 | Reject Differential (mean over batch): 0.0333\n"
     ]
    },
    {
     "name": "stderr",
     "output_type": "stream",
     "text": [
      " 94%|█████████████████████████████████████████████████████████████████████████████████████████████████████████████████████████████████████████████████████████          | 587/625 [01:49<00:06,  5.45it/s]"
     ]
    },
    {
     "name": "stdout",
     "output_type": "stream",
     "text": [
      "Batch 585 | Reject Differential (mean over batch): 0.0288\n",
      "Batch 586 | Reject Differential (mean over batch): 0.0390\n",
      "Batch 586 | Reject Differential (mean over batch): 0.0293\n",
      "Batch 586 | Reject Differential (mean over batch): 0.0335\n"
     ]
    },
    {
     "name": "stderr",
     "output_type": "stream",
     "text": [
      " 94%|█████████████████████████████████████████████████████████████████████████████████████████████████████████████████████████████████████████████████████████▎         | 588/625 [01:49<00:06,  5.48it/s]"
     ]
    },
    {
     "name": "stdout",
     "output_type": "stream",
     "text": [
      "Batch 587 | Reject Differential (mean over batch): 0.0320\n",
      "Batch 587 | Reject Differential (mean over batch): 0.0367\n",
      "Batch 587 | Reject Differential (mean over batch): 0.0259\n",
      "Batch 588 | Reject Differential (mean over batch): 0.0356\n"
     ]
    },
    {
     "name": "stderr",
     "output_type": "stream",
     "text": [
      " 94%|█████████████████████████████████████████████████████████████████████████████████████████████████████████████████████████████████████████████████████████▌         | 589/625 [01:49<00:06,  5.49it/s]"
     ]
    },
    {
     "name": "stdout",
     "output_type": "stream",
     "text": [
      "Batch 588 | Reject Differential (mean over batch): 0.0313\n",
      "Batch 588 | Reject Differential (mean over batch): 0.0309\n",
      "Batch 589 | Reject Differential (mean over batch): 0.0238\n",
      "Batch 589 | Reject Differential (mean over batch): 0.0326\n"
     ]
    },
    {
     "name": "stderr",
     "output_type": "stream",
     "text": [
      " 95%|██████████████████████████████████████████████████████████████████████████████████████████████████████████████████████████████████████████████████████████▏        | 591/625 [01:50<00:06,  5.51it/s]"
     ]
    },
    {
     "name": "stdout",
     "output_type": "stream",
     "text": [
      "Batch 589 | Reject Differential (mean over batch): 0.0233\n",
      "Batch 590 | Reject Differential (mean over batch): 0.0302\n",
      "Batch 590 | Reject Differential (mean over batch): 0.0276\n",
      "Batch 590 | Reject Differential (mean over batch): 0.0288\n"
     ]
    },
    {
     "name": "stderr",
     "output_type": "stream",
     "text": [
      " 95%|██████████████████████████████████████████████████████████████████████████████████████████████████████████████████████████████████████████████████████████▍        | 592/625 [01:50<00:06,  5.49it/s]"
     ]
    },
    {
     "name": "stdout",
     "output_type": "stream",
     "text": [
      "Batch 591 | Reject Differential (mean over batch): 0.0347\n",
      "Batch 591 | Reject Differential (mean over batch): 0.0384\n",
      "Batch 591 | Reject Differential (mean over batch): 0.0281\n",
      "Batch 592 | Reject Differential (mean over batch): 0.0348\n"
     ]
    },
    {
     "name": "stderr",
     "output_type": "stream",
     "text": [
      " 95%|██████████████████████████████████████████████████████████████████████████████████████████████████████████████████████████████████████████████████████████▋        | 593/625 [01:50<00:05,  5.51it/s]"
     ]
    },
    {
     "name": "stdout",
     "output_type": "stream",
     "text": [
      "Batch 592 | Reject Differential (mean over batch): 0.0316\n",
      "Batch 592 | Reject Differential (mean over batch): 0.0303\n",
      "Batch 593 | Reject Differential (mean over batch): 0.0333\n",
      "Batch 593 | Reject Differential (mean over batch): 0.0299\n"
     ]
    },
    {
     "name": "stderr",
     "output_type": "stream",
     "text": [
      " 95%|███████████████████████████████████████████████████████████████████████████████████████████████████████████████████████████████████████████████████████████▏       | 595/625 [01:50<00:05,  5.50it/s]"
     ]
    },
    {
     "name": "stdout",
     "output_type": "stream",
     "text": [
      "Batch 593 | Reject Differential (mean over batch): 0.0298\n",
      "Batch 594 | Reject Differential (mean over batch): 0.0403\n",
      "Batch 594 | Reject Differential (mean over batch): 0.0366\n",
      "Batch 594 | Reject Differential (mean over batch): 0.0334\n"
     ]
    },
    {
     "name": "stderr",
     "output_type": "stream",
     "text": [
      " 95%|███████████████████████████████████████████████████████████████████████████████████████████████████████████████████████████████████████████████████████████▍       | 596/625 [01:51<00:05,  5.45it/s]"
     ]
    },
    {
     "name": "stdout",
     "output_type": "stream",
     "text": [
      "Batch 595 | Reject Differential (mean over batch): 0.0347\n",
      "Batch 595 | Reject Differential (mean over batch): 0.0328\n",
      "Batch 595 | Reject Differential (mean over batch): 0.0358\n",
      "Batch 596 | Reject Differential (mean over batch): 0.0299\n"
     ]
    },
    {
     "name": "stderr",
     "output_type": "stream",
     "text": [
      " 96%|███████████████████████████████████████████████████████████████████████████████████████████████████████████████████████████████████████████████████████████▋       | 597/625 [01:51<00:05,  5.43it/s]"
     ]
    },
    {
     "name": "stdout",
     "output_type": "stream",
     "text": [
      "Batch 596 | Reject Differential (mean over batch): 0.0348\n",
      "Batch 596 | Reject Differential (mean over batch): 0.0252\n",
      "Batch 597 | Reject Differential (mean over batch): 0.0462\n",
      "Batch 597 | Reject Differential (mean over batch): 0.0375\n"
     ]
    },
    {
     "name": "stderr",
     "output_type": "stream",
     "text": [
      " 96%|████████████████████████████████████████████████████████████████████████████████████████████████████████████████████████████████████████████████████████████▏      | 599/625 [01:51<00:04,  5.45it/s]"
     ]
    },
    {
     "name": "stdout",
     "output_type": "stream",
     "text": [
      "Batch 597 | Reject Differential (mean over batch): 0.0376\n",
      "Batch 598 | Reject Differential (mean over batch): 0.0305\n",
      "Batch 598 | Reject Differential (mean over batch): 0.0453\n",
      "Batch 598 | Reject Differential (mean over batch): 0.0279\n"
     ]
    },
    {
     "name": "stderr",
     "output_type": "stream",
     "text": [
      " 96%|████████████████████████████████████████████████████████████████████████████████████████████████████████████████████████████████████████████████████████████▍      | 600/625 [01:51<00:04,  5.47it/s]"
     ]
    },
    {
     "name": "stdout",
     "output_type": "stream",
     "text": [
      "Batch 599 | Reject Differential (mean over batch): 0.0278\n",
      "Batch 599 | Reject Differential (mean over batch): 0.0370\n",
      "Batch 599 | Reject Differential (mean over batch): 0.0252\n",
      "Batch 600 | Reject Differential (mean over batch): 0.0250\n"
     ]
    },
    {
     "name": "stderr",
     "output_type": "stream",
     "text": [
      " 96%|████████████████████████████████████████████████████████████████████████████████████████████████████████████████████████████████████████████████████████████▋      | 601/625 [01:51<00:04,  5.48it/s]"
     ]
    },
    {
     "name": "stdout",
     "output_type": "stream",
     "text": [
      "Batch 600 | Reject Differential (mean over batch): 0.0368\n",
      "Batch 600 | Reject Differential (mean over batch): 0.0293\n",
      "Batch 601 | Reject Differential (mean over batch): 0.0251\n",
      "Batch 601 | Reject Differential (mean over batch): 0.0436\n"
     ]
    },
    {
     "name": "stderr",
     "output_type": "stream",
     "text": [
      " 96%|█████████████████████████████████████████████████████████████████████████████████████████████████████████████████████████████████████████████████████████████▎     | 603/625 [01:52<00:04,  5.47it/s]"
     ]
    },
    {
     "name": "stdout",
     "output_type": "stream",
     "text": [
      "Batch 601 | Reject Differential (mean over batch): 0.0311\n",
      "Batch 602 | Reject Differential (mean over batch): 0.0201\n",
      "Batch 602 | Reject Differential (mean over batch): 0.0281\n",
      "Batch 602 | Reject Differential (mean over batch): 0.0209\n"
     ]
    },
    {
     "name": "stderr",
     "output_type": "stream",
     "text": [
      " 97%|█████████████████████████████████████████████████████████████████████████████████████████████████████████████████████████████████████████████████████████████▌     | 604/625 [01:52<00:03,  5.43it/s]"
     ]
    },
    {
     "name": "stdout",
     "output_type": "stream",
     "text": [
      "Batch 603 | Reject Differential (mean over batch): 0.0392\n",
      "Batch 603 | Reject Differential (mean over batch): 0.0288\n",
      "Batch 603 | Reject Differential (mean over batch): 0.0337\n",
      "Batch 604 | Reject Differential (mean over batch): 0.0246\n"
     ]
    },
    {
     "name": "stderr",
     "output_type": "stream",
     "text": [
      " 97%|█████████████████████████████████████████████████████████████████████████████████████████████████████████████████████████████████████████████████████████████▊     | 605/625 [01:52<00:03,  5.44it/s]"
     ]
    },
    {
     "name": "stdout",
     "output_type": "stream",
     "text": [
      "Batch 604 | Reject Differential (mean over batch): 0.0267\n",
      "Batch 604 | Reject Differential (mean over batch): 0.0191\n",
      "Batch 605 | Reject Differential (mean over batch): 0.0260\n",
      "Batch 605 | Reject Differential (mean over batch): 0.0394\n"
     ]
    },
    {
     "name": "stderr",
     "output_type": "stream",
     "text": [
      " 97%|██████████████████████████████████████████████████████████████████████████████████████████████████████████████████████████████████████████████████████████████▎    | 607/625 [01:53<00:03,  5.48it/s]"
     ]
    },
    {
     "name": "stdout",
     "output_type": "stream",
     "text": [
      "Batch 605 | Reject Differential (mean over batch): 0.0272\n",
      "Batch 606 | Reject Differential (mean over batch): 0.0291\n",
      "Batch 606 | Reject Differential (mean over batch): 0.0253\n",
      "Batch 606 | Reject Differential (mean over batch): 0.0214\n"
     ]
    },
    {
     "name": "stderr",
     "output_type": "stream",
     "text": [
      " 97%|██████████████████████████████████████████████████████████████████████████████████████████████████████████████████████████████████████████████████████████████▌    | 608/625 [01:53<00:03,  5.50it/s]"
     ]
    },
    {
     "name": "stdout",
     "output_type": "stream",
     "text": [
      "Batch 607 | Reject Differential (mean over batch): 0.0237\n",
      "Batch 607 | Reject Differential (mean over batch): 0.0478\n",
      "Batch 607 | Reject Differential (mean over batch): 0.0314\n",
      "Batch 608 | Reject Differential (mean over batch): 0.0272\n"
     ]
    },
    {
     "name": "stderr",
     "output_type": "stream",
     "text": [
      " 97%|██████████████████████████████████████████████████████████████████████████████████████████████████████████████████████████████████████████████████████████████▊    | 609/625 [01:53<00:02,  5.51it/s]"
     ]
    },
    {
     "name": "stdout",
     "output_type": "stream",
     "text": [
      "Batch 608 | Reject Differential (mean over batch): 0.0268\n",
      "Batch 608 | Reject Differential (mean over batch): 0.0256\n",
      "Batch 609 | Reject Differential (mean over batch): 0.0357\n",
      "Batch 609 | Reject Differential (mean over batch): 0.0310\n"
     ]
    },
    {
     "name": "stderr",
     "output_type": "stream",
     "text": [
      " 98%|███████████████████████████████████████████████████████████████████████████████████████████████████████████████████████████████████████████████████████████████▎   | 611/625 [01:53<00:02,  5.53it/s]"
     ]
    },
    {
     "name": "stdout",
     "output_type": "stream",
     "text": [
      "Batch 609 | Reject Differential (mean over batch): 0.0239\n",
      "Batch 610 | Reject Differential (mean over batch): 0.0314\n",
      "Batch 610 | Reject Differential (mean over batch): 0.0363\n",
      "Batch 610 | Reject Differential (mean over batch): 0.0253\n"
     ]
    },
    {
     "name": "stderr",
     "output_type": "stream",
     "text": [
      " 98%|███████████████████████████████████████████████████████████████████████████████████████████████████████████████████████████████████████████████████████████████▌   | 612/625 [01:53<00:02,  5.53it/s]"
     ]
    },
    {
     "name": "stdout",
     "output_type": "stream",
     "text": [
      "Batch 611 | Reject Differential (mean over batch): 0.0327\n",
      "Batch 611 | Reject Differential (mean over batch): 0.0340\n",
      "Batch 611 | Reject Differential (mean over batch): 0.0288\n",
      "Batch 612 | Reject Differential (mean over batch): 0.0242\n"
     ]
    },
    {
     "name": "stderr",
     "output_type": "stream",
     "text": [
      " 98%|███████████████████████████████████████████████████████████████████████████████████████████████████████████████████████████████████████████████████████████████▊   | 613/625 [01:54<00:02,  5.54it/s]"
     ]
    },
    {
     "name": "stdout",
     "output_type": "stream",
     "text": [
      "Batch 612 | Reject Differential (mean over batch): 0.0321\n",
      "Batch 612 | Reject Differential (mean over batch): 0.0280\n",
      "Batch 613 | Reject Differential (mean over batch): 0.0269\n",
      "Batch 613 | Reject Differential (mean over batch): 0.0403\n"
     ]
    },
    {
     "name": "stderr",
     "output_type": "stream",
     "text": [
      " 98%|████████████████████████████████████████████████████████████████████████████████████████████████████████████████████████████████████████████████████████████████▍  | 615/625 [01:54<00:01,  5.51it/s]"
     ]
    },
    {
     "name": "stdout",
     "output_type": "stream",
     "text": [
      "Batch 613 | Reject Differential (mean over batch): 0.0204\n",
      "Batch 614 | Reject Differential (mean over batch): 0.0227\n",
      "Batch 614 | Reject Differential (mean over batch): 0.0433\n",
      "Batch 614 | Reject Differential (mean over batch): 0.0322\n"
     ]
    },
    {
     "name": "stderr",
     "output_type": "stream",
     "text": [
      " 99%|████████████████████████████████████████████████████████████████████████████████████████████████████████████████████████████████████████████████████████████████▋  | 616/625 [01:54<00:01,  5.51it/s]"
     ]
    },
    {
     "name": "stdout",
     "output_type": "stream",
     "text": [
      "Batch 615 | Reject Differential (mean over batch): 0.0303\n",
      "Batch 615 | Reject Differential (mean over batch): 0.0411\n",
      "Batch 615 | Reject Differential (mean over batch): 0.0317\n",
      "Batch 616 | Reject Differential (mean over batch): 0.0378\n"
     ]
    },
    {
     "name": "stderr",
     "output_type": "stream",
     "text": [
      " 99%|████████████████████████████████████████████████████████████████████████████████████████████████████████████████████████████████████████████████████████████████▉  | 617/625 [01:54<00:01,  5.52it/s]"
     ]
    },
    {
     "name": "stdout",
     "output_type": "stream",
     "text": [
      "Batch 616 | Reject Differential (mean over batch): 0.0432\n",
      "Batch 616 | Reject Differential (mean over batch): 0.0348\n",
      "Batch 617 | Reject Differential (mean over batch): 0.0205\n",
      "Batch 617 | Reject Differential (mean over batch): 0.0276\n"
     ]
    },
    {
     "name": "stderr",
     "output_type": "stream",
     "text": [
      " 99%|█████████████████████████████████████████████████████████████████████████████████████████████████████████████████████████████████████████████████████████████████▍ | 619/625 [01:55<00:01,  5.48it/s]"
     ]
    },
    {
     "name": "stdout",
     "output_type": "stream",
     "text": [
      "Batch 617 | Reject Differential (mean over batch): 0.0237\n",
      "Batch 618 | Reject Differential (mean over batch): 0.0344\n",
      "Batch 618 | Reject Differential (mean over batch): 0.0310\n",
      "Batch 618 | Reject Differential (mean over batch): 0.0284\n"
     ]
    },
    {
     "name": "stderr",
     "output_type": "stream",
     "text": [
      " 99%|█████████████████████████████████████████████████████████████████████████████████████████████████████████████████████████████████████████████████████████████████▋ | 620/625 [01:55<00:00,  5.46it/s]"
     ]
    },
    {
     "name": "stdout",
     "output_type": "stream",
     "text": [
      "Batch 619 | Reject Differential (mean over batch): 0.0324\n",
      "Batch 619 | Reject Differential (mean over batch): 0.0414\n",
      "Batch 619 | Reject Differential (mean over batch): 0.0295\n",
      "Batch 620 | Reject Differential (mean over batch): 0.0422\n"
     ]
    },
    {
     "name": "stderr",
     "output_type": "stream",
     "text": [
      " 99%|█████████████████████████████████████████████████████████████████████████████████████████████████████████████████████████████████████████████████████████████████▉ | 621/625 [01:55<00:00,  5.35it/s]"
     ]
    },
    {
     "name": "stdout",
     "output_type": "stream",
     "text": [
      "Batch 620 | Reject Differential (mean over batch): 0.0402\n",
      "Batch 620 | Reject Differential (mean over batch): 0.0333\n",
      "Batch 621 | Reject Differential (mean over batch): 0.0233\n",
      "Batch 621 | Reject Differential (mean over batch): 0.0274\n"
     ]
    },
    {
     "name": "stderr",
     "output_type": "stream",
     "text": [
      "100%|██████████████████████████████████████████████████████████████████████████████████████████████████████████████████████████████████████████████████████████████████▍| 623/625 [01:56<00:00,  5.44it/s]"
     ]
    },
    {
     "name": "stdout",
     "output_type": "stream",
     "text": [
      "Batch 621 | Reject Differential (mean over batch): 0.0147\n",
      "Batch 622 | Reject Differential (mean over batch): 0.0252\n",
      "Batch 622 | Reject Differential (mean over batch): 0.0355\n",
      "Batch 622 | Reject Differential (mean over batch): 0.0310\n"
     ]
    },
    {
     "name": "stderr",
     "output_type": "stream",
     "text": [
      "100%|██████████████████████████████████████████████████████████████████████████████████████████████████████████████████████████████████████████████████████████████████▋| 624/625 [01:56<00:00,  5.46it/s]"
     ]
    },
    {
     "name": "stdout",
     "output_type": "stream",
     "text": [
      "Batch 623 | Reject Differential (mean over batch): 0.0269\n",
      "Batch 623 | Reject Differential (mean over batch): 0.0243\n",
      "Batch 623 | Reject Differential (mean over batch): 0.0220\n",
      "Batch 624 | Reject Differential (mean over batch): 0.0000\n"
     ]
    },
    {
     "name": "stderr",
     "output_type": "stream",
     "text": [
      "100%|███████████████████████████████████████████████████████████████████████████████████████████████████████████████████████████████████████████████████████████████████| 625/625 [01:56<00:00,  5.37it/s]"
     ]
    },
    {
     "name": "stdout",
     "output_type": "stream",
     "text": [
      "Batch 624 | Reject Differential (mean over batch): 0.0228\n",
      "Batch 624 | Reject Differential (mean over batch): 0.0255\n"
     ]
    },
    {
     "name": "stderr",
     "output_type": "stream",
     "text": [
      "\n"
     ]
    }
   ],
   "source": [
    "reject_diffs = []\n",
    "\n",
    "# If batch_size > 1, we get multiple images each iteration.\n",
    "for i, (image, label) in enumerate(tqdm(testloader)):\n",
    "   \n",
    "    image = image.to(device)\n",
    "\n",
    "\n",
    "    with torch.no_grad():\n",
    "        original_output = DenseNet(image)\n",
    "        original_prob = F.softmax(original_output, dim=1)\n",
    "        original_confidence, original_pred = torch.max(original_prob, dim=1)  # shape [batch_size]\n",
    "\n",
    "    \n",
    "    for tf in transformations:\n",
    "        transformed_image = tf(image.cpu()).to(device)\n",
    "        \n",
    "        with torch.no_grad():\n",
    "            transformed_output = DenseNet(transformed_image)\n",
    "            transformed_prob = F.softmax(transformed_output, dim=1)\n",
    "            transformed_confidence, transformed_pred = torch.max(transformed_prob, dim=1)\n",
    "        \n",
    "        # Compute absolute difference in confidence for the entire batch\n",
    "        # shape [batch_size]\n",
    "        diff_tensor = torch.abs(original_confidence - transformed_confidence)\n",
    "\n",
    "        \n",
    "        diff_mean = diff_tensor.mean().item()\n",
    "        reject_diffs.append(diff_mean)\n",
    "\n",
    "        \n",
    "        print(f\"Batch {i} | \"\n",
    "              f\"Reject Differential (mean over batch): {diff_mean:.4f}\")"
   ]
  },
  {
   "cell_type": "code",
   "execution_count": 11,
   "id": "6727dfed-265d-4a1b-a37f-f5b19d4437b4",
   "metadata": {},
   "outputs": [
    {
     "name": "stderr",
     "output_type": "stream",
     "text": [
      "100%|█████████████████████████████████████████████████████████████████████████████████████████████████████████████████████████████████████████████████████████████████| 3125/3125 [06:24<00:00,  8.12it/s]\n"
     ]
    },
    {
     "name": "stdout",
     "output_type": "stream",
     "text": [
      "Train Loss: 0.0500, Train Acc: 73.66\n"
     ]
    },
    {
     "name": "stderr",
     "output_type": "stream",
     "text": [
      "100%|███████████████████████████████████████████████████████████████████████████████████████████████████████████████████████████████████████████████████████████████████| 625/625 [00:32<00:00, 19.25it/s]\n",
      "100%|█████████████████████████████████████████████████████████████████████████████████████████████████████████████████████████████████████████████████████████████████| 3125/3125 [06:30<00:00,  8.00it/s]\n"
     ]
    },
    {
     "name": "stdout",
     "output_type": "stream",
     "text": [
      "Train Loss: 0.0405, Train Acc: 77.85\n"
     ]
    },
    {
     "name": "stderr",
     "output_type": "stream",
     "text": [
      "100%|███████████████████████████████████████████████████████████████████████████████████████████████████████████████████████████████████████████████████████████████████| 625/625 [00:32<00:00, 19.14it/s]\n",
      "100%|█████████████████████████████████████████████████████████████████████████████████████████████████████████████████████████████████████████████████████████████████| 3125/3125 [06:32<00:00,  7.96it/s]\n"
     ]
    },
    {
     "name": "stdout",
     "output_type": "stream",
     "text": [
      "Train Loss: 0.0387, Train Acc: 78.99\n"
     ]
    },
    {
     "name": "stderr",
     "output_type": "stream",
     "text": [
      "100%|███████████████████████████████████████████████████████████████████████████████████████████████████████████████████████████████████████████████████████████████████| 625/625 [00:32<00:00, 18.96it/s]\n",
      "100%|█████████████████████████████████████████████████████████████████████████████████████████████████████████████████████████████████████████████████████████████████| 3125/3125 [06:49<00:00,  7.63it/s]\n"
     ]
    },
    {
     "name": "stdout",
     "output_type": "stream",
     "text": [
      "Train Loss: 0.0384, Train Acc: 78.94\n"
     ]
    },
    {
     "name": "stderr",
     "output_type": "stream",
     "text": [
      "100%|███████████████████████████████████████████████████████████████████████████████████████████████████████████████████████████████████████████████████████████████████| 625/625 [00:33<00:00, 18.84it/s]\n",
      "100%|█████████████████████████████████████████████████████████████████████████████████████████████████████████████████████████████████████████████████████████████████| 3125/3125 [07:14<00:00,  7.19it/s]\n"
     ]
    },
    {
     "name": "stdout",
     "output_type": "stream",
     "text": [
      "Train Loss: 0.0378, Train Acc: 79.26\n"
     ]
    },
    {
     "name": "stderr",
     "output_type": "stream",
     "text": [
      "100%|███████████████████████████████████████████████████████████████████████████████████████████████████████████████████████████████████████████████████████████████████| 625/625 [00:32<00:00, 18.99it/s]\n",
      "100%|█████████████████████████████████████████████████████████████████████████████████████████████████████████████████████████████████████████████████████████████████| 3125/3125 [07:06<00:00,  7.33it/s]\n"
     ]
    },
    {
     "name": "stdout",
     "output_type": "stream",
     "text": [
      "Train Loss: 0.0382, Train Acc: 79.20\n"
     ]
    },
    {
     "name": "stderr",
     "output_type": "stream",
     "text": [
      "100%|███████████████████████████████████████████████████████████████████████████████████████████████████████████████████████████████████████████████████████████████████| 625/625 [00:32<00:00, 19.06it/s]\n",
      "100%|█████████████████████████████████████████████████████████████████████████████████████████████████████████████████████████████████████████████████████████████████| 3125/3125 [06:33<00:00,  7.95it/s]\n"
     ]
    },
    {
     "name": "stdout",
     "output_type": "stream",
     "text": [
      "Train Loss: 0.0373, Train Acc: 79.67\n"
     ]
    },
    {
     "name": "stderr",
     "output_type": "stream",
     "text": [
      "100%|███████████████████████████████████████████████████████████████████████████████████████████████████████████████████████████████████████████████████████████████████| 625/625 [00:33<00:00, 18.92it/s]\n",
      "100%|█████████████████████████████████████████████████████████████████████████████████████████████████████████████████████████████████████████████████████████████████| 3125/3125 [06:34<00:00,  7.92it/s]\n"
     ]
    },
    {
     "name": "stdout",
     "output_type": "stream",
     "text": [
      "Train Loss: 0.0370, Train Acc: 79.59\n"
     ]
    },
    {
     "name": "stderr",
     "output_type": "stream",
     "text": [
      "100%|███████████████████████████████████████████████████████████████████████████████████████████████████████████████████████████████████████████████████████████████████| 625/625 [00:32<00:00, 19.21it/s]\n",
      "100%|█████████████████████████████████████████████████████████████████████████████████████████████████████████████████████████████████████████████████████████████████| 3125/3125 [06:33<00:00,  7.94it/s]\n"
     ]
    },
    {
     "name": "stdout",
     "output_type": "stream",
     "text": [
      "Train Loss: 0.0373, Train Acc: 79.46\n"
     ]
    },
    {
     "name": "stderr",
     "output_type": "stream",
     "text": [
      "100%|███████████████████████████████████████████████████████████████████████████████████████████████████████████████████████████████████████████████████████████████████| 625/625 [00:32<00:00, 19.19it/s]\n",
      "100%|█████████████████████████████████████████████████████████████████████████████████████████████████████████████████████████████████████████████████████████████████| 3125/3125 [06:32<00:00,  7.96it/s]\n"
     ]
    },
    {
     "name": "stdout",
     "output_type": "stream",
     "text": [
      "Train Loss: 0.0369, Train Acc: 79.84\n"
     ]
    },
    {
     "name": "stderr",
     "output_type": "stream",
     "text": [
      "100%|███████████████████████████████████████████████████████████████████████████████████████████████████████████████████████████████████████████████████████████████████| 625/625 [00:32<00:00, 19.21it/s]"
     ]
    },
    {
     "name": "stdout",
     "output_type": "stream",
     "text": [
      "72.34927464326223 minutes\n"
     ]
    },
    {
     "name": "stderr",
     "output_type": "stream",
     "text": [
      "\n"
     ]
    }
   ],
   "source": [
    "train_loss , train_accuracy = [], []\n",
    "val_loss , val_accuracy = [], []\n",
    "start = time.time()\n",
    "\n",
    "for epoch in range(10):\n",
    "    train_epoch_loss, train_epoch_accuracy = fit(DenseNet, trainloader)\n",
    "    val_epoch_loss, val_epoch_accuracy, precision, recall, f1 = validate(DenseNet, testloader)\n",
    "    \n",
    "    train_loss.append(train_epoch_loss)\n",
    "    train_accuracy.append(train_epoch_accuracy)\n",
    "    val_loss.append(val_epoch_loss)\n",
    "    val_accuracy.append(val_epoch_accuracy)\n",
    "\n",
    "end = time.time()\n",
    "print((end-start)/60, 'minutes')"
   ]
  },
  {
   "cell_type": "code",
   "execution_count": 12,
   "id": "d6f5c3bb-34ae-430f-8c7f-9461360dd3d4",
   "metadata": {},
   "outputs": [
    {
     "data": {
      "image/png": "[encoded data removed]",
      "text/plain": [
       "<Figure size 640x480 with 1 Axes>"
      ]
     },
     "metadata": {},
     "output_type": "display_data"
    }
   ],
   "source": [
    "# Plotting Loss\n",
    "plt.plot(range(1, 11), train_loss, label='Train Loss')\n",
    "plt.plot(range(1, 11), val_loss, label='Validation Loss')\n",
    "plt.xlabel('Epochs')\n",
    "plt.ylabel('Loss')\n",
    "plt.legend()\n",
    "plt.title('Training and Validation Loss')\n",
    "plt.show()"
   ]
  },
  {
   "cell_type": "code",
   "execution_count": 13,
   "id": "506fa547-cbb7-4138-9917-546d6f295df3",
   "metadata": {},
   "outputs": [
    {
     "name": "stdout",
     "output_type": "stream",
     "text": [
      "Model saved as DenseNet_cifar10_RejDiff_finetuned.pth\n"
     ]
    }
   ],
   "source": [
    "model_save_path = './saved_models/DenseNet_cifar10_RejDiff_finetuned.pth'\n",
    "torch.save(DenseNet.state_dict(), model_save_path)\n",
    "print(\"Model saved as DenseNet_cifar10_RejDiff_finetuned.pth\")"
   ]
  },
  {
   "cell_type": "code",
   "execution_count": 14,
   "id": "c9b0e6ef-489c-454d-b498-ebcbacd27fa7",
   "metadata": {},
   "outputs": [
    {
     "name": "stderr",
     "output_type": "stream",
     "text": [
      "/tmp/ipykernel_318718/1535307420.py:1: FutureWarning: You are using `torch.load` with `weights_only=False` (the current default value), which uses the default pickle module implicitly. It is possible to construct malicious pickle data which will execute arbitrary code during unpickling (See https://github.com/pytorch/pytorch/blob/main/SECURITY.md#untrusted-models for more details). In a future release, the default value for `weights_only` will be flipped to `True`. This limits the functions that could be executed during unpickling. Arbitrary objects will no longer be allowed to be loaded via this mode unless they are explicitly allowlisted by the user via `torch.serialization.add_safe_globals`. We recommend you start setting `weights_only=True` for any use case where you don't have full control of the loaded file. Please open an issue on GitHub for any issues related to this experimental feature.\n",
      "  DenseNet.load_state_dict(torch.load(model_save_path))\n"
     ]
    }
   ],
   "source": [
    "DenseNet.load_state_dict(torch.load(model_save_path))\n",
    "DenseNet = DenseNet.to(device)"
   ]
  },
  {
   "cell_type": "code",
   "execution_count": 15,
   "id": "9612dd6d-ed50-4bf1-8d65-d2a13aadc793",
   "metadata": {},
   "outputs": [
    {
     "name": "stderr",
     "output_type": "stream",
     "text": [
      "100%|███████████████████████████████████████████████████████████████████████████████████████████████████████████████████████████████████████████████████████████████████| 625/625 [00:32<00:00, 19.22it/s]"
     ]
    },
    {
     "name": "stdout",
     "output_type": "stream",
     "text": [
      "\n",
      "Final Test Results - Loss: 0.0339, Accuracy: 81.13%, Precision: 0.82, Recall: 0.81, F1 Score: 0.81\n"
     ]
    },
    {
     "name": "stderr",
     "output_type": "stream",
     "text": [
      "\n"
     ]
    }
   ],
   "source": [
    "final_val_loss, final_val_accuracy, final_precision, final_recall, final_f1 = validate(DenseNet, testloader)\n",
    "print(f'\\nFinal Test Results - Loss: {final_val_loss:.4f}, Accuracy: {final_val_accuracy:.2f}%, Precision: {final_precision:.2f}, Recall: {final_recall:.2f}, F1 Score: {final_f1:.2f}')"
   ]
  },
  {
   "cell_type": "code",
   "execution_count": null,
   "id": "4a1bdcc3-a2c7-4298-9dde-41738466bb90",
   "metadata": {},
   "outputs": [],
   "source": []
  }
 ],
 "metadata": {
  "kernelspec": {
   "display_name": "Python 3 (ipykernel)",
   "language": "python",
   "name": "python3"
  },
  "language_info": {
   "codemirror_mode": {
    "name": "ipython",
    "version": 3
   },
   "file_extension": ".py",
   "mimetype": "text/x-python",
   "name": "python",
   "nbconvert_exporter": "python",
   "pygments_lexer": "ipython3",
   "version": "3.8.10"
  }
 },
 "nbformat": 4,
 "nbformat_minor": 5
}
