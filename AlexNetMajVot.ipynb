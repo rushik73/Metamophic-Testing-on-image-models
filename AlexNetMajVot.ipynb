{
 "cells": [
  {
   "cell_type": "code",
   "execution_count": 1,
   "id": "152c3ec8-73fa-4e90-ac04-529e3282ef14",
   "metadata": {},
   "outputs": [],
   "source": [
    "import os\n",
    "import torch\n",
    "import torchvision\n",
    "import torchvision.transforms as transforms\n",
    "import torch.optim as optim\n",
    "import time\n",
    "import torch.nn.functional as F\n",
    "import torch.nn as nn\n",
    "import matplotlib.pyplot as plt\n",
    "from torchvision import models\n",
    "from sklearn.metrics import accuracy_score, precision_score, recall_score, f1_score\n",
    "from torchvision.models import AlexNet_Weights\n",
    "from tqdm import tqdm"
   ]
  },
  {
   "cell_type": "code",
   "execution_count": 2,
   "id": "aafc0d85-bf87-4998-9b07-fb133d19c8b8",
   "metadata": {},
   "outputs": [
    {
     "name": "stdout",
     "output_type": "stream",
     "text": [
      "cuda\n",
      "Files already downloaded and verified\n",
      "Files already downloaded and verified\n"
     ]
    }
   ],
   "source": [
    "device = 'cuda' if torch.cuda.is_available() else 'cpu'\n",
    "print(device)\n",
    "\n",
    "\n",
    "transform = transforms.Compose(\n",
    "    [transforms.Resize((224, 224)),\n",
    "     transforms.ToTensor(),\n",
    "     transforms.Normalize((0.4914, 0.4822, 0.447), (0.247, 0.243, 0.262))])\n",
    "trainset = torchvision.datasets.CIFAR10(root='./data', train=True,\n",
    "                                        download=True, transform=transform)\n",
    "trainloader = torch.utils.data.DataLoader(trainset, batch_size=32,\n",
    "                                          shuffle=True)\n",
    "testset = torchvision.datasets.CIFAR10(root='./data', train=False,\n",
    "                                       download=True, transform=transform)\n",
    "testloader = torch.utils.data.DataLoader(testset, batch_size=32,\n",
    "                                         shuffle=False)"
   ]
  },
  {
   "cell_type": "code",
   "execution_count": 3,
   "id": "7587d185-9f5c-4d41-9d02-1b2fae3dd48d",
   "metadata": {},
   "outputs": [
    {
     "name": "stdout",
     "output_type": "stream",
     "text": [
      "AlexNet(\n",
      "  (features): Sequential(\n",
      "    (0): Conv2d(3, 64, kernel_size=(11, 11), stride=(4, 4), padding=(2, 2))\n",
      "    (1): ReLU(inplace=True)\n",
      "    (2): MaxPool2d(kernel_size=3, stride=2, padding=0, dilation=1, ceil_mode=False)\n",
      "    (3): Conv2d(64, 192, kernel_size=(5, 5), stride=(1, 1), padding=(2, 2))\n",
      "    (4): ReLU(inplace=True)\n",
      "    (5): MaxPool2d(kernel_size=3, stride=2, padding=0, dilation=1, ceil_mode=False)\n",
      "    (6): Conv2d(192, 384, kernel_size=(3, 3), stride=(1, 1), padding=(1, 1))\n",
      "    (7): ReLU(inplace=True)\n",
      "    (8): Conv2d(384, 256, kernel_size=(3, 3), stride=(1, 1), padding=(1, 1))\n",
      "    (9): ReLU(inplace=True)\n",
      "    (10): Conv2d(256, 256, kernel_size=(3, 3), stride=(1, 1), padding=(1, 1))\n",
      "    (11): ReLU(inplace=True)\n",
      "    (12): MaxPool2d(kernel_size=3, stride=2, padding=0, dilation=1, ceil_mode=False)\n",
      "  )\n",
      "  (avgpool): AdaptiveAvgPool2d(output_size=(6, 6))\n",
      "  (classifier): Sequential(\n",
      "    (0): Dropout(p=0.5, inplace=False)\n",
      "    (1): Linear(in_features=9216, out_features=4096, bias=True)\n",
      "    (2): ReLU(inplace=True)\n",
      "    (3): Dropout(p=0.5, inplace=False)\n",
      "    (4): Linear(in_features=4096, out_features=4096, bias=True)\n",
      "    (5): ReLU(inplace=True)\n",
      "    (6): Linear(in_features=4096, out_features=10, bias=True)\n",
      "  )\n",
      ")\n"
     ]
    }
   ],
   "source": [
    "AlexNet = models.alexnet(weights=AlexNet_Weights.DEFAULT)\n",
    "AlexNet.classifier[6] = nn.Linear(4096, 10)\n",
    "AlexNet.to(device)\n",
    "print(AlexNet)"
   ]
  },
  {
   "cell_type": "code",
   "execution_count": 4,
   "id": "a055297c-a932-4165-93c1-76a1c1cde4c2",
   "metadata": {},
   "outputs": [],
   "source": [
    "# optimizer\n",
    "optimizer = optim.SGD(AlexNet.classifier.parameters(), lr=0.001, momentum=0.9)\n",
    "# loss function\n",
    "criterion = nn.CrossEntropyLoss()"
   ]
  },
  {
   "cell_type": "code",
   "execution_count": 5,
   "id": "3c558579-dc98-42ba-a67c-f8dc9334982d",
   "metadata": {},
   "outputs": [],
   "source": [
    "#transformations for metamorphic testing\n",
    "transformations = [\n",
    "    transforms.RandomRotation(degrees=10),  # Small rotation\n",
    "    transforms.ColorJitter(brightness=0.2),  # Slight brightness change\n",
    "    transforms.RandomAffine(degrees=0, translate=(0.1, 0.1))  # Small translation\n",
    "]"
   ]
  },
  {
   "cell_type": "code",
   "execution_count": 6,
   "id": "d8190bae-1915-4b29-89d7-437188bc2b6f",
   "metadata": {},
   "outputs": [],
   "source": [
    "# Validation Function\n",
    "def validate(model, test_dataloader):\n",
    "    model.eval()\n",
    "    val_running_loss = 0.0\n",
    "    val_running_correct = 0\n",
    "    all_preds = []\n",
    "    all_targets = []\n",
    "    with torch.no_grad():\n",
    "        for data, target in tqdm(test_dataloader):\n",
    "            data, target = data.to(device), target.to(device)\n",
    "            output = model(data)\n",
    "            loss = criterion(output, target)\n",
    "            val_running_loss += loss.item()\n",
    "            _, preds = torch.max(output.data, 1)\n",
    "            val_running_correct += (preds == target).sum().item()\n",
    "            all_preds.extend(preds.cpu().numpy())\n",
    "            all_targets.extend(target.cpu().numpy())\n",
    "    \n",
    "    val_loss = val_running_loss / len(test_dataloader.dataset)\n",
    "    val_accuracy = 100. * val_running_correct / len(test_dataloader.dataset)\n",
    "    \n",
    "    # Calculate metrics\n",
    "    precision = precision_score(all_targets, all_preds, average='weighted')\n",
    "    recall = recall_score(all_targets, all_preds, average='weighted')\n",
    "    f1 = f1_score(all_targets, all_preds, average='weighted')\n",
    "    \n",
    "    return val_loss, val_accuracy, precision, recall, f1"
   ]
  },
  {
   "cell_type": "code",
   "execution_count": 7,
   "id": "8ff097ed-b266-4621-9d19-024041c21db3",
   "metadata": {},
   "outputs": [],
   "source": [
    "def fit(model, train_dataloader):\n",
    "    model.train()\n",
    "    train_running_loss = 0.0\n",
    "    train_running_correct = 0\n",
    "    for  data, target in tqdm(train_dataloader):\n",
    "        data, target = data.to(device), target.to(device)\n",
    "        optimizer.zero_grad()\n",
    "        output = model(data)\n",
    "        loss = criterion(output, target)\n",
    "        train_running_loss += loss.item()\n",
    "        _, preds = torch.max(output.data, 1)\n",
    "        train_running_correct += (preds == target).sum().item()\n",
    "        loss.backward()\n",
    "        optimizer.step()\n",
    "    train_loss = train_running_loss/len(train_dataloader.dataset)\n",
    "    train_accuracy = 100. * train_running_correct/len(train_dataloader.dataset)\n",
    "    print(f'Train Loss: {train_loss:.4f}, Train Acc: {train_accuracy:.2f}')\n",
    "    \n",
    "    return train_loss, train_accuracy"
   ]
  },
  {
   "cell_type": "code",
   "execution_count": 8,
   "id": "201d6d4b-932d-49e4-8af5-5b93473f3889",
   "metadata": {},
   "outputs": [],
   "source": [
    "import torch\n",
    "import torch.nn.functional as F\n",
    "\n",
    "def majority_vote_prediction(model, images, transformations, device):\n",
    "    \"\"\"\n",
    "    Given a batch of images and a list of transformations,\n",
    "    compute the model's predictions on:\n",
    "        1) the original images,\n",
    "        2) each transformed version,\n",
    "    then take a majority vote across all predictions for each sample.\n",
    "    \n",
    "    Returns a tensor of shape [batch_size] with the final voted class.\n",
    "    \"\"\"\n",
    "    model.eval()\n",
    "\n",
    "    # 1) Original predictions\n",
    "    with torch.no_grad():\n",
    "        original_out = model(images)\n",
    "        _, original_preds = torch.max(F.softmax(original_out, dim=1), dim=1)  # shape [batch_size]\n",
    "\n",
    "    # 2) Collect predictions in a list\n",
    "    all_preds = [original_preds]\n",
    "\n",
    "    # 3) For each metamorphic transform\n",
    "    for tf in transformations:\n",
    "        # apply transform on CPU, then move back to device\n",
    "        x_tf = tf(images.cpu()).to(device)\n",
    "\n",
    "        with torch.no_grad():\n",
    "            out_tf = model(x_tf)\n",
    "            _, preds_tf = torch.max(F.softmax(out_tf, dim=1), dim=1)\n",
    "\n",
    "        all_preds.append(preds_tf)\n",
    "\n",
    "    # 4) Stack them into shape [num_transforms+1, batch_size]\n",
    "    stacked_preds = torch.stack(all_preds, dim=0)\n",
    "\n",
    "    # 5) Majority vote across the first dimension\n",
    "    voted_preds = stacked_preds.mode(dim=0).values  # shape [batch_size]\n",
    "    return voted_preds"
   ]
  },
  {
   "cell_type": "code",
   "execution_count": 9,
   "id": "0eaf2cda-7743-4eac-9850-7bf16589345e",
   "metadata": {},
   "outputs": [],
   "source": [
    "from tqdm import tqdm\n",
    "\n",
    "def test_with_majority_vote(model, loader, transformations, device):\n",
    "    \"\"\"\n",
    "    Evaluates the model on 'loader' using majority-voted predictions (original + transforms).\n",
    "    Prints per-batch accuracy and returns the final overall accuracy.\n",
    "    \"\"\"\n",
    "    model.eval()\n",
    "    correct = 0\n",
    "    total = 0\n",
    "\n",
    "    for i, (images, labels) in enumerate(tqdm(loader)):\n",
    "        images, labels = images.to(device), labels.to(device)\n",
    "\n",
    "        # Get majority-voted predictions\n",
    "        voted_preds = majority_vote_prediction(model, images, transformations, device)\n",
    "\n",
    "        # Compare to ground-truth\n",
    "        batch_correct = (voted_preds == labels).sum().item()\n",
    "        batch_size = labels.size(0)\n",
    "\n",
    "        correct += batch_correct\n",
    "        total += batch_size\n",
    "\n",
    "        # Print a line for each batch\n",
    "        print(f\"Batch {i} | MajVot Accuracy: {100.0 * batch_correct / batch_size:.2f}% | Batch Size: {batch_size}\")\n",
    "\n",
    "    # Final overall accuracy\n",
    "    overall_accuracy = 100.0 * correct / total\n",
    "    print(f\"\\nFinal MajVot Accuracy (across all test samples): {overall_accuracy:.2f}%\")\n",
    "    return overall_accuracy"
   ]
  },
  {
   "cell_type": "code",
   "execution_count": 11,
   "id": "5fac7b77-19d8-4e63-b1fe-2638fcc5e3b1",
   "metadata": {},
   "outputs": [
    {
     "name": "stderr",
     "output_type": "stream",
     "text": [
      "  1%|▌                                                                                     | 2/313 [00:00<01:42,  3.05it/s]"
     ]
    },
    {
     "name": "stdout",
     "output_type": "stream",
     "text": [
      "Batch 0 | MajVot Accuracy: 18.75% | Batch Size: 32\n",
      "Batch 1 | MajVot Accuracy: 15.62% | Batch Size: 32\n"
     ]
    },
    {
     "name": "stderr",
     "output_type": "stream",
     "text": [
      "  1%|█                                                                                     | 4/313 [00:01<01:03,  4.89it/s]"
     ]
    },
    {
     "name": "stdout",
     "output_type": "stream",
     "text": [
      "Batch 2 | MajVot Accuracy: 15.62% | Batch Size: 32\n",
      "Batch 3 | MajVot Accuracy: 3.12% | Batch Size: 32\n"
     ]
    },
    {
     "name": "stderr",
     "output_type": "stream",
     "text": [
      "  2%|█▋                                                                                    | 6/313 [00:01<00:53,  5.73it/s]"
     ]
    },
    {
     "name": "stdout",
     "output_type": "stream",
     "text": [
      "Batch 4 | MajVot Accuracy: 15.62% | Batch Size: 32\n",
      "Batch 5 | MajVot Accuracy: 9.38% | Batch Size: 32\n"
     ]
    },
    {
     "name": "stderr",
     "output_type": "stream",
     "text": [
      "  3%|██▏                                                                                   | 8/313 [00:01<00:49,  6.11it/s]"
     ]
    },
    {
     "name": "stdout",
     "output_type": "stream",
     "text": [
      "Batch 6 | MajVot Accuracy: 12.50% | Batch Size: 32\n",
      "Batch 7 | MajVot Accuracy: 9.38% | Batch Size: 32\n"
     ]
    },
    {
     "name": "stderr",
     "output_type": "stream",
     "text": [
      "  3%|██▋                                                                                  | 10/313 [00:01<00:46,  6.53it/s]"
     ]
    },
    {
     "name": "stdout",
     "output_type": "stream",
     "text": [
      "Batch 8 | MajVot Accuracy: 15.62% | Batch Size: 32\n",
      "Batch 9 | MajVot Accuracy: 15.62% | Batch Size: 32\n"
     ]
    },
    {
     "name": "stderr",
     "output_type": "stream",
     "text": [
      "  4%|██▉                                                                                  | 11/313 [00:02<00:53,  5.60it/s]"
     ]
    },
    {
     "name": "stdout",
     "output_type": "stream",
     "text": [
      "Batch 10 | MajVot Accuracy: 3.12% | Batch Size: 32\n",
      "Batch 11 | MajVot Accuracy: 18.75% | Batch Size: 32\n"
     ]
    },
    {
     "name": "stderr",
     "output_type": "stream",
     "text": [
      "  4%|███▊                                                                                 | 14/313 [00:02<00:53,  5.59it/s]"
     ]
    },
    {
     "name": "stdout",
     "output_type": "stream",
     "text": [
      "Batch 12 | MajVot Accuracy: 25.00% | Batch Size: 32\n",
      "Batch 13 | MajVot Accuracy: 12.50% | Batch Size: 32\n"
     ]
    },
    {
     "name": "stderr",
     "output_type": "stream",
     "text": [
      "  5%|████▎                                                                                | 16/313 [00:02<00:45,  6.52it/s]"
     ]
    },
    {
     "name": "stdout",
     "output_type": "stream",
     "text": [
      "Batch 14 | MajVot Accuracy: 21.88% | Batch Size: 32\n",
      "Batch 15 | MajVot Accuracy: 12.50% | Batch Size: 32\n"
     ]
    },
    {
     "name": "stderr",
     "output_type": "stream",
     "text": [
      "  6%|████▉                                                                                | 18/313 [00:03<00:42,  7.01it/s]"
     ]
    },
    {
     "name": "stdout",
     "output_type": "stream",
     "text": [
      "Batch 16 | MajVot Accuracy: 12.50% | Batch Size: 32\n",
      "Batch 17 | MajVot Accuracy: 21.88% | Batch Size: 32\n"
     ]
    },
    {
     "name": "stderr",
     "output_type": "stream",
     "text": [
      "  6%|█████▍                                                                               | 20/313 [00:03<00:39,  7.39it/s]"
     ]
    },
    {
     "name": "stdout",
     "output_type": "stream",
     "text": [
      "Batch 18 | MajVot Accuracy: 18.75% | Batch Size: 32\n",
      "Batch 19 | MajVot Accuracy: 3.12% | Batch Size: 32\n"
     ]
    },
    {
     "name": "stderr",
     "output_type": "stream",
     "text": [
      "  7%|█████▉                                                                               | 22/313 [00:03<00:39,  7.30it/s]"
     ]
    },
    {
     "name": "stdout",
     "output_type": "stream",
     "text": [
      "Batch 20 | MajVot Accuracy: 12.50% | Batch Size: 32\n",
      "Batch 21 | MajVot Accuracy: 9.38% | Batch Size: 32\n"
     ]
    },
    {
     "name": "stderr",
     "output_type": "stream",
     "text": [
      "  8%|██████▌                                                                              | 24/313 [00:04<00:38,  7.54it/s]"
     ]
    },
    {
     "name": "stdout",
     "output_type": "stream",
     "text": [
      "Batch 22 | MajVot Accuracy: 15.62% | Batch Size: 32\n",
      "Batch 23 | MajVot Accuracy: 12.50% | Batch Size: 32\n"
     ]
    },
    {
     "name": "stderr",
     "output_type": "stream",
     "text": [
      "  8%|███████                                                                              | 26/313 [00:04<00:37,  7.70it/s]"
     ]
    },
    {
     "name": "stdout",
     "output_type": "stream",
     "text": [
      "Batch 24 | MajVot Accuracy: 12.50% | Batch Size: 32\n",
      "Batch 25 | MajVot Accuracy: 31.25% | Batch Size: 32\n"
     ]
    },
    {
     "name": "stderr",
     "output_type": "stream",
     "text": [
      "  9%|███████▌                                                                             | 28/313 [00:04<00:37,  7.59it/s]"
     ]
    },
    {
     "name": "stdout",
     "output_type": "stream",
     "text": [
      "Batch 26 | MajVot Accuracy: 18.75% | Batch Size: 32\n",
      "Batch 27 | MajVot Accuracy: 12.50% | Batch Size: 32\n"
     ]
    },
    {
     "name": "stderr",
     "output_type": "stream",
     "text": [
      " 10%|████████▏                                                                            | 30/313 [00:04<00:34,  8.30it/s]"
     ]
    },
    {
     "name": "stdout",
     "output_type": "stream",
     "text": [
      "Batch 28 | MajVot Accuracy: 15.62% | Batch Size: 32\n",
      "Batch 29 | MajVot Accuracy: 18.75% | Batch Size: 32\n"
     ]
    },
    {
     "name": "stderr",
     "output_type": "stream",
     "text": [
      " 10%|████████▋                                                                            | 32/313 [00:04<00:32,  8.72it/s]"
     ]
    },
    {
     "name": "stdout",
     "output_type": "stream",
     "text": [
      "Batch 30 | MajVot Accuracy: 15.62% | Batch Size: 32\n",
      "Batch 31 | MajVot Accuracy: 18.75% | Batch Size: 32\n"
     ]
    },
    {
     "name": "stderr",
     "output_type": "stream",
     "text": [
      " 11%|█████████▏                                                                           | 34/313 [00:05<00:31,  8.78it/s]"
     ]
    },
    {
     "name": "stdout",
     "output_type": "stream",
     "text": [
      "Batch 32 | MajVot Accuracy: 15.62% | Batch Size: 32\n",
      "Batch 33 | MajVot Accuracy: 12.50% | Batch Size: 32\n"
     ]
    },
    {
     "name": "stderr",
     "output_type": "stream",
     "text": [
      " 12%|█████████▊                                                                           | 36/313 [00:05<00:30,  8.99it/s]"
     ]
    },
    {
     "name": "stdout",
     "output_type": "stream",
     "text": [
      "Batch 34 | MajVot Accuracy: 25.00% | Batch Size: 32\n",
      "Batch 35 | MajVot Accuracy: 15.62% | Batch Size: 32\n"
     ]
    },
    {
     "name": "stderr",
     "output_type": "stream",
     "text": [
      " 12%|██████████▎                                                                          | 38/313 [00:05<00:34,  8.02it/s]"
     ]
    },
    {
     "name": "stdout",
     "output_type": "stream",
     "text": [
      "Batch 36 | MajVot Accuracy: 12.50% | Batch Size: 32\n",
      "Batch 37 | MajVot Accuracy: 9.38% | Batch Size: 32\n"
     ]
    },
    {
     "name": "stderr",
     "output_type": "stream",
     "text": [
      " 13%|██████████▊                                                                          | 40/313 [00:05<00:32,  8.48it/s]"
     ]
    },
    {
     "name": "stdout",
     "output_type": "stream",
     "text": [
      "Batch 38 | MajVot Accuracy: 15.62% | Batch Size: 32\n",
      "Batch 39 | MajVot Accuracy: 6.25% | Batch Size: 32\n"
     ]
    },
    {
     "name": "stderr",
     "output_type": "stream",
     "text": [
      " 13%|███████████▍                                                                         | 42/313 [00:06<00:31,  8.69it/s]"
     ]
    },
    {
     "name": "stdout",
     "output_type": "stream",
     "text": [
      "Batch 40 | MajVot Accuracy: 21.88% | Batch Size: 32\n",
      "Batch 41 | MajVot Accuracy: 9.38% | Batch Size: 32\n"
     ]
    },
    {
     "name": "stderr",
     "output_type": "stream",
     "text": [
      " 14%|███████████▉                                                                         | 44/313 [00:06<00:30,  8.76it/s]"
     ]
    },
    {
     "name": "stdout",
     "output_type": "stream",
     "text": [
      "Batch 42 | MajVot Accuracy: 9.38% | Batch Size: 32\n",
      "Batch 43 | MajVot Accuracy: 18.75% | Batch Size: 32\n"
     ]
    },
    {
     "name": "stderr",
     "output_type": "stream",
     "text": [
      " 15%|████████████▍                                                                        | 46/313 [00:06<00:29,  9.00it/s]"
     ]
    },
    {
     "name": "stdout",
     "output_type": "stream",
     "text": [
      "Batch 44 | MajVot Accuracy: 15.62% | Batch Size: 32\n",
      "Batch 45 | MajVot Accuracy: 18.75% | Batch Size: 32\n"
     ]
    },
    {
     "name": "stderr",
     "output_type": "stream",
     "text": [
      " 15%|█████████████                                                                        | 48/313 [00:06<00:29,  9.03it/s]"
     ]
    },
    {
     "name": "stdout",
     "output_type": "stream",
     "text": [
      "Batch 46 | MajVot Accuracy: 15.62% | Batch Size: 32\n",
      "Batch 47 | MajVot Accuracy: 9.38% | Batch Size: 32\n"
     ]
    },
    {
     "name": "stderr",
     "output_type": "stream",
     "text": [
      " 16%|█████████████▊                                                                       | 51/313 [00:07<00:27,  9.58it/s]"
     ]
    },
    {
     "name": "stdout",
     "output_type": "stream",
     "text": [
      "Batch 48 | MajVot Accuracy: 18.75% | Batch Size: 32\n",
      "Batch 49 | MajVot Accuracy: 9.38% | Batch Size: 32\n",
      "Batch 50 | MajVot Accuracy: 9.38% | Batch Size: 32\n"
     ]
    },
    {
     "name": "stderr",
     "output_type": "stream",
     "text": [
      " 17%|██████████████▍                                                                      | 53/313 [00:07<00:29,  8.83it/s]"
     ]
    },
    {
     "name": "stdout",
     "output_type": "stream",
     "text": [
      "Batch 51 | MajVot Accuracy: 12.50% | Batch Size: 32\n",
      "Batch 52 | MajVot Accuracy: 18.75% | Batch Size: 32\n"
     ]
    },
    {
     "name": "stderr",
     "output_type": "stream",
     "text": [
      " 18%|██████████████▉                                                                      | 55/313 [00:07<00:29,  8.87it/s]"
     ]
    },
    {
     "name": "stdout",
     "output_type": "stream",
     "text": [
      "Batch 53 | MajVot Accuracy: 12.50% | Batch Size: 32\n",
      "Batch 54 | MajVot Accuracy: 15.62% | Batch Size: 32\n"
     ]
    },
    {
     "name": "stderr",
     "output_type": "stream",
     "text": [
      " 18%|███████████████▍                                                                     | 57/313 [00:07<00:28,  9.02it/s]"
     ]
    },
    {
     "name": "stdout",
     "output_type": "stream",
     "text": [
      "Batch 55 | MajVot Accuracy: 18.75% | Batch Size: 32\n",
      "Batch 56 | MajVot Accuracy: 12.50% | Batch Size: 32\n"
     ]
    },
    {
     "name": "stderr",
     "output_type": "stream",
     "text": [
      " 19%|████████████████                                                                     | 59/313 [00:08<00:27,  9.13it/s]"
     ]
    },
    {
     "name": "stdout",
     "output_type": "stream",
     "text": [
      "Batch 57 | MajVot Accuracy: 25.00% | Batch Size: 32\n",
      "Batch 58 | MajVot Accuracy: 6.25% | Batch Size: 32\n"
     ]
    },
    {
     "name": "stderr",
     "output_type": "stream",
     "text": [
      " 19%|████████████████▌                                                                    | 61/313 [00:08<00:28,  8.82it/s]"
     ]
    },
    {
     "name": "stdout",
     "output_type": "stream",
     "text": [
      "Batch 59 | MajVot Accuracy: 21.88% | Batch Size: 32\n",
      "Batch 60 | MajVot Accuracy: 15.62% | Batch Size: 32\n"
     ]
    },
    {
     "name": "stderr",
     "output_type": "stream",
     "text": [
      " 20%|█████████████████                                                                    | 63/313 [00:08<00:27,  8.99it/s]"
     ]
    },
    {
     "name": "stdout",
     "output_type": "stream",
     "text": [
      "Batch 61 | MajVot Accuracy: 6.25% | Batch Size: 32\n",
      "Batch 62 | MajVot Accuracy: 15.62% | Batch Size: 32\n"
     ]
    },
    {
     "name": "stderr",
     "output_type": "stream",
     "text": [
      " 21%|█████████████████▋                                                                   | 65/313 [00:08<00:27,  9.07it/s]"
     ]
    },
    {
     "name": "stdout",
     "output_type": "stream",
     "text": [
      "Batch 63 | MajVot Accuracy: 9.38% | Batch Size: 32\n",
      "Batch 64 | MajVot Accuracy: 12.50% | Batch Size: 32\n"
     ]
    },
    {
     "name": "stderr",
     "output_type": "stream",
     "text": [
      " 21%|██████████████████▏                                                                  | 67/313 [00:08<00:26,  9.13it/s]"
     ]
    },
    {
     "name": "stdout",
     "output_type": "stream",
     "text": [
      "Batch 65 | MajVot Accuracy: 9.38% | Batch Size: 32\n",
      "Batch 66 | MajVot Accuracy: 21.88% | Batch Size: 32\n"
     ]
    },
    {
     "name": "stderr",
     "output_type": "stream",
     "text": [
      " 22%|██████████████████▋                                                                  | 69/313 [00:09<00:26,  9.06it/s]"
     ]
    },
    {
     "name": "stdout",
     "output_type": "stream",
     "text": [
      "Batch 67 | MajVot Accuracy: 21.88% | Batch Size: 32\n",
      "Batch 68 | MajVot Accuracy: 15.62% | Batch Size: 32\n"
     ]
    },
    {
     "name": "stderr",
     "output_type": "stream",
     "text": [
      " 23%|███████████████████▎                                                                 | 71/313 [00:09<00:28,  8.56it/s]"
     ]
    },
    {
     "name": "stdout",
     "output_type": "stream",
     "text": [
      "Batch 69 | MajVot Accuracy: 15.62% | Batch Size: 32\n",
      "Batch 70 | MajVot Accuracy: 21.88% | Batch Size: 32\n"
     ]
    },
    {
     "name": "stderr",
     "output_type": "stream",
     "text": [
      " 23%|███████████████████▊                                                                 | 73/313 [00:09<00:27,  8.86it/s]"
     ]
    },
    {
     "name": "stdout",
     "output_type": "stream",
     "text": [
      "Batch 71 | MajVot Accuracy: 15.62% | Batch Size: 32\n",
      "Batch 72 | MajVot Accuracy: 15.62% | Batch Size: 32\n"
     ]
    },
    {
     "name": "stderr",
     "output_type": "stream",
     "text": [
      " 24%|████████████████████▎                                                                | 75/313 [00:09<00:26,  8.87it/s]"
     ]
    },
    {
     "name": "stdout",
     "output_type": "stream",
     "text": [
      "Batch 73 | MajVot Accuracy: 3.12% | Batch Size: 32\n",
      "Batch 74 | MajVot Accuracy: 15.62% | Batch Size: 32\n"
     ]
    },
    {
     "name": "stderr",
     "output_type": "stream",
     "text": [
      " 25%|████████████████████▉                                                                | 77/313 [00:10<00:27,  8.68it/s]"
     ]
    },
    {
     "name": "stdout",
     "output_type": "stream",
     "text": [
      "Batch 75 | MajVot Accuracy: 9.38% | Batch Size: 32\n",
      "Batch 76 | MajVot Accuracy: 6.25% | Batch Size: 32\n"
     ]
    },
    {
     "name": "stderr",
     "output_type": "stream",
     "text": [
      " 25%|█████████████████████▍                                                               | 79/313 [00:10<00:26,  8.95it/s]"
     ]
    },
    {
     "name": "stdout",
     "output_type": "stream",
     "text": [
      "Batch 77 | MajVot Accuracy: 15.62% | Batch Size: 32\n",
      "Batch 78 | MajVot Accuracy: 15.62% | Batch Size: 32\n"
     ]
    },
    {
     "name": "stderr",
     "output_type": "stream",
     "text": [
      " 26%|██████████████████████▎                                                              | 82/313 [00:10<00:24,  9.54it/s]"
     ]
    },
    {
     "name": "stdout",
     "output_type": "stream",
     "text": [
      "Batch 79 | MajVot Accuracy: 9.38% | Batch Size: 32\n",
      "Batch 80 | MajVot Accuracy: 3.12% | Batch Size: 32\n",
      "Batch 81 | MajVot Accuracy: 6.25% | Batch Size: 32\n"
     ]
    },
    {
     "name": "stderr",
     "output_type": "stream",
     "text": [
      " 27%|██████████████████████▊                                                              | 84/313 [00:10<00:24,  9.35it/s]"
     ]
    },
    {
     "name": "stdout",
     "output_type": "stream",
     "text": [
      "Batch 82 | MajVot Accuracy: 15.62% | Batch Size: 32\n",
      "Batch 83 | MajVot Accuracy: 12.50% | Batch Size: 32\n"
     ]
    },
    {
     "name": "stderr",
     "output_type": "stream",
     "text": [
      " 27%|███████████████████████▎                                                             | 86/313 [00:11<00:24,  9.29it/s]"
     ]
    },
    {
     "name": "stdout",
     "output_type": "stream",
     "text": [
      "Batch 84 | MajVot Accuracy: 0.00% | Batch Size: 32\n",
      "Batch 85 | MajVot Accuracy: 15.62% | Batch Size: 32\n"
     ]
    },
    {
     "name": "stderr",
     "output_type": "stream",
     "text": [
      " 28%|███████████████████████▉                                                             | 88/313 [00:11<00:24,  9.27it/s]"
     ]
    },
    {
     "name": "stdout",
     "output_type": "stream",
     "text": [
      "Batch 86 | MajVot Accuracy: 12.50% | Batch Size: 32\n",
      "Batch 87 | MajVot Accuracy: 21.88% | Batch Size: 32\n"
     ]
    },
    {
     "name": "stderr",
     "output_type": "stream",
     "text": [
      " 29%|████████████████████████▍                                                            | 90/313 [00:11<00:23,  9.30it/s]"
     ]
    },
    {
     "name": "stdout",
     "output_type": "stream",
     "text": [
      "Batch 88 | MajVot Accuracy: 15.62% | Batch Size: 32\n",
      "Batch 89 | MajVot Accuracy: 3.12% | Batch Size: 32\n"
     ]
    },
    {
     "name": "stderr",
     "output_type": "stream",
     "text": [
      " 29%|████████████████████████▉                                                            | 92/313 [00:11<00:23,  9.34it/s]"
     ]
    },
    {
     "name": "stdout",
     "output_type": "stream",
     "text": [
      "Batch 90 | MajVot Accuracy: 18.75% | Batch Size: 32\n",
      "Batch 91 | MajVot Accuracy: 15.62% | Batch Size: 32\n"
     ]
    },
    {
     "name": "stderr",
     "output_type": "stream",
     "text": [
      " 30%|█████████████████████████▌                                                           | 94/313 [00:11<00:23,  9.32it/s]"
     ]
    },
    {
     "name": "stdout",
     "output_type": "stream",
     "text": [
      "Batch 92 | MajVot Accuracy: 21.88% | Batch Size: 32\n",
      "Batch 93 | MajVot Accuracy: 3.12% | Batch Size: 32\n"
     ]
    },
    {
     "name": "stderr",
     "output_type": "stream",
     "text": [
      " 31%|██████████████████████████                                                           | 96/313 [00:12<00:23,  9.33it/s]"
     ]
    },
    {
     "name": "stdout",
     "output_type": "stream",
     "text": [
      "Batch 94 | MajVot Accuracy: 9.38% | Batch Size: 32\n",
      "Batch 95 | MajVot Accuracy: 9.38% | Batch Size: 32\n"
     ]
    },
    {
     "name": "stderr",
     "output_type": "stream",
     "text": [
      " 32%|██████████████████████████▉                                                          | 99/313 [00:12<00:21,  9.76it/s]"
     ]
    },
    {
     "name": "stdout",
     "output_type": "stream",
     "text": [
      "Batch 96 | MajVot Accuracy: 9.38% | Batch Size: 32\n",
      "Batch 97 | MajVot Accuracy: 31.25% | Batch Size: 32\n",
      "Batch 98 | MajVot Accuracy: 28.12% | Batch Size: 32\n"
     ]
    },
    {
     "name": "stderr",
     "output_type": "stream",
     "text": [
      " 32%|███████████████████████████                                                         | 101/313 [00:12<00:23,  9.12it/s]"
     ]
    },
    {
     "name": "stdout",
     "output_type": "stream",
     "text": [
      "Batch 99 | MajVot Accuracy: 21.88% | Batch Size: 32\n",
      "Batch 100 | MajVot Accuracy: 18.75% | Batch Size: 32\n"
     ]
    },
    {
     "name": "stderr",
     "output_type": "stream",
     "text": [
      " 33%|███████████████████████████▋                                                        | 103/313 [00:12<00:22,  9.30it/s]"
     ]
    },
    {
     "name": "stdout",
     "output_type": "stream",
     "text": [
      "Batch 101 | MajVot Accuracy: 25.00% | Batch Size: 32\n",
      "Batch 102 | MajVot Accuracy: 18.75% | Batch Size: 32\n"
     ]
    },
    {
     "name": "stderr",
     "output_type": "stream",
     "text": [
      " 34%|████████████████████████████▏                                                       | 105/313 [00:13<00:21,  9.49it/s]"
     ]
    },
    {
     "name": "stdout",
     "output_type": "stream",
     "text": [
      "Batch 103 | MajVot Accuracy: 18.75% | Batch Size: 32\n",
      "Batch 104 | MajVot Accuracy: 18.75% | Batch Size: 32\n"
     ]
    },
    {
     "name": "stderr",
     "output_type": "stream",
     "text": [
      " 34%|████████████████████████████▋                                                       | 107/313 [00:13<00:21,  9.65it/s]"
     ]
    },
    {
     "name": "stdout",
     "output_type": "stream",
     "text": [
      "Batch 105 | MajVot Accuracy: 12.50% | Batch Size: 32\n",
      "Batch 106 | MajVot Accuracy: 12.50% | Batch Size: 32\n"
     ]
    },
    {
     "name": "stderr",
     "output_type": "stream",
     "text": [
      " 35%|█████████████████████████████▌                                                      | 110/313 [00:13<00:20,  9.79it/s]"
     ]
    },
    {
     "name": "stdout",
     "output_type": "stream",
     "text": [
      "Batch 107 | MajVot Accuracy: 9.38% | Batch Size: 32\n",
      "Batch 108 | MajVot Accuracy: 12.50% | Batch Size: 32\n",
      "Batch 109 | MajVot Accuracy: 12.50% | Batch Size: 32\n"
     ]
    },
    {
     "name": "stderr",
     "output_type": "stream",
     "text": [
      " 36%|██████████████████████████████                                                      | 112/313 [00:13<00:21,  9.39it/s]"
     ]
    },
    {
     "name": "stdout",
     "output_type": "stream",
     "text": [
      "Batch 110 | MajVot Accuracy: 12.50% | Batch Size: 32\n",
      "Batch 111 | MajVot Accuracy: 6.25% | Batch Size: 32\n"
     ]
    },
    {
     "name": "stderr",
     "output_type": "stream",
     "text": [
      " 36%|██████████████████████████████▌                                                     | 114/313 [00:13<00:20,  9.61it/s]"
     ]
    },
    {
     "name": "stdout",
     "output_type": "stream",
     "text": [
      "Batch 112 | MajVot Accuracy: 9.38% | Batch Size: 32\n",
      "Batch 113 | MajVot Accuracy: 6.25% | Batch Size: 32\n"
     ]
    },
    {
     "name": "stderr",
     "output_type": "stream",
     "text": [
      " 37%|███████████████████████████████▍                                                    | 117/313 [00:14<00:19,  9.85it/s]"
     ]
    },
    {
     "name": "stdout",
     "output_type": "stream",
     "text": [
      "Batch 114 | MajVot Accuracy: 12.50% | Batch Size: 32\n",
      "Batch 115 | MajVot Accuracy: 6.25% | Batch Size: 32\n",
      "Batch 116 | MajVot Accuracy: 9.38% | Batch Size: 32\n"
     ]
    },
    {
     "name": "stderr",
     "output_type": "stream",
     "text": [
      " 38%|███████████████████████████████▉                                                    | 119/313 [00:14<00:19,  9.89it/s]"
     ]
    },
    {
     "name": "stdout",
     "output_type": "stream",
     "text": [
      "Batch 117 | MajVot Accuracy: 12.50% | Batch Size: 32\n",
      "Batch 118 | MajVot Accuracy: 15.62% | Batch Size: 32\n"
     ]
    },
    {
     "name": "stderr",
     "output_type": "stream",
     "text": [
      " 39%|████████████████████████████████▍                                                   | 121/313 [00:14<00:19,  9.69it/s]"
     ]
    },
    {
     "name": "stdout",
     "output_type": "stream",
     "text": [
      "Batch 119 | MajVot Accuracy: 21.88% | Batch Size: 32\n",
      "Batch 120 | MajVot Accuracy: 21.88% | Batch Size: 32\n"
     ]
    },
    {
     "name": "stderr",
     "output_type": "stream",
     "text": [
      " 39%|█████████████████████████████████                                                   | 123/313 [00:14<00:19,  9.64it/s]"
     ]
    },
    {
     "name": "stdout",
     "output_type": "stream",
     "text": [
      "Batch 121 | MajVot Accuracy: 12.50% | Batch Size: 32\n",
      "Batch 122 | MajVot Accuracy: 28.12% | Batch Size: 32\n"
     ]
    },
    {
     "name": "stderr",
     "output_type": "stream",
     "text": [
      " 40%|█████████████████████████████████▌                                                  | 125/313 [00:15<00:19,  9.79it/s]"
     ]
    },
    {
     "name": "stdout",
     "output_type": "stream",
     "text": [
      "Batch 123 | MajVot Accuracy: 6.25% | Batch Size: 32\n",
      "Batch 124 | MajVot Accuracy: 15.62% | Batch Size: 32\n"
     ]
    },
    {
     "name": "stderr",
     "output_type": "stream",
     "text": [
      " 41%|██████████████████████████████████                                                  | 127/313 [00:15<00:19,  9.67it/s]"
     ]
    },
    {
     "name": "stdout",
     "output_type": "stream",
     "text": [
      "Batch 125 | MajVot Accuracy: 9.38% | Batch Size: 32\n",
      "Batch 126 | MajVot Accuracy: 28.12% | Batch Size: 32\n",
      "Batch 127 | MajVot Accuracy: 6.25% | Batch Size: 32\n"
     ]
    },
    {
     "name": "stderr",
     "output_type": "stream",
     "text": [
      " 42%|██████████████████████████████████▉                                                 | 130/313 [00:15<00:18,  9.87it/s]"
     ]
    },
    {
     "name": "stdout",
     "output_type": "stream",
     "text": [
      "Batch 128 | MajVot Accuracy: 6.25% | Batch Size: 32\n",
      "Batch 129 | MajVot Accuracy: 15.62% | Batch Size: 32\n"
     ]
    },
    {
     "name": "stderr",
     "output_type": "stream",
     "text": [
      " 42%|███████████████████████████████████▍                                                | 132/313 [00:15<00:18,  9.89it/s]"
     ]
    },
    {
     "name": "stdout",
     "output_type": "stream",
     "text": [
      "Batch 130 | MajVot Accuracy: 9.38% | Batch Size: 32\n",
      "Batch 131 | MajVot Accuracy: 3.12% | Batch Size: 32\n",
      "Batch 132 | MajVot Accuracy: 15.62% | Batch Size: 32\n"
     ]
    },
    {
     "name": "stderr",
     "output_type": "stream",
     "text": [
      " 43%|████████████████████████████████████▏                                               | 135/313 [00:16<00:18,  9.88it/s]"
     ]
    },
    {
     "name": "stdout",
     "output_type": "stream",
     "text": [
      "Batch 133 | MajVot Accuracy: 12.50% | Batch Size: 32\n",
      "Batch 134 | MajVot Accuracy: 12.50% | Batch Size: 32\n"
     ]
    },
    {
     "name": "stderr",
     "output_type": "stream",
     "text": [
      " 44%|████████████████████████████████████▊                                               | 137/313 [00:16<00:18,  9.66it/s]"
     ]
    },
    {
     "name": "stdout",
     "output_type": "stream",
     "text": [
      "Batch 135 | MajVot Accuracy: 21.88% | Batch Size: 32\n",
      "Batch 136 | MajVot Accuracy: 15.62% | Batch Size: 32\n"
     ]
    },
    {
     "name": "stderr",
     "output_type": "stream",
     "text": [
      " 44%|█████████████████████████████████████▎                                              | 139/313 [00:16<00:17,  9.78it/s]"
     ]
    },
    {
     "name": "stdout",
     "output_type": "stream",
     "text": [
      "Batch 137 | MajVot Accuracy: 15.62% | Batch Size: 32\n",
      "Batch 138 | MajVot Accuracy: 9.38% | Batch Size: 32\n"
     ]
    },
    {
     "name": "stderr",
     "output_type": "stream",
     "text": [
      " 45%|█████████████████████████████████████▊                                              | 141/313 [00:16<00:17,  9.82it/s]"
     ]
    },
    {
     "name": "stdout",
     "output_type": "stream",
     "text": [
      "Batch 139 | MajVot Accuracy: 6.25% | Batch Size: 32\n",
      "Batch 140 | MajVot Accuracy: 12.50% | Batch Size: 32\n"
     ]
    },
    {
     "name": "stderr",
     "output_type": "stream",
     "text": [
      " 46%|██████████████████████████████████████▍                                             | 143/313 [00:16<00:17,  9.71it/s]"
     ]
    },
    {
     "name": "stdout",
     "output_type": "stream",
     "text": [
      "Batch 141 | MajVot Accuracy: 15.62% | Batch Size: 32\n",
      "Batch 142 | MajVot Accuracy: 0.00% | Batch Size: 32\n"
     ]
    },
    {
     "name": "stderr",
     "output_type": "stream",
     "text": [
      " 46%|██████████████████████████████████████▉                                             | 145/313 [00:17<00:17,  9.82it/s]"
     ]
    },
    {
     "name": "stdout",
     "output_type": "stream",
     "text": [
      "Batch 143 | MajVot Accuracy: 18.75% | Batch Size: 32\n",
      "Batch 144 | MajVot Accuracy: 6.25% | Batch Size: 32\n",
      "Batch 145 | MajVot Accuracy: 12.50% | Batch Size: 32\n"
     ]
    },
    {
     "name": "stderr",
     "output_type": "stream",
     "text": [
      " 47%|███████████████████████████████████████▋                                            | 148/313 [00:17<00:16,  9.91it/s]"
     ]
    },
    {
     "name": "stdout",
     "output_type": "stream",
     "text": [
      "Batch 146 | MajVot Accuracy: 21.88% | Batch Size: 32\n",
      "Batch 147 | MajVot Accuracy: 18.75% | Batch Size: 32\n"
     ]
    },
    {
     "name": "stderr",
     "output_type": "stream",
     "text": [
      " 48%|████████████████████████████████████████▎                                           | 150/313 [00:17<00:16,  9.87it/s]"
     ]
    },
    {
     "name": "stdout",
     "output_type": "stream",
     "text": [
      "Batch 148 | MajVot Accuracy: 6.25% | Batch Size: 32\n",
      "Batch 149 | MajVot Accuracy: 12.50% | Batch Size: 32\n"
     ]
    },
    {
     "name": "stderr",
     "output_type": "stream",
     "text": [
      " 49%|████████████████████████████████████████▊                                           | 152/313 [00:17<00:16,  9.92it/s]"
     ]
    },
    {
     "name": "stdout",
     "output_type": "stream",
     "text": [
      "Batch 150 | MajVot Accuracy: 12.50% | Batch Size: 32\n",
      "Batch 151 | MajVot Accuracy: 9.38% | Batch Size: 32\n"
     ]
    },
    {
     "name": "stderr",
     "output_type": "stream",
     "text": [
      " 49%|█████████████████████████████████████████▎                                          | 154/313 [00:18<00:16,  9.77it/s]"
     ]
    },
    {
     "name": "stdout",
     "output_type": "stream",
     "text": [
      "Batch 152 | MajVot Accuracy: 6.25% | Batch Size: 32\n",
      "Batch 153 | MajVot Accuracy: 15.62% | Batch Size: 32\n",
      "Batch 154 | MajVot Accuracy: 6.25% | Batch Size: 32\n"
     ]
    },
    {
     "name": "stderr",
     "output_type": "stream",
     "text": [
      " 50%|█████████████████████████████████████████▊                                          | 156/313 [00:18<00:15,  9.84it/s]"
     ]
    },
    {
     "name": "stdout",
     "output_type": "stream",
     "text": [
      "Batch 155 | MajVot Accuracy: 3.12% | Batch Size: 32\n",
      "Batch 156 | MajVot Accuracy: 18.75% | Batch Size: 32\n"
     ]
    },
    {
     "name": "stderr",
     "output_type": "stream",
     "text": [
      " 51%|██████████████████████████████████████████▉                                         | 160/313 [00:18<00:15,  9.92it/s]"
     ]
    },
    {
     "name": "stdout",
     "output_type": "stream",
     "text": [
      "Batch 157 | MajVot Accuracy: 12.50% | Batch Size: 32\n",
      "Batch 158 | MajVot Accuracy: 9.38% | Batch Size: 32\n",
      "Batch 159 | MajVot Accuracy: 15.62% | Batch Size: 32\n"
     ]
    },
    {
     "name": "stderr",
     "output_type": "stream",
     "text": [
      " 51%|███████████████████████████████████████████▏                                        | 161/313 [00:18<00:15,  9.92it/s]"
     ]
    },
    {
     "name": "stdout",
     "output_type": "stream",
     "text": [
      "Batch 160 | MajVot Accuracy: 9.38% | Batch Size: 32\n",
      "Batch 161 | MajVot Accuracy: 6.25% | Batch Size: 32\n"
     ]
    },
    {
     "name": "stderr",
     "output_type": "stream",
     "text": [
      " 52%|████████████████████████████████████████████                                        | 164/313 [00:19<00:15,  9.77it/s]"
     ]
    },
    {
     "name": "stdout",
     "output_type": "stream",
     "text": [
      "Batch 162 | MajVot Accuracy: 12.50% | Batch Size: 32\n",
      "Batch 163 | MajVot Accuracy: 9.38% | Batch Size: 32\n"
     ]
    },
    {
     "name": "stderr",
     "output_type": "stream",
     "text": [
      " 53%|████████████████████████████████████████████▌                                       | 166/313 [00:19<00:15,  9.62it/s]"
     ]
    },
    {
     "name": "stdout",
     "output_type": "stream",
     "text": [
      "Batch 164 | MajVot Accuracy: 15.62% | Batch Size: 32\n",
      "Batch 165 | MajVot Accuracy: 21.88% | Batch Size: 32\n"
     ]
    },
    {
     "name": "stderr",
     "output_type": "stream",
     "text": [
      " 54%|█████████████████████████████████████████████                                       | 168/313 [00:19<00:14,  9.71it/s]"
     ]
    },
    {
     "name": "stdout",
     "output_type": "stream",
     "text": [
      "Batch 166 | MajVot Accuracy: 18.75% | Batch Size: 32\n",
      "Batch 167 | MajVot Accuracy: 18.75% | Batch Size: 32\n"
     ]
    },
    {
     "name": "stderr",
     "output_type": "stream",
     "text": [
      " 54%|█████████████████████████████████████████████▌                                      | 170/313 [00:19<00:14,  9.79it/s]"
     ]
    },
    {
     "name": "stdout",
     "output_type": "stream",
     "text": [
      "Batch 168 | MajVot Accuracy: 6.25% | Batch Size: 32\n",
      "Batch 169 | MajVot Accuracy: 3.12% | Batch Size: 32\n"
     ]
    },
    {
     "name": "stderr",
     "output_type": "stream",
     "text": [
      " 55%|██████████████████████████████████████████████▏                                     | 172/313 [00:19<00:14,  9.46it/s]"
     ]
    },
    {
     "name": "stdout",
     "output_type": "stream",
     "text": [
      "Batch 170 | MajVot Accuracy: 15.62% | Batch Size: 32\n",
      "Batch 171 | MajVot Accuracy: 18.75% | Batch Size: 32\n"
     ]
    },
    {
     "name": "stderr",
     "output_type": "stream",
     "text": [
      " 56%|██████████████████████████████████████████████▉                                     | 175/313 [00:20<00:14,  9.76it/s]"
     ]
    },
    {
     "name": "stdout",
     "output_type": "stream",
     "text": [
      "Batch 172 | MajVot Accuracy: 12.50% | Batch Size: 32\n",
      "Batch 173 | MajVot Accuracy: 9.38% | Batch Size: 32\n",
      "Batch 174 | MajVot Accuracy: 18.75% | Batch Size: 32\n"
     ]
    },
    {
     "name": "stderr",
     "output_type": "stream",
     "text": [
      " 57%|███████████████████████████████████████████████▌                                    | 177/313 [00:20<00:13,  9.78it/s]"
     ]
    },
    {
     "name": "stdout",
     "output_type": "stream",
     "text": [
      "Batch 175 | MajVot Accuracy: 18.75% | Batch Size: 32\n",
      "Batch 176 | MajVot Accuracy: 12.50% | Batch Size: 32\n"
     ]
    },
    {
     "name": "stderr",
     "output_type": "stream",
     "text": [
      " 57%|████████████████████████████████████████████████                                    | 179/313 [00:20<00:13,  9.83it/s]"
     ]
    },
    {
     "name": "stdout",
     "output_type": "stream",
     "text": [
      "Batch 177 | MajVot Accuracy: 12.50% | Batch Size: 32\n",
      "Batch 178 | MajVot Accuracy: 9.38% | Batch Size: 32\n"
     ]
    },
    {
     "name": "stderr",
     "output_type": "stream",
     "text": [
      " 58%|████████████████████████████████████████████████▌                                   | 181/313 [00:20<00:13,  9.63it/s]"
     ]
    },
    {
     "name": "stdout",
     "output_type": "stream",
     "text": [
      "Batch 179 | MajVot Accuracy: 12.50% | Batch Size: 32\n",
      "Batch 180 | MajVot Accuracy: 25.00% | Batch Size: 32\n"
     ]
    },
    {
     "name": "stderr",
     "output_type": "stream",
     "text": [
      " 58%|█████████████████████████████████████████████████                                   | 183/313 [00:21<00:13,  9.76it/s]"
     ]
    },
    {
     "name": "stdout",
     "output_type": "stream",
     "text": [
      "Batch 181 | MajVot Accuracy: 9.38% | Batch Size: 32\n",
      "Batch 182 | MajVot Accuracy: 15.62% | Batch Size: 32\n"
     ]
    },
    {
     "name": "stderr",
     "output_type": "stream",
     "text": [
      " 59%|█████████████████████████████████████████████████▋                                  | 185/313 [00:21<00:13,  9.64it/s]"
     ]
    },
    {
     "name": "stdout",
     "output_type": "stream",
     "text": [
      "Batch 183 | MajVot Accuracy: 15.62% | Batch Size: 32\n",
      "Batch 184 | MajVot Accuracy: 18.75% | Batch Size: 32\n"
     ]
    },
    {
     "name": "stderr",
     "output_type": "stream",
     "text": [
      " 60%|██████████████████████████████████████████████████▏                                 | 187/313 [00:21<00:13,  9.45it/s]"
     ]
    },
    {
     "name": "stdout",
     "output_type": "stream",
     "text": [
      "Batch 185 | MajVot Accuracy: 18.75% | Batch Size: 32\n",
      "Batch 186 | MajVot Accuracy: 18.75% | Batch Size: 32\n"
     ]
    },
    {
     "name": "stderr",
     "output_type": "stream",
     "text": [
      " 60%|██████████████████████████████████████████████████▋                                 | 189/313 [00:21<00:12,  9.71it/s]"
     ]
    },
    {
     "name": "stdout",
     "output_type": "stream",
     "text": [
      "Batch 187 | MajVot Accuracy: 12.50% | Batch Size: 32\n",
      "Batch 188 | MajVot Accuracy: 3.12% | Batch Size: 32\n"
     ]
    },
    {
     "name": "stderr",
     "output_type": "stream",
     "text": [
      " 61%|███████████████████████████████████████████████████▎                                | 191/313 [00:21<00:12,  9.56it/s]"
     ]
    },
    {
     "name": "stdout",
     "output_type": "stream",
     "text": [
      "Batch 189 | MajVot Accuracy: 15.62% | Batch Size: 32\n",
      "Batch 190 | MajVot Accuracy: 12.50% | Batch Size: 32\n"
     ]
    },
    {
     "name": "stderr",
     "output_type": "stream",
     "text": [
      " 62%|███████████████████████████████████████████████████▊                                | 193/313 [00:22<00:13,  9.12it/s]"
     ]
    },
    {
     "name": "stdout",
     "output_type": "stream",
     "text": [
      "Batch 191 | MajVot Accuracy: 21.88% | Batch Size: 32\n",
      "Batch 192 | MajVot Accuracy: 6.25% | Batch Size: 32\n"
     ]
    },
    {
     "name": "stderr",
     "output_type": "stream",
     "text": [
      " 62%|████████████████████████████████████████████████████▎                               | 195/313 [00:22<00:12,  9.23it/s]"
     ]
    },
    {
     "name": "stdout",
     "output_type": "stream",
     "text": [
      "Batch 193 | MajVot Accuracy: 18.75% | Batch Size: 32\n",
      "Batch 194 | MajVot Accuracy: 25.00% | Batch Size: 32\n"
     ]
    },
    {
     "name": "stderr",
     "output_type": "stream",
     "text": [
      " 63%|█████████████████████████████████████████████████████▏                              | 198/313 [00:22<00:11,  9.60it/s]"
     ]
    },
    {
     "name": "stdout",
     "output_type": "stream",
     "text": [
      "Batch 195 | MajVot Accuracy: 12.50% | Batch Size: 32\n",
      "Batch 196 | MajVot Accuracy: 25.00% | Batch Size: 32\n",
      "Batch 197 | MajVot Accuracy: 18.75% | Batch Size: 32\n"
     ]
    },
    {
     "name": "stderr",
     "output_type": "stream",
     "text": [
      " 64%|█████████████████████████████████████████████████████▋                              | 200/313 [00:22<00:11,  9.43it/s]"
     ]
    },
    {
     "name": "stdout",
     "output_type": "stream",
     "text": [
      "Batch 198 | MajVot Accuracy: 21.88% | Batch Size: 32\n",
      "Batch 199 | MajVot Accuracy: 21.88% | Batch Size: 32\n"
     ]
    },
    {
     "name": "stderr",
     "output_type": "stream",
     "text": [
      " 65%|██████████████████████████████████████████████████████▏                             | 202/313 [00:23<00:11,  9.38it/s]"
     ]
    },
    {
     "name": "stdout",
     "output_type": "stream",
     "text": [
      "Batch 200 | MajVot Accuracy: 3.12% | Batch Size: 32\n",
      "Batch 201 | MajVot Accuracy: 18.75% | Batch Size: 32\n"
     ]
    },
    {
     "name": "stderr",
     "output_type": "stream",
     "text": [
      " 65%|███████████████████████████████████████████████████████                             | 205/313 [00:23<00:11,  9.72it/s]"
     ]
    },
    {
     "name": "stdout",
     "output_type": "stream",
     "text": [
      "Batch 202 | MajVot Accuracy: 12.50% | Batch Size: 32\n",
      "Batch 203 | MajVot Accuracy: 15.62% | Batch Size: 32\n",
      "Batch 204 | MajVot Accuracy: 12.50% | Batch Size: 32\n"
     ]
    },
    {
     "name": "stderr",
     "output_type": "stream",
     "text": [
      " 66%|███████████████████████████████████████████████████████▊                            | 208/313 [00:23<00:10,  9.85it/s]"
     ]
    },
    {
     "name": "stdout",
     "output_type": "stream",
     "text": [
      "Batch 205 | MajVot Accuracy: 18.75% | Batch Size: 32\n",
      "Batch 206 | MajVot Accuracy: 6.25% | Batch Size: 32\n",
      "Batch 207 | MajVot Accuracy: 18.75% | Batch Size: 32\n"
     ]
    },
    {
     "name": "stderr",
     "output_type": "stream",
     "text": [
      " 67%|████████████████████████████████████████████████████████▎                           | 210/313 [00:23<00:11,  9.14it/s]"
     ]
    },
    {
     "name": "stdout",
     "output_type": "stream",
     "text": [
      "Batch 208 | MajVot Accuracy: 9.38% | Batch Size: 32\n",
      "Batch 209 | MajVot Accuracy: 12.50% | Batch Size: 32\n"
     ]
    },
    {
     "name": "stderr",
     "output_type": "stream",
     "text": [
      " 68%|█████████████████████████████████████████████████████████▏                          | 213/313 [00:24<00:10,  9.62it/s]"
     ]
    },
    {
     "name": "stdout",
     "output_type": "stream",
     "text": [
      "Batch 210 | MajVot Accuracy: 3.12% | Batch Size: 32\n",
      "Batch 211 | MajVot Accuracy: 9.38% | Batch Size: 32\n",
      "Batch 212 | MajVot Accuracy: 25.00% | Batch Size: 32\n"
     ]
    },
    {
     "name": "stderr",
     "output_type": "stream",
     "text": [
      " 69%|█████████████████████████████████████████████████████████▋                          | 215/313 [00:24<00:10,  9.19it/s]"
     ]
    },
    {
     "name": "stdout",
     "output_type": "stream",
     "text": [
      "Batch 213 | MajVot Accuracy: 18.75% | Batch Size: 32\n",
      "Batch 214 | MajVot Accuracy: 9.38% | Batch Size: 32\n"
     ]
    },
    {
     "name": "stderr",
     "output_type": "stream",
     "text": [
      " 69%|██████████████████████████████████████████████████████████▏                         | 217/313 [00:24<00:10,  9.29it/s]"
     ]
    },
    {
     "name": "stdout",
     "output_type": "stream",
     "text": [
      "Batch 215 | MajVot Accuracy: 9.38% | Batch Size: 32\n",
      "Batch 216 | MajVot Accuracy: 12.50% | Batch Size: 32\n"
     ]
    },
    {
     "name": "stderr",
     "output_type": "stream",
     "text": [
      " 70%|██████████████████████████████████████████████████████████▊                         | 219/313 [00:24<00:09,  9.58it/s]"
     ]
    },
    {
     "name": "stdout",
     "output_type": "stream",
     "text": [
      "Batch 217 | MajVot Accuracy: 12.50% | Batch Size: 32\n",
      "Batch 218 | MajVot Accuracy: 3.12% | Batch Size: 32\n"
     ]
    },
    {
     "name": "stderr",
     "output_type": "stream",
     "text": [
      " 71%|███████████████████████████████████████████████████████████▎                        | 221/313 [00:25<00:09,  9.38it/s]"
     ]
    },
    {
     "name": "stdout",
     "output_type": "stream",
     "text": [
      "Batch 219 | MajVot Accuracy: 12.50% | Batch Size: 32\n",
      "Batch 220 | MajVot Accuracy: 9.38% | Batch Size: 32\n"
     ]
    },
    {
     "name": "stderr",
     "output_type": "stream",
     "text": [
      " 71%|███████████████████████████████████████████████████████████▊                        | 223/313 [00:25<00:09,  9.60it/s]"
     ]
    },
    {
     "name": "stdout",
     "output_type": "stream",
     "text": [
      "Batch 221 | MajVot Accuracy: 25.00% | Batch Size: 32\n",
      "Batch 222 | MajVot Accuracy: 15.62% | Batch Size: 32\n",
      "Batch 223 | MajVot Accuracy: 21.88% | Batch Size: 32\n"
     ]
    },
    {
     "name": "stderr",
     "output_type": "stream",
     "text": [
      " 72%|████████████████████████████████████████████████████████████▍                       | 225/313 [00:25<00:08,  9.84it/s]"
     ]
    },
    {
     "name": "stdout",
     "output_type": "stream",
     "text": [
      "Batch 224 | MajVot Accuracy: 12.50% | Batch Size: 32\n",
      "Batch 225 | MajVot Accuracy: 21.88% | Batch Size: 32\n"
     ]
    },
    {
     "name": "stderr",
     "output_type": "stream",
     "text": [
      " 73%|█████████████████████████████████████████████████████████████▏                      | 228/313 [00:25<00:08,  9.85it/s]"
     ]
    },
    {
     "name": "stdout",
     "output_type": "stream",
     "text": [
      "Batch 226 | MajVot Accuracy: 9.38% | Batch Size: 32\n",
      "Batch 227 | MajVot Accuracy: 15.62% | Batch Size: 32\n"
     ]
    },
    {
     "name": "stderr",
     "output_type": "stream",
     "text": [
      " 73%|█████████████████████████████████████████████████████████████▋                      | 230/313 [00:25<00:08,  9.70it/s]"
     ]
    },
    {
     "name": "stdout",
     "output_type": "stream",
     "text": [
      "Batch 228 | MajVot Accuracy: 9.38% | Batch Size: 32\n",
      "Batch 229 | MajVot Accuracy: 12.50% | Batch Size: 32\n"
     ]
    },
    {
     "name": "stderr",
     "output_type": "stream",
     "text": [
      " 74%|██████████████████████████████████████████████████████████████▎                     | 232/313 [00:26<00:08,  9.50it/s]"
     ]
    },
    {
     "name": "stdout",
     "output_type": "stream",
     "text": [
      "Batch 230 | MajVot Accuracy: 12.50% | Batch Size: 32\n",
      "Batch 231 | MajVot Accuracy: 9.38% | Batch Size: 32\n"
     ]
    },
    {
     "name": "stderr",
     "output_type": "stream",
     "text": [
      " 75%|██████████████████████████████████████████████████████████████▊                     | 234/313 [00:26<00:08,  9.70it/s]"
     ]
    },
    {
     "name": "stdout",
     "output_type": "stream",
     "text": [
      "Batch 232 | MajVot Accuracy: 12.50% | Batch Size: 32\n",
      "Batch 233 | MajVot Accuracy: 15.62% | Batch Size: 32\n"
     ]
    },
    {
     "name": "stderr",
     "output_type": "stream",
     "text": [
      " 75%|███████████████████████████████████████████████████████████████▎                    | 236/313 [00:26<00:07,  9.65it/s]"
     ]
    },
    {
     "name": "stdout",
     "output_type": "stream",
     "text": [
      "Batch 234 | MajVot Accuracy: 18.75% | Batch Size: 32\n",
      "Batch 235 | MajVot Accuracy: 18.75% | Batch Size: 32\n"
     ]
    },
    {
     "name": "stderr",
     "output_type": "stream",
     "text": [
      " 76%|███████████████████████████████████████████████████████████████▊                    | 238/313 [00:26<00:07,  9.50it/s]"
     ]
    },
    {
     "name": "stdout",
     "output_type": "stream",
     "text": [
      "Batch 236 | MajVot Accuracy: 9.38% | Batch Size: 32\n",
      "Batch 237 | MajVot Accuracy: 9.38% | Batch Size: 32\n"
     ]
    },
    {
     "name": "stderr",
     "output_type": "stream",
     "text": [
      " 77%|████████████████████████████████████████████████████████████████▍                   | 240/313 [00:27<00:07,  9.81it/s]"
     ]
    },
    {
     "name": "stdout",
     "output_type": "stream",
     "text": [
      "Batch 238 | MajVot Accuracy: 18.75% | Batch Size: 32\n",
      "Batch 239 | MajVot Accuracy: 9.38% | Batch Size: 32\n",
      "Batch 240 | MajVot Accuracy: 25.00% | Batch Size: 32\n"
     ]
    },
    {
     "name": "stderr",
     "output_type": "stream",
     "text": [
      " 78%|█████████████████████████████████████████████████████████████████▏                  | 243/313 [00:27<00:07,  9.86it/s]"
     ]
    },
    {
     "name": "stdout",
     "output_type": "stream",
     "text": [
      "Batch 241 | MajVot Accuracy: 12.50% | Batch Size: 32\n",
      "Batch 242 | MajVot Accuracy: 18.75% | Batch Size: 32\n"
     ]
    },
    {
     "name": "stderr",
     "output_type": "stream",
     "text": [
      " 78%|█████████████████████████████████████████████████████████████████▊                  | 245/313 [00:27<00:07,  9.71it/s]"
     ]
    },
    {
     "name": "stdout",
     "output_type": "stream",
     "text": [
      "Batch 243 | MajVot Accuracy: 25.00% | Batch Size: 32\n",
      "Batch 244 | MajVot Accuracy: 25.00% | Batch Size: 32\n",
      "Batch 245 | MajVot Accuracy: 6.25% | Batch Size: 32\n"
     ]
    },
    {
     "name": "stderr",
     "output_type": "stream",
     "text": [
      " 80%|██████████████████████████████████████████████████████████████████▊                 | 249/313 [00:27<00:06, 10.00it/s]"
     ]
    },
    {
     "name": "stdout",
     "output_type": "stream",
     "text": [
      "Batch 246 | MajVot Accuracy: 12.50% | Batch Size: 32\n",
      "Batch 247 | MajVot Accuracy: 12.50% | Batch Size: 32\n",
      "Batch 248 | MajVot Accuracy: 21.88% | Batch Size: 32\n"
     ]
    },
    {
     "name": "stderr",
     "output_type": "stream",
     "text": [
      " 80%|███████████████████████████████████████████████████████████████████▎                | 251/313 [00:28<00:06, 10.05it/s]"
     ]
    },
    {
     "name": "stdout",
     "output_type": "stream",
     "text": [
      "Batch 249 | MajVot Accuracy: 15.62% | Batch Size: 32\n",
      "Batch 250 | MajVot Accuracy: 15.62% | Batch Size: 32\n"
     ]
    },
    {
     "name": "stderr",
     "output_type": "stream",
     "text": [
      " 81%|████████████████████████████████████████████████████████████████████▏               | 254/313 [00:28<00:05, 10.04it/s]"
     ]
    },
    {
     "name": "stdout",
     "output_type": "stream",
     "text": [
      "Batch 251 | MajVot Accuracy: 15.62% | Batch Size: 32\n",
      "Batch 252 | MajVot Accuracy: 31.25% | Batch Size: 32\n",
      "Batch 253 | MajVot Accuracy: 9.38% | Batch Size: 32\n"
     ]
    },
    {
     "name": "stderr",
     "output_type": "stream",
     "text": [
      " 82%|████████████████████████████████████████████████████████████████████▉               | 257/313 [00:28<00:05, 10.11it/s]"
     ]
    },
    {
     "name": "stdout",
     "output_type": "stream",
     "text": [
      "Batch 254 | MajVot Accuracy: 28.12% | Batch Size: 32\n",
      "Batch 255 | MajVot Accuracy: 15.62% | Batch Size: 32\n",
      "Batch 256 | MajVot Accuracy: 15.62% | Batch Size: 32\n"
     ]
    },
    {
     "name": "stderr",
     "output_type": "stream",
     "text": [
      " 83%|█████████████████████████████████████████████████████████████████████▌              | 259/313 [00:28<00:05, 10.14it/s]"
     ]
    },
    {
     "name": "stdout",
     "output_type": "stream",
     "text": [
      "Batch 257 | MajVot Accuracy: 18.75% | Batch Size: 32\n",
      "Batch 258 | MajVot Accuracy: 9.38% | Batch Size: 32\n",
      "Batch 259 | MajVot Accuracy: 0.00% | Batch Size: 32\n"
     ]
    },
    {
     "name": "stderr",
     "output_type": "stream",
     "text": [
      " 84%|██████████████████████████████████████████████████████████████████████▌             | 263/313 [00:29<00:04, 10.19it/s]"
     ]
    },
    {
     "name": "stdout",
     "output_type": "stream",
     "text": [
      "Batch 260 | MajVot Accuracy: 28.12% | Batch Size: 32\n",
      "Batch 261 | MajVot Accuracy: 18.75% | Batch Size: 32\n",
      "Batch 262 | MajVot Accuracy: 15.62% | Batch Size: 32\n"
     ]
    },
    {
     "name": "stderr",
     "output_type": "stream",
     "text": [
      " 85%|███████████████████████████████████████████████████████████████████████             | 265/313 [00:29<00:04, 10.18it/s]"
     ]
    },
    {
     "name": "stdout",
     "output_type": "stream",
     "text": [
      "Batch 263 | MajVot Accuracy: 12.50% | Batch Size: 32\n",
      "Batch 264 | MajVot Accuracy: 12.50% | Batch Size: 32\n",
      "Batch 265 | MajVot Accuracy: 15.62% | Batch Size: 32\n"
     ]
    },
    {
     "name": "stderr",
     "output_type": "stream",
     "text": [
      " 86%|████████████████████████████████████████████████████████████████████████▏           | 269/313 [00:29<00:04, 10.20it/s]"
     ]
    },
    {
     "name": "stdout",
     "output_type": "stream",
     "text": [
      "Batch 266 | MajVot Accuracy: 15.62% | Batch Size: 32\n",
      "Batch 267 | MajVot Accuracy: 18.75% | Batch Size: 32\n",
      "Batch 268 | MajVot Accuracy: 6.25% | Batch Size: 32\n"
     ]
    },
    {
     "name": "stderr",
     "output_type": "stream",
     "text": [
      " 87%|████████████████████████████████████████████████████████████████████████▋           | 271/313 [00:30<00:04, 10.17it/s]"
     ]
    },
    {
     "name": "stdout",
     "output_type": "stream",
     "text": [
      "Batch 269 | MajVot Accuracy: 18.75% | Batch Size: 32\n",
      "Batch 270 | MajVot Accuracy: 15.62% | Batch Size: 32\n"
     ]
    },
    {
     "name": "stderr",
     "output_type": "stream",
     "text": [
      " 87%|█████████████████████████████████████████████████████████████████████████▎          | 273/313 [00:30<00:03, 10.15it/s]"
     ]
    },
    {
     "name": "stdout",
     "output_type": "stream",
     "text": [
      "Batch 271 | MajVot Accuracy: 15.62% | Batch Size: 32\n",
      "Batch 272 | MajVot Accuracy: 15.62% | Batch Size: 32\n",
      "Batch 273 | MajVot Accuracy: 25.00% | Batch Size: 32\n"
     ]
    },
    {
     "name": "stderr",
     "output_type": "stream",
     "text": [
      " 88%|██████████████████████████████████████████████████████████████████████████▎         | 277/313 [00:30<00:03, 10.12it/s]"
     ]
    },
    {
     "name": "stdout",
     "output_type": "stream",
     "text": [
      "Batch 274 | MajVot Accuracy: 6.25% | Batch Size: 32\n",
      "Batch 275 | MajVot Accuracy: 9.38% | Batch Size: 32\n",
      "Batch 276 | MajVot Accuracy: 9.38% | Batch Size: 32\n"
     ]
    },
    {
     "name": "stderr",
     "output_type": "stream",
     "text": [
      " 89%|██████████████████████████████████████████████████████████████████████████▉         | 279/313 [00:30<00:03, 10.13it/s]"
     ]
    },
    {
     "name": "stdout",
     "output_type": "stream",
     "text": [
      "Batch 277 | MajVot Accuracy: 3.12% | Batch Size: 32\n",
      "Batch 278 | MajVot Accuracy: 18.75% | Batch Size: 32\n",
      "Batch 279 | MajVot Accuracy: 18.75% | Batch Size: 32\n"
     ]
    },
    {
     "name": "stderr",
     "output_type": "stream",
     "text": [
      " 90%|███████████████████████████████████████████████████████████████████████████▉        | 283/313 [00:31<00:02, 10.16it/s]"
     ]
    },
    {
     "name": "stdout",
     "output_type": "stream",
     "text": [
      "Batch 280 | MajVot Accuracy: 12.50% | Batch Size: 32\n",
      "Batch 281 | MajVot Accuracy: 9.38% | Batch Size: 32\n",
      "Batch 282 | MajVot Accuracy: 9.38% | Batch Size: 32\n"
     ]
    },
    {
     "name": "stderr",
     "output_type": "stream",
     "text": [
      " 91%|████████████████████████████████████████████████████████████████████████████▍       | 285/313 [00:31<00:02, 10.16it/s]"
     ]
    },
    {
     "name": "stdout",
     "output_type": "stream",
     "text": [
      "Batch 283 | MajVot Accuracy: 15.62% | Batch Size: 32\n",
      "Batch 284 | MajVot Accuracy: 15.62% | Batch Size: 32\n",
      "Batch 285 | MajVot Accuracy: 6.25% | Batch Size: 32\n"
     ]
    },
    {
     "name": "stderr",
     "output_type": "stream",
     "text": [
      " 92%|█████████████████████████████████████████████████████████████████████████████▌      | 289/313 [00:31<00:02, 10.17it/s]"
     ]
    },
    {
     "name": "stdout",
     "output_type": "stream",
     "text": [
      "Batch 286 | MajVot Accuracy: 12.50% | Batch Size: 32\n",
      "Batch 287 | MajVot Accuracy: 12.50% | Batch Size: 32\n",
      "Batch 288 | MajVot Accuracy: 18.75% | Batch Size: 32\n"
     ]
    },
    {
     "name": "stderr",
     "output_type": "stream",
     "text": [
      " 93%|██████████████████████████████████████████████████████████████████████████████      | 291/313 [00:32<00:02, 10.15it/s]"
     ]
    },
    {
     "name": "stdout",
     "output_type": "stream",
     "text": [
      "Batch 289 | MajVot Accuracy: 12.50% | Batch Size: 32\n",
      "Batch 290 | MajVot Accuracy: 15.62% | Batch Size: 32\n",
      "Batch 291 | MajVot Accuracy: 18.75% | Batch Size: 32\n"
     ]
    },
    {
     "name": "stderr",
     "output_type": "stream",
     "text": [
      " 94%|██████████████████████████████████████████████████████████████████████████████▉     | 294/313 [00:32<00:01,  9.93it/s]"
     ]
    },
    {
     "name": "stdout",
     "output_type": "stream",
     "text": [
      "Batch 292 | MajVot Accuracy: 6.25% | Batch Size: 32\n",
      "Batch 293 | MajVot Accuracy: 21.88% | Batch Size: 32\n"
     ]
    },
    {
     "name": "stderr",
     "output_type": "stream",
     "text": [
      " 95%|███████████████████████████████████████████████████████████████████████████████▋    | 297/313 [00:32<00:01,  9.88it/s]"
     ]
    },
    {
     "name": "stdout",
     "output_type": "stream",
     "text": [
      "Batch 294 | MajVot Accuracy: 18.75% | Batch Size: 32\n",
      "Batch 295 | MajVot Accuracy: 9.38% | Batch Size: 32\n",
      "Batch 296 | MajVot Accuracy: 12.50% | Batch Size: 32\n"
     ]
    },
    {
     "name": "stderr",
     "output_type": "stream",
     "text": [
      " 96%|████████████████████████████████████████████████████████████████████████████████▌   | 300/313 [00:32<00:01,  9.89it/s]"
     ]
    },
    {
     "name": "stdout",
     "output_type": "stream",
     "text": [
      "Batch 297 | MajVot Accuracy: 3.12% | Batch Size: 32\n",
      "Batch 298 | MajVot Accuracy: 15.62% | Batch Size: 32\n",
      "Batch 299 | MajVot Accuracy: 15.62% | Batch Size: 32\n"
     ]
    },
    {
     "name": "stderr",
     "output_type": "stream",
     "text": [
      " 97%|█████████████████████████████████████████████████████████████████████████████████▎  | 303/313 [00:33<00:01,  9.97it/s]"
     ]
    },
    {
     "name": "stdout",
     "output_type": "stream",
     "text": [
      "Batch 300 | MajVot Accuracy: 6.25% | Batch Size: 32\n",
      "Batch 301 | MajVot Accuracy: 12.50% | Batch Size: 32\n",
      "Batch 302 | MajVot Accuracy: 15.62% | Batch Size: 32\n"
     ]
    },
    {
     "name": "stderr",
     "output_type": "stream",
     "text": [
      " 97%|█████████████████████████████████████████████████████████████████████████████████▊  | 305/313 [00:33<00:00,  9.98it/s]"
     ]
    },
    {
     "name": "stdout",
     "output_type": "stream",
     "text": [
      "Batch 303 | MajVot Accuracy: 12.50% | Batch Size: 32\n",
      "Batch 304 | MajVot Accuracy: 6.25% | Batch Size: 32\n"
     ]
    },
    {
     "name": "stderr",
     "output_type": "stream",
     "text": [
      " 98%|██████████████████████████████████████████████████████████████████████████████████▋ | 308/313 [00:33<00:00, 10.04it/s]"
     ]
    },
    {
     "name": "stdout",
     "output_type": "stream",
     "text": [
      "Batch 305 | MajVot Accuracy: 12.50% | Batch Size: 32\n",
      "Batch 306 | MajVot Accuracy: 9.38% | Batch Size: 32\n",
      "Batch 307 | MajVot Accuracy: 9.38% | Batch Size: 32\n"
     ]
    },
    {
     "name": "stderr",
     "output_type": "stream",
     "text": [
      " 99%|███████████████████████████████████████████████████████████████████████████████████▏| 310/313 [00:33<00:00,  9.93it/s]"
     ]
    },
    {
     "name": "stdout",
     "output_type": "stream",
     "text": [
      "Batch 308 | MajVot Accuracy: 12.50% | Batch Size: 32\n",
      "Batch 309 | MajVot Accuracy: 12.50% | Batch Size: 32\n"
     ]
    },
    {
     "name": "stderr",
     "output_type": "stream",
     "text": [
      "100%|████████████████████████████████████████████████████████████████████████████████████| 313/313 [00:34<00:00,  9.14it/s]"
     ]
    },
    {
     "name": "stdout",
     "output_type": "stream",
     "text": [
      "Batch 310 | MajVot Accuracy: 12.50% | Batch Size: 32\n",
      "Batch 311 | MajVot Accuracy: 15.62% | Batch Size: 32\n",
      "Batch 312 | MajVot Accuracy: 18.75% | Batch Size: 16\n",
      "\n",
      "Final MajVot Accuracy (across all test samples): 14.04%\n",
      "Majority Vote final accuracy: 14.04%\n"
     ]
    },
    {
     "name": "stderr",
     "output_type": "stream",
     "text": [
      "\n"
     ]
    }
   ],
   "source": [
    "majvot_acc = test_with_majority_vote(AlexNet, testloader, transformations, device)\n",
    "print(f\"Majority Vote final accuracy: {majvot_acc:.2f}%\")"
   ]
  },
  {
   "cell_type": "code",
   "execution_count": null,
   "id": "750237aa-13ad-4961-b941-095d43b0153b",
   "metadata": {},
   "outputs": [],
   "source": []
  }
 ],
 "metadata": {
  "kernelspec": {
   "display_name": "Python 3 (ipykernel)",
   "language": "python",
   "name": "python3"
  },
  "language_info": {
   "codemirror_mode": {
    "name": "ipython",
    "version": 3
   },
   "file_extension": ".py",
   "mimetype": "text/x-python",
   "name": "python",
   "nbconvert_exporter": "python",
   "pygments_lexer": "ipython3",
   "version": "3.8.10"
  }
 },
 "nbformat": 4,
 "nbformat_minor": 5
}
