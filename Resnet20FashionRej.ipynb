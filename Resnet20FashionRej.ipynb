{
 "cells": [
  {
   "cell_type": "code",
   "execution_count": 2,
   "id": "33c0cfcc-c57f-470c-aebf-7975498f6f43",
   "metadata": {},
   "outputs": [
    {
     "name": "stdout",
     "output_type": "stream",
     "text": [
      "Using device: cuda\n"
     ]
    }
   ],
   "source": [
    "import torch\n",
    "import torch.nn as nn\n",
    "import torch.optim as optim\n",
    "import torchvision\n",
    "import torchvision.transforms as transforms\n",
    "import torch\n",
    "import torch.nn.functional as F\n",
    "from tqdm import tqdm\n",
    "from sklearn.metrics import precision_score, recall_score, f1_score\n",
    "\n",
    "device = torch.device('cuda' if torch.cuda.is_available() else 'cpu')\n",
    "print(\"Using device:\", device)"
   ]
  },
  {
   "cell_type": "code",
   "execution_count": 3,
   "id": "8189faf8-7d63-4db0-a0f1-5a63a85baed8",
   "metadata": {},
   "outputs": [],
   "source": [
    "\n",
    "mean = (0.4914, 0.4822, 0.4465)\n",
    "std  = (0.2023, 0.1994, 0.2010)\n",
    "\n",
    "transform_train = transforms.Compose([\n",
    "    transforms.RandomCrop(32, padding=4),\n",
    "    transforms.RandomHorizontalFlip(),\n",
    "    transforms.ToTensor(),\n",
    "    transforms.Normalize(mean, std),\n",
    "])\n",
    "\n",
    "transform_test = transforms.Compose([\n",
    "    transforms.ToTensor(),\n",
    "    transforms.Normalize(mean, std),\n",
    "])\n",
    "\n",
    "trainset = torchvision.datasets.FashionMNIST(\n",
    "    root='./data', train=True, download=True, transform=transform_train\n",
    ")\n",
    "trainloader = torch.utils.data.DataLoader(\n",
    "    trainset, batch_size=128, shuffle=True, num_workers=2\n",
    ")\n",
    "\n",
    "testset = torchvision.datasets.FashionMNIST(\n",
    "    root='./data', train=False, download=True, transform=transform_test\n",
    ")\n",
    "testloader = torch.utils.data.DataLoader(\n",
    "    testset, batch_size=100, shuffle=False, num_workers=2\n",
    ")\n"
   ]
  },
  {
   "cell_type": "code",
   "execution_count": 27,
   "id": "570e7956-0731-4fa3-8327-ceb462d87cec",
   "metadata": {},
   "outputs": [],
   "source": [
    "class BasicBlock(nn.Module):\n",
    "    def __init__(self, in_channels, out_channels, stride=1):\n",
    "        super(BasicBlock, self).__init__()\n",
    "        self.conv1 = nn.Conv2d(in_channels, out_channels,\n",
    "                               kernel_size=3, stride=stride,\n",
    "                               padding=1, bias=False)\n",
    "        self.bn1 = nn.BatchNorm2d(out_channels)\n",
    "        self.relu = nn.ReLU(inplace=True)\n",
    "\n",
    "        self.conv2 = nn.Conv2d(out_channels, out_channels,\n",
    "                               kernel_size=3, stride=1,\n",
    "                               padding=1, bias=False)\n",
    "        self.bn2 = nn.BatchNorm2d(out_channels)\n",
    "\n",
    "        # Shortcut (projection) if shape changes (stride != 1 or channels differ)\n",
    "        self.shortcut = nn.Sequential()\n",
    "        if stride != 1 or in_channels != out_channels:\n",
    "            self.shortcut = nn.Sequential(\n",
    "                nn.Conv2d(in_channels, out_channels,\n",
    "                          kernel_size=1, stride=stride, bias=False),\n",
    "                nn.BatchNorm2d(out_channels)\n",
    "            )\n",
    "\n",
    "    def forward(self, x):\n",
    "        out = self.relu(self.bn1(self.conv1(x)))\n",
    "        out = self.bn2(self.conv2(out))\n",
    "        out += self.shortcut(x)\n",
    "        out = self.relu(out)\n",
    "        return out\n"
   ]
  },
  {
   "cell_type": "code",
   "execution_count": 28,
   "id": "ace3c49f-043d-4e77-8814-6c4eaa89a7ee",
   "metadata": {},
   "outputs": [],
   "source": [
    "class ResNet20(nn.Module):\n",
    "    def __init__(self, block=BasicBlock, num_classes=10):\n",
    "        super(ResNet20, self).__init__()\n",
    "        self.in_channels = 16\n",
    "\n",
    "        # Initial conv: 3x3, 16 filters\n",
    "        self.conv1 = nn.Conv2d(3, 16, kernel_size=3, stride=1,\n",
    "                               padding=1, bias=False)\n",
    "        self.bn1 = nn.BatchNorm2d(16)\n",
    "        self.relu = nn.ReLU(inplace=True)\n",
    "\n",
    "        # Each \"layer\" is a sequence of blocks\n",
    "        self.layer1 = self._make_layer(block, out_channels=16, blocks=3, stride=1)\n",
    "        self.layer2 = self._make_layer(block, out_channels=32, blocks=3, stride=2)\n",
    "        self.layer3 = self._make_layer(block, out_channels=64, blocks=3, stride=2)\n",
    "\n",
    "        # Global average pool and final classification layer\n",
    "        self.avgpool = nn.AdaptiveAvgPool2d((1, 1))\n",
    "        self.fc = nn.Linear(64, num_classes)\n",
    "\n",
    "    def _make_layer(self, block, out_channels, blocks, stride):\n",
    "        \"\"\"Create a stage of 'blocks' residual blocks.\"\"\"\n",
    "        strides = [stride] + [1] * (blocks - 1)  \n",
    "        layers = []\n",
    "        for s in strides:\n",
    "            layers.append(block(self.in_channels, out_channels, s))\n",
    "            self.in_channels = out_channels\n",
    "        return nn.Sequential(*layers)\n",
    "\n",
    "    def forward(self, x):\n",
    "        out = self.relu(self.bn1(self.conv1(x)))\n",
    "        out = self.layer1(out)\n",
    "        out = self.layer2(out)\n",
    "        out = self.layer3(out)\n",
    "        out = self.avgpool(out)\n",
    "        out = torch.flatten(out, 1)\n",
    "        out = self.fc(out)\n",
    "        return out\n"
   ]
  },
  {
   "cell_type": "code",
   "execution_count": 29,
   "id": "9efd4de7-edf5-41e9-ad4e-46e573345e2c",
   "metadata": {},
   "outputs": [],
   "source": [
    "def train_one_epoch(model, loader, criterion, optimizer):\n",
    "    model.train()\n",
    "    running_loss = 0.0\n",
    "    correct = 0\n",
    "    total = 0\n",
    "\n",
    "    for images, labels in loader:\n",
    "        images, labels = images.to(device), labels.to(device)\n",
    "\n",
    "        optimizer.zero_grad()\n",
    "        outputs = model(images)\n",
    "        loss = criterion(outputs, labels)\n",
    "        loss.backward()\n",
    "        optimizer.step()\n",
    "\n",
    "        running_loss += loss.item() * images.size(0)\n",
    "        _, predicted = outputs.max(1)\n",
    "        total += labels.size(0)\n",
    "        correct += predicted.eq(labels).sum().item()\n",
    "\n",
    "    epoch_loss = running_loss / total\n",
    "    epoch_acc = 100.0 * correct / total\n",
    "    return epoch_loss, epoch_acc\n",
    "\n",
    "def evaluate(model, loader, criterion):\n",
    "    model.eval()\n",
    "    running_loss = 0.0\n",
    "    correct = 0\n",
    "    total = 0\n",
    "\n",
    "    with torch.no_grad():\n",
    "        for images, labels in loader:\n",
    "            images, labels = images.to(device), labels.to(device)\n",
    "            outputs = model(images)\n",
    "            loss = criterion(outputs, labels)\n",
    "\n",
    "            running_loss += loss.item() * images.size(0)\n",
    "            _, predicted = outputs.max(1)\n",
    "            total += labels.size(0)\n",
    "            correct += predicted.eq(labels).sum().item()\n",
    "\n",
    "    epoch_loss = running_loss / total\n",
    "    epoch_acc = 100.0 * correct / total\n",
    "    return epoch_loss, epoch_acc\n"
   ]
  },
  {
   "cell_type": "code",
   "execution_count": 30,
   "id": "2c011d01-a67f-4399-920c-0c0aa0cc4c9f",
   "metadata": {},
   "outputs": [],
   "source": [
    "model = ResNet20().to(device)\n",
    "criterion = nn.CrossEntropyLoss()\n",
    "optimizer = optim.SGD(model.parameters(), lr=0.1, momentum=0.9, weight_decay=1e-4)"
   ]
  },
  {
   "cell_type": "code",
   "execution_count": 31,
   "id": "fee3d50a-3d84-482c-9fe7-3de3d810b5cd",
   "metadata": {},
   "outputs": [],
   "source": [
    "#transformations for metamorphic testing\n",
    "transformations = [\n",
    "    transforms.RandomRotation(degrees=10),  # Small rotation\n",
    "    transforms.ColorJitter(brightness=0.2),  # Slight brightness change\n",
    "    transforms.RandomAffine(degrees=0, translate=(0.1, 0.1))  # Small translation\n",
    "]"
   ]
  },
  {
   "cell_type": "code",
   "execution_count": 32,
   "id": "fae6e6e8-9e47-4a9b-ad6e-0658889ec5a3",
   "metadata": {},
   "outputs": [
    {
     "name": "stderr",
     "output_type": "stream",
     "text": [
      "  4%|██████▌                                                                                                                                                              | 4/100 [00:00<00:08, 10.82it/s]"
     ]
    },
    {
     "name": "stdout",
     "output_type": "stream",
     "text": [
      "Batch 0 | Transform: RandomRotation | Reject Differential (mean): 0.0000\n",
      "Batch 0 | Transform: ColorJitter | Reject Differential (mean): 0.0207\n",
      "Batch 0 | Transform: RandomAffine | Reject Differential (mean): 0.0151\n",
      "Batch 1 | Transform: RandomRotation | Reject Differential (mean): 0.0111\n",
      "Batch 1 | Transform: ColorJitter | Reject Differential (mean): 0.0219\n",
      "Batch 1 | Transform: RandomAffine | Reject Differential (mean): 0.0148\n",
      "Batch 2 | Transform: RandomRotation | Reject Differential (mean): 0.0129\n",
      "Batch 2 | Transform: ColorJitter | Reject Differential (mean): 0.0194\n",
      "Batch 2 | Transform: RandomAffine | Reject Differential (mean): 0.0157\n",
      "Batch 3 | Transform: RandomRotation | Reject Differential (mean): 0.0135\n",
      "Batch 3 | Transform: ColorJitter | Reject Differential (mean): 0.0192\n",
      "Batch 3 | Transform: RandomAffine | Reject Differential (mean): 0.0146\n",
      "Batch 4 | Transform: RandomRotation | Reject Differential (mean): 0.0142\n",
      "Batch 4 | Transform: ColorJitter | Reject Differential (mean): 0.0193\n"
     ]
    },
    {
     "name": "stderr",
     "output_type": "stream",
     "text": [
      "  8%|█████████████▏                                                                                                                                                       | 8/100 [00:00<00:05, 17.15it/s]"
     ]
    },
    {
     "name": "stdout",
     "output_type": "stream",
     "text": [
      "Batch 4 | Transform: RandomAffine | Reject Differential (mean): 0.0145\n",
      "Batch 5 | Transform: RandomRotation | Reject Differential (mean): 0.0142\n",
      "Batch 5 | Transform: ColorJitter | Reject Differential (mean): 0.0191\n",
      "Batch 5 | Transform: RandomAffine | Reject Differential (mean): 0.0167\n",
      "Batch 6 | Transform: RandomRotation | Reject Differential (mean): 0.0128\n",
      "Batch 6 | Transform: ColorJitter | Reject Differential (mean): 0.0237\n",
      "Batch 6 | Transform: RandomAffine | Reject Differential (mean): 0.0146\n",
      "Batch 7 | Transform: RandomRotation | Reject Differential (mean): 0.0149\n",
      "Batch 7 | Transform: ColorJitter | Reject Differential (mean): 0.0220\n",
      "Batch 7 | Transform: RandomAffine | Reject Differential (mean): 0.0116\n",
      "Batch 8 | Transform: RandomRotation | Reject Differential (mean): 0.0136\n",
      "Batch 8 | Transform: ColorJitter | Reject Differential (mean): 0.0202\n",
      "Batch 8 | Transform: RandomAffine | Reject Differential (mean): 0.0140\n",
      "Batch 9 | Transform: RandomRotation | Reject Differential (mean): 0.0121\n",
      "Batch 9 | Transform: ColorJitter | Reject Differential (mean): 0.0256\n",
      "Batch 9 | Transform: RandomAffine | Reject Differential (mean): 0.0117\n",
      "Batch 10 | Transform: RandomRotation | Reject Differential (mean): 0.0156\n",
      "Batch 10 | Transform: ColorJitter | Reject Differential (mean): 0.0212\n"
     ]
    },
    {
     "name": "stderr",
     "output_type": "stream",
     "text": [
      " 14%|██████████████████████▉                                                                                                                                             | 14/100 [00:00<00:03, 22.97it/s]"
     ]
    },
    {
     "name": "stdout",
     "output_type": "stream",
     "text": [
      "Batch 10 | Transform: RandomAffine | Reject Differential (mean): 0.0155\n",
      "Batch 11 | Transform: RandomRotation | Reject Differential (mean): 0.0147\n",
      "Batch 11 | Transform: ColorJitter | Reject Differential (mean): 0.0217\n",
      "Batch 11 | Transform: RandomAffine | Reject Differential (mean): 0.0125\n",
      "Batch 12 | Transform: RandomRotation | Reject Differential (mean): 0.0142\n",
      "Batch 12 | Transform: ColorJitter | Reject Differential (mean): 0.0178\n",
      "Batch 12 | Transform: RandomAffine | Reject Differential (mean): 0.0177\n",
      "Batch 13 | Transform: RandomRotation | Reject Differential (mean): 0.0034\n",
      "Batch 13 | Transform: ColorJitter | Reject Differential (mean): 0.0218\n",
      "Batch 13 | Transform: RandomAffine | Reject Differential (mean): 0.0121\n",
      "Batch 14 | Transform: RandomRotation | Reject Differential (mean): 0.0127\n",
      "Batch 14 | Transform: ColorJitter | Reject Differential (mean): 0.0206\n",
      "Batch 14 | Transform: RandomAffine | Reject Differential (mean): 0.0142\n",
      "Batch 15 | Transform: RandomRotation | Reject Differential (mean): 0.0047\n",
      "Batch 15 | Transform: ColorJitter | Reject Differential (mean): 0.0195\n",
      "Batch 15 | Transform: RandomAffine | Reject Differential (mean): 0.0169\n",
      "Batch 16 | Transform: RandomRotation | Reject Differential (mean): 0.0140\n",
      "Batch 16 | Transform: ColorJitter | Reject Differential (mean): 0.0209\n"
     ]
    },
    {
     "name": "stderr",
     "output_type": "stream",
     "text": [
      " 21%|██████████████████████████████████▍                                                                                                                                 | 21/100 [00:01<00:02, 27.04it/s]"
     ]
    },
    {
     "name": "stdout",
     "output_type": "stream",
     "text": [
      "Batch 16 | Transform: RandomAffine | Reject Differential (mean): 0.0155\n",
      "Batch 17 | Transform: RandomRotation | Reject Differential (mean): 0.0000\n",
      "Batch 17 | Transform: ColorJitter | Reject Differential (mean): 0.0204\n",
      "Batch 17 | Transform: RandomAffine | Reject Differential (mean): 0.0152\n",
      "Batch 18 | Transform: RandomRotation | Reject Differential (mean): 0.0000\n",
      "Batch 18 | Transform: ColorJitter | Reject Differential (mean): 0.0208\n",
      "Batch 18 | Transform: RandomAffine | Reject Differential (mean): 0.0156\n",
      "Batch 19 | Transform: RandomRotation | Reject Differential (mean): 0.0101\n",
      "Batch 19 | Transform: ColorJitter | Reject Differential (mean): 0.0247\n",
      "Batch 19 | Transform: RandomAffine | Reject Differential (mean): 0.0125\n",
      "Batch 20 | Transform: RandomRotation | Reject Differential (mean): 0.0149\n",
      "Batch 20 | Transform: ColorJitter | Reject Differential (mean): 0.0197\n",
      "Batch 20 | Transform: RandomAffine | Reject Differential (mean): 0.0140\n",
      "Batch 21 | Transform: RandomRotation | Reject Differential (mean): 0.0000\n",
      "Batch 21 | Transform: ColorJitter | Reject Differential (mean): 0.0208\n",
      "Batch 21 | Transform: RandomAffine | Reject Differential (mean): 0.0132\n",
      "Batch 22 | Transform: RandomRotation | Reject Differential (mean): 0.0113\n",
      "Batch 22 | Transform: ColorJitter | Reject Differential (mean): 0.0207\n",
      "Batch 22 | Transform: RandomAffine | Reject Differential (mean): 0.0120\n"
     ]
    },
    {
     "name": "stderr",
     "output_type": "stream",
     "text": [
      " 28%|█████████████████████████████████████████████▉                                                                                                                      | 28/100 [00:01<00:02, 28.66it/s]"
     ]
    },
    {
     "name": "stdout",
     "output_type": "stream",
     "text": [
      "Batch 23 | Transform: RandomRotation | Reject Differential (mean): 0.0145\n",
      "Batch 23 | Transform: ColorJitter | Reject Differential (mean): 0.0223\n",
      "Batch 23 | Transform: RandomAffine | Reject Differential (mean): 0.0161\n",
      "Batch 24 | Transform: RandomRotation | Reject Differential (mean): 0.0000\n",
      "Batch 24 | Transform: ColorJitter | Reject Differential (mean): 0.0221\n",
      "Batch 24 | Transform: RandomAffine | Reject Differential (mean): 0.0142\n",
      "Batch 25 | Transform: RandomRotation | Reject Differential (mean): 0.0115\n",
      "Batch 25 | Transform: ColorJitter | Reject Differential (mean): 0.0205\n",
      "Batch 25 | Transform: RandomAffine | Reject Differential (mean): 0.0136\n",
      "Batch 26 | Transform: RandomRotation | Reject Differential (mean): 0.0094\n",
      "Batch 26 | Transform: ColorJitter | Reject Differential (mean): 0.0228\n",
      "Batch 26 | Transform: RandomAffine | Reject Differential (mean): 0.0137\n",
      "Batch 27 | Transform: RandomRotation | Reject Differential (mean): 0.0129\n",
      "Batch 27 | Transform: ColorJitter | Reject Differential (mean): 0.0237\n",
      "Batch 27 | Transform: RandomAffine | Reject Differential (mean): 0.0166\n",
      "Batch 28 | Transform: RandomRotation | Reject Differential (mean): 0.0120\n",
      "Batch 28 | Transform: ColorJitter | Reject Differential (mean): 0.0214\n",
      "Batch 28 | Transform: RandomAffine | Reject Differential (mean): 0.0154\n"
     ]
    },
    {
     "name": "stderr",
     "output_type": "stream",
     "text": [
      " 35%|█████████████████████████████████████████████████████████▍                                                                                                          | 35/100 [00:01<00:02, 29.51it/s]"
     ]
    },
    {
     "name": "stdout",
     "output_type": "stream",
     "text": [
      "Batch 29 | Transform: RandomRotation | Reject Differential (mean): 0.0138\n",
      "Batch 29 | Transform: ColorJitter | Reject Differential (mean): 0.0210\n",
      "Batch 29 | Transform: RandomAffine | Reject Differential (mean): 0.0141\n",
      "Batch 30 | Transform: RandomRotation | Reject Differential (mean): 0.0000\n",
      "Batch 30 | Transform: ColorJitter | Reject Differential (mean): 0.0252\n",
      "Batch 30 | Transform: RandomAffine | Reject Differential (mean): 0.0000\n",
      "Batch 31 | Transform: RandomRotation | Reject Differential (mean): 0.0101\n",
      "Batch 31 | Transform: ColorJitter | Reject Differential (mean): 0.0219\n",
      "Batch 31 | Transform: RandomAffine | Reject Differential (mean): 0.0113\n",
      "Batch 32 | Transform: RandomRotation | Reject Differential (mean): 0.0070\n",
      "Batch 32 | Transform: ColorJitter | Reject Differential (mean): 0.0187\n",
      "Batch 32 | Transform: RandomAffine | Reject Differential (mean): 0.0157\n",
      "Batch 33 | Transform: RandomRotation | Reject Differential (mean): 0.0000\n",
      "Batch 33 | Transform: ColorJitter | Reject Differential (mean): 0.0210\n",
      "Batch 33 | Transform: RandomAffine | Reject Differential (mean): 0.0143\n",
      "Batch 34 | Transform: RandomRotation | Reject Differential (mean): 0.0151\n",
      "Batch 34 | Transform: ColorJitter | Reject Differential (mean): 0.0209\n",
      "Batch 34 | Transform: RandomAffine | Reject Differential (mean): 0.0157\n",
      "Batch 35 | Transform: RandomRotation | Reject Differential (mean): 0.0147\n"
     ]
    },
    {
     "name": "stderr",
     "output_type": "stream",
     "text": [
      " 38%|██████████████████████████████████████████████████████████████▎                                                                                                     | 38/100 [00:01<00:02, 29.22it/s]"
     ]
    },
    {
     "name": "stdout",
     "output_type": "stream",
     "text": [
      "Batch 35 | Transform: ColorJitter | Reject Differential (mean): 0.0220\n",
      "Batch 35 | Transform: RandomAffine | Reject Differential (mean): 0.0162\n",
      "Batch 36 | Transform: RandomRotation | Reject Differential (mean): 0.0000\n",
      "Batch 36 | Transform: ColorJitter | Reject Differential (mean): 0.0182\n",
      "Batch 36 | Transform: RandomAffine | Reject Differential (mean): 0.0132\n",
      "Batch 37 | Transform: RandomRotation | Reject Differential (mean): 0.0132\n",
      "Batch 37 | Transform: ColorJitter | Reject Differential (mean): 0.0208\n",
      "Batch 37 | Transform: RandomAffine | Reject Differential (mean): 0.0149\n",
      "Batch 38 | Transform: RandomRotation | Reject Differential (mean): 0.0116\n",
      "Batch 38 | Transform: ColorJitter | Reject Differential (mean): 0.0194\n",
      "Batch 38 | Transform: RandomAffine | Reject Differential (mean): 0.0154\n",
      "Batch 39 | Transform: RandomRotation | Reject Differential (mean): 0.0121\n",
      "Batch 39 | Transform: ColorJitter | Reject Differential (mean): 0.0236\n",
      "Batch 39 | Transform: RandomAffine | Reject Differential (mean): 0.0157\n",
      "Batch 40 | Transform: RandomRotation | Reject Differential (mean): 0.0142\n",
      "Batch 40 | Transform: ColorJitter | Reject Differential (mean): 0.0219\n",
      "Batch 40 | Transform: RandomAffine | Reject Differential (mean): 0.0139\n",
      "Batch 41 | Transform: RandomRotation | Reject Differential (mean): 0.0132\n"
     ]
    },
    {
     "name": "stderr",
     "output_type": "stream",
     "text": [
      " 45%|█████████████████████████████████████████████████████████████████████████▊                                                                                          | 45/100 [00:01<00:01, 29.60it/s]"
     ]
    },
    {
     "name": "stdout",
     "output_type": "stream",
     "text": [
      "Batch 41 | Transform: ColorJitter | Reject Differential (mean): 0.0195\n",
      "Batch 41 | Transform: RandomAffine | Reject Differential (mean): 0.0136\n",
      "Batch 42 | Transform: RandomRotation | Reject Differential (mean): 0.0148\n",
      "Batch 42 | Transform: ColorJitter | Reject Differential (mean): 0.0220\n",
      "Batch 42 | Transform: RandomAffine | Reject Differential (mean): 0.0124\n",
      "Batch 43 | Transform: RandomRotation | Reject Differential (mean): 0.0000\n",
      "Batch 43 | Transform: ColorJitter | Reject Differential (mean): 0.0224\n",
      "Batch 43 | Transform: RandomAffine | Reject Differential (mean): 0.0148\n",
      "Batch 44 | Transform: RandomRotation | Reject Differential (mean): 0.0113\n",
      "Batch 44 | Transform: ColorJitter | Reject Differential (mean): 0.0220\n",
      "Batch 44 | Transform: RandomAffine | Reject Differential (mean): 0.0162\n",
      "Batch 45 | Transform: RandomRotation | Reject Differential (mean): 0.0000\n",
      "Batch 45 | Transform: ColorJitter | Reject Differential (mean): 0.0215\n",
      "Batch 45 | Transform: RandomAffine | Reject Differential (mean): 0.0168\n",
      "Batch 46 | Transform: RandomRotation | Reject Differential (mean): 0.0135\n",
      "Batch 46 | Transform: ColorJitter | Reject Differential (mean): 0.0199\n",
      "Batch 46 | Transform: RandomAffine | Reject Differential (mean): 0.0132\n",
      "Batch 47 | Transform: RandomRotation | Reject Differential (mean): 0.0139\n"
     ]
    },
    {
     "name": "stderr",
     "output_type": "stream",
     "text": [
      " 52%|█████████████████████████████████████████████████████████████████████████████████████▎                                                                              | 52/100 [00:02<00:01, 29.81it/s]"
     ]
    },
    {
     "name": "stdout",
     "output_type": "stream",
     "text": [
      "Batch 47 | Transform: ColorJitter | Reject Differential (mean): 0.0222\n",
      "Batch 47 | Transform: RandomAffine | Reject Differential (mean): 0.0161\n",
      "Batch 48 | Transform: RandomRotation | Reject Differential (mean): 0.0000\n",
      "Batch 48 | Transform: ColorJitter | Reject Differential (mean): 0.0203\n",
      "Batch 48 | Transform: RandomAffine | Reject Differential (mean): 0.0147\n",
      "Batch 49 | Transform: RandomRotation | Reject Differential (mean): 0.0125\n",
      "Batch 49 | Transform: ColorJitter | Reject Differential (mean): 0.0204\n",
      "Batch 49 | Transform: RandomAffine | Reject Differential (mean): 0.0153\n",
      "Batch 50 | Transform: RandomRotation | Reject Differential (mean): 0.0110\n",
      "Batch 50 | Transform: ColorJitter | Reject Differential (mean): 0.0219\n",
      "Batch 50 | Transform: RandomAffine | Reject Differential (mean): 0.0162\n",
      "Batch 51 | Transform: RandomRotation | Reject Differential (mean): 0.0117\n",
      "Batch 51 | Transform: ColorJitter | Reject Differential (mean): 0.0205\n",
      "Batch 51 | Transform: RandomAffine | Reject Differential (mean): 0.0151\n",
      "Batch 52 | Transform: RandomRotation | Reject Differential (mean): 0.0159\n",
      "Batch 52 | Transform: ColorJitter | Reject Differential (mean): 0.0240\n",
      "Batch 52 | Transform: RandomAffine | Reject Differential (mean): 0.0148\n",
      "Batch 53 | Transform: RandomRotation | Reject Differential (mean): 0.0054\n",
      "Batch 53 | Transform: ColorJitter | Reject Differential (mean): 0.0229\n"
     ]
    },
    {
     "name": "stderr",
     "output_type": "stream",
     "text": [
      " 60%|██████████████████████████████████████████████████████████████████████████████████████████████████▍                                                                 | 60/100 [00:02<00:01, 32.42it/s]"
     ]
    },
    {
     "name": "stdout",
     "output_type": "stream",
     "text": [
      "Batch 53 | Transform: RandomAffine | Reject Differential (mean): 0.0156\n",
      "Batch 54 | Transform: RandomRotation | Reject Differential (mean): 0.0000\n",
      "Batch 54 | Transform: ColorJitter | Reject Differential (mean): 0.0250\n",
      "Batch 54 | Transform: RandomAffine | Reject Differential (mean): 0.0130\n",
      "Batch 55 | Transform: RandomRotation | Reject Differential (mean): 0.0125\n",
      "Batch 55 | Transform: ColorJitter | Reject Differential (mean): 0.0222\n",
      "Batch 55 | Transform: RandomAffine | Reject Differential (mean): 0.0147\n",
      "Batch 56 | Transform: RandomRotation | Reject Differential (mean): 0.0099\n",
      "Batch 56 | Transform: ColorJitter | Reject Differential (mean): 0.0204\n",
      "Batch 56 | Transform: RandomAffine | Reject Differential (mean): 0.0149\n",
      "Batch 57 | Transform: RandomRotation | Reject Differential (mean): 0.0000\n",
      "Batch 57 | Transform: ColorJitter | Reject Differential (mean): 0.0212\n",
      "Batch 57 | Transform: RandomAffine | Reject Differential (mean): 0.0154\n",
      "Batch 58 | Transform: RandomRotation | Reject Differential (mean): 0.0126\n",
      "Batch 58 | Transform: ColorJitter | Reject Differential (mean): 0.0202\n",
      "Batch 58 | Transform: RandomAffine | Reject Differential (mean): 0.0137\n",
      "Batch 59 | Transform: RandomRotation | Reject Differential (mean): 0.0128\n",
      "Batch 59 | Transform: ColorJitter | Reject Differential (mean): 0.0201\n",
      "Batch 59 | Transform: RandomAffine | Reject Differential (mean): 0.0128\n",
      "Batch 60 | Transform: RandomRotation | Reject Differential (mean): 0.0000\n",
      "Batch 60 | Transform: ColorJitter | Reject Differential (mean): 0.0218\n",
      "Batch 60 | Transform: RandomAffine | Reject Differential (mean): 0.0154\n"
     ]
    },
    {
     "name": "stderr",
     "output_type": "stream",
     "text": [
      " 65%|██████████████████████████████████████████████████████████████████████████████████████████████████████████▌                                                         | 65/100 [00:02<00:00, 35.00it/s]"
     ]
    },
    {
     "name": "stdout",
     "output_type": "stream",
     "text": [
      "Batch 61 | Transform: RandomRotation | Reject Differential (mean): 0.0141\n",
      "Batch 61 | Transform: ColorJitter | Reject Differential (mean): 0.0206\n",
      "Batch 61 | Transform: RandomAffine | Reject Differential (mean): 0.0153\n",
      "Batch 62 | Transform: RandomRotation | Reject Differential (mean): 0.0127\n",
      "Batch 62 | Transform: ColorJitter | Reject Differential (mean): 0.0224\n",
      "Batch 62 | Transform: RandomAffine | Reject Differential (mean): 0.0143\n",
      "Batch 63 | Transform: RandomRotation | Reject Differential (mean): 0.0142\n",
      "Batch 63 | Transform: ColorJitter | Reject Differential (mean): 0.0179\n",
      "Batch 63 | Transform: RandomAffine | Reject Differential (mean): 0.0126\n",
      "Batch 64 | Transform: RandomRotation | Reject Differential (mean): 0.0135\n",
      "Batch 64 | Transform: ColorJitter | Reject Differential (mean): 0.0194\n",
      "Batch 64 | Transform: RandomAffine | Reject Differential (mean): 0.0000\n",
      "Batch 65 | Transform: RandomRotation | Reject Differential (mean): 0.0000\n",
      "Batch 65 | Transform: ColorJitter | Reject Differential (mean): 0.0200\n",
      "Batch 65 | Transform: RandomAffine | Reject Differential (mean): 0.0138\n",
      "Batch 66 | Transform: RandomRotation | Reject Differential (mean): 0.0122\n",
      "Batch 66 | Transform: ColorJitter | Reject Differential (mean): 0.0195\n",
      "Batch 66 | Transform: RandomAffine | Reject Differential (mean): 0.0138\n",
      "Batch 67 | Transform: RandomRotation | Reject Differential (mean): 0.0095\n",
      "Batch 67 | Transform: ColorJitter | Reject Differential (mean): 0.0222\n",
      "Batch 67 | Transform: RandomAffine | Reject Differential (mean): 0.0142\n",
      "Batch 68 | Transform: RandomRotation | Reject Differential (mean): 0.0121\n",
      "Batch 68 | Transform: ColorJitter | Reject Differential (mean): 0.0233\n",
      "Batch 68 | Transform: RandomAffine | Reject Differential (mean): 0.0133\n",
      "Batch 69 | Transform: RandomRotation | Reject Differential (mean): 0.0147\n",
      "Batch 69 | Transform: ColorJitter | Reject Differential (mean): 0.0245\n"
     ]
    },
    {
     "name": "stderr",
     "output_type": "stream",
     "text": [
      " 75%|███████████████████████████████████████████████████████████████████████████████████████████████████████████████████████████                                         | 75/100 [00:02<00:00, 38.20it/s]"
     ]
    },
    {
     "name": "stdout",
     "output_type": "stream",
     "text": [
      "Batch 69 | Transform: RandomAffine | Reject Differential (mean): 0.0141\n",
      "Batch 70 | Transform: RandomRotation | Reject Differential (mean): 0.0129\n",
      "Batch 70 | Transform: ColorJitter | Reject Differential (mean): 0.0210\n",
      "Batch 70 | Transform: RandomAffine | Reject Differential (mean): 0.0125\n",
      "Batch 71 | Transform: RandomRotation | Reject Differential (mean): 0.0119\n",
      "Batch 71 | Transform: ColorJitter | Reject Differential (mean): 0.0202\n",
      "Batch 71 | Transform: RandomAffine | Reject Differential (mean): 0.0142\n",
      "Batch 72 | Transform: RandomRotation | Reject Differential (mean): 0.0000\n",
      "Batch 72 | Transform: ColorJitter | Reject Differential (mean): 0.0172\n",
      "Batch 72 | Transform: RandomAffine | Reject Differential (mean): 0.0153\n",
      "Batch 73 | Transform: RandomRotation | Reject Differential (mean): 0.0117\n",
      "Batch 73 | Transform: ColorJitter | Reject Differential (mean): 0.0190\n",
      "Batch 73 | Transform: RandomAffine | Reject Differential (mean): 0.0146\n",
      "Batch 74 | Transform: RandomRotation | Reject Differential (mean): 0.0113\n",
      "Batch 74 | Transform: ColorJitter | Reject Differential (mean): 0.0201\n",
      "Batch 74 | Transform: RandomAffine | Reject Differential (mean): 0.0156\n",
      "Batch 75 | Transform: RandomRotation | Reject Differential (mean): 0.0106\n",
      "Batch 75 | Transform: ColorJitter | Reject Differential (mean): 0.0198\n",
      "Batch 75 | Transform: RandomAffine | Reject Differential (mean): 0.0147\n",
      "Batch 76 | Transform: RandomRotation | Reject Differential (mean): 0.0172\n",
      "Batch 76 | Transform: ColorJitter | Reject Differential (mean): 0.0202\n",
      "Batch 76 | Transform: RandomAffine | Reject Differential (mean): 0.0156\n",
      "Batch 77 | Transform: RandomRotation | Reject Differential (mean): 0.0134\n",
      "Batch 77 | Transform: ColorJitter | Reject Differential (mean): 0.0224\n",
      "Batch 77 | Transform: RandomAffine | Reject Differential (mean): 0.0149\n"
     ]
    },
    {
     "name": "stderr",
     "output_type": "stream",
     "text": [
      " 85%|███████████████████████████████████████████████████████████████████████████████████████████████████████████████████████████████████████████▍                        | 85/100 [00:02<00:00, 40.23it/s]"
     ]
    },
    {
     "name": "stdout",
     "output_type": "stream",
     "text": [
      "Batch 78 | Transform: RandomRotation | Reject Differential (mean): 0.0125\n",
      "Batch 78 | Transform: ColorJitter | Reject Differential (mean): 0.0213\n",
      "Batch 78 | Transform: RandomAffine | Reject Differential (mean): 0.0158\n",
      "Batch 79 | Transform: RandomRotation | Reject Differential (mean): 0.0134\n",
      "Batch 79 | Transform: ColorJitter | Reject Differential (mean): 0.0177\n",
      "Batch 79 | Transform: RandomAffine | Reject Differential (mean): 0.0154\n",
      "Batch 80 | Transform: RandomRotation | Reject Differential (mean): 0.0101\n",
      "Batch 80 | Transform: ColorJitter | Reject Differential (mean): 0.0182\n",
      "Batch 80 | Transform: RandomAffine | Reject Differential (mean): 0.0127\n",
      "Batch 81 | Transform: RandomRotation | Reject Differential (mean): 0.0120\n",
      "Batch 81 | Transform: ColorJitter | Reject Differential (mean): 0.0216\n",
      "Batch 81 | Transform: RandomAffine | Reject Differential (mean): 0.0136\n",
      "Batch 82 | Transform: RandomRotation | Reject Differential (mean): 0.0115\n",
      "Batch 82 | Transform: ColorJitter | Reject Differential (mean): 0.0211\n",
      "Batch 82 | Transform: RandomAffine | Reject Differential (mean): 0.0134\n",
      "Batch 83 | Transform: RandomRotation | Reject Differential (mean): 0.0071\n",
      "Batch 83 | Transform: ColorJitter | Reject Differential (mean): 0.0239\n",
      "Batch 83 | Transform: RandomAffine | Reject Differential (mean): 0.0136\n",
      "Batch 84 | Transform: RandomRotation | Reject Differential (mean): 0.0144\n",
      "Batch 84 | Transform: ColorJitter | Reject Differential (mean): 0.0228\n",
      "Batch 84 | Transform: RandomAffine | Reject Differential (mean): 0.0133\n",
      "Batch 85 | Transform: RandomRotation | Reject Differential (mean): 0.0137\n",
      "Batch 85 | Transform: ColorJitter | Reject Differential (mean): 0.0213\n",
      "Batch 85 | Transform: RandomAffine | Reject Differential (mean): 0.0144\n",
      "Batch 86 | Transform: RandomRotation | Reject Differential (mean): 0.0130\n",
      "Batch 86 | Transform: ColorJitter | Reject Differential (mean): 0.0213\n",
      "Batch 86 | Transform: RandomAffine | Reject Differential (mean): 0.0134\n"
     ]
    },
    {
     "name": "stderr",
     "output_type": "stream",
     "text": [
      " 95%|███████████████████████████████████████████████████████████████████████████████████████████████████████████████████████████████████████████████████████████▊        | 95/100 [00:03<00:00, 41.16it/s]"
     ]
    },
    {
     "name": "stdout",
     "output_type": "stream",
     "text": [
      "Batch 87 | Transform: RandomRotation | Reject Differential (mean): 0.0129\n",
      "Batch 87 | Transform: ColorJitter | Reject Differential (mean): 0.0193\n",
      "Batch 87 | Transform: RandomAffine | Reject Differential (mean): 0.0129\n",
      "Batch 88 | Transform: RandomRotation | Reject Differential (mean): 0.0158\n",
      "Batch 88 | Transform: ColorJitter | Reject Differential (mean): 0.0236\n",
      "Batch 88 | Transform: RandomAffine | Reject Differential (mean): 0.0144\n",
      "Batch 89 | Transform: RandomRotation | Reject Differential (mean): 0.0120\n",
      "Batch 89 | Transform: ColorJitter | Reject Differential (mean): 0.0224\n",
      "Batch 89 | Transform: RandomAffine | Reject Differential (mean): 0.0117\n",
      "Batch 90 | Transform: RandomRotation | Reject Differential (mean): 0.0128\n",
      "Batch 90 | Transform: ColorJitter | Reject Differential (mean): 0.0191\n",
      "Batch 90 | Transform: RandomAffine | Reject Differential (mean): 0.0122\n",
      "Batch 91 | Transform: RandomRotation | Reject Differential (mean): 0.0119\n",
      "Batch 91 | Transform: ColorJitter | Reject Differential (mean): 0.0241\n",
      "Batch 91 | Transform: RandomAffine | Reject Differential (mean): 0.0144\n",
      "Batch 92 | Transform: RandomRotation | Reject Differential (mean): 0.0055\n",
      "Batch 92 | Transform: ColorJitter | Reject Differential (mean): 0.0202\n",
      "Batch 92 | Transform: RandomAffine | Reject Differential (mean): 0.0143\n",
      "Batch 93 | Transform: RandomRotation | Reject Differential (mean): 0.0142\n",
      "Batch 93 | Transform: ColorJitter | Reject Differential (mean): 0.0193\n",
      "Batch 93 | Transform: RandomAffine | Reject Differential (mean): 0.0149\n",
      "Batch 94 | Transform: RandomRotation | Reject Differential (mean): 0.0151\n",
      "Batch 94 | Transform: ColorJitter | Reject Differential (mean): 0.0208\n",
      "Batch 94 | Transform: RandomAffine | Reject Differential (mean): 0.0150\n",
      "Batch 95 | Transform: RandomRotation | Reject Differential (mean): 0.0072\n",
      "Batch 95 | Transform: ColorJitter | Reject Differential (mean): 0.0194\n"
     ]
    },
    {
     "name": "stderr",
     "output_type": "stream",
     "text": [
      "100%|███████████████████████████████████████████████████████████████████████████████████████████████████████████████████████████████████████████████████████████████████| 100/100 [00:03<00:00, 30.29it/s]"
     ]
    },
    {
     "name": "stdout",
     "output_type": "stream",
     "text": [
      "Batch 95 | Transform: RandomAffine | Reject Differential (mean): 0.0133\n",
      "Batch 96 | Transform: RandomRotation | Reject Differential (mean): 0.0074\n",
      "Batch 96 | Transform: ColorJitter | Reject Differential (mean): 0.0204\n",
      "Batch 96 | Transform: RandomAffine | Reject Differential (mean): 0.0188\n",
      "Batch 97 | Transform: RandomRotation | Reject Differential (mean): 0.0136\n",
      "Batch 97 | Transform: ColorJitter | Reject Differential (mean): 0.0202\n",
      "Batch 97 | Transform: RandomAffine | Reject Differential (mean): 0.0150\n",
      "Batch 98 | Transform: RandomRotation | Reject Differential (mean): 0.0102\n",
      "Batch 98 | Transform: ColorJitter | Reject Differential (mean): 0.0202\n",
      "Batch 98 | Transform: RandomAffine | Reject Differential (mean): 0.0136\n",
      "Batch 99 | Transform: RandomRotation | Reject Differential (mean): 0.0083\n",
      "Batch 99 | Transform: ColorJitter | Reject Differential (mean): 0.0235\n",
      "Batch 99 | Transform: RandomAffine | Reject Differential (mean): 0.0000\n",
      "Number of recorded reject differentials: 300\n",
      "Example of first few reject_diffs: [0.0, 0.02072783373296261, 0.015123789198696613, 0.011071598157286644, 0.02186262048780918]\n"
     ]
    },
    {
     "name": "stderr",
     "output_type": "stream",
     "text": [
      "\n"
     ]
    }
   ],
   "source": [
    "reject_diffs = []\n",
    "\n",
    "# Evaluate reject differential over the test set\n",
    "for i, (images, labels) in enumerate(tqdm(testloader)):\n",
    "    \n",
    "    images = images.to(device)\n",
    "\n",
    "    # Original prediction\n",
    "    with torch.no_grad():\n",
    "        original_output = model(images)\n",
    "        original_prob = F.softmax(original_output, dim=1)               # shape [batch_size, 10]\n",
    "        original_confidence, original_pred = torch.max(original_prob, 1) # shape [batch_size]\n",
    "\n",
    "    # For metamorphic transform\n",
    "    for tf in transformations:\n",
    "       \n",
    "        transformed_images = tf(images.cpu()).to(device)\n",
    "\n",
    "        with torch.no_grad():\n",
    "            transformed_output = model(transformed_images)\n",
    "            transformed_prob = F.softmax(transformed_output, dim=1)\n",
    "            transformed_confidence, transformed_pred = torch.max(transformed_prob, 1)\n",
    "\n",
    "        # Compute absolute difference in confidence for each sample in the batch\n",
    "    \n",
    "        diff_tensor = torch.abs(original_confidence - transformed_confidence)\n",
    "\n",
    "        # Convert to a single scalar by taking the mean over the batch\n",
    "        diff_mean = diff_tensor.mean().item()\n",
    "\n",
    "       \n",
    "        reject_diffs.append(diff_mean)\n",
    "\n",
    "       \n",
    "        print(f\"Batch {i} | Transform: {tf.__class__.__name__} | \"\n",
    "              f\"Reject Differential (mean): {diff_mean:.4f}\")\n",
    "\n",
    "\n",
    "print(\"Number of recorded reject differentials:\", len(reject_diffs))\n",
    "print(\"Example of first few reject_diffs:\", reject_diffs[:5])\n"
   ]
  },
  {
   "cell_type": "code",
   "execution_count": 33,
   "id": "04ea4f49-17f8-42b6-9c63-3aed156008c5",
   "metadata": {},
   "outputs": [
    {
     "name": "stdout",
     "output_type": "stream",
     "text": [
      "Epoch [1/10]\n",
      "  Train Loss: 1.6972, Train Acc: 36.04%\n",
      "  Test  Loss: 1.5370, Test  Acc: 43.60%\n",
      "Epoch [2/10]\n",
      "  Train Loss: 1.2336, Train Acc: 55.22%\n",
      "  Test  Loss: 1.3818, Test  Acc: 55.02%\n",
      "Epoch [3/10]\n",
      "  Train Loss: 0.9726, Train Acc: 65.30%\n",
      "  Test  Loss: 1.0759, Test  Acc: 63.55%\n",
      "Epoch [4/10]\n",
      "  Train Loss: 0.7995, Train Acc: 71.76%\n",
      "  Test  Loss: 0.9595, Test  Acc: 68.67%\n",
      "Epoch [5/10]\n",
      "  Train Loss: 0.6989, Train Acc: 75.60%\n",
      "  Test  Loss: 0.7330, Test  Acc: 75.12%\n",
      "Epoch [6/10]\n",
      "  Train Loss: 0.6304, Train Acc: 78.02%\n",
      "  Test  Loss: 0.7427, Test  Acc: 74.58%\n",
      "Epoch [7/10]\n",
      "  Train Loss: 0.5719, Train Acc: 80.19%\n",
      "  Test  Loss: 0.7963, Test  Acc: 73.50%\n",
      "Epoch [8/10]\n",
      "  Train Loss: 0.5357, Train Acc: 81.52%\n",
      "  Test  Loss: 0.7665, Test  Acc: 75.32%\n",
      "Epoch [9/10]\n",
      "  Train Loss: 0.5039, Train Acc: 82.48%\n",
      "  Test  Loss: 0.5829, Test  Acc: 80.47%\n",
      "Epoch [10/10]\n",
      "  Train Loss: 0.4822, Train Acc: 83.16%\n",
      "  Test  Loss: 0.6081, Test  Acc: 80.13%\n"
     ]
    }
   ],
   "source": [
    "train_losses = []\n",
    "test_losses = []\n",
    "\n",
    "num_epochs = 10\n",
    "\n",
    "for epoch in range(num_epochs):\n",
    "    train_loss, train_acc = train_one_epoch(model, trainloader, criterion, optimizer)\n",
    "    test_loss, test_acc = evaluate(model, testloader, criterion)\n",
    "\n",
    "    # Append losses to track\n",
    "    train_losses.append(train_loss)\n",
    "    test_losses.append(test_loss)\n",
    "\n",
    "    print(f\"Epoch [{epoch+1}/{num_epochs}]\")\n",
    "    print(f\"  Train Loss: {train_loss:.4f}, Train Acc: {train_acc:.2f}%\")\n",
    "    print(f\"  Test  Loss: {test_loss:.4f}, Test  Acc: {test_acc:.2f}%\")"
   ]
  },
  {
   "cell_type": "code",
   "execution_count": 34,
   "id": "9cfc88f3-3858-4de6-bf83-02a9e6fef302",
   "metadata": {},
   "outputs": [],
   "source": [
    "def validate(model, testloader, device, criterion):\n",
    "    model.eval()\n",
    "    val_running_loss = 0.0\n",
    "    val_running_correct = 0\n",
    "    all_preds = []\n",
    "    all_targets = []\n",
    "    \n",
    "    # Switch off gradient tracking for validation\n",
    "    with torch.no_grad():\n",
    "        for data, target in testloader:\n",
    "            data, target = data.to(device), target.to(device)\n",
    "            \n",
    "            # Forward pass\n",
    "            output = model(data)\n",
    "            loss = criterion(output, target)\n",
    "            \n",
    "            # Accumulate loss * batch_size for accurate average\n",
    "            val_running_loss += loss.item() * data.size(0)\n",
    "            \n",
    "            # Predictions\n",
    "            _, preds = torch.max(output, 1)\n",
    "            val_running_correct += (preds == target).sum().item()\n",
    "            \n",
    "            # Store for metrics\n",
    "            all_preds.extend(preds.cpu().numpy())\n",
    "            all_targets.extend(target.cpu().numpy())\n",
    "    \n",
    "    # Calculate average loss\n",
    "    total_samples = len(testloader.dataset)\n",
    "    val_loss = val_running_loss / total_samples\n",
    "    \n",
    "    # Calculate accuracy\n",
    "    val_accuracy = 100.0 * val_running_correct / total_samples\n",
    "    \n",
    "    # Calculate precision, recall, F1 (weighted or macro—your choice)\n",
    "    precision = precision_score(all_targets, all_preds, average='weighted')\n",
    "    recall    = recall_score(all_targets, all_preds, average='weighted')\n",
    "    f1        = f1_score(all_targets, all_preds, average='weighted')\n",
    "    \n",
    "    return val_loss, val_accuracy, precision, recall, f1\n"
   ]
  },
  {
   "cell_type": "code",
   "execution_count": 35,
   "id": "ff10a06a-1479-41b0-bb92-4a38f07fdeb9",
   "metadata": {},
   "outputs": [
    {
     "name": "stdout",
     "output_type": "stream",
     "text": [
      "Model saved to resnet20_RejDiff_cifar10.pth\n"
     ]
    }
   ],
   "source": [
    "model_save_path = 'resnet20_RejDiff_cifar10.pth'\n",
    "torch.save(model.state_dict(), model_save_path)\n",
    "print(f\"Model saved to {model_save_path}\")"
   ]
  },
  {
   "cell_type": "code",
   "execution_count": 36,
   "id": "039aedbf-22ef-402a-b4a8-bff0d09309ac",
   "metadata": {},
   "outputs": [
    {
     "name": "stderr",
     "output_type": "stream",
     "text": [
      "/tmp/ipykernel_320522/1717748095.py:1: FutureWarning: You are using `torch.load` with `weights_only=False` (the current default value), which uses the default pickle module implicitly. It is possible to construct malicious pickle data which will execute arbitrary code during unpickling (See https://github.com/pytorch/pytorch/blob/main/SECURITY.md#untrusted-models for more details). In a future release, the default value for `weights_only` will be flipped to `True`. This limits the functions that could be executed during unpickling. Arbitrary objects will no longer be allowed to be loaded via this mode unless they are explicitly allowlisted by the user via `torch.serialization.add_safe_globals`. We recommend you start setting `weights_only=True` for any use case where you don't have full control of the loaded file. Please open an issue on GitHub for any issues related to this experimental feature.\n",
      "  model.load_state_dict(torch.load(model_save_path))\n"
     ]
    }
   ],
   "source": [
    "model.load_state_dict(torch.load(model_save_path))\n",
    "mode = model.to(device)"
   ]
  },
  {
   "cell_type": "code",
   "execution_count": 37,
   "id": "59bd29c3-ee95-4f96-b931-54468ee89144",
   "metadata": {},
   "outputs": [
    {
     "name": "stdout",
     "output_type": "stream",
     "text": [
      "\n",
      "Final Test Results - Loss: 0.6081, Accuracy: 80.13%, Precision: 0.81, Recall: 0.80, F1 Score: 0.80\n"
     ]
    }
   ],
   "source": [
    "final_val_loss, final_val_accuracy, final_precision, final_recall, final_f1 = validate( model,  testloader, device=device, criterion=criterion)\n",
    "\n",
    "print(f\"\\nFinal Test Results - Loss: {final_val_loss:.4f}, \"f\"Accuracy: {final_val_accuracy:.2f}%, \"f\"Precision: {final_precision:.2f}, \"f\"Recall: {final_recall:.2f}, \"f\"F1 Score: {final_f1:.2f}\")"
   ]
  },
  {
   "cell_type": "code",
   "execution_count": null,
   "id": "23c51b6e-a002-4a88-9c22-f61d8619a972",
   "metadata": {},
   "outputs": [],
   "source": []
  }
 ],
 "metadata": {
  "kernelspec": {
   "display_name": "Python 3 (ipykernel)",
   "language": "python",
   "name": "python3"
  },
  "language_info": {
   "codemirror_mode": {
    "name": "ipython",
    "version": 3
   },
   "file_extension": ".py",
   "mimetype": "text/x-python",
   "name": "python",
   "nbconvert_exporter": "python",
   "pygments_lexer": "ipython3",
   "version": "3.8.10"
  }
 },
 "nbformat": 4,
 "nbformat_minor": 5
}
