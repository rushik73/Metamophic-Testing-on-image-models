{
 "cells": [
  {
   "cell_type": "code",
   "execution_count": 1,
   "id": "cd0b9197-626b-4816-8631-02a307d493a1",
   "metadata": {},
   "outputs": [],
   "source": [
    "import os\n",
    "import torch\n",
    "import torchvision\n",
    "import torchvision.transforms as transforms\n",
    "import torch.optim as optim\n",
    "import time\n",
    "import torch.nn.functional as F\n",
    "import torch.nn as nn\n",
    "import matplotlib.pyplot as plt\n",
    "from torchvision import models\n",
    "from sklearn.metrics import accuracy_score, precision_score, recall_score, f1_score\n",
    "from torchvision.models import AlexNet_Weights\n",
    "from tqdm import tqdm"
   ]
  },
  {
   "cell_type": "code",
   "execution_count": 2,
   "id": "411b14d2-6cf1-428d-b81c-fbc4d72f04c5",
   "metadata": {},
   "outputs": [
    {
     "name": "stdout",
     "output_type": "stream",
     "text": [
      "cuda\n"
     ]
    }
   ],
   "source": [
    "device = 'cuda' if torch.cuda.is_available() else 'cpu'\n",
    "print(device)\n",
    "\n",
    "\n",
    "transform = transforms.Compose(\n",
    "    [transforms.Resize((224, 224)),\n",
    "     transforms.ToTensor(),\n",
    "     transforms.Normalize((0.4914, 0.4822, 0.447), (0.247, 0.243, 0.262))])\n",
    "trainset = torchvision.datasets.FashionMNIST(root='./data', train=True,\n",
    "                                        download=True, transform=transform)\n",
    "trainloader = torch.utils.data.DataLoader(trainset, batch_size=32,\n",
    "                                          shuffle=True)\n",
    "testset = torchvision.datasets.FashionMNIST(root='./data', train=False,\n",
    "                                       download=True, transform=transform)\n",
    "testloader = torch.utils.data.DataLoader(testset, batch_size=32,\n",
    "                                         shuffle=False)"
   ]
  },
  {
   "cell_type": "code",
   "execution_count": 3,
   "id": "dacdb705-6861-4e6e-8398-3f0199081180",
   "metadata": {},
   "outputs": [
    {
     "name": "stdout",
     "output_type": "stream",
     "text": [
      "AlexNet(\n",
      "  (features): Sequential(\n",
      "    (0): Conv2d(3, 64, kernel_size=(11, 11), stride=(4, 4), padding=(2, 2))\n",
      "    (1): ReLU(inplace=True)\n",
      "    (2): MaxPool2d(kernel_size=3, stride=2, padding=0, dilation=1, ceil_mode=False)\n",
      "    (3): Conv2d(64, 192, kernel_size=(5, 5), stride=(1, 1), padding=(2, 2))\n",
      "    (4): ReLU(inplace=True)\n",
      "    (5): MaxPool2d(kernel_size=3, stride=2, padding=0, dilation=1, ceil_mode=False)\n",
      "    (6): Conv2d(192, 384, kernel_size=(3, 3), stride=(1, 1), padding=(1, 1))\n",
      "    (7): ReLU(inplace=True)\n",
      "    (8): Conv2d(384, 256, kernel_size=(3, 3), stride=(1, 1), padding=(1, 1))\n",
      "    (9): ReLU(inplace=True)\n",
      "    (10): Conv2d(256, 256, kernel_size=(3, 3), stride=(1, 1), padding=(1, 1))\n",
      "    (11): ReLU(inplace=True)\n",
      "    (12): MaxPool2d(kernel_size=3, stride=2, padding=0, dilation=1, ceil_mode=False)\n",
      "  )\n",
      "  (avgpool): AdaptiveAvgPool2d(output_size=(6, 6))\n",
      "  (classifier): Sequential(\n",
      "    (0): Dropout(p=0.5, inplace=False)\n",
      "    (1): Linear(in_features=9216, out_features=4096, bias=True)\n",
      "    (2): ReLU(inplace=True)\n",
      "    (3): Dropout(p=0.5, inplace=False)\n",
      "    (4): Linear(in_features=4096, out_features=4096, bias=True)\n",
      "    (5): ReLU(inplace=True)\n",
      "    (6): Linear(in_features=4096, out_features=10, bias=True)\n",
      "  )\n",
      ")\n"
     ]
    }
   ],
   "source": [
    "AlexNet = models.alexnet(weights=AlexNet_Weights.DEFAULT)\n",
    "AlexNet.classifier[6] = nn.Linear(4096, 10)\n",
    "AlexNet.to(device)\n",
    "print(AlexNet)"
   ]
  },
  {
   "cell_type": "code",
   "execution_count": 4,
   "id": "4d8a9950-26be-404d-8de8-c43141dc1d87",
   "metadata": {},
   "outputs": [],
   "source": [
    "# optimizer\n",
    "optimizer = optim.SGD(AlexNet.classifier.parameters(), lr=0.001, momentum=0.9)\n",
    "# loss function\n",
    "criterion = nn.CrossEntropyLoss()"
   ]
  },
  {
   "cell_type": "code",
   "execution_count": 5,
   "id": "7b4ad9b7-c020-47ec-b195-e8edcfdbe784",
   "metadata": {},
   "outputs": [],
   "source": [
    "#transformations for metamorphic testing\n",
    "transformations = [\n",
    "    transforms.RandomRotation(degrees=10),  # Small rotation\n",
    "    transforms.ColorJitter(brightness=0.2),  # Slight brightness change\n",
    "    transforms.RandomAffine(degrees=0, translate=(0.1, 0.1))  # Small translation\n",
    "]"
   ]
  },
  {
   "cell_type": "code",
   "execution_count": 6,
   "id": "42804ce3-383f-4622-ad5e-53fb15c93479",
   "metadata": {},
   "outputs": [],
   "source": [
    "# Validation Function\n",
    "def validate(model, test_dataloader):\n",
    "    model.eval()\n",
    "    val_running_loss = 0.0\n",
    "    val_running_correct = 0\n",
    "    all_preds = []\n",
    "    all_targets = []\n",
    "    with torch.no_grad():\n",
    "        for data, target in tqdm(test_dataloader):\n",
    "            data, target = data.to(device), target.to(device)\n",
    "            output = model(data)\n",
    "            loss = criterion(output, target)\n",
    "            val_running_loss += loss.item()\n",
    "            _, preds = torch.max(output.data, 1)\n",
    "            val_running_correct += (preds == target).sum().item()\n",
    "            all_preds.extend(preds.cpu().numpy())\n",
    "            all_targets.extend(target.cpu().numpy())\n",
    "    \n",
    "    val_loss = val_running_loss / len(test_dataloader.dataset)\n",
    "    val_accuracy = 100. * val_running_correct / len(test_dataloader.dataset)\n",
    "    \n",
    "    # Calculate metrics\n",
    "    precision = precision_score(all_targets, all_preds, average='weighted')\n",
    "    recall = recall_score(all_targets, all_preds, average='weighted')\n",
    "    f1 = f1_score(all_targets, all_preds, average='weighted')\n",
    "    \n",
    "    return val_loss, val_accuracy, precision, recall, f1"
   ]
  },
  {
   "cell_type": "code",
   "execution_count": 7,
   "id": "3c0a7510-1803-43ed-9e8d-77dc57eca4a4",
   "metadata": {},
   "outputs": [],
   "source": [
    "def fit(model, train_dataloader):\n",
    "    model.train()\n",
    "    train_running_loss = 0.0\n",
    "    train_running_correct = 0\n",
    "    for  data, target in tqdm(train_dataloader):\n",
    "        data, target = data.to(device), target.to(device)\n",
    "        optimizer.zero_grad()\n",
    "        output = model(data)\n",
    "        loss = criterion(output, target)\n",
    "        train_running_loss += loss.item()\n",
    "        _, preds = torch.max(output.data, 1)\n",
    "        train_running_correct += (preds == target).sum().item()\n",
    "        loss.backward()\n",
    "        optimizer.step()\n",
    "    train_loss = train_running_loss/len(train_dataloader.dataset)\n",
    "    train_accuracy = 100. * train_running_correct/len(train_dataloader.dataset)\n",
    "    print(f'Train Loss: {train_loss:.4f}, Train Acc: {train_accuracy:.2f}')\n",
    "    \n",
    "    return train_loss, train_accuracy"
   ]
  },
  {
   "cell_type": "code",
   "execution_count": 10,
   "id": "198c0cba-913b-4e43-91cf-c2b4c457ced8",
   "metadata": {},
   "outputs": [],
   "source": [
    "import torch\n",
    "import torch.nn.functional as F\n",
    "\n",
    "def weighted_vote_prediction(model, images, transformations, weights, device, num_classes=10):\n",
    "    \"\"\"\n",
    "      weighted_preds: Tensor of shape [batch_size] with the weighted vote result.\n",
    "      accepted_mask: Boolean tensor of shape [batch_size] indicating accepted samples.\n",
    "    \"\"\"\n",
    "    model.eval()\n",
    "\n",
    "    # 1) Original predictions\n",
    "    with torch.no_grad():\n",
    "        original_out = model(images)\n",
    "        _, original_preds = torch.max(F.softmax(original_out, dim=1), dim=1)  # shape: [batch_size]\n",
    "\n",
    "    # Initialize weighted vote sum using one-hot encoding of original predictions and its weight.\n",
    "    weighted_sum = F.one_hot(original_preds, num_classes=num_classes).float() * weights[0]\n",
    "\n",
    "    # 2) For each metamorphic transformation, get predictions and add weighted one-hot votes.\n",
    "    for i, tf in enumerate(transformations):\n",
    "        # Apply transformation on CPU and then move to device.\n",
    "        x_tf = tf(images.cpu()).to(device)\n",
    "        with torch.no_grad():\n",
    "            out_tf = model(x_tf)\n",
    "            _, preds_tf = torch.max(F.softmax(out_tf, dim=1), dim=1)\n",
    "        # Convert predictions to one-hot and multiply by weight.\n",
    "        weighted_sum += F.one_hot(preds_tf, num_classes=num_classes).float() * weights[i+1]\n",
    "\n",
    "    # 3) Final weighted vote: for each sample, take the argmax of the weighted sum.\n",
    "    weighted_preds = weighted_sum.argmax(dim=1)  # shape: [batch_size]\n",
    "\n",
    "    # 4) Determine acceptance: accept if weighted vote equals the original prediction.\n",
    "    accepted_mask = (weighted_preds == original_preds)\n",
    "\n",
    "    return weighted_preds, accepted_mask\n"
   ]
  },
  {
   "cell_type": "code",
   "execution_count": 11,
   "id": "447a009c-3a4f-4968-ac35-57be092632ed",
   "metadata": {},
   "outputs": [],
   "source": [
    "from tqdm import tqdm\n",
    "\n",
    "def test_with_weighted_vote(model, loader, transformations, weights, device):\n",
    "    \"\"\"\n",
    "    Evaluates the model on the test set 'loader' using weighted voting.\n",
    "    For each batch:\n",
    "      - Computes weighted vote predictions (using original + transformed outputs).\n",
    "      - Accepts a sample only if the weighted vote equals the original prediction.\n",
    "    \n",
    "    Prints per-batch information and returns:\n",
    "      - The accuracy among accepted samples.\n",
    "      - The overall acceptance rate.\n",
    "    \"\"\"\n",
    "    model.eval()\n",
    "    total_samples = 0\n",
    "    total_accepted = 0\n",
    "    correct_accepted = 0\n",
    "\n",
    "    for i, (images, labels) in enumerate(tqdm(loader)):\n",
    "        images, labels = images.to(device), labels.to(device)\n",
    "\n",
    "        # Get weighted vote predictions and acceptance mask for the batch.\n",
    "        weighted_preds, accepted_mask = weighted_vote_prediction(model, images, transformations, weights, device)\n",
    "\n",
    "        batch_size = labels.size(0)\n",
    "        total_samples += batch_size\n",
    "        batch_accepted = accepted_mask.sum().item()\n",
    "        total_accepted += batch_accepted\n",
    "\n",
    "        # Compute correct predictions among accepted samples.\n",
    "        if batch_accepted > 0:\n",
    "            batch_correct = (weighted_preds[accepted_mask] == labels[accepted_mask]).sum().item()\n",
    "            correct_accepted += batch_correct\n",
    "\n",
    "        print(f\"Batch {i} | Accepted: {batch_accepted}/{batch_size}\")\n",
    "\n",
    "    overall_acceptance_rate = 100.0 * total_accepted / total_samples\n",
    "    accepted_accuracy = 100.0 * correct_accepted / total_accepted if total_accepted > 0 else 0.0\n",
    "\n",
    "    print(f\"\\nOverall Acceptance Rate: {overall_acceptance_rate:.2f}%\")\n",
    "    print(f\"Accuracy among Accepted Samples: {accepted_accuracy:.2f}%\")\n",
    "    \n",
    "    return accepted_accuracy, overall_acceptance_rate\n"
   ]
  },
  {
   "cell_type": "code",
   "execution_count": 13,
   "id": "be1b3b76-05f4-4d37-9bc7-ade4f44c3172",
   "metadata": {},
   "outputs": [
    {
     "name": "stderr",
     "output_type": "stream",
     "text": [
      "  1%|▌                                                                                     | 2/313 [00:00<01:44,  2.98it/s]"
     ]
    },
    {
     "name": "stdout",
     "output_type": "stream",
     "text": [
      "Batch 0 | Accepted: 32/32\n",
      "Batch 1 | Accepted: 30/32\n"
     ]
    },
    {
     "name": "stderr",
     "output_type": "stream",
     "text": [
      "  1%|█                                                                                     | 4/313 [00:01<01:12,  4.26it/s]"
     ]
    },
    {
     "name": "stdout",
     "output_type": "stream",
     "text": [
      "Batch 2 | Accepted: 30/32\n",
      "Batch 3 | Accepted: 30/32\n"
     ]
    },
    {
     "name": "stderr",
     "output_type": "stream",
     "text": [
      "  2%|█▋                                                                                    | 6/313 [00:01<00:54,  5.65it/s]"
     ]
    },
    {
     "name": "stdout",
     "output_type": "stream",
     "text": [
      "Batch 4 | Accepted: 32/32\n",
      "Batch 5 | Accepted: 30/32\n"
     ]
    },
    {
     "name": "stderr",
     "output_type": "stream",
     "text": [
      "  3%|██▏                                                                                   | 8/313 [00:01<00:45,  6.69it/s]"
     ]
    },
    {
     "name": "stdout",
     "output_type": "stream",
     "text": [
      "Batch 6 | Accepted: 28/32\n",
      "Batch 7 | Accepted: 31/32\n"
     ]
    },
    {
     "name": "stderr",
     "output_type": "stream",
     "text": [
      "  3%|██▋                                                                                  | 10/313 [00:01<00:43,  7.00it/s]"
     ]
    },
    {
     "name": "stdout",
     "output_type": "stream",
     "text": [
      "Batch 8 | Accepted: 31/32\n",
      "Batch 9 | Accepted: 30/32\n"
     ]
    },
    {
     "name": "stderr",
     "output_type": "stream",
     "text": [
      "  4%|███▎                                                                                 | 12/313 [00:02<00:42,  7.09it/s]"
     ]
    },
    {
     "name": "stdout",
     "output_type": "stream",
     "text": [
      "Batch 10 | Accepted: 28/32\n",
      "Batch 11 | Accepted: 28/32\n"
     ]
    },
    {
     "name": "stderr",
     "output_type": "stream",
     "text": [
      "  4%|███▊                                                                                 | 14/313 [00:02<00:42,  6.99it/s]"
     ]
    },
    {
     "name": "stdout",
     "output_type": "stream",
     "text": [
      "Batch 12 | Accepted: 29/32\n",
      "Batch 13 | Accepted: 32/32\n"
     ]
    },
    {
     "name": "stderr",
     "output_type": "stream",
     "text": [
      "  5%|████▎                                                                                | 16/313 [00:02<00:41,  7.20it/s]"
     ]
    },
    {
     "name": "stdout",
     "output_type": "stream",
     "text": [
      "Batch 14 | Accepted: 30/32\n",
      "Batch 15 | Accepted: 28/32\n"
     ]
    },
    {
     "name": "stderr",
     "output_type": "stream",
     "text": [
      "  6%|████▉                                                                                | 18/313 [00:03<00:40,  7.36it/s]"
     ]
    },
    {
     "name": "stdout",
     "output_type": "stream",
     "text": [
      "Batch 16 | Accepted: 30/32\n",
      "Batch 17 | Accepted: 29/32\n"
     ]
    },
    {
     "name": "stderr",
     "output_type": "stream",
     "text": [
      "  6%|█████▍                                                                               | 20/313 [00:03<00:37,  7.84it/s]"
     ]
    },
    {
     "name": "stdout",
     "output_type": "stream",
     "text": [
      "Batch 18 | Accepted: 29/32\n",
      "Batch 19 | Accepted: 32/32\n"
     ]
    },
    {
     "name": "stderr",
     "output_type": "stream",
     "text": [
      "  7%|█████▉                                                                               | 22/313 [00:03<00:36,  7.96it/s]"
     ]
    },
    {
     "name": "stdout",
     "output_type": "stream",
     "text": [
      "Batch 20 | Accepted: 32/32\n",
      "Batch 21 | Accepted: 28/32\n"
     ]
    },
    {
     "name": "stderr",
     "output_type": "stream",
     "text": [
      "  8%|██████▌                                                                              | 24/313 [00:03<00:34,  8.40it/s]"
     ]
    },
    {
     "name": "stdout",
     "output_type": "stream",
     "text": [
      "Batch 22 | Accepted: 32/32\n",
      "Batch 23 | Accepted: 29/32\n"
     ]
    },
    {
     "name": "stderr",
     "output_type": "stream",
     "text": [
      "  8%|███████                                                                              | 26/313 [00:03<00:33,  8.58it/s]"
     ]
    },
    {
     "name": "stdout",
     "output_type": "stream",
     "text": [
      "Batch 24 | Accepted: 28/32\n",
      "Batch 25 | Accepted: 28/32\n"
     ]
    },
    {
     "name": "stderr",
     "output_type": "stream",
     "text": [
      "  9%|███████▌                                                                             | 28/313 [00:04<00:33,  8.39it/s]"
     ]
    },
    {
     "name": "stdout",
     "output_type": "stream",
     "text": [
      "Batch 26 | Accepted: 32/32\n",
      "Batch 27 | Accepted: 31/32\n"
     ]
    },
    {
     "name": "stderr",
     "output_type": "stream",
     "text": [
      " 10%|████████▏                                                                            | 30/313 [00:04<00:33,  8.43it/s]"
     ]
    },
    {
     "name": "stdout",
     "output_type": "stream",
     "text": [
      "Batch 28 | Accepted: 29/32\n",
      "Batch 29 | Accepted: 29/32\n"
     ]
    },
    {
     "name": "stderr",
     "output_type": "stream",
     "text": [
      " 10%|████████▋                                                                            | 32/313 [00:04<00:33,  8.31it/s]"
     ]
    },
    {
     "name": "stdout",
     "output_type": "stream",
     "text": [
      "Batch 30 | Accepted: 31/32\n",
      "Batch 31 | Accepted: 32/32\n"
     ]
    },
    {
     "name": "stderr",
     "output_type": "stream",
     "text": [
      " 11%|█████████▏                                                                           | 34/313 [00:04<00:33,  8.22it/s]"
     ]
    },
    {
     "name": "stdout",
     "output_type": "stream",
     "text": [
      "Batch 32 | Accepted: 30/32\n",
      "Batch 33 | Accepted: 31/32\n"
     ]
    },
    {
     "name": "stderr",
     "output_type": "stream",
     "text": [
      " 12%|█████████▊                                                                           | 36/313 [00:05<00:35,  7.81it/s]"
     ]
    },
    {
     "name": "stdout",
     "output_type": "stream",
     "text": [
      "Batch 34 | Accepted: 32/32\n",
      "Batch 35 | Accepted: 28/32\n"
     ]
    },
    {
     "name": "stderr",
     "output_type": "stream",
     "text": [
      " 12%|██████████▎                                                                          | 38/313 [00:05<00:35,  7.69it/s]"
     ]
    },
    {
     "name": "stdout",
     "output_type": "stream",
     "text": [
      "Batch 36 | Accepted: 30/32\n",
      "Batch 37 | Accepted: 31/32\n"
     ]
    },
    {
     "name": "stderr",
     "output_type": "stream",
     "text": [
      " 13%|██████████▊                                                                          | 40/313 [00:05<00:33,  8.05it/s]"
     ]
    },
    {
     "name": "stdout",
     "output_type": "stream",
     "text": [
      "Batch 38 | Accepted: 30/32\n",
      "Batch 39 | Accepted: 31/32\n"
     ]
    },
    {
     "name": "stderr",
     "output_type": "stream",
     "text": [
      " 13%|███████████▍                                                                         | 42/313 [00:05<00:33,  8.14it/s]"
     ]
    },
    {
     "name": "stdout",
     "output_type": "stream",
     "text": [
      "Batch 40 | Accepted: 30/32\n",
      "Batch 41 | Accepted: 31/32\n"
     ]
    },
    {
     "name": "stderr",
     "output_type": "stream",
     "text": [
      " 14%|███████████▉                                                                         | 44/313 [00:06<00:33,  8.15it/s]"
     ]
    },
    {
     "name": "stdout",
     "output_type": "stream",
     "text": [
      "Batch 42 | Accepted: 31/32\n",
      "Batch 43 | Accepted: 28/32\n"
     ]
    },
    {
     "name": "stderr",
     "output_type": "stream",
     "text": [
      " 15%|████████████▍                                                                        | 46/313 [00:06<00:32,  8.13it/s]"
     ]
    },
    {
     "name": "stdout",
     "output_type": "stream",
     "text": [
      "Batch 44 | Accepted: 32/32\n",
      "Batch 45 | Accepted: 32/32\n"
     ]
    },
    {
     "name": "stderr",
     "output_type": "stream",
     "text": [
      " 15%|█████████████                                                                        | 48/313 [00:06<00:33,  7.81it/s]"
     ]
    },
    {
     "name": "stdout",
     "output_type": "stream",
     "text": [
      "Batch 46 | Accepted: 29/32\n",
      "Batch 47 | Accepted: 31/32\n"
     ]
    },
    {
     "name": "stderr",
     "output_type": "stream",
     "text": [
      " 16%|█████████████▌                                                                       | 50/313 [00:06<00:34,  7.73it/s]"
     ]
    },
    {
     "name": "stdout",
     "output_type": "stream",
     "text": [
      "Batch 48 | Accepted: 29/32\n",
      "Batch 49 | Accepted: 30/32\n"
     ]
    },
    {
     "name": "stderr",
     "output_type": "stream",
     "text": [
      " 17%|██████████████                                                                       | 52/313 [00:07<00:31,  8.24it/s]"
     ]
    },
    {
     "name": "stdout",
     "output_type": "stream",
     "text": [
      "Batch 50 | Accepted: 30/32\n",
      "Batch 51 | Accepted: 28/32\n"
     ]
    },
    {
     "name": "stderr",
     "output_type": "stream",
     "text": [
      " 17%|██████████████▋                                                                      | 54/313 [00:07<00:31,  8.25it/s]"
     ]
    },
    {
     "name": "stdout",
     "output_type": "stream",
     "text": [
      "Batch 52 | Accepted: 30/32\n",
      "Batch 53 | Accepted: 30/32\n"
     ]
    },
    {
     "name": "stderr",
     "output_type": "stream",
     "text": [
      " 18%|███████████████▏                                                                     | 56/313 [00:07<00:31,  8.17it/s]"
     ]
    },
    {
     "name": "stdout",
     "output_type": "stream",
     "text": [
      "Batch 54 | Accepted: 30/32\n",
      "Batch 55 | Accepted: 29/32\n"
     ]
    },
    {
     "name": "stderr",
     "output_type": "stream",
     "text": [
      " 19%|███████████████▊                                                                     | 58/313 [00:07<00:29,  8.58it/s]"
     ]
    },
    {
     "name": "stdout",
     "output_type": "stream",
     "text": [
      "Batch 56 | Accepted: 32/32\n",
      "Batch 57 | Accepted: 31/32\n"
     ]
    },
    {
     "name": "stderr",
     "output_type": "stream",
     "text": [
      " 19%|████████████████▎                                                                    | 60/313 [00:08<00:29,  8.61it/s]"
     ]
    },
    {
     "name": "stdout",
     "output_type": "stream",
     "text": [
      "Batch 58 | Accepted: 30/32\n",
      "Batch 59 | Accepted: 31/32\n"
     ]
    },
    {
     "name": "stderr",
     "output_type": "stream",
     "text": [
      " 20%|████████████████▊                                                                    | 62/313 [00:08<00:27,  8.99it/s]"
     ]
    },
    {
     "name": "stdout",
     "output_type": "stream",
     "text": [
      "Batch 60 | Accepted: 29/32\n",
      "Batch 61 | Accepted: 32/32\n"
     ]
    },
    {
     "name": "stderr",
     "output_type": "stream",
     "text": [
      " 20%|█████████████████▍                                                                   | 64/313 [00:08<00:27,  9.10it/s]"
     ]
    },
    {
     "name": "stdout",
     "output_type": "stream",
     "text": [
      "Batch 62 | Accepted: 28/32\n",
      "Batch 63 | Accepted: 26/32\n"
     ]
    },
    {
     "name": "stderr",
     "output_type": "stream",
     "text": [
      " 21%|█████████████████▉                                                                   | 66/313 [00:08<00:28,  8.81it/s]"
     ]
    },
    {
     "name": "stdout",
     "output_type": "stream",
     "text": [
      "Batch 64 | Accepted: 32/32\n",
      "Batch 65 | Accepted: 30/32\n"
     ]
    },
    {
     "name": "stderr",
     "output_type": "stream",
     "text": [
      " 22%|██████████████████▍                                                                  | 68/313 [00:09<00:26,  9.09it/s]"
     ]
    },
    {
     "name": "stdout",
     "output_type": "stream",
     "text": [
      "Batch 66 | Accepted: 30/32\n",
      "Batch 67 | Accepted: 29/32\n"
     ]
    },
    {
     "name": "stderr",
     "output_type": "stream",
     "text": [
      " 22%|███████████████████                                                                  | 70/313 [00:09<00:26,  9.07it/s]"
     ]
    },
    {
     "name": "stdout",
     "output_type": "stream",
     "text": [
      "Batch 68 | Accepted: 32/32\n",
      "Batch 69 | Accepted: 30/32\n"
     ]
    },
    {
     "name": "stderr",
     "output_type": "stream",
     "text": [
      " 23%|███████████████████▌                                                                 | 72/313 [00:09<00:26,  9.12it/s]"
     ]
    },
    {
     "name": "stdout",
     "output_type": "stream",
     "text": [
      "Batch 70 | Accepted: 30/32\n",
      "Batch 71 | Accepted: 29/32\n"
     ]
    },
    {
     "name": "stderr",
     "output_type": "stream",
     "text": [
      " 24%|████████████████████                                                                 | 74/313 [00:09<00:25,  9.20it/s]"
     ]
    },
    {
     "name": "stdout",
     "output_type": "stream",
     "text": [
      "Batch 72 | Accepted: 30/32\n",
      "Batch 73 | Accepted: 31/32\n"
     ]
    },
    {
     "name": "stderr",
     "output_type": "stream",
     "text": [
      " 24%|████████████████████▋                                                                | 76/313 [00:09<00:26,  9.00it/s]"
     ]
    },
    {
     "name": "stdout",
     "output_type": "stream",
     "text": [
      "Batch 74 | Accepted: 32/32\n",
      "Batch 75 | Accepted: 31/32\n"
     ]
    },
    {
     "name": "stderr",
     "output_type": "stream",
     "text": [
      " 25%|█████████████████████▏                                                               | 78/313 [00:10<00:28,  8.38it/s]"
     ]
    },
    {
     "name": "stdout",
     "output_type": "stream",
     "text": [
      "Batch 76 | Accepted: 30/32\n",
      "Batch 77 | Accepted: 32/32\n"
     ]
    },
    {
     "name": "stderr",
     "output_type": "stream",
     "text": [
      " 26%|█████████████████████▋                                                               | 80/313 [00:10<00:27,  8.58it/s]"
     ]
    },
    {
     "name": "stdout",
     "output_type": "stream",
     "text": [
      "Batch 78 | Accepted: 30/32\n",
      "Batch 79 | Accepted: 30/32\n"
     ]
    },
    {
     "name": "stderr",
     "output_type": "stream",
     "text": [
      " 26%|██████████████████████▎                                                              | 82/313 [00:10<00:27,  8.42it/s]"
     ]
    },
    {
     "name": "stdout",
     "output_type": "stream",
     "text": [
      "Batch 80 | Accepted: 29/32\n",
      "Batch 81 | Accepted: 28/32\n"
     ]
    },
    {
     "name": "stderr",
     "output_type": "stream",
     "text": [
      " 27%|██████████████████████▊                                                              | 84/313 [00:10<00:26,  8.71it/s]"
     ]
    },
    {
     "name": "stdout",
     "output_type": "stream",
     "text": [
      "Batch 82 | Accepted: 28/32\n",
      "Batch 83 | Accepted: 29/32\n"
     ]
    },
    {
     "name": "stderr",
     "output_type": "stream",
     "text": [
      " 27%|███████████████████████▎                                                             | 86/313 [00:11<00:25,  9.04it/s]"
     ]
    },
    {
     "name": "stdout",
     "output_type": "stream",
     "text": [
      "Batch 84 | Accepted: 31/32\n",
      "Batch 85 | Accepted: 31/32\n"
     ]
    },
    {
     "name": "stderr",
     "output_type": "stream",
     "text": [
      " 28%|███████████████████████▉                                                             | 88/313 [00:11<00:24,  9.26it/s]"
     ]
    },
    {
     "name": "stdout",
     "output_type": "stream",
     "text": [
      "Batch 86 | Accepted: 30/32\n",
      "Batch 87 | Accepted: 28/32\n"
     ]
    },
    {
     "name": "stderr",
     "output_type": "stream",
     "text": [
      " 29%|████████████████████████▍                                                            | 90/313 [00:11<00:24,  9.14it/s]"
     ]
    },
    {
     "name": "stdout",
     "output_type": "stream",
     "text": [
      "Batch 88 | Accepted: 29/32\n",
      "Batch 89 | Accepted: 32/32\n"
     ]
    },
    {
     "name": "stderr",
     "output_type": "stream",
     "text": [
      " 29%|████████████████████████▉                                                            | 92/313 [00:11<00:23,  9.30it/s]"
     ]
    },
    {
     "name": "stdout",
     "output_type": "stream",
     "text": [
      "Batch 90 | Accepted: 31/32\n",
      "Batch 91 | Accepted: 28/32\n"
     ]
    },
    {
     "name": "stderr",
     "output_type": "stream",
     "text": [
      " 30%|█████████████████████████▌                                                           | 94/313 [00:11<00:23,  9.16it/s]"
     ]
    },
    {
     "name": "stdout",
     "output_type": "stream",
     "text": [
      "Batch 92 | Accepted: 30/32\n",
      "Batch 93 | Accepted: 30/32\n"
     ]
    },
    {
     "name": "stderr",
     "output_type": "stream",
     "text": [
      " 31%|██████████████████████████                                                           | 96/313 [00:12<00:23,  9.19it/s]"
     ]
    },
    {
     "name": "stdout",
     "output_type": "stream",
     "text": [
      "Batch 94 | Accepted: 29/32\n",
      "Batch 95 | Accepted: 32/32\n"
     ]
    },
    {
     "name": "stderr",
     "output_type": "stream",
     "text": [
      " 31%|██████████████████████████▌                                                          | 98/313 [00:12<00:23,  9.08it/s]"
     ]
    },
    {
     "name": "stdout",
     "output_type": "stream",
     "text": [
      "Batch 96 | Accepted: 32/32\n",
      "Batch 97 | Accepted: 27/32\n"
     ]
    },
    {
     "name": "stderr",
     "output_type": "stream",
     "text": [
      " 32%|██████████████████████████▊                                                         | 100/313 [00:12<00:23,  9.00it/s]"
     ]
    },
    {
     "name": "stdout",
     "output_type": "stream",
     "text": [
      "Batch 98 | Accepted: 31/32\n",
      "Batch 99 | Accepted: 31/32\n"
     ]
    },
    {
     "name": "stderr",
     "output_type": "stream",
     "text": [
      " 33%|███████████████████████████▎                                                        | 102/313 [00:12<00:23,  9.13it/s]"
     ]
    },
    {
     "name": "stdout",
     "output_type": "stream",
     "text": [
      "Batch 100 | Accepted: 29/32\n",
      "Batch 101 | Accepted: 31/32\n"
     ]
    },
    {
     "name": "stderr",
     "output_type": "stream",
     "text": [
      " 33%|███████████████████████████▉                                                        | 104/313 [00:13<00:22,  9.24it/s]"
     ]
    },
    {
     "name": "stdout",
     "output_type": "stream",
     "text": [
      "Batch 102 | Accepted: 30/32\n",
      "Batch 103 | Accepted: 32/32\n"
     ]
    },
    {
     "name": "stderr",
     "output_type": "stream",
     "text": [
      " 34%|████████████████████████████▍                                                       | 106/313 [00:13<00:24,  8.39it/s]"
     ]
    },
    {
     "name": "stdout",
     "output_type": "stream",
     "text": [
      "Batch 104 | Accepted: 30/32\n",
      "Batch 105 | Accepted: 30/32\n"
     ]
    },
    {
     "name": "stderr",
     "output_type": "stream",
     "text": [
      " 35%|████████████████████████████▉                                                       | 108/313 [00:13<00:25,  7.99it/s]"
     ]
    },
    {
     "name": "stdout",
     "output_type": "stream",
     "text": [
      "Batch 106 | Accepted: 31/32\n",
      "Batch 107 | Accepted: 29/32\n"
     ]
    },
    {
     "name": "stderr",
     "output_type": "stream",
     "text": [
      " 35%|█████████████████████████████▌                                                      | 110/313 [00:13<00:23,  8.50it/s]"
     ]
    },
    {
     "name": "stdout",
     "output_type": "stream",
     "text": [
      "Batch 108 | Accepted: 31/32\n",
      "Batch 109 | Accepted: 32/32\n"
     ]
    },
    {
     "name": "stderr",
     "output_type": "stream",
     "text": [
      " 36%|██████████████████████████████                                                      | 112/313 [00:13<00:22,  8.89it/s]"
     ]
    },
    {
     "name": "stdout",
     "output_type": "stream",
     "text": [
      "Batch 110 | Accepted: 31/32\n",
      "Batch 111 | Accepted: 31/32\n"
     ]
    },
    {
     "name": "stderr",
     "output_type": "stream",
     "text": [
      " 36%|██████████████████████████████▌                                                     | 114/313 [00:14<00:21,  9.21it/s]"
     ]
    },
    {
     "name": "stdout",
     "output_type": "stream",
     "text": [
      "Batch 112 | Accepted: 31/32\n",
      "Batch 113 | Accepted: 32/32\n"
     ]
    },
    {
     "name": "stderr",
     "output_type": "stream",
     "text": [
      " 37%|███████████████████████████████▏                                                    | 116/313 [00:14<00:21,  9.37it/s]"
     ]
    },
    {
     "name": "stdout",
     "output_type": "stream",
     "text": [
      "Batch 114 | Accepted: 28/32\n",
      "Batch 115 | Accepted: 26/32\n"
     ]
    },
    {
     "name": "stderr",
     "output_type": "stream",
     "text": [
      " 38%|███████████████████████████████▋                                                    | 118/313 [00:14<00:20,  9.46it/s]"
     ]
    },
    {
     "name": "stdout",
     "output_type": "stream",
     "text": [
      "Batch 116 | Accepted: 30/32\n",
      "Batch 117 | Accepted: 28/32\n"
     ]
    },
    {
     "name": "stderr",
     "output_type": "stream",
     "text": [
      " 38%|████████████████████████████████▏                                                   | 120/313 [00:14<00:21,  9.09it/s]"
     ]
    },
    {
     "name": "stdout",
     "output_type": "stream",
     "text": [
      "Batch 118 | Accepted: 29/32\n",
      "Batch 119 | Accepted: 30/32\n"
     ]
    },
    {
     "name": "stderr",
     "output_type": "stream",
     "text": [
      " 39%|████████████████████████████████▋                                                   | 122/313 [00:15<00:20,  9.19it/s]"
     ]
    },
    {
     "name": "stdout",
     "output_type": "stream",
     "text": [
      "Batch 120 | Accepted: 29/32\n",
      "Batch 121 | Accepted: 29/32\n"
     ]
    },
    {
     "name": "stderr",
     "output_type": "stream",
     "text": [
      " 40%|█████████████████████████████████▎                                                  | 124/313 [00:15<00:20,  9.35it/s]"
     ]
    },
    {
     "name": "stdout",
     "output_type": "stream",
     "text": [
      "Batch 122 | Accepted: 29/32\n",
      "Batch 123 | Accepted: 29/32\n"
     ]
    },
    {
     "name": "stderr",
     "output_type": "stream",
     "text": [
      " 40%|█████████████████████████████████▊                                                  | 126/313 [00:15<00:19,  9.50it/s]"
     ]
    },
    {
     "name": "stdout",
     "output_type": "stream",
     "text": [
      "Batch 124 | Accepted: 30/32\n",
      "Batch 125 | Accepted: 32/32\n"
     ]
    },
    {
     "name": "stderr",
     "output_type": "stream",
     "text": [
      " 41%|██████████████████████████████████▎                                                 | 128/313 [00:15<00:19,  9.40it/s]"
     ]
    },
    {
     "name": "stdout",
     "output_type": "stream",
     "text": [
      "Batch 126 | Accepted: 32/32\n",
      "Batch 127 | Accepted: 29/32\n"
     ]
    },
    {
     "name": "stderr",
     "output_type": "stream",
     "text": [
      " 42%|██████████████████████████████████▉                                                 | 130/313 [00:15<00:19,  9.44it/s]"
     ]
    },
    {
     "name": "stdout",
     "output_type": "stream",
     "text": [
      "Batch 128 | Accepted: 31/32\n",
      "Batch 129 | Accepted: 26/32\n"
     ]
    },
    {
     "name": "stderr",
     "output_type": "stream",
     "text": [
      " 42%|███████████████████████████████████▍                                                | 132/313 [00:16<00:19,  9.45it/s]"
     ]
    },
    {
     "name": "stdout",
     "output_type": "stream",
     "text": [
      "Batch 130 | Accepted: 28/32\n",
      "Batch 131 | Accepted: 31/32\n"
     ]
    },
    {
     "name": "stderr",
     "output_type": "stream",
     "text": [
      " 43%|███████████████████████████████████▉                                                | 134/313 [00:16<00:18,  9.48it/s]"
     ]
    },
    {
     "name": "stdout",
     "output_type": "stream",
     "text": [
      "Batch 132 | Accepted: 32/32\n",
      "Batch 133 | Accepted: 30/32\n"
     ]
    },
    {
     "name": "stderr",
     "output_type": "stream",
     "text": [
      " 43%|████████████████████████████████████▍                                               | 136/313 [00:16<00:18,  9.58it/s]"
     ]
    },
    {
     "name": "stdout",
     "output_type": "stream",
     "text": [
      "Batch 134 | Accepted: 29/32\n",
      "Batch 135 | Accepted: 32/32\n"
     ]
    },
    {
     "name": "stderr",
     "output_type": "stream",
     "text": [
      " 44%|█████████████████████████████████████                                               | 138/313 [00:16<00:20,  8.68it/s]"
     ]
    },
    {
     "name": "stdout",
     "output_type": "stream",
     "text": [
      "Batch 136 | Accepted: 31/32\n",
      "Batch 137 | Accepted: 31/32\n"
     ]
    },
    {
     "name": "stderr",
     "output_type": "stream",
     "text": [
      " 45%|█████████████████████████████████████▌                                              | 140/313 [00:16<00:19,  8.91it/s]"
     ]
    },
    {
     "name": "stdout",
     "output_type": "stream",
     "text": [
      "Batch 138 | Accepted: 28/32\n",
      "Batch 139 | Accepted: 31/32\n"
     ]
    },
    {
     "name": "stderr",
     "output_type": "stream",
     "text": [
      " 45%|██████████████████████████████████████                                              | 142/313 [00:17<00:18,  9.00it/s]"
     ]
    },
    {
     "name": "stdout",
     "output_type": "stream",
     "text": [
      "Batch 140 | Accepted: 29/32\n",
      "Batch 141 | Accepted: 30/32\n"
     ]
    },
    {
     "name": "stderr",
     "output_type": "stream",
     "text": [
      " 46%|██████████████████████████████████████▋                                             | 144/313 [00:17<00:18,  8.95it/s]"
     ]
    },
    {
     "name": "stdout",
     "output_type": "stream",
     "text": [
      "Batch 142 | Accepted: 31/32\n",
      "Batch 143 | Accepted: 32/32\n"
     ]
    },
    {
     "name": "stderr",
     "output_type": "stream",
     "text": [
      " 47%|███████████████████████████████████████▏                                            | 146/313 [00:17<00:19,  8.56it/s]"
     ]
    },
    {
     "name": "stdout",
     "output_type": "stream",
     "text": [
      "Batch 144 | Accepted: 30/32\n",
      "Batch 145 | Accepted: 31/32\n"
     ]
    },
    {
     "name": "stderr",
     "output_type": "stream",
     "text": [
      " 47%|███████████████████████████████████████▋                                            | 148/313 [00:17<00:19,  8.54it/s]"
     ]
    },
    {
     "name": "stdout",
     "output_type": "stream",
     "text": [
      "Batch 146 | Accepted: 31/32\n",
      "Batch 147 | Accepted: 30/32\n"
     ]
    },
    {
     "name": "stderr",
     "output_type": "stream",
     "text": [
      " 48%|████████████████████████████████████████▎                                           | 150/313 [00:18<00:18,  8.86it/s]"
     ]
    },
    {
     "name": "stdout",
     "output_type": "stream",
     "text": [
      "Batch 148 | Accepted: 26/32\n",
      "Batch 149 | Accepted: 28/32\n"
     ]
    },
    {
     "name": "stderr",
     "output_type": "stream",
     "text": [
      " 49%|████████████████████████████████████████▊                                           | 152/313 [00:18<00:18,  8.52it/s]"
     ]
    },
    {
     "name": "stdout",
     "output_type": "stream",
     "text": [
      "Batch 150 | Accepted: 30/32\n",
      "Batch 151 | Accepted: 32/32\n"
     ]
    },
    {
     "name": "stderr",
     "output_type": "stream",
     "text": [
      " 49%|█████████████████████████████████████████▎                                          | 154/313 [00:18<00:18,  8.80it/s]"
     ]
    },
    {
     "name": "stdout",
     "output_type": "stream",
     "text": [
      "Batch 152 | Accepted: 29/32\n",
      "Batch 153 | Accepted: 29/32\n"
     ]
    },
    {
     "name": "stderr",
     "output_type": "stream",
     "text": [
      " 50%|█████████████████████████████████████████▊                                          | 156/313 [00:18<00:17,  8.85it/s]"
     ]
    },
    {
     "name": "stdout",
     "output_type": "stream",
     "text": [
      "Batch 154 | Accepted: 31/32\n",
      "Batch 155 | Accepted: 31/32\n"
     ]
    },
    {
     "name": "stderr",
     "output_type": "stream",
     "text": [
      " 50%|██████████████████████████████████████████▍                                         | 158/313 [00:19<00:16,  9.13it/s]"
     ]
    },
    {
     "name": "stdout",
     "output_type": "stream",
     "text": [
      "Batch 156 | Accepted: 31/32\n",
      "Batch 157 | Accepted: 29/32\n"
     ]
    },
    {
     "name": "stderr",
     "output_type": "stream",
     "text": [
      " 51%|██████████████████████████████████████████▉                                         | 160/313 [00:19<00:16,  9.32it/s]"
     ]
    },
    {
     "name": "stdout",
     "output_type": "stream",
     "text": [
      "Batch 158 | Accepted: 32/32\n",
      "Batch 159 | Accepted: 31/32\n"
     ]
    },
    {
     "name": "stderr",
     "output_type": "stream",
     "text": [
      " 52%|███████████████████████████████████████████▍                                        | 162/313 [00:19<00:16,  9.10it/s]"
     ]
    },
    {
     "name": "stdout",
     "output_type": "stream",
     "text": [
      "Batch 160 | Accepted: 31/32\n",
      "Batch 161 | Accepted: 32/32\n"
     ]
    },
    {
     "name": "stderr",
     "output_type": "stream",
     "text": [
      " 52%|████████████████████████████████████████████                                        | 164/313 [00:19<00:17,  8.71it/s]"
     ]
    },
    {
     "name": "stdout",
     "output_type": "stream",
     "text": [
      "Batch 162 | Accepted: 30/32\n",
      "Batch 163 | Accepted: 30/32\n"
     ]
    },
    {
     "name": "stderr",
     "output_type": "stream",
     "text": [
      " 53%|████████████████████████████████████████████▌                                       | 166/313 [00:19<00:16,  8.86it/s]"
     ]
    },
    {
     "name": "stdout",
     "output_type": "stream",
     "text": [
      "Batch 164 | Accepted: 30/32\n",
      "Batch 165 | Accepted: 32/32\n"
     ]
    },
    {
     "name": "stderr",
     "output_type": "stream",
     "text": [
      " 54%|█████████████████████████████████████████████                                       | 168/313 [00:20<00:16,  9.06it/s]"
     ]
    },
    {
     "name": "stdout",
     "output_type": "stream",
     "text": [
      "Batch 166 | Accepted: 29/32\n",
      "Batch 167 | Accepted: 30/32\n"
     ]
    },
    {
     "name": "stderr",
     "output_type": "stream",
     "text": [
      " 54%|█████████████████████████████████████████████▌                                      | 170/313 [00:20<00:15,  9.14it/s]"
     ]
    },
    {
     "name": "stdout",
     "output_type": "stream",
     "text": [
      "Batch 168 | Accepted: 30/32\n",
      "Batch 169 | Accepted: 31/32\n"
     ]
    },
    {
     "name": "stderr",
     "output_type": "stream",
     "text": [
      " 55%|██████████████████████████████████████████████▏                                     | 172/313 [00:20<00:15,  9.08it/s]"
     ]
    },
    {
     "name": "stdout",
     "output_type": "stream",
     "text": [
      "Batch 170 | Accepted: 31/32\n",
      "Batch 171 | Accepted: 29/32\n"
     ]
    },
    {
     "name": "stderr",
     "output_type": "stream",
     "text": [
      " 56%|██████████████████████████████████████████████▋                                     | 174/313 [00:20<00:15,  9.13it/s]"
     ]
    },
    {
     "name": "stdout",
     "output_type": "stream",
     "text": [
      "Batch 172 | Accepted: 29/32\n",
      "Batch 173 | Accepted: 31/32\n"
     ]
    },
    {
     "name": "stderr",
     "output_type": "stream",
     "text": [
      " 56%|███████████████████████████████████████████████▏                                    | 176/313 [00:21<00:14,  9.27it/s]"
     ]
    },
    {
     "name": "stdout",
     "output_type": "stream",
     "text": [
      "Batch 174 | Accepted: 32/32\n",
      "Batch 175 | Accepted: 30/32\n"
     ]
    },
    {
     "name": "stderr",
     "output_type": "stream",
     "text": [
      " 57%|███████████████████████████████████████████████▊                                    | 178/313 [00:21<00:15,  8.84it/s]"
     ]
    },
    {
     "name": "stdout",
     "output_type": "stream",
     "text": [
      "Batch 176 | Accepted: 31/32\n",
      "Batch 177 | Accepted: 29/32\n"
     ]
    },
    {
     "name": "stderr",
     "output_type": "stream",
     "text": [
      " 58%|████████████████████████████████████████████████▎                                   | 180/313 [00:21<00:14,  9.13it/s]"
     ]
    },
    {
     "name": "stdout",
     "output_type": "stream",
     "text": [
      "Batch 178 | Accepted: 31/32\n",
      "Batch 179 | Accepted: 31/32\n"
     ]
    },
    {
     "name": "stderr",
     "output_type": "stream",
     "text": [
      " 58%|████████████████████████████████████████████████▊                                   | 182/313 [00:21<00:14,  9.26it/s]"
     ]
    },
    {
     "name": "stdout",
     "output_type": "stream",
     "text": [
      "Batch 180 | Accepted: 31/32\n",
      "Batch 181 | Accepted: 30/32\n"
     ]
    },
    {
     "name": "stderr",
     "output_type": "stream",
     "text": [
      " 59%|█████████████████████████████████████████████████▍                                  | 184/313 [00:21<00:14,  9.14it/s]"
     ]
    },
    {
     "name": "stdout",
     "output_type": "stream",
     "text": [
      "Batch 182 | Accepted: 32/32\n",
      "Batch 183 | Accepted: 28/32\n"
     ]
    },
    {
     "name": "stderr",
     "output_type": "stream",
     "text": [
      " 59%|█████████████████████████████████████████████████▉                                  | 186/313 [00:22<00:14,  9.06it/s]"
     ]
    },
    {
     "name": "stdout",
     "output_type": "stream",
     "text": [
      "Batch 184 | Accepted: 31/32\n",
      "Batch 185 | Accepted: 25/32\n"
     ]
    },
    {
     "name": "stderr",
     "output_type": "stream",
     "text": [
      " 60%|██████████████████████████████████████████████████▍                                 | 188/313 [00:22<00:13,  9.19it/s]"
     ]
    },
    {
     "name": "stdout",
     "output_type": "stream",
     "text": [
      "Batch 186 | Accepted: 29/32\n",
      "Batch 187 | Accepted: 31/32\n"
     ]
    },
    {
     "name": "stderr",
     "output_type": "stream",
     "text": [
      " 61%|██████████████████████████████████████████████████▉                                 | 190/313 [00:22<00:13,  9.29it/s]"
     ]
    },
    {
     "name": "stdout",
     "output_type": "stream",
     "text": [
      "Batch 188 | Accepted: 29/32\n",
      "Batch 189 | Accepted: 31/32\n"
     ]
    },
    {
     "name": "stderr",
     "output_type": "stream",
     "text": [
      " 61%|███████████████████████████████████████████████████▌                                | 192/313 [00:22<00:13,  9.28it/s]"
     ]
    },
    {
     "name": "stdout",
     "output_type": "stream",
     "text": [
      "Batch 190 | Accepted: 30/32\n",
      "Batch 191 | Accepted: 30/32\n"
     ]
    },
    {
     "name": "stderr",
     "output_type": "stream",
     "text": [
      " 62%|████████████████████████████████████████████████████                                | 194/313 [00:23<00:12,  9.29it/s]"
     ]
    },
    {
     "name": "stdout",
     "output_type": "stream",
     "text": [
      "Batch 192 | Accepted: 29/32\n",
      "Batch 193 | Accepted: 30/32\n"
     ]
    },
    {
     "name": "stderr",
     "output_type": "stream",
     "text": [
      " 63%|████████████████████████████████████████████████████▌                               | 196/313 [00:23<00:12,  9.31it/s]"
     ]
    },
    {
     "name": "stdout",
     "output_type": "stream",
     "text": [
      "Batch 194 | Accepted: 30/32\n",
      "Batch 195 | Accepted: 32/32\n"
     ]
    },
    {
     "name": "stderr",
     "output_type": "stream",
     "text": [
      " 63%|█████████████████████████████████████████████████████▏                              | 198/313 [00:23<00:13,  8.25it/s]"
     ]
    },
    {
     "name": "stdout",
     "output_type": "stream",
     "text": [
      "Batch 196 | Accepted: 31/32\n",
      "Batch 197 | Accepted: 31/32\n"
     ]
    },
    {
     "name": "stderr",
     "output_type": "stream",
     "text": [
      " 64%|█████████████████████████████████████████████████████▋                              | 200/313 [00:23<00:13,  8.33it/s]"
     ]
    },
    {
     "name": "stdout",
     "output_type": "stream",
     "text": [
      "Batch 198 | Accepted: 32/32\n",
      "Batch 199 | Accepted: 31/32\n"
     ]
    },
    {
     "name": "stderr",
     "output_type": "stream",
     "text": [
      " 65%|██████████████████████████████████████████████████████▏                             | 202/313 [00:23<00:12,  8.78it/s]"
     ]
    },
    {
     "name": "stdout",
     "output_type": "stream",
     "text": [
      "Batch 200 | Accepted: 29/32\n",
      "Batch 201 | Accepted: 31/32\n"
     ]
    },
    {
     "name": "stderr",
     "output_type": "stream",
     "text": [
      " 65%|██████████████████████████████████████████████████████▋                             | 204/313 [00:24<00:11,  9.10it/s]"
     ]
    },
    {
     "name": "stdout",
     "output_type": "stream",
     "text": [
      "Batch 202 | Accepted: 30/32\n",
      "Batch 203 | Accepted: 31/32\n"
     ]
    },
    {
     "name": "stderr",
     "output_type": "stream",
     "text": [
      " 66%|███████████████████████████████████████████████████████▎                            | 206/313 [00:24<00:11,  9.24it/s]"
     ]
    },
    {
     "name": "stdout",
     "output_type": "stream",
     "text": [
      "Batch 204 | Accepted: 28/32\n",
      "Batch 205 | Accepted: 27/32\n"
     ]
    },
    {
     "name": "stderr",
     "output_type": "stream",
     "text": [
      " 66%|███████████████████████████████████████████████████████▊                            | 208/313 [00:24<00:11,  9.23it/s]"
     ]
    },
    {
     "name": "stdout",
     "output_type": "stream",
     "text": [
      "Batch 206 | Accepted: 32/32\n",
      "Batch 207 | Accepted: 31/32\n"
     ]
    },
    {
     "name": "stderr",
     "output_type": "stream",
     "text": [
      " 67%|████████████████████████████████████████████████████████▎                           | 210/313 [00:24<00:11,  9.14it/s]"
     ]
    },
    {
     "name": "stdout",
     "output_type": "stream",
     "text": [
      "Batch 208 | Accepted: 29/32\n",
      "Batch 209 | Accepted: 30/32\n"
     ]
    },
    {
     "name": "stderr",
     "output_type": "stream",
     "text": [
      " 68%|████████████████████████████████████████████████████████▉                           | 212/313 [00:25<00:11,  9.07it/s]"
     ]
    },
    {
     "name": "stdout",
     "output_type": "stream",
     "text": [
      "Batch 210 | Accepted: 29/32\n",
      "Batch 211 | Accepted: 29/32\n"
     ]
    },
    {
     "name": "stderr",
     "output_type": "stream",
     "text": [
      " 68%|█████████████████████████████████████████████████████████▍                          | 214/313 [00:25<00:10,  9.06it/s]"
     ]
    },
    {
     "name": "stdout",
     "output_type": "stream",
     "text": [
      "Batch 212 | Accepted: 29/32\n",
      "Batch 213 | Accepted: 31/32\n"
     ]
    },
    {
     "name": "stderr",
     "output_type": "stream",
     "text": [
      " 69%|█████████████████████████████████████████████████████████▉                          | 216/313 [00:25<00:10,  9.27it/s]"
     ]
    },
    {
     "name": "stdout",
     "output_type": "stream",
     "text": [
      "Batch 214 | Accepted: 31/32\n",
      "Batch 215 | Accepted: 30/32\n"
     ]
    },
    {
     "name": "stderr",
     "output_type": "stream",
     "text": [
      " 70%|██████████████████████████████████████████████████████████▌                         | 218/313 [00:25<00:10,  8.93it/s]"
     ]
    },
    {
     "name": "stdout",
     "output_type": "stream",
     "text": [
      "Batch 216 | Accepted: 29/32\n",
      "Batch 217 | Accepted: 31/32\n"
     ]
    },
    {
     "name": "stderr",
     "output_type": "stream",
     "text": [
      " 70%|███████████████████████████████████████████████████████████                         | 220/313 [00:25<00:12,  7.72it/s]"
     ]
    },
    {
     "name": "stdout",
     "output_type": "stream",
     "text": [
      "Batch 218 | Accepted: 31/32\n",
      "Batch 219 | Accepted: 29/32\n"
     ]
    },
    {
     "name": "stderr",
     "output_type": "stream",
     "text": [
      " 71%|███████████████████████████████████████████████████████████▌                        | 222/313 [00:26<00:11,  8.23it/s]"
     ]
    },
    {
     "name": "stdout",
     "output_type": "stream",
     "text": [
      "Batch 220 | Accepted: 28/32\n",
      "Batch 221 | Accepted: 31/32\n"
     ]
    },
    {
     "name": "stderr",
     "output_type": "stream",
     "text": [
      " 72%|████████████████████████████████████████████████████████████                        | 224/313 [00:26<00:10,  8.76it/s]"
     ]
    },
    {
     "name": "stdout",
     "output_type": "stream",
     "text": [
      "Batch 222 | Accepted: 30/32\n",
      "Batch 223 | Accepted: 31/32\n"
     ]
    },
    {
     "name": "stderr",
     "output_type": "stream",
     "text": [
      " 72%|████████████████████████████████████████████████████████████▋                       | 226/313 [00:26<00:09,  9.08it/s]"
     ]
    },
    {
     "name": "stdout",
     "output_type": "stream",
     "text": [
      "Batch 224 | Accepted: 30/32\n",
      "Batch 225 | Accepted: 29/32\n"
     ]
    },
    {
     "name": "stderr",
     "output_type": "stream",
     "text": [
      " 73%|█████████████████████████████████████████████████████████████▏                      | 228/313 [00:26<00:09,  9.10it/s]"
     ]
    },
    {
     "name": "stdout",
     "output_type": "stream",
     "text": [
      "Batch 226 | Accepted: 32/32\n",
      "Batch 227 | Accepted: 31/32\n"
     ]
    },
    {
     "name": "stderr",
     "output_type": "stream",
     "text": [
      " 73%|█████████████████████████████████████████████████████████████▋                      | 230/313 [00:27<00:08,  9.28it/s]"
     ]
    },
    {
     "name": "stdout",
     "output_type": "stream",
     "text": [
      "Batch 228 | Accepted: 32/32\n",
      "Batch 229 | Accepted: 32/32\n"
     ]
    },
    {
     "name": "stderr",
     "output_type": "stream",
     "text": [
      " 74%|██████████████████████████████████████████████████████████████▎                     | 232/313 [00:27<00:08,  9.21it/s]"
     ]
    },
    {
     "name": "stdout",
     "output_type": "stream",
     "text": [
      "Batch 230 | Accepted: 32/32\n",
      "Batch 231 | Accepted: 29/32\n"
     ]
    },
    {
     "name": "stderr",
     "output_type": "stream",
     "text": [
      " 75%|██████████████████████████████████████████████████████████████▊                     | 234/313 [00:27<00:08,  9.35it/s]"
     ]
    },
    {
     "name": "stdout",
     "output_type": "stream",
     "text": [
      "Batch 232 | Accepted: 30/32\n",
      "Batch 233 | Accepted: 30/32\n"
     ]
    },
    {
     "name": "stderr",
     "output_type": "stream",
     "text": [
      " 75%|███████████████████████████████████████████████████████████████▎                    | 236/313 [00:27<00:09,  8.35it/s]"
     ]
    },
    {
     "name": "stdout",
     "output_type": "stream",
     "text": [
      "Batch 234 | Accepted: 28/32\n",
      "Batch 235 | Accepted: 31/32\n"
     ]
    },
    {
     "name": "stderr",
     "output_type": "stream",
     "text": [
      " 76%|███████████████████████████████████████████████████████████████▊                    | 238/313 [00:27<00:08,  8.74it/s]"
     ]
    },
    {
     "name": "stdout",
     "output_type": "stream",
     "text": [
      "Batch 236 | Accepted: 27/32\n",
      "Batch 237 | Accepted: 28/32\n"
     ]
    },
    {
     "name": "stderr",
     "output_type": "stream",
     "text": [
      " 77%|████████████████████████████████████████████████████████████████▍                   | 240/313 [00:28<00:08,  8.97it/s]"
     ]
    },
    {
     "name": "stdout",
     "output_type": "stream",
     "text": [
      "Batch 238 | Accepted: 31/32\n",
      "Batch 239 | Accepted: 31/32\n"
     ]
    },
    {
     "name": "stderr",
     "output_type": "stream",
     "text": [
      " 77%|████████████████████████████████████████████████████████████████▉                   | 242/313 [00:28<00:07,  8.99it/s]"
     ]
    },
    {
     "name": "stdout",
     "output_type": "stream",
     "text": [
      "Batch 240 | Accepted: 29/32\n",
      "Batch 241 | Accepted: 30/32\n"
     ]
    },
    {
     "name": "stderr",
     "output_type": "stream",
     "text": [
      " 78%|█████████████████████████████████████████████████████████████████▍                  | 244/313 [00:28<00:07,  9.22it/s]"
     ]
    },
    {
     "name": "stdout",
     "output_type": "stream",
     "text": [
      "Batch 242 | Accepted: 29/32\n",
      "Batch 243 | Accepted: 26/32\n"
     ]
    },
    {
     "name": "stderr",
     "output_type": "stream",
     "text": [
      " 79%|██████████████████████████████████████████████████████████████████                  | 246/313 [00:28<00:07,  9.31it/s]"
     ]
    },
    {
     "name": "stdout",
     "output_type": "stream",
     "text": [
      "Batch 244 | Accepted: 29/32\n",
      "Batch 245 | Accepted: 32/32\n"
     ]
    },
    {
     "name": "stderr",
     "output_type": "stream",
     "text": [
      " 79%|██████████████████████████████████████████████████████████████████▌                 | 248/313 [00:29<00:06,  9.37it/s]"
     ]
    },
    {
     "name": "stdout",
     "output_type": "stream",
     "text": [
      "Batch 246 | Accepted: 32/32\n",
      "Batch 247 | Accepted: 31/32\n"
     ]
    },
    {
     "name": "stderr",
     "output_type": "stream",
     "text": [
      " 80%|███████████████████████████████████████████████████████████████████                 | 250/313 [00:29<00:06,  9.06it/s]"
     ]
    },
    {
     "name": "stdout",
     "output_type": "stream",
     "text": [
      "Batch 248 | Accepted: 30/32\n",
      "Batch 249 | Accepted: 31/32\n"
     ]
    },
    {
     "name": "stderr",
     "output_type": "stream",
     "text": [
      " 81%|███████████████████████████████████████████████████████████████████▋                | 252/313 [00:29<00:06,  9.13it/s]"
     ]
    },
    {
     "name": "stdout",
     "output_type": "stream",
     "text": [
      "Batch 250 | Accepted: 29/32\n",
      "Batch 251 | Accepted: 31/32\n"
     ]
    },
    {
     "name": "stderr",
     "output_type": "stream",
     "text": [
      " 81%|████████████████████████████████████████████████████████████████████▏               | 254/313 [00:29<00:06,  9.25it/s]"
     ]
    },
    {
     "name": "stdout",
     "output_type": "stream",
     "text": [
      "Batch 252 | Accepted: 29/32\n",
      "Batch 253 | Accepted: 27/32\n"
     ]
    },
    {
     "name": "stderr",
     "output_type": "stream",
     "text": [
      " 82%|████████████████████████████████████████████████████████████████████▋               | 256/313 [00:29<00:06,  9.41it/s]"
     ]
    },
    {
     "name": "stdout",
     "output_type": "stream",
     "text": [
      "Batch 254 | Accepted: 31/32\n",
      "Batch 255 | Accepted: 31/32\n"
     ]
    },
    {
     "name": "stderr",
     "output_type": "stream",
     "text": [
      " 82%|█████████████████████████████████████████████████████████████████████▏              | 258/313 [00:30<00:05,  9.28it/s]"
     ]
    },
    {
     "name": "stdout",
     "output_type": "stream",
     "text": [
      "Batch 256 | Accepted: 29/32\n",
      "Batch 257 | Accepted: 28/32\n"
     ]
    },
    {
     "name": "stderr",
     "output_type": "stream",
     "text": [
      " 83%|█████████████████████████████████████████████████████████████████████▊              | 260/313 [00:30<00:05,  9.33it/s]"
     ]
    },
    {
     "name": "stdout",
     "output_type": "stream",
     "text": [
      "Batch 258 | Accepted: 30/32\n",
      "Batch 259 | Accepted: 29/32\n"
     ]
    },
    {
     "name": "stderr",
     "output_type": "stream",
     "text": [
      " 84%|██████████████████████████████████████████████████████████████████████▎             | 262/313 [00:30<00:05,  9.37it/s]"
     ]
    },
    {
     "name": "stdout",
     "output_type": "stream",
     "text": [
      "Batch 260 | Accepted: 31/32\n",
      "Batch 261 | Accepted: 32/32\n"
     ]
    },
    {
     "name": "stderr",
     "output_type": "stream",
     "text": [
      " 84%|██████████████████████████████████████████████████████████████████████▊             | 264/313 [00:30<00:05,  9.40it/s]"
     ]
    },
    {
     "name": "stdout",
     "output_type": "stream",
     "text": [
      "Batch 262 | Accepted: 30/32\n",
      "Batch 263 | Accepted: 28/32\n"
     ]
    },
    {
     "name": "stderr",
     "output_type": "stream",
     "text": [
      " 85%|███████████████████████████████████████████████████████████████████████▍            | 266/313 [00:30<00:05,  9.31it/s]"
     ]
    },
    {
     "name": "stdout",
     "output_type": "stream",
     "text": [
      "Batch 264 | Accepted: 31/32\n",
      "Batch 265 | Accepted: 31/32\n"
     ]
    },
    {
     "name": "stderr",
     "output_type": "stream",
     "text": [
      " 86%|███████████████████████████████████████████████████████████████████████▉            | 268/313 [00:31<00:04,  9.33it/s]"
     ]
    },
    {
     "name": "stdout",
     "output_type": "stream",
     "text": [
      "Batch 266 | Accepted: 29/32\n",
      "Batch 267 | Accepted: 31/32\n"
     ]
    },
    {
     "name": "stderr",
     "output_type": "stream",
     "text": [
      " 86%|████████████████████████████████████████████████████████████████████████▍           | 270/313 [00:31<00:04,  8.98it/s]"
     ]
    },
    {
     "name": "stdout",
     "output_type": "stream",
     "text": [
      "Batch 268 | Accepted: 31/32\n",
      "Batch 269 | Accepted: 32/32\n"
     ]
    },
    {
     "name": "stderr",
     "output_type": "stream",
     "text": [
      " 87%|████████████████████████████████████████████████████████████████████████▉           | 272/313 [00:31<00:04,  9.20it/s]"
     ]
    },
    {
     "name": "stdout",
     "output_type": "stream",
     "text": [
      "Batch 270 | Accepted: 31/32\n",
      "Batch 271 | Accepted: 31/32\n"
     ]
    },
    {
     "name": "stderr",
     "output_type": "stream",
     "text": [
      " 88%|█████████████████████████████████████████████████████████████████████████▌          | 274/313 [00:31<00:04,  9.27it/s]"
     ]
    },
    {
     "name": "stdout",
     "output_type": "stream",
     "text": [
      "Batch 272 | Accepted: 30/32\n",
      "Batch 273 | Accepted: 31/32\n"
     ]
    },
    {
     "name": "stderr",
     "output_type": "stream",
     "text": [
      " 88%|██████████████████████████████████████████████████████████████████████████          | 276/313 [00:32<00:03,  9.31it/s]"
     ]
    },
    {
     "name": "stdout",
     "output_type": "stream",
     "text": [
      "Batch 274 | Accepted: 31/32\n",
      "Batch 275 | Accepted: 27/32\n"
     ]
    },
    {
     "name": "stderr",
     "output_type": "stream",
     "text": [
      " 89%|██████████████████████████████████████████████████████████████████████████▌         | 278/313 [00:32<00:03,  9.18it/s]"
     ]
    },
    {
     "name": "stdout",
     "output_type": "stream",
     "text": [
      "Batch 276 | Accepted: 29/32\n",
      "Batch 277 | Accepted: 27/32\n"
     ]
    },
    {
     "name": "stderr",
     "output_type": "stream",
     "text": [
      " 89%|███████████████████████████████████████████████████████████████████████████▏        | 280/313 [00:32<00:03,  8.77it/s]"
     ]
    },
    {
     "name": "stdout",
     "output_type": "stream",
     "text": [
      "Batch 278 | Accepted: 29/32\n",
      "Batch 279 | Accepted: 31/32\n"
     ]
    },
    {
     "name": "stderr",
     "output_type": "stream",
     "text": [
      " 90%|███████████████████████████████████████████████████████████████████████████▋        | 282/313 [00:32<00:03,  9.08it/s]"
     ]
    },
    {
     "name": "stdout",
     "output_type": "stream",
     "text": [
      "Batch 280 | Accepted: 30/32\n",
      "Batch 281 | Accepted: 29/32\n"
     ]
    },
    {
     "name": "stderr",
     "output_type": "stream",
     "text": [
      " 91%|████████████████████████████████████████████████████████████████████████████▏       | 284/313 [00:32<00:03,  9.07it/s]"
     ]
    },
    {
     "name": "stdout",
     "output_type": "stream",
     "text": [
      "Batch 282 | Accepted: 29/32\n",
      "Batch 283 | Accepted: 29/32\n"
     ]
    },
    {
     "name": "stderr",
     "output_type": "stream",
     "text": [
      " 91%|████████████████████████████████████████████████████████████████████████████▊       | 286/313 [00:33<00:02,  9.13it/s]"
     ]
    },
    {
     "name": "stdout",
     "output_type": "stream",
     "text": [
      "Batch 284 | Accepted: 32/32\n",
      "Batch 285 | Accepted: 30/32\n"
     ]
    },
    {
     "name": "stderr",
     "output_type": "stream",
     "text": [
      " 92%|█████████████████████████████████████████████████████████████████████████████▎      | 288/313 [00:33<00:02,  8.54it/s]"
     ]
    },
    {
     "name": "stdout",
     "output_type": "stream",
     "text": [
      "Batch 286 | Accepted: 31/32\n",
      "Batch 287 | Accepted: 32/32\n"
     ]
    },
    {
     "name": "stderr",
     "output_type": "stream",
     "text": [
      " 93%|█████████████████████████████████████████████████████████████████████████████▊      | 290/313 [00:33<00:02,  8.75it/s]"
     ]
    },
    {
     "name": "stdout",
     "output_type": "stream",
     "text": [
      "Batch 288 | Accepted: 30/32\n",
      "Batch 289 | Accepted: 29/32\n"
     ]
    },
    {
     "name": "stderr",
     "output_type": "stream",
     "text": [
      " 93%|██████████████████████████████████████████████████████████████████████████████▎     | 292/313 [00:33<00:02,  8.92it/s]"
     ]
    },
    {
     "name": "stdout",
     "output_type": "stream",
     "text": [
      "Batch 290 | Accepted: 32/32\n",
      "Batch 291 | Accepted: 31/32\n"
     ]
    },
    {
     "name": "stderr",
     "output_type": "stream",
     "text": [
      " 94%|██████████████████████████████████████████████████████████████████████████████▉     | 294/313 [00:34<00:02,  9.08it/s]"
     ]
    },
    {
     "name": "stdout",
     "output_type": "stream",
     "text": [
      "Batch 292 | Accepted: 31/32\n",
      "Batch 293 | Accepted: 30/32\n"
     ]
    },
    {
     "name": "stderr",
     "output_type": "stream",
     "text": [
      " 95%|███████████████████████████████████████████████████████████████████████████████▍    | 296/313 [00:34<00:01,  9.07it/s]"
     ]
    },
    {
     "name": "stdout",
     "output_type": "stream",
     "text": [
      "Batch 294 | Accepted: 30/32\n",
      "Batch 295 | Accepted: 31/32\n"
     ]
    },
    {
     "name": "stderr",
     "output_type": "stream",
     "text": [
      " 95%|███████████████████████████████████████████████████████████████████████████████▉    | 298/313 [00:34<00:01,  9.26it/s]"
     ]
    },
    {
     "name": "stdout",
     "output_type": "stream",
     "text": [
      "Batch 296 | Accepted: 29/32\n",
      "Batch 297 | Accepted: 27/32\n"
     ]
    },
    {
     "name": "stderr",
     "output_type": "stream",
     "text": [
      " 96%|████████████████████████████████████████████████████████████████████████████████▌   | 300/313 [00:34<00:01,  9.29it/s]"
     ]
    },
    {
     "name": "stdout",
     "output_type": "stream",
     "text": [
      "Batch 298 | Accepted: 28/32\n",
      "Batch 299 | Accepted: 32/32\n"
     ]
    },
    {
     "name": "stderr",
     "output_type": "stream",
     "text": [
      " 96%|█████████████████████████████████████████████████████████████████████████████████   | 302/313 [00:34<00:01,  9.40it/s]"
     ]
    },
    {
     "name": "stdout",
     "output_type": "stream",
     "text": [
      "Batch 300 | Accepted: 30/32\n",
      "Batch 301 | Accepted: 25/32\n"
     ]
    },
    {
     "name": "stderr",
     "output_type": "stream",
     "text": [
      " 97%|█████████████████████████████████████████████████████████████████████████████████▌  | 304/313 [00:35<00:00,  9.38it/s]"
     ]
    },
    {
     "name": "stdout",
     "output_type": "stream",
     "text": [
      "Batch 302 | Accepted: 30/32\n",
      "Batch 303 | Accepted: 30/32\n"
     ]
    },
    {
     "name": "stderr",
     "output_type": "stream",
     "text": [
      " 98%|██████████████████████████████████████████████████████████████████████████████████  | 306/313 [00:35<00:00,  9.22it/s]"
     ]
    },
    {
     "name": "stdout",
     "output_type": "stream",
     "text": [
      "Batch 304 | Accepted: 29/32\n",
      "Batch 305 | Accepted: 29/32\n"
     ]
    },
    {
     "name": "stderr",
     "output_type": "stream",
     "text": [
      " 98%|██████████████████████████████████████████████████████████████████████████████████▋ | 308/313 [00:35<00:00,  9.30it/s]"
     ]
    },
    {
     "name": "stdout",
     "output_type": "stream",
     "text": [
      "Batch 306 | Accepted: 32/32\n",
      "Batch 307 | Accepted: 30/32\n"
     ]
    },
    {
     "name": "stderr",
     "output_type": "stream",
     "text": [
      " 99%|███████████████████████████████████████████████████████████████████████████████████▏| 310/313 [00:35<00:00,  9.22it/s]"
     ]
    },
    {
     "name": "stdout",
     "output_type": "stream",
     "text": [
      "Batch 308 | Accepted: 30/32\n",
      "Batch 309 | Accepted: 30/32\n"
     ]
    },
    {
     "name": "stderr",
     "output_type": "stream",
     "text": [
      "100%|███████████████████████████████████████████████████████████████████████████████████▋| 312/313 [00:36<00:00,  8.22it/s]"
     ]
    },
    {
     "name": "stdout",
     "output_type": "stream",
     "text": [
      "Batch 310 | Accepted: 31/32\n",
      "Batch 311 | Accepted: 29/32\n"
     ]
    },
    {
     "name": "stderr",
     "output_type": "stream",
     "text": [
      "100%|████████████████████████████████████████████████████████████████████████████████████| 313/313 [00:36<00:00,  8.66it/s]"
     ]
    },
    {
     "name": "stdout",
     "output_type": "stream",
     "text": [
      "Batch 312 | Accepted: 15/16\n",
      "\n",
      "Overall Acceptance Rate: 93.89%\n",
      "Accuracy among Accepted Samples: 9.85%\n",
      "Weighted Vote Accuracy among accepted samples: 9.85%\n",
      "Overall Acceptance Rate: 93.89%\n"
     ]
    },
    {
     "name": "stderr",
     "output_type": "stream",
     "text": [
      "\n"
     ]
    }
   ],
   "source": [
    "weights = [0.5, 0.25, 0.25, 0.25]\n",
    "\n",
    "acc_weighted, acceptance_rate = test_with_weighted_vote(AlexNet, testloader, transformations, weights, device)\n",
    "print(f\"Weighted Vote Accuracy among accepted samples: {acc_weighted:.2f}%\")\n",
    "print(f\"Overall Acceptance Rate: {acceptance_rate:.2f}%\")"
   ]
  },
  {
   "cell_type": "code",
   "execution_count": null,
   "id": "62b131a3-3a60-42e5-a5cc-bd2d5752bf8f",
   "metadata": {},
   "outputs": [],
   "source": []
  }
 ],
 "metadata": {
  "kernelspec": {
   "display_name": "Python 3 (ipykernel)",
   "language": "python",
   "name": "python3"
  },
  "language_info": {
   "codemirror_mode": {
    "name": "ipython",
    "version": 3
   },
   "file_extension": ".py",
   "mimetype": "text/x-python",
   "name": "python",
   "nbconvert_exporter": "python",
   "pygments_lexer": "ipython3",
   "version": "3.8.10"
  }
 },
 "nbformat": 4,
 "nbformat_minor": 5
}
